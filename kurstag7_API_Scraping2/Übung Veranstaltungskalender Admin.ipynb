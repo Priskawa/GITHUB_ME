{
 "cells": [
  {
   "cell_type": "code",
   "execution_count": 2,
   "metadata": {},
   "outputs": [],
   "source": [
    "import requests\n",
    "from bs4 import BeautifulSoup\n",
    "import pandas as pd\n"
   ]
  },
  {
   "cell_type": "code",
   "execution_count": 50,
   "metadata": {},
   "outputs": [],
   "source": [
    "url = \"https://www.admin.ch/gov/de/start/dokumentation/veranstaltungen.event-id-6000.html\"\n",
    "r = requests.get(url)\n",
    "soup = BeautifulSoup(r.text, \"html.parser\")"
   ]
  },
  {
   "cell_type": "code",
   "execution_count": 51,
   "metadata": {},
   "outputs": [
    {
     "data": {
      "text/plain": [
       "'Hotel Bellevue Palace, Salon RougeKochergasse 3-5 3011 Bern'"
      ]
     },
     "execution_count": 51,
     "metadata": {},
     "output_type": "execute_result"
    }
   ],
   "source": [
    "soup.find_all('td', {'class': \"\"})[0].text.replace('\\t','').replace('\\xa0',' ').replace('\\n',' ').strip()\n",
    "\n",
    "#Hier ist der Veranstaltungsort"
   ]
  },
  {
   "cell_type": "code",
   "execution_count": 52,
   "metadata": {},
   "outputs": [
    {
     "data": {
      "text/plain": [
       "'Fr 19.02.2016 09:30 - 11:00'"
      ]
     },
     "execution_count": 52,
     "metadata": {},
     "output_type": "execute_result"
    }
   ],
   "source": [
    "soup.find_all('td', {'class': \"\"})[1].text.replace('\\t','').replace('\\xa0',' ').replace('\\n',' ').strip()  \n",
    "#Hier ist das Veranstaltungsdatum"
   ]
  },
  {
   "cell_type": "code",
   "execution_count": 53,
   "metadata": {},
   "outputs": [
    {
     "data": {
      "text/plain": [
       "'Medien-HintergrundgesprächAm 4. September 2013 hatte der Bundesrat die Botschaft zum ersten Massnahmenpaket der Energiestrategie 2050 verabschiedet und dem Parlament zur Beratung überwiesen. In der Wintersession 2014 befasste sich der Nationalrat, im Herbst 2015 der Ständerat mit dem Dossier. In der bevorstehenden Frühlingssession 2016 wird der Nationalrat die Differenzbereinigung aufnehmen.Das Bundesamt für Energie (BFE) nimmt dies zum Anlass, in einem Medien-Hintergrundgespräch die wesentlichen Themen, Diskussionsfelder und Knackpunkte der Energiestrategie 2050 darzulegen und Fragen zu beantworten.• Kurze Rekapitulation der wichtigsten Inhalte der ES 2050 gemäss Botschaft• Wichtigste Punkte, denen NR und SR bereits einvernehmlich zugestimmt haben• Wichtigste Änderungen gegenüber Botschaft• Bestehende Differenzen vor NR-Debatte in Frühlingssession• Zeitplan und anstehende VolksinitiativenGesprächspartner:• Walter Steinmann, Direktor BFE• Pascal Previdoli, Stellvertretender Direktor BFE• Weitere Expert/innen des BFE(Kaffee und Croissants ab 09:00 Uhr)'"
      ]
     },
     "execution_count": 53,
     "metadata": {},
     "output_type": "execute_result"
    }
   ],
   "source": [
    "soup.find_all('td', {'class': \"\"})[2].text.replace('\\t','').replace('\\xa0',' ').replace('\\n',' ').strip()\n",
    "#Hier ist der VeranstaltungsBESCHRIEB"
   ]
  },
  {
   "cell_type": "code",
   "execution_count": 56,
   "metadata": {},
   "outputs": [],
   "source": [
    "ort = soup.find_all('td', {'class': \"\"})[0].text.replace('\\t','').replace('\\xa0',' ').replace('\\n',' ').strip()\n",
    "\n",
    "zeit = soup.find_all('td', {'class': \"\"})[1].text.replace('\\t','').replace('\\xa0',' ').replace('\\n',' ').strip()\n",
    "\n",
    "beschrieb = soup.find_all('td', {'class': \"\"})[2].text.replace('\\t','').replace('\\xa0',' ').replace('\\n',' ').strip()\n",
    "\n",
    "ids =  list(range(6000,6020))\n",
    "\n",
    "url = \"https://www.admin.ch/gov/de/start/dokumentation/veranstaltungen.event-id-\"\n"
   ]
  },
  {
   "cell_type": "code",
   "execution_count": 1,
   "metadata": {},
   "outputs": [
    {
     "ename": "NameError",
     "evalue": "name 'ids' is not defined",
     "output_type": "error",
     "traceback": [
      "\u001b[0;31m---------------------------------------------------------------------------\u001b[0m",
      "\u001b[0;31mNameError\u001b[0m                                 Traceback (most recent call last)",
      "\u001b[0;32m<ipython-input-1-cba0e797fccb>\u001b[0m in \u001b[0;36m<module>\u001b[0;34m()\u001b[0m\n\u001b[1;32m      1\u001b[0m \u001b[0malleids\u001b[0m \u001b[0;34m=\u001b[0m \u001b[0;34m[\u001b[0m\u001b[0;34m]\u001b[0m\u001b[0;34m\u001b[0m\u001b[0m\n\u001b[0;32m----> 2\u001b[0;31m \u001b[0;32mfor\u001b[0m \u001b[0mwert\u001b[0m \u001b[0;32min\u001b[0m \u001b[0mids\u001b[0m\u001b[0;34m:\u001b[0m\u001b[0;34m\u001b[0m\u001b[0m\n\u001b[0m\u001b[1;32m      3\u001b[0m     \u001b[0murl\u001b[0m \u001b[0;34m=\u001b[0m \u001b[0;34m\"https://www.admin.ch/gov/de/start/dokumentation/veranstaltungen.event-id-\"\u001b[0m\u001b[0;34m\u001b[0m\u001b[0m\n\u001b[1;32m      4\u001b[0m \u001b[0;34m\u001b[0m\u001b[0m\n\u001b[1;32m      5\u001b[0m     \u001b[0murlende\u001b[0m \u001b[0;34m=\u001b[0m \u001b[0;34m\".html\"\u001b[0m\u001b[0;34m\u001b[0m\u001b[0m\n",
      "\u001b[0;31mNameError\u001b[0m: name 'ids' is not defined"
     ]
    }
   ],
   "source": [
    "alleids = []\n",
    "for wert in ids:\n",
    "    url = \"https://www.admin.ch/gov/de/start/dokumentation/veranstaltungen.event-id-\"\n",
    "    \n",
    "    urlende = \".html\"\n",
    "    url = url + str(wert) + urlende\n",
    "    #print(url)\n",
    "    r = requests.get(url)\n",
    "    soup = BeautifulSoup(r.text, \"html.parser\")\n",
    "    \n",
    "    try:\n",
    "        \n",
    "        ort = soup.find_all('td', {'class': \"\"})[0].text.replace('\\t','').replace('\\xa0',' ').replace('\\n',' ').strip()\n",
    "        datum = soup.find_all('td', {'class': \"\"})[1].text.replace('\\n', ' ').replace('\\t','').strip()\n",
    "        mitteilung = soup.find_all('td', {'class': \"\"})[2].text.replace('\\n', ' ').replace('\\t','').strip()\n",
    "    \n",
    "        minidict = {'Ort':ort,\n",
    "                'Datum':datum,\n",
    "                'Mitteilung': mitteilung}\n",
    "        alleids.append(minidict)\n",
    "    except:\n",
    "        (print(wert))"
   ]
  },
  {
   "cell_type": "code",
   "execution_count": null,
   "metadata": {},
   "outputs": [],
   "source": []
  },
  {
   "cell_type": "code",
   "execution_count": null,
   "metadata": {},
   "outputs": [],
   "source": []
  },
  {
   "cell_type": "code",
   "execution_count": null,
   "metadata": {},
   "outputs": [],
   "source": []
  },
  {
   "cell_type": "code",
   "execution_count": null,
   "metadata": {},
   "outputs": [],
   "source": []
  },
  {
   "cell_type": "code",
   "execution_count": null,
   "metadata": {},
   "outputs": [],
   "source": []
  },
  {
   "cell_type": "code",
   "execution_count": null,
   "metadata": {},
   "outputs": [],
   "source": []
  },
  {
   "cell_type": "code",
   "execution_count": null,
   "metadata": {},
   "outputs": [],
   "source": []
  }
 ],
 "metadata": {
  "kernelspec": {
   "display_name": "Python 3",
   "language": "python",
   "name": "python3"
  },
  "language_info": {
   "codemirror_mode": {
    "name": "ipython",
    "version": 3
   },
   "file_extension": ".py",
   "mimetype": "text/x-python",
   "name": "python",
   "nbconvert_exporter": "python",
   "pygments_lexer": "ipython3",
   "version": "3.7.0"
  }
 },
 "nbformat": 4,
 "nbformat_minor": 2
}
