{
 "cells": [
  {
   "cell_type": "code",
   "execution_count": 1,
   "metadata": {},
   "outputs": [
    {
     "name": "stdout",
     "output_type": "stream",
     "text": [
      "\u001b[34m06 APIs, Scraping I\u001b[m\u001b[m            die_ersten_zehn_erdbeben\r\n",
      "API_uebung1_komb_Abfrage.ipynb die_ersten_zehn_erdbeben.csv\r\n",
      "Untitled.ipynb                 test.htm\r\n",
      "Übung Erdbeben.ipynb\r\n"
     ]
    }
   ],
   "source": [
    "!ls"
   ]
  },
  {
   "cell_type": "code",
   "execution_count": 2,
   "metadata": {},
   "outputs": [],
   "source": [
    "file = open(\"test.htm\", \"r\")"
   ]
  },
  {
   "cell_type": "code",
   "execution_count": 3,
   "metadata": {},
   "outputs": [
    {
     "data": {
      "text/plain": [
       "<_io.TextIOWrapper name='test.htm' mode='r' encoding='UTF-8'>"
      ]
     },
     "execution_count": 3,
     "metadata": {},
     "output_type": "execute_result"
    }
   ],
   "source": [
    "file"
   ]
  },
  {
   "cell_type": "code",
   "execution_count": 4,
   "metadata": {},
   "outputs": [
    {
     "data": {
      "text/plain": [
       "'<!DOCTYPE html>\\n<html>\\n<title>HTML Tutorial</title>\\n<body>\\n\\n<h1>This is a heading</h1>\\n<p>This is a paragraph.</p>\\n\\n<ol>\\n  <li>Coffee</li>\\n  <li>Tea</li>\\n  <li>Milk</li>\\n</ol>\\n\\n<ul>\\n  <li>Coffee</li>\\n  <li>Tea</li>\\n  <li>Milk</li>\\n</ul>\\n\\n<p>\\nThis paragraph\\ncontains a lot of lines\\nin the source code,\\nbut the browser\\nignores it.\\n</p>\\n\\n<p>\\nThis paragraph\\ncontains         a lot of spaces\\nin the source         code,\\nbut the        browser\\nignores it.\\n</p>\\n\\n<table style=\"width:100%\">\\n  <tr>\\n    <th>Firstname</th>\\n    <th>Lastname</th>\\n    <th>Age</th>\\n  </tr>\\n  <tr>\\n    <td>Jill</td>\\n    <td>Smith</td>\\n    <td>50</td>\\n  </tr>\\n  <tr>\\n    <td>Eve</td>\\n    <td>Jackson</td>\\n    <td>94</td>\\n  </tr>\\n</table>\\n\\n</body>\\n</html>\\n'"
      ]
     },
     "execution_count": 4,
     "metadata": {},
     "output_type": "execute_result"
    }
   ],
   "source": [
    "file.read()"
   ]
  },
  {
   "cell_type": "code",
   "execution_count": 11,
   "metadata": {},
   "outputs": [],
   "source": [
    "f = open(\"test.htm\", \"r\").read()"
   ]
  },
  {
   "cell_type": "code",
   "execution_count": 12,
   "metadata": {},
   "outputs": [
    {
     "data": {
      "text/plain": [
       "'<!DOCTYPE html>\\n<html>\\n<title>HTML Tutorial</title>\\n<body>\\n\\n<h1>This is a heading</h1>\\n<p>This is a paragraph.</p>\\n\\n<ol>\\n  <li>Coffee</li>\\n  <li>Tea</li>\\n  <li>Milk</li>\\n</ol>\\n\\n<ul>\\n  <li>Coffee</li>\\n  <li>Tea</li>\\n  <li>Milk</li>\\n</ul>\\n\\n<p>\\nThis paragraph\\ncontains a lot of lines\\nin the source code,\\nbut the browser\\nignores it.\\n</p>\\n\\n<p>\\nThis paragraph\\ncontains         a lot of spaces\\nin the source         code,\\nbut the        browser\\nignores it.\\n</p>\\n\\n<table style=\"width:100%\">\\n  <tr>\\n    <th>Firstname</th>\\n    <th>Lastname</th>\\n    <th>Age</th>\\n  </tr>\\n  <tr>\\n    <td>Jill</td>\\n    <td>Smith</td>\\n    <td>50</td>\\n  </tr>\\n  <tr>\\n    <td>Eve</td>\\n    <td>Jackson</td>\\n    <td>94</td>\\n  </tr>\\n</table>\\n\\n</body>\\n</html>\\n'"
      ]
     },
     "execution_count": 12,
     "metadata": {},
     "output_type": "execute_result"
    }
   ],
   "source": [
    "f"
   ]
  },
  {
   "cell_type": "code",
   "execution_count": 7,
   "metadata": {},
   "outputs": [],
   "source": [
    "from bs4 import BeautifulSoup"
   ]
  },
  {
   "cell_type": "code",
   "execution_count": 18,
   "metadata": {},
   "outputs": [
    {
     "ename": "FeatureNotFound",
     "evalue": "Couldn't find a tree builder with the features you requested: lxml. Do you need to install a parser library?",
     "output_type": "error",
     "traceback": [
      "\u001b[0;31m---------------------------------------------------------------------------\u001b[0m",
      "\u001b[0;31mFeatureNotFound\u001b[0m                           Traceback (most recent call last)",
      "\u001b[0;32m<ipython-input-18-da90e32afb67>\u001b[0m in \u001b[0;36m<module>\u001b[0;34m()\u001b[0m\n\u001b[0;32m----> 1\u001b[0;31m \u001b[0msoup\u001b[0m \u001b[0;34m=\u001b[0m \u001b[0mBeautifulSoup\u001b[0m\u001b[0;34m(\u001b[0m\u001b[0mf\u001b[0m\u001b[0;34m,\u001b[0m\u001b[0;34m\"lxml\"\u001b[0m\u001b[0;34m)\u001b[0m\u001b[0;34m\u001b[0m\u001b[0m\n\u001b[0m",
      "\u001b[0;32m~/.virtualenvs/dataviz/lib/python3.7/site-packages/bs4/__init__.py\u001b[0m in \u001b[0;36m__init__\u001b[0;34m(self, markup, features, builder, parse_only, from_encoding, exclude_encodings, **kwargs)\u001b[0m\n\u001b[1;32m    196\u001b[0m                     \u001b[0;34m\"Couldn't find a tree builder with the features you \"\u001b[0m\u001b[0;34m\u001b[0m\u001b[0m\n\u001b[1;32m    197\u001b[0m                     \u001b[0;34m\"requested: %s. Do you need to install a parser library?\"\u001b[0m\u001b[0;34m\u001b[0m\u001b[0m\n\u001b[0;32m--> 198\u001b[0;31m                     % \",\".join(features))\n\u001b[0m\u001b[1;32m    199\u001b[0m             \u001b[0mbuilder\u001b[0m \u001b[0;34m=\u001b[0m \u001b[0mbuilder_class\u001b[0m\u001b[0;34m(\u001b[0m\u001b[0;34m)\u001b[0m\u001b[0;34m\u001b[0m\u001b[0m\n\u001b[1;32m    200\u001b[0m             if not (original_features == builder.NAME or\n",
      "\u001b[0;31mFeatureNotFound\u001b[0m: Couldn't find a tree builder with the features you requested: lxml. Do you need to install a parser library?"
     ]
    }
   ],
   "source": [
    "soup = BeautifulSoup(f,\"lxml\") #wenn das nicht geht, dann untenstehende Zeile benutzen..."
   ]
  },
  {
   "cell_type": "code",
   "execution_count": 21,
   "metadata": {},
   "outputs": [],
   "source": [
    "soup = BeautifulSoup(f,\"html.parser\")"
   ]
  },
  {
   "cell_type": "code",
   "execution_count": 22,
   "metadata": {},
   "outputs": [
    {
     "data": {
      "text/plain": [
       "<!DOCTYPE html>\n",
       "\n",
       "<html>\n",
       "<title>HTML Tutorial</title>\n",
       "<body>\n",
       "<h1>This is a heading</h1>\n",
       "<p>This is a paragraph.</p>\n",
       "<ol>\n",
       "<li>Coffee</li>\n",
       "<li>Tea</li>\n",
       "<li>Milk</li>\n",
       "</ol>\n",
       "<ul>\n",
       "<li>Coffee</li>\n",
       "<li>Tea</li>\n",
       "<li>Milk</li>\n",
       "</ul>\n",
       "<p>\n",
       "This paragraph\n",
       "contains a lot of lines\n",
       "in the source code,\n",
       "but the browser\n",
       "ignores it.\n",
       "</p>\n",
       "<p>\n",
       "This paragraph\n",
       "contains         a lot of spaces\n",
       "in the source         code,\n",
       "but the        browser\n",
       "ignores it.\n",
       "</p>\n",
       "<table style=\"width:100%\">\n",
       "<tr>\n",
       "<th>Firstname</th>\n",
       "<th>Lastname</th>\n",
       "<th>Age</th>\n",
       "</tr>\n",
       "<tr>\n",
       "<td>Jill</td>\n",
       "<td>Smith</td>\n",
       "<td>50</td>\n",
       "</tr>\n",
       "<tr>\n",
       "<td>Eve</td>\n",
       "<td>Jackson</td>\n",
       "<td>94</td>\n",
       "</tr>\n",
       "</table>\n",
       "</body>\n",
       "</html>"
      ]
     },
     "execution_count": 22,
     "metadata": {},
     "output_type": "execute_result"
    }
   ],
   "source": [
    "soup"
   ]
  },
  {
   "cell_type": "code",
   "execution_count": 23,
   "metadata": {},
   "outputs": [
    {
     "data": {
      "text/plain": [
       "[<li>Coffee</li>,\n",
       " <li>Tea</li>,\n",
       " <li>Milk</li>,\n",
       " <li>Coffee</li>,\n",
       " <li>Tea</li>,\n",
       " <li>Milk</li>]"
      ]
     },
     "execution_count": 23,
     "metadata": {},
     "output_type": "execute_result"
    }
   ],
   "source": [
    "soup.find_all(\"li\")"
   ]
  },
  {
   "cell_type": "code",
   "execution_count": 24,
   "metadata": {},
   "outputs": [],
   "source": [
    "lst = []\n",
    "for elem in soup.find_all(\"li\"):\n",
    "    lst.append(elem.text)"
   ]
  },
  {
   "cell_type": "code",
   "execution_count": 25,
   "metadata": {},
   "outputs": [
    {
     "data": {
      "text/plain": [
       "['Coffee', 'Tea', 'Milk', 'Coffee', 'Tea', 'Milk']"
      ]
     },
     "execution_count": 25,
     "metadata": {},
     "output_type": "execute_result"
    }
   ],
   "source": [
    "lst"
   ]
  },
  {
   "cell_type": "code",
   "execution_count": null,
   "metadata": {},
   "outputs": [],
   "source": []
  }
 ],
 "metadata": {
  "kernelspec": {
   "display_name": "Python 3",
   "language": "python",
   "name": "python3"
  },
  "language_info": {
   "codemirror_mode": {
    "name": "ipython",
    "version": 3
   },
   "file_extension": ".py",
   "mimetype": "text/x-python",
   "name": "python",
   "nbconvert_exporter": "python",
   "pygments_lexer": "ipython3",
   "version": "3.7.0"
  }
 },
 "nbformat": 4,
 "nbformat_minor": 2
}
