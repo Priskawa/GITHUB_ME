{
 "cells": [
  {
   "cell_type": "code",
   "execution_count": 1,
   "metadata": {},
   "outputs": [],
   "source": [
    "import requests"
   ]
  },
  {
   "cell_type": "code",
   "execution_count": 2,
   "metadata": {},
   "outputs": [],
   "source": [
    "import pandas as pd"
   ]
  },
  {
   "cell_type": "code",
   "execution_count": 3,
   "metadata": {},
   "outputs": [],
   "source": [
    "from bs4 import BeautifulSoup"
   ]
  },
  {
   "cell_type": "code",
   "execution_count": 9,
   "metadata": {},
   "outputs": [],
   "source": [
    "r = requests.get(\"https://www.srf.ch\")\n",
    "r = r.text"
   ]
  },
  {
   "cell_type": "code",
   "execution_count": 21,
   "metadata": {},
   "outputs": [
    {
     "data": {
      "text/plain": [
       "84"
      ]
     },
     "execution_count": 21,
     "metadata": {},
     "output_type": "execute_result"
    }
   ],
   "source": [
    "len(soup.find_all(\"h3\"))"
   ]
  },
  {
   "cell_type": "code",
   "execution_count": 25,
   "metadata": {},
   "outputs": [],
   "source": [
    "soup = BeautifulSoup(r,\"html.parser\")"
   ]
  },
  {
   "cell_type": "code",
   "execution_count": null,
   "metadata": {},
   "outputs": [],
   "source": []
  },
  {
   "cell_type": "code",
   "execution_count": 38,
   "metadata": {},
   "outputs": [],
   "source": [
    "lst = soup.find_all(\"h3\")[13:][:55]"
   ]
  },
  {
   "cell_type": "code",
   "execution_count": 39,
   "metadata": {},
   "outputs": [
    {
     "data": {
      "text/plain": [
       "55"
      ]
     },
     "execution_count": 39,
     "metadata": {},
     "output_type": "execute_result"
    }
   ],
   "source": [
    "len(lst)"
   ]
  },
  {
   "cell_type": "code",
   "execution_count": null,
   "metadata": {},
   "outputs": [],
   "source": []
  },
  {
   "cell_type": "code",
   "execution_count": 47,
   "metadata": {},
   "outputs": [],
   "source": [
    "fertigeliste = []\n",
    "\n",
    "for artikel in lst:\n",
    "    art = \" \".join(artikel.text.strip().split())\n",
    "    fertigeliste.append(art)"
   ]
  },
  {
   "cell_type": "code",
   "execution_count": 48,
   "metadata": {},
   "outputs": [
    {
     "data": {
      "text/plain": [
       "['Kann man «Babylon Berlin» auch zeitversetzt schauen?',\n",
       " 'Gewissheit um letzten Willen Nationales Register für Organspende lanciert',\n",
       " 'Charles Aznavour ist tot',\n",
       " 'CEO von Juventus geht – Gerüchte um Zidane mehren sich',\n",
       " 'Roman Bürki: Vom Risikofaktor zum Bollwerk',\n",
       " 'Slapstick, Sixpack, Sonntagsschuss!',\n",
       " 'Weshalb wurden die Menschen von der Welle überrascht?',\n",
       " 'Über 1200 Tote befürchtet',\n",
       " 'Die grosse Vorfreude auf die «Menschenwand»',\n",
       " 'Traumlos für FCZ-Frauen',\n",
       " 'Italien kandidiert nun doch für 2026',\n",
       " 'Mit diesen Tipps wirst du Pilzsammler-Pro',\n",
       " 'Augen auf beim Pilze sammeln',\n",
       " '«The Cleaners»: Diese Billigarbeiter löschen Folter, Sex und Mord',\n",
       " 'Max Hubacher über seine Rolle als psychisch Kranker',\n",
       " 'Wie der Heisshunger der Amerikaner die Donuts löcherte',\n",
       " 'Wieviel Gentechnik steckt in unserem Essen?',\n",
       " 'Fast Food erster Güte: French Toast mit Etivaz',\n",
       " 'Digitale Entgiftung wird uns nicht heilen',\n",
       " 'Legt das Handy weg!',\n",
       " 'Lass dich drücken, Dummerchen',\n",
       " 'Mit Ursula Brunner bekam das Elend am Platzspitz ein Gesicht',\n",
       " 'Zürich Junkietown',\n",
       " 'Grand Tour der Schweiz: Von Zürich ins Berner Oberland',\n",
       " 'Grand Tour der Schweiz: Vom Jura bis ins Wallis',\n",
       " 'Vor 50 Jahren wurde das Schweizer Fernsehen farbig',\n",
       " 'Es werde Farbe! – 50 Jahre Farbfernsehen',\n",
       " 'Von diesem Georgier kriege ich den Flattermann',\n",
       " 'Wegen «Marlène» bleibt Philippe Djian Kult für mich!',\n",
       " 'Wettbewerb \"Die ideale Sekretärin\" (1969)',\n",
       " 'Touristen reisen durch die Schweiz in zwei Tagen (1970)',\n",
       " 'Feriensportlager in Fiesch (1987)',\n",
       " 'Wie sieht Ihr Service public aus?',\n",
       " 'Die höchste Dreiseilbahn der Welt ist eröffnet',\n",
       " 'Lugano trotzt dem FC Basel einen Punkt ab',\n",
       " 'Donald Trump macht eine Liebeserklärung',\n",
       " 'Tagesschau vom 30.09.2018, 19:30',\n",
       " 'Die Zahl der Opfer steigt',\n",
       " 'Eindrückliche Bilder in der «Höll» kurz vor dem Ziel',\n",
       " 'Sion ist dank einem Sieg in Luzern nicht mehr das Schlusslicht',\n",
       " 'Meteo am Mittag vom 01.10.2018',\n",
       " 'Tagesschau Mittag vom 01.10.2018',\n",
       " 'Lena - Liebe meines Lebens vom 01.10.2018',\n",
       " 'Drohnen am Frankfurter Nachthimmel',\n",
       " 'Wieso muss der Mensch Wasser trinken?',\n",
       " 'Sanogo: «Wir sind nicht nervös»',\n",
       " 'Fassnacht: «Wir müssen realistisch bleiben.»',\n",
       " 'Die höchste Dreiseilbahn der Welt ist eröffnet',\n",
       " 'Die Zahl der Opfer steigt',\n",
       " 'Babylon Berlin (Folge 1/16)',\n",
       " 'Tagesschau Mittag vom 01.10.2018',\n",
       " 'Sanogo: «Wir sind nicht nervös»',\n",
       " 'Steffi Graf macht den Golden Slam perfekt',\n",
       " 'Fassnacht: «Wir müssen realistisch bleiben.»',\n",
       " 'Herzensbrecher - Vater von vier Söhnen']"
      ]
     },
     "execution_count": 48,
     "metadata": {},
     "output_type": "execute_result"
    }
   ],
   "source": [
    "fertigeliste"
   ]
  },
  {
   "cell_type": "code",
   "execution_count": 52,
   "metadata": {},
   "outputs": [],
   "source": [
    "df = pd.DataFrame(fertigeliste)"
   ]
  },
  {
   "cell_type": "code",
   "execution_count": 59,
   "metadata": {},
   "outputs": [
    {
     "data": {
      "text/html": [
       "<div>\n",
       "<style scoped>\n",
       "    .dataframe tbody tr th:only-of-type {\n",
       "        vertical-align: middle;\n",
       "    }\n",
       "\n",
       "    .dataframe tbody tr th {\n",
       "        vertical-align: top;\n",
       "    }\n",
       "\n",
       "    .dataframe thead th {\n",
       "        text-align: right;\n",
       "    }\n",
       "</style>\n",
       "<table border=\"1\" class=\"dataframe\">\n",
       "  <thead>\n",
       "    <tr style=\"text-align: right;\">\n",
       "      <th></th>\n",
       "      <th>0</th>\n",
       "    </tr>\n",
       "  </thead>\n",
       "  <tbody>\n",
       "    <tr>\n",
       "      <th>0</th>\n",
       "      <td>Kann man «Babylon Berlin» auch zeitversetzt sc...</td>\n",
       "    </tr>\n",
       "    <tr>\n",
       "      <th>1</th>\n",
       "      <td>Gewissheit um letzten Willen Nationales Regist...</td>\n",
       "    </tr>\n",
       "    <tr>\n",
       "      <th>2</th>\n",
       "      <td>Charles Aznavour ist tot</td>\n",
       "    </tr>\n",
       "    <tr>\n",
       "      <th>3</th>\n",
       "      <td>CEO von Juventus geht – Gerüchte um Zidane meh...</td>\n",
       "    </tr>\n",
       "    <tr>\n",
       "      <th>4</th>\n",
       "      <td>Roman Bürki: Vom Risikofaktor zum Bollwerk</td>\n",
       "    </tr>\n",
       "    <tr>\n",
       "      <th>5</th>\n",
       "      <td>Slapstick, Sixpack, Sonntagsschuss!</td>\n",
       "    </tr>\n",
       "    <tr>\n",
       "      <th>6</th>\n",
       "      <td>Weshalb wurden die Menschen von der Welle über...</td>\n",
       "    </tr>\n",
       "    <tr>\n",
       "      <th>7</th>\n",
       "      <td>Über 1200 Tote befürchtet</td>\n",
       "    </tr>\n",
       "    <tr>\n",
       "      <th>8</th>\n",
       "      <td>Die grosse Vorfreude auf die «Menschenwand»</td>\n",
       "    </tr>\n",
       "    <tr>\n",
       "      <th>9</th>\n",
       "      <td>Traumlos für FCZ-Frauen</td>\n",
       "    </tr>\n",
       "    <tr>\n",
       "      <th>10</th>\n",
       "      <td>Italien kandidiert nun doch für 2026</td>\n",
       "    </tr>\n",
       "    <tr>\n",
       "      <th>11</th>\n",
       "      <td>Mit diesen Tipps wirst du Pilzsammler-Pro</td>\n",
       "    </tr>\n",
       "    <tr>\n",
       "      <th>12</th>\n",
       "      <td>Augen auf beim Pilze sammeln</td>\n",
       "    </tr>\n",
       "    <tr>\n",
       "      <th>13</th>\n",
       "      <td>«The Cleaners»: Diese Billigarbeiter löschen F...</td>\n",
       "    </tr>\n",
       "    <tr>\n",
       "      <th>14</th>\n",
       "      <td>Max Hubacher über seine Rolle als psychisch Kr...</td>\n",
       "    </tr>\n",
       "    <tr>\n",
       "      <th>15</th>\n",
       "      <td>Wie der Heisshunger der Amerikaner die Donuts ...</td>\n",
       "    </tr>\n",
       "    <tr>\n",
       "      <th>16</th>\n",
       "      <td>Wieviel Gentechnik steckt in unserem Essen?</td>\n",
       "    </tr>\n",
       "    <tr>\n",
       "      <th>17</th>\n",
       "      <td>Fast Food erster Güte: French Toast mit Etivaz</td>\n",
       "    </tr>\n",
       "    <tr>\n",
       "      <th>18</th>\n",
       "      <td>Digitale Entgiftung wird uns nicht heilen</td>\n",
       "    </tr>\n",
       "    <tr>\n",
       "      <th>19</th>\n",
       "      <td>Legt das Handy weg!</td>\n",
       "    </tr>\n",
       "    <tr>\n",
       "      <th>20</th>\n",
       "      <td>Lass dich drücken, Dummerchen</td>\n",
       "    </tr>\n",
       "    <tr>\n",
       "      <th>21</th>\n",
       "      <td>Mit Ursula Brunner bekam das Elend am Platzspi...</td>\n",
       "    </tr>\n",
       "    <tr>\n",
       "      <th>22</th>\n",
       "      <td>Zürich Junkietown</td>\n",
       "    </tr>\n",
       "    <tr>\n",
       "      <th>23</th>\n",
       "      <td>Grand Tour der Schweiz: Von Zürich ins Berner ...</td>\n",
       "    </tr>\n",
       "    <tr>\n",
       "      <th>24</th>\n",
       "      <td>Grand Tour der Schweiz: Vom Jura bis ins Wallis</td>\n",
       "    </tr>\n",
       "    <tr>\n",
       "      <th>25</th>\n",
       "      <td>Vor 50 Jahren wurde das Schweizer Fernsehen fa...</td>\n",
       "    </tr>\n",
       "    <tr>\n",
       "      <th>26</th>\n",
       "      <td>Es werde Farbe! – 50 Jahre Farbfernsehen</td>\n",
       "    </tr>\n",
       "    <tr>\n",
       "      <th>27</th>\n",
       "      <td>Von diesem Georgier kriege ich den Flattermann</td>\n",
       "    </tr>\n",
       "    <tr>\n",
       "      <th>28</th>\n",
       "      <td>Wegen «Marlène» bleibt Philippe Djian Kult für...</td>\n",
       "    </tr>\n",
       "    <tr>\n",
       "      <th>29</th>\n",
       "      <td>Wettbewerb \"Die ideale Sekretärin\" (1969)</td>\n",
       "    </tr>\n",
       "    <tr>\n",
       "      <th>30</th>\n",
       "      <td>Touristen reisen durch die Schweiz in zwei Tag...</td>\n",
       "    </tr>\n",
       "    <tr>\n",
       "      <th>31</th>\n",
       "      <td>Feriensportlager in Fiesch (1987)</td>\n",
       "    </tr>\n",
       "    <tr>\n",
       "      <th>32</th>\n",
       "      <td>Wie sieht Ihr Service public aus?</td>\n",
       "    </tr>\n",
       "    <tr>\n",
       "      <th>33</th>\n",
       "      <td>Die höchste Dreiseilbahn der Welt ist eröffnet</td>\n",
       "    </tr>\n",
       "    <tr>\n",
       "      <th>34</th>\n",
       "      <td>Lugano trotzt dem FC Basel einen Punkt ab</td>\n",
       "    </tr>\n",
       "    <tr>\n",
       "      <th>35</th>\n",
       "      <td>Donald Trump macht eine Liebeserklärung</td>\n",
       "    </tr>\n",
       "    <tr>\n",
       "      <th>36</th>\n",
       "      <td>Tagesschau vom 30.09.2018, 19:30</td>\n",
       "    </tr>\n",
       "    <tr>\n",
       "      <th>37</th>\n",
       "      <td>Die Zahl der Opfer steigt</td>\n",
       "    </tr>\n",
       "    <tr>\n",
       "      <th>38</th>\n",
       "      <td>Eindrückliche Bilder in der «Höll» kurz vor de...</td>\n",
       "    </tr>\n",
       "    <tr>\n",
       "      <th>39</th>\n",
       "      <td>Sion ist dank einem Sieg in Luzern nicht mehr ...</td>\n",
       "    </tr>\n",
       "    <tr>\n",
       "      <th>40</th>\n",
       "      <td>Meteo am Mittag vom 01.10.2018</td>\n",
       "    </tr>\n",
       "    <tr>\n",
       "      <th>41</th>\n",
       "      <td>Tagesschau Mittag vom 01.10.2018</td>\n",
       "    </tr>\n",
       "    <tr>\n",
       "      <th>42</th>\n",
       "      <td>Lena - Liebe meines Lebens vom 01.10.2018</td>\n",
       "    </tr>\n",
       "    <tr>\n",
       "      <th>43</th>\n",
       "      <td>Drohnen am Frankfurter Nachthimmel</td>\n",
       "    </tr>\n",
       "    <tr>\n",
       "      <th>44</th>\n",
       "      <td>Wieso muss der Mensch Wasser trinken?</td>\n",
       "    </tr>\n",
       "    <tr>\n",
       "      <th>45</th>\n",
       "      <td>Sanogo: «Wir sind nicht nervös»</td>\n",
       "    </tr>\n",
       "    <tr>\n",
       "      <th>46</th>\n",
       "      <td>Fassnacht: «Wir müssen realistisch bleiben.»</td>\n",
       "    </tr>\n",
       "    <tr>\n",
       "      <th>47</th>\n",
       "      <td>Die höchste Dreiseilbahn der Welt ist eröffnet</td>\n",
       "    </tr>\n",
       "    <tr>\n",
       "      <th>48</th>\n",
       "      <td>Die Zahl der Opfer steigt</td>\n",
       "    </tr>\n",
       "    <tr>\n",
       "      <th>49</th>\n",
       "      <td>Babylon Berlin (Folge 1/16)</td>\n",
       "    </tr>\n",
       "    <tr>\n",
       "      <th>50</th>\n",
       "      <td>Tagesschau Mittag vom 01.10.2018</td>\n",
       "    </tr>\n",
       "    <tr>\n",
       "      <th>51</th>\n",
       "      <td>Sanogo: «Wir sind nicht nervös»</td>\n",
       "    </tr>\n",
       "    <tr>\n",
       "      <th>52</th>\n",
       "      <td>Steffi Graf macht den Golden Slam perfekt</td>\n",
       "    </tr>\n",
       "    <tr>\n",
       "      <th>53</th>\n",
       "      <td>Fassnacht: «Wir müssen realistisch bleiben.»</td>\n",
       "    </tr>\n",
       "    <tr>\n",
       "      <th>54</th>\n",
       "      <td>Herzensbrecher - Vater von vier Söhnen</td>\n",
       "    </tr>\n",
       "  </tbody>\n",
       "</table>\n",
       "</div>"
      ],
      "text/plain": [
       "                                                    0\n",
       "0   Kann man «Babylon Berlin» auch zeitversetzt sc...\n",
       "1   Gewissheit um letzten Willen Nationales Regist...\n",
       "2                            Charles Aznavour ist tot\n",
       "3   CEO von Juventus geht – Gerüchte um Zidane meh...\n",
       "4          Roman Bürki: Vom Risikofaktor zum Bollwerk\n",
       "5                 Slapstick, Sixpack, Sonntagsschuss!\n",
       "6   Weshalb wurden die Menschen von der Welle über...\n",
       "7                           Über 1200 Tote befürchtet\n",
       "8         Die grosse Vorfreude auf die «Menschenwand»\n",
       "9                             Traumlos für FCZ-Frauen\n",
       "10               Italien kandidiert nun doch für 2026\n",
       "11          Mit diesen Tipps wirst du Pilzsammler-Pro\n",
       "12                       Augen auf beim Pilze sammeln\n",
       "13  «The Cleaners»: Diese Billigarbeiter löschen F...\n",
       "14  Max Hubacher über seine Rolle als psychisch Kr...\n",
       "15  Wie der Heisshunger der Amerikaner die Donuts ...\n",
       "16        Wieviel Gentechnik steckt in unserem Essen?\n",
       "17     Fast Food erster Güte: French Toast mit Etivaz\n",
       "18          Digitale Entgiftung wird uns nicht heilen\n",
       "19                                Legt das Handy weg!\n",
       "20                      Lass dich drücken, Dummerchen\n",
       "21  Mit Ursula Brunner bekam das Elend am Platzspi...\n",
       "22                                  Zürich Junkietown\n",
       "23  Grand Tour der Schweiz: Von Zürich ins Berner ...\n",
       "24    Grand Tour der Schweiz: Vom Jura bis ins Wallis\n",
       "25  Vor 50 Jahren wurde das Schweizer Fernsehen fa...\n",
       "26           Es werde Farbe! – 50 Jahre Farbfernsehen\n",
       "27     Von diesem Georgier kriege ich den Flattermann\n",
       "28  Wegen «Marlène» bleibt Philippe Djian Kult für...\n",
       "29          Wettbewerb \"Die ideale Sekretärin\" (1969)\n",
       "30  Touristen reisen durch die Schweiz in zwei Tag...\n",
       "31                  Feriensportlager in Fiesch (1987)\n",
       "32                  Wie sieht Ihr Service public aus?\n",
       "33     Die höchste Dreiseilbahn der Welt ist eröffnet\n",
       "34          Lugano trotzt dem FC Basel einen Punkt ab\n",
       "35            Donald Trump macht eine Liebeserklärung\n",
       "36                   Tagesschau vom 30.09.2018, 19:30\n",
       "37                          Die Zahl der Opfer steigt\n",
       "38  Eindrückliche Bilder in der «Höll» kurz vor de...\n",
       "39  Sion ist dank einem Sieg in Luzern nicht mehr ...\n",
       "40                     Meteo am Mittag vom 01.10.2018\n",
       "41                   Tagesschau Mittag vom 01.10.2018\n",
       "42          Lena - Liebe meines Lebens vom 01.10.2018\n",
       "43                 Drohnen am Frankfurter Nachthimmel\n",
       "44              Wieso muss der Mensch Wasser trinken?\n",
       "45                    Sanogo: «Wir sind nicht nervös»\n",
       "46       Fassnacht: «Wir müssen realistisch bleiben.»\n",
       "47     Die höchste Dreiseilbahn der Welt ist eröffnet\n",
       "48                          Die Zahl der Opfer steigt\n",
       "49                        Babylon Berlin (Folge 1/16)\n",
       "50                   Tagesschau Mittag vom 01.10.2018\n",
       "51                    Sanogo: «Wir sind nicht nervös»\n",
       "52          Steffi Graf macht den Golden Slam perfekt\n",
       "53       Fassnacht: «Wir müssen realistisch bleiben.»\n",
       "54             Herzensbrecher - Vater von vier Söhnen"
      ]
     },
     "execution_count": 59,
     "metadata": {},
     "output_type": "execute_result"
    }
   ],
   "source": [
    "df"
   ]
  },
  {
   "cell_type": "code",
   "execution_count": 56,
   "metadata": {},
   "outputs": [],
   "source": [
    "df.to_csv(\"srf_titelliste_neu.csv\")"
   ]
  },
  {
   "cell_type": "code",
   "execution_count": null,
   "metadata": {},
   "outputs": [],
   "source": []
  },
  {
   "cell_type": "code",
   "execution_count": 57,
   "metadata": {},
   "outputs": [
    {
     "name": "stdout",
     "output_type": "stream",
     "text": [
      "\u001b[34m06 APIs, Scraping I\u001b[m\u001b[m            die_ersten_zehn_erdbeben\r\n",
      "API_uebung1_komb_Abfrage.ipynb die_ersten_zehn_erdbeben.csv\r\n",
      "BeautifulSoup_Intro.ipynb      srf_titelliste.csv\r\n",
      "Übung Erdbeben.ipynb           srf_titelliste_neu.csv\r\n",
      "Übung SRF.ipynb                test.htm\r\n"
     ]
    }
   ],
   "source": [
    "!ls"
   ]
  },
  {
   "cell_type": "code",
   "execution_count": null,
   "metadata": {},
   "outputs": [],
   "source": []
  },
  {
   "cell_type": "code",
   "execution_count": null,
   "metadata": {},
   "outputs": [],
   "source": []
  },
  {
   "cell_type": "code",
   "execution_count": 58,
   "metadata": {},
   "outputs": [],
   "source": [
    "#Lösung LEA:\n",
    "\n",
    "srftitel = []\n",
    "for titel in soup.find_all('span', class_=\"title\"):\n",
    "    srftitel.append({\"Titel\":titel.text.strip()})\n",
    "    \n",
    "    \n",
    "import pandas as pd\n",
    "pd.DataFrame(srftitel).to_csv('SRF_Storytitel.csv')"
   ]
  },
  {
   "cell_type": "code",
   "execution_count": null,
   "metadata": {},
   "outputs": [],
   "source": [
    "# Geschriebener Code nach Lea von Barnaby:\n",
    "\n",
    "for titel in soup.find_all('span', class_:\"title\"):\n",
    "    print(titel.text)\n",
    "    "
   ]
  },
  {
   "cell_type": "code",
   "execution_count": null,
   "metadata": {},
   "outputs": [],
   "source": []
  },
  {
   "cell_type": "code",
   "execution_count": 60,
   "metadata": {},
   "outputs": [],
   "source": [
    "lst = soup.find_all(\"h3\")[13:][:55]"
   ]
  },
  {
   "cell_type": "code",
   "execution_count": 62,
   "metadata": {},
   "outputs": [
    {
     "data": {
      "text/plain": [
       "<a href=\"/sendungen/hallosrf/kann-man-babylon-berlin-auch-zeitversetzt-schauen\"> <span class=\"title\">Kann man «Babylon Berlin» auch zeitversetzt schauen?</span>\n",
       "</a>"
      ]
     },
     "execution_count": 62,
     "metadata": {},
     "output_type": "execute_result"
    }
   ],
   "source": [
    "lst[0].find(\"a\")"
   ]
  },
  {
   "cell_type": "code",
   "execution_count": 63,
   "metadata": {},
   "outputs": [
    {
     "data": {
      "text/plain": [
       "'/sendungen/hallosrf/kann-man-babylon-berlin-auch-zeitversetzt-schauen'"
      ]
     },
     "execution_count": 63,
     "metadata": {},
     "output_type": "execute_result"
    }
   ],
   "source": [
    "lst[0].find(\"a\")[\"href\"]"
   ]
  },
  {
   "cell_type": "code",
   "execution_count": 64,
   "metadata": {},
   "outputs": [
    {
     "data": {
      "text/plain": [
       "[]"
      ]
     },
     "execution_count": 64,
     "metadata": {},
     "output_type": "execute_result"
    }
   ],
   "source": [
    "soup.find_all(\"href\")"
   ]
  },
  {
   "cell_type": "code",
   "execution_count": 66,
   "metadata": {},
   "outputs": [
    {
     "name": "stdout",
     "output_type": "stream",
     "text": [
      "/sendungen/hallosrf/kann-man-babylon-berlin-auch-zeitversetzt-schauen\n",
      "/news/panorama/franzoesischer-frank-sinatra-charles-aznavour-ist-tot\n",
      "/sport/fussball/champions-league/turbulenzen-bei-yb-gegner-ceo-von-juventus-geht-geruechte-um-zidane-mehren-sich\n",
      "/sport/fussball/internationale-ligen/neuerdings-unbestrittene-nr-1-roman-buerki-vom-risikofaktor-zum-bollwerk\n",
      "/sport/fussball/internationale-ligen/fussball-weekend-in-bildern-slapstick-sixpack-sonntagsschuss\n",
      "/news/panorama/tsunami-in-sulawesi-weshalb-wurden-die-menschen-von-der-welle-ueberrascht\n",
      "/news/panorama/erdbeben-in-indonesien-ueber-1200-tote-befuerchtet\n",
      "/sport/eishockey/6-fragen-vor-bern-new-jersey-die-grosse-vorfreude-auf-die-menschenwand\n",
      "/sport/fussball/internationale-ligen/fussball-news-traumlos-fuer-fcz-frauen\n",
      "/sport/mehr-sport/olympische-spiele/ruecktritt-vom-ruecktritt-italien-kandidiert-nun-doch-fuer-2026\n",
      "/radio-srf-virus/aktuell/pilzsammeln-mit-diesen-tipps-wirst-du-pilzsammler-pro\n",
      "/sendungen/ratgeber/augen-auf-beim-pilze-sammeln\n",
      "/radio-srf-3/digital/zurich-film-festival-the-cleaners-diese-billigarbeiter-loeschen-folter-sex-und-mord\n",
      "/radio-srf-3/aktuell/max-hubacher-ueber-seine-rolle-als-psychisch-kranker\n",
      "/kultur/wissen/erfindung-des-donut-lochs-wie-der-heisshunger-der-amerikaner-die-donuts-loecherte\n",
      "/kultur/wissen/food-und-forschung-wieviel-gentechnik-steckt-in-unserem-essen\n",
      "/sendungen/a-point/fast-food-erster-guete-french-toast-mit-etivaz\n",
      "/kultur/gesellschaft-religion/wochenende-gesellschaft/digital-detox-digitale-entgiftung-wird-uns-nicht-heilen\n",
      "/kultur/gesellschaft-religion/wochenende-gesellschaft/arena-reporter-legt-das-handy-weg\n",
      "/kultur/gesellschaft-religion/wochenende-gesellschaft/leben-ohne-smartphone-lass-dich-druecken-dummerchen\n",
      "/sendungen/dok/mit-ursula-brunner-bekam-das-elend-am-platzspitz-ein-gesicht\n",
      "/radio-srf-1/radio-srf-1/lang-ist-s-her-vor-50-jahren-wurde-das-schweizer-fernsehen-farbig\n",
      "/tv/allgemein/es-werde-farbe-50-jahre-farbfernsehen\n",
      "/radio-srf-1/die-buchkoenig-bloggt/die-buchkoenig-bloggt-von-diesem-georgier-kriege-ich-den-flattermann\n",
      "/radio-srf-1/die-buchkoenig-bloggt/die-buchkoenig-bloggt-wegen-marlene-bleibt-philippe-djian-kult-fuer-mich\n",
      "/allgemeines/service-public-wie-sieht-ihr-service-public-aus\n",
      "https://www.srf.ch/play/tv/-/video/-?id=6fe51a4d-aea7-4750-8826-7fd9ec8f490a\n",
      "https://www.srf.ch/play/tv/-/video/-?id=7d8bad26-ac54-4bf6-b6e7-e0bb4bdaaa39\n",
      "https://www.srf.ch/play/tv/-/video/-?id=001013c7-9f27-409d-9fad-6a23673cae82\n",
      "https://www.srf.ch/play/tv/-/video/-?id=990a2071-6a31-4224-ad01-dd5873996766\n",
      "https://www.srf.ch/play/tv/-/video/-?id=130c18f5-e2f1-45b4-a09d-96af077cc723\n",
      "https://www.srf.ch/play/tv/-/video/-?id=f624150b-9958-4f26-9b5b-b5e8758be526\n",
      "https://www.srf.ch/play/tv/-/video/-?id=8e9cd1b8-77e7-40b6-8201-db5806d35f61\n",
      "https://www.srf.ch/play/tv/-/video/-?id=b7e5864b-717b-4331-af33-17b5b3cdd66e\n",
      "https://www.srf.ch/play/tv/-/video/-?id=54a91a58-0a36-43ad-b5dc-15eb4afd6990\n",
      "https://www.srf.ch/play/tv/-/video/-?id=9c9d32ea-a2e8-40b6-a9f2-6715d5dc624b\n",
      "https://www.srf.ch/play/tv/-/video/-?id=2ddd8555-f498-4ae0-946b-ad67ea2d2a9d\n",
      "https://www.srf.ch/play/tv/-/video/-?id=ce290da6-b019-4211-ae0f-35b8254a137c\n",
      "https://www.srf.ch/play/tv/-/video/-?id=c98e6a23-6f7e-4067-b3f5-26296f984078\n",
      "https://www.srf.ch/play/tv/-/video/-?id=f7479c48-cdff-42eb-85fa-f1896ea74625\n",
      "https://www.srf.ch/play/tv/-/video/-?id=6fe51a4d-aea7-4750-8826-7fd9ec8f490a\n",
      "https://www.srf.ch/play/tv/-/video/-?id=130c18f5-e2f1-45b4-a09d-96af077cc723\n",
      "https://www.srf.ch/play/tv/-/video/-?id=691802a1-3db3-4f56-acc3-0a5b0df1b4b4\n",
      "https://www.srf.ch/play/tv/-/video/-?id=54a91a58-0a36-43ad-b5dc-15eb4afd6990\n",
      "https://www.srf.ch/play/tv/-/video/-?id=c98e6a23-6f7e-4067-b3f5-26296f984078\n",
      "https://www.srf.ch/play/tv/-/video/-?id=b1a0502a-4841-4ec5-af74-119b864ed53d\n",
      "https://www.srf.ch/play/tv/-/video/-?id=f7479c48-cdff-42eb-85fa-f1896ea74625\n",
      "http://www.srf.ch/programm/tv/sendung/d65eb080-b348-467e-ac2c-08e30cf7f664\n"
     ]
    }
   ],
   "source": [
    "for titel in lst:\n",
    "    try:\n",
    "        link = titel.find(\"a\")[\"href\"]\n",
    "        print(link)\n",
    "    except:\n",
    "        None\n",
    "    "
   ]
  },
  {
   "cell_type": "code",
   "execution_count": null,
   "metadata": {},
   "outputs": [],
   "source": []
  }
 ],
 "metadata": {
  "kernelspec": {
   "display_name": "Python 3",
   "language": "python",
   "name": "python3"
  },
  "language_info": {
   "codemirror_mode": {
    "name": "ipython",
    "version": 3
   },
   "file_extension": ".py",
   "mimetype": "text/x-python",
   "name": "python",
   "nbconvert_exporter": "python",
   "pygments_lexer": "ipython3",
   "version": "3.7.0"
  }
 },
 "nbformat": 4,
 "nbformat_minor": 2
}
