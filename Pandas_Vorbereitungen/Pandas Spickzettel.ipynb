{
 "cells": [
  {
   "cell_type": "markdown",
   "metadata": {},
   "source": [
    "# PANDAS Vorbereitungen"
   ]
  },
  {
   "cell_type": "markdown",
   "metadata": {},
   "source": [
    "Quelle: Simon Schmid, CAS Datenjournalismus MAZ 2018\n",
    "\n",
    "Aufbereitung für meine Basisbedürfnisse ; )"
   ]
  },
  {
   "cell_type": "markdown",
   "metadata": {},
   "source": [
    "## Basics\n",
    "\n",
    "**pip install pandas** - um Pandas zu installieren (Command Line)\n",
    "\n",
    "### Importiere benötigte Libraries\n",
    "\n",
    "**import pandas as pd**\n",
    "\n",
    "**import numpy as np** - benötigt für Umgang mit NaN's\n",
    "\n",
    "**import datetime**  - für Zeit- und Datumhandling\n",
    "\n",
    "**%matplotlib inline** - zur Visualisierung von Charts\n",
    "\n",
    "**import seaborn as sns** - Charts aufhübschen ; )))\n",
    "\n",
    "#### Hilfe nötig?\n",
    "**?** - lass dir helfen (Bsp. schreib type pd.head?)"
   ]
  },
  {
   "cell_type": "code",
   "execution_count": 1,
   "metadata": {},
   "outputs": [],
   "source": [
    "import pandas as pd\n",
    "import numpy as np\n",
    "import datetime\n",
    "\n",
    "%matplotlib inline \n",
    "\n",
    "import seaborn as sns"
   ]
  },
  {
   "cell_type": "markdown",
   "metadata": {},
   "source": [
    "### Files einlesen\n",
    "\n",
    "**df = pd.read_csv(\"filename.csv\")** - lädt das File in ein Dataframe, wenn die Originaldatei\n",
    "im gleichen Ordner liegt, wie das JupyterNotebook\n",
    "\n",
    "**df = pd.read_excel(\"filename.xlsx\")** - gleich wie obenstehend\n",
    "\n",
    "Liegt die zu ladende Datei in einem eigenen Ordner:\n",
    "\n",
    "**path = \"dataprojects/wherezurichborn/filename.csv\"** - in Variable gespeicherter Pfad \n",
    "zur Datei (Schritt 1)\n",
    "\n",
    "**df = pd.read_csv(path)** (Schritt 2)"
   ]
  },
  {
   "cell_type": "code",
   "execution_count": null,
   "metadata": {},
   "outputs": [],
   "source": [
    "df = pd.read_csv(\"filename.csv\")\n",
    "\n",
    "df = pd.read_excel(\"filename.xlsx\")\n",
    "\n",
    "path = \"Ordnerstruktur/wo_ist_das_file/filename.csv\"\n",
    "\n",
    "df = pd.read_csv(path)"
   ]
  },
  {
   "cell_type": "markdown",
   "metadata": {},
   "source": [
    "### Files ausgeben/abspeichern\n",
    "\n",
    "**df.to_csv** - sichert ein Dataframe in ein CSV\n",
    "\n",
    "**mit index = False** - sichere die Indexkolonne, die ein Dataframe automatisch erstellt, nicht mit\n",
    "\n",
    "**file_oder_liste.to_csv(path, index=True)** - sortiert Werte in absteigender Anzahl"
   ]
  },
  {
   "cell_type": "code",
   "execution_count": null,
   "metadata": {},
   "outputs": [],
   "source": [
    "df.to_csv (path, index = True)\n",
    "index = False "
   ]
  },
  {
   "cell_type": "markdown",
   "metadata": {},
   "source": [
    "### Eine erste Übersicht mit eingelesenen Files\n",
    "\n",
    "**df.head(n)** - zeigt per Standart die ersten fünf Reihen eines Dataframe an (oder wenn n mit einer höheren Zahl angegeben wird, die entsprechende Anzahl Reihen)\n",
    "\n",
    "**df.tail(n)** - zeigt per Standart die **letzten** fünf Reihen eines Dataframe an (oder wenn n mit einer höheren Zahl angegeben wird, die entsprechende Anzahl Reihen)\n",
    "\n",
    "**df.shape** - wie viele Einträge hat das Dataframe?\n",
    "\n",
    "**len(df)** - wie viele Einträge hat das Dataframe?\n",
    "\n",
    "**df.dtypes** - Was für Datenfelder kommen darin vor? (integers, Floats, objects)\n",
    "\n",
    "**df.describe()** - beschreibt das Dataframe\n",
    "\n",
    "**df.columns** - listet alle Kolonnentitel auf\n",
    "\n",
    "**df.values** - Eine Matrix des Frameinhalts, die ausschaut wie ein CSV"
   ]
  },
  {
   "cell_type": "code",
   "execution_count": null,
   "metadata": {},
   "outputs": [],
   "source": [
    "df.head()\n",
    "df.tail()\n",
    "df.shape()\n",
    "len (df)\n",
    "df.dtypes\n",
    "df.describe()\n",
    "df.columns\n",
    "df.values"
   ]
  },
  {
   "cell_type": "markdown",
   "metadata": {},
   "source": [
    "### Hat es unschöne Tabs? Und andere Handlings...\n",
    "\n",
    "**sep = \"\\t\"** - für Files, die per Tab getrennt sind\n",
    "\n",
    "**header = None** - falls das csv keinen Header hat\n",
    "\n",
    "**skiprows = n** - überspringt Anzahl n Rows (Reihen)\n",
    "\n",
    "**NaN** - Platzhalter für Not a Number (Missing Data, keine Zahl)\n",
    "\n",
    "**np.nan** - Code für Umgang mit NaN's (braucht Librarie \"Numpy\" as np) "
   ]
  },
  {
   "cell_type": "code",
   "execution_count": null,
   "metadata": {},
   "outputs": [],
   "source": [
    "sep = \"\\t\"\n",
    "header = None\n",
    "skiprows = n\n",
    "np.nan"
   ]
  },
  {
   "cell_type": "markdown",
   "metadata": {},
   "source": [
    "### Selecting stuff\n",
    "\n",
    "**df\"** - das ganze Dataframe\n",
    "\n",
    "**df.field1** oder **df[\"field1\"]** - eine Kolonne (Spalte) anwählen\n",
    "\n",
    "**df[[\"field1\", \"field2\"]]** - mehrere Spalten anwählen\n",
    "\n",
    "**df[condition]** - wähle Reihen nur, wenn der Boolean True zutrifft\n",
    "--- Beispiel: condition = df[\"field\" == value]\n",
    "\n",
    "**df.loc[index]** - get row at particular index\n",
    "\n",
    "**df.iloc[integer]** - behandelt einen Index, wie es eine Zahlenreihe wäre\n",
    "\n",
    "**index_col=\"column\"** - definiert die Spalte, die als Index verwendet werden soll"
   ]
  },
  {
   "cell_type": "code",
   "execution_count": null,
   "metadata": {},
   "outputs": [],
   "source": [
    "df.field1\n",
    "df[\"field1\"]\n",
    "df[[\"field1, field2\"]]\n",
    "df[condition]\n",
    "df.loc[index]\n",
    "df.iloc[integer]\n",
    "\n",
    "index_col=\"column\""
   ]
  },
  {
   "cell_type": "markdown",
   "metadata": {},
   "source": [
    "## Statistiken aggregieren\n",
    "\n",
    "**.max()** - maximum (Wert)\n",
    "\n",
    "**.min()** - minimum (Wert)\n",
    "\n",
    "**.mean** - Durchschnitt\n",
    "\n",
    "**.std()** - Standart Deviation\n",
    "\n",
    "**.sum()** - Summe\n",
    "\n",
    "**.count()** - zähle\n",
    "\n",
    "**.size()** - useful for double-groups, ähnlich zu value_counts\n",
    "\n",
    "\n"
   ]
  },
  {
   "cell_type": "markdown",
   "metadata": {},
   "source": [
    "## Dataframes modifizieren\n",
    "\n",
    "**df.copy()** - Kopiert ein Dataframe (anstelle von nur darauf zu referenzieren)\n",
    "\n",
    "**df.set_index(\"field\")** - ändert die Index Spalte zu \"field\" (Spaltenname, der vergeben wird)  -  **inplace=True** - macht die Änderungen auf dem Objekt, nicht einer Kopie\n",
    "\n",
    "**df.rename_axis(\"Name\")** - Ändert den Namen einer Spalte. Mit \"None\" dann der Spaltenname gelöscht werden.  -  **inplace=True** - macht die Änderungen auf dem Objekt, nicht einer Kopie\n",
    "\n"
   ]
  },
  {
   "cell_type": "code",
   "execution_count": null,
   "metadata": {},
   "outputs": [],
   "source": [
    "df.copy()\n",
    "df.set_index(\"field\")\n",
    "df.rename_axis(\"Name\")"
   ]
  },
  {
   "cell_type": "markdown",
   "metadata": {},
   "source": [
    "### Spalten (Columns) in Dataframes modifizieren\n",
    "\n",
    "**df.insert(pos, \"field1\", values)** - fügt eine neue Spalte \"field1\" mit pos-Werten ein\n",
    "\n",
    "**df.pop(\"field1\")** - löscht Spalte \"field1\"\n",
    "\n",
    "**df.assign(newfield = df.[\"field1\"] ... )** - ordnet Werte neuen Spalten zu (original bleibt bestehen)  - **inplace = True** - führt die Änderungen auf den Dataframe aus, keiner Kopie"
   ]
  },
  {
   "cell_type": "code",
   "execution_count": null,
   "metadata": {},
   "outputs": [],
   "source": [
    "df.insert(pos, \"field1\", values)\n",
    "df.pop(\"field1\")\n",
    "df.assign(newfield = df.[\"field1\"]...)"
   ]
  },
  {
   "cell_type": "markdown",
   "metadata": {},
   "source": [
    "### Zeilen (Rows) in Dataframes modifizieren\n",
    "\n",
    "**df.append(series,dataframe)** - fügt Zeilen ein, gibt ein neues Objekt zurück    - **inplace = True** - führt die Änderungen auf dem Dataframe aus, keiner Kopie\n",
    "\n",
    "**df.drop(df[condition].index)** - löscht Zeilen eines Dataframe nach Conditions  - **inplace = True** - führt die Änderungen auf dem Dataframe aus, keiner Kopie"
   ]
  },
  {
   "cell_type": "code",
   "execution_count": null,
   "metadata": {},
   "outputs": [],
   "source": [
    "df.append(series, dataframe)\n",
    "df.drop(df[condition].index)"
   ]
  },
  {
   "cell_type": "markdown",
   "metadata": {},
   "source": [
    "## Datenstrukturen modifizieren\n",
    "\n",
    "**.value_counts()** - zählt Inhalte (integers)\n",
    "\n",
    "**.sort_values** - ordnet Inhalte an  -  **ascending=False** - in absteigender Reihenfolge\n",
    "\n",
    "**df.rename_axis(\"Name\")** - Ändert den Namen einer Spalte. Mit \"None\" dann der Spaltenname gelöscht werden.  -  **inplace=True** - macht die Änderungen auf dem Objekt, nicht einer Kopie\n",
    "\n",
    "**df.sort_index()** - Sortiert nach Index, nicht nach Werten\n",
    "\n",
    "**df.pivot()** - transformiert lange Datenfiles in weite Datenfiles\n",
    "\n",
    "**df.melt()** - transformiert weite in lange Datenfiles\n",
    "\n",
    "**df.unstack** - transform groupby-subrows into columns (gut für stacked barcharts)\n",
    "\n",
    "**df.transpose** - switches row and columns over the whole dataset (Kurzbefehl: **df.T**)\n"
   ]
  },
  {
   "cell_type": "code",
   "execution_count": null,
   "metadata": {},
   "outputs": [],
   "source": [
    "df[\"spalte\"].value_counts().sort_values(ascending=False).head(5)\n",
    "df[\"spalte\"].sort_values\n",
    "df.sort_index()\n",
    "df.pivot()\n",
    "df.melt()\n",
    "df.unstack()\n",
    "df.transpose()"
   ]
  },
  {
   "cell_type": "markdown",
   "metadata": {},
   "source": [
    "## Datenstrukturen gruppieren\n",
    "\n",
    "**df.groupby(\"field1\")[\"field2\"].function ()** - für gruppierten Output (benötigt Kolonnen) und eine funktion\n",
    "\n",
    "**df.groupby([\"field1\", \"field2\"])** - Groupby-Befehl auf zwei Leveln\n"
   ]
  },
  {
   "cell_type": "code",
   "execution_count": null,
   "metadata": {},
   "outputs": [],
   "source": [
    "df.groupby(\"field1\")[\"field2\"].function ()\n",
    "df.groupby([\"field1\", \"field2\"])\n",
    "            "
   ]
  },
  {
   "cell_type": "markdown",
   "metadata": {},
   "source": [
    "## Datenstrukturen kombinieren/verbinden\n",
    "\n",
    "**df.merge(df2)** - verbindet ein Dataframe mit einem zweiten\n",
    "\n",
    "**df.join(df2)** - verbindet/fügt an (join) ein Dataframe mit identischer Anzahl Zeilen zu einem anderen, horizontal\n",
    "\n",
    "**pd.concat([df1, df2])** - fügt alle aufgerufenen Dataframes in einer Liste zusammen, vertikal"
   ]
  },
  {
   "cell_type": "code",
   "execution_count": null,
   "metadata": {},
   "outputs": [],
   "source": [
    "df.merge(df2)\n",
    "on = \"field\" # fieldnames to match (if they have the same name)\n",
    "left_on = \"df-field1\" #fieldname to match on the left side\n",
    "right_on = \"df2-field\" #fieldname to match on right side\n",
    "left_index= True #weather to use the index as the left-side match field\n",
    "right_index= True #weather to use the index as the right-side match field\n",
    "how=\"inner/left/right/outer\" # just like in SQL ?????\n",
    "\n",
    "df.join(df2)\n",
    "\n",
    "pd.concat([df1, df2])\n",
    "axis=1 #fügt horizontal an, nicht vertikal\n",
    "ignore_index= True #konstruiert neuen Index (verwendet nicht den existierenden)"
   ]
  },
  {
   "cell_type": "markdown",
   "metadata": {},
   "source": [
    "## Deal mit NaN's\n",
    "\n",
    "**pd.isnull()** - xxx\n",
    "\n",
    "**pd.notnull()** - xxx\n",
    "\n",
    "**df.dropna()** - xxx\n",
    "\n",
    "**df.fillna(value)** - XXX"
   ]
  },
  {
   "cell_type": "code",
   "execution_count": null,
   "metadata": {},
   "outputs": [],
   "source": []
  }
 ],
 "metadata": {
  "kernelspec": {
   "display_name": "Python 3",
   "language": "python",
   "name": "python3"
  },
  "language_info": {
   "codemirror_mode": {
    "name": "ipython",
    "version": 3
   },
   "file_extension": ".py",
   "mimetype": "text/x-python",
   "name": "python",
   "nbconvert_exporter": "python",
   "pygments_lexer": "ipython3",
   "version": "3.7.0"
  }
 },
 "nbformat": 4,
 "nbformat_minor": 2
}
