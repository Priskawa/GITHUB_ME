{
 "cells": [
  {
   "cell_type": "markdown",
   "metadata": {},
   "source": [
    "# Projekt1 - Beizen der Schweiz, die Ochsentour\n",
    "\n",
    "## Arbeiten mit API, requests BeautifulSoup, arrangieren mit Pandas, Visualisierung\n",
    "\n",
    "### Nenn mir deine Stammbeiz und ich sage dir, wo du wohnst\n",
    "\n",
    "Welches sind die vorherrschenden Beizennamen pro Kanton? \n",
    "\n",
    "Nachdem die **Swisscom Directories AG API mich in die Sackgasse geführt hat,** die Übung auf die manuelle Tour (ziemlich sicher ohne Selenium, da muss ich mich noch besser einarbeiten)... ups, funktioniert auch nicht, denn es lassen sich nicht mehr als 200 Einträge scrapen!\n",
    "\n",
    "Also von vorne: in Handarbeit habe ich alle Beizennamen rausgesucht, die schweizweit mehr als 200 Einträge haben. Dies muss ich nun **via API** pro Kanton absuchen und zusammenstellen.\n",
    "\n",
    "Folgende zehn Beizennamen sind in der Auswahl (inkl. französische und italienische Übersetzung):\n",
    "\n",
    "  **-Rössli   -Löwen   -Hirschen   -Bären   -Sonne   -Linde   -Kreuz   -Sternen   -Engel   -Post**\n",
    "  \n",
    "Mein persönlicher API Schlüssel: 590ea8961488f9a63dbf95a7b7883805\n",
    "\n",
    "https://tel.search.ch/api/help\n",
    "\n",
    "\n",
    "BEISPIEL: https://tel.search.ch/api/?was=john+meier&key=Ihr Schlüssel\n",
    "\n",
    "\n",
    "  "
   ]
  },
  {
   "cell_type": "code",
   "execution_count": 54,
   "metadata": {},
   "outputs": [],
   "source": [
    "import requests\n",
    "import pandas as pd\n",
    "from bs4 import BeautifulSoup\n",
    "\n",
    "%matplotlib inline\n",
    "\n",
    "# Als Erstes alles importieren, was ich glaube zu brauchen..."
   ]
  },
  {
   "cell_type": "markdown",
   "metadata": {},
   "source": [
    "### Dann hole ich mir die Website, mit deren API ich arbeite\n",
    "\n",
    "Anhand der API Spezifikationen kann ich mir die genauen Parameter raussuchen, nach denen ich suchen will.\n",
    "Hier **was** (für Restaurant) , **wo** (für Kanton), und da TelSearch die requests auf 200 beschränkt hat die **maxnum** und **pos** (um eine Schlaufe bilden zu können für alle Einträge die mehr als 200 (maxnum) sind."
   ]
  },
  {
   "cell_type": "code",
   "execution_count": 56,
   "metadata": {},
   "outputs": [
    {
     "data": {
      "text/plain": [
       "'https://tel.search.ch/api/?was=Restaurant&key=590ea8961488f9a63dbf95a7b7883805'"
      ]
     },
     "execution_count": 56,
     "metadata": {},
     "output_type": "execute_result"
    }
   ],
   "source": [
    "\"https://tel.search.ch/api/?was=Restaurant&key=590ea8961488f9a63dbf95a7b7883805\""
   ]
  },
  {
   "cell_type": "markdown",
   "metadata": {},
   "source": [
    "Durch die Spezifikationen passe ich meine URL an und speichere sie gleich in eine Variable. Das unten heisst so viel wie alle Einträge in Restaurants des Kantons Schaffhausen, einer der zehn Namen (wegen der maxnum!!! GRRRR), bitte."
   ]
  },
  {
   "cell_type": "code",
   "execution_count": 57,
   "metadata": {},
   "outputs": [],
   "source": [
    "url = \"https://tel.search.ch/api/?was=Restaurant+Loewen&wo=SH&key=590ea8961488f9a63dbf95a7b7883805\""
   ]
  },
  {
   "cell_type": "markdown",
   "metadata": {},
   "source": [
    "Mit **requests** rufe ich die Website auf, auch dies wird gleich in eine Variable **response** gepackt."
   ]
  },
  {
   "cell_type": "code",
   "execution_count": 58,
   "metadata": {},
   "outputs": [],
   "source": [
    "response = requests.get(url)"
   ]
  },
  {
   "cell_type": "markdown",
   "metadata": {},
   "source": [
    "Was spuckt er aus? Erste Kontrolle, ob mein request richtig verpackt war. Und das dann gleich noch als Textausgabe."
   ]
  },
  {
   "cell_type": "code",
   "execution_count": 59,
   "metadata": {},
   "outputs": [
    {
     "data": {
      "text/plain": [
       "<Response [200]>"
      ]
     },
     "execution_count": 59,
     "metadata": {},
     "output_type": "execute_result"
    }
   ],
   "source": [
    "response"
   ]
  },
  {
   "cell_type": "code",
   "execution_count": null,
   "metadata": {},
   "outputs": [],
   "source": [
    "response.text"
   ]
  },
  {
   "cell_type": "markdown",
   "metadata": {},
   "source": [
    "Nun verpacke ich die URL in verschiedene Variablen um damit übersichtlicher arbeiten zu können. Dies gibt dann die nächste Variable **url_sh_loewen** und meine nächste Kontrolle, ob die Anfrage richtig gestellt war."
   ]
  },
  {
   "cell_type": "code",
   "execution_count": 60,
   "metadata": {},
   "outputs": [],
   "source": [
    "basis = \"https://tel.search.ch/api/?\"\n",
    "resto_loewen = \"was=Restaurant+Loewen&\"\n",
    "wo = \"wo=SH&\"\n",
    "key = \"&key=590ea8961488f9a63dbf95a7b7883805\""
   ]
  },
  {
   "cell_type": "code",
   "execution_count": 61,
   "metadata": {},
   "outputs": [],
   "source": [
    "url_sh_loewen = basis + resto_loewen + wo + key"
   ]
  },
  {
   "cell_type": "code",
   "execution_count": 62,
   "metadata": {},
   "outputs": [
    {
     "data": {
      "text/plain": [
       "<Response [200]>"
      ]
     },
     "execution_count": 62,
     "metadata": {},
     "output_type": "execute_result"
    }
   ],
   "source": [
    "requests.get(url_sh_loewen)"
   ]
  },
  {
   "cell_type": "code",
   "execution_count": 63,
   "metadata": {},
   "outputs": [
    {
     "data": {
      "text/plain": [
       "'<?xml version=\"1.0\" encoding=\"utf-8\" ?>\\n<feed xml:lang=\"de\" xmlns=\"http://www.w3.org/2005/Atom\" xmlns:openSearch=\"http://a9.com/-/spec/opensearchrss/1.0/\" xmlns:tel=\"http://tel.search.ch/api/spec/result/1.0/\">\\n  <id>https://tel.search.ch/api/590ea8961488f9a63dbf95a7b7883805/8391a826dd819d02f15c23a107491e08</id>\\n  <title type=\"text\">tel.search.ch API Search Results</title>\\n  <generator version=\"1.0\" uri=\"https://tel.search.ch\">tel.search.ch</generator>\\n  <updated>2018-10-13T02:00:00Z</updated>\\n  <link href=\"https://tel.search.ch/result.html?was=Restaurant+Loewen&amp;kanton=SH\" rel=\"alternate\" type=\"text/html\" />\\n  <link href=\"http://tel.search.ch/api/?was=Restaurant+Loewen&amp;wo=SH&amp;key=590ea8961488f9a63dbf95a7b7883805\" type=\"application/atom+xml\" rel=\"self\" />\\n  <openSearch:totalResults>1</openSearch:totalResults>\\n  <openSearch:startIndex>1</openSearch:startIndex>\\n  <openSearch:itemsPerPage>10</openSearch:itemsPerPage>\\n  <openSearch:Query role=\"request\" searchTerms=\"Restaurant Loewen \" startPage=\"1\"></openSearch:Query>\\n  <openSearch:Image height=\"1\" width=\"1\" type=\"image/gif\">https://www.search.ch/audit/CP/tel/de/api</openSearch:Image>\\n  <entry>\\n    <id>urn:uuid:47c1dad8447998db</id>\\n    <updated>2018-10-13T02:00:00Z</updated>\\n    <published>2018-10-13T02:00:00Z</published>\\n    <title type=\"text\">Restaurant Löwen</title>\\n    <content type=\"text\">Restaurant Löwen\\n    Lars Guskowski\\n    Adlerstrasse 18\\n    8226 Schleitheim/SH\\n    052 680 15 85</content>\\n    <author>\\n      <name>tel.search.ch</name>\\n    </author>\\n    <link href=\"https://tel.search.ch/schleitheim/adlerstrasse-18/restaurant-loewen-2\" title=\"Details\" rel=\"alternate\" type=\"text/html\" />\\n    <link href=\"https://tel.search.ch/vcard/Restaurant-Loewen.vcf?key=47c1dad8447998db\" type=\"text/x-vcard\" title=\"VCard Download\" rel=\"alternate\" />\\n    <link href=\"https://tel.search.ch/edit/?id=47c1dad8447998db\" rel=\"edit\" type=\"text/html\" />\\n    <tel:pos>1</tel:pos>\\n    <tel:id>47c1dad8447998db</tel:id>\\n    <tel:type>Organisation</tel:type>\\n    <tel:name>Restaurant Löwen</tel:name>\\n    <tel:subname>Lars Guskowski</tel:subname>\\n    <tel:street>Adlerstrasse</tel:street>\\n    <tel:streetno>18</tel:streetno>\\n    <tel:zip>8226</tel:zip>\\n    <tel:city>Schleitheim</tel:city>\\n    <tel:canton>SH</tel:canton>\\n    <tel:country>ch</tel:country>\\n    <tel:category>Restaurant</tel:category>\\n    <tel:phone>+41526801585</tel:phone>\\n    <tel:copyright>Daten: Swisscom Directories AG</tel:copyright>\\n  </entry>\\n</feed>\\n'"
      ]
     },
     "execution_count": 63,
     "metadata": {},
     "output_type": "execute_result"
    }
   ],
   "source": [
    "requests.get(url_sh_loewen).text"
   ]
  },
  {
   "cell_type": "markdown",
   "metadata": {},
   "source": [
    "Ich will mir die zusammengesetzte Website-URL nochmals anschauen..."
   ]
  },
  {
   "cell_type": "code",
   "execution_count": 64,
   "metadata": {},
   "outputs": [
    {
     "name": "stdout",
     "output_type": "stream",
     "text": [
      "https://tel.search.ch/api/?was=Restaurant+Loewen&wo=SH&&key=590ea8961488f9a63dbf95a7b7883805\n"
     ]
    }
   ],
   "source": [
    "print(url_sh_loewen)"
   ]
  },
  {
   "cell_type": "markdown",
   "metadata": {},
   "source": [
    "Wie in JupyterNotebook \"Beizen der Schweiz\" beschrieben, nix mit json.XML. \n",
    "Ich pack die ganze Sache in BeautifulSoup. \n",
    "Und wie im ersten Notebook beschrieben, suche ich nach \"entry\". "
   ]
  },
  {
   "cell_type": "code",
   "execution_count": 65,
   "metadata": {},
   "outputs": [],
   "source": [
    "r = requests.get(url_sh_loewen)"
   ]
  },
  {
   "cell_type": "code",
   "execution_count": 66,
   "metadata": {},
   "outputs": [
    {
     "data": {
      "text/plain": [
       "1"
      ]
     },
     "execution_count": 66,
     "metadata": {},
     "output_type": "execute_result"
    }
   ],
   "source": [
    "contents = r.text #Wandeln wir den Text in ein Format um, mit dem BeautifulSoup umgehen kann.\n",
    "soup = BeautifulSoup(contents,'html.parser') #Geben wir das an BeautifulSoup weiter\n",
    "entries = soup.find_all('entry') #Nun lesen wir Titel aus.\n",
    "len(entries) #Schauen wir, wie lange die Titel sind."
   ]
  },
  {
   "cell_type": "markdown",
   "metadata": {},
   "source": [
    "### Der neue Workaround... \n",
    "\n",
    "Alles wie in Teil 1 : )\n",
    "Also baue ich mir ein leeres Dataframe, wo ich dann wie in einen Container alles abfüllen kann. Ich brauche einen Boolean, verschiedene Variablen, neu für die verschiedenen Namen der Beizen pro Kanton. \n",
    "\n",
    "Und ja, wo es pro Kanton weniger als 200 Restaurants gibt, ziehe ich natürlich alle raus, um mir mehrere Requests pro Kanton sparen zu können...\n",
    "\n",
    "Das ganze wird in mehrere CSV's gespeichert, um danach weiterarbeiten zu können.\n"
   ]
  },
  {
   "cell_type": "code",
   "execution_count": 351,
   "metadata": {},
   "outputs": [
    {
     "name": "stdout",
     "output_type": "stream",
     "text": [
      "Restaurant de l'Ange\n",
      "Auberge de l'Ange\n",
      "Auberge de l'Ange\n",
      "Café de l'Ange Fribourg Sàrl\n",
      "de l'Ange Sarl\n",
      "Ange\n",
      "Restaurant Punkt - Salle Grenette\n",
      "Restaurant Alpenrose\n",
      "da Pino Ristorante Frohheim\n",
      "Schloss Ueberstorf\n",
      "finito\n"
     ]
    }
   ],
   "source": [
    "df = pd.DataFrame({\"Restaurantname\":[], \"Kanton\":[]})\n",
    "df.head()\n",
    "\n",
    "kanton = \"FR\"\n",
    "restoname = \"Ange\"\n",
    "basis = \"https://tel.search.ch/api/?\"\n",
    "was = \"was=Restaurant%20\" + restoname + \"&\"\n",
    "wo = \"wo=\"+ kanton + \"&\"\n",
    "key = \"&key=590ea8961488f9a63dbf95a7b7883805\"\n",
    "    \n",
    "url_fr_ange = basis + was + wo + key\n",
    "#print(url_sh_sternen)\n",
    "    \n",
    "r = requests.get(url_fr_ange)\n",
    "soup = BeautifulSoup(r.text, 'html.parser')\n",
    "#print(soup.find(\"opensearch:totalresults\").text)\n",
    "    \n",
    "#Alle Entrys vom aktuellen file durchsuchen\n",
    "entries = soup.find_all(\"entry\")\n",
    "for entry in entries:\n",
    "        print (entry.find(\"title\").text)\n",
    "        restaurantname = entry.find(\"title\").text\n",
    "        df = df.append({\"Restaurantname\": restaurantname},ignore_index=True)\n",
    "    \n",
    "print(\"finito\")"
   ]
  },
  {
   "cell_type": "code",
   "execution_count": 352,
   "metadata": {},
   "outputs": [],
   "source": [
    "df.to_csv(\"export_csv/export_\" + kanton + \"_\" + restoname + \".csv\", sep = \";\" , index = False)"
   ]
  },
  {
   "cell_type": "markdown",
   "metadata": {},
   "source": [
    "## CSVs bereinigen\n",
    "\n",
    "die Files kommen zum Teil mit komischen (falschen) Einträgen und Namen daher. Da die API immer nach einer gewissen Anzahl Abfragen pro Tag schliesst, bereinige ich die CSV in der Zweischenzeit in Atom und füge alle Einträge zu einem Kantons-CSV zusammen. Diese werden dann zu einem Schweiz total CSV zusammengefügt und wieder eingelesen."
   ]
  },
  {
   "cell_type": "code",
   "execution_count": null,
   "metadata": {},
   "outputs": [],
   "source": [
    ",\"AG\\n\".strip()"
   ]
  },
  {
   "cell_type": "code",
   "execution_count": 44,
   "metadata": {},
   "outputs": [
    {
     "name": "stdout",
     "output_type": "stream",
     "text": [
      "['Restaurantname', 'Kanton\\n']\n",
      "['Restaurant Bären', 'AG\\n']\n",
      "[\"Pfändler's Gasthof zum Bären GmbH\", 'AG\\n']\n",
      "['Hotel Gasthaus Bären', 'AG\\n']\n",
      "['Gasthof Bären', 'AG\\n']\n",
      "['Bären Fisibach AG', 'AG\\n']\n",
      "['Hotel Bären Suhr', 'AG\\n']\n",
      "['Restaurant Hotel Bären', 'AG\\n']\n",
      "['Gasthaus zum Bären', 'AG\\n']\n",
      "['Bären', 'AG\\n']\n",
      "['Bären', 'AG\\n']\n",
      "['Restaurant Engel', 'AG\\n']\n",
      "['Hotel Restaurant Engel', 'AG\\n']\n",
      "['Gasthof Engel', 'AG\\n']\n",
      "['Gasthof Engel', 'AG\\n']\n",
      "['Speisewirtschaft zum Blauen Engel', 'AG\\n']\n",
      "['Gasthaus zum Engel', 'AG\\n']\n",
      "['Besenbeiz Engelhof', 'AG\\n']\n",
      "['Restaurant Hirschen', 'AG\\n']\n",
      "['Restaurant Hirschen/Güggeli Oase', 'AG\\n']\n",
      "['Restaurant Hirschen', 'AG\\n']\n",
      "['Restaurant Hirschen', 'AG\\n']\n",
      "['Restaurant Hirschen', 'AG\\n']\n",
      "['Gasthof Hirschen', 'AG\\n']\n",
      "['Landgasthaus zum Hirschen', 'AG\\n']\n",
      "['Gasthaus Hirschen GmbH', 'AG\\n']\n",
      "['Hirschen', 'AG\\n']\n",
      "['Hirschen Le Cachet Lenzburg', 'AG\\n']\n",
      "['Restaurant Kreuz', 'AG\\n']\n",
      "['Restaurant Brasserie Weisses Kreuz', 'AG\\n']\n",
      "['Landgasthof Weisses Kreuz', 'AG\\n']\n",
      "['Gasthaus zum weissen Kreuz', 'AG\\n']\n",
      "['Kreuz', 'AG\\n']\n",
      "['Gasthof Kreuz Meienberg', 'AG\\n']\n",
      "['Kreuz / Schoren', 'AG\\n']\n",
      "['Gasthaus zum Kreuz', 'AG\\n']\n",
      "['Gasthof Kreuz', 'AG\\n']\n",
      "['Gasthof zum Kreuz', 'AG\\n']\n",
      "['Restaurant LINDE BIRR', 'AG\\n']\n",
      "['Restaurant/ Hotel Linde', 'AG\\n']\n",
      "['Linde Hotel Restaurant Bankette', 'AG\\n']\n",
      "['Hotel Linde Fislisbach', 'AG\\n']\n",
      "['Gasthaus Linde', 'AG\\n']\n",
      "['Gasthof Linde Mühlethal AG', 'AG\\n']\n",
      "['Restaurant Hotel Linde', 'AG\\n']\n",
      "['Linde Rustica', 'AG\\n']\n",
      "['zur Linde', 'AG\\n']\n",
      "['Asia Linde', 'AG\\n']\n",
      "['Restaurant Löwen', 'AG\\n']\n",
      "['Restaurant zum Löwen', 'AG\\n']\n",
      "['Löwen', 'AG\\n']\n",
      "['Restaurant Haus zum Löwen KLG', 'AG\\n']\n",
      "['Hotel Löwen Mellingen', 'AG\\n']\n",
      "['Gasthof zum Roten Löwen', 'AG\\n']\n",
      "['Löwen', 'AG\\n']\n",
      "['Löwen', 'AG\\n']\n",
      "['Gasthof zum Löwen', 'AG\\n']\n",
      "['Gasthof Löwen', 'AG\\n']\n",
      "['Restaurant Post', 'AG\\n']\n",
      "['Restaurant Post', 'AG\\n']\n",
      "['Restaurant Pizzeria Post Sengül', 'AG\\n']\n",
      "['Restaurant Pizzeria Post', 'AG\\n']\n",
      "['Restaurant zur Post', 'AG\\n']\n",
      "['Doppelkegelbahn Restaurant Pizzeria Post', 'AG\\n']\n",
      "['Post', 'AG\\n']\n",
      "['zur Post', 'AG\\n']\n",
      "['Post Restaurant Méditerranée', 'AG\\n']\n",
      "['Fischbeiz Alte Post', 'AG\\n']\n",
      "['Restaurant Rössli Rothrist', 'AG\\n']\n",
      "['Restaurant Rössli', 'AG\\n']\n",
      "['Restaurant Rössli', 'AG\\n']\n",
      "['Restaurant Rössli', 'AG\\n']\n",
      "['Hotel Restaurant Rössli', 'AG\\n']\n",
      "['Restaurant Rössli Pizzeria', 'AG\\n']\n",
      "['Restaurant Tomate Steakhouse by Rössli', 'AG\\n']\n",
      "[\"Putzi's Weinresidenz zum Rössli\", 'AG\\n']\n",
      "['Gasthaus Rössli Rothrist', 'AG\\n']\n",
      "['Rössli', 'AG\\n']\n",
      "['Restaurant Sonne', 'AG\\n']\n",
      "['Restaurant Sonne', 'AG\\n']\n",
      "['Restaurant Sonne', 'AG\\n']\n",
      "['Restaurant Sonne', 'AG\\n']\n",
      "['Restaurant & Lounge Sonne', 'AG\\n']\n",
      "['Restaurant Pizzeria Sonne', 'AG\\n']\n",
      "['Gasthof Sonne Uerkheim', 'AG\\n']\n",
      "['Gasthof Sonne', 'AG\\n']\n",
      "['Gasthof zur Sonne', 'AG\\n']\n",
      "['Landgasthof Sonne', 'AG\\n']\n",
      "['Restaurant Sternen', 'AG\\n']\n",
      "['China-Restaurant Sternen', 'AG\\n']\n",
      "['Restaurant Sternen Elfingen', 'AG\\n']\n",
      "['Restaurant Sternen', 'AG\\n']\n",
      "['Hotel Restaurant zum Sternen', 'AG\\n']\n",
      "['Restaurant Sternen', 'AG\\n']\n",
      "['Restaurant zum Sternen', 'AG\\n']\n",
      "['Gasthof Sternen', 'AG\\n']\n",
      "['Romantik Hotel Landgasthof zu den Drei Sternen', 'AG\\n']\n",
      "['Gasthaus Sternen', 'AG\\n']\n"
     ]
    }
   ],
   "source": [
    "with open(\"AG_alle.csv\") as file:\n",
    "    for line in file:\n",
    "        data = line.split(\";\")\n",
    "        \n",
    "        print(data)"
   ]
  },
  {
   "cell_type": "code",
   "execution_count": 353,
   "metadata": {},
   "outputs": [],
   "source": [
    "df = pd.read_csv(\"CH_alle.csv\",sep = \";\")"
   ]
  },
  {
   "cell_type": "code",
   "execution_count": 358,
   "metadata": {},
   "outputs": [
    {
     "data": {
      "text/html": [
       "<div>\n",
       "<style scoped>\n",
       "    .dataframe tbody tr th:only-of-type {\n",
       "        vertical-align: middle;\n",
       "    }\n",
       "\n",
       "    .dataframe tbody tr th {\n",
       "        vertical-align: top;\n",
       "    }\n",
       "\n",
       "    .dataframe thead th {\n",
       "        text-align: right;\n",
       "    }\n",
       "</style>\n",
       "<table border=\"1\" class=\"dataframe\">\n",
       "  <thead>\n",
       "    <tr style=\"text-align: right;\">\n",
       "      <th></th>\n",
       "      <th>Restaurantname</th>\n",
       "      <th>Kanton</th>\n",
       "    </tr>\n",
       "  </thead>\n",
       "  <tbody>\n",
       "    <tr>\n",
       "      <th>0</th>\n",
       "      <td>Restaurant Bären</td>\n",
       "      <td>AG</td>\n",
       "    </tr>\n",
       "    <tr>\n",
       "      <th>1</th>\n",
       "      <td>Pfändler's Gasthof zum Bären GmbH</td>\n",
       "      <td>AG</td>\n",
       "    </tr>\n",
       "    <tr>\n",
       "      <th>2</th>\n",
       "      <td>Hotel Gasthaus Bären</td>\n",
       "      <td>AG</td>\n",
       "    </tr>\n",
       "    <tr>\n",
       "      <th>3</th>\n",
       "      <td>Gasthof Bären</td>\n",
       "      <td>AG</td>\n",
       "    </tr>\n",
       "    <tr>\n",
       "      <th>4</th>\n",
       "      <td>Bären Fisibach AG</td>\n",
       "      <td>AG</td>\n",
       "    </tr>\n",
       "  </tbody>\n",
       "</table>\n",
       "</div>"
      ],
      "text/plain": [
       "                      Restaurantname Kanton\n",
       "0                   Restaurant Bären     AG\n",
       "1  Pfändler's Gasthof zum Bären GmbH     AG\n",
       "2               Hotel Gasthaus Bären     AG\n",
       "3                      Gasthof Bären     AG\n",
       "4                  Bären Fisibach AG     AG"
      ]
     },
     "execution_count": 358,
     "metadata": {},
     "output_type": "execute_result"
    }
   ],
   "source": [
    "df.head()"
   ]
  },
  {
   "cell_type": "code",
   "execution_count": 359,
   "metadata": {},
   "outputs": [
    {
     "data": {
      "text/html": [
       "<div>\n",
       "<style scoped>\n",
       "    .dataframe tbody tr th:only-of-type {\n",
       "        vertical-align: middle;\n",
       "    }\n",
       "\n",
       "    .dataframe tbody tr th {\n",
       "        vertical-align: top;\n",
       "    }\n",
       "\n",
       "    .dataframe thead th {\n",
       "        text-align: right;\n",
       "    }\n",
       "</style>\n",
       "<table border=\"1\" class=\"dataframe\">\n",
       "  <thead>\n",
       "    <tr style=\"text-align: right;\">\n",
       "      <th></th>\n",
       "      <th>Restaurantname</th>\n",
       "      <th>Kanton</th>\n",
       "    </tr>\n",
       "  </thead>\n",
       "  <tbody>\n",
       "    <tr>\n",
       "      <th>1249</th>\n",
       "      <td>Restaurant Gasthaus Sternen</td>\n",
       "      <td>ZH</td>\n",
       "    </tr>\n",
       "    <tr>\n",
       "      <th>1250</th>\n",
       "      <td>Sternen Grill + Sternen Grill Restaurant im ob...</td>\n",
       "      <td>ZH</td>\n",
       "    </tr>\n",
       "    <tr>\n",
       "      <th>1251</th>\n",
       "      <td>Restaurant Pizzeria Sternen</td>\n",
       "      <td>ZH</td>\n",
       "    </tr>\n",
       "    <tr>\n",
       "      <th>1252</th>\n",
       "      <td>STERNEN RESTAURANT &amp; BAR</td>\n",
       "      <td>ZH</td>\n",
       "    </tr>\n",
       "    <tr>\n",
       "      <th>1253</th>\n",
       "      <td>Sternen Oerlikon</td>\n",
       "      <td>ZH</td>\n",
       "    </tr>\n",
       "  </tbody>\n",
       "</table>\n",
       "</div>"
      ],
      "text/plain": [
       "                                         Restaurantname Kanton\n",
       "1249                        Restaurant Gasthaus Sternen     ZH\n",
       "1250  Sternen Grill + Sternen Grill Restaurant im ob...     ZH\n",
       "1251                        Restaurant Pizzeria Sternen     ZH\n",
       "1252                           STERNEN RESTAURANT & BAR     ZH\n",
       "1253                                   Sternen Oerlikon     ZH"
      ]
     },
     "execution_count": 359,
     "metadata": {},
     "output_type": "execute_result"
    }
   ],
   "source": [
    "df.tail(5)"
   ]
  },
  {
   "cell_type": "code",
   "execution_count": 360,
   "metadata": {},
   "outputs": [
    {
     "data": {
      "text/plain": [
       "(1254, 2)"
      ]
     },
     "execution_count": 360,
     "metadata": {},
     "output_type": "execute_result"
    }
   ],
   "source": [
    "df.shape"
   ]
  },
  {
   "cell_type": "code",
   "execution_count": 361,
   "metadata": {},
   "outputs": [
    {
     "data": {
      "text/plain": [
       "1254"
      ]
     },
     "execution_count": 361,
     "metadata": {},
     "output_type": "execute_result"
    }
   ],
   "source": [
    "len(df)"
   ]
  },
  {
   "cell_type": "code",
   "execution_count": 362,
   "metadata": {},
   "outputs": [
    {
     "data": {
      "text/html": [
       "<div>\n",
       "<style scoped>\n",
       "    .dataframe tbody tr th:only-of-type {\n",
       "        vertical-align: middle;\n",
       "    }\n",
       "\n",
       "    .dataframe tbody tr th {\n",
       "        vertical-align: top;\n",
       "    }\n",
       "\n",
       "    .dataframe thead th {\n",
       "        text-align: right;\n",
       "    }\n",
       "</style>\n",
       "<table border=\"1\" class=\"dataframe\">\n",
       "  <thead>\n",
       "    <tr style=\"text-align: right;\">\n",
       "      <th></th>\n",
       "      <th>Restaurantname</th>\n",
       "      <th>Kanton</th>\n",
       "    </tr>\n",
       "  </thead>\n",
       "  <tbody>\n",
       "    <tr>\n",
       "      <th>count</th>\n",
       "      <td>1254</td>\n",
       "      <td>1244</td>\n",
       "    </tr>\n",
       "    <tr>\n",
       "      <th>unique</th>\n",
       "      <td>680</td>\n",
       "      <td>26</td>\n",
       "    </tr>\n",
       "    <tr>\n",
       "      <th>top</th>\n",
       "      <td>Restaurant Rössli</td>\n",
       "      <td>BE</td>\n",
       "    </tr>\n",
       "    <tr>\n",
       "      <th>freq</th>\n",
       "      <td>38</td>\n",
       "      <td>123</td>\n",
       "    </tr>\n",
       "  </tbody>\n",
       "</table>\n",
       "</div>"
      ],
      "text/plain": [
       "           Restaurantname Kanton\n",
       "count                1254   1244\n",
       "unique                680     26\n",
       "top     Restaurant Rössli     BE\n",
       "freq                   38    123"
      ]
     },
     "execution_count": 362,
     "metadata": {},
     "output_type": "execute_result"
    }
   ],
   "source": [
    "df.describe()"
   ]
  },
  {
   "cell_type": "code",
   "execution_count": null,
   "metadata": {},
   "outputs": [],
   "source": []
  }
 ],
 "metadata": {
  "kernelspec": {
   "display_name": "Python 3",
   "language": "python",
   "name": "python3"
  },
  "language_info": {
   "codemirror_mode": {
    "name": "ipython",
    "version": 3
   },
   "file_extension": ".py",
   "mimetype": "text/x-python",
   "name": "python",
   "nbconvert_exporter": "python",
   "pygments_lexer": "ipython3",
   "version": "3.7.0"
  }
 },
 "nbformat": 4,
 "nbformat_minor": 2
}
