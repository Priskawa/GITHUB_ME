{
 "cells": [
  {
   "cell_type": "markdown",
   "metadata": {},
   "source": [
    "# Projekt1 - Beizen der Schweiz\n",
    "\n",
    "## APIs, Requests, Visualisierung\n",
    "\n",
    "#### Nenn mir deine Stammbeiz und ich sage dir, wo du wohnst\n",
    "\n",
    "Welches sind die vorherrschenden Beizennamen pro Kanton? Recherche mit der Swisscom Directories AG API.\n",
    "Mein persönlicher API Schlüssel: 590ea8961488f9a63dbf95a7b7883805\n",
    "\n",
    "https://tel.search.ch/api/help\n"
   ]
  },
  {
   "cell_type": "markdown",
   "metadata": {},
   "source": [
    "BEISPIEL: https://tel.search.ch/api/?was=john+meier&key=Ihr Schlüssel"
   ]
  },
  {
   "cell_type": "code",
   "execution_count": 16,
   "metadata": {},
   "outputs": [],
   "source": [
    "import requests\n",
    "import pandas as pd\n",
    "from bs4 import BeautifulSoup\n",
    "\n",
    "%matplotlib inline\n",
    "\n",
    "import json\n"
   ]
  },
  {
   "cell_type": "code",
   "execution_count": 17,
   "metadata": {},
   "outputs": [
    {
     "data": {
      "text/plain": [
       "'https://tel.search.ch/api/?was=Restaurant&key=590ea8961488f9a63dbf95a7b7883805'"
      ]
     },
     "execution_count": 17,
     "metadata": {},
     "output_type": "execute_result"
    }
   ],
   "source": [
    "\"https://tel.search.ch/api/?was=Restaurant&key=590ea8961488f9a63dbf95a7b7883805\"\n",
    "\n"
   ]
  },
  {
   "cell_type": "code",
   "execution_count": 58,
   "metadata": {},
   "outputs": [],
   "source": [
    "url = \"https://tel.search.ch/api/?was=Restaurant&wo=SH&key=590ea8961488f9a63dbf95a7b7883805\""
   ]
  },
  {
   "cell_type": "code",
   "execution_count": 59,
   "metadata": {},
   "outputs": [],
   "source": [
    "response = requests.get(url)"
   ]
  },
  {
   "cell_type": "code",
   "execution_count": 60,
   "metadata": {},
   "outputs": [
    {
     "data": {
      "text/plain": [
       "<Response [200]>"
      ]
     },
     "execution_count": 60,
     "metadata": {},
     "output_type": "execute_result"
    }
   ],
   "source": [
    "response"
   ]
  },
  {
   "cell_type": "code",
   "execution_count": 61,
   "metadata": {},
   "outputs": [
    {
     "data": {
      "text/plain": [
       "'<?xml version=\"1.0\" encoding=\"utf-8\" ?>\\n<feed xml:lang=\"de\" xmlns=\"http://www.w3.org/2005/Atom\" xmlns:openSearch=\"http://a9.com/-/spec/opensearchrss/1.0/\" xmlns:tel=\"http://tel.search.ch/api/spec/result/1.0/\">\\n  <id>https://tel.search.ch/api/590ea8961488f9a63dbf95a7b7883805/8c1dd469af1e26dfc55dd7ea0b982946</id>\\n  <title type=\"text\">tel.search.ch API Search Results</title>\\n  <generator version=\"1.0\" uri=\"https://tel.search.ch\">tel.search.ch</generator>\\n  <updated>2018-10-09T02:00:00Z</updated>\\n  <link href=\"https://tel.search.ch/result.html?was=Restaurant&amp;kanton=SH\" rel=\"alternate\" type=\"text/html\" />\\n  <link href=\"http://tel.search.ch/api/?was=Restaurant&amp;wo=SH&amp;key=590ea8961488f9a63dbf95a7b7883805\" type=\"application/atom+xml\" rel=\"self\" />\\n  <link href=\"http://tel.search.ch/api/?was=Restaurant&amp;wo=SH&amp;pos=11&amp;key=590ea8961488f9a63dbf95a7b7883805\" rel=\"next\" type=\"application/atom+xml\" />\\n  <openSearch:totalResults>265</openSearch:totalResults>\\n  <openSearch:startIndex>1</openSearch:startIndex>\\n  <openSearch:itemsPerPage>10</openSearch:itemsPerPage>\\n  <openSearch:Query role=\"request\" searchTerms=\"Restaurant \" startPage=\"1\"></openSearch:Query>\\n  <openSearch:Image height=\"1\" width=\"1\" type=\"image/gif\">https://www.search.ch/audit/CP/tel/de/api</openSearch:Image>\\n  <entry>\\n    <id>urn:uuid:000ee7cc8f446356</id>\\n    <updated>2018-10-09T02:00:00Z</updated>\\n    <published>2018-10-09T02:00:00Z</published>\\n    <title type=\"text\">Güterhof Restaurant, Bar, Sushi, Dine</title>\\n    <content type=\"text\">Güterhof Restaurant, Bar, Sushi, Dine\\n    prager. gastronomie AG\\n    Gastronomie\\n    Freier Platz 10\\n    8200 Schaffhausen/SH\\n    *052 630 40 40</content>\\n    <tel:nopromo>*</tel:nopromo>\\n    <author>\\n      <name>tel.search.ch</name>\\n    </author>\\n    <link href=\"https://tel.search.ch/schaffhausen/freier-platz-10/gueterhof-restaurant-bar-sushi-dine\" title=\"Details\" rel=\"alternate\" type=\"text/html\" />\\n    <link href=\"https://tel.search.ch/vcard/Gueterhof-Restaurant-Bar-Sushi-Dine.vcf?key=000ee7cc8f446356\" type=\"text/x-vcard\" title=\"VCard Download\" rel=\"alternate\" />\\n    <link href=\"https://tel.search.ch/edit/?id=000ee7cc8f446356\" rel=\"edit\" type=\"text/html\" />\\n    <tel:pos>1</tel:pos>\\n    <tel:id>000ee7cc8f446356</tel:id>\\n    <tel:type>Organisation</tel:type>\\n    <tel:name>Güterhof Restaurant, Bar, Sushi, Dine</tel:name>\\n    <tel:subname>prager. gastronomie AG</tel:subname>\\n    <tel:occupation>Gastronomie</tel:occupation>\\n    <tel:street>Freier Platz</tel:street>\\n    <tel:streetno>10</tel:streetno>\\n    <tel:zip>8200</tel:zip>\\n    <tel:city>Schaffhausen</tel:city>\\n    <tel:canton>SH</tel:canton>\\n    <tel:country>ch</tel:country>\\n    <tel:category>Restaurant</tel:category>\\n    <tel:phone>+41526304040</tel:phone>\\n    <tel:extra type=\"email\">info@gueterhof.ch*</tel:extra>\\n    <tel:extra type=\"website\">http://www.gueterhof.ch</tel:extra>\\n    <tel:businesslink>https://tel.search.ch/schaffhausen/freier-platz-10/gueterhof-restaurant-bar-sushi-dine</tel:businesslink>\\n  </entry>\\n  <entry>\\n    <id>urn:uuid:84e4e06b18985c6d</id>\\n    <updated>2018-10-09T02:00:00Z</updated>\\n    <published>2018-10-09T02:00:00Z</published>\\n    <title type=\"text\">Restaurant Burg Hohenklingen</title>\\n    <content type=\"text\">Restaurant Burg Hohenklingen\\n    Klingen Gastro GmbH\\n    Hohenklingenstrasse 1\\n    8260 Stein am Rhein/SH\\n    *052 741 21 37</content>\\n    <tel:nopromo>*</tel:nopromo>\\n    <author>\\n      <name>tel.search.ch</name>\\n    </author>\\n    <link href=\"https://tel.search.ch/stein-am-rhein/hohenklingenstrasse-1/restaurant-burg-hohenklingen\" title=\"Details\" rel=\"alternate\" type=\"text/html\" />\\n    <link href=\"https://tel.search.ch/vcard/Restaurant-Burg-Hohenklingen.vcf?key=84e4e06b18985c6d\" type=\"text/x-vcard\" title=\"VCard Download\" rel=\"alternate\" />\\n    <link href=\"https://tel.search.ch/edit/?id=84e4e06b18985c6d\" rel=\"edit\" type=\"text/html\" />\\n    <tel:pos>2</tel:pos>\\n    <tel:id>84e4e06b18985c6d</tel:id>\\n    <tel:type>Organisation</tel:type>\\n    <tel:name>Restaurant Burg Hohenklingen</tel:name>\\n    <tel:subname>Klingen Gastro GmbH</tel:subname>\\n    <tel:street>Hohenklingenstrasse</tel:street>\\n    <tel:streetno>1</tel:streetno>\\n    <tel:zip>8260</tel:zip>\\n    <tel:city>Stein am Rhein</tel:city>\\n    <tel:canton>SH</tel:canton>\\n    <tel:country>ch</tel:country>\\n    <tel:category>Restaurant</tel:category>\\n    <tel:category>Hochzeit</tel:category>\\n    <tel:category>Bankett</tel:category>\\n    <tel:phone>+41527412137</tel:phone>\\n    <tel:extra type=\"Fax\">+41527412134</tel:extra>\\n    <tel:extra type=\"website\">http://www.burghohenklingen.com</tel:extra>\\n    <tel:extra type=\"website\">http://www.burghohenklingen.ch</tel:extra>\\n    <tel:copyright>Daten: Swisscom Directories AG</tel:copyright>\\n  </entry>\\n  <entry>\\n    <id>urn:uuid:f9de501d7ba0541f</id>\\n    <updated>2018-10-09T02:00:00Z</updated>\\n    <published>2018-10-09T02:00:00Z</published>\\n    <title type=\"text\">Restaurant 1584</title>\\n    <content type=\"text\">Restaurant 1584\\n    Trottenweg 38\\n    8218 Osterfingen/SH\\n    052 681 11 68</content>\\n    <author>\\n      <name>tel.search.ch</name>\\n    </author>\\n    <link href=\"https://tel.search.ch/osterfingen/trottenweg-38/restaurant-1584\" title=\"Details\" rel=\"alternate\" type=\"text/html\" />\\n    <link href=\"https://tel.search.ch/vcard/Restaurant-1584.vcf?key=f9de501d7ba0541f\" type=\"text/x-vcard\" title=\"VCard Download\" rel=\"alternate\" />\\n    <link href=\"https://tel.search.ch/edit/?id=f9de501d7ba0541f\" rel=\"edit\" type=\"text/html\" />\\n    <tel:pos>3</tel:pos>\\n    <tel:id>f9de501d7ba0541f</tel:id>\\n    <tel:type>Organisation</tel:type>\\n    <tel:name>Restaurant 1584</tel:name>\\n    <tel:street>Trottenweg</tel:street>\\n    <tel:streetno>38</tel:streetno>\\n    <tel:zip>8218</tel:zip>\\n    <tel:city>Osterfingen</tel:city>\\n    <tel:canton>SH</tel:canton>\\n    <tel:country>ch</tel:country>\\n    <tel:category>Restaurant</tel:category>\\n    <tel:phone>+41526811168</tel:phone>\\n    <tel:copyright>Daten: Tripadvisor</tel:copyright>\\n  </entry>\\n  <entry>\\n    <id>urn:uuid:2b31e14b77c8b00b</id>\\n    <updated>2018-10-09T02:00:00Z</updated>\\n    <published>2018-10-09T02:00:00Z</published>\\n    <title type=\"text\">Restaurant Rhyhalde</title>\\n    <content type=\"text\">Restaurant Rhyhalde\\n    Stracka &amp; Co.\\n    Rheinhaldenstrasse 118\\n    8200 Schaffhausen/SH\\n    *052 625 26 62</content>\\n    <tel:nopromo>*</tel:nopromo>\\n    <author>\\n      <name>tel.search.ch</name>\\n    </author>\\n    <link href=\"https://tel.search.ch/schaffhausen/rheinhaldenstrasse-118/restaurant-rhyhalde-2\" title=\"Details\" rel=\"alternate\" type=\"text/html\" />\\n    <link href=\"https://tel.search.ch/vcard/Restaurant-Rhyhalde.vcf?key=2b31e14b77c8b00b\" type=\"text/x-vcard\" title=\"VCard Download\" rel=\"alternate\" />\\n    <link href=\"https://tel.search.ch/edit/?id=2b31e14b77c8b00b\" rel=\"edit\" type=\"text/html\" />\\n    <tel:pos>4</tel:pos>\\n    <tel:id>2b31e14b77c8b00b</tel:id>\\n    <tel:type>Organisation</tel:type>\\n    <tel:name>Restaurant Rhyhalde</tel:name>\\n    <tel:subname>Stracka &amp; Co.</tel:subname>\\n    <tel:street>Rheinhaldenstrasse</tel:street>\\n    <tel:streetno>118</tel:streetno>\\n    <tel:zip>8200</tel:zip>\\n    <tel:city>Schaffhausen</tel:city>\\n    <tel:canton>SH</tel:canton>\\n    <tel:country>ch</tel:country>\\n    <tel:category>Restaurant</tel:category>\\n    <tel:category>Schweizerische Küche</tel:category>\\n    <tel:category>Café</tel:category>\\n    <tel:category>Restaurants nach Spezialitäten</tel:category>\\n    <tel:phone>+41526252662</tel:phone>\\n    <tel:extra type=\"website\">http://www.rhyhalde.ch/</tel:extra>\\n    <tel:copyright>Daten: Swisscom Directories AG</tel:copyright>\\n  </entry>\\n  <entry>\\n    <id>urn:uuid:fdf38619564ed13e</id>\\n    <updated>2018-10-09T02:00:00Z</updated>\\n    <published>2018-10-09T02:00:00Z</published>\\n    <title type=\"text\">Restaurant Trattoria la Calabrisella</title>\\n    <content type=\"text\">Restaurant Trattoria la Calabrisella\\n    Bergstrasse 8\\n    8215 Hallau/SH\\n    052 681 54 64</content>\\n    <author>\\n      <name>tel.search.ch</name>\\n    </author>\\n    <link href=\"https://tel.search.ch/detail/fdf38619564ed13e\" title=\"Details\" rel=\"alternate\" type=\"text/html\" />\\n    <link href=\"https://tel.search.ch/vcard/Restaurant-Trattoria-la-Calabrisella.vcf?key=fdf38619564ed13e\" type=\"text/x-vcard\" title=\"VCard Download\" rel=\"alternate\" />\\n    <link href=\"https://tel.search.ch/edit/?id=fdf38619564ed13e\" rel=\"edit\" type=\"text/html\" />\\n    <tel:pos>5</tel:pos>\\n    <tel:id>fdf38619564ed13e</tel:id>\\n    <tel:type>Organisation</tel:type>\\n    <tel:name>Restaurant Trattoria la Calabrisella</tel:name>\\n    <tel:street>Bergstrasse</tel:street>\\n    <tel:streetno>8</tel:streetno>\\n    <tel:zip>8215</tel:zip>\\n    <tel:city>Hallau</tel:city>\\n    <tel:canton>SH</tel:canton>\\n    <tel:country>ch</tel:country>\\n    <tel:category>Restaurant</tel:category>\\n    <tel:category>Italienische Küche</tel:category>\\n    <tel:category>Pizzeria</tel:category>\\n    <tel:category>Kurierdienst</tel:category>\\n    <tel:phone>+41526815464</tel:phone>\\n    <tel:extra type=\"website\">http://www.la-calabrisella.ch</tel:extra>\\n    <tel:copyright>Daten: Swisscom Directories AG</tel:copyright>\\n  </entry>\\n  <entry>\\n    <id>urn:uuid:572d69e2ebc1980a</id>\\n    <updated>2018-10-09T02:00:00Z</updated>\\n    <published>2018-10-09T02:00:00Z</published>\\n    <title type=\"text\">Restaurant Park am Rheinfall</title>\\n    <content type=\"text\">Restaurant Park am Rheinfall\\n    Rheinfallquai 5\\n    8212 Neuhausen am Rheinfall/SH\\n    *052 672 24 94</content>\\n    <tel:nopromo>*</tel:nopromo>\\n    <author>\\n      <name>tel.search.ch</name>\\n    </author>\\n    <link href=\"https://tel.search.ch/neuhausen-am-rheinfall/rheinfallquai-5/restaurant-park-am-rheinfall-3\" title=\"Details\" rel=\"alternate\" type=\"text/html\" />\\n    <link href=\"https://tel.search.ch/vcard/Restaurant-Park-am-Rheinfall.vcf?key=572d69e2ebc1980a\" type=\"text/x-vcard\" title=\"VCard Download\" rel=\"alternate\" />\\n    <link href=\"https://tel.search.ch/edit/?id=572d69e2ebc1980a\" rel=\"edit\" type=\"text/html\" />\\n    <tel:pos>6</tel:pos>\\n    <tel:id>572d69e2ebc1980a</tel:id>\\n    <tel:type>Organisation</tel:type>\\n    <tel:name>Restaurant Park am Rheinfall</tel:name>\\n    <tel:org>Rheinfall Gastronomie AG</tel:org>\\n    <tel:street>Rheinfallquai</tel:street>\\n    <tel:streetno>5</tel:streetno>\\n    <tel:zip>8212</tel:zip>\\n    <tel:city>Neuhausen am Rheinfall</tel:city>\\n    <tel:canton>SH</tel:canton>\\n    <tel:country>ch</tel:country>\\n    <tel:category>Restaurant</tel:category>\\n    <tel:category>Schweizerische Küche</tel:category>\\n    <tel:phone>+41526722494</tel:phone>\\n    <tel:extra type=\"website\">http://www.parkamrheinfall.ch</tel:extra>\\n    <tel:businesslink>https://tel.search.ch/neuhausen-am-rheinfall/rheinfallquai-5/restaurant-park-am-rheinfall-3</tel:businesslink>\\n  </entry>\\n  <entry>\\n    <id>urn:uuid:0e62311f440048c8</id>\\n    <updated>2018-10-09T02:00:00Z</updated>\\n    <published>2018-10-09T02:00:00Z</published>\\n    <title type=\"text\">Beckenburg das Restaurant</title>\\n    <content type=\"text\">Beckenburg das Restaurant\\n    Claudio Natale und Marc Köhler\\n    Neustadt 1\\n    8200 Schaffhausen/SH\\n    *052 620 12 12</content>\\n    <tel:nopromo>*</tel:nopromo>\\n    <author>\\n      <name>tel.search.ch</name>\\n    </author>\\n    <link href=\"https://tel.search.ch/detail/0e62311f440048c8\" title=\"Details\" rel=\"alternate\" type=\"text/html\" />\\n    <link href=\"https://tel.search.ch/vcard/Beckenburg-das-Restaurant.vcf?key=0e62311f440048c8\" type=\"text/x-vcard\" title=\"VCard Download\" rel=\"alternate\" />\\n    <link href=\"https://tel.search.ch/edit/?id=0e62311f440048c8\" rel=\"edit\" type=\"text/html\" />\\n    <tel:pos>7</tel:pos>\\n    <tel:id>0e62311f440048c8</tel:id>\\n    <tel:type>Organisation</tel:type>\\n    <tel:name>Beckenburg das Restaurant</tel:name>\\n    <tel:subname>Claudio Natale und Marc Köhler</tel:subname>\\n    <tel:street>Neustadt</tel:street>\\n    <tel:streetno>1</tel:streetno>\\n    <tel:zip>8200</tel:zip>\\n    <tel:city>Schaffhausen</tel:city>\\n    <tel:canton>SH</tel:canton>\\n    <tel:country>ch</tel:country>\\n    <tel:category>Restaurant</tel:category>\\n    <tel:category>Catering</tel:category>\\n    <tel:phone>+41526201212</tel:phone>\\n    <tel:extra type=\"email\">reservation@beckenburg.ch</tel:extra>\\n    <tel:extra type=\"website\">http://www.beckenburg.ch</tel:extra>\\n    <tel:copyright>Daten: Swisscom Directories AG</tel:copyright>\\n  </entry>\\n  <entry>\\n    <id>urn:uuid:76d55db105f5f201</id>\\n    <updated>2018-10-09T02:00:00Z</updated>\\n    <published>2018-10-09T02:00:00Z</published>\\n    <title type=\"text\">Restaurant Mühle</title>\\n    <content type=\"text\">Restaurant Mühle\\n    Wunderklingen 8\\n    8215 Hallau/SH\\n    052 681 32 10</content>\\n    <author>\\n      <name>tel.search.ch</name>\\n    </author>\\n    <link href=\"https://tel.search.ch/hallau/wunderklingen-8/restaurant-muehle\" title=\"Details\" rel=\"alternate\" type=\"text/html\" />\\n    <link href=\"https://tel.search.ch/vcard/Restaurant-Muehle.vcf?key=76d55db105f5f201\" type=\"text/x-vcard\" title=\"VCard Download\" rel=\"alternate\" />\\n    <link href=\"https://tel.search.ch/edit/?id=76d55db105f5f201\" rel=\"edit\" type=\"text/html\" />\\n    <tel:pos>8</tel:pos>\\n    <tel:id>76d55db105f5f201</tel:id>\\n    <tel:type>Organisation</tel:type>\\n    <tel:name>Restaurant Mühle</tel:name>\\n    <tel:street>Wunderklingen</tel:street>\\n    <tel:streetno>8</tel:streetno>\\n    <tel:zip>8215</tel:zip>\\n    <tel:city>Hallau</tel:city>\\n    <tel:canton>SH</tel:canton>\\n    <tel:country>ch</tel:country>\\n    <tel:category>Restaurant</tel:category>\\n    <tel:phone>+41526813210</tel:phone>\\n    <tel:copyright>Daten: Tripadvisor</tel:copyright>\\n  </entry>\\n  <entry>\\n    <id>urn:uuid:1343b9d656f10adc</id>\\n    <updated>2018-10-09T02:00:00Z</updated>\\n    <published>2018-10-09T02:00:00Z</published>\\n    <title type=\"text\">Restaurant Rossberghof</title>\\n    <content type=\"text\">Restaurant Rossberghof\\n    Luca Leu\\n    gutbürgerliche Küche\\n    Rossberghof 1\\n    8218 Osterfingen/SH\\n    *052 681 10 63</content>\\n    <tel:nopromo>*</tel:nopromo>\\n    <author>\\n      <name>tel.search.ch</name>\\n    </author>\\n    <link href=\"https://tel.search.ch/detail/1343b9d656f10adc\" title=\"Details\" rel=\"alternate\" type=\"text/html\" />\\n    <link href=\"https://tel.search.ch/vcard/Restaurant-Rossberghof.vcf?key=1343b9d656f10adc\" type=\"text/x-vcard\" title=\"VCard Download\" rel=\"alternate\" />\\n    <link href=\"https://tel.search.ch/edit/?id=1343b9d656f10adc\" rel=\"edit\" type=\"text/html\" />\\n    <tel:pos>9</tel:pos>\\n    <tel:id>1343b9d656f10adc</tel:id>\\n    <tel:type>Organisation</tel:type>\\n    <tel:name>Restaurant Rossberghof</tel:name>\\n    <tel:subname>Luca Leu</tel:subname>\\n    <tel:occupation>gutbürgerliche Küche</tel:occupation>\\n    <tel:street>Rossberghof</tel:street>\\n    <tel:streetno>1</tel:streetno>\\n    <tel:zip>8218</tel:zip>\\n    <tel:city>Osterfingen</tel:city>\\n    <tel:canton>SH</tel:canton>\\n    <tel:country>ch</tel:country>\\n    <tel:category>Restaurant</tel:category>\\n    <tel:category>Schweizerische Küche</tel:category>\\n    <tel:phone>+41526811063</tel:phone>\\n    <tel:extra type=\"email\">info@rossberghof-wilchingen.ch*</tel:extra>\\n    <tel:extra type=\"website\">http://www.rossberghof.ch</tel:extra>\\n    <tel:copyright>Daten: Swisscom Directories AG</tel:copyright>\\n  </entry>\\n  <entry>\\n    <id>urn:uuid:2d4dad80a0a174ad</id>\\n    <updated>2018-10-09T02:00:00Z</updated>\\n    <published>2018-10-09T02:00:00Z</published>\\n    <title type=\"text\">Restaurant Sommerlust</title>\\n    <content type=\"text\">Restaurant Sommerlust\\n    Messora Gastro GmbH\\n    Rheinhaldenstrasse 8\\n    8200 Schaffhausen/SH\\n    *052 533 55 33</content>\\n    <tel:nopromo>*</tel:nopromo>\\n    <author>\\n      <name>tel.search.ch</name>\\n    </author>\\n    <link href=\"https://tel.search.ch/detail/2d4dad80a0a174ad\" title=\"Details\" rel=\"alternate\" type=\"text/html\" />\\n    <link href=\"https://tel.search.ch/vcard/Restaurant-Sommerlust.vcf?key=2d4dad80a0a174ad\" type=\"text/x-vcard\" title=\"VCard Download\" rel=\"alternate\" />\\n    <link href=\"https://tel.search.ch/edit/?id=2d4dad80a0a174ad\" rel=\"edit\" type=\"text/html\" />\\n    <tel:pos>10</tel:pos>\\n    <tel:id>2d4dad80a0a174ad</tel:id>\\n    <tel:type>Organisation</tel:type>\\n    <tel:name>Restaurant Sommerlust</tel:name>\\n    <tel:subname>Messora Gastro GmbH</tel:subname>\\n    <tel:street>Rheinhaldenstrasse</tel:street>\\n    <tel:streetno>8</tel:streetno>\\n    <tel:zip>8200</tel:zip>\\n    <tel:city>Schaffhausen</tel:city>\\n    <tel:canton>SH</tel:canton>\\n    <tel:country>ch</tel:country>\\n    <tel:category>Restaurant</tel:category>\\n    <tel:phone>+41525335533</tel:phone>\\n    <tel:extra type=\"email\">info@sommerlust.ch*</tel:extra>\\n    <tel:copyright>Daten: Swisscom Directories AG</tel:copyright>\\n  </entry>\\n</feed>\\n'"
      ]
     },
     "execution_count": 61,
     "metadata": {},
     "output_type": "execute_result"
    }
   ],
   "source": [
    "response.text"
   ]
  },
  {
   "cell_type": "code",
   "execution_count": 62,
   "metadata": {},
   "outputs": [],
   "source": [
    "basis = \"https://tel.search.ch/api/?\"\n",
    "was = \"was=Restaurant&\"\n",
    "wo = \"wo=SH&\"\n",
    "key = \"key=590ea8961488f9a63dbf95a7b7883805\""
   ]
  },
  {
   "cell_type": "code",
   "execution_count": 66,
   "metadata": {},
   "outputs": [],
   "source": [
    "url_sh = basis + was + wo + key"
   ]
  },
  {
   "cell_type": "code",
   "execution_count": 67,
   "metadata": {},
   "outputs": [
    {
     "data": {
      "text/plain": [
       "<Response [200]>"
      ]
     },
     "execution_count": 67,
     "metadata": {},
     "output_type": "execute_result"
    }
   ],
   "source": [
    "requests.get(url_sh)"
   ]
  },
  {
   "cell_type": "code",
   "execution_count": 68,
   "metadata": {},
   "outputs": [
    {
     "data": {
      "text/plain": [
       "'<?xml version=\"1.0\" encoding=\"utf-8\" ?>\\n<feed xml:lang=\"de\" xmlns=\"http://www.w3.org/2005/Atom\" xmlns:openSearch=\"http://a9.com/-/spec/opensearchrss/1.0/\" xmlns:tel=\"http://tel.search.ch/api/spec/result/1.0/\">\\n  <id>https://tel.search.ch/api/590ea8961488f9a63dbf95a7b7883805/8c1dd469af1e26dfc55dd7ea0b982946</id>\\n  <title type=\"text\">tel.search.ch API Search Results</title>\\n  <generator version=\"1.0\" uri=\"https://tel.search.ch\">tel.search.ch</generator>\\n  <updated>2018-10-09T02:00:00Z</updated>\\n  <link href=\"https://tel.search.ch/result.html?was=Restaurant&amp;kanton=SH\" rel=\"alternate\" type=\"text/html\" />\\n  <link href=\"http://tel.search.ch/api/?was=Restaurant&amp;wo=SH&amp;key=590ea8961488f9a63dbf95a7b7883805\" type=\"application/atom+xml\" rel=\"self\" />\\n  <link href=\"http://tel.search.ch/api/?was=Restaurant&amp;wo=SH&amp;pos=11&amp;key=590ea8961488f9a63dbf95a7b7883805\" rel=\"next\" type=\"application/atom+xml\" />\\n  <openSearch:totalResults>265</openSearch:totalResults>\\n  <openSearch:startIndex>1</openSearch:startIndex>\\n  <openSearch:itemsPerPage>10</openSearch:itemsPerPage>\\n  <openSearch:Query role=\"request\" searchTerms=\"Restaurant \" startPage=\"1\"></openSearch:Query>\\n  <openSearch:Image height=\"1\" width=\"1\" type=\"image/gif\">https://www.search.ch/audit/CP/tel/de/api</openSearch:Image>\\n  <entry>\\n    <id>urn:uuid:000ee7cc8f446356</id>\\n    <updated>2018-10-09T02:00:00Z</updated>\\n    <published>2018-10-09T02:00:00Z</published>\\n    <title type=\"text\">Güterhof Restaurant, Bar, Sushi, Dine</title>\\n    <content type=\"text\">Güterhof Restaurant, Bar, Sushi, Dine\\n    prager. gastronomie AG\\n    Gastronomie\\n    Freier Platz 10\\n    8200 Schaffhausen/SH\\n    *052 630 40 40</content>\\n    <tel:nopromo>*</tel:nopromo>\\n    <author>\\n      <name>tel.search.ch</name>\\n    </author>\\n    <link href=\"https://tel.search.ch/schaffhausen/freier-platz-10/gueterhof-restaurant-bar-sushi-dine\" title=\"Details\" rel=\"alternate\" type=\"text/html\" />\\n    <link href=\"https://tel.search.ch/vcard/Gueterhof-Restaurant-Bar-Sushi-Dine.vcf?key=000ee7cc8f446356\" type=\"text/x-vcard\" title=\"VCard Download\" rel=\"alternate\" />\\n    <link href=\"https://tel.search.ch/edit/?id=000ee7cc8f446356\" rel=\"edit\" type=\"text/html\" />\\n    <tel:pos>1</tel:pos>\\n    <tel:id>000ee7cc8f446356</tel:id>\\n    <tel:type>Organisation</tel:type>\\n    <tel:name>Güterhof Restaurant, Bar, Sushi, Dine</tel:name>\\n    <tel:subname>prager. gastronomie AG</tel:subname>\\n    <tel:occupation>Gastronomie</tel:occupation>\\n    <tel:street>Freier Platz</tel:street>\\n    <tel:streetno>10</tel:streetno>\\n    <tel:zip>8200</tel:zip>\\n    <tel:city>Schaffhausen</tel:city>\\n    <tel:canton>SH</tel:canton>\\n    <tel:country>ch</tel:country>\\n    <tel:category>Restaurant</tel:category>\\n    <tel:phone>+41526304040</tel:phone>\\n    <tel:extra type=\"email\">info@gueterhof.ch*</tel:extra>\\n    <tel:extra type=\"website\">http://www.gueterhof.ch</tel:extra>\\n    <tel:businesslink>https://tel.search.ch/schaffhausen/freier-platz-10/gueterhof-restaurant-bar-sushi-dine</tel:businesslink>\\n  </entry>\\n  <entry>\\n    <id>urn:uuid:84e4e06b18985c6d</id>\\n    <updated>2018-10-09T02:00:00Z</updated>\\n    <published>2018-10-09T02:00:00Z</published>\\n    <title type=\"text\">Restaurant Burg Hohenklingen</title>\\n    <content type=\"text\">Restaurant Burg Hohenklingen\\n    Klingen Gastro GmbH\\n    Hohenklingenstrasse 1\\n    8260 Stein am Rhein/SH\\n    *052 741 21 37</content>\\n    <tel:nopromo>*</tel:nopromo>\\n    <author>\\n      <name>tel.search.ch</name>\\n    </author>\\n    <link href=\"https://tel.search.ch/stein-am-rhein/hohenklingenstrasse-1/restaurant-burg-hohenklingen\" title=\"Details\" rel=\"alternate\" type=\"text/html\" />\\n    <link href=\"https://tel.search.ch/vcard/Restaurant-Burg-Hohenklingen.vcf?key=84e4e06b18985c6d\" type=\"text/x-vcard\" title=\"VCard Download\" rel=\"alternate\" />\\n    <link href=\"https://tel.search.ch/edit/?id=84e4e06b18985c6d\" rel=\"edit\" type=\"text/html\" />\\n    <tel:pos>2</tel:pos>\\n    <tel:id>84e4e06b18985c6d</tel:id>\\n    <tel:type>Organisation</tel:type>\\n    <tel:name>Restaurant Burg Hohenklingen</tel:name>\\n    <tel:subname>Klingen Gastro GmbH</tel:subname>\\n    <tel:street>Hohenklingenstrasse</tel:street>\\n    <tel:streetno>1</tel:streetno>\\n    <tel:zip>8260</tel:zip>\\n    <tel:city>Stein am Rhein</tel:city>\\n    <tel:canton>SH</tel:canton>\\n    <tel:country>ch</tel:country>\\n    <tel:category>Restaurant</tel:category>\\n    <tel:category>Hochzeit</tel:category>\\n    <tel:category>Bankett</tel:category>\\n    <tel:phone>+41527412137</tel:phone>\\n    <tel:extra type=\"Fax\">+41527412134</tel:extra>\\n    <tel:extra type=\"website\">http://www.burghohenklingen.com</tel:extra>\\n    <tel:extra type=\"website\">http://www.burghohenklingen.ch</tel:extra>\\n    <tel:copyright>Daten: Swisscom Directories AG</tel:copyright>\\n  </entry>\\n  <entry>\\n    <id>urn:uuid:f9de501d7ba0541f</id>\\n    <updated>2018-10-09T02:00:00Z</updated>\\n    <published>2018-10-09T02:00:00Z</published>\\n    <title type=\"text\">Restaurant 1584</title>\\n    <content type=\"text\">Restaurant 1584\\n    Trottenweg 38\\n    8218 Osterfingen/SH\\n    052 681 11 68</content>\\n    <author>\\n      <name>tel.search.ch</name>\\n    </author>\\n    <link href=\"https://tel.search.ch/osterfingen/trottenweg-38/restaurant-1584\" title=\"Details\" rel=\"alternate\" type=\"text/html\" />\\n    <link href=\"https://tel.search.ch/vcard/Restaurant-1584.vcf?key=f9de501d7ba0541f\" type=\"text/x-vcard\" title=\"VCard Download\" rel=\"alternate\" />\\n    <link href=\"https://tel.search.ch/edit/?id=f9de501d7ba0541f\" rel=\"edit\" type=\"text/html\" />\\n    <tel:pos>3</tel:pos>\\n    <tel:id>f9de501d7ba0541f</tel:id>\\n    <tel:type>Organisation</tel:type>\\n    <tel:name>Restaurant 1584</tel:name>\\n    <tel:street>Trottenweg</tel:street>\\n    <tel:streetno>38</tel:streetno>\\n    <tel:zip>8218</tel:zip>\\n    <tel:city>Osterfingen</tel:city>\\n    <tel:canton>SH</tel:canton>\\n    <tel:country>ch</tel:country>\\n    <tel:category>Restaurant</tel:category>\\n    <tel:phone>+41526811168</tel:phone>\\n    <tel:copyright>Daten: Tripadvisor</tel:copyright>\\n  </entry>\\n  <entry>\\n    <id>urn:uuid:2b31e14b77c8b00b</id>\\n    <updated>2018-10-09T02:00:00Z</updated>\\n    <published>2018-10-09T02:00:00Z</published>\\n    <title type=\"text\">Restaurant Rhyhalde</title>\\n    <content type=\"text\">Restaurant Rhyhalde\\n    Stracka &amp; Co.\\n    Rheinhaldenstrasse 118\\n    8200 Schaffhausen/SH\\n    *052 625 26 62</content>\\n    <tel:nopromo>*</tel:nopromo>\\n    <author>\\n      <name>tel.search.ch</name>\\n    </author>\\n    <link href=\"https://tel.search.ch/schaffhausen/rheinhaldenstrasse-118/restaurant-rhyhalde-2\" title=\"Details\" rel=\"alternate\" type=\"text/html\" />\\n    <link href=\"https://tel.search.ch/vcard/Restaurant-Rhyhalde.vcf?key=2b31e14b77c8b00b\" type=\"text/x-vcard\" title=\"VCard Download\" rel=\"alternate\" />\\n    <link href=\"https://tel.search.ch/edit/?id=2b31e14b77c8b00b\" rel=\"edit\" type=\"text/html\" />\\n    <tel:pos>4</tel:pos>\\n    <tel:id>2b31e14b77c8b00b</tel:id>\\n    <tel:type>Organisation</tel:type>\\n    <tel:name>Restaurant Rhyhalde</tel:name>\\n    <tel:subname>Stracka &amp; Co.</tel:subname>\\n    <tel:street>Rheinhaldenstrasse</tel:street>\\n    <tel:streetno>118</tel:streetno>\\n    <tel:zip>8200</tel:zip>\\n    <tel:city>Schaffhausen</tel:city>\\n    <tel:canton>SH</tel:canton>\\n    <tel:country>ch</tel:country>\\n    <tel:category>Restaurant</tel:category>\\n    <tel:category>Schweizerische Küche</tel:category>\\n    <tel:category>Café</tel:category>\\n    <tel:category>Restaurants nach Spezialitäten</tel:category>\\n    <tel:phone>+41526252662</tel:phone>\\n    <tel:extra type=\"website\">http://www.rhyhalde.ch/</tel:extra>\\n    <tel:copyright>Daten: Swisscom Directories AG</tel:copyright>\\n  </entry>\\n  <entry>\\n    <id>urn:uuid:fdf38619564ed13e</id>\\n    <updated>2018-10-09T02:00:00Z</updated>\\n    <published>2018-10-09T02:00:00Z</published>\\n    <title type=\"text\">Restaurant Trattoria la Calabrisella</title>\\n    <content type=\"text\">Restaurant Trattoria la Calabrisella\\n    Bergstrasse 8\\n    8215 Hallau/SH\\n    052 681 54 64</content>\\n    <author>\\n      <name>tel.search.ch</name>\\n    </author>\\n    <link href=\"https://tel.search.ch/detail/fdf38619564ed13e\" title=\"Details\" rel=\"alternate\" type=\"text/html\" />\\n    <link href=\"https://tel.search.ch/vcard/Restaurant-Trattoria-la-Calabrisella.vcf?key=fdf38619564ed13e\" type=\"text/x-vcard\" title=\"VCard Download\" rel=\"alternate\" />\\n    <link href=\"https://tel.search.ch/edit/?id=fdf38619564ed13e\" rel=\"edit\" type=\"text/html\" />\\n    <tel:pos>5</tel:pos>\\n    <tel:id>fdf38619564ed13e</tel:id>\\n    <tel:type>Organisation</tel:type>\\n    <tel:name>Restaurant Trattoria la Calabrisella</tel:name>\\n    <tel:street>Bergstrasse</tel:street>\\n    <tel:streetno>8</tel:streetno>\\n    <tel:zip>8215</tel:zip>\\n    <tel:city>Hallau</tel:city>\\n    <tel:canton>SH</tel:canton>\\n    <tel:country>ch</tel:country>\\n    <tel:category>Restaurant</tel:category>\\n    <tel:category>Italienische Küche</tel:category>\\n    <tel:category>Pizzeria</tel:category>\\n    <tel:category>Kurierdienst</tel:category>\\n    <tel:phone>+41526815464</tel:phone>\\n    <tel:extra type=\"website\">http://www.la-calabrisella.ch</tel:extra>\\n    <tel:copyright>Daten: Swisscom Directories AG</tel:copyright>\\n  </entry>\\n  <entry>\\n    <id>urn:uuid:572d69e2ebc1980a</id>\\n    <updated>2018-10-09T02:00:00Z</updated>\\n    <published>2018-10-09T02:00:00Z</published>\\n    <title type=\"text\">Restaurant Park am Rheinfall</title>\\n    <content type=\"text\">Restaurant Park am Rheinfall\\n    Rheinfallquai 5\\n    8212 Neuhausen am Rheinfall/SH\\n    *052 672 24 94</content>\\n    <tel:nopromo>*</tel:nopromo>\\n    <author>\\n      <name>tel.search.ch</name>\\n    </author>\\n    <link href=\"https://tel.search.ch/neuhausen-am-rheinfall/rheinfallquai-5/restaurant-park-am-rheinfall-3\" title=\"Details\" rel=\"alternate\" type=\"text/html\" />\\n    <link href=\"https://tel.search.ch/vcard/Restaurant-Park-am-Rheinfall.vcf?key=572d69e2ebc1980a\" type=\"text/x-vcard\" title=\"VCard Download\" rel=\"alternate\" />\\n    <link href=\"https://tel.search.ch/edit/?id=572d69e2ebc1980a\" rel=\"edit\" type=\"text/html\" />\\n    <tel:pos>6</tel:pos>\\n    <tel:id>572d69e2ebc1980a</tel:id>\\n    <tel:type>Organisation</tel:type>\\n    <tel:name>Restaurant Park am Rheinfall</tel:name>\\n    <tel:org>Rheinfall Gastronomie AG</tel:org>\\n    <tel:street>Rheinfallquai</tel:street>\\n    <tel:streetno>5</tel:streetno>\\n    <tel:zip>8212</tel:zip>\\n    <tel:city>Neuhausen am Rheinfall</tel:city>\\n    <tel:canton>SH</tel:canton>\\n    <tel:country>ch</tel:country>\\n    <tel:category>Restaurant</tel:category>\\n    <tel:category>Schweizerische Küche</tel:category>\\n    <tel:phone>+41526722494</tel:phone>\\n    <tel:extra type=\"website\">http://www.parkamrheinfall.ch</tel:extra>\\n    <tel:businesslink>https://tel.search.ch/neuhausen-am-rheinfall/rheinfallquai-5/restaurant-park-am-rheinfall-3</tel:businesslink>\\n  </entry>\\n  <entry>\\n    <id>urn:uuid:0e62311f440048c8</id>\\n    <updated>2018-10-09T02:00:00Z</updated>\\n    <published>2018-10-09T02:00:00Z</published>\\n    <title type=\"text\">Beckenburg das Restaurant</title>\\n    <content type=\"text\">Beckenburg das Restaurant\\n    Claudio Natale und Marc Köhler\\n    Neustadt 1\\n    8200 Schaffhausen/SH\\n    *052 620 12 12</content>\\n    <tel:nopromo>*</tel:nopromo>\\n    <author>\\n      <name>tel.search.ch</name>\\n    </author>\\n    <link href=\"https://tel.search.ch/detail/0e62311f440048c8\" title=\"Details\" rel=\"alternate\" type=\"text/html\" />\\n    <link href=\"https://tel.search.ch/vcard/Beckenburg-das-Restaurant.vcf?key=0e62311f440048c8\" type=\"text/x-vcard\" title=\"VCard Download\" rel=\"alternate\" />\\n    <link href=\"https://tel.search.ch/edit/?id=0e62311f440048c8\" rel=\"edit\" type=\"text/html\" />\\n    <tel:pos>7</tel:pos>\\n    <tel:id>0e62311f440048c8</tel:id>\\n    <tel:type>Organisation</tel:type>\\n    <tel:name>Beckenburg das Restaurant</tel:name>\\n    <tel:subname>Claudio Natale und Marc Köhler</tel:subname>\\n    <tel:street>Neustadt</tel:street>\\n    <tel:streetno>1</tel:streetno>\\n    <tel:zip>8200</tel:zip>\\n    <tel:city>Schaffhausen</tel:city>\\n    <tel:canton>SH</tel:canton>\\n    <tel:country>ch</tel:country>\\n    <tel:category>Restaurant</tel:category>\\n    <tel:category>Catering</tel:category>\\n    <tel:phone>+41526201212</tel:phone>\\n    <tel:extra type=\"email\">reservation@beckenburg.ch</tel:extra>\\n    <tel:extra type=\"website\">http://www.beckenburg.ch</tel:extra>\\n    <tel:copyright>Daten: Swisscom Directories AG</tel:copyright>\\n  </entry>\\n  <entry>\\n    <id>urn:uuid:76d55db105f5f201</id>\\n    <updated>2018-10-09T02:00:00Z</updated>\\n    <published>2018-10-09T02:00:00Z</published>\\n    <title type=\"text\">Restaurant Mühle</title>\\n    <content type=\"text\">Restaurant Mühle\\n    Wunderklingen 8\\n    8215 Hallau/SH\\n    052 681 32 10</content>\\n    <author>\\n      <name>tel.search.ch</name>\\n    </author>\\n    <link href=\"https://tel.search.ch/hallau/wunderklingen-8/restaurant-muehle\" title=\"Details\" rel=\"alternate\" type=\"text/html\" />\\n    <link href=\"https://tel.search.ch/vcard/Restaurant-Muehle.vcf?key=76d55db105f5f201\" type=\"text/x-vcard\" title=\"VCard Download\" rel=\"alternate\" />\\n    <link href=\"https://tel.search.ch/edit/?id=76d55db105f5f201\" rel=\"edit\" type=\"text/html\" />\\n    <tel:pos>8</tel:pos>\\n    <tel:id>76d55db105f5f201</tel:id>\\n    <tel:type>Organisation</tel:type>\\n    <tel:name>Restaurant Mühle</tel:name>\\n    <tel:street>Wunderklingen</tel:street>\\n    <tel:streetno>8</tel:streetno>\\n    <tel:zip>8215</tel:zip>\\n    <tel:city>Hallau</tel:city>\\n    <tel:canton>SH</tel:canton>\\n    <tel:country>ch</tel:country>\\n    <tel:category>Restaurant</tel:category>\\n    <tel:phone>+41526813210</tel:phone>\\n    <tel:copyright>Daten: Tripadvisor</tel:copyright>\\n  </entry>\\n  <entry>\\n    <id>urn:uuid:1343b9d656f10adc</id>\\n    <updated>2018-10-09T02:00:00Z</updated>\\n    <published>2018-10-09T02:00:00Z</published>\\n    <title type=\"text\">Restaurant Rossberghof</title>\\n    <content type=\"text\">Restaurant Rossberghof\\n    Luca Leu\\n    gutbürgerliche Küche\\n    Rossberghof 1\\n    8218 Osterfingen/SH\\n    *052 681 10 63</content>\\n    <tel:nopromo>*</tel:nopromo>\\n    <author>\\n      <name>tel.search.ch</name>\\n    </author>\\n    <link href=\"https://tel.search.ch/detail/1343b9d656f10adc\" title=\"Details\" rel=\"alternate\" type=\"text/html\" />\\n    <link href=\"https://tel.search.ch/vcard/Restaurant-Rossberghof.vcf?key=1343b9d656f10adc\" type=\"text/x-vcard\" title=\"VCard Download\" rel=\"alternate\" />\\n    <link href=\"https://tel.search.ch/edit/?id=1343b9d656f10adc\" rel=\"edit\" type=\"text/html\" />\\n    <tel:pos>9</tel:pos>\\n    <tel:id>1343b9d656f10adc</tel:id>\\n    <tel:type>Organisation</tel:type>\\n    <tel:name>Restaurant Rossberghof</tel:name>\\n    <tel:subname>Luca Leu</tel:subname>\\n    <tel:occupation>gutbürgerliche Küche</tel:occupation>\\n    <tel:street>Rossberghof</tel:street>\\n    <tel:streetno>1</tel:streetno>\\n    <tel:zip>8218</tel:zip>\\n    <tel:city>Osterfingen</tel:city>\\n    <tel:canton>SH</tel:canton>\\n    <tel:country>ch</tel:country>\\n    <tel:category>Restaurant</tel:category>\\n    <tel:category>Schweizerische Küche</tel:category>\\n    <tel:phone>+41526811063</tel:phone>\\n    <tel:extra type=\"email\">info@rossberghof-wilchingen.ch*</tel:extra>\\n    <tel:extra type=\"website\">http://www.rossberghof.ch</tel:extra>\\n    <tel:copyright>Daten: Swisscom Directories AG</tel:copyright>\\n  </entry>\\n  <entry>\\n    <id>urn:uuid:2d4dad80a0a174ad</id>\\n    <updated>2018-10-09T02:00:00Z</updated>\\n    <published>2018-10-09T02:00:00Z</published>\\n    <title type=\"text\">Restaurant Sommerlust</title>\\n    <content type=\"text\">Restaurant Sommerlust\\n    Messora Gastro GmbH\\n    Rheinhaldenstrasse 8\\n    8200 Schaffhausen/SH\\n    *052 533 55 33</content>\\n    <tel:nopromo>*</tel:nopromo>\\n    <author>\\n      <name>tel.search.ch</name>\\n    </author>\\n    <link href=\"https://tel.search.ch/detail/2d4dad80a0a174ad\" title=\"Details\" rel=\"alternate\" type=\"text/html\" />\\n    <link href=\"https://tel.search.ch/vcard/Restaurant-Sommerlust.vcf?key=2d4dad80a0a174ad\" type=\"text/x-vcard\" title=\"VCard Download\" rel=\"alternate\" />\\n    <link href=\"https://tel.search.ch/edit/?id=2d4dad80a0a174ad\" rel=\"edit\" type=\"text/html\" />\\n    <tel:pos>10</tel:pos>\\n    <tel:id>2d4dad80a0a174ad</tel:id>\\n    <tel:type>Organisation</tel:type>\\n    <tel:name>Restaurant Sommerlust</tel:name>\\n    <tel:subname>Messora Gastro GmbH</tel:subname>\\n    <tel:street>Rheinhaldenstrasse</tel:street>\\n    <tel:streetno>8</tel:streetno>\\n    <tel:zip>8200</tel:zip>\\n    <tel:city>Schaffhausen</tel:city>\\n    <tel:canton>SH</tel:canton>\\n    <tel:country>ch</tel:country>\\n    <tel:category>Restaurant</tel:category>\\n    <tel:phone>+41525335533</tel:phone>\\n    <tel:extra type=\"email\">info@sommerlust.ch*</tel:extra>\\n    <tel:copyright>Daten: Swisscom Directories AG</tel:copyright>\\n  </entry>\\n</feed>\\n'"
      ]
     },
     "execution_count": 68,
     "metadata": {},
     "output_type": "execute_result"
    }
   ],
   "source": [
    "requests.get(url_sh).text"
   ]
  },
  {
   "cell_type": "code",
   "execution_count": null,
   "metadata": {},
   "outputs": [],
   "source": []
  },
  {
   "cell_type": "code",
   "execution_count": 69,
   "metadata": {},
   "outputs": [
    {
     "name": "stdout",
     "output_type": "stream",
     "text": [
      "https://tel.search.ch/api/?was=Restaurant&wo=SH&key=590ea8961488f9a63dbf95a7b7883805\n"
     ]
    }
   ],
   "source": [
    "print(url_sh)"
   ]
  },
  {
   "cell_type": "code",
   "execution_count": 75,
   "metadata": {},
   "outputs": [
    {
     "data": {
      "text/plain": [
       "{'Server': 'Apache', 'Vary': 'Accept-Encoding', 'Content-Type': 'text/xml; charset=utf-8', 'Content-Encoding': 'gzip', 'Date': 'Tue, 09 Oct 2018 17:44:02 GMT', 'Access-Control-Allow-Origin': '*', 'Connection': 'Keep-Alive', 'Set-Cookie': 'myosotis=dcccdc6bece11028f4e94621823eb388; expires=Tue, 19-Jan-2038 03:14:07 GMT; Max-Age=608376605; path=/; domain=.search.ch; HttpOnly', 'Content-Length': '2631'}"
      ]
     },
     "execution_count": 75,
     "metadata": {},
     "output_type": "execute_result"
    }
   ],
   "source": [
    "requests.get(url_sh).headers"
   ]
  },
  {
   "cell_type": "code",
   "execution_count": 78,
   "metadata": {},
   "outputs": [
    {
     "ename": "JSONDecodeError",
     "evalue": "Expecting value: line 1 column 1 (char 0)",
     "output_type": "error",
     "traceback": [
      "\u001b[0;31m---------------------------------------------------------------------------\u001b[0m",
      "\u001b[0;31mJSONDecodeError\u001b[0m                           Traceback (most recent call last)",
      "\u001b[0;32m<ipython-input-78-34c975fa6377>\u001b[0m in \u001b[0;36m<module>\u001b[0;34m()\u001b[0m\n\u001b[0;32m----> 1\u001b[0;31m \u001b[0mresponse\u001b[0m\u001b[0;34m.\u001b[0m\u001b[0mjson\u001b[0m\u001b[0;34m(\u001b[0m\u001b[0;34m)\u001b[0m\u001b[0;34m\u001b[0m\u001b[0m\n\u001b[0m",
      "\u001b[0;32m~/.virtualenvs/dataviz/lib/python3.7/site-packages/requests/models.py\u001b[0m in \u001b[0;36mjson\u001b[0;34m(self, **kwargs)\u001b[0m\n\u001b[1;32m    894\u001b[0m                     \u001b[0;31m# used.\u001b[0m\u001b[0;34m\u001b[0m\u001b[0;34m\u001b[0m\u001b[0m\n\u001b[1;32m    895\u001b[0m                     \u001b[0;32mpass\u001b[0m\u001b[0;34m\u001b[0m\u001b[0m\n\u001b[0;32m--> 896\u001b[0;31m         \u001b[0;32mreturn\u001b[0m \u001b[0mcomplexjson\u001b[0m\u001b[0;34m.\u001b[0m\u001b[0mloads\u001b[0m\u001b[0;34m(\u001b[0m\u001b[0mself\u001b[0m\u001b[0;34m.\u001b[0m\u001b[0mtext\u001b[0m\u001b[0;34m,\u001b[0m \u001b[0;34m**\u001b[0m\u001b[0mkwargs\u001b[0m\u001b[0;34m)\u001b[0m\u001b[0;34m\u001b[0m\u001b[0m\n\u001b[0m\u001b[1;32m    897\u001b[0m \u001b[0;34m\u001b[0m\u001b[0m\n\u001b[1;32m    898\u001b[0m     \u001b[0;34m@\u001b[0m\u001b[0mproperty\u001b[0m\u001b[0;34m\u001b[0m\u001b[0m\n",
      "\u001b[0;32m/usr/local/Cellar/python/3.7.0/Frameworks/Python.framework/Versions/3.7/lib/python3.7/json/__init__.py\u001b[0m in \u001b[0;36mloads\u001b[0;34m(s, encoding, cls, object_hook, parse_float, parse_int, parse_constant, object_pairs_hook, **kw)\u001b[0m\n\u001b[1;32m    346\u001b[0m             \u001b[0mparse_int\u001b[0m \u001b[0;32mis\u001b[0m \u001b[0;32mNone\u001b[0m \u001b[0;32mand\u001b[0m \u001b[0mparse_float\u001b[0m \u001b[0;32mis\u001b[0m \u001b[0;32mNone\u001b[0m \u001b[0;32mand\u001b[0m\u001b[0;34m\u001b[0m\u001b[0m\n\u001b[1;32m    347\u001b[0m             parse_constant is None and object_pairs_hook is None and not kw):\n\u001b[0;32m--> 348\u001b[0;31m         \u001b[0;32mreturn\u001b[0m \u001b[0m_default_decoder\u001b[0m\u001b[0;34m.\u001b[0m\u001b[0mdecode\u001b[0m\u001b[0;34m(\u001b[0m\u001b[0ms\u001b[0m\u001b[0;34m)\u001b[0m\u001b[0;34m\u001b[0m\u001b[0m\n\u001b[0m\u001b[1;32m    349\u001b[0m     \u001b[0;32mif\u001b[0m \u001b[0mcls\u001b[0m \u001b[0;32mis\u001b[0m \u001b[0;32mNone\u001b[0m\u001b[0;34m:\u001b[0m\u001b[0;34m\u001b[0m\u001b[0m\n\u001b[1;32m    350\u001b[0m         \u001b[0mcls\u001b[0m \u001b[0;34m=\u001b[0m \u001b[0mJSONDecoder\u001b[0m\u001b[0;34m\u001b[0m\u001b[0m\n",
      "\u001b[0;32m/usr/local/Cellar/python/3.7.0/Frameworks/Python.framework/Versions/3.7/lib/python3.7/json/decoder.py\u001b[0m in \u001b[0;36mdecode\u001b[0;34m(self, s, _w)\u001b[0m\n\u001b[1;32m    335\u001b[0m \u001b[0;34m\u001b[0m\u001b[0m\n\u001b[1;32m    336\u001b[0m         \"\"\"\n\u001b[0;32m--> 337\u001b[0;31m         \u001b[0mobj\u001b[0m\u001b[0;34m,\u001b[0m \u001b[0mend\u001b[0m \u001b[0;34m=\u001b[0m \u001b[0mself\u001b[0m\u001b[0;34m.\u001b[0m\u001b[0mraw_decode\u001b[0m\u001b[0;34m(\u001b[0m\u001b[0ms\u001b[0m\u001b[0;34m,\u001b[0m \u001b[0midx\u001b[0m\u001b[0;34m=\u001b[0m\u001b[0m_w\u001b[0m\u001b[0;34m(\u001b[0m\u001b[0ms\u001b[0m\u001b[0;34m,\u001b[0m \u001b[0;36m0\u001b[0m\u001b[0;34m)\u001b[0m\u001b[0;34m.\u001b[0m\u001b[0mend\u001b[0m\u001b[0;34m(\u001b[0m\u001b[0;34m)\u001b[0m\u001b[0;34m)\u001b[0m\u001b[0;34m\u001b[0m\u001b[0m\n\u001b[0m\u001b[1;32m    338\u001b[0m         \u001b[0mend\u001b[0m \u001b[0;34m=\u001b[0m \u001b[0m_w\u001b[0m\u001b[0;34m(\u001b[0m\u001b[0ms\u001b[0m\u001b[0;34m,\u001b[0m \u001b[0mend\u001b[0m\u001b[0;34m)\u001b[0m\u001b[0;34m.\u001b[0m\u001b[0mend\u001b[0m\u001b[0;34m(\u001b[0m\u001b[0;34m)\u001b[0m\u001b[0;34m\u001b[0m\u001b[0m\n\u001b[1;32m    339\u001b[0m         \u001b[0;32mif\u001b[0m \u001b[0mend\u001b[0m \u001b[0;34m!=\u001b[0m \u001b[0mlen\u001b[0m\u001b[0;34m(\u001b[0m\u001b[0ms\u001b[0m\u001b[0;34m)\u001b[0m\u001b[0;34m:\u001b[0m\u001b[0;34m\u001b[0m\u001b[0m\n",
      "\u001b[0;32m/usr/local/Cellar/python/3.7.0/Frameworks/Python.framework/Versions/3.7/lib/python3.7/json/decoder.py\u001b[0m in \u001b[0;36mraw_decode\u001b[0;34m(self, s, idx)\u001b[0m\n\u001b[1;32m    353\u001b[0m             \u001b[0mobj\u001b[0m\u001b[0;34m,\u001b[0m \u001b[0mend\u001b[0m \u001b[0;34m=\u001b[0m \u001b[0mself\u001b[0m\u001b[0;34m.\u001b[0m\u001b[0mscan_once\u001b[0m\u001b[0;34m(\u001b[0m\u001b[0ms\u001b[0m\u001b[0;34m,\u001b[0m \u001b[0midx\u001b[0m\u001b[0;34m)\u001b[0m\u001b[0;34m\u001b[0m\u001b[0m\n\u001b[1;32m    354\u001b[0m         \u001b[0;32mexcept\u001b[0m \u001b[0mStopIteration\u001b[0m \u001b[0;32mas\u001b[0m \u001b[0merr\u001b[0m\u001b[0;34m:\u001b[0m\u001b[0;34m\u001b[0m\u001b[0m\n\u001b[0;32m--> 355\u001b[0;31m             \u001b[0;32mraise\u001b[0m \u001b[0mJSONDecodeError\u001b[0m\u001b[0;34m(\u001b[0m\u001b[0;34m\"Expecting value\"\u001b[0m\u001b[0;34m,\u001b[0m \u001b[0ms\u001b[0m\u001b[0;34m,\u001b[0m \u001b[0merr\u001b[0m\u001b[0;34m.\u001b[0m\u001b[0mvalue\u001b[0m\u001b[0;34m)\u001b[0m \u001b[0;32mfrom\u001b[0m \u001b[0;32mNone\u001b[0m\u001b[0;34m\u001b[0m\u001b[0m\n\u001b[0m\u001b[1;32m    356\u001b[0m         \u001b[0;32mreturn\u001b[0m \u001b[0mobj\u001b[0m\u001b[0;34m,\u001b[0m \u001b[0mend\u001b[0m\u001b[0;34m\u001b[0m\u001b[0m\n",
      "\u001b[0;31mJSONDecodeError\u001b[0m: Expecting value: line 1 column 1 (char 0)"
     ]
    }
   ],
   "source": [
    "response.json()"
   ]
  },
  {
   "cell_type": "code",
   "execution_count": 84,
   "metadata": {},
   "outputs": [],
   "source": [
    "r = requests.get(url_sh)"
   ]
  },
  {
   "cell_type": "code",
   "execution_count": 87,
   "metadata": {},
   "outputs": [
    {
     "data": {
      "text/plain": [
       "11"
      ]
     },
     "execution_count": 87,
     "metadata": {},
     "output_type": "execute_result"
    }
   ],
   "source": [
    "contents = r.text #Wandeln wir den Text in ein Format um, mit dem BeautifulSoup umgehen kann.\n",
    "soup = BeautifulSoup(contents,'html.parser') #Geben wir das an BeautifulSoup weiter\n",
    "titles = soup.find_all('title') #Nun lesen wir Titel aus.\n",
    "len(titles) #Schauen wir, wie lange die Titel sind."
   ]
  },
  {
   "cell_type": "code",
   "execution_count": 114,
   "metadata": {},
   "outputs": [
    {
     "name": "stdout",
     "output_type": "stream",
     "text": [
      "<title type=\"text\">Güterhof Restaurant, Bar, Sushi, Dine</title>\n"
     ]
    }
   ],
   "source": [
    "print (titles[1])"
   ]
  },
  {
   "cell_type": "code",
   "execution_count": 115,
   "metadata": {},
   "outputs": [
    {
     "data": {
      "text/plain": [
       "'Güterhof Restaurant, Bar, Sushi, Dine'"
      ]
     },
     "execution_count": 115,
     "metadata": {},
     "output_type": "execute_result"
    }
   ],
   "source": [
    "(titles[1]).text"
   ]
  },
  {
   "cell_type": "code",
   "execution_count": 119,
   "metadata": {},
   "outputs": [
    {
     "data": {
      "text/plain": [
       "<title type=\"text\">Güterhof Restaurant, Bar, Sushi, Dine</title>"
      ]
     },
     "execution_count": 119,
     "metadata": {},
     "output_type": "execute_result"
    }
   ],
   "source": [
    "descr = soup.find_all('title')\n",
    "descr[1]"
   ]
  },
  {
   "cell_type": "code",
   "execution_count": null,
   "metadata": {},
   "outputs": [],
   "source": []
  }
 ],
 "metadata": {
  "kernelspec": {
   "display_name": "Python 3",
   "language": "python",
   "name": "python3"
  },
  "language_info": {
   "codemirror_mode": {
    "name": "ipython",
    "version": 3
   },
   "file_extension": ".py",
   "mimetype": "text/x-python",
   "name": "python",
   "nbconvert_exporter": "python",
   "pygments_lexer": "ipython3",
   "version": "3.7.0"
  }
 },
 "nbformat": 4,
 "nbformat_minor": 2
}
