{
 "cells": [
  {
   "cell_type": "markdown",
   "metadata": {},
   "source": [
    "# Projekt1 - Beizen der Schweiz\n",
    "\n",
    "## APIs, Requests, Visualisierung\n",
    "\n",
    "#### Nenn mir deine Stammbeiz und ich sage dir, wo du wohnst\n",
    "\n",
    "Welches sind die vorherrschenden Beizennamen pro Kanton? Recherche mit der Swisscom Directories AG API.\n",
    "Mein persönlicher API Schlüssel: 590ea8961488f9a63dbf95a7b7883805\n",
    "\n",
    "https://tel.search.ch/api/help\n"
   ]
  },
  {
   "cell_type": "markdown",
   "metadata": {},
   "source": [
    "BEISPIEL: https://tel.search.ch/api/?was=john+meier&key=Ihr Schlüssel"
   ]
  },
  {
   "cell_type": "markdown",
   "metadata": {},
   "source": [
    "# NACHTRAG: DIE API DES GRAUENS???\n",
    "\n",
    "## Lieber Barnaby,\n",
    "\n",
    "gestern habe ich das Abfrage-Limit der API erreicht und via Upload der ersten 200 Adressen auf unseren Storytelling-Server meinen Code und Schlaufen kontrolliert. Heute ist die API wieder offen, ich komme jedoch nicht über eine Abfrage von maximal 400 Adressen (der Kanton Zürich hat jedoch 4198 Beizen) hinaus. Mein Kollege Simon Huwyler sieht auch keine Lösung und ich erst recht nicht... ; ))) \n",
    "Ausser natürlich, ich scrape die Website und vergesse die API. Zuvor möchte ich dir jedoch gerne mein Notebook und Code zeigen. Hast du eine clevere Idee, wie ich mein Problem lösen könnte? \n",
    "\n",
    "Ich habe auch meine ganzen Arbeitsschritte ausdokumentiert...\n",
    "\n",
    "Herzlichen Dank und liebe Grüsse"
   ]
  },
  {
   "cell_type": "code",
   "execution_count": 2,
   "metadata": {},
   "outputs": [],
   "source": [
    "import requests\n",
    "import pandas as pd\n",
    "from bs4 import BeautifulSoup\n",
    "\n",
    "%matplotlib inline\n",
    "\n",
    "import json\n",
    "\n",
    "# Als Erstes alles importieren, was ich glaube zu brauchen..."
   ]
  },
  {
   "cell_type": "markdown",
   "metadata": {},
   "source": [
    "### Dann hole ich mir die Website, mit deren API ich arbeite\n",
    "\n",
    "Anhand der API Spezifikationen kann ich mir die genauen Parameter raussuchen, nach denen ich suchen will.\n",
    "Hier **was** (für Restaurant) , **wo** (für Kanton), und da TelSearch die requests auf 200 beschränkt hat die **maxnum** und **pos** (um eine Schlaufe bilden zu können für alle Einträge die mehr als 200 (maxnum) sind."
   ]
  },
  {
   "cell_type": "code",
   "execution_count": 4,
   "metadata": {},
   "outputs": [
    {
     "data": {
      "text/plain": [
       "'https://tel.search.ch/api/?was=Restaurant&key=590ea8961488f9a63dbf95a7b7883805'"
      ]
     },
     "execution_count": 4,
     "metadata": {},
     "output_type": "execute_result"
    }
   ],
   "source": [
    "\"https://tel.search.ch/api/?was=Restaurant&key=590ea8961488f9a63dbf95a7b7883805\""
   ]
  },
  {
   "cell_type": "markdown",
   "metadata": {},
   "source": [
    "Durch die Spezifikationen passe ich meine URL an und speichere sie gleich in eine Variable. Das unten heisst so viel wie alle Einträge in Restaurants des Kantons Schaffhausen, die ersten 200 (maxnum!!! GRRRR), bitte."
   ]
  },
  {
   "cell_type": "code",
   "execution_count": 3,
   "metadata": {},
   "outputs": [],
   "source": [
    "url = \"https://tel.search.ch/api/?was=Restaurant&wo=SH&key=590ea8961488f9a63dbf95a7b7883805&maxnum=200\""
   ]
  },
  {
   "cell_type": "markdown",
   "metadata": {},
   "source": [
    "Mit **requests** rufe ich die Website auf, auch dies wird gleich in eine Variable **response** gepackt."
   ]
  },
  {
   "cell_type": "code",
   "execution_count": 5,
   "metadata": {},
   "outputs": [],
   "source": [
    "response = requests.get(url)"
   ]
  },
  {
   "cell_type": "markdown",
   "metadata": {},
   "source": [
    "Was spuckt er aus? Erste Kontrolle, ob mein request richtig verpackt war. Und das dann gleich noch als Textausgabe."
   ]
  },
  {
   "cell_type": "code",
   "execution_count": 9,
   "metadata": {},
   "outputs": [
    {
     "data": {
      "text/plain": [
       "<Response [429]>"
      ]
     },
     "execution_count": 9,
     "metadata": {},
     "output_type": "execute_result"
    }
   ],
   "source": [
    "response"
   ]
  },
  {
   "cell_type": "code",
   "execution_count": 11,
   "metadata": {},
   "outputs": [
    {
     "data": {
      "text/plain": [
       "'Too many requests, try again tomorrow.'"
      ]
     },
     "execution_count": 11,
     "metadata": {},
     "output_type": "execute_result"
    }
   ],
   "source": [
    "response.text"
   ]
  },
  {
   "cell_type": "markdown",
   "metadata": {},
   "source": [
    "Nun verpacke ich die URL in verschiedene Variablen um damit übersichtlicher arbeiten zu können. Dies gibt dann die nächste Variable **url_sh** und meine nächste Kontrolle, ob die Anfrage richtig gestellt war."
   ]
  },
  {
   "cell_type": "code",
   "execution_count": 12,
   "metadata": {},
   "outputs": [],
   "source": [
    "basis = \"https://tel.search.ch/api/?\"\n",
    "was = \"was=Restaurant&\"\n",
    "wo = \"wo=SH&\"\n",
    "maxnum = \"maxnum=200\"\n",
    "key = \"&key=590ea8961488f9a63dbf95a7b7883805\""
   ]
  },
  {
   "cell_type": "code",
   "execution_count": 13,
   "metadata": {},
   "outputs": [],
   "source": [
    "url_sh = basis + was + wo + maxnum + key"
   ]
  },
  {
   "cell_type": "code",
   "execution_count": 14,
   "metadata": {},
   "outputs": [
    {
     "data": {
      "text/plain": [
       "<Response [429]>"
      ]
     },
     "execution_count": 14,
     "metadata": {},
     "output_type": "execute_result"
    }
   ],
   "source": [
    "requests.get(url_sh)"
   ]
  },
  {
   "cell_type": "code",
   "execution_count": 15,
   "metadata": {},
   "outputs": [
    {
     "data": {
      "text/plain": [
       "'Too many requests, try again tomorrow.'"
      ]
     },
     "execution_count": 15,
     "metadata": {},
     "output_type": "execute_result"
    }
   ],
   "source": [
    "requests.get(url_sh).text"
   ]
  },
  {
   "cell_type": "markdown",
   "metadata": {},
   "source": [
    "Ich will mir die zusammengesetzte Website-URL nochmals anschauen..."
   ]
  },
  {
   "cell_type": "code",
   "execution_count": 17,
   "metadata": {},
   "outputs": [
    {
     "name": "stdout",
     "output_type": "stream",
     "text": [
      "https://tel.search.ch/api/?was=Restaurant&wo=SH&maxnum=200&key=590ea8961488f9a63dbf95a7b7883805\n"
     ]
    }
   ],
   "source": [
    "print(url_sh)"
   ]
  },
  {
   "cell_type": "code",
   "execution_count": null,
   "metadata": {},
   "outputs": [],
   "source": []
  },
  {
   "cell_type": "markdown",
   "metadata": {},
   "source": [
    "Was ist da drin? Nach was kann ich das dann übersichtlicher darstellen? Bevor ich in **response.json()** gehe, schaue ich mir den Header an."
   ]
  },
  {
   "cell_type": "code",
   "execution_count": 18,
   "metadata": {},
   "outputs": [
    {
     "data": {
      "text/plain": [
       "{'Server': 'Apache', 'Content-Type': 'text/html; charset=utf-8', 'Date': 'Wed, 10 Oct 2018 15:29:47 GMT', 'Access-Control-Allow-Origin': '*', 'Connection': 'Keep-Alive', 'Set-Cookie': 'myosotis=163b7d4483f3652bfd7d81489be2bff6; expires=Tue, 19-Jan-2038 03:14:07 GMT; Max-Age=608298260; path=/; domain=.search.ch; HttpOnly', 'Content-Length': '38'}"
      ]
     },
     "execution_count": 18,
     "metadata": {},
     "output_type": "execute_result"
    }
   ],
   "source": [
    "requests.get(url_sh).headers"
   ]
  },
  {
   "cell_type": "markdown",
   "metadata": {},
   "source": [
    "Nun wurde es richtig übel: Das json-Ding, was wir bis anhin immer verwendet haben, funktioniert nicht. Es gibt eine Fehlermeldung aus (siehe unten).\n",
    "Dann geht das grosse Troubleshooten los: wieso? alles ist wie im Kurs gemacht! Was heisst RESTful API? Was steht in der request-documentary? Eine schlaflose Nacht und ich weiss, ich brauche Hilfe..."
   ]
  },
  {
   "cell_type": "code",
   "execution_count": null,
   "metadata": {},
   "outputs": [],
   "source": [
    "response.json()"
   ]
  },
  {
   "cell_type": "markdown",
   "metadata": {},
   "source": [
    "Aber erst versuche ich, einfach weiter zu machen. Was passiert, wenn ich die ganze Sache einfach mal in BeautifulSoup packe? Brauche ich die blöde json-Darstellung gar nicht? Einfach mal ausprobieren... Ich hole mir eine Lösung aus den Schulunterlagen, wo ich das Gefühl habe, das könnte eventuell (die Hoffnung stirbt zuletzt) funktionieren.\n",
    "Und oben hab ich immerhin schon gesehen, dass ich für die Restaurantnamen nach \"entry\" suchen sollte. Also..."
   ]
  },
  {
   "cell_type": "code",
   "execution_count": 19,
   "metadata": {},
   "outputs": [],
   "source": [
    "r = requests.get(url_sh)"
   ]
  },
  {
   "cell_type": "code",
   "execution_count": 20,
   "metadata": {},
   "outputs": [
    {
     "data": {
      "text/plain": [
       "0"
      ]
     },
     "execution_count": 20,
     "metadata": {},
     "output_type": "execute_result"
    }
   ],
   "source": [
    "contents = r.text #Wandeln wir den Text in ein Format um, mit dem BeautifulSoup umgehen kann.\n",
    "soup = BeautifulSoup(contents,'html.parser') #Geben wir das an BeautifulSoup weiter\n",
    "entries = soup.find_all('entry') #Nun lesen wir Titel aus.\n",
    "len(entries) #Schauen wir, wie lange die Titel sind."
   ]
  },
  {
   "cell_type": "markdown",
   "metadata": {},
   "source": [
    "### Arrrghhh... \n",
    "\n",
    "TelSearch spuckt kein json, sondern nur XML aus!!!!\n",
    "Hilfe. Mit Simons Hilfe erarbeite ich einen Workaround und lerne einiges über xml. Eventuell brauche ich einen neuen Parser, der wird vorsorglich unten installiert.\n",
    "Dazu weiss ich, dass ich alles in Pandas darstellen will. Also baue ich mir ein leeres Dataframe, wo ich dann wie in einen Container alles abfüllen kann. Ich brauche einen Boolean, verschiedene Variablen und vor allem durch die Beschränkung auf 200 Adressen pro Abfrage eine **Schleife!!!**, die mir die anderen Restaurants auch noch holt. Und weil ich das ganze ja für alle Restaurants der Schweiz haben will, nehme ich den Kanton (hier \"SH\") auch noch in eine Variable.\n",
    "Wenn der Code unten funktioniert, brauche ich \"nur\" noch die Kantonsvariable zu ändern und kann das Ganze ziemlich speditiv abfragen und in ein CSV speichern.\n",
    "Hat natürlich viel länger gedauert zu erarbeiten, als hier zu beschreiben ; )\n",
    "\n",
    "Und ja, ich habe bereits die maximal erlaubte Anzahl Abfragen pro Tag hingekriegt und musste das XML-File der ersten 200 Abfragen auf unseren Server nehmen, um weiterarbeiten zu können...Doch damit konnte ich wenigstens die Funktionalität testen und kann nun Tag für Tag runterladen, so viel wie halt geht..."
   ]
  },
  {
   "cell_type": "code",
   "execution_count": null,
   "metadata": {},
   "outputs": [],
   "source": [
    "!pip3 install --upgrade lxml\n",
    "!pip3 install cssselect\n"
   ]
  },
  {
   "cell_type": "code",
   "execution_count": 23,
   "metadata": {},
   "outputs": [],
   "source": [
    "kanton = \"SH\""
   ]
  },
  {
   "cell_type": "code",
   "execution_count": 24,
   "metadata": {},
   "outputs": [],
   "source": [
    "import lxml"
   ]
  },
  {
   "cell_type": "code",
   "execution_count": 31,
   "metadata": {},
   "outputs": [
    {
     "data": {
      "text/html": [
       "<div>\n",
       "<style scoped>\n",
       "    .dataframe tbody tr th:only-of-type {\n",
       "        vertical-align: middle;\n",
       "    }\n",
       "\n",
       "    .dataframe tbody tr th {\n",
       "        vertical-align: top;\n",
       "    }\n",
       "\n",
       "    .dataframe thead th {\n",
       "        text-align: right;\n",
       "    }\n",
       "</style>\n",
       "<table border=\"1\" class=\"dataframe\">\n",
       "  <thead>\n",
       "    <tr style=\"text-align: right;\">\n",
       "      <th></th>\n",
       "      <th>Restaurantname</th>\n",
       "    </tr>\n",
       "  </thead>\n",
       "  <tbody>\n",
       "  </tbody>\n",
       "</table>\n",
       "</div>"
      ],
      "text/plain": [
       "Empty DataFrame\n",
       "Columns: [Restaurantname]\n",
       "Index: []"
      ]
     },
     "execution_count": 31,
     "metadata": {},
     "output_type": "execute_result"
    }
   ],
   "source": [
    "df = pd.DataFrame({\"Restaurantname\":[]})\n",
    "df.head()"
   ]
  },
  {
   "cell_type": "code",
   "execution_count": 33,
   "metadata": {},
   "outputs": [
    {
     "name": "stdout",
     "output_type": "stream",
     "text": [
      "1\n",
      "https://tel.search.ch/api/?was=Restaurant&wo=SH&maxnum=200&pos=1&key=590ea8961488f9a63dbf95a7b7883805\n",
      "2\n",
      "https://tel.search.ch/api/?was=Restaurant&wo=SH&maxnum=200&pos=201&key=590ea8961488f9a63dbf95a7b7883805\n"
     ]
    },
    {
     "ename": "AttributeError",
     "evalue": "'NoneType' object has no attribute 'text'",
     "output_type": "error",
     "traceback": [
      "\u001b[0;31m---------------------------------------------------------------------------\u001b[0m",
      "\u001b[0;31mAttributeError\u001b[0m                            Traceback (most recent call last)",
      "\u001b[0;32m<ipython-input-33-c6aa410eaf75>\u001b[0m in \u001b[0;36m<module>\u001b[0;34m()\u001b[0m\n\u001b[1;32m     33\u001b[0m \u001b[0;34m\u001b[0m\u001b[0m\n\u001b[1;32m     34\u001b[0m     \u001b[0;31m#Kontrolliert schleife\u001b[0m\u001b[0;34m\u001b[0m\u001b[0;34m\u001b[0m\u001b[0m\n\u001b[0;32m---> 35\u001b[0;31m     \u001b[0;32mif\u001b[0m \u001b[0mcounter\u001b[0m \u001b[0;34m*\u001b[0m \u001b[0;36m200\u001b[0m \u001b[0;34m<\u001b[0m \u001b[0mint\u001b[0m\u001b[0;34m(\u001b[0m\u001b[0msoup\u001b[0m\u001b[0;34m.\u001b[0m\u001b[0mfind\u001b[0m\u001b[0;34m(\u001b[0m\u001b[0;34m\"opensearch:totalresults\"\u001b[0m\u001b[0;34m)\u001b[0m\u001b[0;34m.\u001b[0m\u001b[0mtext\u001b[0m\u001b[0;34m)\u001b[0m\u001b[0;34m:\u001b[0m\u001b[0;34m\u001b[0m\u001b[0m\n\u001b[0m\u001b[1;32m     36\u001b[0m         \u001b[0mhatrestaurant\u001b[0m \u001b[0;34m=\u001b[0m \u001b[0;32mTrue\u001b[0m\u001b[0;34m\u001b[0m\u001b[0m\n\u001b[1;32m     37\u001b[0m     \u001b[0;32melse\u001b[0m\u001b[0;34m:\u001b[0m\u001b[0;34m\u001b[0m\u001b[0m\n",
      "\u001b[0;31mAttributeError\u001b[0m: 'NoneType' object has no attribute 'text'"
     ]
    }
   ],
   "source": [
    "hatrestaurant = True\n",
    "counter = 1\n",
    "\n",
    "ns_opensearch = {'openSearch': 'http://a9.com/-/spec/opensearchrss/1.0/'}\n",
    "\n",
    "while hatrestaurant == True:\n",
    "    \n",
    "    print (str(counter))\n",
    "    \n",
    "    basis = \"https://tel.search.ch/api/?\"\n",
    "    #basis = \"https://devst.blick.ch/intern/priska/api.xml?\"\n",
    "    was = \"was=Restaurant&\"\n",
    "    wo = \"wo=\"+ kanton + \"&\"\n",
    "    maxnum = \"maxnum=200&\"\n",
    "    pos = \"pos=\" + str(counter * 200 - 200 + 1)\n",
    "    key = \"&key=590ea8961488f9a63dbf95a7b7883805\"\n",
    "    \n",
    "    url_sh = basis + was + wo + maxnum + pos + key\n",
    "    print(url_sh)\n",
    "    \n",
    "    r = requests.get(url_sh)\n",
    "    soup = BeautifulSoup(r.text, 'html.parser')\n",
    "    #print(soup.find(\"opensearch:totalresults\").text)\n",
    "    \n",
    "    #Alle Entrys vom aktuellen file durchsuchen\n",
    "    entries = soup.find_all(\"entry\")\n",
    "    for entry in entries:\n",
    "        #print (entry.find(\"title\").text)\n",
    "        restaurantname = entry.find(\"title\").text\n",
    "        df = df.append({\"Restaurantname\": restaurantname},ignore_index=True)\n",
    "    \n",
    "    \n",
    "    \n",
    "    #Kontrolliert schleife\n",
    "    if counter * 200 < int(soup.find(\"opensearch:totalresults\").text):\n",
    "        hatrestaurant = True\n",
    "    else:\n",
    "        hatrestaurant = False\n",
    "    \n",
    "    counter = counter + 1\n",
    "    \n",
    "print(\"finito\")"
   ]
  },
  {
   "cell_type": "code",
   "execution_count": null,
   "metadata": {},
   "outputs": [],
   "source": []
  },
  {
   "cell_type": "code",
   "execution_count": null,
   "metadata": {},
   "outputs": [],
   "source": [
    "df.to_csv(\"export_csv/export_\" + kanton + \".csv\", sep = \";\" , index = False)"
   ]
  },
  {
   "cell_type": "code",
   "execution_count": 30,
   "metadata": {},
   "outputs": [],
   "source": [
    "#df = pd.DataFrame({\"Restaurantname\":[]})\n",
    "#entries = soup.find_all(\"entry\")\n",
    "#for entry in entries:\n",
    " #   print (entry.find(\"title\").text)\n",
    "    \n",
    "  #  restaurantname = entry.find(\"title\").text\n",
    "    \n",
    "   #df = df.append({\"Restaurantname\": restaurantname},ignore_index=True)\n",
    "\n",
    "#das hier ist Ersatzcode, rauslöschen, wenn alles läuft!!!"
   ]
  },
  {
   "cell_type": "code",
   "execution_count": 29,
   "metadata": {},
   "outputs": [
    {
     "name": "stdout",
     "output_type": "stream",
     "text": [
      "<class 'pandas.core.frame.DataFrame'>\n",
      "RangeIndex: 600 entries, 0 to 599\n",
      "Data columns (total 1 columns):\n",
      "Restaurantname    600 non-null object\n",
      "dtypes: object(1)\n",
      "memory usage: 4.8+ KB\n"
     ]
    }
   ],
   "source": [
    "df.info()"
   ]
  },
  {
   "cell_type": "code",
   "execution_count": 28,
   "metadata": {},
   "outputs": [
    {
     "data": {
      "text/html": [
       "<div>\n",
       "<style scoped>\n",
       "    .dataframe tbody tr th:only-of-type {\n",
       "        vertical-align: middle;\n",
       "    }\n",
       "\n",
       "    .dataframe tbody tr th {\n",
       "        vertical-align: top;\n",
       "    }\n",
       "\n",
       "    .dataframe thead th {\n",
       "        text-align: right;\n",
       "    }\n",
       "</style>\n",
       "<table border=\"1\" class=\"dataframe\">\n",
       "  <thead>\n",
       "    <tr style=\"text-align: right;\">\n",
       "      <th></th>\n",
       "      <th>Restaurantname</th>\n",
       "    </tr>\n",
       "  </thead>\n",
       "  <tbody>\n",
       "    <tr>\n",
       "      <th>0</th>\n",
       "      <td>Güterhof Restaurant, Bar, Sushi, Dine</td>\n",
       "    </tr>\n",
       "    <tr>\n",
       "      <th>1</th>\n",
       "      <td>Restaurant Burg Hohenklingen</td>\n",
       "    </tr>\n",
       "    <tr>\n",
       "      <th>2</th>\n",
       "      <td>Restaurant 1584</td>\n",
       "    </tr>\n",
       "    <tr>\n",
       "      <th>3</th>\n",
       "      <td>Restaurant Rhyhalde</td>\n",
       "    </tr>\n",
       "    <tr>\n",
       "      <th>4</th>\n",
       "      <td>Restaurant Trattoria la Calabrisella</td>\n",
       "    </tr>\n",
       "    <tr>\n",
       "      <th>5</th>\n",
       "      <td>Restaurant Park am Rheinfall</td>\n",
       "    </tr>\n",
       "    <tr>\n",
       "      <th>6</th>\n",
       "      <td>Beckenburg das Restaurant</td>\n",
       "    </tr>\n",
       "    <tr>\n",
       "      <th>7</th>\n",
       "      <td>Restaurant Mühle</td>\n",
       "    </tr>\n",
       "    <tr>\n",
       "      <th>8</th>\n",
       "      <td>Restaurant Rossberghof</td>\n",
       "    </tr>\n",
       "    <tr>\n",
       "      <th>9</th>\n",
       "      <td>Restaurant Sommerlust</td>\n",
       "    </tr>\n",
       "  </tbody>\n",
       "</table>\n",
       "</div>"
      ],
      "text/plain": [
       "                          Restaurantname\n",
       "0  Güterhof Restaurant, Bar, Sushi, Dine\n",
       "1           Restaurant Burg Hohenklingen\n",
       "2                        Restaurant 1584\n",
       "3                    Restaurant Rhyhalde\n",
       "4   Restaurant Trattoria la Calabrisella\n",
       "5           Restaurant Park am Rheinfall\n",
       "6              Beckenburg das Restaurant\n",
       "7                       Restaurant Mühle\n",
       "8                 Restaurant Rossberghof\n",
       "9                  Restaurant Sommerlust"
      ]
     },
     "execution_count": 28,
     "metadata": {},
     "output_type": "execute_result"
    }
   ],
   "source": [
    "df.head(10)"
   ]
  },
  {
   "cell_type": "markdown",
   "metadata": {},
   "source": [
    "### Meine nächsten Schritte\n",
    "\n",
    "Alle Kantone durch anpassen der Kantonsvariablen rausziehen und **sofort** als CSV abspeichern. Somit hoffe ich, nicht nochmals das API Limit von TelSearch zu erreichen.\n",
    "\n",
    "Die Kantons-CSV einlesen und mit Pandas nach Häufigkeit vom Beizennamen listen, die Top5 sollten reichen.\n",
    "\n",
    "Die Kantons-CSV einlesen und mit Pandas zu einem grossen Schweiz-File zusammenfügen. Welches sind die Top5-Beizennamen der Schweiz?\n",
    "\n",
    "Dann nach prozentualer Häufigkeit listen. Der beliebteste Beizenname pro Kanton wie häufig wird er nach Prozent vergeben?\n",
    "\n",
    "**Eventuell** schaffe ich es mein Wohnbevölkerungs-Excel mit den Beizen pro Kanton zu erweitern... Ansonsten nehme ich das aus meiner Excel-Vorlage. Wieviele Beizen pro 1000 EW/Kanton gibt es? Wo ist die relative höchste Beizendichte?\n",
    "\n",
    "Und damit kann ich dann anfangen zu zeichnen... : )))) **Hurra, zeichnen!!!**"
   ]
  },
  {
   "cell_type": "code",
   "execution_count": null,
   "metadata": {},
   "outputs": [],
   "source": []
  },
  {
   "cell_type": "markdown",
   "metadata": {},
   "source": []
  },
  {
   "cell_type": "code",
   "execution_count": null,
   "metadata": {},
   "outputs": [],
   "source": []
  }
 ],
 "metadata": {
  "kernelspec": {
   "display_name": "Python 3",
   "language": "python",
   "name": "python3"
  },
  "language_info": {
   "codemirror_mode": {
    "name": "ipython",
    "version": 3
   },
   "file_extension": ".py",
   "mimetype": "text/x-python",
   "name": "python",
   "nbconvert_exporter": "python",
   "pygments_lexer": "ipython3",
   "version": "3.7.0"
  }
 },
 "nbformat": 4,
 "nbformat_minor": 2
}
