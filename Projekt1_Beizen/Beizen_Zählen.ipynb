{
 "cells": [
  {
   "cell_type": "markdown",
   "metadata": {},
   "source": [
    "# Search.ch API\n",
    "- Search API [die Dokumentation](https://tel.search.ch/api/help). \n",
    "- [Dokumentation](https://docs.python.org/2/library/xml.etree.elementtree.html) ElementTree"
   ]
  },
  {
   "cell_type": "markdown",
   "metadata": {},
   "source": [
    "Unsere Imports"
   ]
  },
  {
   "cell_type": "code",
   "execution_count": 101,
   "metadata": {
    "collapsed": true
   },
   "outputs": [],
   "source": [
    "import requests\n",
    "import xml.etree.ElementTree as ET\n",
    "import pandas as pd"
   ]
  },
  {
   "cell_type": "code",
   "execution_count": 102,
   "metadata": {
    "collapsed": true
   },
   "outputs": [],
   "source": [
    "baseurl = 'https://tel.search.ch/api/?'\n",
    "maxnum = \"maxnum=200&\"\n",
    "wo = \"wo=Zürich&\"\n",
    "was = \"was=Restaurant&\"\n",
    "firma = \"firma=1&\"\n",
    "key = \"key=904568c6cf29414ab5db041092de34db\"\n",
    "count_only = \"count_only=1&\""
   ]
  },
  {
   "cell_type": "code",
   "execution_count": 103,
   "metadata": {},
   "outputs": [
    {
     "name": "stdout",
     "output_type": "stream",
     "text": [
      "https://tel.search.ch/api/?was=Restaurant&count_only=1&key=904568c6cf29414ab5db041092de34db\n"
     ]
    }
   ],
   "source": [
    "url = baseurl+was+count_only+key\n",
    "print(url)"
   ]
  },
  {
   "cell_type": "code",
   "execution_count": 72,
   "metadata": {
    "collapsed": true
   },
   "outputs": [],
   "source": [
    "#Das ist bekannt. Hier fragen wir die API ab.\n",
    "r = requests.get(url)"
   ]
  },
  {
   "cell_type": "code",
   "execution_count": 104,
   "metadata": {
    "collapsed": true
   },
   "outputs": [],
   "source": [
    "#Das hier ist etwas kryptisch, weil dieses XML etwas kompliziert zu lesen ist.\n",
    "#Zuerst muss es eine Form gewandelt werden, die von Elementree gelesen werden \n",
    "#kann\n",
    "root = ET.fromstring(r.text)"
   ]
  },
  {
   "cell_type": "code",
   "execution_count": 106,
   "metadata": {},
   "outputs": [
    {
     "name": "stdout",
     "output_type": "stream",
     "text": [
      "<Element '{http://www.w3.org/2005/Atom}id' at 0x1080aa778>\n",
      "<Element '{http://www.w3.org/2005/Atom}title' at 0x1080aa818>\n",
      "<Element '{http://www.w3.org/2005/Atom}generator' at 0x1080aa8b8>\n",
      "<Element '{http://www.w3.org/2005/Atom}updated' at 0x1080aa908>\n",
      "<Element '{http://www.w3.org/2005/Atom}link' at 0x1080aa958>\n",
      "<Element '{http://www.w3.org/2005/Atom}link' at 0x1080aa9a8>\n",
      "<Element '{http://a9.com/-/spec/opensearchrss/1.0/}totalResults' at 0x1080aa9f8>\n",
      "<Element '{http://a9.com/-/spec/opensearchrss/1.0/}startIndex' at 0x1080aaa48>\n",
      "<Element '{http://a9.com/-/spec/opensearchrss/1.0/}itemsPerPage' at 0x1080aaa98>\n",
      "<Element '{http://a9.com/-/spec/opensearchrss/1.0/}Query' at 0x1080aab38>\n",
      "<Element '{http://a9.com/-/spec/opensearchrss/1.0/}Image' at 0x1080aabd8>\n",
      "<Element '{http://a9.com/-/spec/opensearchrss/1.0/}Query' at 0x1080aac28>\n",
      "<Element '{http://tel.search.ch/api/spec/result/1.0/}tip' at 0x1080aacc8>\n"
     ]
    }
   ],
   "source": [
    "#Nun schauaen wir uns an, was alles hier enthalten ist. Was uns interessiert,\n",
    "#ist der TotalResultsPage.\n",
    "for elem in root:\n",
    "    print(elem)"
   ]
  },
  {
   "cell_type": "code",
   "execution_count": 107,
   "metadata": {},
   "outputs": [
    {
     "name": "stdout",
     "output_type": "stream",
     "text": [
      "29394\n"
     ]
    }
   ],
   "source": [
    "#Diese finden wir so. Und ziehen das Text Element, die eigentlich Zahl,\n",
    "#mit Text heraus.\n",
    "root.find('{http://a9.com/-/spec/opensearchrss/1.0/}totalResults')\n",
    "print(child.text)"
   ]
  }
 ],
 "metadata": {
  "kernelspec": {
   "display_name": "Python 3",
   "language": "python",
   "name": "python3"
  },
  "language_info": {
   "codemirror_mode": {
    "name": "ipython",
    "version": 3
   },
   "file_extension": ".py",
   "mimetype": "text/x-python",
   "name": "python",
   "nbconvert_exporter": "python",
   "pygments_lexer": "ipython3",
   "version": "3.5.1"
  }
 },
 "nbformat": 4,
 "nbformat_minor": 2
}
