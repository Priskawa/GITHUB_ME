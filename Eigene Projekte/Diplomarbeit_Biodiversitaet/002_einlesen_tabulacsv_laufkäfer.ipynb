{
 "cells": [
  {
   "cell_type": "markdown",
   "metadata": {},
   "source": [
    "# MAZ Diplomarbeit - Biodiversität in der Schweiz#"
   ]
  },
  {
   "cell_type": "code",
   "execution_count": null,
   "metadata": {},
   "outputs": [],
   "source": []
  },
  {
   "cell_type": "code",
   "execution_count": 1,
   "metadata": {},
   "outputs": [],
   "source": [
    "import pandas as pd\n",
    "import matplotlib.pyplot as plt\n",
    "%matplotlib inline"
   ]
  },
  {
   "cell_type": "code",
   "execution_count": 2,
   "metadata": {},
   "outputs": [],
   "source": [
    "df = pd.read_csv(\"01_source/tabula_ch/tabula_lauf_sandlaufkaefer.csv\")"
   ]
  },
  {
   "cell_type": "code",
   "execution_count": 3,
   "metadata": {},
   "outputs": [
    {
     "data": {
      "text/html": [
       "<div>\n",
       "<style scoped>\n",
       "    .dataframe tbody tr th:only-of-type {\n",
       "        vertical-align: middle;\n",
       "    }\n",
       "\n",
       "    .dataframe tbody tr th {\n",
       "        vertical-align: top;\n",
       "    }\n",
       "\n",
       "    .dataframe thead th {\n",
       "        text-align: right;\n",
       "    }\n",
       "</style>\n",
       "<table border=\"1\" class=\"dataframe\">\n",
       "  <thead>\n",
       "    <tr style=\"text-align: right;\">\n",
       "      <th></th>\n",
       "      <th>ORDER</th>\n",
       "      <th>FAMILY</th>\n",
       "      <th>scientific name</th>\n",
       "      <th>N</th>\n",
       "      <th>S</th>\n",
       "      <th>CH</th>\n",
       "      <th>Bemerkungen</th>\n",
       "    </tr>\n",
       "  </thead>\n",
       "  <tbody>\n",
       "    <tr>\n",
       "      <th>0</th>\n",
       "      <td>COLEOPTERA (KÄFER)</td>\n",
       "      <td>Cicindelidae (Sandlaufkäfer)</td>\n",
       "      <td>Cicindela arenaria Fuesslin</td>\n",
       "      <td>1</td>\n",
       "      <td>1</td>\n",
       "      <td>1</td>\n",
       "      <td>breite, sandige Flussufer</td>\n",
       "    </tr>\n",
       "    <tr>\n",
       "      <th>1</th>\n",
       "      <td>COLEOPTERA (KÄFER)</td>\n",
       "      <td>Cicindelidae (Sandlaufkäfer)</td>\n",
       "      <td>C. flexuosa Fabr.</td>\n",
       "      <td>-</td>\n",
       "      <td>0</td>\n",
       "      <td>0</td>\n",
       "      <td>sandige Seeufer, Genf</td>\n",
       "    </tr>\n",
       "    <tr>\n",
       "      <th>2</th>\n",
       "      <td>COLEOPTERA (KÄFER)</td>\n",
       "      <td>Cicindelidae (Sandlaufkäfer)</td>\n",
       "      <td>C. germanica L.</td>\n",
       "      <td>1</td>\n",
       "      <td>2</td>\n",
       "      <td>2</td>\n",
       "      <td>Trockenrasen</td>\n",
       "    </tr>\n",
       "    <tr>\n",
       "      <th>3</th>\n",
       "      <td>COLEOPTERA (KÄFER)</td>\n",
       "      <td>Cicindelidae (Sandlaufkäfer)</td>\n",
       "      <td>C. silvatica L.</td>\n",
       "      <td>-</td>\n",
       "      <td>0</td>\n",
       "      <td>0</td>\n",
       "      <td>sandige Kiefernwälder</td>\n",
       "    </tr>\n",
       "    <tr>\n",
       "      <th>4</th>\n",
       "      <td>COLEOPTERA (KÄFER)</td>\n",
       "      <td>Carabidae (Laufkäfer)</td>\n",
       "      <td>Abax oblongus Dejean</td>\n",
       "      <td>-</td>\n",
       "      <td>1</td>\n",
       "      <td>1</td>\n",
       "      <td>Endemit, Sottoceneri</td>\n",
       "    </tr>\n",
       "  </tbody>\n",
       "</table>\n",
       "</div>"
      ],
      "text/plain": [
       "                ORDER                        FAMILY  \\\n",
       "0  COLEOPTERA (KÄFER)  Cicindelidae (Sandlaufkäfer)   \n",
       "1  COLEOPTERA (KÄFER)  Cicindelidae (Sandlaufkäfer)   \n",
       "2  COLEOPTERA (KÄFER)  Cicindelidae (Sandlaufkäfer)   \n",
       "3  COLEOPTERA (KÄFER)  Cicindelidae (Sandlaufkäfer)   \n",
       "4  COLEOPTERA (KÄFER)         Carabidae (Laufkäfer)   \n",
       "\n",
       "               scientific name  N  S  CH                Bemerkungen  \n",
       "0  Cicindela arenaria Fuesslin  1  1   1  breite, sandige Flussufer  \n",
       "1            C. flexuosa Fabr.  -  0   0      sandige Seeufer, Genf  \n",
       "2              C. germanica L.  1  2   2               Trockenrasen  \n",
       "3              C. silvatica L.  -  0   0      sandige Kiefernwälder  \n",
       "4         Abax oblongus Dejean  -  1   1       Endemit, Sottoceneri  "
      ]
     },
     "execution_count": 3,
     "metadata": {},
     "output_type": "execute_result"
    }
   ],
   "source": [
    "df.head()"
   ]
  },
  {
   "cell_type": "code",
   "execution_count": null,
   "metadata": {},
   "outputs": [],
   "source": []
  },
  {
   "cell_type": "code",
   "execution_count": 4,
   "metadata": {},
   "outputs": [
    {
     "data": {
      "text/plain": [
       "204"
      ]
     },
     "execution_count": 4,
     "metadata": {},
     "output_type": "execute_result"
    }
   ],
   "source": [
    "len (df)"
   ]
  },
  {
   "cell_type": "code",
   "execution_count": 5,
   "metadata": {},
   "outputs": [
    {
     "data": {
      "text/plain": [
       "0        1\n",
       "1        0\n",
       "2        2\n",
       "3        0\n",
       "4        1\n",
       "5        1\n",
       "6        4\n",
       "7      NaN\n",
       "8      NaN\n",
       "9      NaN\n",
       "10     NaN\n",
       "11     NaN\n",
       "12     NaN\n",
       "13     NaN\n",
       "14     NaN\n",
       "15     NaN\n",
       "16     NaN\n",
       "17     NaN\n",
       "18     NaN\n",
       "19     NaN\n",
       "20     NaN\n",
       "21     NaN\n",
       "22     NaN\n",
       "23     NaN\n",
       "24     NaN\n",
       "25     NaN\n",
       "26     NaN\n",
       "27     NaN\n",
       "28     NaN\n",
       "29     NaN\n",
       "      ... \n",
       "174    NaN\n",
       "175    NaN\n",
       "176    NaN\n",
       "177    NaN\n",
       "178    NaN\n",
       "179    NaN\n",
       "180    NaN\n",
       "181    NaN\n",
       "182    NaN\n",
       "183    NaN\n",
       "184    NaN\n",
       "185    NaN\n",
       "186    NaN\n",
       "187    NaN\n",
       "188    NaN\n",
       "189    NaN\n",
       "190    NaN\n",
       "191    NaN\n",
       "192    NaN\n",
       "193    NaN\n",
       "194    NaN\n",
       "195    NaN\n",
       "196    NaN\n",
       "197    NaN\n",
       "198    NaN\n",
       "199    NaN\n",
       "200    NaN\n",
       "201    NaN\n",
       "202    NaN\n",
       "203    NaN\n",
       "Name: S, Length: 204, dtype: object"
      ]
     },
     "execution_count": 5,
     "metadata": {},
     "output_type": "execute_result"
    }
   ],
   "source": [
    "df.pop(\"N\")\n",
    "df.pop(\"S\")"
   ]
  },
  {
   "cell_type": "code",
   "execution_count": 6,
   "metadata": {},
   "outputs": [
    {
     "data": {
      "text/html": [
       "<div>\n",
       "<style scoped>\n",
       "    .dataframe tbody tr th:only-of-type {\n",
       "        vertical-align: middle;\n",
       "    }\n",
       "\n",
       "    .dataframe tbody tr th {\n",
       "        vertical-align: top;\n",
       "    }\n",
       "\n",
       "    .dataframe thead th {\n",
       "        text-align: right;\n",
       "    }\n",
       "</style>\n",
       "<table border=\"1\" class=\"dataframe\">\n",
       "  <thead>\n",
       "    <tr style=\"text-align: right;\">\n",
       "      <th></th>\n",
       "      <th>ORDER</th>\n",
       "      <th>FAMILY</th>\n",
       "      <th>scientific name</th>\n",
       "      <th>CH</th>\n",
       "      <th>Bemerkungen</th>\n",
       "    </tr>\n",
       "  </thead>\n",
       "  <tbody>\n",
       "    <tr>\n",
       "      <th>0</th>\n",
       "      <td>COLEOPTERA (KÄFER)</td>\n",
       "      <td>Cicindelidae (Sandlaufkäfer)</td>\n",
       "      <td>Cicindela arenaria Fuesslin</td>\n",
       "      <td>1</td>\n",
       "      <td>breite, sandige Flussufer</td>\n",
       "    </tr>\n",
       "    <tr>\n",
       "      <th>1</th>\n",
       "      <td>COLEOPTERA (KÄFER)</td>\n",
       "      <td>Cicindelidae (Sandlaufkäfer)</td>\n",
       "      <td>C. flexuosa Fabr.</td>\n",
       "      <td>0</td>\n",
       "      <td>sandige Seeufer, Genf</td>\n",
       "    </tr>\n",
       "  </tbody>\n",
       "</table>\n",
       "</div>"
      ],
      "text/plain": [
       "                ORDER                        FAMILY  \\\n",
       "0  COLEOPTERA (KÄFER)  Cicindelidae (Sandlaufkäfer)   \n",
       "1  COLEOPTERA (KÄFER)  Cicindelidae (Sandlaufkäfer)   \n",
       "\n",
       "               scientific name  CH                Bemerkungen  \n",
       "0  Cicindela arenaria Fuesslin   1  breite, sandige Flussufer  \n",
       "1            C. flexuosa Fabr.   0      sandige Seeufer, Genf  "
      ]
     },
     "execution_count": 6,
     "metadata": {},
     "output_type": "execute_result"
    }
   ],
   "source": [
    "df.head(2)"
   ]
  },
  {
   "cell_type": "code",
   "execution_count": 7,
   "metadata": {},
   "outputs": [],
   "source": [
    "df.rename(columns={\"ORDER\": \"order\", \"FAMILY\": \"family\", \"scientific name\": \"sc name\",\"CH\":\"ch cat\", \"Bemerkungen\":\"bemerkungen\"},inplace=True)"
   ]
  },
  {
   "cell_type": "code",
   "execution_count": 8,
   "metadata": {},
   "outputs": [
    {
     "data": {
      "text/html": [
       "<div>\n",
       "<style scoped>\n",
       "    .dataframe tbody tr th:only-of-type {\n",
       "        vertical-align: middle;\n",
       "    }\n",
       "\n",
       "    .dataframe tbody tr th {\n",
       "        vertical-align: top;\n",
       "    }\n",
       "\n",
       "    .dataframe thead th {\n",
       "        text-align: right;\n",
       "    }\n",
       "</style>\n",
       "<table border=\"1\" class=\"dataframe\">\n",
       "  <thead>\n",
       "    <tr style=\"text-align: right;\">\n",
       "      <th></th>\n",
       "      <th>order</th>\n",
       "      <th>family</th>\n",
       "      <th>sc name</th>\n",
       "      <th>ch cat</th>\n",
       "      <th>bemerkungen</th>\n",
       "    </tr>\n",
       "  </thead>\n",
       "  <tbody>\n",
       "    <tr>\n",
       "      <th>0</th>\n",
       "      <td>COLEOPTERA (KÄFER)</td>\n",
       "      <td>Cicindelidae (Sandlaufkäfer)</td>\n",
       "      <td>Cicindela arenaria Fuesslin</td>\n",
       "      <td>1</td>\n",
       "      <td>breite, sandige Flussufer</td>\n",
       "    </tr>\n",
       "  </tbody>\n",
       "</table>\n",
       "</div>"
      ],
      "text/plain": [
       "                order                        family  \\\n",
       "0  COLEOPTERA (KÄFER)  Cicindelidae (Sandlaufkäfer)   \n",
       "\n",
       "                       sc name  ch cat                bemerkungen  \n",
       "0  Cicindela arenaria Fuesslin       1  breite, sandige Flussufer  "
      ]
     },
     "execution_count": 8,
     "metadata": {},
     "output_type": "execute_result"
    }
   ],
   "source": [
    "df.head(1)"
   ]
  },
  {
   "cell_type": "code",
   "execution_count": 9,
   "metadata": {},
   "outputs": [],
   "source": [
    "df['einteilung'] = 'Insekten'\n",
    "df['untergruppe'] = 'Laufkäfer'"
   ]
  },
  {
   "cell_type": "code",
   "execution_count": 10,
   "metadata": {},
   "outputs": [
    {
     "data": {
      "text/html": [
       "<div>\n",
       "<style scoped>\n",
       "    .dataframe tbody tr th:only-of-type {\n",
       "        vertical-align: middle;\n",
       "    }\n",
       "\n",
       "    .dataframe tbody tr th {\n",
       "        vertical-align: top;\n",
       "    }\n",
       "\n",
       "    .dataframe thead th {\n",
       "        text-align: right;\n",
       "    }\n",
       "</style>\n",
       "<table border=\"1\" class=\"dataframe\">\n",
       "  <thead>\n",
       "    <tr style=\"text-align: right;\">\n",
       "      <th></th>\n",
       "      <th>order</th>\n",
       "      <th>family</th>\n",
       "      <th>sc name</th>\n",
       "      <th>ch cat</th>\n",
       "      <th>bemerkungen</th>\n",
       "      <th>einteilung</th>\n",
       "      <th>untergruppe</th>\n",
       "    </tr>\n",
       "  </thead>\n",
       "  <tbody>\n",
       "    <tr>\n",
       "      <th>0</th>\n",
       "      <td>COLEOPTERA (KÄFER)</td>\n",
       "      <td>Cicindelidae (Sandlaufkäfer)</td>\n",
       "      <td>Cicindela arenaria Fuesslin</td>\n",
       "      <td>1</td>\n",
       "      <td>breite, sandige Flussufer</td>\n",
       "      <td>Insekten</td>\n",
       "      <td>Laufkäfer</td>\n",
       "    </tr>\n",
       "    <tr>\n",
       "      <th>1</th>\n",
       "      <td>COLEOPTERA (KÄFER)</td>\n",
       "      <td>Cicindelidae (Sandlaufkäfer)</td>\n",
       "      <td>C. flexuosa Fabr.</td>\n",
       "      <td>0</td>\n",
       "      <td>sandige Seeufer, Genf</td>\n",
       "      <td>Insekten</td>\n",
       "      <td>Laufkäfer</td>\n",
       "    </tr>\n",
       "    <tr>\n",
       "      <th>2</th>\n",
       "      <td>COLEOPTERA (KÄFER)</td>\n",
       "      <td>Cicindelidae (Sandlaufkäfer)</td>\n",
       "      <td>C. germanica L.</td>\n",
       "      <td>2</td>\n",
       "      <td>Trockenrasen</td>\n",
       "      <td>Insekten</td>\n",
       "      <td>Laufkäfer</td>\n",
       "    </tr>\n",
       "    <tr>\n",
       "      <th>3</th>\n",
       "      <td>COLEOPTERA (KÄFER)</td>\n",
       "      <td>Cicindelidae (Sandlaufkäfer)</td>\n",
       "      <td>C. silvatica L.</td>\n",
       "      <td>0</td>\n",
       "      <td>sandige Kiefernwälder</td>\n",
       "      <td>Insekten</td>\n",
       "      <td>Laufkäfer</td>\n",
       "    </tr>\n",
       "    <tr>\n",
       "      <th>4</th>\n",
       "      <td>COLEOPTERA (KÄFER)</td>\n",
       "      <td>Carabidae (Laufkäfer)</td>\n",
       "      <td>Abax oblongus Dejean</td>\n",
       "      <td>1</td>\n",
       "      <td>Endemit, Sottoceneri</td>\n",
       "      <td>Insekten</td>\n",
       "      <td>Laufkäfer</td>\n",
       "    </tr>\n",
       "  </tbody>\n",
       "</table>\n",
       "</div>"
      ],
      "text/plain": [
       "                order                        family  \\\n",
       "0  COLEOPTERA (KÄFER)  Cicindelidae (Sandlaufkäfer)   \n",
       "1  COLEOPTERA (KÄFER)  Cicindelidae (Sandlaufkäfer)   \n",
       "2  COLEOPTERA (KÄFER)  Cicindelidae (Sandlaufkäfer)   \n",
       "3  COLEOPTERA (KÄFER)  Cicindelidae (Sandlaufkäfer)   \n",
       "4  COLEOPTERA (KÄFER)         Carabidae (Laufkäfer)   \n",
       "\n",
       "                       sc name  ch cat                bemerkungen einteilung  \\\n",
       "0  Cicindela arenaria Fuesslin       1  breite, sandige Flussufer   Insekten   \n",
       "1            C. flexuosa Fabr.       0      sandige Seeufer, Genf   Insekten   \n",
       "2              C. germanica L.       2               Trockenrasen   Insekten   \n",
       "3              C. silvatica L.       0      sandige Kiefernwälder   Insekten   \n",
       "4         Abax oblongus Dejean       1       Endemit, Sottoceneri   Insekten   \n",
       "\n",
       "  untergruppe  \n",
       "0   Laufkäfer  \n",
       "1   Laufkäfer  \n",
       "2   Laufkäfer  \n",
       "3   Laufkäfer  \n",
       "4   Laufkäfer  "
      ]
     },
     "execution_count": 10,
     "metadata": {},
     "output_type": "execute_result"
    }
   ],
   "source": [
    "df.head()"
   ]
  },
  {
   "cell_type": "code",
   "execution_count": 11,
   "metadata": {},
   "outputs": [
    {
     "data": {
      "text/plain": [
       "4    65\n",
       "1    45\n",
       "3    33\n",
       "2    32\n",
       "0    29\n",
       "Name: ch cat, dtype: int64"
      ]
     },
     "execution_count": 11,
     "metadata": {},
     "output_type": "execute_result"
    }
   ],
   "source": [
    "df[\"ch cat\"].value_counts()"
   ]
  },
  {
   "cell_type": "code",
   "execution_count": 12,
   "metadata": {},
   "outputs": [
    {
     "data": {
      "image/png": "[encoded data removed]",
      "text/plain": [
       "<Figure size 504x432 with 1 Axes>"
      ]
     },
     "metadata": {},
     "output_type": "display_data"
    }
   ],
   "source": [
    "values = [0, 29, 45, 0, 65, 0, 65, 301, 0]\n",
    "colors = ['r', 'r', 'r', 'r', 'r', 'g', \"g\", \"grey\", \"grey\"]\n",
    "labels = [\n",
    "    'EX: ausgestorben-0', 'RE: CH ausgestorben, ch cat:0',\n",
    "    'CR: v. aussterben bedroht, ch cat:1', 'EN: stark gefährdet,ch cat:1', \n",
    "    'VU: verletzlich, ch cat:2und3',\"NT: potenziell gef. ch cat:4\",\n",
    "    \"LC: nicht gef. ch cat:4\",\"DD: ungen. Daten\",\"NE: nicht beurteilt\"]\n",
    "\n",
    "\n",
    "fig1, ax1 = plt.subplots(figsize=(7, 6))\n",
    "fig1.subplots_adjust(0.3,0,1,1)\n",
    "plt.pie(values, colors=colors, labels= values, counterclock=False,startangle=90)\n",
    "plt.title('Gefährdung Laufkäfer, 505 Arten,aus pdf')\n",
    "\n",
    "total = sum(values)\n",
    "plt.legend(\n",
    "    loc='upper left',\n",
    "    labels=['%s, %1.1f%%' % (\n",
    "        l, (float(s) / total) * 100) for l, s in zip(labels, values)],\n",
    "    \n",
    "    bbox_to_anchor=(1.0, 0.5),\n",
    "    bbox_transform=fig1.transFigure\n",
    ")\n",
    "plt.show()"
   ]
  },
  {
   "cell_type": "code",
   "execution_count": 13,
   "metadata": {},
   "outputs": [
    {
     "data": {
      "image/png": "[encoded data removed]",
      "text/plain": [
       "<Figure size 504x432 with 1 Axes>"
      ]
     },
     "metadata": {},
     "output_type": "display_data"
    }
   ],
   "source": [
    "values = [0, 29, 45, 0, 65, 0, 65, 0]\n",
    "colors = ['r', 'r', 'r', 'r', 'r', 'g', \"g\", \"grey\", \"grey\"]\n",
    "labels = [\n",
    "    'EX: ausgestorben-0', 'RE: CH ausgestorben, ch cat:0',\n",
    "    'CR: v. aussterben bedroht, ch cat:1', 'EN: stark gefährdet,ch cat:1', \n",
    "    'VU: verletzlich, ch cat:2und3',\"NT: potenziell gef. ch cat:4\",\n",
    "    \"LC: nicht gef. ch cat:4\",\"DD: ungen. Daten\",\"NE: nicht beurteilt\"]\n",
    "\n",
    "\n",
    "fig1, ax1 = plt.subplots(figsize=(7, 6))\n",
    "fig1.subplots_adjust(0.3,0,1,1)\n",
    "plt.pie(values, colors=colors, labels= values, counterclock=False,startangle=90)\n",
    "plt.title('Gefährdung Laufkäfer, 204 dokumentierte Arten,aus pdf')\n",
    "\n",
    "total = sum(values)\n",
    "plt.legend(\n",
    "    loc='upper left',\n",
    "    labels=['%s, %1.1f%%' % (\n",
    "        l, (float(s) / total) * 100) for l, s in zip(labels, values)],\n",
    "    \n",
    "    bbox_to_anchor=(1.0, 0.5),\n",
    "    bbox_transform=fig1.transFigure\n",
    ")\n",
    "plt.show()"
   ]
  },
  {
   "cell_type": "code",
   "execution_count": null,
   "metadata": {},
   "outputs": [],
   "source": []
  }
 ],
 "metadata": {
  "kernelspec": {
   "display_name": "Python 3",
   "language": "python",
   "name": "python3"
  },
  "language_info": {
   "codemirror_mode": {
    "name": "ipython",
    "version": 3
   },
   "file_extension": ".py",
   "mimetype": "text/x-python",
   "name": "python",
   "nbconvert_exporter": "python",
   "pygments_lexer": "ipython3",
   "version": "3.7.0"
  }
 },
 "nbformat": 4,
 "nbformat_minor": 2
}
