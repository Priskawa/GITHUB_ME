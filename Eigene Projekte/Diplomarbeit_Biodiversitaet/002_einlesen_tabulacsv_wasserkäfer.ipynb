{
 "cells": [
  {
   "cell_type": "markdown",
   "metadata": {},
   "source": [
    "# MAZ Diplomarbeit - Biodiversität in der Schweiz#"
   ]
  },
  {
   "cell_type": "code",
   "execution_count": null,
   "metadata": {},
   "outputs": [],
   "source": []
  },
  {
   "cell_type": "code",
   "execution_count": 1,
   "metadata": {},
   "outputs": [],
   "source": [
    "import pandas as pd\n",
    "import matplotlib.pyplot as plt\n",
    "%matplotlib inline"
   ]
  },
  {
   "cell_type": "code",
   "execution_count": 2,
   "metadata": {},
   "outputs": [],
   "source": [
    "df = pd.read_csv(\"01_source/tabula_ch/tabula_wasserkaefer.csv\")"
   ]
  },
  {
   "cell_type": "code",
   "execution_count": 3,
   "metadata": {},
   "outputs": [
    {
     "data": {
      "text/html": [
       "<div>\n",
       "<style scoped>\n",
       "    .dataframe tbody tr th:only-of-type {\n",
       "        vertical-align: middle;\n",
       "    }\n",
       "\n",
       "    .dataframe tbody tr th {\n",
       "        vertical-align: top;\n",
       "    }\n",
       "\n",
       "    .dataframe thead th {\n",
       "        text-align: right;\n",
       "    }\n",
       "</style>\n",
       "<table border=\"1\" class=\"dataframe\">\n",
       "  <thead>\n",
       "    <tr style=\"text-align: right;\">\n",
       "      <th></th>\n",
       "      <th>ORDER</th>\n",
       "      <th>FAMILY</th>\n",
       "      <th>Artname</th>\n",
       "      <th>N</th>\n",
       "      <th>S</th>\n",
       "      <th>CH</th>\n",
       "      <th>Bemerkungen</th>\n",
       "    </tr>\n",
       "  </thead>\n",
       "  <tbody>\n",
       "    <tr>\n",
       "      <th>0</th>\n",
       "      <td>ADEPHAGA (Wasserkäfer)</td>\n",
       "      <td>Hygrobiidae (Feuchtkäfer)</td>\n",
       "      <td>Hygrobia hermanni (Fabricius)</td>\n",
       "      <td>2</td>\n",
       "      <td>2</td>\n",
       "      <td>2</td>\n",
       "      <td>schlammige stehende Gewässer</td>\n",
       "    </tr>\n",
       "    <tr>\n",
       "      <th>1</th>\n",
       "      <td>ADEPHAGA (Wasserkäfer)</td>\n",
       "      <td>Haliplidae (Wassertreter)</td>\n",
       "      <td>Brychius elevatus (Panzer)</td>\n",
       "      <td>3</td>\n",
       "      <td>3</td>\n",
       "      <td>3</td>\n",
       "      <td>langsam fliessende Gewässer</td>\n",
       "    </tr>\n",
       "    <tr>\n",
       "      <th>2</th>\n",
       "      <td>ADEPHAGA (Wasserkäfer)</td>\n",
       "      <td>Haliplidae (Wassertreter)</td>\n",
       "      <td>Halipius obliquus (Fabricius)</td>\n",
       "      <td>3</td>\n",
       "      <td>3</td>\n",
       "      <td>3</td>\n",
       "      <td>Kiesgruben</td>\n",
       "    </tr>\n",
       "    <tr>\n",
       "      <th>3</th>\n",
       "      <td>ADEPHAGA (Wasserkäfer)</td>\n",
       "      <td>Haliplidae (Wassertreter)</td>\n",
       "      <td>H. confinis Stephens</td>\n",
       "      <td>3</td>\n",
       "      <td>3</td>\n",
       "      <td>3</td>\n",
       "      <td>Kiesgruben, Wiesengräben</td>\n",
       "    </tr>\n",
       "    <tr>\n",
       "      <th>4</th>\n",
       "      <td>ADEPHAGA (Wasserkäfer)</td>\n",
       "      <td>Haliplidae (Wassertreter)</td>\n",
       "      <td>H. fluviatilis Aube</td>\n",
       "      <td>2</td>\n",
       "      <td>2</td>\n",
       "      <td>2</td>\n",
       "      <td>vegetationsreiche Bäche</td>\n",
       "    </tr>\n",
       "  </tbody>\n",
       "</table>\n",
       "</div>"
      ],
      "text/plain": [
       "                    ORDER                     FAMILY  \\\n",
       "0  ADEPHAGA (Wasserkäfer)  Hygrobiidae (Feuchtkäfer)   \n",
       "1  ADEPHAGA (Wasserkäfer)  Haliplidae (Wassertreter)   \n",
       "2  ADEPHAGA (Wasserkäfer)  Haliplidae (Wassertreter)   \n",
       "3  ADEPHAGA (Wasserkäfer)  Haliplidae (Wassertreter)   \n",
       "4  ADEPHAGA (Wasserkäfer)  Haliplidae (Wassertreter)   \n",
       "\n",
       "                         Artname  N  S  CH                   Bemerkungen  \n",
       "0  Hygrobia hermanni (Fabricius)  2  2   2  schlammige stehende Gewässer  \n",
       "1     Brychius elevatus (Panzer)  3  3   3   langsam fliessende Gewässer  \n",
       "2  Halipius obliquus (Fabricius)  3  3   3                    Kiesgruben  \n",
       "3           H. confinis Stephens  3  3   3      Kiesgruben, Wiesengräben  \n",
       "4            H. fluviatilis Aube  2  2   2       vegetationsreiche Bäche  "
      ]
     },
     "execution_count": 3,
     "metadata": {},
     "output_type": "execute_result"
    }
   ],
   "source": [
    "df.head()"
   ]
  },
  {
   "cell_type": "code",
   "execution_count": 4,
   "metadata": {},
   "outputs": [
    {
     "data": {
      "text/plain": [
       "109"
      ]
     },
     "execution_count": 4,
     "metadata": {},
     "output_type": "execute_result"
    }
   ],
   "source": [
    "len (df)"
   ]
  },
  {
   "cell_type": "code",
   "execution_count": 5,
   "metadata": {},
   "outputs": [
    {
     "data": {
      "text/plain": [
       "0      2\n",
       "1      3\n",
       "2      3\n",
       "3      3\n",
       "4      2\n",
       "5      3\n",
       "6      -\n",
       "7      -\n",
       "8      4\n",
       "9      3\n",
       "10     3\n",
       "11     -\n",
       "12     4\n",
       "13     3\n",
       "14     3\n",
       "15     3\n",
       "16     -\n",
       "17     3\n",
       "18     4\n",
       "19     -\n",
       "20     2\n",
       "21     -\n",
       "22     3\n",
       "23     n\n",
       "24     4\n",
       "25     3\n",
       "26     -\n",
       "27     -\n",
       "28     -\n",
       "29     -\n",
       "      ..\n",
       "79     -\n",
       "80     -\n",
       "81     3\n",
       "82     2\n",
       "83     -\n",
       "84     3\n",
       "85     -\n",
       "86     3\n",
       "87     3\n",
       "88     2\n",
       "89     -\n",
       "90     3\n",
       "91     3\n",
       "92     2\n",
       "93     4\n",
       "94     2\n",
       "95     -\n",
       "96     2\n",
       "97     2\n",
       "98     -\n",
       "99     2\n",
       "100    2\n",
       "101    4\n",
       "102    -\n",
       "103    -\n",
       "104    2\n",
       "105    -\n",
       "106    3\n",
       "107    -\n",
       "108    -\n",
       "Name: S, Length: 109, dtype: object"
      ]
     },
     "execution_count": 5,
     "metadata": {},
     "output_type": "execute_result"
    }
   ],
   "source": [
    "df.pop(\"N\")\n",
    "df.pop(\"S\")"
   ]
  },
  {
   "cell_type": "code",
   "execution_count": 6,
   "metadata": {},
   "outputs": [
    {
     "data": {
      "text/html": [
       "<div>\n",
       "<style scoped>\n",
       "    .dataframe tbody tr th:only-of-type {\n",
       "        vertical-align: middle;\n",
       "    }\n",
       "\n",
       "    .dataframe tbody tr th {\n",
       "        vertical-align: top;\n",
       "    }\n",
       "\n",
       "    .dataframe thead th {\n",
       "        text-align: right;\n",
       "    }\n",
       "</style>\n",
       "<table border=\"1\" class=\"dataframe\">\n",
       "  <thead>\n",
       "    <tr style=\"text-align: right;\">\n",
       "      <th></th>\n",
       "      <th>ORDER</th>\n",
       "      <th>FAMILY</th>\n",
       "      <th>Artname</th>\n",
       "      <th>CH</th>\n",
       "      <th>Bemerkungen</th>\n",
       "    </tr>\n",
       "  </thead>\n",
       "  <tbody>\n",
       "    <tr>\n",
       "      <th>0</th>\n",
       "      <td>ADEPHAGA (Wasserkäfer)</td>\n",
       "      <td>Hygrobiidae (Feuchtkäfer)</td>\n",
       "      <td>Hygrobia hermanni (Fabricius)</td>\n",
       "      <td>2</td>\n",
       "      <td>schlammige stehende Gewässer</td>\n",
       "    </tr>\n",
       "    <tr>\n",
       "      <th>1</th>\n",
       "      <td>ADEPHAGA (Wasserkäfer)</td>\n",
       "      <td>Haliplidae (Wassertreter)</td>\n",
       "      <td>Brychius elevatus (Panzer)</td>\n",
       "      <td>3</td>\n",
       "      <td>langsam fliessende Gewässer</td>\n",
       "    </tr>\n",
       "  </tbody>\n",
       "</table>\n",
       "</div>"
      ],
      "text/plain": [
       "                    ORDER                     FAMILY  \\\n",
       "0  ADEPHAGA (Wasserkäfer)  Hygrobiidae (Feuchtkäfer)   \n",
       "1  ADEPHAGA (Wasserkäfer)  Haliplidae (Wassertreter)   \n",
       "\n",
       "                         Artname  CH                   Bemerkungen  \n",
       "0  Hygrobia hermanni (Fabricius)   2  schlammige stehende Gewässer  \n",
       "1     Brychius elevatus (Panzer)   3   langsam fliessende Gewässer  "
      ]
     },
     "execution_count": 6,
     "metadata": {},
     "output_type": "execute_result"
    }
   ],
   "source": [
    "df.head(2)"
   ]
  },
  {
   "cell_type": "code",
   "execution_count": 7,
   "metadata": {},
   "outputs": [],
   "source": [
    "df.rename(columns={\"ORDER\":\"order\", \"FAMILY\":\"family\",\"Artname\":\"sc name\",\"CH\":\"ch cat\", \"Bemerkungen\":\"bemerkungen\"},inplace=True)"
   ]
  },
  {
   "cell_type": "code",
   "execution_count": 8,
   "metadata": {},
   "outputs": [
    {
     "data": {
      "text/html": [
       "<div>\n",
       "<style scoped>\n",
       "    .dataframe tbody tr th:only-of-type {\n",
       "        vertical-align: middle;\n",
       "    }\n",
       "\n",
       "    .dataframe tbody tr th {\n",
       "        vertical-align: top;\n",
       "    }\n",
       "\n",
       "    .dataframe thead th {\n",
       "        text-align: right;\n",
       "    }\n",
       "</style>\n",
       "<table border=\"1\" class=\"dataframe\">\n",
       "  <thead>\n",
       "    <tr style=\"text-align: right;\">\n",
       "      <th></th>\n",
       "      <th>order</th>\n",
       "      <th>family</th>\n",
       "      <th>sc name</th>\n",
       "      <th>ch cat</th>\n",
       "      <th>bemerkungen</th>\n",
       "    </tr>\n",
       "  </thead>\n",
       "  <tbody>\n",
       "    <tr>\n",
       "      <th>0</th>\n",
       "      <td>ADEPHAGA (Wasserkäfer)</td>\n",
       "      <td>Hygrobiidae (Feuchtkäfer)</td>\n",
       "      <td>Hygrobia hermanni (Fabricius)</td>\n",
       "      <td>2</td>\n",
       "      <td>schlammige stehende Gewässer</td>\n",
       "    </tr>\n",
       "    <tr>\n",
       "      <th>1</th>\n",
       "      <td>ADEPHAGA (Wasserkäfer)</td>\n",
       "      <td>Haliplidae (Wassertreter)</td>\n",
       "      <td>Brychius elevatus (Panzer)</td>\n",
       "      <td>3</td>\n",
       "      <td>langsam fliessende Gewässer</td>\n",
       "    </tr>\n",
       "  </tbody>\n",
       "</table>\n",
       "</div>"
      ],
      "text/plain": [
       "                    order                     family  \\\n",
       "0  ADEPHAGA (Wasserkäfer)  Hygrobiidae (Feuchtkäfer)   \n",
       "1  ADEPHAGA (Wasserkäfer)  Haliplidae (Wassertreter)   \n",
       "\n",
       "                         sc name  ch cat                   bemerkungen  \n",
       "0  Hygrobia hermanni (Fabricius)       2  schlammige stehende Gewässer  \n",
       "1     Brychius elevatus (Panzer)       3   langsam fliessende Gewässer  "
      ]
     },
     "execution_count": 8,
     "metadata": {},
     "output_type": "execute_result"
    }
   ],
   "source": [
    "df.head(2)"
   ]
  },
  {
   "cell_type": "code",
   "execution_count": 9,
   "metadata": {},
   "outputs": [],
   "source": [
    "df['einteilung'] = 'Insekten'\n",
    "df['untergruppe'] = 'Wasserkäfer'\n"
   ]
  },
  {
   "cell_type": "code",
   "execution_count": 10,
   "metadata": {},
   "outputs": [
    {
     "data": {
      "text/html": [
       "<div>\n",
       "<style scoped>\n",
       "    .dataframe tbody tr th:only-of-type {\n",
       "        vertical-align: middle;\n",
       "    }\n",
       "\n",
       "    .dataframe tbody tr th {\n",
       "        vertical-align: top;\n",
       "    }\n",
       "\n",
       "    .dataframe thead th {\n",
       "        text-align: right;\n",
       "    }\n",
       "</style>\n",
       "<table border=\"1\" class=\"dataframe\">\n",
       "  <thead>\n",
       "    <tr style=\"text-align: right;\">\n",
       "      <th></th>\n",
       "      <th>order</th>\n",
       "      <th>family</th>\n",
       "      <th>sc name</th>\n",
       "      <th>ch cat</th>\n",
       "      <th>bemerkungen</th>\n",
       "      <th>einteilung</th>\n",
       "      <th>untergruppe</th>\n",
       "    </tr>\n",
       "  </thead>\n",
       "  <tbody>\n",
       "    <tr>\n",
       "      <th>0</th>\n",
       "      <td>ADEPHAGA (Wasserkäfer)</td>\n",
       "      <td>Hygrobiidae (Feuchtkäfer)</td>\n",
       "      <td>Hygrobia hermanni (Fabricius)</td>\n",
       "      <td>2</td>\n",
       "      <td>schlammige stehende Gewässer</td>\n",
       "      <td>Insekten</td>\n",
       "      <td>Wasserkäfer</td>\n",
       "    </tr>\n",
       "    <tr>\n",
       "      <th>1</th>\n",
       "      <td>ADEPHAGA (Wasserkäfer)</td>\n",
       "      <td>Haliplidae (Wassertreter)</td>\n",
       "      <td>Brychius elevatus (Panzer)</td>\n",
       "      <td>3</td>\n",
       "      <td>langsam fliessende Gewässer</td>\n",
       "      <td>Insekten</td>\n",
       "      <td>Wasserkäfer</td>\n",
       "    </tr>\n",
       "  </tbody>\n",
       "</table>\n",
       "</div>"
      ],
      "text/plain": [
       "                    order                     family  \\\n",
       "0  ADEPHAGA (Wasserkäfer)  Hygrobiidae (Feuchtkäfer)   \n",
       "1  ADEPHAGA (Wasserkäfer)  Haliplidae (Wassertreter)   \n",
       "\n",
       "                         sc name  ch cat                   bemerkungen  \\\n",
       "0  Hygrobia hermanni (Fabricius)       2  schlammige stehende Gewässer   \n",
       "1     Brychius elevatus (Panzer)       3   langsam fliessende Gewässer   \n",
       "\n",
       "  einteilung  untergruppe  \n",
       "0   Insekten  Wasserkäfer  \n",
       "1   Insekten  Wasserkäfer  "
      ]
     },
     "execution_count": 10,
     "metadata": {},
     "output_type": "execute_result"
    }
   ],
   "source": [
    "df.head(2)"
   ]
  },
  {
   "cell_type": "code",
   "execution_count": null,
   "metadata": {},
   "outputs": [],
   "source": []
  },
  {
   "cell_type": "code",
   "execution_count": 11,
   "metadata": {},
   "outputs": [
    {
     "data": {
      "text/plain": [
       "3    47\n",
       "2    42\n",
       "4    12\n",
       "1     8\n",
       "Name: ch cat, dtype: int64"
      ]
     },
     "execution_count": 11,
     "metadata": {},
     "output_type": "execute_result"
    }
   ],
   "source": [
    "df[\"ch cat\"].value_counts()"
   ]
  },
  {
   "cell_type": "code",
   "execution_count": 12,
   "metadata": {},
   "outputs": [
    {
     "data": {
      "image/png": "[encoded data removed]",
      "text/plain": [
       "<Figure size 504x432 with 1 Axes>"
      ]
     },
     "metadata": {},
     "output_type": "display_data"
    }
   ],
   "source": [
    "values = [0, 0, 8, 0, 89, 0, 12, 46, 0]\n",
    "colors = ['r', 'r', 'r', 'r', 'r', 'g', \"g\", \"grey\", \"grey\"]\n",
    "labels = [\n",
    "    'EX: ausgestorben-0', 'RE: CH ausgestorben, ch cat:0',\n",
    "    'CR: v. aussterben bedroht, ch cat:1', 'EN: stark gefährdet,ch cat:1', \n",
    "    'VU: verletzlich, ch cat:2und3',\"NT: potenziell gef. ch cat:4\",\n",
    "    \"LC: nicht gef. ch cat:4\",\"DD: ungen. Daten\",\"NE: nicht beurteilt\"]\n",
    "\n",
    "\n",
    "fig1, ax1 = plt.subplots(figsize=(7, 6))\n",
    "fig1.subplots_adjust(0.3,0,1,1)\n",
    "plt.pie(values, colors=colors, labels= values, counterclock=False,startangle=90)\n",
    "plt.title('Gefährdung Wasserkäfer, 155 Arten, aus pdf')\n",
    "\n",
    "total = sum(values)\n",
    "plt.legend(\n",
    "    loc='upper left',\n",
    "    labels=['%s, %1.1f%%' % (\n",
    "        l, (float(s) / total) * 100) for l, s in zip(labels, values)],\n",
    "    \n",
    "    bbox_to_anchor=(1.0, 0.5),\n",
    "    bbox_transform=fig1.transFigure\n",
    ")\n",
    "plt.show()"
   ]
  },
  {
   "cell_type": "code",
   "execution_count": 13,
   "metadata": {},
   "outputs": [
    {
     "data": {
      "image/png": "[encoded data removed]",
      "text/plain": [
       "<Figure size 504x432 with 1 Axes>"
      ]
     },
     "metadata": {},
     "output_type": "display_data"
    }
   ],
   "source": [
    "values = [0, 0, 8, 0, 89, 0, 12, 0, 0]\n",
    "colors = ['r', 'r', 'r', 'r', 'r', 'g', \"g\", \"grey\", \"grey\"]\n",
    "labels = [\n",
    "    'EX: ausgestorben-0', 'RE: CH ausgestorben, ch cat:0',\n",
    "    'CR: v. aussterben bedroht, ch cat:1', 'EN: stark gefährdet,ch cat:1', \n",
    "    'VU: verletzlich, ch cat:2und3',\"NT: potenziell gef. ch cat:4\",\n",
    "    \"LC: nicht gef. ch cat:4\",\"DD: ungen. Daten\",\"NE: nicht beurteilt\"]\n",
    "\n",
    "\n",
    "fig1, ax1 = plt.subplots(figsize=(7, 6))\n",
    "fig1.subplots_adjust(0.3,0,1,1)\n",
    "plt.pie(values, colors=colors, labels= values, counterclock=False,startangle=90)\n",
    "plt.title('Gefährdung Wasserkäfer, 109 dokumentierte Arten, aus pdf')\n",
    "\n",
    "total = sum(values)\n",
    "plt.legend(\n",
    "    loc='upper left',\n",
    "    labels=['%s, %1.1f%%' % (\n",
    "        l, (float(s) / total) * 100) for l, s in zip(labels, values)],\n",
    "    \n",
    "    bbox_to_anchor=(1.0, 0.5),\n",
    "    bbox_transform=fig1.transFigure\n",
    ")\n",
    "plt.show()"
   ]
  },
  {
   "cell_type": "code",
   "execution_count": null,
   "metadata": {},
   "outputs": [],
   "source": []
  }
 ],
 "metadata": {
  "kernelspec": {
   "display_name": "Python 3",
   "language": "python",
   "name": "python3"
  },
  "language_info": {
   "codemirror_mode": {
    "name": "ipython",
    "version": 3
   },
   "file_extension": ".py",
   "mimetype": "text/x-python",
   "name": "python",
   "nbconvert_exporter": "python",
   "pygments_lexer": "ipython3",
   "version": "3.7.0"
  }
 },
 "nbformat": 4,
 "nbformat_minor": 2
}
