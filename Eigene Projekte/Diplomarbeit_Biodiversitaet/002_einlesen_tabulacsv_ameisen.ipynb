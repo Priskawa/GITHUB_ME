{
 "cells": [
  {
   "cell_type": "markdown",
   "metadata": {},
   "source": [
    "# MAZ Diplomarbeit - Biodiversität in der Schweiz#"
   ]
  },
  {
   "cell_type": "code",
   "execution_count": null,
   "metadata": {},
   "outputs": [],
   "source": []
  },
  {
   "cell_type": "code",
   "execution_count": 1,
   "metadata": {},
   "outputs": [],
   "source": [
    "import pandas as pd\n",
    "import matplotlib.pyplot as plt\n",
    "%matplotlib inline"
   ]
  },
  {
   "cell_type": "code",
   "execution_count": 2,
   "metadata": {},
   "outputs": [],
   "source": [
    "df = pd.read_csv(\"01_source/tabula_ch/tabula_ameisen.csv\")"
   ]
  },
  {
   "cell_type": "code",
   "execution_count": 3,
   "metadata": {},
   "outputs": [
    {
     "data": {
      "text/html": [
       "<div>\n",
       "<style scoped>\n",
       "    .dataframe tbody tr th:only-of-type {\n",
       "        vertical-align: middle;\n",
       "    }\n",
       "\n",
       "    .dataframe tbody tr th {\n",
       "        vertical-align: top;\n",
       "    }\n",
       "\n",
       "    .dataframe thead th {\n",
       "        text-align: right;\n",
       "    }\n",
       "</style>\n",
       "<table border=\"1\" class=\"dataframe\">\n",
       "  <thead>\n",
       "    <tr style=\"text-align: right;\">\n",
       "      <th></th>\n",
       "      <th>ORDER</th>\n",
       "      <th>FAMILY</th>\n",
       "      <th>Artname</th>\n",
       "      <th>N</th>\n",
       "      <th>S</th>\n",
       "      <th>CH</th>\n",
       "      <th>Bemerkungen</th>\n",
       "    </tr>\n",
       "  </thead>\n",
       "  <tbody>\n",
       "    <tr>\n",
       "      <th>0</th>\n",
       "      <td>HYMENOPTERA (HAUTFLÜGLER)</td>\n",
       "      <td>Formicidae (AMEISEN)</td>\n",
       "      <td>Hypoponera eduardi (Forel)</td>\n",
       "      <td>-</td>\n",
       "      <td>4</td>\n",
       "      <td>4.0</td>\n",
       "      <td>NaN</td>\n",
       "    </tr>\n",
       "    <tr>\n",
       "      <th>1</th>\n",
       "      <td>HYMENOPTERA (HAUTFLÜGLER)</td>\n",
       "      <td>Formicidae (AMEISEN)</td>\n",
       "      <td>Anergates atratulus (Schenk)</td>\n",
       "      <td>3</td>\n",
       "      <td>3</td>\n",
       "      <td>3.0</td>\n",
       "      <td>Wiesen und Weiden</td>\n",
       "    </tr>\n",
       "    <tr>\n",
       "      <th>2</th>\n",
       "      <td>HYMENOPTERA (HAUTFLÜGLER)</td>\n",
       "      <td>Formicidae (AMEISEN)</td>\n",
       "      <td>Aphaenogaster gibbosa (Latreille)</td>\n",
       "      <td>-</td>\n",
       "      <td>4</td>\n",
       "      <td>4.0</td>\n",
       "      <td>Strassenränder</td>\n",
       "    </tr>\n",
       "    <tr>\n",
       "      <th>3</th>\n",
       "      <td>HYMENOPTERA (HAUTFLÜGLER)</td>\n",
       "      <td>Formicidae (AMEISEN)</td>\n",
       "      <td>A. italica Santschi</td>\n",
       "      <td>-</td>\n",
       "      <td>4</td>\n",
       "      <td>4.0</td>\n",
       "      <td>Strassenränder</td>\n",
       "    </tr>\n",
       "    <tr>\n",
       "      <th>4</th>\n",
       "      <td>HYMENOPTERA (HAUTFLÜGLER)</td>\n",
       "      <td>Formicidae (AMEISEN)</td>\n",
       "      <td>A. subterranea (Latreille)</td>\n",
       "      <td>3</td>\n",
       "      <td>n</td>\n",
       "      <td>3.0</td>\n",
       "      <td>Flaumeichenwälder</td>\n",
       "    </tr>\n",
       "  </tbody>\n",
       "</table>\n",
       "</div>"
      ],
      "text/plain": [
       "                       ORDER                FAMILY  \\\n",
       "0  HYMENOPTERA (HAUTFLÜGLER)  Formicidae (AMEISEN)   \n",
       "1  HYMENOPTERA (HAUTFLÜGLER)  Formicidae (AMEISEN)   \n",
       "2  HYMENOPTERA (HAUTFLÜGLER)  Formicidae (AMEISEN)   \n",
       "3  HYMENOPTERA (HAUTFLÜGLER)  Formicidae (AMEISEN)   \n",
       "4  HYMENOPTERA (HAUTFLÜGLER)  Formicidae (AMEISEN)   \n",
       "\n",
       "                             Artname  N  S   CH        Bemerkungen  \n",
       "0         Hypoponera eduardi (Forel)  -  4  4.0                NaN  \n",
       "1       Anergates atratulus (Schenk)  3  3  3.0  Wiesen und Weiden  \n",
       "2  Aphaenogaster gibbosa (Latreille)  -  4  4.0     Strassenränder  \n",
       "3                A. italica Santschi  -  4  4.0     Strassenränder  \n",
       "4         A. subterranea (Latreille)  3  n  3.0  Flaumeichenwälder  "
      ]
     },
     "execution_count": 3,
     "metadata": {},
     "output_type": "execute_result"
    }
   ],
   "source": [
    "df.head()"
   ]
  },
  {
   "cell_type": "code",
   "execution_count": null,
   "metadata": {},
   "outputs": [],
   "source": []
  },
  {
   "cell_type": "code",
   "execution_count": 4,
   "metadata": {},
   "outputs": [
    {
     "data": {
      "text/plain": [
       "65"
      ]
     },
     "execution_count": 4,
     "metadata": {},
     "output_type": "execute_result"
    }
   ],
   "source": [
    "len (df)"
   ]
  },
  {
   "cell_type": "code",
   "execution_count": 5,
   "metadata": {},
   "outputs": [
    {
     "data": {
      "text/plain": [
       "(65, 7)"
      ]
     },
     "execution_count": 5,
     "metadata": {},
     "output_type": "execute_result"
    }
   ],
   "source": [
    "df.shape"
   ]
  },
  {
   "cell_type": "code",
   "execution_count": 6,
   "metadata": {},
   "outputs": [
    {
     "data": {
      "text/plain": [
       "3.0    21\n",
       "2.0    17\n",
       "4.0    17\n",
       "1.0     5\n",
       "0.0     3\n",
       "Name: CH, dtype: int64"
      ]
     },
     "execution_count": 6,
     "metadata": {},
     "output_type": "execute_result"
    }
   ],
   "source": [
    "df[\"CH\"].value_counts()"
   ]
  },
  {
   "cell_type": "code",
   "execution_count": 7,
   "metadata": {},
   "outputs": [
    {
     "data": {
      "text/plain": [
       "0       -\n",
       "1       3\n",
       "2       -\n",
       "3       -\n",
       "4       3\n",
       "5       -\n",
       "6       2\n",
       "7       2\n",
       "8       3\n",
       "9       3\n",
       "10      2\n",
       "11      4\n",
       "12      -\n",
       "13      2\n",
       "14      2\n",
       "15      2\n",
       "16      -\n",
       "17      2\n",
       "18      2\n",
       "19      -\n",
       "20      -\n",
       "21      -\n",
       "22      3\n",
       "23      2\n",
       "24      4\n",
       "25      3\n",
       "26      3\n",
       "27      2\n",
       "28      -\n",
       "29      -\n",
       "     ... \n",
       "35      -\n",
       "36      0\n",
       "37    NaN\n",
       "38      0\n",
       "39      3\n",
       "40      0\n",
       "41      -\n",
       "42      2\n",
       "43      0\n",
       "44      2\n",
       "45      3\n",
       "46      1\n",
       "47      -\n",
       "48      -\n",
       "49      -\n",
       "50      4\n",
       "51      3\n",
       "52      3\n",
       "53      4\n",
       "54      3\n",
       "55      2\n",
       "56      2\n",
       "57      0\n",
       "58      2\n",
       "59      3\n",
       "60      2\n",
       "61      4\n",
       "62      4\n",
       "63      -\n",
       "64      2\n",
       "Name: N, Length: 65, dtype: object"
      ]
     },
     "execution_count": 7,
     "metadata": {},
     "output_type": "execute_result"
    }
   ],
   "source": [
    "df.pop(\"N\")"
   ]
  },
  {
   "cell_type": "code",
   "execution_count": 8,
   "metadata": {},
   "outputs": [
    {
     "data": {
      "text/plain": [
       "0       4\n",
       "1       3\n",
       "2       4\n",
       "3       4\n",
       "4       n\n",
       "5       2\n",
       "6       2\n",
       "7       -\n",
       "8       3\n",
       "9       3\n",
       "10      -\n",
       "11      4\n",
       "12      4\n",
       "13      -\n",
       "14      n\n",
       "15      -\n",
       "16      4\n",
       "17      2\n",
       "18      n\n",
       "19      4\n",
       "20      1\n",
       "21      4\n",
       "22      3\n",
       "23      -\n",
       "24      -\n",
       "25      3\n",
       "26      3\n",
       "27      -\n",
       "28      4\n",
       "29      4\n",
       "     ... \n",
       "35      4\n",
       "36      4\n",
       "37    NaN\n",
       "38      n\n",
       "39      3\n",
       "40      n\n",
       "41      1\n",
       "42      3\n",
       "43      1\n",
       "44      2\n",
       "45      3\n",
       "46      -\n",
       "47      4\n",
       "48      1\n",
       "49      0\n",
       "50      4\n",
       "51      3\n",
       "52      3\n",
       "53      4\n",
       "54      n\n",
       "55      -\n",
       "56      3\n",
       "57      -\n",
       "58      2\n",
       "59      3\n",
       "60      2\n",
       "61      n\n",
       "62      n\n",
       "63      2\n",
       "64      3\n",
       "Name: S, Length: 65, dtype: object"
      ]
     },
     "execution_count": 8,
     "metadata": {},
     "output_type": "execute_result"
    }
   ],
   "source": [
    "df.pop(\"S\")"
   ]
  },
  {
   "cell_type": "code",
   "execution_count": 9,
   "metadata": {},
   "outputs": [
    {
     "data": {
      "text/html": [
       "<div>\n",
       "<style scoped>\n",
       "    .dataframe tbody tr th:only-of-type {\n",
       "        vertical-align: middle;\n",
       "    }\n",
       "\n",
       "    .dataframe tbody tr th {\n",
       "        vertical-align: top;\n",
       "    }\n",
       "\n",
       "    .dataframe thead th {\n",
       "        text-align: right;\n",
       "    }\n",
       "</style>\n",
       "<table border=\"1\" class=\"dataframe\">\n",
       "  <thead>\n",
       "    <tr style=\"text-align: right;\">\n",
       "      <th></th>\n",
       "      <th>ORDER</th>\n",
       "      <th>FAMILY</th>\n",
       "      <th>Artname</th>\n",
       "      <th>CH</th>\n",
       "      <th>Bemerkungen</th>\n",
       "    </tr>\n",
       "  </thead>\n",
       "  <tbody>\n",
       "    <tr>\n",
       "      <th>0</th>\n",
       "      <td>HYMENOPTERA (HAUTFLÜGLER)</td>\n",
       "      <td>Formicidae (AMEISEN)</td>\n",
       "      <td>Hypoponera eduardi (Forel)</td>\n",
       "      <td>4.0</td>\n",
       "      <td>NaN</td>\n",
       "    </tr>\n",
       "  </tbody>\n",
       "</table>\n",
       "</div>"
      ],
      "text/plain": [
       "                       ORDER                FAMILY  \\\n",
       "0  HYMENOPTERA (HAUTFLÜGLER)  Formicidae (AMEISEN)   \n",
       "\n",
       "                      Artname   CH Bemerkungen  \n",
       "0  Hypoponera eduardi (Forel)  4.0         NaN  "
      ]
     },
     "execution_count": 9,
     "metadata": {},
     "output_type": "execute_result"
    }
   ],
   "source": [
    "df.head(1)"
   ]
  },
  {
   "cell_type": "code",
   "execution_count": 10,
   "metadata": {},
   "outputs": [],
   "source": [
    "df.rename(columns={\"ORDER\":\"order\", \"FAMILY\":\"family\",\"Artname\": \"sc name\", \"CH\":\"cat ch\", \"Bemerkungen\":\"bemerkungen\"},inplace=True)"
   ]
  },
  {
   "cell_type": "code",
   "execution_count": 11,
   "metadata": {},
   "outputs": [
    {
     "data": {
      "text/html": [
       "<div>\n",
       "<style scoped>\n",
       "    .dataframe tbody tr th:only-of-type {\n",
       "        vertical-align: middle;\n",
       "    }\n",
       "\n",
       "    .dataframe tbody tr th {\n",
       "        vertical-align: top;\n",
       "    }\n",
       "\n",
       "    .dataframe thead th {\n",
       "        text-align: right;\n",
       "    }\n",
       "</style>\n",
       "<table border=\"1\" class=\"dataframe\">\n",
       "  <thead>\n",
       "    <tr style=\"text-align: right;\">\n",
       "      <th></th>\n",
       "      <th>order</th>\n",
       "      <th>family</th>\n",
       "      <th>sc name</th>\n",
       "      <th>cat ch</th>\n",
       "      <th>bemerkungen</th>\n",
       "    </tr>\n",
       "  </thead>\n",
       "  <tbody>\n",
       "    <tr>\n",
       "      <th>0</th>\n",
       "      <td>HYMENOPTERA (HAUTFLÜGLER)</td>\n",
       "      <td>Formicidae (AMEISEN)</td>\n",
       "      <td>Hypoponera eduardi (Forel)</td>\n",
       "      <td>4.0</td>\n",
       "      <td>NaN</td>\n",
       "    </tr>\n",
       "    <tr>\n",
       "      <th>1</th>\n",
       "      <td>HYMENOPTERA (HAUTFLÜGLER)</td>\n",
       "      <td>Formicidae (AMEISEN)</td>\n",
       "      <td>Anergates atratulus (Schenk)</td>\n",
       "      <td>3.0</td>\n",
       "      <td>Wiesen und Weiden</td>\n",
       "    </tr>\n",
       "    <tr>\n",
       "      <th>2</th>\n",
       "      <td>HYMENOPTERA (HAUTFLÜGLER)</td>\n",
       "      <td>Formicidae (AMEISEN)</td>\n",
       "      <td>Aphaenogaster gibbosa (Latreille)</td>\n",
       "      <td>4.0</td>\n",
       "      <td>Strassenränder</td>\n",
       "    </tr>\n",
       "    <tr>\n",
       "      <th>3</th>\n",
       "      <td>HYMENOPTERA (HAUTFLÜGLER)</td>\n",
       "      <td>Formicidae (AMEISEN)</td>\n",
       "      <td>A. italica Santschi</td>\n",
       "      <td>4.0</td>\n",
       "      <td>Strassenränder</td>\n",
       "    </tr>\n",
       "  </tbody>\n",
       "</table>\n",
       "</div>"
      ],
      "text/plain": [
       "                       order                family  \\\n",
       "0  HYMENOPTERA (HAUTFLÜGLER)  Formicidae (AMEISEN)   \n",
       "1  HYMENOPTERA (HAUTFLÜGLER)  Formicidae (AMEISEN)   \n",
       "2  HYMENOPTERA (HAUTFLÜGLER)  Formicidae (AMEISEN)   \n",
       "3  HYMENOPTERA (HAUTFLÜGLER)  Formicidae (AMEISEN)   \n",
       "\n",
       "                             sc name  cat ch        bemerkungen  \n",
       "0         Hypoponera eduardi (Forel)     4.0                NaN  \n",
       "1       Anergates atratulus (Schenk)     3.0  Wiesen und Weiden  \n",
       "2  Aphaenogaster gibbosa (Latreille)     4.0     Strassenränder  \n",
       "3                A. italica Santschi     4.0     Strassenränder  "
      ]
     },
     "execution_count": 11,
     "metadata": {},
     "output_type": "execute_result"
    }
   ],
   "source": [
    "df.head(4)"
   ]
  },
  {
   "cell_type": "code",
   "execution_count": 12,
   "metadata": {},
   "outputs": [],
   "source": [
    "df['einteilung'] = 'Insekten'\n",
    "df['untergruppe'] = 'Ameisen'"
   ]
  },
  {
   "cell_type": "code",
   "execution_count": 13,
   "metadata": {},
   "outputs": [
    {
     "data": {
      "text/html": [
       "<div>\n",
       "<style scoped>\n",
       "    .dataframe tbody tr th:only-of-type {\n",
       "        vertical-align: middle;\n",
       "    }\n",
       "\n",
       "    .dataframe tbody tr th {\n",
       "        vertical-align: top;\n",
       "    }\n",
       "\n",
       "    .dataframe thead th {\n",
       "        text-align: right;\n",
       "    }\n",
       "</style>\n",
       "<table border=\"1\" class=\"dataframe\">\n",
       "  <thead>\n",
       "    <tr style=\"text-align: right;\">\n",
       "      <th></th>\n",
       "      <th>order</th>\n",
       "      <th>family</th>\n",
       "      <th>sc name</th>\n",
       "      <th>cat ch</th>\n",
       "      <th>bemerkungen</th>\n",
       "      <th>einteilung</th>\n",
       "      <th>untergruppe</th>\n",
       "    </tr>\n",
       "  </thead>\n",
       "  <tbody>\n",
       "    <tr>\n",
       "      <th>0</th>\n",
       "      <td>HYMENOPTERA (HAUTFLÜGLER)</td>\n",
       "      <td>Formicidae (AMEISEN)</td>\n",
       "      <td>Hypoponera eduardi (Forel)</td>\n",
       "      <td>4.0</td>\n",
       "      <td>NaN</td>\n",
       "      <td>Insekten</td>\n",
       "      <td>Ameisen</td>\n",
       "    </tr>\n",
       "    <tr>\n",
       "      <th>1</th>\n",
       "      <td>HYMENOPTERA (HAUTFLÜGLER)</td>\n",
       "      <td>Formicidae (AMEISEN)</td>\n",
       "      <td>Anergates atratulus (Schenk)</td>\n",
       "      <td>3.0</td>\n",
       "      <td>Wiesen und Weiden</td>\n",
       "      <td>Insekten</td>\n",
       "      <td>Ameisen</td>\n",
       "    </tr>\n",
       "    <tr>\n",
       "      <th>2</th>\n",
       "      <td>HYMENOPTERA (HAUTFLÜGLER)</td>\n",
       "      <td>Formicidae (AMEISEN)</td>\n",
       "      <td>Aphaenogaster gibbosa (Latreille)</td>\n",
       "      <td>4.0</td>\n",
       "      <td>Strassenränder</td>\n",
       "      <td>Insekten</td>\n",
       "      <td>Ameisen</td>\n",
       "    </tr>\n",
       "    <tr>\n",
       "      <th>3</th>\n",
       "      <td>HYMENOPTERA (HAUTFLÜGLER)</td>\n",
       "      <td>Formicidae (AMEISEN)</td>\n",
       "      <td>A. italica Santschi</td>\n",
       "      <td>4.0</td>\n",
       "      <td>Strassenränder</td>\n",
       "      <td>Insekten</td>\n",
       "      <td>Ameisen</td>\n",
       "    </tr>\n",
       "  </tbody>\n",
       "</table>\n",
       "</div>"
      ],
      "text/plain": [
       "                       order                family  \\\n",
       "0  HYMENOPTERA (HAUTFLÜGLER)  Formicidae (AMEISEN)   \n",
       "1  HYMENOPTERA (HAUTFLÜGLER)  Formicidae (AMEISEN)   \n",
       "2  HYMENOPTERA (HAUTFLÜGLER)  Formicidae (AMEISEN)   \n",
       "3  HYMENOPTERA (HAUTFLÜGLER)  Formicidae (AMEISEN)   \n",
       "\n",
       "                             sc name  cat ch        bemerkungen einteilung  \\\n",
       "0         Hypoponera eduardi (Forel)     4.0                NaN   Insekten   \n",
       "1       Anergates atratulus (Schenk)     3.0  Wiesen und Weiden   Insekten   \n",
       "2  Aphaenogaster gibbosa (Latreille)     4.0     Strassenränder   Insekten   \n",
       "3                A. italica Santschi     4.0     Strassenränder   Insekten   \n",
       "\n",
       "  untergruppe  \n",
       "0     Ameisen  \n",
       "1     Ameisen  \n",
       "2     Ameisen  \n",
       "3     Ameisen  "
      ]
     },
     "execution_count": 13,
     "metadata": {},
     "output_type": "execute_result"
    }
   ],
   "source": [
    "df.head(4)"
   ]
  },
  {
   "cell_type": "code",
   "execution_count": 14,
   "metadata": {},
   "outputs": [
    {
     "data": {
      "text/plain": [
       "3.0    21\n",
       "2.0    17\n",
       "4.0    17\n",
       "1.0     5\n",
       "0.0     3\n",
       "Name: cat ch, dtype: int64"
      ]
     },
     "execution_count": 14,
     "metadata": {},
     "output_type": "execute_result"
    }
   ],
   "source": [
    "df[\"cat ch\"].value_counts()"
   ]
  },
  {
   "cell_type": "code",
   "execution_count": 15,
   "metadata": {},
   "outputs": [
    {
     "data": {
      "image/png": "[encoded data removed]",
      "text/plain": [
       "<Figure size 504x432 with 1 Axes>"
      ]
     },
     "metadata": {},
     "output_type": "display_data"
    }
   ],
   "source": [
    "values = [0, 3, 5, 0, 38, 0, 17, 67, 0]\n",
    "colors = ['r', 'r', 'r', 'r', 'r', 'g', \"g\", \"grey\", \"grey\"]\n",
    "labels = [\n",
    "    'EX: ausgestorben-0', 'RE: CH ausgestorben, ch cat:0',\n",
    "    'CR: v. aussterben bedroht, ch cat:1', 'EN: stark gefährdet,ch cat:1', \n",
    "    'VU: verletzlich, ch cat:2und3',\"NT: potenziell gef. ch cat:4\",\n",
    "    \"LC: nicht gef. ch cat:4\",\"DD: ungen. Daten\",\"NE: nicht beurteilt\"]\n",
    "\n",
    "\n",
    "fig1, ax1 = plt.subplots(figsize=(7, 6))\n",
    "fig1.subplots_adjust(0.3,0,1,1)\n",
    "plt.pie(values, colors=colors, labels= values, counterclock=False,startangle=90)\n",
    "plt.title('Gefährdung Ameisen, 132 Arten,aus pdf')\n",
    "\n",
    "total = sum(values)\n",
    "plt.legend(\n",
    "    loc='upper left',\n",
    "    labels=['%s, %1.1f%%' % (\n",
    "        l, (float(s) / total) * 100) for l, s in zip(labels, values)],\n",
    "    \n",
    "    bbox_to_anchor=(1.0, 0.5),\n",
    "    bbox_transform=fig1.transFigure\n",
    ")\n",
    "plt.show()"
   ]
  },
  {
   "cell_type": "code",
   "execution_count": null,
   "metadata": {},
   "outputs": [],
   "source": []
  }
 ],
 "metadata": {
  "kernelspec": {
   "display_name": "Python 3",
   "language": "python",
   "name": "python3"
  },
  "language_info": {
   "codemirror_mode": {
    "name": "ipython",
    "version": 3
   },
   "file_extension": ".py",
   "mimetype": "text/x-python",
   "name": "python",
   "nbconvert_exporter": "python",
   "pygments_lexer": "ipython3",
   "version": "3.7.0"
  }
 },
 "nbformat": 4,
 "nbformat_minor": 2
}
