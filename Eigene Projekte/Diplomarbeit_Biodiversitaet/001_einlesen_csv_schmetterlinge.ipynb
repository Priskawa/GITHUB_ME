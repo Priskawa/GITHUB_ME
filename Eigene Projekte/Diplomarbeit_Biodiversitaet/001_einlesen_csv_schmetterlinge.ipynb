{
 "cells": [
  {
   "cell_type": "markdown",
   "metadata": {},
   "source": [
    "# MAZ Diplomarbeit - Biodiversität in der Schweiz#"
   ]
  },
  {
   "cell_type": "code",
   "execution_count": null,
   "metadata": {},
   "outputs": [],
   "source": []
  },
  {
   "cell_type": "code",
   "execution_count": 1,
   "metadata": {},
   "outputs": [],
   "source": [
    "import pandas as pd\n",
    "import matplotlib.pyplot as plt\n",
    "%matplotlib inline"
   ]
  },
  {
   "cell_type": "code",
   "execution_count": 2,
   "metadata": {},
   "outputs": [],
   "source": [
    "df = pd.read_csv(\"01_source/xls_ch/schmetterlinge_ch.csv\")"
   ]
  },
  {
   "cell_type": "code",
   "execution_count": 3,
   "metadata": {},
   "outputs": [
    {
     "data": {
      "text/html": [
       "<div>\n",
       "<style scoped>\n",
       "    .dataframe tbody tr th:only-of-type {\n",
       "        vertical-align: middle;\n",
       "    }\n",
       "\n",
       "    .dataframe tbody tr th {\n",
       "        vertical-align: top;\n",
       "    }\n",
       "\n",
       "    .dataframe thead th {\n",
       "        text-align: right;\n",
       "    }\n",
       "</style>\n",
       "<table border=\"1\" class=\"dataframe\">\n",
       "  <thead>\n",
       "    <tr style=\"text-align: right;\">\n",
       "      <th></th>\n",
       "      <th>GROUP</th>\n",
       "      <th>ORDER</th>\n",
       "      <th>FAMILY</th>\n",
       "      <th>GENUS</th>\n",
       "      <th>SPECIES SSP</th>\n",
       "      <th>Scientific name</th>\n",
       "      <th>Deutscher Name</th>\n",
       "      <th>CAT</th>\n",
       "      <th>Criteria</th>\n",
       "      <th>Bemerkungen</th>\n",
       "    </tr>\n",
       "  </thead>\n",
       "  <tbody>\n",
       "    <tr>\n",
       "      <th>0</th>\n",
       "      <td>Insecta</td>\n",
       "      <td>Lepidoptera</td>\n",
       "      <td>Zygaenidae</td>\n",
       "      <td>Adscita</td>\n",
       "      <td>albanica</td>\n",
       "      <td>Adscita albanica (Naufock, 1926)</td>\n",
       "      <td>Storchschnabel-Grünwidderchen</td>\n",
       "      <td>NT</td>\n",
       "      <td>NaN</td>\n",
       "      <td>Nur im Wallis</td>\n",
       "    </tr>\n",
       "    <tr>\n",
       "      <th>1</th>\n",
       "      <td>Insecta</td>\n",
       "      <td>Lepidoptera</td>\n",
       "      <td>Zygaenidae</td>\n",
       "      <td>Adscita</td>\n",
       "      <td>alpina</td>\n",
       "      <td>Adscita alpina (Alberti, 1937)</td>\n",
       "      <td>Alpen-Grünwidderchen</td>\n",
       "      <td>NT</td>\n",
       "      <td>NaN</td>\n",
       "      <td>NaN</td>\n",
       "    </tr>\n",
       "    <tr>\n",
       "      <th>2</th>\n",
       "      <td>Insecta</td>\n",
       "      <td>Lepidoptera</td>\n",
       "      <td>Zygaenidae</td>\n",
       "      <td>Adscita</td>\n",
       "      <td>geryon</td>\n",
       "      <td>Adscita geryon (Hübner, 1813)</td>\n",
       "      <td>Sonnenröschen-Grünwidderchen</td>\n",
       "      <td>NT</td>\n",
       "      <td>NaN</td>\n",
       "      <td>NaN</td>\n",
       "    </tr>\n",
       "    <tr>\n",
       "      <th>3</th>\n",
       "      <td>Insecta</td>\n",
       "      <td>Lepidoptera</td>\n",
       "      <td>Zygaenidae</td>\n",
       "      <td>Adscita</td>\n",
       "      <td>mannii</td>\n",
       "      <td>Adscita mannii (Lederer, 1853)</td>\n",
       "      <td>Manns Grünwidderchen</td>\n",
       "      <td>CR</td>\n",
       "      <td>B2ab (i,ii,iii,iv)</td>\n",
       "      <td>Nur in den Südalpen und im Münstertal GR</td>\n",
       "    </tr>\n",
       "    <tr>\n",
       "      <th>4</th>\n",
       "      <td>Insecta</td>\n",
       "      <td>Lepidoptera</td>\n",
       "      <td>Zygaenidae</td>\n",
       "      <td>Adscita</td>\n",
       "      <td>statices</td>\n",
       "      <td>Adscita statices (Linnaeus, 1758)</td>\n",
       "      <td>Ampfer-Grünwidderchen</td>\n",
       "      <td>NT</td>\n",
       "      <td>NaN</td>\n",
       "      <td>NaN</td>\n",
       "    </tr>\n",
       "  </tbody>\n",
       "</table>\n",
       "</div>"
      ],
      "text/plain": [
       "     GROUP        ORDER      FAMILY    GENUS SPECIES SSP  \\\n",
       "0  Insecta  Lepidoptera  Zygaenidae  Adscita    albanica   \n",
       "1  Insecta  Lepidoptera  Zygaenidae  Adscita      alpina   \n",
       "2  Insecta  Lepidoptera  Zygaenidae  Adscita      geryon   \n",
       "3  Insecta  Lepidoptera  Zygaenidae  Adscita      mannii   \n",
       "4  Insecta  Lepidoptera  Zygaenidae  Adscita    statices   \n",
       "\n",
       "                     Scientific name                 Deutscher Name CAT  \\\n",
       "0   Adscita albanica (Naufock, 1926)  Storchschnabel-Grünwidderchen  NT   \n",
       "1     Adscita alpina (Alberti, 1937)           Alpen-Grünwidderchen  NT   \n",
       "2      Adscita geryon (Hübner, 1813)   Sonnenröschen-Grünwidderchen  NT   \n",
       "3     Adscita mannii (Lederer, 1853)           Manns Grünwidderchen  CR   \n",
       "4  Adscita statices (Linnaeus, 1758)          Ampfer-Grünwidderchen  NT   \n",
       "\n",
       "             Criteria                               Bemerkungen  \n",
       "0                 NaN                             Nur im Wallis  \n",
       "1                 NaN                                       NaN  \n",
       "2                 NaN                                       NaN  \n",
       "3  B2ab (i,ii,iii,iv)  Nur in den Südalpen und im Münstertal GR  \n",
       "4                 NaN                                       NaN  "
      ]
     },
     "execution_count": 3,
     "metadata": {},
     "output_type": "execute_result"
    }
   ],
   "source": [
    "df.head()"
   ]
  },
  {
   "cell_type": "code",
   "execution_count": null,
   "metadata": {},
   "outputs": [],
   "source": []
  },
  {
   "cell_type": "code",
   "execution_count": 4,
   "metadata": {},
   "outputs": [
    {
     "data": {
      "text/plain": [
       "239"
      ]
     },
     "execution_count": 4,
     "metadata": {},
     "output_type": "execute_result"
    }
   ],
   "source": [
    "len (df)"
   ]
  },
  {
   "cell_type": "code",
   "execution_count": 5,
   "metadata": {},
   "outputs": [
    {
     "data": {
      "text/plain": [
       "(239, 10)"
      ]
     },
     "execution_count": 5,
     "metadata": {},
     "output_type": "execute_result"
    }
   ],
   "source": [
    "df.shape"
   ]
  },
  {
   "cell_type": "code",
   "execution_count": 6,
   "metadata": {},
   "outputs": [
    {
     "data": {
      "text/plain": [
       "LC    104\n",
       "NT     44\n",
       "VU     38\n",
       "EN     27\n",
       "CR     10\n",
       "RE      3\n",
       "NE      3\n",
       "Name: CAT, dtype: int64"
      ]
     },
     "execution_count": 6,
     "metadata": {},
     "output_type": "execute_result"
    }
   ],
   "source": [
    "df[\"CAT\"].value_counts()"
   ]
  },
  {
   "cell_type": "code",
   "execution_count": 7,
   "metadata": {},
   "outputs": [
    {
     "data": {
      "text/html": [
       "<div>\n",
       "<style scoped>\n",
       "    .dataframe tbody tr th:only-of-type {\n",
       "        vertical-align: middle;\n",
       "    }\n",
       "\n",
       "    .dataframe tbody tr th {\n",
       "        vertical-align: top;\n",
       "    }\n",
       "\n",
       "    .dataframe thead th {\n",
       "        text-align: right;\n",
       "    }\n",
       "</style>\n",
       "<table border=\"1\" class=\"dataframe\">\n",
       "  <thead>\n",
       "    <tr style=\"text-align: right;\">\n",
       "      <th></th>\n",
       "      <th>GROUP</th>\n",
       "      <th>ORDER</th>\n",
       "      <th>FAMILY</th>\n",
       "      <th>GENUS</th>\n",
       "      <th>SPECIES SSP</th>\n",
       "      <th>Scientific name</th>\n",
       "      <th>Deutscher Name</th>\n",
       "      <th>CAT</th>\n",
       "      <th>Criteria</th>\n",
       "      <th>Bemerkungen</th>\n",
       "    </tr>\n",
       "  </thead>\n",
       "  <tbody>\n",
       "    <tr>\n",
       "      <th>0</th>\n",
       "      <td>Insecta</td>\n",
       "      <td>Lepidoptera</td>\n",
       "      <td>Zygaenidae</td>\n",
       "      <td>Adscita</td>\n",
       "      <td>albanica</td>\n",
       "      <td>Adscita albanica (Naufock, 1926)</td>\n",
       "      <td>Storchschnabel-Grünwidderchen</td>\n",
       "      <td>NT</td>\n",
       "      <td>NaN</td>\n",
       "      <td>Nur im Wallis</td>\n",
       "    </tr>\n",
       "  </tbody>\n",
       "</table>\n",
       "</div>"
      ],
      "text/plain": [
       "     GROUP        ORDER      FAMILY    GENUS SPECIES SSP  \\\n",
       "0  Insecta  Lepidoptera  Zygaenidae  Adscita    albanica   \n",
       "\n",
       "                    Scientific name                 Deutscher Name CAT  \\\n",
       "0  Adscita albanica (Naufock, 1926)  Storchschnabel-Grünwidderchen  NT   \n",
       "\n",
       "  Criteria    Bemerkungen  \n",
       "0      NaN  Nur im Wallis  "
      ]
     },
     "execution_count": 7,
     "metadata": {},
     "output_type": "execute_result"
    }
   ],
   "source": [
    "df.head(1)"
   ]
  },
  {
   "cell_type": "code",
   "execution_count": 8,
   "metadata": {},
   "outputs": [],
   "source": [
    "df.rename(columns={\"GROUP\":\"group\",\"ORDER\":\"order\",\"FAMILY\":\"family\",\"GENUS\":\"genus\",\"SPECIES SSP\":\"species\",\"Scientific name\":\"sc name\",\"Deutscher Name\":\"dt name\",\"CAT\":\"cat\", \"Criteria\": \"criteria\", \"Bemerkungen\":\"bemerkungen\"},inplace=True)"
   ]
  },
  {
   "cell_type": "code",
   "execution_count": 9,
   "metadata": {},
   "outputs": [
    {
     "data": {
      "text/plain": [
       "0          albanica\n",
       "1            alpina\n",
       "2            geryon\n",
       "3            mannii\n",
       "4          statices\n",
       "5           urticae\n",
       "6          infausta\n",
       "7        cardamines\n",
       "8       euphenoides\n",
       "9              ilia\n",
       "10             iris\n",
       "11       hyperantus\n",
       "12         crataegi\n",
       "13           levana\n",
       "14         arethusa\n",
       "15           adippe\n",
       "16           aglaja\n",
       "17            niobe\n",
       "18          pandora\n",
       "19           paphia\n",
       "20          agestis\n",
       "21       artaxerxes\n",
       "22          eumedon\n",
       "23           nicias\n",
       "24      aquilonaris\n",
       "25              dia\n",
       "26       euphrosyne\n",
       "27           napaea\n",
       "28            pales\n",
       "29           selene\n",
       "           ...     \n",
       "209          ilicis\n",
       "210           pruni\n",
       "211           spini\n",
       "212         w-album\n",
       "213          ferula\n",
       "214           orion\n",
       "215       sertorius\n",
       "216         betulae\n",
       "217          acteon\n",
       "218         lineola\n",
       "219      sylvestris\n",
       "220        atalanta\n",
       "221          cardui\n",
       "222        polyxena\n",
       "223       angelicae\n",
       "224      carniolica\n",
       "225       ephialtes\n",
       "226         exulans\n",
       "227          fausta\n",
       "228    filipendulae\n",
       "229       lonicerae\n",
       "230            loti\n",
       "231           minos\n",
       "232      nevadensis\n",
       "233    osterodensis\n",
       "234      purpuralis\n",
       "235           romeo\n",
       "236     transalpina\n",
       "237        trifolii\n",
       "238          viciae\n",
       "Name: species, Length: 239, dtype: object"
      ]
     },
     "execution_count": 9,
     "metadata": {},
     "output_type": "execute_result"
    }
   ],
   "source": [
    "df.pop(\"criteria\")\n",
    "df.pop(\"genus\")\n",
    "df.pop(\"species\")"
   ]
  },
  {
   "cell_type": "code",
   "execution_count": null,
   "metadata": {},
   "outputs": [],
   "source": []
  },
  {
   "cell_type": "code",
   "execution_count": 10,
   "metadata": {},
   "outputs": [],
   "source": [
    "df['einteilung'] = 'Insekten'\n",
    "df['untergruppe'] = 'Schmetterlinge'\n"
   ]
  },
  {
   "cell_type": "code",
   "execution_count": 11,
   "metadata": {},
   "outputs": [
    {
     "data": {
      "text/html": [
       "<div>\n",
       "<style scoped>\n",
       "    .dataframe tbody tr th:only-of-type {\n",
       "        vertical-align: middle;\n",
       "    }\n",
       "\n",
       "    .dataframe tbody tr th {\n",
       "        vertical-align: top;\n",
       "    }\n",
       "\n",
       "    .dataframe thead th {\n",
       "        text-align: right;\n",
       "    }\n",
       "</style>\n",
       "<table border=\"1\" class=\"dataframe\">\n",
       "  <thead>\n",
       "    <tr style=\"text-align: right;\">\n",
       "      <th></th>\n",
       "      <th>group</th>\n",
       "      <th>order</th>\n",
       "      <th>family</th>\n",
       "      <th>sc name</th>\n",
       "      <th>dt name</th>\n",
       "      <th>cat</th>\n",
       "      <th>bemerkungen</th>\n",
       "      <th>einteilung</th>\n",
       "      <th>untergruppe</th>\n",
       "    </tr>\n",
       "  </thead>\n",
       "  <tbody>\n",
       "    <tr>\n",
       "      <th>0</th>\n",
       "      <td>Insecta</td>\n",
       "      <td>Lepidoptera</td>\n",
       "      <td>Zygaenidae</td>\n",
       "      <td>Adscita albanica (Naufock, 1926)</td>\n",
       "      <td>Storchschnabel-Grünwidderchen</td>\n",
       "      <td>NT</td>\n",
       "      <td>Nur im Wallis</td>\n",
       "      <td>Insekten</td>\n",
       "      <td>Schmetterlinge</td>\n",
       "    </tr>\n",
       "    <tr>\n",
       "      <th>1</th>\n",
       "      <td>Insecta</td>\n",
       "      <td>Lepidoptera</td>\n",
       "      <td>Zygaenidae</td>\n",
       "      <td>Adscita alpina (Alberti, 1937)</td>\n",
       "      <td>Alpen-Grünwidderchen</td>\n",
       "      <td>NT</td>\n",
       "      <td>NaN</td>\n",
       "      <td>Insekten</td>\n",
       "      <td>Schmetterlinge</td>\n",
       "    </tr>\n",
       "    <tr>\n",
       "      <th>2</th>\n",
       "      <td>Insecta</td>\n",
       "      <td>Lepidoptera</td>\n",
       "      <td>Zygaenidae</td>\n",
       "      <td>Adscita geryon (Hübner, 1813)</td>\n",
       "      <td>Sonnenröschen-Grünwidderchen</td>\n",
       "      <td>NT</td>\n",
       "      <td>NaN</td>\n",
       "      <td>Insekten</td>\n",
       "      <td>Schmetterlinge</td>\n",
       "    </tr>\n",
       "    <tr>\n",
       "      <th>3</th>\n",
       "      <td>Insecta</td>\n",
       "      <td>Lepidoptera</td>\n",
       "      <td>Zygaenidae</td>\n",
       "      <td>Adscita mannii (Lederer, 1853)</td>\n",
       "      <td>Manns Grünwidderchen</td>\n",
       "      <td>CR</td>\n",
       "      <td>Nur in den Südalpen und im Münstertal GR</td>\n",
       "      <td>Insekten</td>\n",
       "      <td>Schmetterlinge</td>\n",
       "    </tr>\n",
       "    <tr>\n",
       "      <th>4</th>\n",
       "      <td>Insecta</td>\n",
       "      <td>Lepidoptera</td>\n",
       "      <td>Zygaenidae</td>\n",
       "      <td>Adscita statices (Linnaeus, 1758)</td>\n",
       "      <td>Ampfer-Grünwidderchen</td>\n",
       "      <td>NT</td>\n",
       "      <td>NaN</td>\n",
       "      <td>Insekten</td>\n",
       "      <td>Schmetterlinge</td>\n",
       "    </tr>\n",
       "  </tbody>\n",
       "</table>\n",
       "</div>"
      ],
      "text/plain": [
       "     group        order      family                            sc name  \\\n",
       "0  Insecta  Lepidoptera  Zygaenidae   Adscita albanica (Naufock, 1926)   \n",
       "1  Insecta  Lepidoptera  Zygaenidae     Adscita alpina (Alberti, 1937)   \n",
       "2  Insecta  Lepidoptera  Zygaenidae      Adscita geryon (Hübner, 1813)   \n",
       "3  Insecta  Lepidoptera  Zygaenidae     Adscita mannii (Lederer, 1853)   \n",
       "4  Insecta  Lepidoptera  Zygaenidae  Adscita statices (Linnaeus, 1758)   \n",
       "\n",
       "                         dt name cat  \\\n",
       "0  Storchschnabel-Grünwidderchen  NT   \n",
       "1           Alpen-Grünwidderchen  NT   \n",
       "2   Sonnenröschen-Grünwidderchen  NT   \n",
       "3           Manns Grünwidderchen  CR   \n",
       "4          Ampfer-Grünwidderchen  NT   \n",
       "\n",
       "                                bemerkungen einteilung     untergruppe  \n",
       "0                             Nur im Wallis   Insekten  Schmetterlinge  \n",
       "1                                       NaN   Insekten  Schmetterlinge  \n",
       "2                                       NaN   Insekten  Schmetterlinge  \n",
       "3  Nur in den Südalpen und im Münstertal GR   Insekten  Schmetterlinge  \n",
       "4                                       NaN   Insekten  Schmetterlinge  "
      ]
     },
     "execution_count": 11,
     "metadata": {},
     "output_type": "execute_result"
    }
   ],
   "source": [
    "df.head()"
   ]
  },
  {
   "cell_type": "code",
   "execution_count": 12,
   "metadata": {},
   "outputs": [
    {
     "data": {
      "text/plain": [
       "LC    104\n",
       "NT     44\n",
       "VU     38\n",
       "EN     27\n",
       "CR     10\n",
       "RE      3\n",
       "NE      3\n",
       "Name: cat, dtype: int64"
      ]
     },
     "execution_count": 12,
     "metadata": {},
     "output_type": "execute_result"
    }
   ],
   "source": [
    "df[\"cat\"].value_counts()"
   ]
  },
  {
   "cell_type": "code",
   "execution_count": 13,
   "metadata": {},
   "outputs": [
    {
     "data": {
      "image/png": "[encoded data removed]",
      "text/plain": [
       "<Figure size 504x432 with 1 Axes>"
      ]
     },
     "metadata": {},
     "output_type": "display_data"
    }
   ],
   "source": [
    "values = [0, 3, 10, 27, 38, 44, 104, 0, 3]\n",
    "colors = ['r', 'r', 'r', 'r', 'r', 'g', \"g\", \"grey\", \"grey\"]\n",
    "labels = [\n",
    "    'EX: ausgestorben', 'RE: CH ausgestorben',\n",
    "    'CR: v. aussterben bedroht', 'EN: stark gefährdet', \n",
    "    'VU: verletzlich',\"NT: potenziell gef.\",\n",
    "    \"LC: nicht gef.\",\"DD: ungen. Daten\",\"NE: nicht beurteilt\"]\n",
    "\n",
    "\n",
    "fig1, ax1 = plt.subplots(figsize=(7, 6))\n",
    "fig1.subplots_adjust(0.3,0,1,1)\n",
    "plt.pie(values, colors=colors, labels= values, counterclock=False,startangle=90)\n",
    "plt.title('Gefährdung Schmetterlinge, 239 Arten')\n",
    "\n",
    "total = sum(values)\n",
    "plt.legend(\n",
    "    loc='upper left',\n",
    "    labels=['%s, %1.1f%%' % (\n",
    "        l, (float(s) / total) * 100) for l, s in zip(labels, values)],\n",
    "    \n",
    "    bbox_to_anchor=(1.0, 0.5),\n",
    "    bbox_transform=fig1.transFigure\n",
    ")\n",
    "plt.show()"
   ]
  },
  {
   "cell_type": "code",
   "execution_count": null,
   "metadata": {},
   "outputs": [],
   "source": []
  }
 ],
 "metadata": {
  "kernelspec": {
   "display_name": "Python 3",
   "language": "python",
   "name": "python3"
  },
  "language_info": {
   "codemirror_mode": {
    "name": "ipython",
    "version": 3
   },
   "file_extension": ".py",
   "mimetype": "text/x-python",
   "name": "python",
   "nbconvert_exporter": "python",
   "pygments_lexer": "ipython3",
   "version": "3.7.0"
  }
 },
 "nbformat": 4,
 "nbformat_minor": 2
}
