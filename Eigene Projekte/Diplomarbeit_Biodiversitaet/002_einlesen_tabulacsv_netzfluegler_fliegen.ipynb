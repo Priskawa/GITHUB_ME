{
 "cells": [
  {
   "cell_type": "markdown",
   "metadata": {},
   "source": [
    "# MAZ Diplomarbeit - Biodiversität in der Schweiz#"
   ]
  },
  {
   "cell_type": "code",
   "execution_count": null,
   "metadata": {},
   "outputs": [],
   "source": []
  },
  {
   "cell_type": "code",
   "execution_count": 4,
   "metadata": {},
   "outputs": [],
   "source": [
    "import pandas as pd\n",
    "import matplotlib.pyplot as plt\n",
    "%matplotlib inline"
   ]
  },
  {
   "cell_type": "code",
   "execution_count": 5,
   "metadata": {},
   "outputs": [],
   "source": [
    "df = pd.read_csv(\"01_source/tabula_ch/tabula_netzfluegler.csv\")"
   ]
  },
  {
   "cell_type": "code",
   "execution_count": 6,
   "metadata": {},
   "outputs": [
    {
     "data": {
      "text/html": [
       "<div>\n",
       "<style scoped>\n",
       "    .dataframe tbody tr th:only-of-type {\n",
       "        vertical-align: middle;\n",
       "    }\n",
       "\n",
       "    .dataframe tbody tr th {\n",
       "        vertical-align: top;\n",
       "    }\n",
       "\n",
       "    .dataframe thead th {\n",
       "        text-align: right;\n",
       "    }\n",
       "</style>\n",
       "<table border=\"1\" class=\"dataframe\">\n",
       "  <thead>\n",
       "    <tr style=\"text-align: right;\">\n",
       "      <th></th>\n",
       "      <th>ORDER</th>\n",
       "      <th>FAMILY</th>\n",
       "      <th>Artname</th>\n",
       "      <th>N</th>\n",
       "      <th>S</th>\n",
       "      <th>CH</th>\n",
       "      <th>Bemerkungen</th>\n",
       "    </tr>\n",
       "  </thead>\n",
       "  <tbody>\n",
       "    <tr>\n",
       "      <th>0</th>\n",
       "      <td>NEUROPTEROIDEA (NETZFLÜGLER)</td>\n",
       "      <td>MEGALOPTERA (SCHLAMMFLIEGEN)</td>\n",
       "      <td>Sialis nigripes Pictet</td>\n",
       "      <td>3</td>\n",
       "      <td>3.0</td>\n",
       "      <td>3</td>\n",
       "      <td>Ufervegetation</td>\n",
       "    </tr>\n",
       "    <tr>\n",
       "      <th>1</th>\n",
       "      <td>NEUROPTEROIDEA (NETZFLÜGLER)</td>\n",
       "      <td>RAPHlDlOPTERA (KAMELHALSFLIEGEN)</td>\n",
       "      <td>Raphidia aloysiana Costa</td>\n",
       "      <td>-</td>\n",
       "      <td>3.0</td>\n",
       "      <td>3</td>\n",
       "      <td>Föhrenwald VS</td>\n",
       "    </tr>\n",
       "    <tr>\n",
       "      <th>2</th>\n",
       "      <td>NEUROPTEROIDEA (NETZFLÜGLER)</td>\n",
       "      <td>RAPHlDlOPTERA (KAMELHALSFLIEGEN)</td>\n",
       "      <td>R. ligurica Albarda</td>\n",
       "      <td>-</td>\n",
       "      <td>3.0</td>\n",
       "      <td>3</td>\n",
       "      <td>Föhrenwald VS</td>\n",
       "    </tr>\n",
       "    <tr>\n",
       "      <th>3</th>\n",
       "      <td>NEUROPTEROIDEA (NETZFLÜGLER)</td>\n",
       "      <td>RAPHlDlOPTERA (KAMELHALSFLIEGEN)</td>\n",
       "      <td>R. maculicollis Stephens</td>\n",
       "      <td>-</td>\n",
       "      <td>3.0</td>\n",
       "      <td>3</td>\n",
       "      <td>FöhrenwaldVS</td>\n",
       "    </tr>\n",
       "    <tr>\n",
       "      <th>4</th>\n",
       "      <td>NEUROPTEROIDEA (NETZFLÜGLER)</td>\n",
       "      <td>PLANIPENNIA, NETZFLÜGLER)</td>\n",
       "      <td>Aleuropteryx loewii Klapalek</td>\n",
       "      <td>NaN</td>\n",
       "      <td>NaN</td>\n",
       "      <td>4</td>\n",
       "      <td>NaN</td>\n",
       "    </tr>\n",
       "  </tbody>\n",
       "</table>\n",
       "</div>"
      ],
      "text/plain": [
       "                          ORDER                            FAMILY  \\\n",
       "0  NEUROPTEROIDEA (NETZFLÜGLER)      MEGALOPTERA (SCHLAMMFLIEGEN)   \n",
       "1  NEUROPTEROIDEA (NETZFLÜGLER)  RAPHlDlOPTERA (KAMELHALSFLIEGEN)   \n",
       "2  NEUROPTEROIDEA (NETZFLÜGLER)  RAPHlDlOPTERA (KAMELHALSFLIEGEN)   \n",
       "3  NEUROPTEROIDEA (NETZFLÜGLER)  RAPHlDlOPTERA (KAMELHALSFLIEGEN)   \n",
       "4  NEUROPTEROIDEA (NETZFLÜGLER)         PLANIPENNIA, NETZFLÜGLER)   \n",
       "\n",
       "                        Artname    N    S  CH     Bemerkungen  \n",
       "0        Sialis nigripes Pictet    3  3.0   3  Ufervegetation  \n",
       "1      Raphidia aloysiana Costa    -  3.0   3   Föhrenwald VS  \n",
       "2           R. ligurica Albarda    -  3.0   3   Föhrenwald VS  \n",
       "3      R. maculicollis Stephens    -  3.0   3    FöhrenwaldVS  \n",
       "4  Aleuropteryx loewii Klapalek  NaN  NaN   4             NaN  "
      ]
     },
     "execution_count": 6,
     "metadata": {},
     "output_type": "execute_result"
    }
   ],
   "source": [
    "df.head()"
   ]
  },
  {
   "cell_type": "code",
   "execution_count": null,
   "metadata": {},
   "outputs": [],
   "source": []
  },
  {
   "cell_type": "code",
   "execution_count": 7,
   "metadata": {},
   "outputs": [
    {
     "data": {
      "text/plain": [
       "31"
      ]
     },
     "execution_count": 7,
     "metadata": {},
     "output_type": "execute_result"
    }
   ],
   "source": [
    "len (df)"
   ]
  },
  {
   "cell_type": "code",
   "execution_count": 8,
   "metadata": {},
   "outputs": [
    {
     "data": {
      "text/plain": [
       "0       3\n",
       "1       -\n",
       "2       -\n",
       "3       -\n",
       "4     NaN\n",
       "5     NaN\n",
       "6     NaN\n",
       "7     NaN\n",
       "8     NaN\n",
       "9     NaN\n",
       "10    NaN\n",
       "11    NaN\n",
       "12    NaN\n",
       "13    NaN\n",
       "14    NaN\n",
       "15    NaN\n",
       "16    NaN\n",
       "17    NaN\n",
       "18    NaN\n",
       "19    NaN\n",
       "20    NaN\n",
       "21    NaN\n",
       "22    NaN\n",
       "23    NaN\n",
       "24    NaN\n",
       "25    NaN\n",
       "26    NaN\n",
       "27    NaN\n",
       "28    NaN\n",
       "29    NaN\n",
       "30    NaN\n",
       "Name: N, dtype: object"
      ]
     },
     "execution_count": 8,
     "metadata": {},
     "output_type": "execute_result"
    }
   ],
   "source": [
    "df.pop(\"N\")"
   ]
  },
  {
   "cell_type": "code",
   "execution_count": 9,
   "metadata": {},
   "outputs": [
    {
     "data": {
      "text/plain": [
       "0     3.0\n",
       "1     3.0\n",
       "2     3.0\n",
       "3     3.0\n",
       "4     NaN\n",
       "5     NaN\n",
       "6     NaN\n",
       "7     NaN\n",
       "8     NaN\n",
       "9     NaN\n",
       "10    NaN\n",
       "11    NaN\n",
       "12    NaN\n",
       "13    NaN\n",
       "14    NaN\n",
       "15    NaN\n",
       "16    NaN\n",
       "17    NaN\n",
       "18    NaN\n",
       "19    NaN\n",
       "20    NaN\n",
       "21    NaN\n",
       "22    NaN\n",
       "23    NaN\n",
       "24    NaN\n",
       "25    NaN\n",
       "26    NaN\n",
       "27    NaN\n",
       "28    NaN\n",
       "29    NaN\n",
       "30    NaN\n",
       "Name: S, dtype: float64"
      ]
     },
     "execution_count": 9,
     "metadata": {},
     "output_type": "execute_result"
    }
   ],
   "source": [
    "df.pop(\"S\")"
   ]
  },
  {
   "cell_type": "code",
   "execution_count": 10,
   "metadata": {},
   "outputs": [
    {
     "data": {
      "text/html": [
       "<div>\n",
       "<style scoped>\n",
       "    .dataframe tbody tr th:only-of-type {\n",
       "        vertical-align: middle;\n",
       "    }\n",
       "\n",
       "    .dataframe tbody tr th {\n",
       "        vertical-align: top;\n",
       "    }\n",
       "\n",
       "    .dataframe thead th {\n",
       "        text-align: right;\n",
       "    }\n",
       "</style>\n",
       "<table border=\"1\" class=\"dataframe\">\n",
       "  <thead>\n",
       "    <tr style=\"text-align: right;\">\n",
       "      <th></th>\n",
       "      <th>ORDER</th>\n",
       "      <th>FAMILY</th>\n",
       "      <th>Artname</th>\n",
       "      <th>CH</th>\n",
       "      <th>Bemerkungen</th>\n",
       "    </tr>\n",
       "  </thead>\n",
       "  <tbody>\n",
       "    <tr>\n",
       "      <th>0</th>\n",
       "      <td>NEUROPTEROIDEA (NETZFLÜGLER)</td>\n",
       "      <td>MEGALOPTERA (SCHLAMMFLIEGEN)</td>\n",
       "      <td>Sialis nigripes Pictet</td>\n",
       "      <td>3</td>\n",
       "      <td>Ufervegetation</td>\n",
       "    </tr>\n",
       "    <tr>\n",
       "      <th>1</th>\n",
       "      <td>NEUROPTEROIDEA (NETZFLÜGLER)</td>\n",
       "      <td>RAPHlDlOPTERA (KAMELHALSFLIEGEN)</td>\n",
       "      <td>Raphidia aloysiana Costa</td>\n",
       "      <td>3</td>\n",
       "      <td>Föhrenwald VS</td>\n",
       "    </tr>\n",
       "  </tbody>\n",
       "</table>\n",
       "</div>"
      ],
      "text/plain": [
       "                          ORDER                            FAMILY  \\\n",
       "0  NEUROPTEROIDEA (NETZFLÜGLER)      MEGALOPTERA (SCHLAMMFLIEGEN)   \n",
       "1  NEUROPTEROIDEA (NETZFLÜGLER)  RAPHlDlOPTERA (KAMELHALSFLIEGEN)   \n",
       "\n",
       "                    Artname  CH     Bemerkungen  \n",
       "0    Sialis nigripes Pictet   3  Ufervegetation  \n",
       "1  Raphidia aloysiana Costa   3   Föhrenwald VS  "
      ]
     },
     "execution_count": 10,
     "metadata": {},
     "output_type": "execute_result"
    }
   ],
   "source": [
    "df.head(2)"
   ]
  },
  {
   "cell_type": "code",
   "execution_count": 11,
   "metadata": {},
   "outputs": [],
   "source": [
    "df.rename(columns={\"ORDER\": \"order\", \"FAMILY\":\"family\", \"Artname\": \"sc name\",\"CH\":\"ch cat\", \"Bemerkungen\": \"bemerkungen\"},inplace=True)"
   ]
  },
  {
   "cell_type": "code",
   "execution_count": 12,
   "metadata": {},
   "outputs": [
    {
     "data": {
      "text/html": [
       "<div>\n",
       "<style scoped>\n",
       "    .dataframe tbody tr th:only-of-type {\n",
       "        vertical-align: middle;\n",
       "    }\n",
       "\n",
       "    .dataframe tbody tr th {\n",
       "        vertical-align: top;\n",
       "    }\n",
       "\n",
       "    .dataframe thead th {\n",
       "        text-align: right;\n",
       "    }\n",
       "</style>\n",
       "<table border=\"1\" class=\"dataframe\">\n",
       "  <thead>\n",
       "    <tr style=\"text-align: right;\">\n",
       "      <th></th>\n",
       "      <th>order</th>\n",
       "      <th>family</th>\n",
       "      <th>sc name</th>\n",
       "      <th>ch cat</th>\n",
       "      <th>bemerkungen</th>\n",
       "    </tr>\n",
       "  </thead>\n",
       "  <tbody>\n",
       "    <tr>\n",
       "      <th>0</th>\n",
       "      <td>NEUROPTEROIDEA (NETZFLÜGLER)</td>\n",
       "      <td>MEGALOPTERA (SCHLAMMFLIEGEN)</td>\n",
       "      <td>Sialis nigripes Pictet</td>\n",
       "      <td>3</td>\n",
       "      <td>Ufervegetation</td>\n",
       "    </tr>\n",
       "  </tbody>\n",
       "</table>\n",
       "</div>"
      ],
      "text/plain": [
       "                          order                        family  \\\n",
       "0  NEUROPTEROIDEA (NETZFLÜGLER)  MEGALOPTERA (SCHLAMMFLIEGEN)   \n",
       "\n",
       "                  sc name  ch cat     bemerkungen  \n",
       "0  Sialis nigripes Pictet       3  Ufervegetation  "
      ]
     },
     "execution_count": 12,
     "metadata": {},
     "output_type": "execute_result"
    }
   ],
   "source": [
    "df.head(1)"
   ]
  },
  {
   "cell_type": "code",
   "execution_count": 13,
   "metadata": {},
   "outputs": [],
   "source": [
    "df['einteilung'] = 'Insekten'\n",
    "df['untergruppe'] = 'Fliegen'"
   ]
  },
  {
   "cell_type": "code",
   "execution_count": 14,
   "metadata": {},
   "outputs": [
    {
     "data": {
      "text/html": [
       "<div>\n",
       "<style scoped>\n",
       "    .dataframe tbody tr th:only-of-type {\n",
       "        vertical-align: middle;\n",
       "    }\n",
       "\n",
       "    .dataframe tbody tr th {\n",
       "        vertical-align: top;\n",
       "    }\n",
       "\n",
       "    .dataframe thead th {\n",
       "        text-align: right;\n",
       "    }\n",
       "</style>\n",
       "<table border=\"1\" class=\"dataframe\">\n",
       "  <thead>\n",
       "    <tr style=\"text-align: right;\">\n",
       "      <th></th>\n",
       "      <th>order</th>\n",
       "      <th>family</th>\n",
       "      <th>sc name</th>\n",
       "      <th>ch cat</th>\n",
       "      <th>bemerkungen</th>\n",
       "      <th>einteilung</th>\n",
       "      <th>untergruppe</th>\n",
       "    </tr>\n",
       "  </thead>\n",
       "  <tbody>\n",
       "    <tr>\n",
       "      <th>0</th>\n",
       "      <td>NEUROPTEROIDEA (NETZFLÜGLER)</td>\n",
       "      <td>MEGALOPTERA (SCHLAMMFLIEGEN)</td>\n",
       "      <td>Sialis nigripes Pictet</td>\n",
       "      <td>3</td>\n",
       "      <td>Ufervegetation</td>\n",
       "      <td>Insekten</td>\n",
       "      <td>Fliegen</td>\n",
       "    </tr>\n",
       "    <tr>\n",
       "      <th>1</th>\n",
       "      <td>NEUROPTEROIDEA (NETZFLÜGLER)</td>\n",
       "      <td>RAPHlDlOPTERA (KAMELHALSFLIEGEN)</td>\n",
       "      <td>Raphidia aloysiana Costa</td>\n",
       "      <td>3</td>\n",
       "      <td>Föhrenwald VS</td>\n",
       "      <td>Insekten</td>\n",
       "      <td>Fliegen</td>\n",
       "    </tr>\n",
       "    <tr>\n",
       "      <th>2</th>\n",
       "      <td>NEUROPTEROIDEA (NETZFLÜGLER)</td>\n",
       "      <td>RAPHlDlOPTERA (KAMELHALSFLIEGEN)</td>\n",
       "      <td>R. ligurica Albarda</td>\n",
       "      <td>3</td>\n",
       "      <td>Föhrenwald VS</td>\n",
       "      <td>Insekten</td>\n",
       "      <td>Fliegen</td>\n",
       "    </tr>\n",
       "    <tr>\n",
       "      <th>3</th>\n",
       "      <td>NEUROPTEROIDEA (NETZFLÜGLER)</td>\n",
       "      <td>RAPHlDlOPTERA (KAMELHALSFLIEGEN)</td>\n",
       "      <td>R. maculicollis Stephens</td>\n",
       "      <td>3</td>\n",
       "      <td>FöhrenwaldVS</td>\n",
       "      <td>Insekten</td>\n",
       "      <td>Fliegen</td>\n",
       "    </tr>\n",
       "    <tr>\n",
       "      <th>4</th>\n",
       "      <td>NEUROPTEROIDEA (NETZFLÜGLER)</td>\n",
       "      <td>PLANIPENNIA, NETZFLÜGLER)</td>\n",
       "      <td>Aleuropteryx loewii Klapalek</td>\n",
       "      <td>4</td>\n",
       "      <td>NaN</td>\n",
       "      <td>Insekten</td>\n",
       "      <td>Fliegen</td>\n",
       "    </tr>\n",
       "  </tbody>\n",
       "</table>\n",
       "</div>"
      ],
      "text/plain": [
       "                          order                            family  \\\n",
       "0  NEUROPTEROIDEA (NETZFLÜGLER)      MEGALOPTERA (SCHLAMMFLIEGEN)   \n",
       "1  NEUROPTEROIDEA (NETZFLÜGLER)  RAPHlDlOPTERA (KAMELHALSFLIEGEN)   \n",
       "2  NEUROPTEROIDEA (NETZFLÜGLER)  RAPHlDlOPTERA (KAMELHALSFLIEGEN)   \n",
       "3  NEUROPTEROIDEA (NETZFLÜGLER)  RAPHlDlOPTERA (KAMELHALSFLIEGEN)   \n",
       "4  NEUROPTEROIDEA (NETZFLÜGLER)         PLANIPENNIA, NETZFLÜGLER)   \n",
       "\n",
       "                        sc name  ch cat     bemerkungen einteilung untergruppe  \n",
       "0        Sialis nigripes Pictet       3  Ufervegetation   Insekten     Fliegen  \n",
       "1      Raphidia aloysiana Costa       3   Föhrenwald VS   Insekten     Fliegen  \n",
       "2           R. ligurica Albarda       3   Föhrenwald VS   Insekten     Fliegen  \n",
       "3      R. maculicollis Stephens       3    FöhrenwaldVS   Insekten     Fliegen  \n",
       "4  Aleuropteryx loewii Klapalek       4             NaN   Insekten     Fliegen  "
      ]
     },
     "execution_count": 14,
     "metadata": {},
     "output_type": "execute_result"
    }
   ],
   "source": [
    "df.head()"
   ]
  },
  {
   "cell_type": "code",
   "execution_count": null,
   "metadata": {},
   "outputs": [],
   "source": []
  },
  {
   "cell_type": "code",
   "execution_count": 15,
   "metadata": {},
   "outputs": [
    {
     "data": {
      "text/plain": [
       "3    14\n",
       "4    10\n",
       "2     5\n",
       "1     2\n",
       "Name: ch cat, dtype: int64"
      ]
     },
     "execution_count": 15,
     "metadata": {},
     "output_type": "execute_result"
    }
   ],
   "source": [
    "df[\"ch cat\"].value_counts()"
   ]
  },
  {
   "cell_type": "code",
   "execution_count": 16,
   "metadata": {},
   "outputs": [
    {
     "data": {
      "image/png": "[encoded data removed]",
      "text/plain": [
       "<Figure size 504x432 with 1 Axes>"
      ]
     },
     "metadata": {},
     "output_type": "display_data"
    }
   ],
   "source": [
    "values = [0, 0, 2, 0, 19, 0, 10, 85, 0]\n",
    "colors = ['r', 'r', 'r', 'r', 'r', 'g', \"g\", \"grey\", \"grey\"]\n",
    "labels = [\n",
    "    'EX: ausgestorben-0', 'RE: CH ausgestorben, ch cat:0',\n",
    "    'CR: v. aussterben bedroht, ch cat:1', 'EN: stark gefährdet,ch cat:1', \n",
    "    'VU: verletzlich, ch cat:2und3',\"NT: potenziell gef. ch cat:4\",\n",
    "    \"LC: nicht gef. ch cat:4\",\"DD: ungen. Daten\",\"NE: nicht beurteilt\"]\n",
    "\n",
    "\n",
    "fig1, ax1 = plt.subplots(figsize=(7, 6))\n",
    "fig1.subplots_adjust(0.3,0,1,1)\n",
    "plt.pie(values, colors=colors, labels= values, counterclock=False,startangle=90)\n",
    "plt.title('Gefährdung Netzflügler-Fliegen-, 116 Arten,aus pdf')\n",
    "\n",
    "total = sum(values)\n",
    "plt.legend(\n",
    "    loc='upper left',\n",
    "    labels=['%s, %1.1f%%' % (\n",
    "        l, (float(s) / total) * 100) for l, s in zip(labels, values)],\n",
    "    \n",
    "    bbox_to_anchor=(1.0, 0.5),\n",
    "    bbox_transform=fig1.transFigure\n",
    ")\n",
    "plt.show()"
   ]
  },
  {
   "cell_type": "code",
   "execution_count": null,
   "metadata": {},
   "outputs": [],
   "source": []
  }
 ],
 "metadata": {
  "kernelspec": {
   "display_name": "Python 3",
   "language": "python",
   "name": "python3"
  },
  "language_info": {
   "codemirror_mode": {
    "name": "ipython",
    "version": 3
   },
   "file_extension": ".py",
   "mimetype": "text/x-python",
   "name": "python",
   "nbconvert_exporter": "python",
   "pygments_lexer": "ipython3",
   "version": "3.7.0"
  }
 },
 "nbformat": 4,
 "nbformat_minor": 2
}
