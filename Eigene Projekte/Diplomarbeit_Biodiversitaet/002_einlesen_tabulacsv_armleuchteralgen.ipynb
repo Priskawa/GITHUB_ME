{
 "cells": [
  {
   "cell_type": "markdown",
   "metadata": {},
   "source": [
    "# MAZ Diplomarbeit - Biodiversität in der Schweiz#"
   ]
  },
  {
   "cell_type": "code",
   "execution_count": null,
   "metadata": {},
   "outputs": [],
   "source": []
  },
  {
   "cell_type": "code",
   "execution_count": 1,
   "metadata": {},
   "outputs": [],
   "source": [
    "import pandas as pd\n",
    "import matplotlib.pyplot as plt\n",
    "%matplotlib inline"
   ]
  },
  {
   "cell_type": "code",
   "execution_count": 2,
   "metadata": {},
   "outputs": [],
   "source": [
    "df = pd.read_csv(\"01_source/tabula_ch/tabula_armleuchteralgen.csv\")"
   ]
  },
  {
   "cell_type": "code",
   "execution_count": 3,
   "metadata": {},
   "outputs": [
    {
     "data": {
      "text/html": [
       "<div>\n",
       "<style scoped>\n",
       "    .dataframe tbody tr th:only-of-type {\n",
       "        vertical-align: middle;\n",
       "    }\n",
       "\n",
       "    .dataframe tbody tr th {\n",
       "        vertical-align: top;\n",
       "    }\n",
       "\n",
       "    .dataframe thead th {\n",
       "        text-align: right;\n",
       "    }\n",
       "</style>\n",
       "<table border=\"1\" class=\"dataframe\">\n",
       "  <thead>\n",
       "    <tr style=\"text-align: right;\">\n",
       "      <th></th>\n",
       "      <th>Wissenschaftlicher Name</th>\n",
       "      <th>Deutscher Name</th>\n",
       "      <th>Kat.</th>\n",
       "      <th>Kriterien der IUCN</th>\n",
       "      <th>Lebensraumtyp</th>\n",
       "      <th>Wassertiefe (m)</th>\n",
       "      <th>Höhenstufen</th>\n",
       "      <th>Bemerkungen</th>\n",
       "    </tr>\n",
       "  </thead>\n",
       "  <tbody>\n",
       "    <tr>\n",
       "      <th>0</th>\n",
       "      <td>Chara aspera Willd.</td>\n",
       "      <td>Rauhe Armleuchteralge</td>\n",
       "      <td>VU</td>\n",
       "      <td>B1ab(iv), B2ab(iv)</td>\n",
       "      <td>NaN</td>\n",
       "      <td>1,9 (0,1–8)</td>\n",
       "      <td>C – S</td>\n",
       "      <td>NaN</td>\n",
       "    </tr>\n",
       "    <tr>\n",
       "      <th>1</th>\n",
       "      <td>Chara contraria A. Braun</td>\n",
       "      <td>Gegensätzliche Armleuchteralge</td>\n",
       "      <td>LC</td>\n",
       "      <td>B1ab(iv), B2ab(iv)</td>\n",
       "      <td>v. a. Seen</td>\n",
       "      <td>3,6 (0,1–12)</td>\n",
       "      <td>C – A</td>\n",
       "      <td>NaN</td>\n",
       "    </tr>\n",
       "    <tr>\n",
       "      <th>2</th>\n",
       "      <td>Chara delicatula C. Agardh</td>\n",
       "      <td>Feine Armleuchteralge</td>\n",
       "      <td>VU</td>\n",
       "      <td>B1ab(iv), B2ab(iv)</td>\n",
       "      <td>NaN</td>\n",
       "      <td>3,3 (0,1–9)</td>\n",
       "      <td>C – S</td>\n",
       "      <td>NaN</td>\n",
       "    </tr>\n",
       "    <tr>\n",
       "      <th>3</th>\n",
       "      <td>Chara denudata A. Braun</td>\n",
       "      <td>Nackte Armleuchteralge</td>\n",
       "      <td>DD</td>\n",
       "      <td>NaN</td>\n",
       "      <td>Seen</td>\n",
       "      <td>3,5 (0,5–7)</td>\n",
       "      <td>C – S</td>\n",
       "      <td>Unsicherer Status</td>\n",
       "    </tr>\n",
       "    <tr>\n",
       "      <th>4</th>\n",
       "      <td>Chara filiformis Hertzsch</td>\n",
       "      <td>Feine Armleuchteralge</td>\n",
       "      <td>DD</td>\n",
       "      <td>NaN</td>\n",
       "      <td>Seen</td>\n",
       "      <td>3,7 (1–5)</td>\n",
       "      <td>C</td>\n",
       "      <td>Vermutlich häufiger als beobachtet</td>\n",
       "    </tr>\n",
       "  </tbody>\n",
       "</table>\n",
       "</div>"
      ],
      "text/plain": [
       "      Wissenschaftlicher Name                  Deutscher Name Kat.  \\\n",
       "0         Chara aspera Willd.           Rauhe Armleuchteralge   VU   \n",
       "1    Chara contraria A. Braun  Gegensätzliche Armleuchteralge   LC   \n",
       "2  Chara delicatula C. Agardh           Feine Armleuchteralge   VU   \n",
       "3     Chara denudata A. Braun          Nackte Armleuchteralge   DD   \n",
       "4   Chara filiformis Hertzsch           Feine Armleuchteralge   DD   \n",
       "\n",
       "   Kriterien der IUCN Lebensraumtyp Wassertiefe (m) Höhenstufen  \\\n",
       "0  B1ab(iv), B2ab(iv)           NaN     1,9 (0,1–8)       C – S   \n",
       "1  B1ab(iv), B2ab(iv)    v. a. Seen    3,6 (0,1–12)       C – A   \n",
       "2  B1ab(iv), B2ab(iv)           NaN     3,3 (0,1–9)       C – S   \n",
       "3                 NaN          Seen     3,5 (0,5–7)       C – S   \n",
       "4                 NaN          Seen       3,7 (1–5)           C   \n",
       "\n",
       "                          Bemerkungen  \n",
       "0                                 NaN  \n",
       "1                                 NaN  \n",
       "2                                 NaN  \n",
       "3                   Unsicherer Status  \n",
       "4  Vermutlich häufiger als beobachtet  "
      ]
     },
     "execution_count": 3,
     "metadata": {},
     "output_type": "execute_result"
    }
   ],
   "source": [
    "df.head()"
   ]
  },
  {
   "cell_type": "code",
   "execution_count": null,
   "metadata": {},
   "outputs": [],
   "source": []
  },
  {
   "cell_type": "code",
   "execution_count": 4,
   "metadata": {},
   "outputs": [
    {
     "data": {
      "text/plain": [
       "25"
      ]
     },
     "execution_count": 4,
     "metadata": {},
     "output_type": "execute_result"
    }
   ],
   "source": [
    "len (df)"
   ]
  },
  {
   "cell_type": "code",
   "execution_count": 5,
   "metadata": {},
   "outputs": [
    {
     "data": {
      "text/plain": [
       "(25, 8)"
      ]
     },
     "execution_count": 5,
     "metadata": {},
     "output_type": "execute_result"
    }
   ],
   "source": [
    "df.shape"
   ]
  },
  {
   "cell_type": "code",
   "execution_count": 6,
   "metadata": {},
   "outputs": [
    {
     "data": {
      "text/plain": [
       "VU    6\n",
       "EN    6\n",
       "RE    4\n",
       "CR    4\n",
       "LC    2\n",
       "DD    2\n",
       "NT    1\n",
       "Name: Kat., dtype: int64"
      ]
     },
     "execution_count": 6,
     "metadata": {},
     "output_type": "execute_result"
    }
   ],
   "source": [
    "df[\"Kat.\"].value_counts()"
   ]
  },
  {
   "cell_type": "code",
   "execution_count": 7,
   "metadata": {},
   "outputs": [
    {
     "data": {
      "text/plain": [
       "0     B1ab(iv), B2ab(iv)\n",
       "1     B1ab(iv), B2ab(iv)\n",
       "2     B1ab(iv), B2ab(iv)\n",
       "3                    NaN\n",
       "4                    NaN\n",
       "5     B1ab(iv), B2ab(iv)\n",
       "6     B1ab(iv), B2ab(iv)\n",
       "7     B1ab(iv), B2ab(iv)\n",
       "8           B2ab(iv), D2\n",
       "9     B1ab(iv), B2ab(iv)\n",
       "10          B2ab(iv), D2\n",
       "11    B1ab(iv), B2ab(iv)\n",
       "12    B1ab(iv), B2ab(iv)\n",
       "13                   NaN\n",
       "14                   NaN\n",
       "15          B2ab(iv), D2\n",
       "16              B2ab(iv)\n",
       "17                   NaN\n",
       "18          B2ab(iv), D2\n",
       "19    B1ab(iv), B2ab(iv)\n",
       "20              B2ab(iv)\n",
       "21              B2ab(iv)\n",
       "22    B1ab(iv), B2ab(iv)\n",
       "23    B1ab(iv), B2ab(iv)\n",
       "24                   NaN\n",
       "Name: Kriterien der IUCN, dtype: object"
      ]
     },
     "execution_count": 7,
     "metadata": {},
     "output_type": "execute_result"
    }
   ],
   "source": [
    "df.pop(\"Kriterien der IUCN\")"
   ]
  },
  {
   "cell_type": "code",
   "execution_count": 8,
   "metadata": {},
   "outputs": [
    {
     "data": {
      "text/plain": [
       "0       1,9 (0,1–8)\n",
       "1      3,6 (0,1–12)\n",
       "2       3,3 (0,1–9)\n",
       "3       3,5 (0,5–7)\n",
       "4         3,7 (1–5)\n",
       "5      3,3 (0,1–12)\n",
       "6      2,7 (0,1–20)\n",
       "7       1,3 (0,1–4)\n",
       "8      2,75 (0,2–4)\n",
       "9       4,0 (0,1–7)\n",
       "10                -\n",
       "11      4,0 (0,2–6)\n",
       "12     1,3 (0,1–20)\n",
       "13                -\n",
       "14                -\n",
       "15              0,9\n",
       "16    0,5 (0,2–1,0)\n",
       "17                -\n",
       "18     0,5 (0,1–10)\n",
       "19     4,1 (0,1–15)\n",
       "20     2,2 (0,1–10)\n",
       "21                -\n",
       "22     6,8 (0,6–12)\n",
       "23      4,0 (0,2–6)\n",
       "24                -\n",
       "Name: Wassertiefe (m), dtype: object"
      ]
     },
     "execution_count": 8,
     "metadata": {},
     "output_type": "execute_result"
    }
   ],
   "source": [
    "df.pop(\"Wassertiefe (m)\")"
   ]
  },
  {
   "cell_type": "code",
   "execution_count": 9,
   "metadata": {},
   "outputs": [
    {
     "data": {
      "text/plain": [
       "0     C – S\n",
       "1     C – A\n",
       "2     C – S\n",
       "3     C – S\n",
       "4         C\n",
       "5     C – S\n",
       "6     C – S\n",
       "7     C – S\n",
       "8     C – M\n",
       "9     C – S\n",
       "10        S\n",
       "11    C – S\n",
       "12    C – A\n",
       "13        C\n",
       "14        C\n",
       "15    C – S\n",
       "16    C – A\n",
       "17        C\n",
       "18        C\n",
       "19    C – A\n",
       "20    C – S\n",
       "21        C\n",
       "22    C – M\n",
       "23    C – M\n",
       "24        C\n",
       "Name: Höhenstufen, dtype: object"
      ]
     },
     "execution_count": 9,
     "metadata": {},
     "output_type": "execute_result"
    }
   ],
   "source": [
    "df.pop(\"Höhenstufen\")"
   ]
  },
  {
   "cell_type": "code",
   "execution_count": 10,
   "metadata": {},
   "outputs": [
    {
     "data": {
      "text/html": [
       "<div>\n",
       "<style scoped>\n",
       "    .dataframe tbody tr th:only-of-type {\n",
       "        vertical-align: middle;\n",
       "    }\n",
       "\n",
       "    .dataframe tbody tr th {\n",
       "        vertical-align: top;\n",
       "    }\n",
       "\n",
       "    .dataframe thead th {\n",
       "        text-align: right;\n",
       "    }\n",
       "</style>\n",
       "<table border=\"1\" class=\"dataframe\">\n",
       "  <thead>\n",
       "    <tr style=\"text-align: right;\">\n",
       "      <th></th>\n",
       "      <th>Wissenschaftlicher Name</th>\n",
       "      <th>Deutscher Name</th>\n",
       "      <th>Kat.</th>\n",
       "      <th>Lebensraumtyp</th>\n",
       "      <th>Bemerkungen</th>\n",
       "    </tr>\n",
       "  </thead>\n",
       "  <tbody>\n",
       "    <tr>\n",
       "      <th>0</th>\n",
       "      <td>Chara aspera Willd.</td>\n",
       "      <td>Rauhe Armleuchteralge</td>\n",
       "      <td>VU</td>\n",
       "      <td>NaN</td>\n",
       "      <td>NaN</td>\n",
       "    </tr>\n",
       "  </tbody>\n",
       "</table>\n",
       "</div>"
      ],
      "text/plain": [
       "  Wissenschaftlicher Name         Deutscher Name Kat. Lebensraumtyp  \\\n",
       "0     Chara aspera Willd.  Rauhe Armleuchteralge   VU           NaN   \n",
       "\n",
       "  Bemerkungen  \n",
       "0         NaN  "
      ]
     },
     "execution_count": 10,
     "metadata": {},
     "output_type": "execute_result"
    }
   ],
   "source": [
    "df.head(1)"
   ]
  },
  {
   "cell_type": "code",
   "execution_count": 11,
   "metadata": {},
   "outputs": [],
   "source": [
    "df.rename(columns={\"Wissenschaftlicher Name\":\"sc name\",\"Deutscher Name\":\"dt name\",\"Kat.\":\"cat\",\"Lebensraumtyp\":\"lebensraumtyp\", \"Bemerkungen\":\"bemerkungen\"},inplace=True)"
   ]
  },
  {
   "cell_type": "code",
   "execution_count": 12,
   "metadata": {},
   "outputs": [
    {
     "data": {
      "text/html": [
       "<div>\n",
       "<style scoped>\n",
       "    .dataframe tbody tr th:only-of-type {\n",
       "        vertical-align: middle;\n",
       "    }\n",
       "\n",
       "    .dataframe tbody tr th {\n",
       "        vertical-align: top;\n",
       "    }\n",
       "\n",
       "    .dataframe thead th {\n",
       "        text-align: right;\n",
       "    }\n",
       "</style>\n",
       "<table border=\"1\" class=\"dataframe\">\n",
       "  <thead>\n",
       "    <tr style=\"text-align: right;\">\n",
       "      <th></th>\n",
       "      <th>sc name</th>\n",
       "      <th>dt name</th>\n",
       "      <th>cat</th>\n",
       "      <th>lebensraumtyp</th>\n",
       "      <th>bemerkungen</th>\n",
       "    </tr>\n",
       "  </thead>\n",
       "  <tbody>\n",
       "    <tr>\n",
       "      <th>0</th>\n",
       "      <td>Chara aspera Willd.</td>\n",
       "      <td>Rauhe Armleuchteralge</td>\n",
       "      <td>VU</td>\n",
       "      <td>NaN</td>\n",
       "      <td>NaN</td>\n",
       "    </tr>\n",
       "  </tbody>\n",
       "</table>\n",
       "</div>"
      ],
      "text/plain": [
       "               sc name                dt name cat lebensraumtyp bemerkungen\n",
       "0  Chara aspera Willd.  Rauhe Armleuchteralge  VU           NaN         NaN"
      ]
     },
     "execution_count": 12,
     "metadata": {},
     "output_type": "execute_result"
    }
   ],
   "source": [
    "df.head(1)"
   ]
  },
  {
   "cell_type": "code",
   "execution_count": 13,
   "metadata": {},
   "outputs": [],
   "source": [
    "df['einteilung'] = 'Pflanzen'\n",
    "df['untergruppe'] = 'Wasserpflanzen'"
   ]
  },
  {
   "cell_type": "code",
   "execution_count": 14,
   "metadata": {},
   "outputs": [
    {
     "data": {
      "text/html": [
       "<div>\n",
       "<style scoped>\n",
       "    .dataframe tbody tr th:only-of-type {\n",
       "        vertical-align: middle;\n",
       "    }\n",
       "\n",
       "    .dataframe tbody tr th {\n",
       "        vertical-align: top;\n",
       "    }\n",
       "\n",
       "    .dataframe thead th {\n",
       "        text-align: right;\n",
       "    }\n",
       "</style>\n",
       "<table border=\"1\" class=\"dataframe\">\n",
       "  <thead>\n",
       "    <tr style=\"text-align: right;\">\n",
       "      <th></th>\n",
       "      <th>sc name</th>\n",
       "      <th>dt name</th>\n",
       "      <th>cat</th>\n",
       "      <th>lebensraumtyp</th>\n",
       "      <th>bemerkungen</th>\n",
       "      <th>einteilung</th>\n",
       "      <th>untergruppe</th>\n",
       "    </tr>\n",
       "  </thead>\n",
       "  <tbody>\n",
       "    <tr>\n",
       "      <th>0</th>\n",
       "      <td>Chara aspera Willd.</td>\n",
       "      <td>Rauhe Armleuchteralge</td>\n",
       "      <td>VU</td>\n",
       "      <td>NaN</td>\n",
       "      <td>NaN</td>\n",
       "      <td>Pflanzen</td>\n",
       "      <td>Wasserpflanzen</td>\n",
       "    </tr>\n",
       "  </tbody>\n",
       "</table>\n",
       "</div>"
      ],
      "text/plain": [
       "               sc name                dt name cat lebensraumtyp bemerkungen  \\\n",
       "0  Chara aspera Willd.  Rauhe Armleuchteralge  VU           NaN         NaN   \n",
       "\n",
       "  einteilung     untergruppe  \n",
       "0   Pflanzen  Wasserpflanzen  "
      ]
     },
     "execution_count": 14,
     "metadata": {},
     "output_type": "execute_result"
    }
   ],
   "source": [
    "df.head(1)"
   ]
  },
  {
   "cell_type": "code",
   "execution_count": 15,
   "metadata": {},
   "outputs": [
    {
     "data": {
      "text/plain": [
       "VU    6\n",
       "EN    6\n",
       "RE    4\n",
       "CR    4\n",
       "LC    2\n",
       "DD    2\n",
       "NT    1\n",
       "Name: cat, dtype: int64"
      ]
     },
     "execution_count": 15,
     "metadata": {},
     "output_type": "execute_result"
    }
   ],
   "source": [
    "df[\"cat\"].value_counts()"
   ]
  },
  {
   "cell_type": "code",
   "execution_count": 16,
   "metadata": {},
   "outputs": [
    {
     "data": {
      "image/png": "[encoded data removed]",
      "text/plain": [
       "<Figure size 504x432 with 1 Axes>"
      ]
     },
     "metadata": {},
     "output_type": "display_data"
    }
   ],
   "source": [
    "values = [0, 4, 4, 6, 6, 1, 2, 2, 0]\n",
    "colors = ['r', 'r', 'r', 'r', 'r', 'g', \"g\", \"grey\", \"grey\"]\n",
    "labels = [\n",
    "    'EX: ausgestorben', 'RE: CH ausgestorben',\n",
    "    'CR: v. aussterben bedroht', 'EN: stark gefährdet', \n",
    "    'VU: verletzlich',\"NT: potenziell gef.\",\n",
    "    \"LC: nicht gef.\",\"DD: ungen. Daten\",\"NE: nicht beurteilt\"]\n",
    "\n",
    "\n",
    "fig1, ax1 = plt.subplots(figsize=(7, 6))\n",
    "fig1.subplots_adjust(0.3,0,1,1)\n",
    "plt.pie(values, colors=colors, labels= values, counterclock=False,startangle=90)\n",
    "plt.title('Gefährdung Armleuchteralgen, 25 Arten')\n",
    "\n",
    "total = sum(values)\n",
    "plt.legend(\n",
    "    loc='upper left',\n",
    "    labels=['%s, %1.1f%%' % (\n",
    "        l, (float(s) / total) * 100) for l, s in zip(labels, values)],\n",
    "    \n",
    "    bbox_to_anchor=(1.0, 0.5),\n",
    "    bbox_transform=fig1.transFigure\n",
    ")\n",
    "plt.show()"
   ]
  },
  {
   "cell_type": "code",
   "execution_count": 17,
   "metadata": {},
   "outputs": [
    {
     "data": {
      "image/png": "[encoded data removed]",
      "text/plain": [
       "<Figure size 504x432 with 1 Axes>"
      ]
     },
     "metadata": {},
     "output_type": "display_data"
    }
   ],
   "source": [
    "values = [0, 4, 4, 6, 6, 1, 2, 0, 0]\n",
    "colors = ['r', 'r', 'r', 'r', 'r', 'g', \"g\", \"grey\", \"grey\"]\n",
    "labels = [\n",
    "    'EX: ausgestorben', 'RE: CH ausgestorben',\n",
    "    'CR: v. aussterben bedroht', 'EN: stark gefährdet', \n",
    "    'VU: verletzlich',\"NT: potenziell gef.\",\n",
    "    \"LC: nicht gef.\",\"DD: ungen. Daten\",\"NE: nicht beurteilt\"]\n",
    "\n",
    "\n",
    "fig1, ax1 = plt.subplots(figsize=(7, 6))\n",
    "fig1.subplots_adjust(0.3,0,1,1)\n",
    "plt.pie(values, colors=colors, labels= values, counterclock=False,startangle=90)\n",
    "plt.title('Gefährdung Armleuchteralgen, 23 dokumentierte Arten')\n",
    "\n",
    "total = sum(values)\n",
    "plt.legend(\n",
    "    loc='upper left',\n",
    "    labels=['%s, %1.1f%%' % (\n",
    "        l, (float(s) / total) * 100) for l, s in zip(labels, values)],\n",
    "    \n",
    "    bbox_to_anchor=(1.0, 0.5),\n",
    "    bbox_transform=fig1.transFigure\n",
    ")\n",
    "plt.show()"
   ]
  },
  {
   "cell_type": "code",
   "execution_count": null,
   "metadata": {},
   "outputs": [],
   "source": []
  }
 ],
 "metadata": {
  "kernelspec": {
   "display_name": "Python 3",
   "language": "python",
   "name": "python3"
  },
  "language_info": {
   "codemirror_mode": {
    "name": "ipython",
    "version": 3
   },
   "file_extension": ".py",
   "mimetype": "text/x-python",
   "name": "python",
   "nbconvert_exporter": "python",
   "pygments_lexer": "ipython3",
   "version": "3.7.0"
  }
 },
 "nbformat": 4,
 "nbformat_minor": 2
}
