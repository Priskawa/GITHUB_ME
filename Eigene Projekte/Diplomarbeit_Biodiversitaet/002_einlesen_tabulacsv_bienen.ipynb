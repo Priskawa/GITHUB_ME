{
 "cells": [
  {
   "cell_type": "markdown",
   "metadata": {},
   "source": [
    "# MAZ Diplomarbeit - Biodiversität in der Schweiz#"
   ]
  },
  {
   "cell_type": "code",
   "execution_count": null,
   "metadata": {},
   "outputs": [],
   "source": []
  },
  {
   "cell_type": "code",
   "execution_count": 2,
   "metadata": {},
   "outputs": [],
   "source": [
    "import pandas as pd\n",
    "import matplotlib.pyplot as plt\n",
    "%matplotlib inline"
   ]
  },
  {
   "cell_type": "code",
   "execution_count": 3,
   "metadata": {},
   "outputs": [],
   "source": [
    "df = pd.read_csv(\"01_source/tabula_ch/tabula_bienen.csv\")"
   ]
  },
  {
   "cell_type": "code",
   "execution_count": 4,
   "metadata": {},
   "outputs": [
    {
     "data": {
      "text/html": [
       "<div>\n",
       "<style scoped>\n",
       "    .dataframe tbody tr th:only-of-type {\n",
       "        vertical-align: middle;\n",
       "    }\n",
       "\n",
       "    .dataframe tbody tr th {\n",
       "        vertical-align: top;\n",
       "    }\n",
       "\n",
       "    .dataframe thead th {\n",
       "        text-align: right;\n",
       "    }\n",
       "</style>\n",
       "<table border=\"1\" class=\"dataframe\">\n",
       "  <thead>\n",
       "    <tr style=\"text-align: right;\">\n",
       "      <th></th>\n",
       "      <th>ORDER</th>\n",
       "      <th>FAMILY</th>\n",
       "      <th>Artname</th>\n",
       "      <th>N</th>\n",
       "      <th>S</th>\n",
       "      <th>CH</th>\n",
       "      <th>Bemerkungen</th>\n",
       "    </tr>\n",
       "  </thead>\n",
       "  <tbody>\n",
       "    <tr>\n",
       "      <th>0</th>\n",
       "      <td>HYMENQPTERA (HAUTFLÜGLER)</td>\n",
       "      <td>apoidea (Bienen)</td>\n",
       "      <td>Colletes carinatus gallicus RAD.</td>\n",
       "      <td>-</td>\n",
       "      <td>0</td>\n",
       "      <td>0.0</td>\n",
       "      <td>NaN</td>\n",
       "    </tr>\n",
       "    <tr>\n",
       "      <th>1</th>\n",
       "      <td>HYMENQPTERA (HAUTFLÜGLER)</td>\n",
       "      <td>apoidea (Bienen)</td>\n",
       "      <td>C. collaris DOURS.</td>\n",
       "      <td>0</td>\n",
       "      <td>-</td>\n",
       "      <td>0.0</td>\n",
       "      <td>NaN</td>\n",
       "    </tr>\n",
       "    <tr>\n",
       "      <th>2</th>\n",
       "      <td>HYMENQPTERA (HAUTFLÜGLER)</td>\n",
       "      <td>apoidea (Bienen)</td>\n",
       "      <td>C. cunicularius (L.)</td>\n",
       "      <td>2</td>\n",
       "      <td>2</td>\n",
       "      <td>2.0</td>\n",
       "      <td>Sandbewohner, auf Salix</td>\n",
       "    </tr>\n",
       "    <tr>\n",
       "      <th>3</th>\n",
       "      <td>HYMENQPTERA (HAUTFLÜGLER)</td>\n",
       "      <td>apoidea (Bienen)</td>\n",
       "      <td>C. dimidiatus GIST.</td>\n",
       "      <td>-</td>\n",
       "      <td>3</td>\n",
       "      <td>3.0</td>\n",
       "      <td>NaN</td>\n",
       "    </tr>\n",
       "    <tr>\n",
       "      <th>4</th>\n",
       "      <td>HYMENQPTERA (HAUTFLÜGLER)</td>\n",
       "      <td>apoidea (Bienen)</td>\n",
       "      <td>C. floralis EV.</td>\n",
       "      <td>-</td>\n",
       "      <td>4</td>\n",
       "      <td>4.0</td>\n",
       "      <td>NaN</td>\n",
       "    </tr>\n",
       "  </tbody>\n",
       "</table>\n",
       "</div>"
      ],
      "text/plain": [
       "                       ORDER            FAMILY  \\\n",
       "0  HYMENQPTERA (HAUTFLÜGLER)  apoidea (Bienen)   \n",
       "1  HYMENQPTERA (HAUTFLÜGLER)  apoidea (Bienen)   \n",
       "2  HYMENQPTERA (HAUTFLÜGLER)  apoidea (Bienen)   \n",
       "3  HYMENQPTERA (HAUTFLÜGLER)  apoidea (Bienen)   \n",
       "4  HYMENQPTERA (HAUTFLÜGLER)  apoidea (Bienen)   \n",
       "\n",
       "                            Artname  N  S   CH              Bemerkungen  \n",
       "0  Colletes carinatus gallicus RAD.  -  0  0.0                      NaN  \n",
       "1                C. collaris DOURS.  0  -  0.0                      NaN  \n",
       "2              C. cunicularius (L.)  2  2  2.0  Sandbewohner, auf Salix  \n",
       "3               C. dimidiatus GIST.  -  3  3.0                      NaN  \n",
       "4                   C. floralis EV.  -  4  4.0                      NaN  "
      ]
     },
     "execution_count": 4,
     "metadata": {},
     "output_type": "execute_result"
    }
   ],
   "source": [
    "df.head()"
   ]
  },
  {
   "cell_type": "code",
   "execution_count": null,
   "metadata": {},
   "outputs": [],
   "source": []
  },
  {
   "cell_type": "code",
   "execution_count": 5,
   "metadata": {},
   "outputs": [
    {
     "data": {
      "text/plain": [
       "301"
      ]
     },
     "execution_count": 5,
     "metadata": {},
     "output_type": "execute_result"
    }
   ],
   "source": [
    "len (df)"
   ]
  },
  {
   "cell_type": "code",
   "execution_count": 6,
   "metadata": {},
   "outputs": [
    {
     "data": {
      "text/plain": [
       "(301, 7)"
      ]
     },
     "execution_count": 6,
     "metadata": {},
     "output_type": "execute_result"
    }
   ],
   "source": [
    "df.shape"
   ]
  },
  {
   "cell_type": "code",
   "execution_count": 7,
   "metadata": {},
   "outputs": [
    {
     "data": {
      "text/plain": [
       "3.0    125\n",
       "0.0     67\n",
       "2.0     42\n",
       "4.0     37\n",
       "1.0     25\n",
       "Name: CH, dtype: int64"
      ]
     },
     "execution_count": 7,
     "metadata": {},
     "output_type": "execute_result"
    }
   ],
   "source": [
    "df[\"CH\"].value_counts()"
   ]
  },
  {
   "cell_type": "code",
   "execution_count": 8,
   "metadata": {},
   "outputs": [
    {
     "data": {
      "text/plain": [
       "0        -\n",
       "1        0\n",
       "2        2\n",
       "3        -\n",
       "4        -\n",
       "5        0\n",
       "6        -\n",
       "7        -\n",
       "8        -\n",
       "9        2\n",
       "10       -\n",
       "11       0\n",
       "12       4\n",
       "13       4\n",
       "14       3\n",
       "15       -\n",
       "16       3\n",
       "17       0\n",
       "18       -\n",
       "19       4\n",
       "20       -\n",
       "21       3\n",
       "22       2\n",
       "23       3\n",
       "24       3\n",
       "25       3\n",
       "26       0\n",
       "27     NaN\n",
       "28       -\n",
       "29       2\n",
       "      ... \n",
       "271      0\n",
       "272      0\n",
       "273      0\n",
       "274      -\n",
       "275      0\n",
       "276      -\n",
       "277      -\n",
       "278      -\n",
       "279      -\n",
       "280      0\n",
       "281      -\n",
       "282      -\n",
       "283    NaN\n",
       "284    NaN\n",
       "285    NaN\n",
       "286    NaN\n",
       "287    NaN\n",
       "288    NaN\n",
       "289    NaN\n",
       "290      -\n",
       "291      0\n",
       "292      0\n",
       "293      3\n",
       "294      2\n",
       "295      4\n",
       "296      2\n",
       "297      2\n",
       "298      2\n",
       "299      3\n",
       "300      3\n",
       "Name: N, Length: 301, dtype: object"
      ]
     },
     "execution_count": 8,
     "metadata": {},
     "output_type": "execute_result"
    }
   ],
   "source": [
    "df.pop(\"N\")"
   ]
  },
  {
   "cell_type": "code",
   "execution_count": 9,
   "metadata": {},
   "outputs": [
    {
     "data": {
      "text/plain": [
       "0        0\n",
       "1        -\n",
       "2        2\n",
       "3        3\n",
       "4        4\n",
       "5        3\n",
       "6        0\n",
       "7        3\n",
       "8        4\n",
       "9        3\n",
       "10       2\n",
       "11       0\n",
       "12       4\n",
       "13       -\n",
       "14       n\n",
       "15       4\n",
       "16       n\n",
       "17       -\n",
       "18       0\n",
       "19       4\n",
       "20       4\n",
       "21       3\n",
       "22       2\n",
       "23       3\n",
       "24       n\n",
       "25       -\n",
       "26       3\n",
       "27     NaN\n",
       "28       1\n",
       "29       2\n",
       "      ... \n",
       "271      n\n",
       "272      3\n",
       "273      1\n",
       "274      1\n",
       "275      3\n",
       "276      2\n",
       "277      0\n",
       "278      3\n",
       "279      1\n",
       "280      0\n",
       "281      3\n",
       "282      0\n",
       "283    NaN\n",
       "284    NaN\n",
       "285    NaN\n",
       "286    NaN\n",
       "287    NaN\n",
       "288    NaN\n",
       "289    NaN\n",
       "290      3\n",
       "291      0\n",
       "292      -\n",
       "293      n\n",
       "294      n\n",
       "295      4\n",
       "296      -\n",
       "297      -\n",
       "298      2\n",
       "299      n\n",
       "300      -\n",
       "Name: S, Length: 301, dtype: object"
      ]
     },
     "execution_count": 9,
     "metadata": {},
     "output_type": "execute_result"
    }
   ],
   "source": [
    "df.pop(\"S\")"
   ]
  },
  {
   "cell_type": "code",
   "execution_count": 10,
   "metadata": {},
   "outputs": [],
   "source": [
    "df.rename(columns={\"ORDER\": \"order\", \"FAMILY\":\"family\", \"Artname\": \"sc name\",\"CH\":\"cat ch\", \"Bemerkungen\": \"bemerkungen\"},inplace=True)"
   ]
  },
  {
   "cell_type": "code",
   "execution_count": 11,
   "metadata": {},
   "outputs": [
    {
     "data": {
      "text/html": [
       "<div>\n",
       "<style scoped>\n",
       "    .dataframe tbody tr th:only-of-type {\n",
       "        vertical-align: middle;\n",
       "    }\n",
       "\n",
       "    .dataframe tbody tr th {\n",
       "        vertical-align: top;\n",
       "    }\n",
       "\n",
       "    .dataframe thead th {\n",
       "        text-align: right;\n",
       "    }\n",
       "</style>\n",
       "<table border=\"1\" class=\"dataframe\">\n",
       "  <thead>\n",
       "    <tr style=\"text-align: right;\">\n",
       "      <th></th>\n",
       "      <th>order</th>\n",
       "      <th>family</th>\n",
       "      <th>sc name</th>\n",
       "      <th>cat ch</th>\n",
       "      <th>bemerkungen</th>\n",
       "    </tr>\n",
       "  </thead>\n",
       "  <tbody>\n",
       "    <tr>\n",
       "      <th>0</th>\n",
       "      <td>HYMENQPTERA (HAUTFLÜGLER)</td>\n",
       "      <td>apoidea (Bienen)</td>\n",
       "      <td>Colletes carinatus gallicus RAD.</td>\n",
       "      <td>0.0</td>\n",
       "      <td>NaN</td>\n",
       "    </tr>\n",
       "  </tbody>\n",
       "</table>\n",
       "</div>"
      ],
      "text/plain": [
       "                       order            family  \\\n",
       "0  HYMENQPTERA (HAUTFLÜGLER)  apoidea (Bienen)   \n",
       "\n",
       "                            sc name  cat ch bemerkungen  \n",
       "0  Colletes carinatus gallicus RAD.     0.0         NaN  "
      ]
     },
     "execution_count": 11,
     "metadata": {},
     "output_type": "execute_result"
    }
   ],
   "source": [
    "df.head(1)"
   ]
  },
  {
   "cell_type": "code",
   "execution_count": 12,
   "metadata": {},
   "outputs": [],
   "source": [
    "df['einteilung'] = 'Insekten'\n",
    "df['untergruppe'] = 'Bienen'"
   ]
  },
  {
   "cell_type": "code",
   "execution_count": 13,
   "metadata": {},
   "outputs": [
    {
     "data": {
      "text/html": [
       "<div>\n",
       "<style scoped>\n",
       "    .dataframe tbody tr th:only-of-type {\n",
       "        vertical-align: middle;\n",
       "    }\n",
       "\n",
       "    .dataframe tbody tr th {\n",
       "        vertical-align: top;\n",
       "    }\n",
       "\n",
       "    .dataframe thead th {\n",
       "        text-align: right;\n",
       "    }\n",
       "</style>\n",
       "<table border=\"1\" class=\"dataframe\">\n",
       "  <thead>\n",
       "    <tr style=\"text-align: right;\">\n",
       "      <th></th>\n",
       "      <th>order</th>\n",
       "      <th>family</th>\n",
       "      <th>sc name</th>\n",
       "      <th>cat ch</th>\n",
       "      <th>bemerkungen</th>\n",
       "      <th>einteilung</th>\n",
       "      <th>untergruppe</th>\n",
       "    </tr>\n",
       "  </thead>\n",
       "  <tbody>\n",
       "    <tr>\n",
       "      <th>0</th>\n",
       "      <td>HYMENQPTERA (HAUTFLÜGLER)</td>\n",
       "      <td>apoidea (Bienen)</td>\n",
       "      <td>Colletes carinatus gallicus RAD.</td>\n",
       "      <td>0.0</td>\n",
       "      <td>NaN</td>\n",
       "      <td>Insekten</td>\n",
       "      <td>Bienen</td>\n",
       "    </tr>\n",
       "  </tbody>\n",
       "</table>\n",
       "</div>"
      ],
      "text/plain": [
       "                       order            family  \\\n",
       "0  HYMENQPTERA (HAUTFLÜGLER)  apoidea (Bienen)   \n",
       "\n",
       "                            sc name  cat ch bemerkungen einteilung untergruppe  \n",
       "0  Colletes carinatus gallicus RAD.     0.0         NaN   Insekten      Bienen  "
      ]
     },
     "execution_count": 13,
     "metadata": {},
     "output_type": "execute_result"
    }
   ],
   "source": [
    "df.head(1)"
   ]
  },
  {
   "cell_type": "code",
   "execution_count": 14,
   "metadata": {},
   "outputs": [
    {
     "data": {
      "text/plain": [
       "3.0    125\n",
       "0.0     67\n",
       "2.0     42\n",
       "4.0     37\n",
       "1.0     25\n",
       "Name: cat ch, dtype: int64"
      ]
     },
     "execution_count": 14,
     "metadata": {},
     "output_type": "execute_result"
    }
   ],
   "source": [
    "df[\"cat ch\"].value_counts()"
   ]
  },
  {
   "cell_type": "code",
   "execution_count": 16,
   "metadata": {},
   "outputs": [
    {
     "data": {
      "image/png": "[encoded data removed]",
      "text/plain": [
       "<Figure size 504x432 with 1 Axes>"
      ]
     },
     "metadata": {},
     "output_type": "display_data"
    }
   ],
   "source": [
    "values = [0, 67, 25, 0, 167, 0, 37, 274, 0]\n",
    "colors = ['r', 'r', 'r', 'r', 'r', 'g', \"g\", \"grey\", \"grey\"]\n",
    "labels = [\n",
    "    'EX: ausgestorben-0', 'RE: CH ausgestorben, ch cat:0',\n",
    "    'CR: v. aussterben bedroht, ch cat:1', 'EN: stark gefährdet,ch cat:1', \n",
    "    'VU: verletzlich, ch cat:2und3',\"NT: potenziell gef. ch cat:4\",\n",
    "    \"LC: nicht gef. ch cat:4\",\"DD: ungen. Daten\",\"NE: nicht beurteilt\"]\n",
    "\n",
    "\n",
    "fig1, ax1 = plt.subplots(figsize=(7, 6))\n",
    "fig1.subplots_adjust(0.3,0,1,1)\n",
    "plt.pie(values, colors=colors, labels= values, counterclock=False,startangle=90)\n",
    "plt.title('Gefährdung Bienen, 575 Arten, provisorischer Charakter')\n",
    "\n",
    "total = sum(values)\n",
    "plt.legend(\n",
    "    loc='upper left',\n",
    "    labels=['%s, %1.1f%%' % (\n",
    "        l, (float(s) / total) * 100) for l, s in zip(labels, values)],\n",
    "    \n",
    "    bbox_to_anchor=(1.0, 0.5),\n",
    "    bbox_transform=fig1.transFigure\n",
    ")\n",
    "plt.show()"
   ]
  },
  {
   "cell_type": "code",
   "execution_count": null,
   "metadata": {},
   "outputs": [],
   "source": []
  }
 ],
 "metadata": {
  "kernelspec": {
   "display_name": "Python 3",
   "language": "python",
   "name": "python3"
  },
  "language_info": {
   "codemirror_mode": {
    "name": "ipython",
    "version": 3
   },
   "file_extension": ".py",
   "mimetype": "text/x-python",
   "name": "python",
   "nbconvert_exporter": "python",
   "pygments_lexer": "ipython3",
   "version": "3.7.0"
  }
 },
 "nbformat": 4,
 "nbformat_minor": 2
}
