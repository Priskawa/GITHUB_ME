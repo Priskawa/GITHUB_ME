{
 "cells": [
  {
   "cell_type": "markdown",
   "metadata": {},
   "source": [
    "# MAZ Diplomarbeit - Biodiversität in der Schweiz#"
   ]
  },
  {
   "cell_type": "code",
   "execution_count": null,
   "metadata": {},
   "outputs": [],
   "source": []
  },
  {
   "cell_type": "code",
   "execution_count": 6,
   "metadata": {},
   "outputs": [],
   "source": [
    "import pandas as pd\n",
    "import matplotlib.pyplot as plt\n",
    "%matplotlib inline"
   ]
  },
  {
   "cell_type": "code",
   "execution_count": 7,
   "metadata": {},
   "outputs": [],
   "source": [
    "df = pd.read_csv(\"01_source/tabula_ch/tabula_fische_rundmaeuler.csv\")"
   ]
  },
  {
   "cell_type": "code",
   "execution_count": 8,
   "metadata": {},
   "outputs": [
    {
     "data": {
      "text/html": [
       "<div>\n",
       "<style scoped>\n",
       "    .dataframe tbody tr th:only-of-type {\n",
       "        vertical-align: middle;\n",
       "    }\n",
       "\n",
       "    .dataframe tbody tr th {\n",
       "        vertical-align: top;\n",
       "    }\n",
       "\n",
       "    .dataframe thead th {\n",
       "        text-align: right;\n",
       "    }\n",
       "</style>\n",
       "<table border=\"1\" class=\"dataframe\">\n",
       "  <thead>\n",
       "    <tr style=\"text-align: right;\">\n",
       "      <th></th>\n",
       "      <th>Scientific name</th>\n",
       "      <th>Deutscher Name</th>\n",
       "      <th>Criteria</th>\n",
       "      <th>CAT</th>\n",
       "      <th>VBGF</th>\n",
       "      <th>Bemerkungen</th>\n",
       "    </tr>\n",
       "  </thead>\n",
       "  <tbody>\n",
       "    <tr>\n",
       "      <th>0</th>\n",
       "      <td>Abramis bjoerkna</td>\n",
       "      <td>Blicke</td>\n",
       "      <td>B1,B1a,B2,B2a</td>\n",
       "      <td>NT</td>\n",
       "      <td>4</td>\n",
       "      <td>Artenkenntnisse? Wird oft übersehen</td>\n",
       "    </tr>\n",
       "    <tr>\n",
       "      <th>1</th>\n",
       "      <td>Abramis brama</td>\n",
       "      <td>Brachsen</td>\n",
       "      <td>NaN</td>\n",
       "      <td>LC</td>\n",
       "      <td>NG</td>\n",
       "      <td>NaN</td>\n",
       "    </tr>\n",
       "    <tr>\n",
       "      <th>2</th>\n",
       "      <td>Acipenser naccarii</td>\n",
       "      <td>Mittelmeer-Stör</td>\n",
       "      <td>NaN</td>\n",
       "      <td>RE</td>\n",
       "      <td>0/E</td>\n",
       "      <td>NaN</td>\n",
       "    </tr>\n",
       "    <tr>\n",
       "      <th>3</th>\n",
       "      <td>Acipenser sturio</td>\n",
       "      <td>Stör</td>\n",
       "      <td>NaN</td>\n",
       "      <td>RE</td>\n",
       "      <td>0/E</td>\n",
       "      <td>NaN</td>\n",
       "    </tr>\n",
       "    <tr>\n",
       "      <th>4</th>\n",
       "      <td>Alburnoides bipunctatus</td>\n",
       "      <td>Schneider</td>\n",
       "      <td>A2c</td>\n",
       "      <td>VU</td>\n",
       "      <td>3/E</td>\n",
       "      <td>Gefährdung wegen Habitatdefiziten (Fliessstrec...</td>\n",
       "    </tr>\n",
       "  </tbody>\n",
       "</table>\n",
       "</div>"
      ],
      "text/plain": [
       "           Scientific name   Deutscher Name       Criteria CAT VBGF  \\\n",
       "0         Abramis bjoerkna           Blicke  B1,B1a,B2,B2a  NT    4   \n",
       "1            Abramis brama         Brachsen            NaN  LC   NG   \n",
       "2       Acipenser naccarii  Mittelmeer-Stör            NaN  RE  0/E   \n",
       "3         Acipenser sturio             Stör            NaN  RE  0/E   \n",
       "4  Alburnoides bipunctatus        Schneider            A2c  VU  3/E   \n",
       "\n",
       "                                         Bemerkungen  \n",
       "0                Artenkenntnisse? Wird oft übersehen  \n",
       "1                                                NaN  \n",
       "2                                                NaN  \n",
       "3                                                NaN  \n",
       "4  Gefährdung wegen Habitatdefiziten (Fliessstrec...  "
      ]
     },
     "execution_count": 8,
     "metadata": {},
     "output_type": "execute_result"
    }
   ],
   "source": [
    "df.head(5)"
   ]
  },
  {
   "cell_type": "code",
   "execution_count": null,
   "metadata": {},
   "outputs": [],
   "source": []
  },
  {
   "cell_type": "code",
   "execution_count": 9,
   "metadata": {},
   "outputs": [
    {
     "data": {
      "text/plain": [
       "55"
      ]
     },
     "execution_count": 9,
     "metadata": {},
     "output_type": "execute_result"
    }
   ],
   "source": [
    "len (df)"
   ]
  },
  {
   "cell_type": "code",
   "execution_count": 10,
   "metadata": {},
   "outputs": [
    {
     "data": {
      "text/plain": [
       "0                                         B1,B1a,B2,B2a\n",
       "1                                                   NaN\n",
       "2                                                   NaN\n",
       "3                                                   NaN\n",
       "4                                                   A2c\n",
       "5                                                   NaN\n",
       "6              A2b,B1,B1a,B1bi,B1bii,B1biv,B2,B2a,B2bi,\n",
       "7                                      B1,B1a,B2,B2a,D2\n",
       "8                                                   NaN\n",
       "9                                                   NaN\n",
       "10                                                  NaN\n",
       "11                                                  NaN\n",
       "12                                                  NaN\n",
       "13                                            A2b,B1,B2\n",
       "14                                    A2b,B1,B1a,B2,B2a\n",
       "15                    A2b,B1,B1bi,B1ciii,B2,B2bi,B2ciii\n",
       "16             A2c,B1,B1a,B1bi,B1bii,B1biv,B1ci,B2,B2a,\n",
       "17          A2c,B1,B1a,B1bi,B1ci,B2,B2a,B2bi,B2ci,C2ai,\n",
       "18                        A2c,B1,B1bi,B1ci,B2,B2bi,B2ci\n",
       "19                                     B1,B1ciii,B2ciii\n",
       "20                                                  NaN\n",
       "21                                                  NaN\n",
       "22                                                  NaN\n",
       "23                                              B1a,B2a\n",
       "24                                                  NaN\n",
       "25                                        B1,B1a,B2,B2a\n",
       "26                                                  NaN\n",
       "27                                                  NaN\n",
       "28                                                B1,B2\n",
       "29                                        B1,B1a,B2,B2a\n",
       "30                                                  NaN\n",
       "31                                                  NaN\n",
       "32                                        B1,B1a,B2,B2a\n",
       "33                                                B1,B2\n",
       "34                                                  NaN\n",
       "35                     A2b, A2c,B1,B2,B2a,C2ai,C2aii,D2\n",
       "36                                 A2b,B1,B1a,B2,B2a,D2\n",
       "37                                                  NaN\n",
       "38                                                  NaN\n",
       "39                                        B1,B1a,B2,B2a\n",
       "40    A2c,B1,B1a,B1bi,B1bii,B1biv,B1ci,B2,B2a, B2bi,...\n",
       "41    A2b,A2c,B1,B1a,B1bi,B1bii,B1biv,B1ci,B2,B2a,B2...\n",
       "42                                                  NaN\n",
       "43                                    A2b,B1,B1a,B2,B2a\n",
       "44                                                  NaN\n",
       "45                                                  NaN\n",
       "46                                                  NaN\n",
       "47                                        B2, B2a, C2ai\n",
       "48                                                  NaN\n",
       "49                                              B1a,B2a\n",
       "50                                                  NaN\n",
       "51                                            A2b,B1,B2\n",
       "52                                                  A2c\n",
       "53                                                  NaN\n",
       "54                                                  A2b\n",
       "Name: Criteria, dtype: object"
      ]
     },
     "execution_count": 10,
     "metadata": {},
     "output_type": "execute_result"
    }
   ],
   "source": [
    "df.pop(\"Criteria\")"
   ]
  },
  {
   "cell_type": "code",
   "execution_count": 11,
   "metadata": {},
   "outputs": [
    {
     "data": {
      "text/plain": [
       "0       4\n",
       "1      NG\n",
       "2     0/E\n",
       "3     0/E\n",
       "4     3/E\n",
       "5      NG\n",
       "6     2/E\n",
       "7     3/E\n",
       "8     0/E\n",
       "9     0/E\n",
       "10      3\n",
       "11     NG\n",
       "12      4\n",
       "13    3/E\n",
       "14    3/E\n",
       "15    1/E\n",
       "16    1/E\n",
       "17    1/E\n",
       "18    3/E\n",
       "19    4/E\n",
       "20      4\n",
       "21      3\n",
       "22     NG\n",
       "23      4\n",
       "24     NG\n",
       "25     NG\n",
       "26    0/E\n",
       "27    0/E\n",
       "28    2/E\n",
       "29    4/E\n",
       "30     NG\n",
       "31     NG\n",
       "32    3/E\n",
       "33    3/E\n",
       "34     NG\n",
       "35    1/E\n",
       "36    2/E\n",
       "37     NG\n",
       "38     NG\n",
       "39    2/E\n",
       "40    3/E\n",
       "41    3/E\n",
       "42     NG\n",
       "43    4/E\n",
       "44    0/E\n",
       "45      4\n",
       "46      2\n",
       "47      1\n",
       "48      0\n",
       "49      3\n",
       "50     NG\n",
       "51    4/E\n",
       "52    3/E\n",
       "53     NG\n",
       "54    1/S\n",
       "Name: VBGF, dtype: object"
      ]
     },
     "execution_count": 11,
     "metadata": {},
     "output_type": "execute_result"
    }
   ],
   "source": [
    "df.pop(\"VBGF\")"
   ]
  },
  {
   "cell_type": "code",
   "execution_count": 12,
   "metadata": {},
   "outputs": [
    {
     "data": {
      "text/html": [
       "<div>\n",
       "<style scoped>\n",
       "    .dataframe tbody tr th:only-of-type {\n",
       "        vertical-align: middle;\n",
       "    }\n",
       "\n",
       "    .dataframe tbody tr th {\n",
       "        vertical-align: top;\n",
       "    }\n",
       "\n",
       "    .dataframe thead th {\n",
       "        text-align: right;\n",
       "    }\n",
       "</style>\n",
       "<table border=\"1\" class=\"dataframe\">\n",
       "  <thead>\n",
       "    <tr style=\"text-align: right;\">\n",
       "      <th></th>\n",
       "      <th>Scientific name</th>\n",
       "      <th>Deutscher Name</th>\n",
       "      <th>CAT</th>\n",
       "      <th>Bemerkungen</th>\n",
       "    </tr>\n",
       "  </thead>\n",
       "  <tbody>\n",
       "    <tr>\n",
       "      <th>0</th>\n",
       "      <td>Abramis bjoerkna</td>\n",
       "      <td>Blicke</td>\n",
       "      <td>NT</td>\n",
       "      <td>Artenkenntnisse? Wird oft übersehen</td>\n",
       "    </tr>\n",
       "    <tr>\n",
       "      <th>1</th>\n",
       "      <td>Abramis brama</td>\n",
       "      <td>Brachsen</td>\n",
       "      <td>LC</td>\n",
       "      <td>NaN</td>\n",
       "    </tr>\n",
       "  </tbody>\n",
       "</table>\n",
       "</div>"
      ],
      "text/plain": [
       "    Scientific name Deutscher Name CAT                          Bemerkungen\n",
       "0  Abramis bjoerkna         Blicke  NT  Artenkenntnisse? Wird oft übersehen\n",
       "1     Abramis brama       Brachsen  LC                                  NaN"
      ]
     },
     "execution_count": 12,
     "metadata": {},
     "output_type": "execute_result"
    }
   ],
   "source": [
    "df.head(2)"
   ]
  },
  {
   "cell_type": "code",
   "execution_count": 13,
   "metadata": {},
   "outputs": [],
   "source": [
    "df.rename(columns={\"Scientific name\":\"sc name\",\"Deutscher Name\":\"dt name\",\"CAT\":\"cat\", \"Bemerkungen\":\"bemerkungen\"},inplace=True)"
   ]
  },
  {
   "cell_type": "code",
   "execution_count": 14,
   "metadata": {},
   "outputs": [
    {
     "data": {
      "text/plain": [
       "LC     14\n",
       "VU     12\n",
       "RE      8\n",
       "CR      6\n",
       "NT      6\n",
       "EN      4\n",
       "NT      3\n",
       "EN      1\n",
       "VU      1\n",
       "Name: cat, dtype: int64"
      ]
     },
     "execution_count": 14,
     "metadata": {},
     "output_type": "execute_result"
    }
   ],
   "source": [
    "df[\"cat\"].value_counts()"
   ]
  },
  {
   "cell_type": "code",
   "execution_count": 15,
   "metadata": {},
   "outputs": [
    {
     "data": {
      "text/html": [
       "<div>\n",
       "<style scoped>\n",
       "    .dataframe tbody tr th:only-of-type {\n",
       "        vertical-align: middle;\n",
       "    }\n",
       "\n",
       "    .dataframe tbody tr th {\n",
       "        vertical-align: top;\n",
       "    }\n",
       "\n",
       "    .dataframe thead th {\n",
       "        text-align: right;\n",
       "    }\n",
       "</style>\n",
       "<table border=\"1\" class=\"dataframe\">\n",
       "  <thead>\n",
       "    <tr style=\"text-align: right;\">\n",
       "      <th></th>\n",
       "      <th>sc name</th>\n",
       "      <th>dt name</th>\n",
       "      <th>cat</th>\n",
       "      <th>bemerkungen</th>\n",
       "    </tr>\n",
       "  </thead>\n",
       "  <tbody>\n",
       "    <tr>\n",
       "      <th>0</th>\n",
       "      <td>Abramis bjoerkna</td>\n",
       "      <td>Blicke</td>\n",
       "      <td>NT</td>\n",
       "      <td>Artenkenntnisse? Wird oft übersehen</td>\n",
       "    </tr>\n",
       "  </tbody>\n",
       "</table>\n",
       "</div>"
      ],
      "text/plain": [
       "            sc name dt name cat                          bemerkungen\n",
       "0  Abramis bjoerkna  Blicke  NT  Artenkenntnisse? Wird oft übersehen"
      ]
     },
     "execution_count": 15,
     "metadata": {},
     "output_type": "execute_result"
    }
   ],
   "source": [
    "df.head(1)"
   ]
  },
  {
   "cell_type": "code",
   "execution_count": 16,
   "metadata": {},
   "outputs": [],
   "source": [
    "df['einteilung'] = 'Fische'"
   ]
  },
  {
   "cell_type": "code",
   "execution_count": 17,
   "metadata": {},
   "outputs": [
    {
     "data": {
      "text/html": [
       "<div>\n",
       "<style scoped>\n",
       "    .dataframe tbody tr th:only-of-type {\n",
       "        vertical-align: middle;\n",
       "    }\n",
       "\n",
       "    .dataframe tbody tr th {\n",
       "        vertical-align: top;\n",
       "    }\n",
       "\n",
       "    .dataframe thead th {\n",
       "        text-align: right;\n",
       "    }\n",
       "</style>\n",
       "<table border=\"1\" class=\"dataframe\">\n",
       "  <thead>\n",
       "    <tr style=\"text-align: right;\">\n",
       "      <th></th>\n",
       "      <th>sc name</th>\n",
       "      <th>dt name</th>\n",
       "      <th>cat</th>\n",
       "      <th>bemerkungen</th>\n",
       "      <th>einteilung</th>\n",
       "    </tr>\n",
       "  </thead>\n",
       "  <tbody>\n",
       "    <tr>\n",
       "      <th>0</th>\n",
       "      <td>Abramis bjoerkna</td>\n",
       "      <td>Blicke</td>\n",
       "      <td>NT</td>\n",
       "      <td>Artenkenntnisse? Wird oft übersehen</td>\n",
       "      <td>Fische</td>\n",
       "    </tr>\n",
       "  </tbody>\n",
       "</table>\n",
       "</div>"
      ],
      "text/plain": [
       "            sc name dt name cat                          bemerkungen  \\\n",
       "0  Abramis bjoerkna  Blicke  NT  Artenkenntnisse? Wird oft übersehen   \n",
       "\n",
       "  einteilung  \n",
       "0     Fische  "
      ]
     },
     "execution_count": 17,
     "metadata": {},
     "output_type": "execute_result"
    }
   ],
   "source": [
    "df.head(1)"
   ]
  },
  {
   "cell_type": "code",
   "execution_count": 18,
   "metadata": {},
   "outputs": [
    {
     "data": {
      "text/plain": [
       "LC     14\n",
       "VU     12\n",
       "RE      8\n",
       "CR      6\n",
       "NT      6\n",
       "EN      4\n",
       "NT      3\n",
       "EN      1\n",
       "VU      1\n",
       "Name: cat, dtype: int64"
      ]
     },
     "execution_count": 18,
     "metadata": {},
     "output_type": "execute_result"
    }
   ],
   "source": [
    "df[\"cat\"].value_counts()"
   ]
  },
  {
   "cell_type": "code",
   "execution_count": 20,
   "metadata": {},
   "outputs": [
    {
     "data": {
      "image/png": "[encoded data removed]",
      "text/plain": [
       "<Figure size 504x432 with 1 Axes>"
      ]
     },
     "metadata": {},
     "output_type": "display_data"
    }
   ],
   "source": [
    "values = [0, 8, 6, 5, 13, 9, 14, 0, 0]\n",
    "colors = ['r', 'r', 'r', 'r', 'r', 'g', \"g\", \"grey\", \"grey\"]\n",
    "labels = [\n",
    "    'EX: ausgestorben', 'RE: CH ausgestorben',\n",
    "    'CR: v. aussterben bedroht', 'EN: stark gefährdet', \n",
    "    'VU: verletzlich',\"NT: potenziell gef.\",\n",
    "    \"LC: nicht gef.\",\"DD: ungen. Daten\",\"NE: nicht beurteilt\"]\n",
    "\n",
    "\n",
    "fig1, ax1 = plt.subplots(figsize=(7, 6))\n",
    "fig1.subplots_adjust(0.3,0,1,1)\n",
    "plt.pie(values, colors=colors, labels= values, counterclock=False,startangle=90)\n",
    "plt.title('Gefährdung Fische, 55 Arten')\n",
    "\n",
    "total = sum(values)\n",
    "plt.legend(\n",
    "    loc='upper left',\n",
    "    labels=['%s, %1.1f%%' % (\n",
    "        l, (float(s) / total) * 100) for l, s in zip(labels, values)],\n",
    "    \n",
    "    bbox_to_anchor=(1.0, 0.5),\n",
    "    bbox_transform=fig1.transFigure\n",
    ")\n",
    "plt.show()"
   ]
  },
  {
   "cell_type": "code",
   "execution_count": null,
   "metadata": {},
   "outputs": [],
   "source": []
  }
 ],
 "metadata": {
  "kernelspec": {
   "display_name": "Python 3",
   "language": "python",
   "name": "python3"
  },
  "language_info": {
   "codemirror_mode": {
    "name": "ipython",
    "version": 3
   },
   "file_extension": ".py",
   "mimetype": "text/x-python",
   "name": "python",
   "nbconvert_exporter": "python",
   "pygments_lexer": "ipython3",
   "version": "3.7.0"
  }
 },
 "nbformat": 4,
 "nbformat_minor": 2
}
