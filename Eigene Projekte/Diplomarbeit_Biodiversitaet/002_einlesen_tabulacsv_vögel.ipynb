{
 "cells": [
  {
   "cell_type": "markdown",
   "metadata": {},
   "source": [
    "# MAZ Diplomarbeit - Biodiversität in der Schweiz#"
   ]
  },
  {
   "cell_type": "code",
   "execution_count": null,
   "metadata": {},
   "outputs": [],
   "source": []
  },
  {
   "cell_type": "code",
   "execution_count": 1,
   "metadata": {},
   "outputs": [],
   "source": [
    "import pandas as pd\n",
    "import matplotlib.pyplot as plt\n",
    "%matplotlib inline"
   ]
  },
  {
   "cell_type": "code",
   "execution_count": 2,
   "metadata": {},
   "outputs": [],
   "source": [
    "df = pd.read_csv(\"01_source/tabula_ch/tabula_brutvoegel.csv\")"
   ]
  },
  {
   "cell_type": "code",
   "execution_count": 3,
   "metadata": {
    "scrolled": true
   },
   "outputs": [
    {
     "data": {
      "text/html": [
       "<div>\n",
       "<style scoped>\n",
       "    .dataframe tbody tr th:only-of-type {\n",
       "        vertical-align: middle;\n",
       "    }\n",
       "\n",
       "    .dataframe tbody tr th {\n",
       "        vertical-align: top;\n",
       "    }\n",
       "\n",
       "    .dataframe thead th {\n",
       "        text-align: right;\n",
       "    }\n",
       "</style>\n",
       "<table border=\"1\" class=\"dataframe\">\n",
       "  <thead>\n",
       "    <tr style=\"text-align: right;\">\n",
       "      <th></th>\n",
       "      <th>FAMILY</th>\n",
       "      <th>Deutscher Name</th>\n",
       "      <th>Scientific name</th>\n",
       "      <th>CAT</th>\n",
       "      <th>Criteria</th>\n",
       "      <th>Bemerkungen</th>\n",
       "    </tr>\n",
       "  </thead>\n",
       "  <tbody>\n",
       "    <tr>\n",
       "      <th>0</th>\n",
       "      <td>Entenvögel (Anatidae)</td>\n",
       "      <td>Brandgans</td>\n",
       "      <td>Tadorna tadorna (L.)</td>\n",
       "      <td>VU</td>\n",
       "      <td>D**</td>\n",
       "      <td>NaN</td>\n",
       "    </tr>\n",
       "    <tr>\n",
       "      <th>1</th>\n",
       "      <td>Entenvögel (Anatidae)</td>\n",
       "      <td>Schnatterente</td>\n",
       "      <td>Anas strepera L.</td>\n",
       "      <td>EN</td>\n",
       "      <td>D*</td>\n",
       "      <td>NaN</td>\n",
       "    </tr>\n",
       "    <tr>\n",
       "      <th>2</th>\n",
       "      <td>Entenvögel (Anatidae)</td>\n",
       "      <td>Krickente</td>\n",
       "      <td>Anas crecca L.</td>\n",
       "      <td>VU</td>\n",
       "      <td>D**</td>\n",
       "      <td>NaN</td>\n",
       "    </tr>\n",
       "    <tr>\n",
       "      <th>3</th>\n",
       "      <td>Entenvögel (Anatidae)</td>\n",
       "      <td>Stockente</td>\n",
       "      <td>Anas platyrhynchos L.</td>\n",
       "      <td>LC</td>\n",
       "      <td>NaN</td>\n",
       "      <td>NaN</td>\n",
       "    </tr>\n",
       "    <tr>\n",
       "      <th>4</th>\n",
       "      <td>Entenvögel (Anatidae)</td>\n",
       "      <td>Knäkente</td>\n",
       "      <td>Anas querquedula L.</td>\n",
       "      <td>EN</td>\n",
       "      <td>D*</td>\n",
       "      <td>Änderung des SPEC-Status 2004 führt neu zur Rü...</td>\n",
       "    </tr>\n",
       "  </tbody>\n",
       "</table>\n",
       "</div>"
      ],
      "text/plain": [
       "                  FAMILY Deutscher Name        Scientific name CAT Criteria  \\\n",
       "0  Entenvögel (Anatidae)      Brandgans   Tadorna tadorna (L.)  VU      D**   \n",
       "1  Entenvögel (Anatidae)  Schnatterente       Anas strepera L.  EN       D*   \n",
       "2  Entenvögel (Anatidae)      Krickente         Anas crecca L.  VU      D**   \n",
       "3  Entenvögel (Anatidae)      Stockente  Anas platyrhynchos L.  LC      NaN   \n",
       "4  Entenvögel (Anatidae)       Knäkente    Anas querquedula L.  EN       D*   \n",
       "\n",
       "                                         Bemerkungen  \n",
       "0                                                NaN  \n",
       "1                                                NaN  \n",
       "2                                                NaN  \n",
       "3                                                NaN  \n",
       "4  Änderung des SPEC-Status 2004 führt neu zur Rü...  "
      ]
     },
     "execution_count": 3,
     "metadata": {},
     "output_type": "execute_result"
    }
   ],
   "source": [
    "df.head()"
   ]
  },
  {
   "cell_type": "code",
   "execution_count": 4,
   "metadata": {},
   "outputs": [
    {
     "data": {
      "text/plain": [
       "199"
      ]
     },
     "execution_count": 4,
     "metadata": {},
     "output_type": "execute_result"
    }
   ],
   "source": [
    "len (df)"
   ]
  },
  {
   "cell_type": "code",
   "execution_count": 5,
   "metadata": {},
   "outputs": [],
   "source": [
    "df.rename(columns={\"FAMILY\":\"family\",\"Scientific name\":\"sc name\",\"Deutscher Name\":\"dt name\",\"CAT\":\"cat\", \"Criteria\": \"criteria\", \"Bemerkungen\":\"bemerkungen\"},inplace=True)"
   ]
  },
  {
   "cell_type": "code",
   "execution_count": 6,
   "metadata": {},
   "outputs": [
    {
     "data": {
      "text/html": [
       "<div>\n",
       "<style scoped>\n",
       "    .dataframe tbody tr th:only-of-type {\n",
       "        vertical-align: middle;\n",
       "    }\n",
       "\n",
       "    .dataframe tbody tr th {\n",
       "        vertical-align: top;\n",
       "    }\n",
       "\n",
       "    .dataframe thead th {\n",
       "        text-align: right;\n",
       "    }\n",
       "</style>\n",
       "<table border=\"1\" class=\"dataframe\">\n",
       "  <thead>\n",
       "    <tr style=\"text-align: right;\">\n",
       "      <th></th>\n",
       "      <th>family</th>\n",
       "      <th>dt name</th>\n",
       "      <th>sc name</th>\n",
       "      <th>cat</th>\n",
       "      <th>criteria</th>\n",
       "      <th>bemerkungen</th>\n",
       "    </tr>\n",
       "  </thead>\n",
       "  <tbody>\n",
       "    <tr>\n",
       "      <th>0</th>\n",
       "      <td>Entenvögel (Anatidae)</td>\n",
       "      <td>Brandgans</td>\n",
       "      <td>Tadorna tadorna (L.)</td>\n",
       "      <td>VU</td>\n",
       "      <td>D**</td>\n",
       "      <td>NaN</td>\n",
       "    </tr>\n",
       "    <tr>\n",
       "      <th>1</th>\n",
       "      <td>Entenvögel (Anatidae)</td>\n",
       "      <td>Schnatterente</td>\n",
       "      <td>Anas strepera L.</td>\n",
       "      <td>EN</td>\n",
       "      <td>D*</td>\n",
       "      <td>NaN</td>\n",
       "    </tr>\n",
       "  </tbody>\n",
       "</table>\n",
       "</div>"
      ],
      "text/plain": [
       "                  family        dt name               sc name cat criteria  \\\n",
       "0  Entenvögel (Anatidae)      Brandgans  Tadorna tadorna (L.)  VU      D**   \n",
       "1  Entenvögel (Anatidae)  Schnatterente      Anas strepera L.  EN       D*   \n",
       "\n",
       "  bemerkungen  \n",
       "0         NaN  \n",
       "1         NaN  "
      ]
     },
     "execution_count": 6,
     "metadata": {},
     "output_type": "execute_result"
    }
   ],
   "source": [
    "df.head(2)"
   ]
  },
  {
   "cell_type": "code",
   "execution_count": 7,
   "metadata": {},
   "outputs": [
    {
     "data": {
      "text/plain": [
       "LC    89\n",
       "VU    41\n",
       "NT    32\n",
       "EN    21\n",
       "CR     9\n",
       "RE     7\n",
       "Name: cat, dtype: int64"
      ]
     },
     "execution_count": 7,
     "metadata": {},
     "output_type": "execute_result"
    }
   ],
   "source": [
    "df[\"cat\"].value_counts()"
   ]
  },
  {
   "cell_type": "code",
   "execution_count": 8,
   "metadata": {},
   "outputs": [
    {
     "data": {
      "text/plain": [
       "0                         D**\n",
       "1                          D*\n",
       "2                         D**\n",
       "3                         NaN\n",
       "4                          D*\n",
       "5                          D*\n",
       "6                         D1*\n",
       "7                          D*\n",
       "8                          D1\n",
       "9                         D**\n",
       "10                        D**\n",
       "11                        D**\n",
       "12                         D1\n",
       "13                       (C1)\n",
       "14               (A2ac, B1ab)\n",
       "15                       (B1)\n",
       "16                         C1\n",
       "17             (B1b(iv), C2b)\n",
       "18                        NaN\n",
       "19     A2ac, B1ab, C2a(ii), D\n",
       "20                        NaN\n",
       "21                         C1\n",
       "22                      (C1)*\n",
       "23                        D**\n",
       "24                  (D1, D2)*\n",
       "25                          D\n",
       "26                         D*\n",
       "27                        NaN\n",
       "28                          D\n",
       "29                         D1\n",
       "                ...          \n",
       "169                       NaN\n",
       "170                       NaN\n",
       "171                         D\n",
       "172                        C1\n",
       "173                       NaN\n",
       "174                       NaN\n",
       "175                       NaN\n",
       "176                       NaN\n",
       "177                       NaN\n",
       "178                       NaN\n",
       "179                       NaN\n",
       "180                       NaN\n",
       "181                       NaN\n",
       "182                       NaN\n",
       "183                       NaN\n",
       "184                       NaN\n",
       "185                       NaN\n",
       "186                       NaN\n",
       "187                         °\n",
       "188                       NaN\n",
       "189                       NaN\n",
       "190                       D**\n",
       "191                       NaN\n",
       "192                       NaN\n",
       "193                       NaN\n",
       "194                 B2ac(iv)*\n",
       "195                       NaN\n",
       "196               B1ab, C1, D\n",
       "197                        C1\n",
       "198                    C1, D1\n",
       "Name: criteria, Length: 199, dtype: object"
      ]
     },
     "execution_count": 8,
     "metadata": {},
     "output_type": "execute_result"
    }
   ],
   "source": [
    "df.pop(\"criteria\")"
   ]
  },
  {
   "cell_type": "code",
   "execution_count": 9,
   "metadata": {},
   "outputs": [],
   "source": [
    "df['einteilung'] = 'Vögel'\n",
    "df['untergruppe'] = 'Vögel2'"
   ]
  },
  {
   "cell_type": "code",
   "execution_count": 10,
   "metadata": {},
   "outputs": [
    {
     "data": {
      "text/html": [
       "<div>\n",
       "<style scoped>\n",
       "    .dataframe tbody tr th:only-of-type {\n",
       "        vertical-align: middle;\n",
       "    }\n",
       "\n",
       "    .dataframe tbody tr th {\n",
       "        vertical-align: top;\n",
       "    }\n",
       "\n",
       "    .dataframe thead th {\n",
       "        text-align: right;\n",
       "    }\n",
       "</style>\n",
       "<table border=\"1\" class=\"dataframe\">\n",
       "  <thead>\n",
       "    <tr style=\"text-align: right;\">\n",
       "      <th></th>\n",
       "      <th>family</th>\n",
       "      <th>dt name</th>\n",
       "      <th>sc name</th>\n",
       "      <th>cat</th>\n",
       "      <th>bemerkungen</th>\n",
       "      <th>einteilung</th>\n",
       "      <th>untergruppe</th>\n",
       "    </tr>\n",
       "  </thead>\n",
       "  <tbody>\n",
       "    <tr>\n",
       "      <th>0</th>\n",
       "      <td>Entenvögel (Anatidae)</td>\n",
       "      <td>Brandgans</td>\n",
       "      <td>Tadorna tadorna (L.)</td>\n",
       "      <td>VU</td>\n",
       "      <td>NaN</td>\n",
       "      <td>Vögel</td>\n",
       "      <td>Vögel2</td>\n",
       "    </tr>\n",
       "    <tr>\n",
       "      <th>1</th>\n",
       "      <td>Entenvögel (Anatidae)</td>\n",
       "      <td>Schnatterente</td>\n",
       "      <td>Anas strepera L.</td>\n",
       "      <td>EN</td>\n",
       "      <td>NaN</td>\n",
       "      <td>Vögel</td>\n",
       "      <td>Vögel2</td>\n",
       "    </tr>\n",
       "  </tbody>\n",
       "</table>\n",
       "</div>"
      ],
      "text/plain": [
       "                  family        dt name               sc name cat bemerkungen  \\\n",
       "0  Entenvögel (Anatidae)      Brandgans  Tadorna tadorna (L.)  VU         NaN   \n",
       "1  Entenvögel (Anatidae)  Schnatterente      Anas strepera L.  EN         NaN   \n",
       "\n",
       "  einteilung untergruppe  \n",
       "0      Vögel      Vögel2  \n",
       "1      Vögel      Vögel2  "
      ]
     },
     "execution_count": 10,
     "metadata": {},
     "output_type": "execute_result"
    }
   ],
   "source": [
    "df.head(2)"
   ]
  },
  {
   "cell_type": "code",
   "execution_count": 11,
   "metadata": {},
   "outputs": [],
   "source": [
    "liste = df.head(210)"
   ]
  },
  {
   "cell_type": "code",
   "execution_count": 12,
   "metadata": {},
   "outputs": [],
   "source": [
    "path = \"Brutvögel_neu.csv\"\n",
    "\n",
    "liste.to_csv(path, index=True)"
   ]
  },
  {
   "cell_type": "code",
   "execution_count": null,
   "metadata": {},
   "outputs": [],
   "source": []
  },
  {
   "cell_type": "code",
   "execution_count": 13,
   "metadata": {},
   "outputs": [],
   "source": [
    "df2 = pd.read_csv(\"01_source/tabula_ch/Brutvögel_neu_b.csv\")"
   ]
  },
  {
   "cell_type": "code",
   "execution_count": 14,
   "metadata": {},
   "outputs": [
    {
     "data": {
      "text/html": [
       "<div>\n",
       "<style scoped>\n",
       "    .dataframe tbody tr th:only-of-type {\n",
       "        vertical-align: middle;\n",
       "    }\n",
       "\n",
       "    .dataframe tbody tr th {\n",
       "        vertical-align: top;\n",
       "    }\n",
       "\n",
       "    .dataframe thead th {\n",
       "        text-align: right;\n",
       "    }\n",
       "</style>\n",
       "<table border=\"1\" class=\"dataframe\">\n",
       "  <thead>\n",
       "    <tr style=\"text-align: right;\">\n",
       "      <th></th>\n",
       "      <th>Unnamed: 0</th>\n",
       "      <th>family</th>\n",
       "      <th>dt name</th>\n",
       "      <th>sc name</th>\n",
       "      <th>cat</th>\n",
       "      <th>bemerkungen</th>\n",
       "      <th>einteilung</th>\n",
       "      <th>untergruppe</th>\n",
       "    </tr>\n",
       "  </thead>\n",
       "  <tbody>\n",
       "    <tr>\n",
       "      <th>0</th>\n",
       "      <td>0</td>\n",
       "      <td>Entenvögel (Anatidae)</td>\n",
       "      <td>Brandgans</td>\n",
       "      <td>Tadorna tadorna (L.)</td>\n",
       "      <td>VU</td>\n",
       "      <td>NaN</td>\n",
       "      <td>Vögel</td>\n",
       "      <td>Enten und Taucher</td>\n",
       "    </tr>\n",
       "    <tr>\n",
       "      <th>1</th>\n",
       "      <td>1</td>\n",
       "      <td>Entenvögel (Anatidae)</td>\n",
       "      <td>Schnatterente</td>\n",
       "      <td>Anas strepera L.</td>\n",
       "      <td>EN</td>\n",
       "      <td>NaN</td>\n",
       "      <td>Vögel</td>\n",
       "      <td>Enten und Taucher</td>\n",
       "    </tr>\n",
       "    <tr>\n",
       "      <th>2</th>\n",
       "      <td>2</td>\n",
       "      <td>Entenvögel (Anatidae)</td>\n",
       "      <td>Krickente</td>\n",
       "      <td>Anas crecca L.</td>\n",
       "      <td>VU</td>\n",
       "      <td>NaN</td>\n",
       "      <td>Vögel</td>\n",
       "      <td>Enten und Taucher</td>\n",
       "    </tr>\n",
       "    <tr>\n",
       "      <th>3</th>\n",
       "      <td>3</td>\n",
       "      <td>Entenvögel (Anatidae)</td>\n",
       "      <td>Stockente</td>\n",
       "      <td>Anas platyrhynchos L.</td>\n",
       "      <td>LC</td>\n",
       "      <td>NaN</td>\n",
       "      <td>Vögel</td>\n",
       "      <td>Enten und Taucher</td>\n",
       "    </tr>\n",
       "    <tr>\n",
       "      <th>4</th>\n",
       "      <td>4</td>\n",
       "      <td>Entenvögel (Anatidae)</td>\n",
       "      <td>Knäkente</td>\n",
       "      <td>Anas querquedula L.</td>\n",
       "      <td>EN</td>\n",
       "      <td>Änderung des SPEC-Status 2004 führt neu zur Rü...</td>\n",
       "      <td>Vögel</td>\n",
       "      <td>Enten und Taucher</td>\n",
       "    </tr>\n",
       "  </tbody>\n",
       "</table>\n",
       "</div>"
      ],
      "text/plain": [
       "   Unnamed: 0                 family        dt name                sc name  \\\n",
       "0           0  Entenvögel (Anatidae)      Brandgans   Tadorna tadorna (L.)   \n",
       "1           1  Entenvögel (Anatidae)  Schnatterente       Anas strepera L.   \n",
       "2           2  Entenvögel (Anatidae)      Krickente         Anas crecca L.   \n",
       "3           3  Entenvögel (Anatidae)      Stockente  Anas platyrhynchos L.   \n",
       "4           4  Entenvögel (Anatidae)       Knäkente    Anas querquedula L.   \n",
       "\n",
       "  cat                                        bemerkungen einteilung  \\\n",
       "0  VU                                                NaN      Vögel   \n",
       "1  EN                                                NaN      Vögel   \n",
       "2  VU                                                NaN      Vögel   \n",
       "3  LC                                                NaN      Vögel   \n",
       "4  EN  Änderung des SPEC-Status 2004 führt neu zur Rü...      Vögel   \n",
       "\n",
       "         untergruppe  \n",
       "0  Enten und Taucher  \n",
       "1  Enten und Taucher  \n",
       "2  Enten und Taucher  \n",
       "3  Enten und Taucher  \n",
       "4  Enten und Taucher  "
      ]
     },
     "execution_count": 14,
     "metadata": {},
     "output_type": "execute_result"
    }
   ],
   "source": [
    "df2.head()"
   ]
  },
  {
   "cell_type": "code",
   "execution_count": 15,
   "metadata": {},
   "outputs": [
    {
     "data": {
      "text/plain": [
       "0        0\n",
       "1        1\n",
       "2        2\n",
       "3        3\n",
       "4        4\n",
       "5        5\n",
       "6        6\n",
       "7        7\n",
       "8        8\n",
       "9        9\n",
       "10      10\n",
       "11      11\n",
       "12      12\n",
       "13      13\n",
       "14      14\n",
       "15      15\n",
       "16      16\n",
       "17      17\n",
       "18      18\n",
       "19      19\n",
       "20      20\n",
       "21      21\n",
       "22      22\n",
       "23      23\n",
       "24      24\n",
       "25      25\n",
       "26      26\n",
       "27      27\n",
       "28      28\n",
       "29      29\n",
       "      ... \n",
       "169    169\n",
       "170    170\n",
       "171    171\n",
       "172    172\n",
       "173    173\n",
       "174    174\n",
       "175    175\n",
       "176    176\n",
       "177    177\n",
       "178    178\n",
       "179    179\n",
       "180    180\n",
       "181    181\n",
       "182    182\n",
       "183    183\n",
       "184    184\n",
       "185    185\n",
       "186    186\n",
       "187    187\n",
       "188    188\n",
       "189    189\n",
       "190    190\n",
       "191    191\n",
       "192    192\n",
       "193    193\n",
       "194    194\n",
       "195    195\n",
       "196    196\n",
       "197    197\n",
       "198    198\n",
       "Name: Unnamed: 0, Length: 199, dtype: int64"
      ]
     },
     "execution_count": 15,
     "metadata": {},
     "output_type": "execute_result"
    }
   ],
   "source": [
    "df2.pop(\"Unnamed: 0\")"
   ]
  },
  {
   "cell_type": "code",
   "execution_count": 16,
   "metadata": {},
   "outputs": [
    {
     "data": {
      "text/html": [
       "<div>\n",
       "<style scoped>\n",
       "    .dataframe tbody tr th:only-of-type {\n",
       "        vertical-align: middle;\n",
       "    }\n",
       "\n",
       "    .dataframe tbody tr th {\n",
       "        vertical-align: top;\n",
       "    }\n",
       "\n",
       "    .dataframe thead th {\n",
       "        text-align: right;\n",
       "    }\n",
       "</style>\n",
       "<table border=\"1\" class=\"dataframe\">\n",
       "  <thead>\n",
       "    <tr style=\"text-align: right;\">\n",
       "      <th></th>\n",
       "      <th>family</th>\n",
       "      <th>dt name</th>\n",
       "      <th>sc name</th>\n",
       "      <th>cat</th>\n",
       "      <th>bemerkungen</th>\n",
       "      <th>einteilung</th>\n",
       "      <th>untergruppe</th>\n",
       "    </tr>\n",
       "  </thead>\n",
       "  <tbody>\n",
       "    <tr>\n",
       "      <th>0</th>\n",
       "      <td>Entenvögel (Anatidae)</td>\n",
       "      <td>Brandgans</td>\n",
       "      <td>Tadorna tadorna (L.)</td>\n",
       "      <td>VU</td>\n",
       "      <td>NaN</td>\n",
       "      <td>Vögel</td>\n",
       "      <td>Enten und Taucher</td>\n",
       "    </tr>\n",
       "    <tr>\n",
       "      <th>1</th>\n",
       "      <td>Entenvögel (Anatidae)</td>\n",
       "      <td>Schnatterente</td>\n",
       "      <td>Anas strepera L.</td>\n",
       "      <td>EN</td>\n",
       "      <td>NaN</td>\n",
       "      <td>Vögel</td>\n",
       "      <td>Enten und Taucher</td>\n",
       "    </tr>\n",
       "    <tr>\n",
       "      <th>2</th>\n",
       "      <td>Entenvögel (Anatidae)</td>\n",
       "      <td>Krickente</td>\n",
       "      <td>Anas crecca L.</td>\n",
       "      <td>VU</td>\n",
       "      <td>NaN</td>\n",
       "      <td>Vögel</td>\n",
       "      <td>Enten und Taucher</td>\n",
       "    </tr>\n",
       "    <tr>\n",
       "      <th>3</th>\n",
       "      <td>Entenvögel (Anatidae)</td>\n",
       "      <td>Stockente</td>\n",
       "      <td>Anas platyrhynchos L.</td>\n",
       "      <td>LC</td>\n",
       "      <td>NaN</td>\n",
       "      <td>Vögel</td>\n",
       "      <td>Enten und Taucher</td>\n",
       "    </tr>\n",
       "    <tr>\n",
       "      <th>4</th>\n",
       "      <td>Entenvögel (Anatidae)</td>\n",
       "      <td>Knäkente</td>\n",
       "      <td>Anas querquedula L.</td>\n",
       "      <td>EN</td>\n",
       "      <td>Änderung des SPEC-Status 2004 führt neu zur Rü...</td>\n",
       "      <td>Vögel</td>\n",
       "      <td>Enten und Taucher</td>\n",
       "    </tr>\n",
       "  </tbody>\n",
       "</table>\n",
       "</div>"
      ],
      "text/plain": [
       "                  family        dt name                sc name cat  \\\n",
       "0  Entenvögel (Anatidae)      Brandgans   Tadorna tadorna (L.)  VU   \n",
       "1  Entenvögel (Anatidae)  Schnatterente       Anas strepera L.  EN   \n",
       "2  Entenvögel (Anatidae)      Krickente         Anas crecca L.  VU   \n",
       "3  Entenvögel (Anatidae)      Stockente  Anas platyrhynchos L.  LC   \n",
       "4  Entenvögel (Anatidae)       Knäkente    Anas querquedula L.  EN   \n",
       "\n",
       "                                         bemerkungen einteilung  \\\n",
       "0                                                NaN      Vögel   \n",
       "1                                                NaN      Vögel   \n",
       "2                                                NaN      Vögel   \n",
       "3                                                NaN      Vögel   \n",
       "4  Änderung des SPEC-Status 2004 führt neu zur Rü...      Vögel   \n",
       "\n",
       "         untergruppe  \n",
       "0  Enten und Taucher  \n",
       "1  Enten und Taucher  \n",
       "2  Enten und Taucher  \n",
       "3  Enten und Taucher  \n",
       "4  Enten und Taucher  "
      ]
     },
     "execution_count": 16,
     "metadata": {},
     "output_type": "execute_result"
    }
   ],
   "source": [
    "df2.head()"
   ]
  },
  {
   "cell_type": "code",
   "execution_count": 17,
   "metadata": {
    "scrolled": true
   },
   "outputs": [
    {
     "data": {
      "text/plain": [
       "untergruppe        cat\n",
       "Andere             NT      3\n",
       "                   VU      3\n",
       "                   EN      2\n",
       "Enten und Taucher  VU      9\n",
       "                   EN      4\n",
       "                   LC      2\n",
       "                   NT      1\n",
       "Eulen              EN      3\n",
       "                   LC      3\n",
       "                   NT      2\n",
       "Greifvögel         LC      5\n",
       "                   NT      4\n",
       "                   VU      3\n",
       "                   CR      1\n",
       "                   RE      1\n",
       "Hühner             NT      4\n",
       "                   CR      1\n",
       "                   EN      1\n",
       "                   LC      1\n",
       "                   RE      1\n",
       "Kormorane          LC      1\n",
       "Rallen             LC      3\n",
       "                   VU      2\n",
       "                   CR      1\n",
       "                   EN      1\n",
       "Schreitvögel       EN      2\n",
       "                   CR      1\n",
       "                   LC      1\n",
       "                   VU      1\n",
       "Singvögel          LC     64\n",
       "                   VU     19\n",
       "                   NT     14\n",
       "                   EN      4\n",
       "                   RE      4\n",
       "                   CR      2\n",
       "Spechte            LC      5\n",
       "                   NT      2\n",
       "                   VU      2\n",
       "Tauben             LC      3\n",
       "                   NT      1\n",
       "Watvögel           EN      4\n",
       "                   CR      3\n",
       "                   VU      2\n",
       "                   LC      1\n",
       "                   NT      1\n",
       "                   RE      1\n",
       "Name: cat, dtype: int64"
      ]
     },
     "execution_count": 17,
     "metadata": {},
     "output_type": "execute_result"
    }
   ],
   "source": [
    "df2.groupby(\"untergruppe\")[\"cat\"].value_counts()"
   ]
  },
  {
   "cell_type": "code",
   "execution_count": 18,
   "metadata": {},
   "outputs": [
    {
     "name": "stdout",
     "output_type": "stream",
     "text": [
      "Enten und Taucher\n",
      "Hühner\n",
      "Kormorane\n",
      "Schreitvögel\n",
      "Greifvögel\n",
      "Rallen\n",
      "Watvögel\n",
      "Tauben\n",
      "Andere\n",
      "Eulen\n",
      "Spechte\n",
      "Singvögel\n"
     ]
    }
   ],
   "source": [
    "for gruppe in df2[\"untergruppe\"].unique():\n",
    "    print(gruppe)\n",
    "    \n",
    "    df_gruppe = df2[df2.untergruppe == gruppe]\n",
    "    \n",
    "    df_cat = df_gruppe.groupby('cat').count()\n",
    "    df_cat.to_csv('export/' + gruppe + '.csv')    \n",
    "    \n",
    "    \n"
   ]
  },
  {
   "cell_type": "code",
   "execution_count": 19,
   "metadata": {},
   "outputs": [],
   "source": [
    "df_gruppe = df2[df2.untergruppe == 'Watvögel']\n",
    "df_cat = df_gruppe.groupby('cat').count()\n",
    "df_cat.to_csv('xy.csv')"
   ]
  },
  {
   "cell_type": "code",
   "execution_count": null,
   "metadata": {},
   "outputs": [],
   "source": []
  },
  {
   "cell_type": "code",
   "execution_count": 20,
   "metadata": {},
   "outputs": [
    {
     "data": {
      "text/plain": [
       "LC    89\n",
       "VU    41\n",
       "NT    32\n",
       "EN    21\n",
       "CR     9\n",
       "RE     7\n",
       "Name: cat, dtype: int64"
      ]
     },
     "execution_count": 20,
     "metadata": {},
     "output_type": "execute_result"
    }
   ],
   "source": [
    "df2[\"cat\"].value_counts()"
   ]
  },
  {
   "cell_type": "code",
   "execution_count": 21,
   "metadata": {},
   "outputs": [
    {
     "data": {
      "image/png": "[encoded data removed]",
      "text/plain": [
       "<Figure size 504x432 with 1 Axes>"
      ]
     },
     "metadata": {},
     "output_type": "display_data"
    }
   ],
   "source": [
    "values = [0, 7, 9, 21, 41, 32, 89, 0, 0]\n",
    "colors = ['r', 'r', 'r', 'r', 'r', 'g', \"g\", \"grey\", \"grey\"]\n",
    "labels = [\n",
    "    'EX: ausgestorben', 'RE: CH ausgestorben',\n",
    "    'CR: v. aussterben bedroht', 'EN: stark gefährdet', \n",
    "    'VU: verletzlich',\"NT: potenziell gef.\",\n",
    "    \"LC: nicht gef.\",\"DD: ungen. Daten\",\"NE: nicht beurteilt\"]\n",
    "\n",
    "\n",
    "fig1, ax1 = plt.subplots(figsize=(7, 6))\n",
    "fig1.subplots_adjust(0.3,0,1,1)\n",
    "plt.pie(values, colors=colors, labels= values, counterclock=False,startangle=90)\n",
    "plt.title('Gefährdung Vögel, 199 Arten')\n",
    "\n",
    "total = sum(values)\n",
    "plt.legend(\n",
    "    loc='upper left',\n",
    "    labels=['%s, %1.1f%%' % (\n",
    "        l, (float(s) / total) * 100) for l, s in zip(labels, values)],\n",
    "    \n",
    "    bbox_to_anchor=(1.0, 0.5),\n",
    "    bbox_transform=fig1.transFigure\n",
    ")\n",
    "plt.show()"
   ]
  },
  {
   "cell_type": "code",
   "execution_count": 22,
   "metadata": {},
   "outputs": [],
   "source": [
    "df_wat = pd.read_csv(\"export/Watvögel.csv\")\n",
    "df_en = pd.read_csv(\"export/Enten und Taucher.csv\")\n",
    "df_eu = pd.read_csv(\"export/Eulen.csv\")\n",
    "df_gr = pd.read_csv(\"export/Greifvögel.csv\")\n",
    "df_hu = pd.read_csv(\"export/Hühner.csv\")\n",
    "df_ra = pd.read_csv(\"export/Rallen.csv\")\n",
    "df_sch = pd.read_csv(\"export/Schreitvögel.csv\")\n",
    "df_si = pd.read_csv(\"export/Singvögel.csv\")\n",
    "df_sp = pd.read_csv(\"export/Spechte.csv\")\n",
    "df_ta = pd.read_csv(\"export/Tauben.csv\")\n",
    "df_ko = pd.read_csv(\"export/Kormorane.csv\")\n",
    "df_an = pd.read_csv(\"export/Andere.csv\")\n"
   ]
  },
  {
   "cell_type": "code",
   "execution_count": 23,
   "metadata": {},
   "outputs": [
    {
     "data": {
      "text/html": [
       "<div>\n",
       "<style scoped>\n",
       "    .dataframe tbody tr th:only-of-type {\n",
       "        vertical-align: middle;\n",
       "    }\n",
       "\n",
       "    .dataframe tbody tr th {\n",
       "        vertical-align: top;\n",
       "    }\n",
       "\n",
       "    .dataframe thead th {\n",
       "        text-align: right;\n",
       "    }\n",
       "</style>\n",
       "<table border=\"1\" class=\"dataframe\">\n",
       "  <thead>\n",
       "    <tr style=\"text-align: right;\">\n",
       "      <th></th>\n",
       "      <th>cat</th>\n",
       "      <th>anzahl</th>\n",
       "    </tr>\n",
       "  </thead>\n",
       "  <tbody>\n",
       "    <tr>\n",
       "      <th>0</th>\n",
       "      <td>EN</td>\n",
       "      <td>2</td>\n",
       "    </tr>\n",
       "    <tr>\n",
       "      <th>1</th>\n",
       "      <td>NT</td>\n",
       "      <td>3</td>\n",
       "    </tr>\n",
       "    <tr>\n",
       "      <th>2</th>\n",
       "      <td>VU</td>\n",
       "      <td>3</td>\n",
       "    </tr>\n",
       "  </tbody>\n",
       "</table>\n",
       "</div>"
      ],
      "text/plain": [
       "  cat  anzahl\n",
       "0  EN       2\n",
       "1  NT       3\n",
       "2  VU       3"
      ]
     },
     "execution_count": 23,
     "metadata": {},
     "output_type": "execute_result"
    }
   ],
   "source": [
    "df_an.rename(columns={\"family\": \"anzahl\"}, inplace=True)\n",
    "df_an.pop(\"dt name\")\n",
    "df_an.pop(\"sc name\")\n",
    "df_an.pop(\"bemerkungen\")\n",
    "df_an.pop(\"einteilung\")\n",
    "df_an.pop(\"untergruppe\")\n",
    "\n",
    "df_an.head()"
   ]
  },
  {
   "cell_type": "code",
   "execution_count": 24,
   "metadata": {},
   "outputs": [
    {
     "data": {
      "text/html": [
       "<div>\n",
       "<style scoped>\n",
       "    .dataframe tbody tr th:only-of-type {\n",
       "        vertical-align: middle;\n",
       "    }\n",
       "\n",
       "    .dataframe tbody tr th {\n",
       "        vertical-align: top;\n",
       "    }\n",
       "\n",
       "    .dataframe thead th {\n",
       "        text-align: right;\n",
       "    }\n",
       "</style>\n",
       "<table border=\"1\" class=\"dataframe\">\n",
       "  <thead>\n",
       "    <tr style=\"text-align: right;\">\n",
       "      <th></th>\n",
       "      <th>cat</th>\n",
       "      <th>anzahl</th>\n",
       "    </tr>\n",
       "  </thead>\n",
       "  <tbody>\n",
       "    <tr>\n",
       "      <th>0</th>\n",
       "      <td>LC</td>\n",
       "      <td>1</td>\n",
       "    </tr>\n",
       "  </tbody>\n",
       "</table>\n",
       "</div>"
      ],
      "text/plain": [
       "  cat  anzahl\n",
       "0  LC       1"
      ]
     },
     "execution_count": 24,
     "metadata": {},
     "output_type": "execute_result"
    }
   ],
   "source": [
    "df_ko.rename(columns={\"family\": \"anzahl\"}, inplace=True)\n",
    "df_ko.pop(\"dt name\")\n",
    "df_ko.pop(\"sc name\")\n",
    "df_ko.pop(\"bemerkungen\")\n",
    "df_ko.pop(\"einteilung\")\n",
    "df_ko.pop(\"untergruppe\")\n",
    "\n",
    "df_ko.head()"
   ]
  },
  {
   "cell_type": "code",
   "execution_count": 25,
   "metadata": {},
   "outputs": [
    {
     "data": {
      "text/html": [
       "<div>\n",
       "<style scoped>\n",
       "    .dataframe tbody tr th:only-of-type {\n",
       "        vertical-align: middle;\n",
       "    }\n",
       "\n",
       "    .dataframe tbody tr th {\n",
       "        vertical-align: top;\n",
       "    }\n",
       "\n",
       "    .dataframe thead th {\n",
       "        text-align: right;\n",
       "    }\n",
       "</style>\n",
       "<table border=\"1\" class=\"dataframe\">\n",
       "  <thead>\n",
       "    <tr style=\"text-align: right;\">\n",
       "      <th></th>\n",
       "      <th>cat</th>\n",
       "      <th>anzahl</th>\n",
       "    </tr>\n",
       "  </thead>\n",
       "  <tbody>\n",
       "    <tr>\n",
       "      <th>0</th>\n",
       "      <td>LC</td>\n",
       "      <td>3</td>\n",
       "    </tr>\n",
       "    <tr>\n",
       "      <th>1</th>\n",
       "      <td>NT</td>\n",
       "      <td>1</td>\n",
       "    </tr>\n",
       "  </tbody>\n",
       "</table>\n",
       "</div>"
      ],
      "text/plain": [
       "  cat  anzahl\n",
       "0  LC       3\n",
       "1  NT       1"
      ]
     },
     "execution_count": 25,
     "metadata": {},
     "output_type": "execute_result"
    }
   ],
   "source": [
    "df_ta.rename(columns={\"family\": \"anzahl\"}, inplace=True)\n",
    "df_ta.pop(\"dt name\")\n",
    "df_ta.pop(\"sc name\")\n",
    "df_ta.pop(\"bemerkungen\")\n",
    "df_ta.pop(\"einteilung\")\n",
    "df_ta.pop(\"untergruppe\")\n",
    "\n",
    "df_ta.head()"
   ]
  },
  {
   "cell_type": "code",
   "execution_count": 26,
   "metadata": {},
   "outputs": [
    {
     "data": {
      "text/html": [
       "<div>\n",
       "<style scoped>\n",
       "    .dataframe tbody tr th:only-of-type {\n",
       "        vertical-align: middle;\n",
       "    }\n",
       "\n",
       "    .dataframe tbody tr th {\n",
       "        vertical-align: top;\n",
       "    }\n",
       "\n",
       "    .dataframe thead th {\n",
       "        text-align: right;\n",
       "    }\n",
       "</style>\n",
       "<table border=\"1\" class=\"dataframe\">\n",
       "  <thead>\n",
       "    <tr style=\"text-align: right;\">\n",
       "      <th></th>\n",
       "      <th>cat</th>\n",
       "      <th>anzahl</th>\n",
       "    </tr>\n",
       "  </thead>\n",
       "  <tbody>\n",
       "    <tr>\n",
       "      <th>0</th>\n",
       "      <td>LC</td>\n",
       "      <td>5</td>\n",
       "    </tr>\n",
       "    <tr>\n",
       "      <th>1</th>\n",
       "      <td>NT</td>\n",
       "      <td>2</td>\n",
       "    </tr>\n",
       "    <tr>\n",
       "      <th>2</th>\n",
       "      <td>VU</td>\n",
       "      <td>2</td>\n",
       "    </tr>\n",
       "  </tbody>\n",
       "</table>\n",
       "</div>"
      ],
      "text/plain": [
       "  cat  anzahl\n",
       "0  LC       5\n",
       "1  NT       2\n",
       "2  VU       2"
      ]
     },
     "execution_count": 26,
     "metadata": {},
     "output_type": "execute_result"
    }
   ],
   "source": [
    "df_sp.rename(columns={\"family\": \"anzahl\"}, inplace=True)\n",
    "df_sp.pop(\"dt name\")\n",
    "df_sp.pop(\"sc name\")\n",
    "df_sp.pop(\"bemerkungen\")\n",
    "df_sp.pop(\"einteilung\")\n",
    "df_sp.pop(\"untergruppe\")\n",
    "\n",
    "df_sp.head()"
   ]
  },
  {
   "cell_type": "code",
   "execution_count": 27,
   "metadata": {},
   "outputs": [
    {
     "data": {
      "text/html": [
       "<div>\n",
       "<style scoped>\n",
       "    .dataframe tbody tr th:only-of-type {\n",
       "        vertical-align: middle;\n",
       "    }\n",
       "\n",
       "    .dataframe tbody tr th {\n",
       "        vertical-align: top;\n",
       "    }\n",
       "\n",
       "    .dataframe thead th {\n",
       "        text-align: right;\n",
       "    }\n",
       "</style>\n",
       "<table border=\"1\" class=\"dataframe\">\n",
       "  <thead>\n",
       "    <tr style=\"text-align: right;\">\n",
       "      <th></th>\n",
       "      <th>cat</th>\n",
       "      <th>anzahl</th>\n",
       "    </tr>\n",
       "  </thead>\n",
       "  <tbody>\n",
       "    <tr>\n",
       "      <th>0</th>\n",
       "      <td>LC</td>\n",
       "      <td>5</td>\n",
       "    </tr>\n",
       "    <tr>\n",
       "      <th>1</th>\n",
       "      <td>NT</td>\n",
       "      <td>2</td>\n",
       "    </tr>\n",
       "    <tr>\n",
       "      <th>2</th>\n",
       "      <td>VU</td>\n",
       "      <td>2</td>\n",
       "    </tr>\n",
       "    <tr>\n",
       "      <th>0</th>\n",
       "      <td>LC</td>\n",
       "      <td>3</td>\n",
       "    </tr>\n",
       "    <tr>\n",
       "      <th>1</th>\n",
       "      <td>NT</td>\n",
       "      <td>1</td>\n",
       "    </tr>\n",
       "    <tr>\n",
       "      <th>0</th>\n",
       "      <td>LC</td>\n",
       "      <td>1</td>\n",
       "    </tr>\n",
       "    <tr>\n",
       "      <th>0</th>\n",
       "      <td>EN</td>\n",
       "      <td>2</td>\n",
       "    </tr>\n",
       "    <tr>\n",
       "      <th>1</th>\n",
       "      <td>NT</td>\n",
       "      <td>3</td>\n",
       "    </tr>\n",
       "    <tr>\n",
       "      <th>2</th>\n",
       "      <td>VU</td>\n",
       "      <td>3</td>\n",
       "    </tr>\n",
       "  </tbody>\n",
       "</table>\n",
       "</div>"
      ],
      "text/plain": [
       "  cat  anzahl\n",
       "0  LC       5\n",
       "1  NT       2\n",
       "2  VU       2\n",
       "0  LC       3\n",
       "1  NT       1\n",
       "0  LC       1\n",
       "0  EN       2\n",
       "1  NT       3\n",
       "2  VU       3"
      ]
     },
     "execution_count": 27,
     "metadata": {},
     "output_type": "execute_result"
    }
   ],
   "source": [
    "df_andere= df_sp.append([df_ta, df_ko, df_an])\n",
    "df_andere"
   ]
  },
  {
   "cell_type": "code",
   "execution_count": 28,
   "metadata": {},
   "outputs": [
    {
     "data": {
      "image/png": "[encoded data removed]",
      "text/plain": [
       "<Figure size 360x288 with 1 Axes>"
      ]
     },
     "metadata": {},
     "output_type": "display_data"
    }
   ],
   "source": [
    "values = [0, 0, 0, 2, 5, 6, 9, 0, 0]\n",
    "colors = ['r', 'r', 'r', 'r', 'r', 'g', \"g\", \"grey\", \"grey\"]\n",
    "labels = [\n",
    "    'EX: ausgestorben', 'RE: CH ausgestorben',\n",
    "    'CR: v. aussterben bedroht', 'EN: stark gefährdet', \n",
    "    'VU: verletzlich',\"NT: potenziell gef.\",\n",
    "    \"LC: nicht gef.\",\"DD: ungen. Daten\",\"NE: nicht beurteilt\"]\n",
    "\n",
    "\n",
    "fig1, ax1 = plt.subplots(figsize=(5, 4))\n",
    "fig1.subplots_adjust(0.3,0,1,1)\n",
    "plt.pie(values, colors=colors, labels= values, counterclock=False,startangle=90)\n",
    "plt.title('Gefährdung Andere, 22 Arten')\n",
    "\n",
    "total = sum(values)\n",
    "plt.legend(\n",
    "    loc='upper left',\n",
    "    labels=['%s, %1.1f%%' % (\n",
    "        l, (float(s) / total) * 100) for l, s in zip(labels, values)],\n",
    "    \n",
    "    bbox_to_anchor=(1.0, 0.5),\n",
    "    bbox_transform=fig1.transFigure\n",
    ")\n",
    "plt.show()"
   ]
  },
  {
   "cell_type": "code",
   "execution_count": 29,
   "metadata": {},
   "outputs": [
    {
     "data": {
      "text/html": [
       "<div>\n",
       "<style scoped>\n",
       "    .dataframe tbody tr th:only-of-type {\n",
       "        vertical-align: middle;\n",
       "    }\n",
       "\n",
       "    .dataframe tbody tr th {\n",
       "        vertical-align: top;\n",
       "    }\n",
       "\n",
       "    .dataframe thead th {\n",
       "        text-align: right;\n",
       "    }\n",
       "</style>\n",
       "<table border=\"1\" class=\"dataframe\">\n",
       "  <thead>\n",
       "    <tr style=\"text-align: right;\">\n",
       "      <th></th>\n",
       "      <th>cat</th>\n",
       "      <th>anzahl</th>\n",
       "    </tr>\n",
       "  </thead>\n",
       "  <tbody>\n",
       "    <tr>\n",
       "      <th>0</th>\n",
       "      <td>CR</td>\n",
       "      <td>2</td>\n",
       "    </tr>\n",
       "    <tr>\n",
       "      <th>1</th>\n",
       "      <td>EN</td>\n",
       "      <td>4</td>\n",
       "    </tr>\n",
       "    <tr>\n",
       "      <th>2</th>\n",
       "      <td>LC</td>\n",
       "      <td>64</td>\n",
       "    </tr>\n",
       "    <tr>\n",
       "      <th>3</th>\n",
       "      <td>NT</td>\n",
       "      <td>14</td>\n",
       "    </tr>\n",
       "    <tr>\n",
       "      <th>4</th>\n",
       "      <td>RE</td>\n",
       "      <td>4</td>\n",
       "    </tr>\n",
       "  </tbody>\n",
       "</table>\n",
       "</div>"
      ],
      "text/plain": [
       "  cat  anzahl\n",
       "0  CR       2\n",
       "1  EN       4\n",
       "2  LC      64\n",
       "3  NT      14\n",
       "4  RE       4"
      ]
     },
     "execution_count": 29,
     "metadata": {},
     "output_type": "execute_result"
    }
   ],
   "source": [
    "df_si.rename(columns={\"family\": \"anzahl\"}, inplace=True)\n",
    "df_si.pop(\"dt name\")\n",
    "df_si.pop(\"sc name\")\n",
    "df_si.pop(\"bemerkungen\")\n",
    "df_si.pop(\"einteilung\")\n",
    "df_si.pop(\"untergruppe\")\n",
    "\n",
    "df_si.head()"
   ]
  },
  {
   "cell_type": "code",
   "execution_count": 30,
   "metadata": {},
   "outputs": [
    {
     "data": {
      "image/png": "[encoded data removed]",
      "text/plain": [
       "<Figure size 360x288 with 1 Axes>"
      ]
     },
     "metadata": {},
     "output_type": "display_data"
    }
   ],
   "source": [
    "values = [0, 4, 2, 4, 0, 14, 64, 0, 0]\n",
    "colors = ['r', 'r', 'r', 'r', 'r', 'g', \"g\", \"grey\", \"grey\"]\n",
    "labels = [\n",
    "    'EX: ausgestorben', 'RE: CH ausgestorben',\n",
    "    'CR: v. aussterben bedroht', 'EN: stark gefährdet', \n",
    "    'VU: verletzlich',\"NT: potenziell gef.\",\n",
    "    \"LC: nicht gef.\",\"DD: ungen. Daten\",\"NE: nicht beurteilt\"]\n",
    "\n",
    "\n",
    "fig1, ax1 = plt.subplots(figsize=(5, 4))\n",
    "fig1.subplots_adjust(0.3,0,1,1)\n",
    "plt.pie(values, colors=colors, labels= values, counterclock=False,startangle=90)\n",
    "plt.title('Gefährdung Singvögel, 88 Arten')\n",
    "\n",
    "total = sum(values)\n",
    "plt.legend(\n",
    "    loc='upper left',\n",
    "    labels=['%s, %1.1f%%' % (\n",
    "        l, (float(s) / total) * 100) for l, s in zip(labels, values)],\n",
    "    \n",
    "    bbox_to_anchor=(1.0, 0.5),\n",
    "    bbox_transform=fig1.transFigure\n",
    ")\n",
    "plt.show()"
   ]
  },
  {
   "cell_type": "code",
   "execution_count": 31,
   "metadata": {},
   "outputs": [
    {
     "data": {
      "text/html": [
       "<div>\n",
       "<style scoped>\n",
       "    .dataframe tbody tr th:only-of-type {\n",
       "        vertical-align: middle;\n",
       "    }\n",
       "\n",
       "    .dataframe tbody tr th {\n",
       "        vertical-align: top;\n",
       "    }\n",
       "\n",
       "    .dataframe thead th {\n",
       "        text-align: right;\n",
       "    }\n",
       "</style>\n",
       "<table border=\"1\" class=\"dataframe\">\n",
       "  <thead>\n",
       "    <tr style=\"text-align: right;\">\n",
       "      <th></th>\n",
       "      <th>cat</th>\n",
       "      <th>anzahl</th>\n",
       "    </tr>\n",
       "  </thead>\n",
       "  <tbody>\n",
       "    <tr>\n",
       "      <th>0</th>\n",
       "      <td>CR</td>\n",
       "      <td>1</td>\n",
       "    </tr>\n",
       "    <tr>\n",
       "      <th>1</th>\n",
       "      <td>EN</td>\n",
       "      <td>2</td>\n",
       "    </tr>\n",
       "    <tr>\n",
       "      <th>2</th>\n",
       "      <td>LC</td>\n",
       "      <td>1</td>\n",
       "    </tr>\n",
       "    <tr>\n",
       "      <th>3</th>\n",
       "      <td>VU</td>\n",
       "      <td>1</td>\n",
       "    </tr>\n",
       "  </tbody>\n",
       "</table>\n",
       "</div>"
      ],
      "text/plain": [
       "  cat  anzahl\n",
       "0  CR       1\n",
       "1  EN       2\n",
       "2  LC       1\n",
       "3  VU       1"
      ]
     },
     "execution_count": 31,
     "metadata": {},
     "output_type": "execute_result"
    }
   ],
   "source": [
    "df_sch.rename(columns={\"family\": \"anzahl\"}, inplace=True)\n",
    "df_sch.pop(\"dt name\")\n",
    "df_sch.pop(\"sc name\")\n",
    "df_sch.pop(\"bemerkungen\")\n",
    "df_sch.pop(\"einteilung\")\n",
    "df_sch.pop(\"untergruppe\")\n",
    "\n",
    "df_sch.head()"
   ]
  },
  {
   "cell_type": "code",
   "execution_count": 32,
   "metadata": {},
   "outputs": [
    {
     "data": {
      "image/png": "[encoded data removed]",
      "text/plain": [
       "<Figure size 360x288 with 1 Axes>"
      ]
     },
     "metadata": {},
     "output_type": "display_data"
    }
   ],
   "source": [
    "values = [0, 0, 1, 2, 1, 0, 1, 0, 0]\n",
    "colors = ['r', 'r', 'r', 'r', 'r', 'g', \"g\", \"grey\", \"grey\"]\n",
    "labels = [\n",
    "    'EX: ausgestorben', 'RE: CH ausgestorben',\n",
    "    'CR: v. aussterben bedroht', 'EN: stark gefährdet', \n",
    "    'VU: verletzlich',\"NT: potenziell gef.\",\n",
    "    \"LC: nicht gef.\",\"DD: ungen. Daten\",\"NE: nicht beurteilt\"]\n",
    "\n",
    "\n",
    "fig1, ax1 = plt.subplots(figsize=(5, 4))\n",
    "fig1.subplots_adjust(0.3,0,1,1)\n",
    "plt.pie(values, colors=colors, labels= values, counterclock=False,startangle=90)\n",
    "plt.title('Gefährdung Schreitvögel, 5 Arten')\n",
    "\n",
    "total = sum(values)\n",
    "plt.legend(\n",
    "    loc='upper left',\n",
    "    labels=['%s, %1.1f%%' % (\n",
    "        l, (float(s) / total) * 100) for l, s in zip(labels, values)],\n",
    "    \n",
    "    bbox_to_anchor=(1.0, 0.5),\n",
    "    bbox_transform=fig1.transFigure\n",
    ")\n",
    "plt.show()"
   ]
  },
  {
   "cell_type": "code",
   "execution_count": 33,
   "metadata": {},
   "outputs": [
    {
     "data": {
      "text/html": [
       "<div>\n",
       "<style scoped>\n",
       "    .dataframe tbody tr th:only-of-type {\n",
       "        vertical-align: middle;\n",
       "    }\n",
       "\n",
       "    .dataframe tbody tr th {\n",
       "        vertical-align: top;\n",
       "    }\n",
       "\n",
       "    .dataframe thead th {\n",
       "        text-align: right;\n",
       "    }\n",
       "</style>\n",
       "<table border=\"1\" class=\"dataframe\">\n",
       "  <thead>\n",
       "    <tr style=\"text-align: right;\">\n",
       "      <th></th>\n",
       "      <th>cat</th>\n",
       "      <th>anzahl</th>\n",
       "    </tr>\n",
       "  </thead>\n",
       "  <tbody>\n",
       "    <tr>\n",
       "      <th>0</th>\n",
       "      <td>CR</td>\n",
       "      <td>1</td>\n",
       "    </tr>\n",
       "    <tr>\n",
       "      <th>1</th>\n",
       "      <td>EN</td>\n",
       "      <td>1</td>\n",
       "    </tr>\n",
       "    <tr>\n",
       "      <th>2</th>\n",
       "      <td>LC</td>\n",
       "      <td>3</td>\n",
       "    </tr>\n",
       "    <tr>\n",
       "      <th>3</th>\n",
       "      <td>VU</td>\n",
       "      <td>2</td>\n",
       "    </tr>\n",
       "  </tbody>\n",
       "</table>\n",
       "</div>"
      ],
      "text/plain": [
       "  cat  anzahl\n",
       "0  CR       1\n",
       "1  EN       1\n",
       "2  LC       3\n",
       "3  VU       2"
      ]
     },
     "execution_count": 33,
     "metadata": {},
     "output_type": "execute_result"
    }
   ],
   "source": [
    "df_ra.rename(columns={\"family\": \"anzahl\"}, inplace=True)\n",
    "df_ra.pop(\"dt name\")\n",
    "df_ra.pop(\"sc name\")\n",
    "df_ra.pop(\"bemerkungen\")\n",
    "df_ra.pop(\"einteilung\")\n",
    "df_ra.pop(\"untergruppe\")\n",
    "\n",
    "df_ra.head()"
   ]
  },
  {
   "cell_type": "code",
   "execution_count": 34,
   "metadata": {},
   "outputs": [
    {
     "data": {
      "image/png": "[encoded data removed]",
      "text/plain": [
       "<Figure size 360x288 with 1 Axes>"
      ]
     },
     "metadata": {},
     "output_type": "display_data"
    }
   ],
   "source": [
    "values = [0, 0, 1, 1, 2, 0, 3, 0, 0]\n",
    "colors = ['r', 'r', 'r', 'r', 'r', 'g', \"g\", \"grey\", \"grey\"]\n",
    "labels = [\n",
    "    'EX: ausgestorben', 'RE: CH ausgestorben',\n",
    "    'CR: v. aussterben bedroht', 'EN: stark gefährdet', \n",
    "    'VU: verletzlich',\"NT: potenziell gef.\",\n",
    "    \"LC: nicht gef.\",\"DD: ungen. Daten\",\"NE: nicht beurteilt\"]\n",
    "\n",
    "\n",
    "fig1, ax1 = plt.subplots(figsize=(5, 4))\n",
    "fig1.subplots_adjust(0.3,0,1,1)\n",
    "plt.pie(values, colors=colors, labels= values, counterclock=False,startangle=90)\n",
    "plt.title('Gefährdung Rallen, 7 Arten')\n",
    "\n",
    "total = sum(values)\n",
    "plt.legend(\n",
    "    loc='upper left',\n",
    "    labels=['%s, %1.1f%%' % (\n",
    "        l, (float(s) / total) * 100) for l, s in zip(labels, values)],\n",
    "    \n",
    "    bbox_to_anchor=(1.0, 0.5),\n",
    "    bbox_transform=fig1.transFigure\n",
    ")\n",
    "plt.show()"
   ]
  },
  {
   "cell_type": "code",
   "execution_count": 35,
   "metadata": {},
   "outputs": [
    {
     "data": {
      "text/html": [
       "<div>\n",
       "<style scoped>\n",
       "    .dataframe tbody tr th:only-of-type {\n",
       "        vertical-align: middle;\n",
       "    }\n",
       "\n",
       "    .dataframe tbody tr th {\n",
       "        vertical-align: top;\n",
       "    }\n",
       "\n",
       "    .dataframe thead th {\n",
       "        text-align: right;\n",
       "    }\n",
       "</style>\n",
       "<table border=\"1\" class=\"dataframe\">\n",
       "  <thead>\n",
       "    <tr style=\"text-align: right;\">\n",
       "      <th></th>\n",
       "      <th>cat</th>\n",
       "      <th>anzahl</th>\n",
       "    </tr>\n",
       "  </thead>\n",
       "  <tbody>\n",
       "    <tr>\n",
       "      <th>0</th>\n",
       "      <td>CR</td>\n",
       "      <td>1</td>\n",
       "    </tr>\n",
       "    <tr>\n",
       "      <th>1</th>\n",
       "      <td>EN</td>\n",
       "      <td>1</td>\n",
       "    </tr>\n",
       "    <tr>\n",
       "      <th>2</th>\n",
       "      <td>LC</td>\n",
       "      <td>1</td>\n",
       "    </tr>\n",
       "    <tr>\n",
       "      <th>3</th>\n",
       "      <td>NT</td>\n",
       "      <td>4</td>\n",
       "    </tr>\n",
       "    <tr>\n",
       "      <th>4</th>\n",
       "      <td>RE</td>\n",
       "      <td>1</td>\n",
       "    </tr>\n",
       "  </tbody>\n",
       "</table>\n",
       "</div>"
      ],
      "text/plain": [
       "  cat  anzahl\n",
       "0  CR       1\n",
       "1  EN       1\n",
       "2  LC       1\n",
       "3  NT       4\n",
       "4  RE       1"
      ]
     },
     "execution_count": 35,
     "metadata": {},
     "output_type": "execute_result"
    }
   ],
   "source": [
    "df_hu.rename(columns={\"family\": \"anzahl\"}, inplace=True)\n",
    "df_hu.pop(\"dt name\")\n",
    "df_hu.pop(\"sc name\")\n",
    "df_hu.pop(\"bemerkungen\")\n",
    "df_hu.pop(\"einteilung\")\n",
    "df_hu.pop(\"untergruppe\")\n",
    "\n",
    "df_hu.head()"
   ]
  },
  {
   "cell_type": "code",
   "execution_count": 36,
   "metadata": {},
   "outputs": [
    {
     "data": {
      "image/png": "[encoded data removed]",
      "text/plain": [
       "<Figure size 360x288 with 1 Axes>"
      ]
     },
     "metadata": {},
     "output_type": "display_data"
    }
   ],
   "source": [
    "values = [0, 1, 1, 1, 0, 4, 1, 0, 0]\n",
    "colors = ['r', 'r', 'r', 'r', 'r', 'g', \"g\", \"grey\", \"grey\"]\n",
    "labels = [\n",
    "    'EX: ausgestorben', 'RE: CH ausgestorben',\n",
    "    'CR: v. aussterben bedroht', 'EN: stark gefährdet', \n",
    "    'VU: verletzlich',\"NT: potenziell gef.\",\n",
    "    \"LC: nicht gef.\",\"DD: ungen. Daten\",\"NE: nicht beurteilt\"]\n",
    "\n",
    "\n",
    "fig1, ax1 = plt.subplots(figsize=(5, 4))\n",
    "fig1.subplots_adjust(0.3,0,1,1)\n",
    "plt.pie(values, colors=colors, labels= values, counterclock=False,startangle=90)\n",
    "plt.title('Gefährdung Hühner, 8 Arten')\n",
    "\n",
    "total = sum(values)\n",
    "plt.legend(\n",
    "    loc='upper left',\n",
    "    labels=['%s, %1.1f%%' % (\n",
    "        l, (float(s) / total) * 100) for l, s in zip(labels, values)],\n",
    "    \n",
    "    bbox_to_anchor=(1.0, 0.5),\n",
    "    bbox_transform=fig1.transFigure\n",
    ")\n",
    "plt.show()"
   ]
  },
  {
   "cell_type": "code",
   "execution_count": 37,
   "metadata": {},
   "outputs": [
    {
     "data": {
      "text/html": [
       "<div>\n",
       "<style scoped>\n",
       "    .dataframe tbody tr th:only-of-type {\n",
       "        vertical-align: middle;\n",
       "    }\n",
       "\n",
       "    .dataframe tbody tr th {\n",
       "        vertical-align: top;\n",
       "    }\n",
       "\n",
       "    .dataframe thead th {\n",
       "        text-align: right;\n",
       "    }\n",
       "</style>\n",
       "<table border=\"1\" class=\"dataframe\">\n",
       "  <thead>\n",
       "    <tr style=\"text-align: right;\">\n",
       "      <th></th>\n",
       "      <th>cat</th>\n",
       "      <th>anzahl</th>\n",
       "    </tr>\n",
       "  </thead>\n",
       "  <tbody>\n",
       "    <tr>\n",
       "      <th>0</th>\n",
       "      <td>CR</td>\n",
       "      <td>1</td>\n",
       "    </tr>\n",
       "    <tr>\n",
       "      <th>1</th>\n",
       "      <td>LC</td>\n",
       "      <td>5</td>\n",
       "    </tr>\n",
       "    <tr>\n",
       "      <th>2</th>\n",
       "      <td>NT</td>\n",
       "      <td>4</td>\n",
       "    </tr>\n",
       "    <tr>\n",
       "      <th>3</th>\n",
       "      <td>RE</td>\n",
       "      <td>1</td>\n",
       "    </tr>\n",
       "    <tr>\n",
       "      <th>4</th>\n",
       "      <td>VU</td>\n",
       "      <td>3</td>\n",
       "    </tr>\n",
       "  </tbody>\n",
       "</table>\n",
       "</div>"
      ],
      "text/plain": [
       "  cat  anzahl\n",
       "0  CR       1\n",
       "1  LC       5\n",
       "2  NT       4\n",
       "3  RE       1\n",
       "4  VU       3"
      ]
     },
     "execution_count": 37,
     "metadata": {},
     "output_type": "execute_result"
    }
   ],
   "source": [
    "df_gr.rename(columns={\"family\": \"anzahl\"}, inplace=True)\n",
    "df_gr.pop(\"dt name\")\n",
    "df_gr.pop(\"sc name\")\n",
    "df_gr.pop(\"bemerkungen\")\n",
    "df_gr.pop(\"einteilung\")\n",
    "df_gr.pop(\"untergruppe\")\n",
    "\n",
    "df_gr.head()"
   ]
  },
  {
   "cell_type": "code",
   "execution_count": 38,
   "metadata": {},
   "outputs": [
    {
     "data": {
      "image/png": "[encoded data removed]",
      "text/plain": [
       "<Figure size 360x288 with 1 Axes>"
      ]
     },
     "metadata": {},
     "output_type": "display_data"
    }
   ],
   "source": [
    "values = [0, 1, 1, 0, 3, 4, 5, 0, 0]\n",
    "colors = ['r', 'r', 'r', 'r', 'r', 'g', \"g\", \"grey\", \"grey\"]\n",
    "labels = [\n",
    "    'EX: ausgestorben', 'RE: CH ausgestorben',\n",
    "    'CR: v. aussterben bedroht', 'EN: stark gefährdet', \n",
    "    'VU: verletzlich',\"NT: potenziell gef.\",\n",
    "    \"LC: nicht gef.\",\"DD: ungen. Daten\",\"NE: nicht beurteilt\"]\n",
    "\n",
    "\n",
    "fig1, ax1 = plt.subplots(figsize=(5, 4))\n",
    "fig1.subplots_adjust(0.3,0,1,1)\n",
    "plt.pie(values, colors=colors, labels= values, counterclock=False,startangle=90)\n",
    "plt.title('Gefährdung Greifvögel, 14 Arten')\n",
    "\n",
    "total = sum(values)\n",
    "plt.legend(\n",
    "    loc='upper left',\n",
    "    labels=['%s, %1.1f%%' % (\n",
    "        l, (float(s) / total) * 100) for l, s in zip(labels, values)],\n",
    "    \n",
    "    bbox_to_anchor=(1.0, 0.5),\n",
    "    bbox_transform=fig1.transFigure\n",
    ")\n",
    "plt.show()"
   ]
  },
  {
   "cell_type": "code",
   "execution_count": 39,
   "metadata": {},
   "outputs": [
    {
     "data": {
      "text/html": [
       "<div>\n",
       "<style scoped>\n",
       "    .dataframe tbody tr th:only-of-type {\n",
       "        vertical-align: middle;\n",
       "    }\n",
       "\n",
       "    .dataframe tbody tr th {\n",
       "        vertical-align: top;\n",
       "    }\n",
       "\n",
       "    .dataframe thead th {\n",
       "        text-align: right;\n",
       "    }\n",
       "</style>\n",
       "<table border=\"1\" class=\"dataframe\">\n",
       "  <thead>\n",
       "    <tr style=\"text-align: right;\">\n",
       "      <th></th>\n",
       "      <th>cat</th>\n",
       "      <th>anzahl</th>\n",
       "    </tr>\n",
       "  </thead>\n",
       "  <tbody>\n",
       "    <tr>\n",
       "      <th>0</th>\n",
       "      <td>EN</td>\n",
       "      <td>3</td>\n",
       "    </tr>\n",
       "    <tr>\n",
       "      <th>1</th>\n",
       "      <td>LC</td>\n",
       "      <td>3</td>\n",
       "    </tr>\n",
       "    <tr>\n",
       "      <th>2</th>\n",
       "      <td>NT</td>\n",
       "      <td>2</td>\n",
       "    </tr>\n",
       "  </tbody>\n",
       "</table>\n",
       "</div>"
      ],
      "text/plain": [
       "  cat  anzahl\n",
       "0  EN       3\n",
       "1  LC       3\n",
       "2  NT       2"
      ]
     },
     "execution_count": 39,
     "metadata": {},
     "output_type": "execute_result"
    }
   ],
   "source": [
    "df_eu.rename(columns={\"family\": \"anzahl\"}, inplace=True)\n",
    "df_eu.pop(\"dt name\")\n",
    "df_eu.pop(\"sc name\")\n",
    "df_eu.pop(\"bemerkungen\")\n",
    "df_eu.pop(\"einteilung\")\n",
    "df_eu.pop(\"untergruppe\")\n",
    "\n",
    "df_eu.head()"
   ]
  },
  {
   "cell_type": "code",
   "execution_count": 40,
   "metadata": {},
   "outputs": [
    {
     "data": {
      "image/png": "[encoded data removed]",
      "text/plain": [
       "<Figure size 360x288 with 1 Axes>"
      ]
     },
     "metadata": {},
     "output_type": "display_data"
    }
   ],
   "source": [
    "values = [0, 0, 0, 3, 9, 2, 3, 0, 0]\n",
    "colors = ['r', 'r', 'r', 'r', 'r', 'g', \"g\", \"grey\", \"grey\"]\n",
    "labels = [\n",
    "    'EX: ausgestorben', 'RE: CH ausgestorben',\n",
    "    'CR: v. aussterben bedroht', 'EN: stark gefährdet', \n",
    "    'VU: verletzlich',\"NT: potenziell gef.\",\n",
    "    \"LC: nicht gef.\",\"DD: ungen. Daten\",\"NE: nicht beurteilt\"]\n",
    "\n",
    "\n",
    "fig1, ax1 = plt.subplots(figsize=(5, 4))\n",
    "fig1.subplots_adjust(0.3,0,1,1)\n",
    "plt.pie(values, colors=colors, labels= values, counterclock=False,startangle=90)\n",
    "plt.title('Gefährdung Eulen, 8 Arten')\n",
    "\n",
    "total = sum(values)\n",
    "plt.legend(\n",
    "    loc='upper left',\n",
    "    labels=['%s, %1.1f%%' % (\n",
    "        l, (float(s) / total) * 100) for l, s in zip(labels, values)],\n",
    "    \n",
    "    bbox_to_anchor=(1.0, 0.5),\n",
    "    bbox_transform=fig1.transFigure\n",
    ")\n",
    "plt.show()"
   ]
  },
  {
   "cell_type": "code",
   "execution_count": 41,
   "metadata": {},
   "outputs": [
    {
     "data": {
      "text/html": [
       "<div>\n",
       "<style scoped>\n",
       "    .dataframe tbody tr th:only-of-type {\n",
       "        vertical-align: middle;\n",
       "    }\n",
       "\n",
       "    .dataframe tbody tr th {\n",
       "        vertical-align: top;\n",
       "    }\n",
       "\n",
       "    .dataframe thead th {\n",
       "        text-align: right;\n",
       "    }\n",
       "</style>\n",
       "<table border=\"1\" class=\"dataframe\">\n",
       "  <thead>\n",
       "    <tr style=\"text-align: right;\">\n",
       "      <th></th>\n",
       "      <th>cat</th>\n",
       "      <th>anzahl</th>\n",
       "    </tr>\n",
       "  </thead>\n",
       "  <tbody>\n",
       "    <tr>\n",
       "      <th>0</th>\n",
       "      <td>EN</td>\n",
       "      <td>4</td>\n",
       "    </tr>\n",
       "    <tr>\n",
       "      <th>1</th>\n",
       "      <td>LC</td>\n",
       "      <td>2</td>\n",
       "    </tr>\n",
       "    <tr>\n",
       "      <th>2</th>\n",
       "      <td>NT</td>\n",
       "      <td>1</td>\n",
       "    </tr>\n",
       "    <tr>\n",
       "      <th>3</th>\n",
       "      <td>VU</td>\n",
       "      <td>9</td>\n",
       "    </tr>\n",
       "  </tbody>\n",
       "</table>\n",
       "</div>"
      ],
      "text/plain": [
       "  cat  anzahl\n",
       "0  EN       4\n",
       "1  LC       2\n",
       "2  NT       1\n",
       "3  VU       9"
      ]
     },
     "execution_count": 41,
     "metadata": {},
     "output_type": "execute_result"
    }
   ],
   "source": [
    "df_en.rename(columns={\"family\": \"anzahl\"}, inplace=True)\n",
    "df_en.pop(\"dt name\")\n",
    "df_en.pop(\"sc name\")\n",
    "df_en.pop(\"bemerkungen\")\n",
    "df_en.pop(\"einteilung\")\n",
    "df_en.pop(\"untergruppe\")\n",
    "\n",
    "df_en.head()"
   ]
  },
  {
   "cell_type": "code",
   "execution_count": 42,
   "metadata": {},
   "outputs": [
    {
     "data": {
      "image/png": "[encoded data removed]",
      "text/plain": [
       "<Figure size 360x288 with 1 Axes>"
      ]
     },
     "metadata": {},
     "output_type": "display_data"
    }
   ],
   "source": [
    "values = [0, 0, 0, 4, 9, 1, 2, 0, 0]\n",
    "colors = ['r', 'r', 'r', 'r', 'r', 'g', \"g\", \"grey\", \"grey\"]\n",
    "labels = [\n",
    "    'EX: ausgestorben', 'RE: CH ausgestorben',\n",
    "    'CR: v. aussterben bedroht', 'EN: stark gefährdet', \n",
    "    'VU: verletzlich',\"NT: potenziell gef.\",\n",
    "    \"LC: nicht gef.\",\"DD: ungen. Daten\",\"NE: nicht beurteilt\"]\n",
    "\n",
    "\n",
    "fig1, ax1 = plt.subplots(figsize=(5, 4))\n",
    "fig1.subplots_adjust(0.3,0,1,1)\n",
    "plt.pie(values, colors=colors, labels= values, counterclock=False,startangle=90)\n",
    "plt.title('Gefährdung Enten und Taucher, 16 Arten')\n",
    "\n",
    "total = sum(values)\n",
    "plt.legend(\n",
    "    loc='upper left',\n",
    "    labels=['%s, %1.1f%%' % (\n",
    "        l, (float(s) / total) * 100) for l, s in zip(labels, values)],\n",
    "    \n",
    "    bbox_to_anchor=(1.0, 0.5),\n",
    "    bbox_transform=fig1.transFigure\n",
    ")\n",
    "plt.show()"
   ]
  },
  {
   "cell_type": "code",
   "execution_count": 43,
   "metadata": {},
   "outputs": [
    {
     "data": {
      "text/html": [
       "<div>\n",
       "<style scoped>\n",
       "    .dataframe tbody tr th:only-of-type {\n",
       "        vertical-align: middle;\n",
       "    }\n",
       "\n",
       "    .dataframe tbody tr th {\n",
       "        vertical-align: top;\n",
       "    }\n",
       "\n",
       "    .dataframe thead th {\n",
       "        text-align: right;\n",
       "    }\n",
       "</style>\n",
       "<table border=\"1\" class=\"dataframe\">\n",
       "  <thead>\n",
       "    <tr style=\"text-align: right;\">\n",
       "      <th></th>\n",
       "      <th>cat</th>\n",
       "      <th>anzahl</th>\n",
       "    </tr>\n",
       "  </thead>\n",
       "  <tbody>\n",
       "    <tr>\n",
       "      <th>0</th>\n",
       "      <td>CR</td>\n",
       "      <td>3</td>\n",
       "    </tr>\n",
       "    <tr>\n",
       "      <th>1</th>\n",
       "      <td>EN</td>\n",
       "      <td>4</td>\n",
       "    </tr>\n",
       "    <tr>\n",
       "      <th>2</th>\n",
       "      <td>LC</td>\n",
       "      <td>1</td>\n",
       "    </tr>\n",
       "    <tr>\n",
       "      <th>3</th>\n",
       "      <td>NT</td>\n",
       "      <td>1</td>\n",
       "    </tr>\n",
       "    <tr>\n",
       "      <th>4</th>\n",
       "      <td>RE</td>\n",
       "      <td>1</td>\n",
       "    </tr>\n",
       "  </tbody>\n",
       "</table>\n",
       "</div>"
      ],
      "text/plain": [
       "  cat  anzahl\n",
       "0  CR       3\n",
       "1  EN       4\n",
       "2  LC       1\n",
       "3  NT       1\n",
       "4  RE       1"
      ]
     },
     "execution_count": 43,
     "metadata": {},
     "output_type": "execute_result"
    }
   ],
   "source": [
    "df_wat.rename(columns={\"family\": \"anzahl\"}, inplace=True)\n",
    "df_wat.pop(\"dt name\")\n",
    "df_wat.pop(\"sc name\")\n",
    "df_wat.pop(\"bemerkungen\")\n",
    "df_wat.pop(\"einteilung\")\n",
    "df_wat.pop(\"untergruppe\")\n",
    "\n",
    "df_wat.head()"
   ]
  },
  {
   "cell_type": "code",
   "execution_count": 44,
   "metadata": {},
   "outputs": [
    {
     "data": {
      "image/png": "[encoded data removed]",
      "text/plain": [
       "<Figure size 360x288 with 1 Axes>"
      ]
     },
     "metadata": {},
     "output_type": "display_data"
    }
   ],
   "source": [
    "values = [0, 1, 3, 4, 0, 1, 1, 0, 0]\n",
    "colors = ['r', 'r', 'r', 'r', 'r', 'g', \"g\", \"grey\", \"grey\"]\n",
    "labels = [\n",
    "    'EX: ausgestorben', 'RE: CH ausgestorben',\n",
    "    'CR: v. aussterben bedroht', 'EN: stark gefährdet', \n",
    "    'VU: verletzlich',\"NT: potenziell gef.\",\n",
    "    \"LC: nicht gef.\",\"DD: ungen. Daten\",\"NE: nicht beurteilt\"]\n",
    "\n",
    "\n",
    "fig1, ax1 = plt.subplots(figsize=(5, 4))\n",
    "fig1.subplots_adjust(0.3,0,1,1)\n",
    "plt.pie(values, colors=colors, labels= values, counterclock=False,startangle=90)\n",
    "plt.title('Gefährdung Watvögel, 10 Arten')\n",
    "\n",
    "total = sum(values)\n",
    "plt.legend(\n",
    "    loc='upper left',\n",
    "    labels=['%s, %1.1f%%' % (\n",
    "        l, (float(s) / total) * 100) for l, s in zip(labels, values)],\n",
    "    \n",
    "    bbox_to_anchor=(1.0, 0.5),\n",
    "    bbox_transform=fig1.transFigure\n",
    ")\n",
    "plt.show()"
   ]
  },
  {
   "cell_type": "code",
   "execution_count": null,
   "metadata": {},
   "outputs": [],
   "source": []
  },
  {
   "cell_type": "code",
   "execution_count": null,
   "metadata": {},
   "outputs": [],
   "source": []
  }
 ],
 "metadata": {
  "kernelspec": {
   "display_name": "Python 3",
   "language": "python",
   "name": "python3"
  },
  "language_info": {
   "codemirror_mode": {
    "name": "ipython",
    "version": 3
   },
   "file_extension": ".py",
   "mimetype": "text/x-python",
   "name": "python",
   "nbconvert_exporter": "python",
   "pygments_lexer": "ipython3",
   "version": "3.7.0"
  }
 },
 "nbformat": 4,
 "nbformat_minor": 2
}
