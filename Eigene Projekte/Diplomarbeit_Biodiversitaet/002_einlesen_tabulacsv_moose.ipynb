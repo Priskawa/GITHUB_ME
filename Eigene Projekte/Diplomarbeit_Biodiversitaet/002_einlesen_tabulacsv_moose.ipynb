{
 "cells": [
  {
   "cell_type": "markdown",
   "metadata": {},
   "source": [
    "# MAZ Diplomarbeit - Biodiversität in der Schweiz#"
   ]
  },
  {
   "cell_type": "code",
   "execution_count": null,
   "metadata": {},
   "outputs": [],
   "source": []
  },
  {
   "cell_type": "code",
   "execution_count": 1,
   "metadata": {},
   "outputs": [],
   "source": [
    "import pandas as pd\n",
    "import matplotlib.pyplot as plt\n",
    "%matplotlib inline"
   ]
  },
  {
   "cell_type": "code",
   "execution_count": 2,
   "metadata": {},
   "outputs": [],
   "source": [
    "df = pd.read_csv(\"01_source/tabula_ch/tabula_moose.csv\")"
   ]
  },
  {
   "cell_type": "code",
   "execution_count": 3,
   "metadata": {},
   "outputs": [
    {
     "data": {
      "text/html": [
       "<div>\n",
       "<style scoped>\n",
       "    .dataframe tbody tr th:only-of-type {\n",
       "        vertical-align: middle;\n",
       "    }\n",
       "\n",
       "    .dataframe tbody tr th {\n",
       "        vertical-align: top;\n",
       "    }\n",
       "\n",
       "    .dataframe thead th {\n",
       "        text-align: right;\n",
       "    }\n",
       "</style>\n",
       "<table border=\"1\" class=\"dataframe\">\n",
       "  <thead>\n",
       "    <tr style=\"text-align: right;\">\n",
       "      <th></th>\n",
       "      <th>FAMILY</th>\n",
       "      <th>Scientific name</th>\n",
       "      <th>CAT</th>\n",
       "      <th>Kriterien IUCN</th>\n",
       "      <th>NHV</th>\n",
       "      <th>Bemerkungen</th>\n",
       "    </tr>\n",
       "  </thead>\n",
       "  <tbody>\n",
       "    <tr>\n",
       "      <th>0</th>\n",
       "      <td>Hornmoose – Anthocerotae</td>\n",
       "      <td>Anthoceros agrestis Paton</td>\n",
       "      <td>LC</td>\n",
       "      <td>NaN</td>\n",
       "      <td>NaN</td>\n",
       "      <td>abhängig von ökologischen Ausgleichsmassnahmen</td>\n",
       "    </tr>\n",
       "    <tr>\n",
       "      <th>1</th>\n",
       "      <td>Hornmoose – Anthocerotae</td>\n",
       "      <td>Phaeoceros laevis (L.) Prosk.</td>\n",
       "      <td>NE</td>\n",
       "      <td>NaN</td>\n",
       "      <td>NaN</td>\n",
       "      <td>NaN</td>\n",
       "    </tr>\n",
       "    <tr>\n",
       "      <th>2</th>\n",
       "      <td>Hornmoose – Anthocerotae</td>\n",
       "      <td>Phaeoceros laevis (L.) Prosk. subsp. carolinia...</td>\n",
       "      <td>EN</td>\n",
       "      <td>A2b; B1ab(iv)+2ab(iv)</td>\n",
       "      <td>CH §</td>\n",
       "      <td>abhängig von ökologischen Ausgleichsmassnahmen</td>\n",
       "    </tr>\n",
       "    <tr>\n",
       "      <th>3</th>\n",
       "      <td>Lebermoose – Hepaticae</td>\n",
       "      <td>Anastrepta orcadensis (Hook.) Schiffn.</td>\n",
       "      <td>VU</td>\n",
       "      <td>D2</td>\n",
       "      <td>NaN</td>\n",
       "      <td>NaN</td>\n",
       "    </tr>\n",
       "    <tr>\n",
       "      <th>4</th>\n",
       "      <td>Lebermoose – Hepaticae</td>\n",
       "      <td>Anastrophyllum assimile (Mitt.) Steph.</td>\n",
       "      <td>EN</td>\n",
       "      <td>A2b; B1ab(iv)+2ab(iv)</td>\n",
       "      <td>NaN</td>\n",
       "      <td>NaN</td>\n",
       "    </tr>\n",
       "  </tbody>\n",
       "</table>\n",
       "</div>"
      ],
      "text/plain": [
       "                     FAMILY  \\\n",
       "0  Hornmoose – Anthocerotae   \n",
       "1  Hornmoose – Anthocerotae   \n",
       "2  Hornmoose – Anthocerotae   \n",
       "3    Lebermoose – Hepaticae   \n",
       "4    Lebermoose – Hepaticae   \n",
       "\n",
       "                                     Scientific name CAT  \\\n",
       "0                          Anthoceros agrestis Paton  LC   \n",
       "1                      Phaeoceros laevis (L.) Prosk.  NE   \n",
       "2  Phaeoceros laevis (L.) Prosk. subsp. carolinia...  EN   \n",
       "3             Anastrepta orcadensis (Hook.) Schiffn.  VU   \n",
       "4             Anastrophyllum assimile (Mitt.) Steph.  EN   \n",
       "\n",
       "          Kriterien IUCN   NHV                                     Bemerkungen  \n",
       "0                    NaN   NaN  abhängig von ökologischen Ausgleichsmassnahmen  \n",
       "1                    NaN   NaN                                             NaN  \n",
       "2  A2b; B1ab(iv)+2ab(iv)  CH §  abhängig von ökologischen Ausgleichsmassnahmen  \n",
       "3                     D2   NaN                                             NaN  \n",
       "4  A2b; B1ab(iv)+2ab(iv)   NaN                                             NaN  "
      ]
     },
     "execution_count": 3,
     "metadata": {},
     "output_type": "execute_result"
    }
   ],
   "source": [
    "df.head()"
   ]
  },
  {
   "cell_type": "code",
   "execution_count": null,
   "metadata": {},
   "outputs": [],
   "source": []
  },
  {
   "cell_type": "code",
   "execution_count": 4,
   "metadata": {},
   "outputs": [
    {
     "data": {
      "text/plain": [
       "1153"
      ]
     },
     "execution_count": 4,
     "metadata": {},
     "output_type": "execute_result"
    }
   ],
   "source": [
    "len (df)"
   ]
  },
  {
   "cell_type": "code",
   "execution_count": 5,
   "metadata": {},
   "outputs": [
    {
     "data": {
      "text/plain": [
       "0        NaN\n",
       "1        NaN\n",
       "2       CH §\n",
       "3        NaN\n",
       "4        NaN\n",
       "5        NaN\n",
       "6        NaN\n",
       "7        NaN\n",
       "8        NaN\n",
       "9        NaN\n",
       "10       NaN\n",
       "11       NaN\n",
       "12       NaN\n",
       "13       NaN\n",
       "14       NaN\n",
       "15       NaN\n",
       "16       NaN\n",
       "17       NaN\n",
       "18       NaN\n",
       "19       NaN\n",
       "20       NaN\n",
       "21       NaN\n",
       "22       NaN\n",
       "23       NaN\n",
       "24       NaN\n",
       "25       NaN\n",
       "26       NaN\n",
       "27       NaN\n",
       "28       NaN\n",
       "29       NaN\n",
       "        ... \n",
       "1123     NaN\n",
       "1124     NaN\n",
       "1125     NaN\n",
       "1126     NaN\n",
       "1127     NaN\n",
       "1128     NaN\n",
       "1129     NaN\n",
       "1130     NaN\n",
       "1131     NaN\n",
       "1132     NaN\n",
       "1133     NaN\n",
       "1134     NaN\n",
       "1135     NaN\n",
       "1136     NaN\n",
       "1137     NaN\n",
       "1138     NaN\n",
       "1139     NaN\n",
       "1140     NaN\n",
       "1141     NaN\n",
       "1142     NaN\n",
       "1143     NaN\n",
       "1144     NaN\n",
       "1145     NaN\n",
       "1146     NaN\n",
       "1147     NaN\n",
       "1148     NaN\n",
       "1149     NaN\n",
       "1150     NaN\n",
       "1151     NaN\n",
       "1152     NaN\n",
       "Name: NHV, Length: 1153, dtype: object"
      ]
     },
     "execution_count": 5,
     "metadata": {},
     "output_type": "execute_result"
    }
   ],
   "source": [
    "df.pop(\"Kriterien IUCN\")\n",
    "df.pop(\"NHV\")"
   ]
  },
  {
   "cell_type": "code",
   "execution_count": null,
   "metadata": {},
   "outputs": [],
   "source": []
  },
  {
   "cell_type": "code",
   "execution_count": 6,
   "metadata": {},
   "outputs": [],
   "source": [
    "df.rename(columns={\"FAMILY\":\"family\",\"Scientific name\": \"sc name\",\"CAT\":\"cat\", \"Bemerkungen\":\"bemerkungen\"},inplace=True)"
   ]
  },
  {
   "cell_type": "code",
   "execution_count": 7,
   "metadata": {},
   "outputs": [
    {
     "data": {
      "text/html": [
       "<div>\n",
       "<style scoped>\n",
       "    .dataframe tbody tr th:only-of-type {\n",
       "        vertical-align: middle;\n",
       "    }\n",
       "\n",
       "    .dataframe tbody tr th {\n",
       "        vertical-align: top;\n",
       "    }\n",
       "\n",
       "    .dataframe thead th {\n",
       "        text-align: right;\n",
       "    }\n",
       "</style>\n",
       "<table border=\"1\" class=\"dataframe\">\n",
       "  <thead>\n",
       "    <tr style=\"text-align: right;\">\n",
       "      <th></th>\n",
       "      <th>family</th>\n",
       "      <th>sc name</th>\n",
       "      <th>cat</th>\n",
       "      <th>bemerkungen</th>\n",
       "    </tr>\n",
       "  </thead>\n",
       "  <tbody>\n",
       "    <tr>\n",
       "      <th>0</th>\n",
       "      <td>Hornmoose – Anthocerotae</td>\n",
       "      <td>Anthoceros agrestis Paton</td>\n",
       "      <td>LC</td>\n",
       "      <td>abhängig von ökologischen Ausgleichsmassnahmen</td>\n",
       "    </tr>\n",
       "    <tr>\n",
       "      <th>1</th>\n",
       "      <td>Hornmoose – Anthocerotae</td>\n",
       "      <td>Phaeoceros laevis (L.) Prosk.</td>\n",
       "      <td>NE</td>\n",
       "      <td>NaN</td>\n",
       "    </tr>\n",
       "  </tbody>\n",
       "</table>\n",
       "</div>"
      ],
      "text/plain": [
       "                     family                        sc name cat  \\\n",
       "0  Hornmoose – Anthocerotae      Anthoceros agrestis Paton  LC   \n",
       "1  Hornmoose – Anthocerotae  Phaeoceros laevis (L.) Prosk.  NE   \n",
       "\n",
       "                                      bemerkungen  \n",
       "0  abhängig von ökologischen Ausgleichsmassnahmen  \n",
       "1                                             NaN  "
      ]
     },
     "execution_count": 7,
     "metadata": {},
     "output_type": "execute_result"
    }
   ],
   "source": [
    "df.head(2)"
   ]
  },
  {
   "cell_type": "code",
   "execution_count": 8,
   "metadata": {},
   "outputs": [],
   "source": [
    "df['einteilung'] = 'Pflanzen'\n",
    "df['untergruppe'] = 'Moose'"
   ]
  },
  {
   "cell_type": "code",
   "execution_count": 9,
   "metadata": {},
   "outputs": [
    {
     "data": {
      "text/html": [
       "<div>\n",
       "<style scoped>\n",
       "    .dataframe tbody tr th:only-of-type {\n",
       "        vertical-align: middle;\n",
       "    }\n",
       "\n",
       "    .dataframe tbody tr th {\n",
       "        vertical-align: top;\n",
       "    }\n",
       "\n",
       "    .dataframe thead th {\n",
       "        text-align: right;\n",
       "    }\n",
       "</style>\n",
       "<table border=\"1\" class=\"dataframe\">\n",
       "  <thead>\n",
       "    <tr style=\"text-align: right;\">\n",
       "      <th></th>\n",
       "      <th>family</th>\n",
       "      <th>sc name</th>\n",
       "      <th>cat</th>\n",
       "      <th>bemerkungen</th>\n",
       "      <th>einteilung</th>\n",
       "      <th>untergruppe</th>\n",
       "    </tr>\n",
       "  </thead>\n",
       "  <tbody>\n",
       "    <tr>\n",
       "      <th>0</th>\n",
       "      <td>Hornmoose – Anthocerotae</td>\n",
       "      <td>Anthoceros agrestis Paton</td>\n",
       "      <td>LC</td>\n",
       "      <td>abhängig von ökologischen Ausgleichsmassnahmen</td>\n",
       "      <td>Pflanzen</td>\n",
       "      <td>Moose</td>\n",
       "    </tr>\n",
       "    <tr>\n",
       "      <th>1</th>\n",
       "      <td>Hornmoose – Anthocerotae</td>\n",
       "      <td>Phaeoceros laevis (L.) Prosk.</td>\n",
       "      <td>NE</td>\n",
       "      <td>NaN</td>\n",
       "      <td>Pflanzen</td>\n",
       "      <td>Moose</td>\n",
       "    </tr>\n",
       "  </tbody>\n",
       "</table>\n",
       "</div>"
      ],
      "text/plain": [
       "                     family                        sc name cat  \\\n",
       "0  Hornmoose – Anthocerotae      Anthoceros agrestis Paton  LC   \n",
       "1  Hornmoose – Anthocerotae  Phaeoceros laevis (L.) Prosk.  NE   \n",
       "\n",
       "                                      bemerkungen einteilung untergruppe  \n",
       "0  abhängig von ökologischen Ausgleichsmassnahmen   Pflanzen       Moose  \n",
       "1                                             NaN   Pflanzen       Moose  "
      ]
     },
     "execution_count": 9,
     "metadata": {},
     "output_type": "execute_result"
    }
   ],
   "source": [
    "df.head(2)"
   ]
  },
  {
   "cell_type": "code",
   "execution_count": null,
   "metadata": {},
   "outputs": [],
   "source": []
  },
  {
   "cell_type": "code",
   "execution_count": 10,
   "metadata": {},
   "outputs": [
    {
     "data": {
      "text/plain": [
       "LC      509\n",
       "VU      282\n",
       "DD       99\n",
       "NT       67\n",
       "CR       61\n",
       "NE       60\n",
       "EN       58\n",
       "RE       15\n",
       "Kat.      1\n",
       "Name: cat, dtype: int64"
      ]
     },
     "execution_count": 10,
     "metadata": {},
     "output_type": "execute_result"
    }
   ],
   "source": [
    "df[\"cat\"].value_counts()"
   ]
  },
  {
   "cell_type": "code",
   "execution_count": 11,
   "metadata": {},
   "outputs": [
    {
     "data": {
      "image/png": "[encoded data removed]",
      "text/plain": [
       "<Figure size 504x432 with 1 Axes>"
      ]
     },
     "metadata": {},
     "output_type": "display_data"
    }
   ],
   "source": [
    "values = [0, 15, 61, 58, 282, 67, 509, 99, 60]\n",
    "colors = ['r', 'r', 'r', 'r', 'r', 'g', \"g\", \"grey\", \"grey\"]\n",
    "labels = [\n",
    "    'EX: ausgestorben', 'RE: CH ausgestorben',\n",
    "    'CR: v. aussterben bedroht', 'EN: stark gefährdet', \n",
    "    'VU: verletzlich',\"NT: potenziell gef.\",\n",
    "    \"LC: nicht gef.\",\"DD: ungen. Daten\",\"NE: nicht beurteilt\"]\n",
    "\n",
    "\n",
    "fig1, ax1 = plt.subplots(figsize=(7, 6))\n",
    "fig1.subplots_adjust(0.3,0,1,1)\n",
    "plt.pie(values, colors=colors, labels= values, counterclock=False,startangle=90)\n",
    "plt.title('Gefährdung Moose, 1153 Arten')\n",
    "\n",
    "total = sum(values)\n",
    "plt.legend(\n",
    "    loc='upper left',\n",
    "    labels=['%s, %1.1f%%' % (\n",
    "        l, (float(s) / total) * 100) for l, s in zip(labels, values)],\n",
    "    \n",
    "    bbox_to_anchor=(1.0, 0.5),\n",
    "    bbox_transform=fig1.transFigure\n",
    ")\n",
    "plt.show()"
   ]
  },
  {
   "cell_type": "code",
   "execution_count": null,
   "metadata": {},
   "outputs": [],
   "source": []
  }
 ],
 "metadata": {
  "kernelspec": {
   "display_name": "Python 3",
   "language": "python",
   "name": "python3"
  },
  "language_info": {
   "codemirror_mode": {
    "name": "ipython",
    "version": 3
   },
   "file_extension": ".py",
   "mimetype": "text/x-python",
   "name": "python",
   "nbconvert_exporter": "python",
   "pygments_lexer": "ipython3",
   "version": "3.7.0"
  }
 },
 "nbformat": 4,
 "nbformat_minor": 2
}
