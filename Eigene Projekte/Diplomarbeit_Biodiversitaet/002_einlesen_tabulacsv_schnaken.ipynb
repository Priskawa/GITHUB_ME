{
 "cells": [
  {
   "cell_type": "markdown",
   "metadata": {},
   "source": [
    "# MAZ Diplomarbeit - Biodiversität in der Schweiz#"
   ]
  },
  {
   "cell_type": "code",
   "execution_count": null,
   "metadata": {},
   "outputs": [],
   "source": []
  },
  {
   "cell_type": "code",
   "execution_count": 1,
   "metadata": {},
   "outputs": [],
   "source": [
    "import pandas as pd\n",
    "import matplotlib.pyplot as plt\n",
    "%matplotlib inline"
   ]
  },
  {
   "cell_type": "code",
   "execution_count": 2,
   "metadata": {},
   "outputs": [],
   "source": [
    "df = pd.read_csv(\"01_source/tabula_ch/tabula_schnaken.csv\")"
   ]
  },
  {
   "cell_type": "code",
   "execution_count": 3,
   "metadata": {},
   "outputs": [
    {
     "data": {
      "text/html": [
       "<div>\n",
       "<style scoped>\n",
       "    .dataframe tbody tr th:only-of-type {\n",
       "        vertical-align: middle;\n",
       "    }\n",
       "\n",
       "    .dataframe tbody tr th {\n",
       "        vertical-align: top;\n",
       "    }\n",
       "\n",
       "    .dataframe thead th {\n",
       "        text-align: right;\n",
       "    }\n",
       "</style>\n",
       "<table border=\"1\" class=\"dataframe\">\n",
       "  <thead>\n",
       "    <tr style=\"text-align: right;\">\n",
       "      <th></th>\n",
       "      <th>ORDER</th>\n",
       "      <th>FAMILY</th>\n",
       "      <th>Artname</th>\n",
       "      <th>CH</th>\n",
       "      <th>Bemerkungen</th>\n",
       "    </tr>\n",
       "  </thead>\n",
       "  <tbody>\n",
       "    <tr>\n",
       "      <th>0</th>\n",
       "      <td>DIPTERA (ZWEIFLÜGLER)</td>\n",
       "      <td>Tipulidae (Schnaken)</td>\n",
       "      <td>Ctenophora festiva Meigen</td>\n",
       "      <td>1</td>\n",
       "      <td>Totholz</td>\n",
       "    </tr>\n",
       "    <tr>\n",
       "      <th>1</th>\n",
       "      <td>DIPTERA (ZWEIFLÜGLER)</td>\n",
       "      <td>Tipulidae (Schnaken)</td>\n",
       "      <td>C. flaveolata (Fabricius)</td>\n",
       "      <td>2</td>\n",
       "      <td>Totholz</td>\n",
       "    </tr>\n",
       "    <tr>\n",
       "      <th>2</th>\n",
       "      <td>DIPTERA (ZWEIFLÜGLER)</td>\n",
       "      <td>Tipulidae (Schnaken)</td>\n",
       "      <td>C. guttata Meigen</td>\n",
       "      <td>1</td>\n",
       "      <td>Totholz</td>\n",
       "    </tr>\n",
       "    <tr>\n",
       "      <th>3</th>\n",
       "      <td>DIPTERA (ZWEIFLÜGLER)</td>\n",
       "      <td>Tipulidae (Schnaken)</td>\n",
       "      <td>C. pectinicornis (Linnaeus)</td>\n",
       "      <td>3</td>\n",
       "      <td>Totholz</td>\n",
       "    </tr>\n",
       "    <tr>\n",
       "      <th>4</th>\n",
       "      <td>DIPTERA (ZWEIFLÜGLER)</td>\n",
       "      <td>Tipulidae (Schnaken)</td>\n",
       "      <td>Dictenidia bimaculata (Linnaeus)</td>\n",
       "      <td>2</td>\n",
       "      <td>Totholz</td>\n",
       "    </tr>\n",
       "  </tbody>\n",
       "</table>\n",
       "</div>"
      ],
      "text/plain": [
       "                   ORDER                FAMILY  \\\n",
       "0  DIPTERA (ZWEIFLÜGLER)  Tipulidae (Schnaken)   \n",
       "1  DIPTERA (ZWEIFLÜGLER)  Tipulidae (Schnaken)   \n",
       "2  DIPTERA (ZWEIFLÜGLER)  Tipulidae (Schnaken)   \n",
       "3  DIPTERA (ZWEIFLÜGLER)  Tipulidae (Schnaken)   \n",
       "4  DIPTERA (ZWEIFLÜGLER)  Tipulidae (Schnaken)   \n",
       "\n",
       "                            Artname  CH Bemerkungen  \n",
       "0         Ctenophora festiva Meigen   1     Totholz  \n",
       "1         C. flaveolata (Fabricius)   2     Totholz  \n",
       "2                 C. guttata Meigen   1     Totholz  \n",
       "3       C. pectinicornis (Linnaeus)   3     Totholz  \n",
       "4  Dictenidia bimaculata (Linnaeus)   2     Totholz  "
      ]
     },
     "execution_count": 3,
     "metadata": {},
     "output_type": "execute_result"
    }
   ],
   "source": [
    "df.head()"
   ]
  },
  {
   "cell_type": "code",
   "execution_count": null,
   "metadata": {},
   "outputs": [],
   "source": []
  },
  {
   "cell_type": "code",
   "execution_count": 4,
   "metadata": {},
   "outputs": [
    {
     "data": {
      "text/plain": [
       "67"
      ]
     },
     "execution_count": 4,
     "metadata": {},
     "output_type": "execute_result"
    }
   ],
   "source": [
    "len (df)"
   ]
  },
  {
   "cell_type": "code",
   "execution_count": 5,
   "metadata": {},
   "outputs": [
    {
     "data": {
      "text/plain": [
       "(67, 5)"
      ]
     },
     "execution_count": 5,
     "metadata": {},
     "output_type": "execute_result"
    }
   ],
   "source": [
    "df.shape"
   ]
  },
  {
   "cell_type": "code",
   "execution_count": 6,
   "metadata": {},
   "outputs": [],
   "source": [
    "df.rename(columns={\"ORDER\":\"order\", \"FAMILY\": \"family\",\"Artname\": \"sc name\",\"CH\":\"ch cat\", \"Bemerkungen\": \"bemerkungen\"},inplace=True)"
   ]
  },
  {
   "cell_type": "code",
   "execution_count": null,
   "metadata": {},
   "outputs": [],
   "source": []
  },
  {
   "cell_type": "code",
   "execution_count": 7,
   "metadata": {},
   "outputs": [],
   "source": [
    "df['einteilung'] = 'Insekten'\n",
    "df['untergruppe'] = 'Schnaken'"
   ]
  },
  {
   "cell_type": "code",
   "execution_count": 8,
   "metadata": {},
   "outputs": [
    {
     "data": {
      "text/html": [
       "<div>\n",
       "<style scoped>\n",
       "    .dataframe tbody tr th:only-of-type {\n",
       "        vertical-align: middle;\n",
       "    }\n",
       "\n",
       "    .dataframe tbody tr th {\n",
       "        vertical-align: top;\n",
       "    }\n",
       "\n",
       "    .dataframe thead th {\n",
       "        text-align: right;\n",
       "    }\n",
       "</style>\n",
       "<table border=\"1\" class=\"dataframe\">\n",
       "  <thead>\n",
       "    <tr style=\"text-align: right;\">\n",
       "      <th></th>\n",
       "      <th>order</th>\n",
       "      <th>family</th>\n",
       "      <th>sc name</th>\n",
       "      <th>ch cat</th>\n",
       "      <th>bemerkungen</th>\n",
       "      <th>einteilung</th>\n",
       "      <th>untergruppe</th>\n",
       "    </tr>\n",
       "  </thead>\n",
       "  <tbody>\n",
       "    <tr>\n",
       "      <th>0</th>\n",
       "      <td>DIPTERA (ZWEIFLÜGLER)</td>\n",
       "      <td>Tipulidae (Schnaken)</td>\n",
       "      <td>Ctenophora festiva Meigen</td>\n",
       "      <td>1</td>\n",
       "      <td>Totholz</td>\n",
       "      <td>Insekten</td>\n",
       "      <td>Schnaken</td>\n",
       "    </tr>\n",
       "    <tr>\n",
       "      <th>1</th>\n",
       "      <td>DIPTERA (ZWEIFLÜGLER)</td>\n",
       "      <td>Tipulidae (Schnaken)</td>\n",
       "      <td>C. flaveolata (Fabricius)</td>\n",
       "      <td>2</td>\n",
       "      <td>Totholz</td>\n",
       "      <td>Insekten</td>\n",
       "      <td>Schnaken</td>\n",
       "    </tr>\n",
       "  </tbody>\n",
       "</table>\n",
       "</div>"
      ],
      "text/plain": [
       "                   order                family                    sc name  \\\n",
       "0  DIPTERA (ZWEIFLÜGLER)  Tipulidae (Schnaken)  Ctenophora festiva Meigen   \n",
       "1  DIPTERA (ZWEIFLÜGLER)  Tipulidae (Schnaken)  C. flaveolata (Fabricius)   \n",
       "\n",
       "   ch cat bemerkungen einteilung untergruppe  \n",
       "0       1     Totholz   Insekten    Schnaken  \n",
       "1       2     Totholz   Insekten    Schnaken  "
      ]
     },
     "execution_count": 8,
     "metadata": {},
     "output_type": "execute_result"
    }
   ],
   "source": [
    "df.head(2)"
   ]
  },
  {
   "cell_type": "code",
   "execution_count": 9,
   "metadata": {},
   "outputs": [
    {
     "data": {
      "text/plain": [
       "4    21\n",
       "1    18\n",
       "3    15\n",
       "2    11\n",
       "0     2\n",
       "Name: ch cat, dtype: int64"
      ]
     },
     "execution_count": 9,
     "metadata": {},
     "output_type": "execute_result"
    }
   ],
   "source": [
    "df[\"ch cat\"].value_counts()"
   ]
  },
  {
   "cell_type": "code",
   "execution_count": 10,
   "metadata": {},
   "outputs": [
    {
     "data": {
      "image/png": "[encoded data removed]",
      "text/plain": [
       "<Figure size 504x432 with 1 Axes>"
      ]
     },
     "metadata": {},
     "output_type": "display_data"
    }
   ],
   "source": [
    "values = [0, 2, 18, 0, 26, 0, 21, 84, 0]\n",
    "colors = ['r', 'r', 'r', 'r', 'r', 'g', \"g\", \"grey\", \"grey\"]\n",
    "labels = [\n",
    "    'EX: ausgestorben-0', 'RE: CH ausgestorben, ch cat:0',\n",
    "    'CR: v. aussterben bedroht, ch cat:1', 'EN: stark gefährdet,ch cat:1', \n",
    "    'VU: verletzlich, ch cat:2und3',\"NT: potenziell gef. ch cat:4\",\n",
    "    \"LC: nicht gef. ch cat:4\",\"DD: ungen. Daten\",\"NE: nicht beurteilt\"]\n",
    "\n",
    "\n",
    "fig1, ax1 = plt.subplots(figsize=(7, 6))\n",
    "fig1.subplots_adjust(0.3,0,1,1)\n",
    "plt.pie(values, colors=colors, labels= values, counterclock=False,startangle=90)\n",
    "plt.title('Gefährdung Schnaken, 151 Arten,aus pdf')\n",
    "\n",
    "total = sum(values)\n",
    "plt.legend(\n",
    "    loc='upper left',\n",
    "    labels=['%s, %1.1f%%' % (\n",
    "        l, (float(s) / total) * 100) for l, s in zip(labels, values)],\n",
    "    \n",
    "    bbox_to_anchor=(1.0, 0.5),\n",
    "    bbox_transform=fig1.transFigure\n",
    ")\n",
    "plt.show()"
   ]
  },
  {
   "cell_type": "code",
   "execution_count": null,
   "metadata": {},
   "outputs": [],
   "source": []
  }
 ],
 "metadata": {
  "kernelspec": {
   "display_name": "Python 3",
   "language": "python",
   "name": "python3"
  },
  "language_info": {
   "codemirror_mode": {
    "name": "ipython",
    "version": 3
   },
   "file_extension": ".py",
   "mimetype": "text/x-python",
   "name": "python",
   "nbconvert_exporter": "python",
   "pygments_lexer": "ipython3",
   "version": "3.7.0"
  }
 },
 "nbformat": 4,
 "nbformat_minor": 2
}
