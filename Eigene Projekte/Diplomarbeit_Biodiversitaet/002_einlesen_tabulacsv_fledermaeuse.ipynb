{
 "cells": [
  {
   "cell_type": "markdown",
   "metadata": {},
   "source": [
    "# MAZ Diplomarbeit - Biodiversität in der Schweiz#"
   ]
  },
  {
   "cell_type": "code",
   "execution_count": null,
   "metadata": {},
   "outputs": [],
   "source": []
  },
  {
   "cell_type": "code",
   "execution_count": 1,
   "metadata": {},
   "outputs": [],
   "source": [
    "import pandas as pd\n",
    "import matplotlib.pyplot as plt\n",
    "%matplotlib inline"
   ]
  },
  {
   "cell_type": "code",
   "execution_count": 2,
   "metadata": {},
   "outputs": [],
   "source": [
    "df = pd.read_csv(\"01_source/tabula_ch/tabula_feldermaeuse.csv\")"
   ]
  },
  {
   "cell_type": "code",
   "execution_count": 3,
   "metadata": {},
   "outputs": [
    {
     "data": {
      "text/html": [
       "<div>\n",
       "<style scoped>\n",
       "    .dataframe tbody tr th:only-of-type {\n",
       "        vertical-align: middle;\n",
       "    }\n",
       "\n",
       "    .dataframe tbody tr th {\n",
       "        vertical-align: top;\n",
       "    }\n",
       "\n",
       "    .dataframe thead th {\n",
       "        text-align: right;\n",
       "    }\n",
       "</style>\n",
       "<table border=\"1\" class=\"dataframe\">\n",
       "  <thead>\n",
       "    <tr style=\"text-align: right;\">\n",
       "      <th></th>\n",
       "      <th>Scientific name</th>\n",
       "      <th>Deutscher Name</th>\n",
       "      <th>Kat.</th>\n",
       "      <th>IUCN-Kriterien</th>\n",
       "      <th>Bemerkungen</th>\n",
       "    </tr>\n",
       "  </thead>\n",
       "  <tbody>\n",
       "    <tr>\n",
       "      <th>0</th>\n",
       "      <td>Barbastella barbastellus</td>\n",
       "      <td>Mopsfledermaus</td>\n",
       "      <td>EN</td>\n",
       "      <td>B2ab(iii,iv)</td>\n",
       "      <td>NaN</td>\n",
       "    </tr>\n",
       "    <tr>\n",
       "      <th>1</th>\n",
       "      <td>Eptesicus nilssonii</td>\n",
       "      <td>Nordfledermaus</td>\n",
       "      <td>VU</td>\n",
       "      <td>B2ab(iii,iv)</td>\n",
       "      <td>NaN</td>\n",
       "    </tr>\n",
       "    <tr>\n",
       "      <th>2</th>\n",
       "      <td>Eptesicus serotinus</td>\n",
       "      <td>Breitflügelfledermaus</td>\n",
       "      <td>VU</td>\n",
       "      <td>B2ab(iii,iv)</td>\n",
       "      <td>NaN</td>\n",
       "    </tr>\n",
       "    <tr>\n",
       "      <th>3</th>\n",
       "      <td>Hypsugo savii</td>\n",
       "      <td>Alpenfledermaus</td>\n",
       "      <td>NT</td>\n",
       "      <td>NaN</td>\n",
       "      <td>Unterschätzte Verbreitung, möglicherweise in A...</td>\n",
       "    </tr>\n",
       "    <tr>\n",
       "      <th>4</th>\n",
       "      <td>Miniopterus schreibersii</td>\n",
       "      <td>Langflügelfledermaus</td>\n",
       "      <td>EN</td>\n",
       "      <td>B2ac(iv);D</td>\n",
       "      <td>Keine Fortpflanzung, stark abhängig von der Dy...</td>\n",
       "    </tr>\n",
       "  </tbody>\n",
       "</table>\n",
       "</div>"
      ],
      "text/plain": [
       "            Scientific name         Deutscher Name Kat. IUCN-Kriterien  \\\n",
       "0  Barbastella barbastellus         Mopsfledermaus   EN   B2ab(iii,iv)   \n",
       "1       Eptesicus nilssonii         Nordfledermaus   VU   B2ab(iii,iv)   \n",
       "2       Eptesicus serotinus  Breitflügelfledermaus   VU   B2ab(iii,iv)   \n",
       "3             Hypsugo savii        Alpenfledermaus   NT            NaN   \n",
       "4  Miniopterus schreibersii   Langflügelfledermaus   EN     B2ac(iv);D   \n",
       "\n",
       "                                         Bemerkungen  \n",
       "0                                                NaN  \n",
       "1                                                NaN  \n",
       "2                                                NaN  \n",
       "3  Unterschätzte Verbreitung, möglicherweise in A...  \n",
       "4  Keine Fortpflanzung, stark abhängig von der Dy...  "
      ]
     },
     "execution_count": 3,
     "metadata": {},
     "output_type": "execute_result"
    }
   ],
   "source": [
    "df.head()"
   ]
  },
  {
   "cell_type": "code",
   "execution_count": null,
   "metadata": {},
   "outputs": [],
   "source": []
  },
  {
   "cell_type": "code",
   "execution_count": 4,
   "metadata": {},
   "outputs": [
    {
     "data": {
      "text/plain": [
       "28"
      ]
     },
     "execution_count": 4,
     "metadata": {},
     "output_type": "execute_result"
    }
   ],
   "source": [
    "len (df)"
   ]
  },
  {
   "cell_type": "code",
   "execution_count": 5,
   "metadata": {},
   "outputs": [
    {
     "data": {
      "text/plain": [
       "(28, 5)"
      ]
     },
     "execution_count": 5,
     "metadata": {},
     "output_type": "execute_result"
    }
   ],
   "source": [
    "df.shape"
   ]
  },
  {
   "cell_type": "code",
   "execution_count": null,
   "metadata": {},
   "outputs": [],
   "source": []
  },
  {
   "cell_type": "code",
   "execution_count": 6,
   "metadata": {},
   "outputs": [
    {
     "data": {
      "text/plain": [
       "0                   B2ab(iii,iv)\n",
       "1                   B2ab(iii,iv)\n",
       "2                   B2ab(iii,iv)\n",
       "3                            NaN\n",
       "4                     B2ac(iv);D\n",
       "5                            NaN\n",
       "6                      B2ab(iii)\n",
       "7                B2ab(iii,iv);D1\n",
       "8                   B2ab(iii,iv)\n",
       "9                            NaN\n",
       "10                           NaN\n",
       "11                  B2ab(ii,iii)\n",
       "12                   B2b(iii,iv)\n",
       "13                           NaN\n",
       "14                       B2b(iv)\n",
       "15                      B2b(iii)\n",
       "16                      B2b(iii)\n",
       "17                           NaN\n",
       "18                           NaN\n",
       "19                           NaN\n",
       "20                      B2ab(iv)\n",
       "21                     B2ab(iii)\n",
       "22                  B2ab(iii,iv)\n",
       "23                  B2ab(iii,iv)\n",
       "24                           NaN\n",
       "25    A2(c);B2ab (iii,iv); C1; D\n",
       "26           A1(c);B2ab (iii,iv)\n",
       "27                     B2ac(iii)\n",
       "Name: IUCN-Kriterien, dtype: object"
      ]
     },
     "execution_count": 6,
     "metadata": {},
     "output_type": "execute_result"
    }
   ],
   "source": [
    "df.pop(\"IUCN-Kriterien\")"
   ]
  },
  {
   "cell_type": "code",
   "execution_count": 7,
   "metadata": {},
   "outputs": [
    {
     "data": {
      "text/html": [
       "<div>\n",
       "<style scoped>\n",
       "    .dataframe tbody tr th:only-of-type {\n",
       "        vertical-align: middle;\n",
       "    }\n",
       "\n",
       "    .dataframe tbody tr th {\n",
       "        vertical-align: top;\n",
       "    }\n",
       "\n",
       "    .dataframe thead th {\n",
       "        text-align: right;\n",
       "    }\n",
       "</style>\n",
       "<table border=\"1\" class=\"dataframe\">\n",
       "  <thead>\n",
       "    <tr style=\"text-align: right;\">\n",
       "      <th></th>\n",
       "      <th>Scientific name</th>\n",
       "      <th>Deutscher Name</th>\n",
       "      <th>Kat.</th>\n",
       "      <th>Bemerkungen</th>\n",
       "    </tr>\n",
       "  </thead>\n",
       "  <tbody>\n",
       "    <tr>\n",
       "      <th>0</th>\n",
       "      <td>Barbastella barbastellus</td>\n",
       "      <td>Mopsfledermaus</td>\n",
       "      <td>EN</td>\n",
       "      <td>NaN</td>\n",
       "    </tr>\n",
       "    <tr>\n",
       "      <th>1</th>\n",
       "      <td>Eptesicus nilssonii</td>\n",
       "      <td>Nordfledermaus</td>\n",
       "      <td>VU</td>\n",
       "      <td>NaN</td>\n",
       "    </tr>\n",
       "    <tr>\n",
       "      <th>2</th>\n",
       "      <td>Eptesicus serotinus</td>\n",
       "      <td>Breitflügelfledermaus</td>\n",
       "      <td>VU</td>\n",
       "      <td>NaN</td>\n",
       "    </tr>\n",
       "  </tbody>\n",
       "</table>\n",
       "</div>"
      ],
      "text/plain": [
       "            Scientific name         Deutscher Name Kat. Bemerkungen\n",
       "0  Barbastella barbastellus         Mopsfledermaus   EN         NaN\n",
       "1       Eptesicus nilssonii         Nordfledermaus   VU         NaN\n",
       "2       Eptesicus serotinus  Breitflügelfledermaus   VU         NaN"
      ]
     },
     "execution_count": 7,
     "metadata": {},
     "output_type": "execute_result"
    }
   ],
   "source": [
    "df.head(3)"
   ]
  },
  {
   "cell_type": "code",
   "execution_count": 8,
   "metadata": {},
   "outputs": [],
   "source": [
    "df.rename(columns={\"Scientific name\":\"sc name\", \"Deutscher Name\": \"dt name\",\"Kat.\":\"cat\", \"Bemerkungen\":\"bemerkungen\"},inplace=True)"
   ]
  },
  {
   "cell_type": "code",
   "execution_count": null,
   "metadata": {},
   "outputs": [],
   "source": []
  },
  {
   "cell_type": "code",
   "execution_count": 9,
   "metadata": {},
   "outputs": [],
   "source": [
    "df['einteilung'] = 'Säugetiere'\n",
    "df['untergruppe'] = 'Fledermäuse'"
   ]
  },
  {
   "cell_type": "code",
   "execution_count": 10,
   "metadata": {},
   "outputs": [
    {
     "data": {
      "text/html": [
       "<div>\n",
       "<style scoped>\n",
       "    .dataframe tbody tr th:only-of-type {\n",
       "        vertical-align: middle;\n",
       "    }\n",
       "\n",
       "    .dataframe tbody tr th {\n",
       "        vertical-align: top;\n",
       "    }\n",
       "\n",
       "    .dataframe thead th {\n",
       "        text-align: right;\n",
       "    }\n",
       "</style>\n",
       "<table border=\"1\" class=\"dataframe\">\n",
       "  <thead>\n",
       "    <tr style=\"text-align: right;\">\n",
       "      <th></th>\n",
       "      <th>sc name</th>\n",
       "      <th>dt name</th>\n",
       "      <th>cat</th>\n",
       "      <th>bemerkungen</th>\n",
       "      <th>einteilung</th>\n",
       "      <th>untergruppe</th>\n",
       "    </tr>\n",
       "  </thead>\n",
       "  <tbody>\n",
       "    <tr>\n",
       "      <th>0</th>\n",
       "      <td>Barbastella barbastellus</td>\n",
       "      <td>Mopsfledermaus</td>\n",
       "      <td>EN</td>\n",
       "      <td>NaN</td>\n",
       "      <td>Säugetiere</td>\n",
       "      <td>Fledermäuse</td>\n",
       "    </tr>\n",
       "  </tbody>\n",
       "</table>\n",
       "</div>"
      ],
      "text/plain": [
       "                    sc name         dt name cat bemerkungen  einteilung  \\\n",
       "0  Barbastella barbastellus  Mopsfledermaus  EN         NaN  Säugetiere   \n",
       "\n",
       "   untergruppe  \n",
       "0  Fledermäuse  "
      ]
     },
     "execution_count": 10,
     "metadata": {},
     "output_type": "execute_result"
    }
   ],
   "source": [
    "df.head(1)"
   ]
  },
  {
   "cell_type": "code",
   "execution_count": 11,
   "metadata": {},
   "outputs": [
    {
     "data": {
      "text/plain": [
       "NT    7\n",
       "VU    6\n",
       "EN    5\n",
       "LC    4\n",
       "DD    3\n",
       "CR    3\n",
       "Name: cat, dtype: int64"
      ]
     },
     "execution_count": 11,
     "metadata": {},
     "output_type": "execute_result"
    }
   ],
   "source": [
    "df[\"cat\"].value_counts()"
   ]
  },
  {
   "cell_type": "code",
   "execution_count": 12,
   "metadata": {},
   "outputs": [
    {
     "data": {
      "image/png": "[encoded data removed]",
      "text/plain": [
       "<Figure size 504x432 with 1 Axes>"
      ]
     },
     "metadata": {},
     "output_type": "display_data"
    }
   ],
   "source": [
    "values = [0, 0, 3, 5, 6, 7, 4, 3, 0]\n",
    "colors = ['r', 'r', 'r', 'r', 'r', 'g', \"g\", \"grey\", \"grey\"]\n",
    "labels = [\n",
    "    'EX: ausgestorben', 'RE: CH ausgestorben',\n",
    "    'CR: v. aussterben bedroht', 'EN: stark gefährdet', \n",
    "    'VU: verletzlich',\"NT: potenziell gef.\",\n",
    "    \"LC: nicht gef.\",\"DD: ungen. Daten\",\"NE: nicht beurteilt\"]\n",
    "\n",
    "\n",
    "fig1, ax1 = plt.subplots(figsize=(7, 6))\n",
    "fig1.subplots_adjust(0.3,0,1,1)\n",
    "plt.pie(values, colors=colors, labels= values, counterclock=False,startangle=90)\n",
    "plt.title('Gefährdung Fledermäuse, 28 Arten')\n",
    "\n",
    "total = sum(values)\n",
    "plt.legend(\n",
    "    loc='upper left',\n",
    "    labels=['%s, %1.1f%%' % (\n",
    "        l, (float(s) / total) * 100) for l, s in zip(labels, values)],\n",
    "    \n",
    "    bbox_to_anchor=(1.0, 0.5),\n",
    "    bbox_transform=fig1.transFigure\n",
    ")\n",
    "plt.show()"
   ]
  },
  {
   "cell_type": "code",
   "execution_count": null,
   "metadata": {},
   "outputs": [],
   "source": []
  }
 ],
 "metadata": {
  "kernelspec": {
   "display_name": "Python 3",
   "language": "python",
   "name": "python3"
  },
  "language_info": {
   "codemirror_mode": {
    "name": "ipython",
    "version": 3
   },
   "file_extension": ".py",
   "mimetype": "text/x-python",
   "name": "python",
   "nbconvert_exporter": "python",
   "pygments_lexer": "ipython3",
   "version": "3.7.0"
  }
 },
 "nbformat": 4,
 "nbformat_minor": 2
}
