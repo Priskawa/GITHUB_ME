{
 "cells": [
  {
   "cell_type": "markdown",
   "metadata": {},
   "source": [
    "# Bundesratswahlen 2018\n",
    "\n",
    "## Bundesratspräsidenten seit 1848\n",
    "\n",
    "**Quelle aller Daten: Admin.ch**\n",
    "\n",
    "Welche Partei stellte wie viel Bundesratspräsidenten? Wer war am häufigsten in diesem Amt?"
   ]
  },
  {
   "cell_type": "code",
   "execution_count": 1,
   "metadata": {},
   "outputs": [],
   "source": [
    "import pandas as pd\n",
    "import numpy as np\n",
    "import datetime\n",
    "\n",
    "%matplotlib inline "
   ]
  },
  {
   "cell_type": "code",
   "execution_count": 19,
   "metadata": {},
   "outputs": [],
   "source": [
    "df = pd.read_excel(\"br_praesi.xlsx\")"
   ]
  },
  {
   "cell_type": "code",
   "execution_count": 20,
   "metadata": {},
   "outputs": [
    {
     "data": {
      "text/html": [
       "<div>\n",
       "<style scoped>\n",
       "    .dataframe tbody tr th:only-of-type {\n",
       "        vertical-align: middle;\n",
       "    }\n",
       "\n",
       "    .dataframe tbody tr th {\n",
       "        vertical-align: top;\n",
       "    }\n",
       "\n",
       "    .dataframe thead th {\n",
       "        text-align: right;\n",
       "    }\n",
       "</style>\n",
       "<table border=\"1\" class=\"dataframe\">\n",
       "  <thead>\n",
       "    <tr style=\"text-align: right;\">\n",
       "      <th></th>\n",
       "      <th>Jahr</th>\n",
       "      <th>ID</th>\n",
       "      <th>BR_präsi</th>\n",
       "      <th>Partei</th>\n",
       "      <th>Kanton</th>\n",
       "    </tr>\n",
       "  </thead>\n",
       "  <tbody>\n",
       "    <tr>\n",
       "      <th>0</th>\n",
       "      <td>1848</td>\n",
       "      <td>4</td>\n",
       "      <td>Furrer Jonas</td>\n",
       "      <td>FDP</td>\n",
       "      <td>ZH</td>\n",
       "    </tr>\n",
       "    <tr>\n",
       "      <th>1</th>\n",
       "      <td>1849</td>\n",
       "      <td>4</td>\n",
       "      <td>Furrer Jonas</td>\n",
       "      <td>FDP</td>\n",
       "      <td>ZH</td>\n",
       "    </tr>\n",
       "    <tr>\n",
       "      <th>2</th>\n",
       "      <td>1850</td>\n",
       "      <td>7</td>\n",
       "      <td>Druey Daniel-Henri</td>\n",
       "      <td>FDP</td>\n",
       "      <td>VD</td>\n",
       "    </tr>\n",
       "    <tr>\n",
       "      <th>3</th>\n",
       "      <td>1851</td>\n",
       "      <td>3</td>\n",
       "      <td>Munzinger Martin</td>\n",
       "      <td>FDP</td>\n",
       "      <td>SO</td>\n",
       "    </tr>\n",
       "    <tr>\n",
       "      <th>4</th>\n",
       "      <td>1852</td>\n",
       "      <td>4</td>\n",
       "      <td>Furrer Jonas</td>\n",
       "      <td>FDP</td>\n",
       "      <td>ZH</td>\n",
       "    </tr>\n",
       "  </tbody>\n",
       "</table>\n",
       "</div>"
      ],
      "text/plain": [
       "   Jahr  ID            BR_präsi Partei Kanton\n",
       "0  1848   4        Furrer Jonas    FDP     ZH\n",
       "1  1849   4        Furrer Jonas    FDP     ZH\n",
       "2  1850   7  Druey Daniel-Henri    FDP     VD\n",
       "3  1851   3    Munzinger Martin    FDP     SO\n",
       "4  1852   4        Furrer Jonas    FDP     ZH"
      ]
     },
     "execution_count": 20,
     "metadata": {},
     "output_type": "execute_result"
    }
   ],
   "source": [
    "df.head()"
   ]
  },
  {
   "cell_type": "code",
   "execution_count": 21,
   "metadata": {},
   "outputs": [
    {
     "data": {
      "text/html": [
       "<div>\n",
       "<style scoped>\n",
       "    .dataframe tbody tr th:only-of-type {\n",
       "        vertical-align: middle;\n",
       "    }\n",
       "\n",
       "    .dataframe tbody tr th {\n",
       "        vertical-align: top;\n",
       "    }\n",
       "\n",
       "    .dataframe thead th {\n",
       "        text-align: right;\n",
       "    }\n",
       "</style>\n",
       "<table border=\"1\" class=\"dataframe\">\n",
       "  <thead>\n",
       "    <tr style=\"text-align: right;\">\n",
       "      <th></th>\n",
       "      <th>Jahr</th>\n",
       "      <th>ID</th>\n",
       "      <th>BR_präsi</th>\n",
       "      <th>Partei</th>\n",
       "      <th>Kanton</th>\n",
       "    </tr>\n",
       "  </thead>\n",
       "  <tbody>\n",
       "    <tr>\n",
       "      <th>166</th>\n",
       "      <td>2014</td>\n",
       "      <td>112</td>\n",
       "      <td>Burkhalter, Didier</td>\n",
       "      <td>FDP</td>\n",
       "      <td>NE</td>\n",
       "    </tr>\n",
       "    <tr>\n",
       "      <th>167</th>\n",
       "      <td>2015</td>\n",
       "      <td>113</td>\n",
       "      <td>Sommaruga, Simonetta</td>\n",
       "      <td>SP</td>\n",
       "      <td>BE</td>\n",
       "    </tr>\n",
       "    <tr>\n",
       "      <th>168</th>\n",
       "      <td>2016</td>\n",
       "      <td>114</td>\n",
       "      <td>Schneider-Ammann, Johann N.</td>\n",
       "      <td>FDP</td>\n",
       "      <td>BE</td>\n",
       "    </tr>\n",
       "    <tr>\n",
       "      <th>169</th>\n",
       "      <td>2017</td>\n",
       "      <td>109</td>\n",
       "      <td>Leuthard, Doris</td>\n",
       "      <td>CVP</td>\n",
       "      <td>AG</td>\n",
       "    </tr>\n",
       "    <tr>\n",
       "      <th>170</th>\n",
       "      <td>2018</td>\n",
       "      <td>115</td>\n",
       "      <td>Berset, Alain</td>\n",
       "      <td>SP</td>\n",
       "      <td>FR</td>\n",
       "    </tr>\n",
       "  </tbody>\n",
       "</table>\n",
       "</div>"
      ],
      "text/plain": [
       "     Jahr   ID                     BR_präsi Partei Kanton\n",
       "166  2014  112           Burkhalter, Didier    FDP     NE\n",
       "167  2015  113         Sommaruga, Simonetta     SP     BE\n",
       "168  2016  114  Schneider-Ammann, Johann N.    FDP     BE\n",
       "169  2017  109              Leuthard, Doris    CVP     AG\n",
       "170  2018  115                Berset, Alain     SP     FR"
      ]
     },
     "execution_count": 21,
     "metadata": {},
     "output_type": "execute_result"
    }
   ],
   "source": [
    "df.tail()"
   ]
  },
  {
   "cell_type": "code",
   "execution_count": 22,
   "metadata": {},
   "outputs": [
    {
     "data": {
      "text/plain": [
       "171"
      ]
     },
     "execution_count": 22,
     "metadata": {},
     "output_type": "execute_result"
    }
   ],
   "source": [
    "len(df)"
   ]
  },
  {
   "cell_type": "markdown",
   "metadata": {},
   "source": [
    "## Welche Partei hat die meisten BR-Präsidenten"
   ]
  },
  {
   "cell_type": "code",
   "execution_count": 23,
   "metadata": {},
   "outputs": [
    {
     "data": {
      "text/plain": [
       "FDP         106\n",
       "CVP          32\n",
       "SP           19\n",
       "SVP          12\n",
       "BDP           1\n",
       "Liberale      1\n",
       "Name: Partei, dtype: int64"
      ]
     },
     "execution_count": 23,
     "metadata": {},
     "output_type": "execute_result"
    }
   ],
   "source": [
    "df[\"Partei\"].value_counts()"
   ]
  },
  {
   "cell_type": "markdown",
   "metadata": {},
   "source": [
    "## Wer war am häufigsten BR-Präsident"
   ]
  },
  {
   "cell_type": "code",
   "execution_count": 24,
   "metadata": {},
   "outputs": [
    {
     "data": {
      "text/plain": [
       "Schenk, Karl                      6\n",
       "Welti, Emil                       6\n",
       "Motta, Giuseppe                   5\n",
       "Furrer Jonas                      5\n",
       "Etter, Philipp                    4\n",
       "Deucher, Adolf                    4\n",
       "Schulthess, Edmund                4\n",
       "Dubs, Jakob                       3\n",
       "Müller, Eduard                    3\n",
       "Furgler, Kurt                     3\n",
       "Stämpfli, Jakob                   3\n",
       "Petitpierre, Max                  3\n",
       "Fornerod, Constant                3\n",
       "Villiger, Kaspar                  2\n",
       "Droz, Numa                        2\n",
       "Forrer, Ludwig                    2\n",
       "Cotti , Flavio                    2\n",
       "Chaudet, Paul                     2\n",
       "Delamuraz, Jean-Pascal            2\n",
       "Aubert, Pierre                    2\n",
       "Calmy-Rey, Micheline              2\n",
       "Brenner, Ernst                    2\n",
       "Haab, Robert                      2\n",
       "Celio, Enrico                     2\n",
       "Ruchet, Marc-Emile                2\n",
       "Knüsel , Melchior Josef Martin    2\n",
       "Couchepin, Pascal                 2\n",
       "Hauser, Walter                    2\n",
       "Ruchonnet , Antoine Louis John    2\n",
       "Häberlin, Heinrich                2\n",
       "                                 ..\n",
       "Merz, Hans-Rudolf                 1\n",
       "Heer, Joachim                     1\n",
       "Decoppet, Camille                 1\n",
       "Druey Daniel-Henri                1\n",
       "Dreifuss, Ruth                    1\n",
       "Feldmann, Markus                  1\n",
       "Holenstein, Thomas                1\n",
       "Burkhalter, Didier                1\n",
       "Maurer, Ueli                      1\n",
       "Schneider-Ammann, Johann N.       1\n",
       "Honegger, Fritz                   1\n",
       "Celio, Nello                      1\n",
       "Egli, Alphons                     1\n",
       "Brugger, Ernst                    1\n",
       "Schlumpf , Leon                   1\n",
       "Schmid, Samuel                    1\n",
       "Berset, Alain                     1\n",
       "Deiss, Joseph                     1\n",
       "Chuard, Ernest                    1\n",
       "Baumann, Johannes                 1\n",
       "Graber, Pierre                    1\n",
       "Wetter, Ernst                     1\n",
       "Ruffy, Eugène                     1\n",
       "Calonder, Felix-Louis             1\n",
       "Wahlen, Friedrich Traugott        1\n",
       "Hoffmann, Arthur                  1\n",
       "Ritschard, Willi                  1\n",
       "Rubattel, Rodolphe                1\n",
       "Lachenal, Adrien                  1\n",
       "Bavier , Simeon                   1\n",
       "Name: BR_präsi, Length: 97, dtype: int64"
      ]
     },
     "execution_count": 24,
     "metadata": {},
     "output_type": "execute_result"
    }
   ],
   "source": [
    "df[\"BR_präsi\"].value_counts()"
   ]
  },
  {
   "cell_type": "code",
   "execution_count": null,
   "metadata": {},
   "outputs": [],
   "source": []
  },
  {
   "cell_type": "code",
   "execution_count": null,
   "metadata": {},
   "outputs": [],
   "source": []
  }
 ],
 "metadata": {
  "kernelspec": {
   "display_name": "Python 3",
   "language": "python",
   "name": "python3"
  },
  "language_info": {
   "codemirror_mode": {
    "name": "ipython",
    "version": 3
   },
   "file_extension": ".py",
   "mimetype": "text/x-python",
   "name": "python",
   "nbconvert_exporter": "python",
   "pygments_lexer": "ipython3",
   "version": "3.7.0"
  }
 },
 "nbformat": 4,
 "nbformat_minor": 2
}
