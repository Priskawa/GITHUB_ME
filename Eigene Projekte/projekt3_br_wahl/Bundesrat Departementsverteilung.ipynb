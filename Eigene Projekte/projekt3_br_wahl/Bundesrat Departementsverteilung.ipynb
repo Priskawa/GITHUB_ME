{
 "cells": [
  {
   "cell_type": "markdown",
   "metadata": {},
   "source": [
    "# Bundesratswahlen 2018\n",
    "\n",
    "## Bundesrats-Departementeverteilung seit 1848\n",
    "\n",
    "**Quelle aller Daten: Admin.ch**\n",
    "\n",
    "Welche Partei hat welches Departement besetzt? Gibt es \"Lieblingsdepartemente\"?"
   ]
  },
  {
   "cell_type": "code",
   "execution_count": 1,
   "metadata": {},
   "outputs": [],
   "source": [
    "import pandas as pd\n",
    "import numpy as np\n",
    "import datetime\n",
    "\n",
    "%matplotlib inline "
   ]
  },
  {
   "cell_type": "code",
   "execution_count": 2,
   "metadata": {},
   "outputs": [],
   "source": [
    "df = pd.read_excel(\"br_departemente.xlsx\")"
   ]
  },
  {
   "cell_type": "code",
   "execution_count": 3,
   "metadata": {},
   "outputs": [
    {
     "data": {
      "text/html": [
       "<div>\n",
       "<style scoped>\n",
       "    .dataframe tbody tr th:only-of-type {\n",
       "        vertical-align: middle;\n",
       "    }\n",
       "\n",
       "    .dataframe tbody tr th {\n",
       "        vertical-align: top;\n",
       "    }\n",
       "\n",
       "    .dataframe thead th {\n",
       "        text-align: right;\n",
       "    }\n",
       "</style>\n",
       "<table border=\"1\" class=\"dataframe\">\n",
       "  <thead>\n",
       "    <tr style=\"text-align: right;\">\n",
       "      <th></th>\n",
       "      <th>Jahr</th>\n",
       "      <th>ID</th>\n",
       "      <th>Name</th>\n",
       "      <th>Partei</th>\n",
       "      <th>Departement</th>\n",
       "      <th>Dep kurz</th>\n",
       "      <th>Partei.1</th>\n",
       "    </tr>\n",
       "  </thead>\n",
       "  <tbody>\n",
       "    <tr>\n",
       "      <th>0</th>\n",
       "      <td>2018</td>\n",
       "      <td>115</td>\n",
       "      <td>Berset, Alain</td>\n",
       "      <td>FR</td>\n",
       "      <td>Eidgenössisches Departement des Innern</td>\n",
       "      <td>EDI</td>\n",
       "      <td>SP</td>\n",
       "    </tr>\n",
       "    <tr>\n",
       "      <th>1</th>\n",
       "      <td>2018</td>\n",
       "      <td>117</td>\n",
       "      <td>Cassis, Ignazio</td>\n",
       "      <td>TI</td>\n",
       "      <td>Eidgenössisches Departement für auswärtige Ang...</td>\n",
       "      <td>EDA</td>\n",
       "      <td>FDP</td>\n",
       "    </tr>\n",
       "    <tr>\n",
       "      <th>2</th>\n",
       "      <td>2018</td>\n",
       "      <td>109</td>\n",
       "      <td>Leuthard, Doris</td>\n",
       "      <td>AG</td>\n",
       "      <td>Eidgenössisches Departement für Umwelt, Verkeh...</td>\n",
       "      <td>UVEK</td>\n",
       "      <td>CVP</td>\n",
       "    </tr>\n",
       "    <tr>\n",
       "      <th>3</th>\n",
       "      <td>2018</td>\n",
       "      <td>116</td>\n",
       "      <td>Parmelin, Guy</td>\n",
       "      <td>VD</td>\n",
       "      <td>Eidgenössisches Departement für Verteidigung, ...</td>\n",
       "      <td>VBS</td>\n",
       "      <td>SVP</td>\n",
       "    </tr>\n",
       "    <tr>\n",
       "      <th>4</th>\n",
       "      <td>2018</td>\n",
       "      <td>114</td>\n",
       "      <td>Schneider-Ammann, Johann N.</td>\n",
       "      <td>BE</td>\n",
       "      <td>Eidgenössisches Departement für Wirtschaft, Bi...</td>\n",
       "      <td>WBF</td>\n",
       "      <td>FDP</td>\n",
       "    </tr>\n",
       "    <tr>\n",
       "      <th>5</th>\n",
       "      <td>2018</td>\n",
       "      <td>111</td>\n",
       "      <td>Maurer, Ueli</td>\n",
       "      <td>ZH</td>\n",
       "      <td>Eidgenössisches Finanzdepartement</td>\n",
       "      <td>EFD</td>\n",
       "      <td>SVP</td>\n",
       "    </tr>\n",
       "    <tr>\n",
       "      <th>6</th>\n",
       "      <td>2018</td>\n",
       "      <td>113</td>\n",
       "      <td>Sommaruga, Simonetta</td>\n",
       "      <td>BE</td>\n",
       "      <td>Eidgenössisches Justiz- und Polizeidepartement</td>\n",
       "      <td>EJPD</td>\n",
       "      <td>SP</td>\n",
       "    </tr>\n",
       "    <tr>\n",
       "      <th>7</th>\n",
       "      <td>2017</td>\n",
       "      <td>115</td>\n",
       "      <td>Berset, Alain</td>\n",
       "      <td>FR</td>\n",
       "      <td>Eidgenössisches Departement des Innern</td>\n",
       "      <td>EDI</td>\n",
       "      <td>SP</td>\n",
       "    </tr>\n",
       "  </tbody>\n",
       "</table>\n",
       "</div>"
      ],
      "text/plain": [
       "   Jahr   ID                         Name Partei  \\\n",
       "0  2018  115                Berset, Alain     FR   \n",
       "1  2018  117              Cassis, Ignazio     TI   \n",
       "2  2018  109              Leuthard, Doris     AG   \n",
       "3  2018  116                Parmelin, Guy     VD   \n",
       "4  2018  114  Schneider-Ammann, Johann N.     BE   \n",
       "5  2018  111                 Maurer, Ueli     ZH   \n",
       "6  2018  113         Sommaruga, Simonetta     BE   \n",
       "7  2017  115                Berset, Alain     FR   \n",
       "\n",
       "                                         Departement Dep kurz Partei.1  \n",
       "0            Eidgenössisches Departement des Innern       EDI       SP  \n",
       "1  Eidgenössisches Departement für auswärtige Ang...      EDA      FDP  \n",
       "2  Eidgenössisches Departement für Umwelt, Verkeh...     UVEK      CVP  \n",
       "3  Eidgenössisches Departement für Verteidigung, ...      VBS      SVP  \n",
       "4  Eidgenössisches Departement für Wirtschaft, Bi...      WBF      FDP  \n",
       "5                 Eidgenössisches Finanzdepartement       EFD      SVP  \n",
       "6    Eidgenössisches Justiz- und Polizeidepartement      EJPD       SP  \n",
       "7            Eidgenössisches Departement des Innern       EDI       SP  "
      ]
     },
     "execution_count": 3,
     "metadata": {},
     "output_type": "execute_result"
    }
   ],
   "source": [
    "df.head(8)"
   ]
  },
  {
   "cell_type": "code",
   "execution_count": 4,
   "metadata": {},
   "outputs": [
    {
     "data": {
      "text/html": [
       "<div>\n",
       "<style scoped>\n",
       "    .dataframe tbody tr th:only-of-type {\n",
       "        vertical-align: middle;\n",
       "    }\n",
       "\n",
       "    .dataframe tbody tr th {\n",
       "        vertical-align: top;\n",
       "    }\n",
       "\n",
       "    .dataframe thead th {\n",
       "        text-align: right;\n",
       "    }\n",
       "</style>\n",
       "<table border=\"1\" class=\"dataframe\">\n",
       "  <thead>\n",
       "    <tr style=\"text-align: right;\">\n",
       "      <th></th>\n",
       "      <th>Jahr</th>\n",
       "      <th>ID</th>\n",
       "      <th>Name</th>\n",
       "      <th>Partei</th>\n",
       "      <th>Departement</th>\n",
       "      <th>Dep kurz</th>\n",
       "      <th>Partei.1</th>\n",
       "    </tr>\n",
       "  </thead>\n",
       "  <tbody>\n",
       "    <tr>\n",
       "      <th>1245</th>\n",
       "      <td>1848</td>\n",
       "      <td>5</td>\n",
       "      <td>Frey-Herosé, Friedrich</td>\n",
       "      <td>AG</td>\n",
       "      <td>Handels- und Zolldepartement</td>\n",
       "      <td>WBF</td>\n",
       "      <td>FDP</td>\n",
       "    </tr>\n",
       "    <tr>\n",
       "      <th>1246</th>\n",
       "      <td>1848</td>\n",
       "      <td>7</td>\n",
       "      <td>Druey, Daniel-Henri</td>\n",
       "      <td>VD</td>\n",
       "      <td>Justiz- und Polizeidepartement</td>\n",
       "      <td>EJPD</td>\n",
       "      <td>FDP</td>\n",
       "    </tr>\n",
       "    <tr>\n",
       "      <th>1247</th>\n",
       "      <td>1848</td>\n",
       "      <td>1</td>\n",
       "      <td>Ochsenbein, Ulrich</td>\n",
       "      <td>BE</td>\n",
       "      <td>Militärdepartement</td>\n",
       "      <td>VBS</td>\n",
       "      <td>FDP</td>\n",
       "    </tr>\n",
       "    <tr>\n",
       "      <th>1248</th>\n",
       "      <td>1848</td>\n",
       "      <td>4</td>\n",
       "      <td>Furrer, Jonas</td>\n",
       "      <td>ZH</td>\n",
       "      <td>Politisches Departement</td>\n",
       "      <td>EDA</td>\n",
       "      <td>FDP</td>\n",
       "    </tr>\n",
       "    <tr>\n",
       "      <th>1249</th>\n",
       "      <td>1848</td>\n",
       "      <td>2</td>\n",
       "      <td>Naeff, Wilhelm Matthias</td>\n",
       "      <td>SG</td>\n",
       "      <td>Post- und Baudepartement</td>\n",
       "      <td>UVEK</td>\n",
       "      <td>FDP</td>\n",
       "    </tr>\n",
       "  </tbody>\n",
       "</table>\n",
       "</div>"
      ],
      "text/plain": [
       "      Jahr  ID                     Name Partei  \\\n",
       "1245  1848   5   Frey-Herosé, Friedrich     AG   \n",
       "1246  1848   7      Druey, Daniel-Henri     VD   \n",
       "1247  1848   1       Ochsenbein, Ulrich     BE   \n",
       "1248  1848   4            Furrer, Jonas     ZH   \n",
       "1249  1848   2  Naeff, Wilhelm Matthias     SG   \n",
       "\n",
       "                         Departement Dep kurz Partei.1  \n",
       "1245    Handels- und Zolldepartement      WBF      FDP  \n",
       "1246  Justiz- und Polizeidepartement     EJPD      FDP  \n",
       "1247              Militärdepartement      VBS      FDP  \n",
       "1248         Politisches Departement      EDA      FDP  \n",
       "1249        Post- und Baudepartement     UVEK      FDP  "
      ]
     },
     "execution_count": 4,
     "metadata": {},
     "output_type": "execute_result"
    }
   ],
   "source": [
    "df.tail()"
   ]
  },
  {
   "cell_type": "code",
   "execution_count": 5,
   "metadata": {},
   "outputs": [
    {
     "data": {
      "text/plain": [
       "1250"
      ]
     },
     "execution_count": 5,
     "metadata": {},
     "output_type": "execute_result"
    }
   ],
   "source": [
    "len(df)"
   ]
  },
  {
   "cell_type": "code",
   "execution_count": 6,
   "metadata": {},
   "outputs": [
    {
     "data": {
      "text/plain": [
       "(1250, 7)"
      ]
     },
     "execution_count": 6,
     "metadata": {},
     "output_type": "execute_result"
    }
   ],
   "source": [
    "df.shape"
   ]
  },
  {
   "cell_type": "markdown",
   "metadata": {},
   "source": [
    "## Ämter pro Partei\n",
    "\n",
    "(nicht verwenden, unsinnig)"
   ]
  },
  {
   "cell_type": "code",
   "execution_count": 7,
   "metadata": {},
   "outputs": [
    {
     "data": {
      "text/plain": [
       "FDP        780\n",
       "CVP        227\n",
       "SP         133\n",
       "SVP         97\n",
       "BDP         10\n",
       "LIBERAL      3\n",
       "Name: Partei.1, dtype: int64"
      ]
     },
     "execution_count": 7,
     "metadata": {},
     "output_type": "execute_result"
    }
   ],
   "source": [
    "df[\"Partei.1\"].value_counts()"
   ]
  },
  {
   "cell_type": "markdown",
   "metadata": {},
   "source": [
    "## Welche Partei hat welches Departement gehabt\n",
    "\n",
    "(in Prozente umrechnen, da die FDP über Jahre einzige Regierungspartei war...)\n"
   ]
  },
  {
   "cell_type": "code",
   "execution_count": 8,
   "metadata": {},
   "outputs": [
    {
     "data": {
      "text/plain": [
       "Partei.1  Dep kurz\n",
       "BDP       EFD           6\n",
       "          EJPD          3\n",
       "          VBS           1\n",
       "CVP       UVEK         52\n",
       "          EDI          47\n",
       "          EJPD         40\n",
       "          EFD          34\n",
       "          EDA          32\n",
       "          WBF          19\n",
       "          VBS           3\n",
       "FDP       WBF         160\n",
       "          VBS         126\n",
       "          EFD         110\n",
       "          EJPD        106\n",
       "          EDA         101\n",
       "          EDI          99\n",
       "          UVEK         78\n",
       "LIBERAL   EDI           2\n",
       "          EDA           1\n",
       "SP        EDA          39\n",
       "          EDI          30\n",
       "          UVEK         28\n",
       "          EFD          27\n",
       "          EJPD          9\n",
       "SVP       VBS          45\n",
       "          EJPD         23\n",
       "          UVEK         19\n",
       "          EDA           5\n",
       "          EFD           3\n",
       "          WBF           2\n",
       "Name: Dep kurz, dtype: int64"
      ]
     },
     "execution_count": 8,
     "metadata": {},
     "output_type": "execute_result"
    }
   ],
   "source": [
    "df.groupby(\"Partei.1\")[\"Dep kurz\"].value_counts()"
   ]
  },
  {
   "cell_type": "markdown",
   "metadata": {},
   "source": [
    "## Welcher Bundesrat hatte welches Departement\n"
   ]
  },
  {
   "cell_type": "code",
   "execution_count": 9,
   "metadata": {},
   "outputs": [
    {
     "data": {
      "text/plain": [
       "Name                        Dep kurz\n",
       "Ador, Gustave               EDI          2\n",
       "                            EDA          1\n",
       "Anderwert , Fridolin        EJPD         5\n",
       "Aubert, Pierre              EDA         10\n",
       "Baumann, Johannes           EJPD         7\n",
       "Bavier , Simeon             UVEK         2\n",
       "                            EDA          1\n",
       "                            EFD          1\n",
       "Berset, Alain               EDI          7\n",
       "Blocher, Christoph          EJPD         4\n",
       "Bonvin, Roger               EFD          7\n",
       "                            UVEK         6\n",
       "Borel, Eugène               UVEK         3\n",
       "Bourgknecht, Jean           EFD          3\n",
       "Brenner, Ernst              EJPD        13\n",
       "                            EDA          2\n",
       "Brugger, Ernst              WBF          9\n",
       "Burkhalter, Didier          EDA          6\n",
       "                            EDI          3\n",
       "Calmy-Rey, Micheline        EDA          9\n",
       "Calonder, Felix-Louis       EDI          5\n",
       "                            EDA          2\n",
       "Cassis, Ignazio             EDA          2\n",
       "Celio, Enrico               UVEK        11\n",
       "Celio, Nello                EFD          6\n",
       "                            VBS          2\n",
       "Ceresole, Paul              EFD          2\n",
       "                            EJPD         2\n",
       "                            EDA          1\n",
       "                            VBS          1\n",
       "                                        ..\n",
       "Schobinger, Josef Anton     WBF          1\n",
       "Schulthess, Edmund          WBF         23\n",
       "Sommaruga, Simonetta        EJPD         9\n",
       "Spühler, Willy              UVEK         6\n",
       "                            EDA          5\n",
       "Stampfli, Walther           WBF          8\n",
       "Stich, Otto                 EFD         12\n",
       "Streuli, Hans               EFD          6\n",
       "Stämpfli, Jakob             EDA          3\n",
       "                            VBS          3\n",
       "                            EFD          2\n",
       "                            EJPD         1\n",
       "Tschudi, Hans-Peter         EDI         14\n",
       "Villiger, Kaspar            EFD          8\n",
       "                            VBS          7\n",
       "Wahlen, Friedrich Traugott  EDA          5\n",
       "                            WBF          2\n",
       "                            EJPD         1\n",
       "Weber, Max                  EFD          3\n",
       "Welti, Emil                 UVEK        12\n",
       "                            VBS          7\n",
       "                            EDA          5\n",
       "                            EJPD         1\n",
       "Wetter, Ernst               EFD          5\n",
       "Widmer-Schlumpf, Eveline    EFD          6\n",
       "                            EJPD         3\n",
       "Zemp, Joseph                UVEK        16\n",
       "                            EDA          1\n",
       "von Moos, Ludwig            EJPD        12\n",
       "von Steiger, Eduard         EJPD        11\n",
       "Name: Dep kurz, Length: 224, dtype: int64"
      ]
     },
     "execution_count": 9,
     "metadata": {},
     "output_type": "execute_result"
    }
   ],
   "source": [
    "df.groupby(\"Name\")[\"Dep kurz\"].value_counts()"
   ]
  },
  {
   "cell_type": "markdown",
   "metadata": {},
   "source": [
    "## Wer war am länsten Departementsvorsteher, wer am kürzesten"
   ]
  },
  {
   "cell_type": "code",
   "execution_count": 10,
   "metadata": {},
   "outputs": [
    {
     "data": {
      "text/plain": [
       "Name                     Dep kurz\n",
       "Etter, Philipp           EDI         26\n",
       "Schenk, Karl             EDI         24\n",
       "Deucher, Adolf           WBF         23\n",
       "Schulthess, Edmund       WBF         23\n",
       "Motta, Giuseppe          EDA         21\n",
       "Naeff, Wilhelm Matthias  UVEK        17\n",
       "Petitpierre, Max         EDA         17\n",
       "Zemp, Joseph             UVEK        16\n",
       "Leuenberger, Moritz      UVEK        16\n",
       "Häberlin, Heinrich       EJPD        15\n",
       "Kobelt , Karl            VBS         15\n",
       "Musy, Jean-Marie         EFD         15\n",
       "Tschudi, Hans-Peter      EDI         14\n",
       "Hammer, Bernhard         EFD         14\n",
       "Brenner, Ernst           EJPD        13\n",
       "Müller, Eduard           VBS         13\n",
       "Gnägi, Rudolf            VBS         12\n",
       "von Moos, Ludwig         EJPD        12\n",
       "Welti, Emil              UVEK        12\n",
       "Frey-Herosé, Friedrich   WBF         12\n",
       "Name: Dep kurz, dtype: int64"
      ]
     },
     "execution_count": 10,
     "metadata": {},
     "output_type": "execute_result"
    }
   ],
   "source": [
    "df.groupby(\"Name\")[\"Dep kurz\"].value_counts().sort_values(ascending=False).head(20)"
   ]
  },
  {
   "cell_type": "code",
   "execution_count": 11,
   "metadata": {},
   "outputs": [
    {
     "data": {
      "text/plain": [
       "Name                            Dep kurz\n",
       "Scherer, Johann Jakob           WBF         2\n",
       "Munzinger, Martin J.            UVEK        2\n",
       "Forrer, Ludwig                  EDI         2\n",
       "                                EDA         2\n",
       "Ruchonnet , Antoine Louis John  EDA         1\n",
       "Pilet-Golaz, Marcel             EDI         1\n",
       "Schobinger, Josef Anton         WBF         1\n",
       "Perrier, Louis                  UVEK        1\n",
       "Ruchet, Marc-Emile              EFD         1\n",
       "Schobinger, Josef Anton         EJPD        1\n",
       "Druey, Daniel-Henri             EDA         1\n",
       "Ruchonnet , Antoine Louis John  WBF         1\n",
       "Zemp, Joseph                    EDA         1\n",
       "Naeff, Wilhelm Matthias         EDA         1\n",
       "Ruffy, Eugène                   EDA         1\n",
       "                                VBS         1\n",
       "Ruffy, Victor                   EFD         1\n",
       "                                VBS         1\n",
       "Schobinger, Josef Anton         EFD         1\n",
       "Bavier , Simeon                 EFD         1\n",
       "                                EDA         1\n",
       "Schenk, Karl                    EFD         1\n",
       "Scherer, Johann Jakob           EDA         1\n",
       "Ador, Gustave                   EDA         1\n",
       "Perrier, Louis                  EDI         1\n",
       "Lachenal, Adrien                WBF         1\n",
       "Munzinger, Martin J.            WBF         1\n",
       "                                EDA         1\n",
       "Forrer, Ludwig                  EJPD        1\n",
       "                                VBS         1\n",
       "Deucher, Adolf                  UVEK        1\n",
       "                                EJPD        1\n",
       "                                EDI         1\n",
       "Forrer, Ludwig                  WBF         1\n",
       "Welti, Emil                     EJPD        1\n",
       "Wahlen, Friedrich Traugott      EJPD        1\n",
       "Haab, Robert                    EFD         1\n",
       "Decoppet, Camille               EJPD        1\n",
       "                                EDI         1\n",
       "Hammer, Bernhard                EDA         1\n",
       "Hauser, Walter                  EDA         1\n",
       "Heer, Joachim                   EDA         1\n",
       "                                UVEK        1\n",
       "Comtesse , Robert               EJPD        1\n",
       "Heer, Joachim                   WBF         1\n",
       "Hoffmann, Arthur                EJPD        1\n",
       "Stämpfli, Jakob                 EJPD        1\n",
       "Ceresole, Paul                  VBS         1\n",
       "                                EDA         1\n",
       "Schobinger, Josef Anton         EDI         1\n",
       "Name: Dep kurz, dtype: int64"
      ]
     },
     "execution_count": 11,
     "metadata": {},
     "output_type": "execute_result"
    }
   ],
   "source": [
    "df.groupby(\"Name\")[\"Dep kurz\"].value_counts().sort_values(ascending=False).tail(50)"
   ]
  },
  {
   "cell_type": "markdown",
   "metadata": {},
   "source": [
    "## Berner sitzen am liebsten im VBS... ; )"
   ]
  },
  {
   "cell_type": "code",
   "execution_count": 12,
   "metadata": {},
   "outputs": [
    {
     "data": {
      "text/plain": [
       "Partei  Dep kurz\n",
       "BE      VBS         69\n",
       "NE      EDA         57\n",
       "AG      WBF         49\n",
       "ZH      UVEK        44\n",
       "        EFD         44\n",
       "BE      EJPD        39\n",
       "ZG      EDI         35\n",
       "VD      VBS         35\n",
       "SO      EFD         34\n",
       "TI      EDA         29\n",
       "ZH      EJPD        26\n",
       "BE      EDI         24\n",
       "TI      EDI         24\n",
       "VD      EDI         24\n",
       "        WBF         23\n",
       "TG      WBF         23\n",
       "ZH      VBS         23\n",
       "TG      EJPD        21\n",
       "AG      UVEK        21\n",
       "VD      EJPD        19\n",
       "FR      EFD         18\n",
       "SG      VBS         17\n",
       "        WBF         17\n",
       "ZH      EDA         17\n",
       "        WBF         17\n",
       "SG      UVEK        17\n",
       "VD      EFD         17\n",
       "LU      UVEK        16\n",
       "BE      EDA         16\n",
       "AI      EJPD        16\n",
       "TI      UVEK        16\n",
       "SO      WBF         16\n",
       "GE      EDA         14\n",
       "TI      EFD         14\n",
       "BS      EDI         14\n",
       "VD      EDA         14\n",
       "BE      WBF         14\n",
       "GE      EDI         13\n",
       "LU      EFD         13\n",
       "BS      EJPD        13\n",
       "Name: Dep kurz, dtype: int64"
      ]
     },
     "execution_count": 12,
     "metadata": {},
     "output_type": "execute_result"
    }
   ],
   "source": [
    "df.groupby(\"Partei\")[\"Dep kurz\"].value_counts().sort_values(ascending=False).head(40)"
   ]
  },
  {
   "cell_type": "code",
   "execution_count": null,
   "metadata": {},
   "outputs": [],
   "source": []
  },
  {
   "cell_type": "code",
   "execution_count": null,
   "metadata": {},
   "outputs": [],
   "source": []
  }
 ],
 "metadata": {
  "kernelspec": {
   "display_name": "Python 3",
   "language": "python",
   "name": "python3"
  },
  "language_info": {
   "codemirror_mode": {
    "name": "ipython",
    "version": 3
   },
   "file_extension": ".py",
   "mimetype": "text/x-python",
   "name": "python",
   "nbconvert_exporter": "python",
   "pygments_lexer": "ipython3",
   "version": "3.7.0"
  }
 },
 "nbformat": 4,
 "nbformat_minor": 2
}
