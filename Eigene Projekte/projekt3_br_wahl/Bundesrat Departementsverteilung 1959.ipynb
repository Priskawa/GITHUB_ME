{
 "cells": [
  {
   "cell_type": "markdown",
   "metadata": {},
   "source": [
    "# Bundesratswahlen 2018\n",
    "\n",
    "## Bundesrats-Departementeverteilung seit 1959\n",
    "\n",
    "**Quelle aller Daten: Admin.ch**\n",
    "\n",
    "Welche Partei hat welches Departement besetzt? Gibt es \"Lieblingsdepartemente\"?"
   ]
  },
  {
   "cell_type": "code",
   "execution_count": 5,
   "metadata": {},
   "outputs": [],
   "source": [
    "import pandas as pd\n",
    "import numpy as np\n",
    "import datetime\n",
    "\n",
    "%matplotlib inline "
   ]
  },
  {
   "cell_type": "code",
   "execution_count": 9,
   "metadata": {},
   "outputs": [],
   "source": [
    "df = pd.read_csv(\"br_departemente_1959.csv\")"
   ]
  },
  {
   "cell_type": "code",
   "execution_count": 10,
   "metadata": {},
   "outputs": [
    {
     "data": {
      "text/html": [
       "<div>\n",
       "<style scoped>\n",
       "    .dataframe tbody tr th:only-of-type {\n",
       "        vertical-align: middle;\n",
       "    }\n",
       "\n",
       "    .dataframe tbody tr th {\n",
       "        vertical-align: top;\n",
       "    }\n",
       "\n",
       "    .dataframe thead th {\n",
       "        text-align: right;\n",
       "    }\n",
       "</style>\n",
       "<table border=\"1\" class=\"dataframe\">\n",
       "  <thead>\n",
       "    <tr style=\"text-align: right;\">\n",
       "      <th></th>\n",
       "      <th>Jahr</th>\n",
       "      <th>ID</th>\n",
       "      <th>Name</th>\n",
       "      <th>Partei</th>\n",
       "      <th>Departement</th>\n",
       "      <th>Dep kurz</th>\n",
       "      <th>Partei.1</th>\n",
       "    </tr>\n",
       "  </thead>\n",
       "  <tbody>\n",
       "    <tr>\n",
       "      <th>0</th>\n",
       "      <td>2018</td>\n",
       "      <td>115</td>\n",
       "      <td>Berset, Alain</td>\n",
       "      <td>FR</td>\n",
       "      <td>Eidgenössisches Departement des Innern</td>\n",
       "      <td>EDI</td>\n",
       "      <td>SP</td>\n",
       "    </tr>\n",
       "    <tr>\n",
       "      <th>1</th>\n",
       "      <td>2018</td>\n",
       "      <td>117</td>\n",
       "      <td>Cassis, Ignazio</td>\n",
       "      <td>TI</td>\n",
       "      <td>Eidgenössisches Departement für auswärtige Ang...</td>\n",
       "      <td>EDA</td>\n",
       "      <td>FDP</td>\n",
       "    </tr>\n",
       "    <tr>\n",
       "      <th>2</th>\n",
       "      <td>2018</td>\n",
       "      <td>109</td>\n",
       "      <td>Leuthard, Doris</td>\n",
       "      <td>AG</td>\n",
       "      <td>Eidgenössisches Departement für Umwelt, Verkeh...</td>\n",
       "      <td>UVEK</td>\n",
       "      <td>CVP</td>\n",
       "    </tr>\n",
       "    <tr>\n",
       "      <th>3</th>\n",
       "      <td>2018</td>\n",
       "      <td>116</td>\n",
       "      <td>Parmelin, Guy</td>\n",
       "      <td>VD</td>\n",
       "      <td>Eidgenössisches Departement für Verteidigung, ...</td>\n",
       "      <td>VBS</td>\n",
       "      <td>SVP</td>\n",
       "    </tr>\n",
       "    <tr>\n",
       "      <th>4</th>\n",
       "      <td>2018</td>\n",
       "      <td>114</td>\n",
       "      <td>Schneider-Ammann, Johann N.</td>\n",
       "      <td>BE</td>\n",
       "      <td>Eidgenössisches Departement für Wirtschaft, Bi...</td>\n",
       "      <td>WBF</td>\n",
       "      <td>FDP</td>\n",
       "    </tr>\n",
       "    <tr>\n",
       "      <th>5</th>\n",
       "      <td>2018</td>\n",
       "      <td>111</td>\n",
       "      <td>Maurer, Ueli</td>\n",
       "      <td>ZH</td>\n",
       "      <td>Eidgenössisches Finanzdepartement</td>\n",
       "      <td>EFD</td>\n",
       "      <td>SVP</td>\n",
       "    </tr>\n",
       "    <tr>\n",
       "      <th>6</th>\n",
       "      <td>2018</td>\n",
       "      <td>113</td>\n",
       "      <td>Sommaruga, Simonetta</td>\n",
       "      <td>BE</td>\n",
       "      <td>Eidgenössisches Justiz- und Polizeidepartement</td>\n",
       "      <td>EJPD</td>\n",
       "      <td>SP</td>\n",
       "    </tr>\n",
       "    <tr>\n",
       "      <th>7</th>\n",
       "      <td>2017</td>\n",
       "      <td>115</td>\n",
       "      <td>Berset, Alain</td>\n",
       "      <td>FR</td>\n",
       "      <td>Eidgenössisches Departement des Innern</td>\n",
       "      <td>EDI</td>\n",
       "      <td>SP</td>\n",
       "    </tr>\n",
       "  </tbody>\n",
       "</table>\n",
       "</div>"
      ],
      "text/plain": [
       "   Jahr   ID                         Name Partei  \\\n",
       "0  2018  115                Berset, Alain     FR   \n",
       "1  2018  117              Cassis, Ignazio     TI   \n",
       "2  2018  109              Leuthard, Doris     AG   \n",
       "3  2018  116                Parmelin, Guy     VD   \n",
       "4  2018  114  Schneider-Ammann, Johann N.     BE   \n",
       "5  2018  111                 Maurer, Ueli     ZH   \n",
       "6  2018  113         Sommaruga, Simonetta     BE   \n",
       "7  2017  115                Berset, Alain     FR   \n",
       "\n",
       "                                         Departement Dep kurz Partei.1  \n",
       "0            Eidgenössisches Departement des Innern       EDI       SP  \n",
       "1  Eidgenössisches Departement für auswärtige Ang...      EDA      FDP  \n",
       "2  Eidgenössisches Departement für Umwelt, Verkeh...     UVEK      CVP  \n",
       "3  Eidgenössisches Departement für Verteidigung, ...      VBS      SVP  \n",
       "4  Eidgenössisches Departement für Wirtschaft, Bi...      WBF      FDP  \n",
       "5                 Eidgenössisches Finanzdepartement       EFD      SVP  \n",
       "6    Eidgenössisches Justiz- und Polizeidepartement      EJPD       SP  \n",
       "7            Eidgenössisches Departement des Innern       EDI       SP  "
      ]
     },
     "execution_count": 10,
     "metadata": {},
     "output_type": "execute_result"
    }
   ],
   "source": [
    "df.head(8)"
   ]
  },
  {
   "cell_type": "code",
   "execution_count": 11,
   "metadata": {},
   "outputs": [
    {
     "data": {
      "text/html": [
       "<div>\n",
       "<style scoped>\n",
       "    .dataframe tbody tr th:only-of-type {\n",
       "        vertical-align: middle;\n",
       "    }\n",
       "\n",
       "    .dataframe tbody tr th {\n",
       "        vertical-align: top;\n",
       "    }\n",
       "\n",
       "    .dataframe thead th {\n",
       "        text-align: right;\n",
       "    }\n",
       "</style>\n",
       "<table border=\"1\" class=\"dataframe\">\n",
       "  <thead>\n",
       "    <tr style=\"text-align: right;\">\n",
       "      <th></th>\n",
       "      <th>Jahr</th>\n",
       "      <th>ID</th>\n",
       "      <th>Name</th>\n",
       "      <th>Partei</th>\n",
       "      <th>Departement</th>\n",
       "      <th>Dep kurz</th>\n",
       "      <th>Partei.1</th>\n",
       "    </tr>\n",
       "  </thead>\n",
       "  <tbody>\n",
       "    <tr>\n",
       "      <th>438</th>\n",
       "      <td>1959</td>\n",
       "      <td>72</td>\n",
       "      <td>Wahlen, Friedrich Traugott</td>\n",
       "      <td>BE</td>\n",
       "      <td>Justiz- und Polizeidepartement</td>\n",
       "      <td>EJPD</td>\n",
       "      <td>SVP</td>\n",
       "    </tr>\n",
       "    <tr>\n",
       "      <th>439</th>\n",
       "      <td>1959</td>\n",
       "      <td>71</td>\n",
       "      <td>Chaudet, Paul</td>\n",
       "      <td>VD</td>\n",
       "      <td>Militärdepartement</td>\n",
       "      <td>VBS</td>\n",
       "      <td>FDP</td>\n",
       "    </tr>\n",
       "    <tr>\n",
       "      <th>440</th>\n",
       "      <td>1959</td>\n",
       "      <td>63</td>\n",
       "      <td>Petitpierre, Max</td>\n",
       "      <td>NE</td>\n",
       "      <td>Politisches Departement</td>\n",
       "      <td>EDA</td>\n",
       "      <td>FDP</td>\n",
       "    </tr>\n",
       "    <tr>\n",
       "      <th>441</th>\n",
       "      <td>1959</td>\n",
       "      <td>69</td>\n",
       "      <td>Lepori, Giuseppe</td>\n",
       "      <td>TI</td>\n",
       "      <td>Post- und Eisenbahndepartement</td>\n",
       "      <td>UVEK</td>\n",
       "      <td>CVP</td>\n",
       "    </tr>\n",
       "    <tr>\n",
       "      <th>442</th>\n",
       "      <td>1959</td>\n",
       "      <td>70</td>\n",
       "      <td>Holenstein, Thomas</td>\n",
       "      <td>SG</td>\n",
       "      <td>Volkswirtschaftsdepartement</td>\n",
       "      <td>WBF</td>\n",
       "      <td>CVP</td>\n",
       "    </tr>\n",
       "  </tbody>\n",
       "</table>\n",
       "</div>"
      ],
      "text/plain": [
       "     Jahr  ID                        Name Partei  \\\n",
       "438  1959  72  Wahlen, Friedrich Traugott     BE   \n",
       "439  1959  71               Chaudet, Paul     VD   \n",
       "440  1959  63            Petitpierre, Max     NE   \n",
       "441  1959  69            Lepori, Giuseppe     TI   \n",
       "442  1959  70          Holenstein, Thomas     SG   \n",
       "\n",
       "                        Departement Dep kurz Partei.1  \n",
       "438  Justiz- und Polizeidepartement     EJPD      SVP  \n",
       "439              Militärdepartement      VBS      FDP  \n",
       "440         Politisches Departement      EDA      FDP  \n",
       "441  Post- und Eisenbahndepartement     UVEK      CVP  \n",
       "442     Volkswirtschaftsdepartement      WBF      CVP  "
      ]
     },
     "execution_count": 11,
     "metadata": {},
     "output_type": "execute_result"
    }
   ],
   "source": [
    "df.tail()"
   ]
  },
  {
   "cell_type": "code",
   "execution_count": 12,
   "metadata": {},
   "outputs": [
    {
     "data": {
      "text/plain": [
       "443"
      ]
     },
     "execution_count": 12,
     "metadata": {},
     "output_type": "execute_result"
    }
   ],
   "source": [
    "len(df)"
   ]
  },
  {
   "cell_type": "code",
   "execution_count": 13,
   "metadata": {},
   "outputs": [
    {
     "data": {
      "text/plain": [
       "(443, 7)"
      ]
     },
     "execution_count": 13,
     "metadata": {},
     "output_type": "execute_result"
    }
   ],
   "source": [
    "df.shape"
   ]
  },
  {
   "cell_type": "markdown",
   "metadata": {},
   "source": [
    "## Ämter pro Partei\n",
    "\n",
    "(nicht verwenden, unsinnig)"
   ]
  },
  {
   "cell_type": "code",
   "execution_count": 14,
   "metadata": {},
   "outputs": [
    {
     "data": {
      "text/plain": [
       "FDP    130\n",
       "SP     122\n",
       "CVP    113\n",
       "SVP     68\n",
       "BDP     10\n",
       "Name: Partei.1, dtype: int64"
      ]
     },
     "execution_count": 14,
     "metadata": {},
     "output_type": "execute_result"
    }
   ],
   "source": [
    "df[\"Partei.1\"].value_counts()"
   ]
  },
  {
   "cell_type": "markdown",
   "metadata": {},
   "source": [
    "## Welche Partei hat welches Departement gehabt\n",
    "\n",
    "(in Prozente umrechnen, da die FDP über Jahre einzige Regierungspartei war...)\n"
   ]
  },
  {
   "cell_type": "code",
   "execution_count": 15,
   "metadata": {},
   "outputs": [
    {
     "data": {
      "text/plain": [
       "Partei.1  Dep kurz\n",
       "BDP       EFD          6\n",
       "          EJPD         3\n",
       "          VBS          1\n",
       "CVP       EJPD        39\n",
       "          EDI         21\n",
       "          UVEK        16\n",
       "          WBF         14\n",
       "          EDA         10\n",
       "          EFD         10\n",
       "          VBS          3\n",
       "FDP       WBF         49\n",
       "          EFD         28\n",
       "          VBS         24\n",
       "          EDA         11\n",
       "          EDI         10\n",
       "          EJPD         8\n",
       "SP        EDA         39\n",
       "          EDI         30\n",
       "          UVEK        28\n",
       "          EFD         16\n",
       "          EJPD         9\n",
       "SVP       VBS         34\n",
       "          UVEK        19\n",
       "          EDA          5\n",
       "          EJPD         5\n",
       "          EFD          3\n",
       "          WBF          2\n",
       "Name: Dep kurz, dtype: int64"
      ]
     },
     "execution_count": 15,
     "metadata": {},
     "output_type": "execute_result"
    }
   ],
   "source": [
    "df.groupby(\"Partei.1\")[\"Dep kurz\"].value_counts()"
   ]
  },
  {
   "cell_type": "code",
   "execution_count": 25,
   "metadata": {},
   "outputs": [],
   "source": [
    "liste = df.groupby(\"Partei.1\")[\"Dep kurz\"].value_counts()"
   ]
  },
  {
   "cell_type": "code",
   "execution_count": 26,
   "metadata": {},
   "outputs": [],
   "source": [
    "path = \"BR_Dep_Partei_19598.csv\"\n",
    "\n",
    "liste.to_csv(path, index=True)"
   ]
  },
  {
   "cell_type": "markdown",
   "metadata": {},
   "source": [
    "## Welcher Bundesrat hatte welches Departement\n"
   ]
  },
  {
   "cell_type": "code",
   "execution_count": 16,
   "metadata": {},
   "outputs": [
    {
     "data": {
      "text/plain": [
       "Name                         Dep kurz\n",
       "Aubert, Pierre               EDA         10\n",
       "Berset, Alain                EDI          7\n",
       "Blocher, Christoph           EJPD         4\n",
       "Bonvin, Roger                EFD          7\n",
       "                             UVEK         6\n",
       "Bourgknecht, Jean            EFD          3\n",
       "Brugger, Ernst               WBF          9\n",
       "Burkhalter, Didier           EDA          6\n",
       "                             EDI          3\n",
       "Calmy-Rey, Micheline         EDA          9\n",
       "Cassis, Ignazio              EDA          2\n",
       "Celio, Nello                 EFD          6\n",
       "                             VBS          2\n",
       "Chaudet, Paul                VBS          8\n",
       "Chevallaz, Georges-André     EFD          6\n",
       "                             VBS          4\n",
       "Cotti , Flavio               EDI          7\n",
       "                             EDA          6\n",
       "Couchepin, Pascal            EDI          7\n",
       "                             WBF          5\n",
       "Deiss, Joseph                EDA          4\n",
       "                             WBF          4\n",
       "Delamuraz, Jean-Pascal       WBF         12\n",
       "                             VBS          3\n",
       "Dreifuss, Ruth               EDI          9\n",
       "Egli, Alphons                EDI          4\n",
       "Etter, Philipp               EDI          1\n",
       "Felber, René                 EDA          6\n",
       "Friedrich, Rudolf            EJPD         2\n",
       "Furgler, Kurt                EJPD        11\n",
       "                                         ..\n",
       "Leuthard, Doris              UVEK         9\n",
       "                             WBF          5\n",
       "Maurer, Ueli                 VBS          7\n",
       "                             EFD          3\n",
       "Merz, Hans-Rudolf            EFD          7\n",
       "Metzler-Arnold, Ruth         EJPD         5\n",
       "Ogi , Adolf                  UVEK         8\n",
       "                             VBS          5\n",
       "Parmelin, Guy                VBS          3\n",
       "Petitpierre, Max             EDA          3\n",
       "Ritschard, Willi             UVEK         6\n",
       "                             EFD          4\n",
       "Schaffner, Hans              WBF          9\n",
       "Schlumpf , Leon              UVEK         8\n",
       "Schmid, Samuel               VBS          8\n",
       "Schneider-Ammann, Johann N.  WBF          9\n",
       "Sommaruga, Simonetta         EJPD         9\n",
       "Spühler, Willy               UVEK         6\n",
       "                             EDA          5\n",
       "Stich, Otto                  EFD         12\n",
       "Streuli, Hans                EFD          1\n",
       "Tschudi, Hans-Peter          EDI         14\n",
       "Villiger, Kaspar             EFD          8\n",
       "                             VBS          7\n",
       "Wahlen, Friedrich Traugott   EDA          5\n",
       "                             WBF          2\n",
       "                             EJPD         1\n",
       "Widmer-Schlumpf, Eveline     EFD          6\n",
       "                             EJPD         3\n",
       "von Moos, Ludwig             EJPD        12\n",
       "Name: Dep kurz, Length: 72, dtype: int64"
      ]
     },
     "execution_count": 16,
     "metadata": {},
     "output_type": "execute_result"
    }
   ],
   "source": [
    "df.groupby(\"Name\")[\"Dep kurz\"].value_counts()"
   ]
  },
  {
   "cell_type": "code",
   "execution_count": 28,
   "metadata": {},
   "outputs": [],
   "source": [
    "liste = df.groupby(\"Name\")[\"Dep kurz\"].value_counts()"
   ]
  },
  {
   "cell_type": "code",
   "execution_count": 29,
   "metadata": {},
   "outputs": [],
   "source": [
    "path = \"BR_Departemente_nach Person_1959.csv\"\n",
    "\n",
    "liste.to_csv(path, index=True)"
   ]
  },
  {
   "cell_type": "markdown",
   "metadata": {},
   "source": [
    "## Wer war am länsten Departementsvorsteher, wer am kürzesten"
   ]
  },
  {
   "cell_type": "code",
   "execution_count": 18,
   "metadata": {},
   "outputs": [
    {
     "data": {
      "text/plain": [
       "Name                         Dep kurz\n",
       "Leuenberger, Moritz          UVEK        16\n",
       "Tschudi, Hans-Peter          EDI         14\n",
       "von Moos, Ludwig             EJPD        12\n",
       "Delamuraz, Jean-Pascal       WBF         12\n",
       "Gnägi, Rudolf                VBS         12\n",
       "Stich, Otto                  EFD         12\n",
       "Furgler, Kurt                EJPD        11\n",
       "Koller, Arnold               EJPD        11\n",
       "Aubert, Pierre               EDA         10\n",
       "Calmy-Rey, Micheline         EDA          9\n",
       "Brugger, Ernst               WBF          9\n",
       "Graber, Pierre               EDA          9\n",
       "Dreifuss, Ruth               EDI          9\n",
       "Sommaruga, Simonetta         EJPD         9\n",
       "Schneider-Ammann, Johann N.  WBF          9\n",
       "Hürlimann, Hans              EDI          9\n",
       "Leuthard, Doris              UVEK         9\n",
       "Schaffner, Hans              WBF          9\n",
       "Ogi , Adolf                  UVEK         8\n",
       "Chaudet, Paul                VBS          8\n",
       "Name: Dep kurz, dtype: int64"
      ]
     },
     "execution_count": 18,
     "metadata": {},
     "output_type": "execute_result"
    }
   ],
   "source": [
    "df.groupby(\"Name\")[\"Dep kurz\"].value_counts().sort_values(ascending=False).head(20)"
   ]
  },
  {
   "cell_type": "code",
   "execution_count": 19,
   "metadata": {},
   "outputs": [
    {
     "data": {
      "text/plain": [
       "Name                        Dep kurz\n",
       "Schlumpf , Leon             UVEK        8\n",
       "Berset, Alain               EDI         7\n",
       "Maurer, Ueli                VBS         7\n",
       "Villiger, Kaspar            VBS         7\n",
       "Couchepin, Pascal           EDI         7\n",
       "Merz, Hans-Rudolf           EFD         7\n",
       "Bonvin, Roger               EFD         7\n",
       "Cotti , Flavio              EDI         7\n",
       "                            EDA         6\n",
       "Chevallaz, Georges-André    EFD         6\n",
       "Kopp, Elisabeth             EJPD        6\n",
       "Widmer-Schlumpf, Eveline    EFD         6\n",
       "Celio, Nello                EFD         6\n",
       "Spühler, Willy              UVEK        6\n",
       "Felber, René                EDA         6\n",
       "Burkhalter, Didier          EDA         6\n",
       "Bonvin, Roger               UVEK        6\n",
       "Ritschard, Willi            UVEK        6\n",
       "Couchepin, Pascal           WBF         5\n",
       "Honegger, Fritz             WBF         5\n",
       "Spühler, Willy              EDA         5\n",
       "Wahlen, Friedrich Traugott  EDA         5\n",
       "Leuthard, Doris             WBF         5\n",
       "Ogi , Adolf                 VBS         5\n",
       "Metzler-Arnold, Ruth        EJPD        5\n",
       "Furgler, Kurt               WBF         4\n",
       "Chevallaz, Georges-André    VBS         4\n",
       "Blocher, Christoph          EJPD        4\n",
       "Egli, Alphons               EDI         4\n",
       "Ritschard, Willi            EFD         4\n",
       "Deiss, Joseph               WBF         4\n",
       "                            EDA         4\n",
       "Petitpierre, Max            EDA         3\n",
       "Parmelin, Guy               VBS         3\n",
       "Koller, Arnold              VBS         3\n",
       "Maurer, Ueli                EFD         3\n",
       "Gnägi, Rudolf               UVEK        3\n",
       "Delamuraz, Jean-Pascal      VBS         3\n",
       "Burkhalter, Didier          EDI         3\n",
       "Bourgknecht, Jean           EFD         3\n",
       "Widmer-Schlumpf, Eveline    EJPD        3\n",
       "Wahlen, Friedrich Traugott  WBF         2\n",
       "Cassis, Ignazio             EDA         2\n",
       "Celio, Nello                VBS         2\n",
       "Friedrich, Rudolf           EJPD        2\n",
       "Etter, Philipp              EDI         1\n",
       "Wahlen, Friedrich Traugott  EJPD        1\n",
       "Holenstein, Thomas          WBF         1\n",
       "Lepori, Giuseppe            UVEK        1\n",
       "Streuli, Hans               EFD         1\n",
       "Name: Dep kurz, dtype: int64"
      ]
     },
     "execution_count": 19,
     "metadata": {},
     "output_type": "execute_result"
    }
   ],
   "source": [
    "df.groupby(\"Name\")[\"Dep kurz\"].value_counts().sort_values(ascending=False).tail(50)"
   ]
  },
  {
   "cell_type": "markdown",
   "metadata": {},
   "source": [
    "## Berner sitzen am liebsten im VBS... ; )"
   ]
  },
  {
   "cell_type": "code",
   "execution_count": 22,
   "metadata": {},
   "outputs": [
    {
     "data": {
      "text/plain": [
       "Partei  Dep kurz\n",
       "NE      EDA         34\n",
       "BE      VBS         25\n",
       "ZH      UVEK        22\n",
       "VD      VBS         18\n",
       "SO      EFD         16\n",
       "AI      EJPD        16\n",
       "AG      WBF         14\n",
       "BS      EDI         14\n",
       "ZH      WBF         14\n",
       "OW      EJPD        12\n",
       "ZH      EJPD        12\n",
       "VD      WBF         12\n",
       "BE      WBF         11\n",
       "SG      EJPD        11\n",
       "BE      UVEK        11\n",
       "ZG      EDI         10\n",
       "BE      EJPD        10\n",
       "AG      UVEK         9\n",
       "GE      EDA          9\n",
       "        EDI          9\n",
       "TI      EDA          8\n",
       "GR      UVEK         8\n",
       "LU      EFD          8\n",
       "TI      EDI          7\n",
       "FR      EDI          7\n",
       "VS      EFD          7\n",
       "        EDI          7\n",
       "AR      EFD          7\n",
       "LU      VBS          7\n",
       "ZH      VBS          7\n",
       "VS      UVEK         6\n",
       "GR      EFD          6\n",
       "TI      EFD          6\n",
       "VD      EFD          6\n",
       "SO      UVEK         6\n",
       "ZH      EDA          5\n",
       "SG      WBF          5\n",
       "BE      EDA          5\n",
       "VS      WBF          5\n",
       "ZH      EFD          4\n",
       "FR      EDA          4\n",
       "        WBF          4\n",
       "LU      EDI          4\n",
       "FR      EFD          3\n",
       "GR      EJPD         3\n",
       "AI      VBS          3\n",
       "NE      EDI          3\n",
       "TI      VBS          2\n",
       "        UVEK         1\n",
       "Name: Dep kurz, dtype: int64"
      ]
     },
     "execution_count": 22,
     "metadata": {},
     "output_type": "execute_result"
    }
   ],
   "source": [
    "df.groupby(\"Partei\")[\"Dep kurz\"].value_counts().sort_values(ascending=False).head(200)"
   ]
  },
  {
   "cell_type": "code",
   "execution_count": 23,
   "metadata": {},
   "outputs": [],
   "source": [
    "liste = df.groupby(\"Partei\")[\"Dep kurz\"].value_counts().sort_values(ascending=False).head(200)"
   ]
  },
  {
   "cell_type": "code",
   "execution_count": 24,
   "metadata": {},
   "outputs": [],
   "source": [
    "path = \"BR_Departemente_KT_1959.csv\"\n",
    "\n",
    "liste.to_csv(path, index=True)"
   ]
  },
  {
   "cell_type": "code",
   "execution_count": null,
   "metadata": {},
   "outputs": [],
   "source": []
  }
 ],
 "metadata": {
  "kernelspec": {
   "display_name": "Python 3",
   "language": "python",
   "name": "python3"
  },
  "language_info": {
   "codemirror_mode": {
    "name": "ipython",
    "version": 3
   },
   "file_extension": ".py",
   "mimetype": "text/x-python",
   "name": "python",
   "nbconvert_exporter": "python",
   "pygments_lexer": "ipython3",
   "version": "3.7.0"
  }
 },
 "nbformat": 4,
 "nbformat_minor": 2
}
