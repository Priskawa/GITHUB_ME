{
 "cells": [
  {
   "cell_type": "markdown",
   "metadata": {},
   "source": [
    "# Bundesratswahlen 2018\n",
    "\n",
    "## Geschichte der BR-Wahlen seit 1848\n",
    "\n",
    "**Quelle aller Daten: Admin.ch**\n",
    "\n",
    "Wie viel Bundesräte pro Partei?...."
   ]
  },
  {
   "cell_type": "code",
   "execution_count": 1,
   "metadata": {},
   "outputs": [],
   "source": [
    "import pandas as pd\n",
    "import numpy as np\n",
    "from datetime import datetime\n",
    "import geopandas as gpd\n",
    "import matplotlib.pyplot as plt\n",
    "\n",
    "%matplotlib inline "
   ]
  },
  {
   "cell_type": "code",
   "execution_count": 2,
   "metadata": {},
   "outputs": [],
   "source": [
    "from datetime import timedelta"
   ]
  },
  {
   "cell_type": "code",
   "execution_count": 3,
   "metadata": {},
   "outputs": [],
   "source": [
    "plt.style.use('seaborn')"
   ]
  },
  {
   "cell_type": "code",
   "execution_count": 4,
   "metadata": {},
   "outputs": [],
   "source": [
    "df = pd.read_csv(\"BR_OVERVIEW_NEU.csv\")"
   ]
  },
  {
   "cell_type": "code",
   "execution_count": 5,
   "metadata": {},
   "outputs": [
    {
     "data": {
      "text/html": [
       "<div>\n",
       "<style scoped>\n",
       "    .dataframe tbody tr th:only-of-type {\n",
       "        vertical-align: middle;\n",
       "    }\n",
       "\n",
       "    .dataframe tbody tr th {\n",
       "        vertical-align: top;\n",
       "    }\n",
       "\n",
       "    .dataframe thead th {\n",
       "        text-align: right;\n",
       "    }\n",
       "</style>\n",
       "<table border=\"1\" class=\"dataframe\">\n",
       "  <thead>\n",
       "    <tr style=\"text-align: right;\">\n",
       "      <th></th>\n",
       "      <th>ID</th>\n",
       "      <th>Name</th>\n",
       "      <th>Kanton</th>\n",
       "      <th>Eintritt BR</th>\n",
       "      <th>Austritt BR</th>\n",
       "      <th>Heimatort</th>\n",
       "      <th>ID Heimatort</th>\n",
       "      <th>Gewählt Wahlgang</th>\n",
       "      <th>Gewählt Stimmen</th>\n",
       "      <th>Absolutes Mehr</th>\n",
       "      <th>Stimmen ü aMehr</th>\n",
       "      <th>Partei</th>\n",
       "    </tr>\n",
       "  </thead>\n",
       "  <tbody>\n",
       "    <tr>\n",
       "      <th>0</th>\n",
       "      <td>1</td>\n",
       "      <td>Ochsenbein, Ulrich</td>\n",
       "      <td>BE</td>\n",
       "      <td>16.11.1848</td>\n",
       "      <td>31.12.1854</td>\n",
       "      <td>Nidau</td>\n",
       "      <td>NaN</td>\n",
       "      <td>1</td>\n",
       "      <td>92</td>\n",
       "      <td>67</td>\n",
       "      <td>25</td>\n",
       "      <td>FDP</td>\n",
       "    </tr>\n",
       "    <tr>\n",
       "      <th>1</th>\n",
       "      <td>2</td>\n",
       "      <td>Naeff, Wilhelm Matthias</td>\n",
       "      <td>SG</td>\n",
       "      <td>16.11.1848</td>\n",
       "      <td>31.12.1875</td>\n",
       "      <td>Altstätten</td>\n",
       "      <td>NaN</td>\n",
       "      <td>1</td>\n",
       "      <td>72</td>\n",
       "      <td>65</td>\n",
       "      <td>7</td>\n",
       "      <td>FDP</td>\n",
       "    </tr>\n",
       "    <tr>\n",
       "      <th>2</th>\n",
       "      <td>3</td>\n",
       "      <td>Munzinger, Martin J.</td>\n",
       "      <td>SO</td>\n",
       "      <td>16.11.1848</td>\n",
       "      <td>06.02.1855</td>\n",
       "      <td>Olten</td>\n",
       "      <td>NaN</td>\n",
       "      <td>2</td>\n",
       "      <td>71</td>\n",
       "      <td>67</td>\n",
       "      <td>4</td>\n",
       "      <td>FDP</td>\n",
       "    </tr>\n",
       "    <tr>\n",
       "      <th>3</th>\n",
       "      <td>4</td>\n",
       "      <td>Furrer, Jonas</td>\n",
       "      <td>ZH</td>\n",
       "      <td>16.11.1848</td>\n",
       "      <td>25.07.1861</td>\n",
       "      <td>Winterthur</td>\n",
       "      <td>NaN</td>\n",
       "      <td>2</td>\n",
       "      <td>85</td>\n",
       "      <td>67</td>\n",
       "      <td>18</td>\n",
       "      <td>FDP</td>\n",
       "    </tr>\n",
       "    <tr>\n",
       "      <th>4</th>\n",
       "      <td>5</td>\n",
       "      <td>Frey-Herosé, Friedrich</td>\n",
       "      <td>AG</td>\n",
       "      <td>16.11.1848</td>\n",
       "      <td>31.12.1866</td>\n",
       "      <td>Aarau</td>\n",
       "      <td>NaN</td>\n",
       "      <td>2</td>\n",
       "      <td>70</td>\n",
       "      <td>66</td>\n",
       "      <td>4</td>\n",
       "      <td>FDP</td>\n",
       "    </tr>\n",
       "  </tbody>\n",
       "</table>\n",
       "</div>"
      ],
      "text/plain": [
       "   ID                     Name Kanton Eintritt BR Austritt BR   Heimatort  \\\n",
       "0   1       Ochsenbein, Ulrich     BE  16.11.1848  31.12.1854       Nidau   \n",
       "1   2  Naeff, Wilhelm Matthias     SG  16.11.1848  31.12.1875  Altstätten   \n",
       "2   3     Munzinger, Martin J.     SO  16.11.1848  06.02.1855       Olten   \n",
       "3   4            Furrer, Jonas     ZH  16.11.1848  25.07.1861  Winterthur   \n",
       "4   5   Frey-Herosé, Friedrich     AG  16.11.1848  31.12.1866       Aarau   \n",
       "\n",
       "   ID Heimatort  Gewählt Wahlgang  Gewählt Stimmen  Absolutes Mehr  \\\n",
       "0           NaN                 1               92              67   \n",
       "1           NaN                 1               72              65   \n",
       "2           NaN                 2               71              67   \n",
       "3           NaN                 2               85              67   \n",
       "4           NaN                 2               70              66   \n",
       "\n",
       "   Stimmen ü aMehr Partei  \n",
       "0               25    FDP  \n",
       "1                7    FDP  \n",
       "2                4    FDP  \n",
       "3               18    FDP  \n",
       "4                4    FDP  "
      ]
     },
     "execution_count": 5,
     "metadata": {},
     "output_type": "execute_result"
    }
   ],
   "source": [
    "df.head()"
   ]
  },
  {
   "cell_type": "code",
   "execution_count": 6,
   "metadata": {},
   "outputs": [
    {
     "data": {
      "text/html": [
       "<div>\n",
       "<style scoped>\n",
       "    .dataframe tbody tr th:only-of-type {\n",
       "        vertical-align: middle;\n",
       "    }\n",
       "\n",
       "    .dataframe tbody tr th {\n",
       "        vertical-align: top;\n",
       "    }\n",
       "\n",
       "    .dataframe thead th {\n",
       "        text-align: right;\n",
       "    }\n",
       "</style>\n",
       "<table border=\"1\" class=\"dataframe\">\n",
       "  <thead>\n",
       "    <tr style=\"text-align: right;\">\n",
       "      <th></th>\n",
       "      <th>ID</th>\n",
       "      <th>Name</th>\n",
       "      <th>Kanton</th>\n",
       "      <th>Eintritt BR</th>\n",
       "      <th>Austritt BR</th>\n",
       "      <th>Heimatort</th>\n",
       "      <th>ID Heimatort</th>\n",
       "      <th>Gewählt Wahlgang</th>\n",
       "      <th>Gewählt Stimmen</th>\n",
       "      <th>Absolutes Mehr</th>\n",
       "      <th>Stimmen ü aMehr</th>\n",
       "      <th>Partei</th>\n",
       "    </tr>\n",
       "  </thead>\n",
       "  <tbody>\n",
       "    <tr>\n",
       "      <th>112</th>\n",
       "      <td>113</td>\n",
       "      <td>Sommaruga, Simonetta</td>\n",
       "      <td>BE</td>\n",
       "      <td>22.09.2010</td>\n",
       "      <td>02.12.2018</td>\n",
       "      <td>Lugano, Eggiwil</td>\n",
       "      <td>NaN</td>\n",
       "      <td>4</td>\n",
       "      <td>159</td>\n",
       "      <td>121</td>\n",
       "      <td>38</td>\n",
       "      <td>SP</td>\n",
       "    </tr>\n",
       "    <tr>\n",
       "      <th>113</th>\n",
       "      <td>114</td>\n",
       "      <td>Schneider-Ammann, Johann N.</td>\n",
       "      <td>BE</td>\n",
       "      <td>22.09.2010</td>\n",
       "      <td>02.12.2018</td>\n",
       "      <td>Hasle bei Burgdorf</td>\n",
       "      <td>NaN</td>\n",
       "      <td>5</td>\n",
       "      <td>144</td>\n",
       "      <td>119</td>\n",
       "      <td>25</td>\n",
       "      <td>FDP</td>\n",
       "    </tr>\n",
       "    <tr>\n",
       "      <th>114</th>\n",
       "      <td>115</td>\n",
       "      <td>Berset, Alain</td>\n",
       "      <td>FR</td>\n",
       "      <td>14.12.2011</td>\n",
       "      <td>02.12.2018</td>\n",
       "      <td>Misery-Courtion</td>\n",
       "      <td>NaN</td>\n",
       "      <td>2</td>\n",
       "      <td>126</td>\n",
       "      <td>123</td>\n",
       "      <td>3</td>\n",
       "      <td>SP</td>\n",
       "    </tr>\n",
       "    <tr>\n",
       "      <th>115</th>\n",
       "      <td>116</td>\n",
       "      <td>Parmelin, Guy</td>\n",
       "      <td>VD</td>\n",
       "      <td>09.12.2015</td>\n",
       "      <td>02.12.2018</td>\n",
       "      <td>Bursins</td>\n",
       "      <td>NaN</td>\n",
       "      <td>3</td>\n",
       "      <td>138</td>\n",
       "      <td>119</td>\n",
       "      <td>19</td>\n",
       "      <td>SVP</td>\n",
       "    </tr>\n",
       "    <tr>\n",
       "      <th>116</th>\n",
       "      <td>117</td>\n",
       "      <td>Cassis, Ignazio</td>\n",
       "      <td>TI</td>\n",
       "      <td>20.09.2017</td>\n",
       "      <td>02.12.2018</td>\n",
       "      <td>Sessa</td>\n",
       "      <td>NaN</td>\n",
       "      <td>2</td>\n",
       "      <td>125</td>\n",
       "      <td>123</td>\n",
       "      <td>2</td>\n",
       "      <td>FDP</td>\n",
       "    </tr>\n",
       "  </tbody>\n",
       "</table>\n",
       "</div>"
      ],
      "text/plain": [
       "      ID                         Name Kanton Eintritt BR Austritt BR  \\\n",
       "112  113         Sommaruga, Simonetta     BE  22.09.2010  02.12.2018   \n",
       "113  114  Schneider-Ammann, Johann N.     BE  22.09.2010  02.12.2018   \n",
       "114  115                Berset, Alain     FR  14.12.2011  02.12.2018   \n",
       "115  116                Parmelin, Guy     VD  09.12.2015  02.12.2018   \n",
       "116  117              Cassis, Ignazio     TI  20.09.2017  02.12.2018   \n",
       "\n",
       "              Heimatort  ID Heimatort  Gewählt Wahlgang  Gewählt Stimmen  \\\n",
       "112     Lugano, Eggiwil           NaN                 4              159   \n",
       "113  Hasle bei Burgdorf           NaN                 5              144   \n",
       "114     Misery-Courtion           NaN                 2              126   \n",
       "115             Bursins           NaN                 3              138   \n",
       "116               Sessa           NaN                 2              125   \n",
       "\n",
       "     Absolutes Mehr  Stimmen ü aMehr Partei  \n",
       "112             121               38     SP  \n",
       "113             119               25    FDP  \n",
       "114             123                3     SP  \n",
       "115             119               19    SVP  \n",
       "116             123                2    FDP  "
      ]
     },
     "execution_count": 6,
     "metadata": {},
     "output_type": "execute_result"
    }
   ],
   "source": [
    "df.tail()"
   ]
  },
  {
   "cell_type": "code",
   "execution_count": 7,
   "metadata": {},
   "outputs": [
    {
     "data": {
      "text/plain": [
       "117"
      ]
     },
     "execution_count": 7,
     "metadata": {},
     "output_type": "execute_result"
    }
   ],
   "source": [
    "len(df)"
   ]
  },
  {
   "cell_type": "code",
   "execution_count": 8,
   "metadata": {},
   "outputs": [
    {
     "data": {
      "text/plain": [
       "(117, 12)"
      ]
     },
     "execution_count": 8,
     "metadata": {},
     "output_type": "execute_result"
    }
   ],
   "source": [
    "df.shape"
   ]
  },
  {
   "cell_type": "markdown",
   "metadata": {},
   "source": [
    "## Welcher Kanton hat die meisten Bundesräte"
   ]
  },
  {
   "cell_type": "code",
   "execution_count": 48,
   "metadata": {},
   "outputs": [
    {
     "data": {
      "text/plain": [
       "ZH    20\n",
       "VD    15\n",
       "BE    14\n",
       "NE     9\n",
       "TI     8\n",
       "SO     6\n",
       "LU     5\n",
       "AG     5\n",
       "SG     5\n",
       "GE     5\n",
       "FR     4\n",
       "GR     4\n",
       "VS     3\n",
       "TG     3\n",
       "BS     2\n",
       "AR     2\n",
       "ZG     2\n",
       "AI     2\n",
       "GL     1\n",
       "OW     1\n",
       "BL     1\n",
       "Name: Kanton, dtype: int64"
      ]
     },
     "execution_count": 48,
     "metadata": {},
     "output_type": "execute_result"
    }
   ],
   "source": [
    "df[\"Kanton\"].value_counts()"
   ]
  },
  {
   "cell_type": "code",
   "execution_count": 49,
   "metadata": {},
   "outputs": [],
   "source": [
    "liste = df[\"Kanton\"].value_counts()"
   ]
  },
  {
   "cell_type": "code",
   "execution_count": 50,
   "metadata": {},
   "outputs": [],
   "source": [
    "path = \"BR_Kanton_1848.csv\"\n",
    "\n",
    "liste.to_csv(path, index=True)"
   ]
  },
  {
   "cell_type": "code",
   "execution_count": 10,
   "metadata": {},
   "outputs": [],
   "source": [
    "my_title = (\"Anzahl Bundesräte pro Kanton seit 1848\")"
   ]
  },
  {
   "cell_type": "code",
   "execution_count": 11,
   "metadata": {},
   "outputs": [
    {
     "data": {
      "text/plain": [
       "<matplotlib.axes._subplots.AxesSubplot at 0x111fbe588>"
      ]
     },
     "execution_count": 11,
     "metadata": {},
     "output_type": "execute_result"
    },
    {
     "data": {
      "image/png": "[encoded data removed]",
      "text/plain": [
       "<Figure size 576x360 with 1 Axes>"
      ]
     },
     "metadata": {},
     "output_type": "display_data"
    }
   ],
   "source": [
    "df[\"Kanton\"].value_counts().head(26).plot(kind='barh', figsize=(8,5), title=my_title)"
   ]
  },
  {
   "cell_type": "markdown",
   "metadata": {},
   "source": [
    "## Wie viele Wahlgänge werden benötigt"
   ]
  },
  {
   "cell_type": "code",
   "execution_count": 12,
   "metadata": {},
   "outputs": [
    {
     "data": {
      "text/plain": [
       "1    72\n",
       "2    17\n",
       "3    10\n",
       "5     8\n",
       "4     6\n",
       "6     4\n",
       "Name: Gewählt Wahlgang, dtype: int64"
      ]
     },
     "execution_count": 12,
     "metadata": {},
     "output_type": "execute_result"
    }
   ],
   "source": [
    "df[\"Gewählt Wahlgang\"].value_counts()"
   ]
  },
  {
   "cell_type": "code",
   "execution_count": 51,
   "metadata": {},
   "outputs": [],
   "source": [
    "liste = df[\"Gewählt Wahlgang\"].value_counts()"
   ]
  },
  {
   "cell_type": "code",
   "execution_count": 52,
   "metadata": {},
   "outputs": [],
   "source": [
    "path = \"BR_AnzWahlgang_1848.csv\"\n",
    "\n",
    "liste.to_csv(path, index=True)"
   ]
  },
  {
   "cell_type": "code",
   "execution_count": 13,
   "metadata": {},
   "outputs": [],
   "source": [
    "my_title = (\"Wie viele Wahlgänge wurden zur Wahl benötigt?\")"
   ]
  },
  {
   "cell_type": "code",
   "execution_count": 14,
   "metadata": {},
   "outputs": [
    {
     "data": {
      "text/plain": [
       "<matplotlib.axes._subplots.AxesSubplot at 0x111fbe0b8>"
      ]
     },
     "execution_count": 14,
     "metadata": {},
     "output_type": "execute_result"
    },
    {
     "data": {
      "image/png": "[encoded data removed]",
      "text/plain": [
       "<Figure size 576x360 with 1 Axes>"
      ]
     },
     "metadata": {},
     "output_type": "display_data"
    }
   ],
   "source": [
    "df[\"Gewählt Wahlgang\"].value_counts().head(10).plot(kind='barh', figsize=(8,5), title=my_title)"
   ]
  },
  {
   "cell_type": "markdown",
   "metadata": {},
   "source": [
    "## Wie viele Bundesräte pro Partei"
   ]
  },
  {
   "cell_type": "code",
   "execution_count": 15,
   "metadata": {},
   "outputs": [
    {
     "data": {
      "text/plain": [
       "FDP                            70\n",
       "CVP                            20\n",
       "SP                             14\n",
       "SVP                            10\n",
       "BDP                             2\n",
       "LIBERALE PARTEI DER SCHWEIZ     1\n",
       "Name: Partei, dtype: int64"
      ]
     },
     "execution_count": 15,
     "metadata": {},
     "output_type": "execute_result"
    }
   ],
   "source": [
    "df[\"Partei\"].value_counts()"
   ]
  },
  {
   "cell_type": "code",
   "execution_count": 16,
   "metadata": {},
   "outputs": [],
   "source": [
    "my_title = (\"Wie viele Bundesräte pro Partei?\")"
   ]
  },
  {
   "cell_type": "code",
   "execution_count": 17,
   "metadata": {},
   "outputs": [
    {
     "data": {
      "text/plain": [
       "<matplotlib.axes._subplots.AxesSubplot at 0x114cbe9e8>"
      ]
     },
     "execution_count": 17,
     "metadata": {},
     "output_type": "execute_result"
    },
    {
     "data": {
      "image/png": "[encoded data removed]",
      "text/plain": [
       "<Figure size 576x360 with 1 Axes>"
      ]
     },
     "metadata": {},
     "output_type": "display_data"
    }
   ],
   "source": [
    "df[\"Partei\"].value_counts().head(10).plot(kind='barh', figsize=(8,5), title=my_title)"
   ]
  },
  {
   "cell_type": "markdown",
   "metadata": {},
   "source": [
    "## Wer wurde mit Glanzresultat gewählt"
   ]
  },
  {
   "cell_type": "code",
   "execution_count": 54,
   "metadata": {},
   "outputs": [
    {
     "data": {
      "text/plain": [
       "Name\n",
       "Hoffmann, Arthur    89\n",
       "Motta, Giuseppe     84\n",
       "Feldmann, Markus    82\n",
       "Name: Stimmen ü aMehr, dtype: int64"
      ]
     },
     "execution_count": 54,
     "metadata": {},
     "output_type": "execute_result"
    }
   ],
   "source": [
    "df.groupby(\"Name\")[\"Stimmen ü aMehr\"].sum().sort_values(ascending=False).head(3)"
   ]
  },
  {
   "cell_type": "code",
   "execution_count": 55,
   "metadata": {},
   "outputs": [],
   "source": [
    "liste = df.groupby(\"Name\")[\"Stimmen ü aMehr\"].sum().sort_values(ascending=False).head(20)"
   ]
  },
  {
   "cell_type": "code",
   "execution_count": 56,
   "metadata": {},
   "outputs": [],
   "source": [
    "path = \"BR_Stimmen_ü_aMehr_1848.csv\"\n",
    "\n",
    "liste.to_csv(path, index=True)"
   ]
  },
  {
   "cell_type": "code",
   "execution_count": null,
   "metadata": {},
   "outputs": [],
   "source": []
  },
  {
   "cell_type": "code",
   "execution_count": 20,
   "metadata": {},
   "outputs": [],
   "source": [
    "my_title = (\"Wer wurde mit Glanzresultat gewählt?\")"
   ]
  },
  {
   "cell_type": "code",
   "execution_count": 21,
   "metadata": {},
   "outputs": [
    {
     "data": {
      "text/plain": [
       "<matplotlib.axes._subplots.AxesSubplot at 0x114ec1d30>"
      ]
     },
     "execution_count": 21,
     "metadata": {},
     "output_type": "execute_result"
    },
    {
     "data": {
      "image/png": "[encoded data removed]",
      "text/plain": [
       "<Figure size 576x360 with 1 Axes>"
      ]
     },
     "metadata": {},
     "output_type": "display_data"
    }
   ],
   "source": [
    "df.groupby(\"Name\")[\"Stimmen ü aMehr\"].sum().sort_values(ascending=False).head(15).plot(kind='barh', figsize=(8,5), title=my_title)"
   ]
  },
  {
   "cell_type": "markdown",
   "metadata": {},
   "source": [
    "## Wer knapp über dem absoluten Mehr"
   ]
  },
  {
   "cell_type": "code",
   "execution_count": 22,
   "metadata": {},
   "outputs": [
    {
     "data": {
      "text/plain": [
       "Name\n",
       "Metzler-Arnold, Ruth              3\n",
       "Ruchonnet , Antoine Louis John    3\n",
       "Widmer-Schlumpf, Eveline          3\n",
       "Challet-Venel, Jean-Jacques       3\n",
       "Kopp, Elisabeth                   3\n",
       "Frey, Emil                        3\n",
       "Berset, Alain                     3\n",
       "Egli, Alphons                     2\n",
       "Cassis, Ignazio                   2\n",
       "Ritschard, Willi                  2\n",
       "Blocher, Christoph                2\n",
       "Schenk, Karl                      1\n",
       "Stich, Otto                       1\n",
       "Franscini, Stefano                1\n",
       "Droz, Numa                        0\n",
       "Pioda, Giovanni Battista          0\n",
       "Hammer, Bernhard                  0\n",
       "Maurer, Ueli                      0\n",
       "Meyer, Albert                     0\n",
       "Deiss, Joseph                     0\n",
       "Name: Stimmen ü aMehr, dtype: int64"
      ]
     },
     "execution_count": 22,
     "metadata": {},
     "output_type": "execute_result"
    }
   ],
   "source": [
    "df.groupby(\"Name\")[\"Stimmen ü aMehr\"].sum().sort_values(ascending=False).tail(20)"
   ]
  },
  {
   "cell_type": "code",
   "execution_count": 23,
   "metadata": {},
   "outputs": [],
   "source": [
    "my_title = (\"Wer rutschte knapp in den Bundesrat?\")"
   ]
  },
  {
   "cell_type": "code",
   "execution_count": 24,
   "metadata": {},
   "outputs": [
    {
     "data": {
      "text/plain": [
       "<matplotlib.axes._subplots.AxesSubplot at 0x114cb5ac8>"
      ]
     },
     "execution_count": 24,
     "metadata": {},
     "output_type": "execute_result"
    },
    {
     "data": {
      "image/png": "[encoded data removed]",
      "text/plain": [
       "<Figure size 576x360 with 1 Axes>"
      ]
     },
     "metadata": {},
     "output_type": "display_data"
    }
   ],
   "source": [
    "df.groupby(\"Name\")[\"Stimmen ü aMehr\"].sum().sort_values(ascending=False).tail(20).plot(kind='barh', figsize=(8,5), title=my_title)"
   ]
  },
  {
   "cell_type": "markdown",
   "metadata": {},
   "source": [
    "## Übersicht über Parteien und Anzahl Wahlgänge"
   ]
  },
  {
   "cell_type": "code",
   "execution_count": 25,
   "metadata": {},
   "outputs": [
    {
     "data": {
      "text/plain": [
       "Partei                       Gewählt Wahlgang\n",
       "BDP                          2                    1\n",
       "                             6                    1\n",
       "CVP                          1                   15\n",
       "                             2                    2\n",
       "                             4                    1\n",
       "                             5                    1\n",
       "                             6                    1\n",
       "FDP                          1                   43\n",
       "                             2                   11\n",
       "                             3                    5\n",
       "                             5                    5\n",
       "                             4                    4\n",
       "                             6                    2\n",
       "LIBERALE PARTEI DER SCHWEIZ  1                    1\n",
       "SP                           1                    8\n",
       "                             3                    2\n",
       "                             5                    2\n",
       "                             2                    1\n",
       "                             4                    1\n",
       "SVP                          1                    5\n",
       "                             3                    3\n",
       "                             2                    2\n",
       "Name: Gewählt Wahlgang, dtype: int64"
      ]
     },
     "execution_count": 25,
     "metadata": {},
     "output_type": "execute_result"
    }
   ],
   "source": [
    "df.groupby(\"Partei\")[\"Gewählt Wahlgang\"].value_counts(ascending= False).head(30)"
   ]
  },
  {
   "cell_type": "code",
   "execution_count": 60,
   "metadata": {},
   "outputs": [
    {
     "data": {
      "text/plain": [
       "Name\n",
       "Deiss, Joseph                  6\n",
       "Schmid, Samuel                 6\n",
       "Stämpfli, Jakob                6\n",
       "Challet-Venel, Jean-Jacques    6\n",
       "Leuenberger, Moritz            5\n",
       "Name: Gewählt Wahlgang, dtype: int64"
      ]
     },
     "execution_count": 60,
     "metadata": {},
     "output_type": "execute_result"
    }
   ],
   "source": [
    "df.groupby(\"Name\")[\"Gewählt Wahlgang\"].sum().sort_values(ascending= False).head(5)"
   ]
  },
  {
   "cell_type": "markdown",
   "metadata": {},
   "source": [
    "## Übersicht über Parteien und Stimmen über absolutem Mehr\n"
   ]
  },
  {
   "cell_type": "code",
   "execution_count": 26,
   "metadata": {},
   "outputs": [
    {
     "data": {
      "text/plain": [
       "Stimmen ü aMehr  Partei                     \n",
       "0                FDP                            4\n",
       "                 CVP                            1\n",
       "                 SVP                            1\n",
       "1                FDP                            2\n",
       "                 SP                             1\n",
       "2                CVP                            1\n",
       "                 FDP                            1\n",
       "                 SP                             1\n",
       "                 SVP                            1\n",
       "3                FDP                            4\n",
       "                 BDP                            1\n",
       "                 CVP                            1\n",
       "                 SP                             1\n",
       "4                FDP                            3\n",
       "                 BDP                            1\n",
       "5                FDP                            4\n",
       "6                FDP                            2\n",
       "                 CVP                            1\n",
       "7                FDP                            4\n",
       "8                FDP                            2\n",
       "9                FDP                            6\n",
       "                 SVP                            1\n",
       "10               CVP                            1\n",
       "11               CVP                            2\n",
       "                 SVP                            1\n",
       "12               FDP                            1\n",
       "13               FDP                            1\n",
       "                 SP                             1\n",
       "15               CVP                            1\n",
       "                 FDP                            1\n",
       "                                               ..\n",
       "38               SVP                            1\n",
       "39               CVP                            1\n",
       "                 FDP                            1\n",
       "40               FDP                            1\n",
       "41               FDP                            1\n",
       "42               FDP                            1\n",
       "43               CVP                            1\n",
       "44               FDP                            1\n",
       "48               SP                             1\n",
       "50               FDP                            1\n",
       "51               CVP                            2\n",
       "                 FDP                            1\n",
       "53               FDP                            1\n",
       "54               FDP                            1\n",
       "58               FDP                            2\n",
       "                 CVP                            1\n",
       "59               FDP                            1\n",
       "63               FDP                            1\n",
       "66               CVP                            1\n",
       "67               FDP                            1\n",
       "68               FDP                            1\n",
       "                 SVP                            1\n",
       "71               LIBERALE PARTEI DER SCHWEIZ    1\n",
       "73               SP                             1\n",
       "74               CVP                            1\n",
       "77               SP                             1\n",
       "80               FDP                            1\n",
       "82               SVP                            1\n",
       "84               CVP                            1\n",
       "89               FDP                            1\n",
       "Name: Partei, Length: 85, dtype: int64"
      ]
     },
     "execution_count": 26,
     "metadata": {},
     "output_type": "execute_result"
    }
   ],
   "source": [
    "df.groupby(\"Stimmen ü aMehr\")[\"Partei\"].value_counts(ascending=False).head(120)"
   ]
  },
  {
   "cell_type": "markdown",
   "metadata": {},
   "source": [
    "## Wer war am längsten Bundesrat, wer am wenigsten lang"
   ]
  },
  {
   "cell_type": "code",
   "execution_count": 27,
   "metadata": {},
   "outputs": [],
   "source": [
    "df[\"Eintritt neu\"] = pd.to_datetime(df[\"Eintritt BR\"], format=\"%d.%m.%Y\")"
   ]
  },
  {
   "cell_type": "code",
   "execution_count": 28,
   "metadata": {},
   "outputs": [],
   "source": [
    "df['Austritt neu'] = pd.to_datetime(df['Austritt BR'], format=\"%d.%m.%Y\")"
   ]
  },
  {
   "cell_type": "code",
   "execution_count": 29,
   "metadata": {},
   "outputs": [
    {
     "data": {
      "text/html": [
       "<div>\n",
       "<style scoped>\n",
       "    .dataframe tbody tr th:only-of-type {\n",
       "        vertical-align: middle;\n",
       "    }\n",
       "\n",
       "    .dataframe tbody tr th {\n",
       "        vertical-align: top;\n",
       "    }\n",
       "\n",
       "    .dataframe thead th {\n",
       "        text-align: right;\n",
       "    }\n",
       "</style>\n",
       "<table border=\"1\" class=\"dataframe\">\n",
       "  <thead>\n",
       "    <tr style=\"text-align: right;\">\n",
       "      <th></th>\n",
       "      <th>ID</th>\n",
       "      <th>Name</th>\n",
       "      <th>Kanton</th>\n",
       "      <th>Eintritt BR</th>\n",
       "      <th>Austritt BR</th>\n",
       "      <th>Heimatort</th>\n",
       "      <th>ID Heimatort</th>\n",
       "      <th>Gewählt Wahlgang</th>\n",
       "      <th>Gewählt Stimmen</th>\n",
       "      <th>Absolutes Mehr</th>\n",
       "      <th>Stimmen ü aMehr</th>\n",
       "      <th>Partei</th>\n",
       "      <th>Eintritt neu</th>\n",
       "      <th>Austritt neu</th>\n",
       "    </tr>\n",
       "  </thead>\n",
       "  <tbody>\n",
       "    <tr>\n",
       "      <th>0</th>\n",
       "      <td>1</td>\n",
       "      <td>Ochsenbein, Ulrich</td>\n",
       "      <td>BE</td>\n",
       "      <td>16.11.1848</td>\n",
       "      <td>31.12.1854</td>\n",
       "      <td>Nidau</td>\n",
       "      <td>NaN</td>\n",
       "      <td>1</td>\n",
       "      <td>92</td>\n",
       "      <td>67</td>\n",
       "      <td>25</td>\n",
       "      <td>FDP</td>\n",
       "      <td>1848-11-16</td>\n",
       "      <td>1854-12-31</td>\n",
       "    </tr>\n",
       "    <tr>\n",
       "      <th>1</th>\n",
       "      <td>2</td>\n",
       "      <td>Naeff, Wilhelm Matthias</td>\n",
       "      <td>SG</td>\n",
       "      <td>16.11.1848</td>\n",
       "      <td>31.12.1875</td>\n",
       "      <td>Altstätten</td>\n",
       "      <td>NaN</td>\n",
       "      <td>1</td>\n",
       "      <td>72</td>\n",
       "      <td>65</td>\n",
       "      <td>7</td>\n",
       "      <td>FDP</td>\n",
       "      <td>1848-11-16</td>\n",
       "      <td>1875-12-31</td>\n",
       "    </tr>\n",
       "    <tr>\n",
       "      <th>2</th>\n",
       "      <td>3</td>\n",
       "      <td>Munzinger, Martin J.</td>\n",
       "      <td>SO</td>\n",
       "      <td>16.11.1848</td>\n",
       "      <td>06.02.1855</td>\n",
       "      <td>Olten</td>\n",
       "      <td>NaN</td>\n",
       "      <td>2</td>\n",
       "      <td>71</td>\n",
       "      <td>67</td>\n",
       "      <td>4</td>\n",
       "      <td>FDP</td>\n",
       "      <td>1848-11-16</td>\n",
       "      <td>1855-02-06</td>\n",
       "    </tr>\n",
       "    <tr>\n",
       "      <th>3</th>\n",
       "      <td>4</td>\n",
       "      <td>Furrer, Jonas</td>\n",
       "      <td>ZH</td>\n",
       "      <td>16.11.1848</td>\n",
       "      <td>25.07.1861</td>\n",
       "      <td>Winterthur</td>\n",
       "      <td>NaN</td>\n",
       "      <td>2</td>\n",
       "      <td>85</td>\n",
       "      <td>67</td>\n",
       "      <td>18</td>\n",
       "      <td>FDP</td>\n",
       "      <td>1848-11-16</td>\n",
       "      <td>1861-07-25</td>\n",
       "    </tr>\n",
       "    <tr>\n",
       "      <th>4</th>\n",
       "      <td>5</td>\n",
       "      <td>Frey-Herosé, Friedrich</td>\n",
       "      <td>AG</td>\n",
       "      <td>16.11.1848</td>\n",
       "      <td>31.12.1866</td>\n",
       "      <td>Aarau</td>\n",
       "      <td>NaN</td>\n",
       "      <td>2</td>\n",
       "      <td>70</td>\n",
       "      <td>66</td>\n",
       "      <td>4</td>\n",
       "      <td>FDP</td>\n",
       "      <td>1848-11-16</td>\n",
       "      <td>1866-12-31</td>\n",
       "    </tr>\n",
       "  </tbody>\n",
       "</table>\n",
       "</div>"
      ],
      "text/plain": [
       "   ID                     Name Kanton Eintritt BR Austritt BR   Heimatort  \\\n",
       "0   1       Ochsenbein, Ulrich     BE  16.11.1848  31.12.1854       Nidau   \n",
       "1   2  Naeff, Wilhelm Matthias     SG  16.11.1848  31.12.1875  Altstätten   \n",
       "2   3     Munzinger, Martin J.     SO  16.11.1848  06.02.1855       Olten   \n",
       "3   4            Furrer, Jonas     ZH  16.11.1848  25.07.1861  Winterthur   \n",
       "4   5   Frey-Herosé, Friedrich     AG  16.11.1848  31.12.1866       Aarau   \n",
       "\n",
       "   ID Heimatort  Gewählt Wahlgang  Gewählt Stimmen  Absolutes Mehr  \\\n",
       "0           NaN                 1               92              67   \n",
       "1           NaN                 1               72              65   \n",
       "2           NaN                 2               71              67   \n",
       "3           NaN                 2               85              67   \n",
       "4           NaN                 2               70              66   \n",
       "\n",
       "   Stimmen ü aMehr Partei Eintritt neu Austritt neu  \n",
       "0               25    FDP   1848-11-16   1854-12-31  \n",
       "1                7    FDP   1848-11-16   1875-12-31  \n",
       "2                4    FDP   1848-11-16   1855-02-06  \n",
       "3               18    FDP   1848-11-16   1861-07-25  \n",
       "4                4    FDP   1848-11-16   1866-12-31  "
      ]
     },
     "execution_count": 29,
     "metadata": {},
     "output_type": "execute_result"
    }
   ],
   "source": [
    "df.head()"
   ]
  },
  {
   "cell_type": "code",
   "execution_count": 30,
   "metadata": {},
   "outputs": [],
   "source": [
    "# df[\"Zeitspanne\"] =df[\"Eintritt neu\"]-df[\"Austritt neu\"]"
   ]
  },
  {
   "cell_type": "code",
   "execution_count": 31,
   "metadata": {},
   "outputs": [],
   "source": [
    "df[\"Zeitspanne\"] = pd.Series(delta.days for delta in (df['Austritt neu'] - df['Eintritt neu']))"
   ]
  },
  {
   "cell_type": "code",
   "execution_count": 32,
   "metadata": {},
   "outputs": [
    {
     "data": {
      "text/html": [
       "<div>\n",
       "<style scoped>\n",
       "    .dataframe tbody tr th:only-of-type {\n",
       "        vertical-align: middle;\n",
       "    }\n",
       "\n",
       "    .dataframe tbody tr th {\n",
       "        vertical-align: top;\n",
       "    }\n",
       "\n",
       "    .dataframe thead th {\n",
       "        text-align: right;\n",
       "    }\n",
       "</style>\n",
       "<table border=\"1\" class=\"dataframe\">\n",
       "  <thead>\n",
       "    <tr style=\"text-align: right;\">\n",
       "      <th></th>\n",
       "      <th>ID</th>\n",
       "      <th>Name</th>\n",
       "      <th>Kanton</th>\n",
       "      <th>Eintritt BR</th>\n",
       "      <th>Austritt BR</th>\n",
       "      <th>Heimatort</th>\n",
       "      <th>ID Heimatort</th>\n",
       "      <th>Gewählt Wahlgang</th>\n",
       "      <th>Gewählt Stimmen</th>\n",
       "      <th>Absolutes Mehr</th>\n",
       "      <th>Stimmen ü aMehr</th>\n",
       "      <th>Partei</th>\n",
       "      <th>Eintritt neu</th>\n",
       "      <th>Austritt neu</th>\n",
       "      <th>Zeitspanne</th>\n",
       "    </tr>\n",
       "  </thead>\n",
       "  <tbody>\n",
       "    <tr>\n",
       "      <th>0</th>\n",
       "      <td>1</td>\n",
       "      <td>Ochsenbein, Ulrich</td>\n",
       "      <td>BE</td>\n",
       "      <td>16.11.1848</td>\n",
       "      <td>31.12.1854</td>\n",
       "      <td>Nidau</td>\n",
       "      <td>NaN</td>\n",
       "      <td>1</td>\n",
       "      <td>92</td>\n",
       "      <td>67</td>\n",
       "      <td>25</td>\n",
       "      <td>FDP</td>\n",
       "      <td>1848-11-16</td>\n",
       "      <td>1854-12-31</td>\n",
       "      <td>2236</td>\n",
       "    </tr>\n",
       "    <tr>\n",
       "      <th>1</th>\n",
       "      <td>2</td>\n",
       "      <td>Naeff, Wilhelm Matthias</td>\n",
       "      <td>SG</td>\n",
       "      <td>16.11.1848</td>\n",
       "      <td>31.12.1875</td>\n",
       "      <td>Altstätten</td>\n",
       "      <td>NaN</td>\n",
       "      <td>1</td>\n",
       "      <td>72</td>\n",
       "      <td>65</td>\n",
       "      <td>7</td>\n",
       "      <td>FDP</td>\n",
       "      <td>1848-11-16</td>\n",
       "      <td>1875-12-31</td>\n",
       "      <td>9906</td>\n",
       "    </tr>\n",
       "    <tr>\n",
       "      <th>2</th>\n",
       "      <td>3</td>\n",
       "      <td>Munzinger, Martin J.</td>\n",
       "      <td>SO</td>\n",
       "      <td>16.11.1848</td>\n",
       "      <td>06.02.1855</td>\n",
       "      <td>Olten</td>\n",
       "      <td>NaN</td>\n",
       "      <td>2</td>\n",
       "      <td>71</td>\n",
       "      <td>67</td>\n",
       "      <td>4</td>\n",
       "      <td>FDP</td>\n",
       "      <td>1848-11-16</td>\n",
       "      <td>1855-02-06</td>\n",
       "      <td>2273</td>\n",
       "    </tr>\n",
       "    <tr>\n",
       "      <th>3</th>\n",
       "      <td>4</td>\n",
       "      <td>Furrer, Jonas</td>\n",
       "      <td>ZH</td>\n",
       "      <td>16.11.1848</td>\n",
       "      <td>25.07.1861</td>\n",
       "      <td>Winterthur</td>\n",
       "      <td>NaN</td>\n",
       "      <td>2</td>\n",
       "      <td>85</td>\n",
       "      <td>67</td>\n",
       "      <td>18</td>\n",
       "      <td>FDP</td>\n",
       "      <td>1848-11-16</td>\n",
       "      <td>1861-07-25</td>\n",
       "      <td>4634</td>\n",
       "    </tr>\n",
       "    <tr>\n",
       "      <th>4</th>\n",
       "      <td>5</td>\n",
       "      <td>Frey-Herosé, Friedrich</td>\n",
       "      <td>AG</td>\n",
       "      <td>16.11.1848</td>\n",
       "      <td>31.12.1866</td>\n",
       "      <td>Aarau</td>\n",
       "      <td>NaN</td>\n",
       "      <td>2</td>\n",
       "      <td>70</td>\n",
       "      <td>66</td>\n",
       "      <td>4</td>\n",
       "      <td>FDP</td>\n",
       "      <td>1848-11-16</td>\n",
       "      <td>1866-12-31</td>\n",
       "      <td>6619</td>\n",
       "    </tr>\n",
       "  </tbody>\n",
       "</table>\n",
       "</div>"
      ],
      "text/plain": [
       "   ID                     Name Kanton Eintritt BR Austritt BR   Heimatort  \\\n",
       "0   1       Ochsenbein, Ulrich     BE  16.11.1848  31.12.1854       Nidau   \n",
       "1   2  Naeff, Wilhelm Matthias     SG  16.11.1848  31.12.1875  Altstätten   \n",
       "2   3     Munzinger, Martin J.     SO  16.11.1848  06.02.1855       Olten   \n",
       "3   4            Furrer, Jonas     ZH  16.11.1848  25.07.1861  Winterthur   \n",
       "4   5   Frey-Herosé, Friedrich     AG  16.11.1848  31.12.1866       Aarau   \n",
       "\n",
       "   ID Heimatort  Gewählt Wahlgang  Gewählt Stimmen  Absolutes Mehr  \\\n",
       "0           NaN                 1               92              67   \n",
       "1           NaN                 1               72              65   \n",
       "2           NaN                 2               71              67   \n",
       "3           NaN                 2               85              67   \n",
       "4           NaN                 2               70              66   \n",
       "\n",
       "   Stimmen ü aMehr Partei Eintritt neu Austritt neu  Zeitspanne  \n",
       "0               25    FDP   1848-11-16   1854-12-31        2236  \n",
       "1                7    FDP   1848-11-16   1875-12-31        9906  \n",
       "2                4    FDP   1848-11-16   1855-02-06        2273  \n",
       "3               18    FDP   1848-11-16   1861-07-25        4634  \n",
       "4                4    FDP   1848-11-16   1866-12-31        6619  "
      ]
     },
     "execution_count": 32,
     "metadata": {},
     "output_type": "execute_result"
    }
   ],
   "source": [
    "df.head()"
   ]
  },
  {
   "cell_type": "code",
   "execution_count": 33,
   "metadata": {},
   "outputs": [],
   "source": [
    "versuch = df[\"Zeitspanne\"] / 365"
   ]
  },
  {
   "cell_type": "code",
   "execution_count": 63,
   "metadata": {},
   "outputs": [
    {
     "data": {
      "text/plain": [
       "Name\n",
       "Schenk, Karl                      11541\n",
       "Deucher, Adolf                    10683\n",
       "Motta, Giuseppe                   10267\n",
       "Naeff, Wilhelm Matthias            9906\n",
       "Etter, Philipp                     9409\n",
       "Welti, Emil                        9154\n",
       "Müller, Eduard                     8850\n",
       "Schulthess, Edmund                 8307\n",
       "Knüsel , Melchior Josef Martin     7475\n",
       "Frey-Herosé, Friedrich             6619\n",
       "Droz, Numa                         6223\n",
       "Petitpierre, Max                   6042\n",
       "Zemp, Joseph                       6026\n",
       "Pilet-Golaz, Marcel                5862\n",
       "Leuenberger, Moritz                5513\n",
       "Furgler, Kurt                      5502\n",
       "Hammer, Bernhard                   5500\n",
       "Forrer, Ludwig                     5499\n",
       "Villiger, Kaspar                   5446\n",
       "Musy, Jean-Marie                   5254\n",
       "Name: Zeitspanne, dtype: int64"
      ]
     },
     "execution_count": 63,
     "metadata": {},
     "output_type": "execute_result"
    }
   ],
   "source": [
    "df.groupby(\"Name\")[\"Zeitspanne\"].sum().sort_values(ascending=False).head(20)"
   ]
  },
  {
   "cell_type": "code",
   "execution_count": 68,
   "metadata": {},
   "outputs": [],
   "source": [
    "liste = df.groupby(\"Name\")[\"Zeitspanne\"].sum().sort_values(ascending=False).head(120)"
   ]
  },
  {
   "cell_type": "code",
   "execution_count": 69,
   "metadata": {},
   "outputs": [],
   "source": [
    "path = \"BR_am_langsten_Amt_1848.csv\"\n",
    "\n",
    "liste.to_csv(path, index=True)"
   ]
  },
  {
   "cell_type": "code",
   "execution_count": 35,
   "metadata": {},
   "outputs": [],
   "source": [
    "my_title = (\"Welcher BR war am längsten im Amt?\")"
   ]
  },
  {
   "cell_type": "code",
   "execution_count": 36,
   "metadata": {},
   "outputs": [
    {
     "data": {
      "text/plain": [
       "<matplotlib.axes._subplots.AxesSubplot at 0x11511cf98>"
      ]
     },
     "execution_count": 36,
     "metadata": {},
     "output_type": "execute_result"
    },
    {
     "data": {
      "image/png": "[encoded data removed]",
      "text/plain": [
       "<Figure size 576x360 with 1 Axes>"
      ]
     },
     "metadata": {},
     "output_type": "display_data"
    }
   ],
   "source": [
    "df.groupby(\"Name\")[\"Zeitspanne\"].sum().sort_values(ascending=False).head(20).plot(kind='barh', figsize=(8,5), title=my_title)"
   ]
  },
  {
   "cell_type": "code",
   "execution_count": null,
   "metadata": {},
   "outputs": [],
   "source": []
  },
  {
   "cell_type": "code",
   "execution_count": 46,
   "metadata": {},
   "outputs": [
    {
     "data": {
      "text/plain": [
       "Name\n",
       "Munzinger, Martin J.       2273\n",
       "Hoffmann, Arthur           2268\n",
       "Ochsenbein, Ulrich         2236\n",
       "Streuli, Hans              2200\n",
       "Ceresole, Paul             2159\n",
       "Ruffy, Eugène              2147\n",
       "Obrecht, Hermann           1945\n",
       "Felber, René               1939\n",
       "Honegger, Fritz            1850\n",
       "Wetter, Ernst              1842\n",
       "Anderwert , Fridolin       1842\n",
       "Holenstein, Thomas         1841\n",
       "Lepori, Giuseppe           1841\n",
       "Metzler-Arnold, Ruth       1756\n",
       "Kopp, Elisabeth            1563\n",
       "Escher, Josef              1547\n",
       "Bavier , Simeon            1487\n",
       "Egli, Alphons              1484\n",
       "Blocher, Christoph         1482\n",
       "Schobinger, Josef Anton    1258\n",
       "Borel, Eugène              1119\n",
       "Heer, Joachim              1117\n",
       "Parmelin, Guy              1089\n",
       "Bourgknecht, Jean          1018\n",
       "Ador, Gustave               918\n",
       "Weber, Max                  780\n",
       "Ruffy, Victor               754\n",
       "Friedrich, Rudolf           682\n",
       "Cassis, Ignazio             438\n",
       "Perrier, Louis              430\n",
       "Name: Zeitspanne, dtype: int64"
      ]
     },
     "execution_count": 46,
     "metadata": {},
     "output_type": "execute_result"
    }
   ],
   "source": [
    "df.groupby(\"Name\")[\"Zeitspanne\"].sum().sort_values(ascending=False).tail(30)"
   ]
  },
  {
   "cell_type": "code",
   "execution_count": 38,
   "metadata": {},
   "outputs": [],
   "source": [
    "my_title= (\"Wer verliess den BR am Schnellsten wieder?\")"
   ]
  },
  {
   "cell_type": "code",
   "execution_count": 39,
   "metadata": {},
   "outputs": [
    {
     "data": {
      "text/plain": [
       "<matplotlib.axes._subplots.AxesSubplot at 0x1152f33c8>"
      ]
     },
     "execution_count": 39,
     "metadata": {},
     "output_type": "execute_result"
    },
    {
     "data": {
      "image/png": "[encoded data removed]",
      "text/plain": [
       "<Figure size 576x360 with 1 Axes>"
      ]
     },
     "metadata": {},
     "output_type": "display_data"
    }
   ],
   "source": [
    "df.groupby(\"Name\")[\"Zeitspanne\"].sum().sort_values(ascending=False).tail(30).plot(kind='barh', figsize=(8,5), title=my_title)"
   ]
  },
  {
   "cell_type": "code",
   "execution_count": null,
   "metadata": {},
   "outputs": [],
   "source": []
  },
  {
   "cell_type": "code",
   "execution_count": null,
   "metadata": {},
   "outputs": [],
   "source": [
    "# Python3 code to convert given  \n",
    "# number of days in terms of  \n",
    "# Years, Weeks and Days \n",
    "  \n",
    "DAYS_IN_WEEK = 7\n",
    "  \n",
    "# Function to find  \n",
    "# year, week, days  \n",
    "def find( number_of_days ): \n",
    "  \n",
    "    # Assume that years is \n",
    "    # of 365 days \n",
    "    year = int(number_of_days / 365) \n",
    "    week = int((number_of_days % 365) / \n",
    "                DAYS_IN_WEEK) \n",
    "    days = (number_of_days % 365) % DAYS_IN_WEEK \n",
    "      \n",
    "    print(\"years = \",year, \n",
    "          \"\\nweeks = \",week, \n",
    "          \"\\ndays = \",days) \n",
    "      \n",
    "# Driver Code \n",
    "number_of_days = 200\n",
    "find(number_of_days) "
   ]
  },
  {
   "cell_type": "code",
   "execution_count": null,
   "metadata": {},
   "outputs": [],
   "source": []
  },
  {
   "cell_type": "code",
   "execution_count": null,
   "metadata": {},
   "outputs": [],
   "source": []
  },
  {
   "cell_type": "code",
   "execution_count": null,
   "metadata": {},
   "outputs": [],
   "source": []
  }
 ],
 "metadata": {
  "kernelspec": {
   "display_name": "Python 3",
   "language": "python",
   "name": "python3"
  },
  "language_info": {
   "codemirror_mode": {
    "name": "ipython",
    "version": 3
   },
   "file_extension": ".py",
   "mimetype": "text/x-python",
   "name": "python",
   "nbconvert_exporter": "python",
   "pygments_lexer": "ipython3",
   "version": "3.7.0"
  }
 },
 "nbformat": 4,
 "nbformat_minor": 2
}
