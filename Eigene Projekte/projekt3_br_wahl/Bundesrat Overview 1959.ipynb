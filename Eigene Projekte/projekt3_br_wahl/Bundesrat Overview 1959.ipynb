{
 "cells": [
  {
   "cell_type": "markdown",
   "metadata": {},
   "source": [
    "# Bundesratswahlen 2018\n",
    "\n",
    "## Geschichte der BR-Wahlen seit 1848\n",
    "\n",
    "**Quelle aller Daten: Admin.ch**\n",
    "\n",
    "Wie viel Bundesräte pro Partei?...."
   ]
  },
  {
   "cell_type": "code",
   "execution_count": 2,
   "metadata": {},
   "outputs": [],
   "source": [
    "import pandas as pd\n",
    "import numpy as np\n",
    "from datetime import datetime\n",
    "import geopandas as gpd\n",
    "import matplotlib.pyplot as plt\n",
    "\n",
    "%matplotlib inline "
   ]
  },
  {
   "cell_type": "code",
   "execution_count": 3,
   "metadata": {},
   "outputs": [],
   "source": [
    "from datetime import timedelta"
   ]
  },
  {
   "cell_type": "code",
   "execution_count": 4,
   "metadata": {},
   "outputs": [],
   "source": [
    "plt.style.use('seaborn')"
   ]
  },
  {
   "cell_type": "code",
   "execution_count": 5,
   "metadata": {},
   "outputs": [],
   "source": [
    "df = pd.read_csv(\"BR_OVERVIEW_NEU_1959.csv\")"
   ]
  },
  {
   "cell_type": "code",
   "execution_count": 6,
   "metadata": {},
   "outputs": [
    {
     "data": {
      "text/html": [
       "<div>\n",
       "<style scoped>\n",
       "    .dataframe tbody tr th:only-of-type {\n",
       "        vertical-align: middle;\n",
       "    }\n",
       "\n",
       "    .dataframe tbody tr th {\n",
       "        vertical-align: top;\n",
       "    }\n",
       "\n",
       "    .dataframe thead th {\n",
       "        text-align: right;\n",
       "    }\n",
       "</style>\n",
       "<table border=\"1\" class=\"dataframe\">\n",
       "  <thead>\n",
       "    <tr style=\"text-align: right;\">\n",
       "      <th></th>\n",
       "      <th>ID</th>\n",
       "      <th>Name</th>\n",
       "      <th>Kanton</th>\n",
       "      <th>Eintritt BR</th>\n",
       "      <th>Austritt BR</th>\n",
       "      <th>Heimatort</th>\n",
       "      <th>ID Heimatort</th>\n",
       "      <th>Gewählt Wahlgang</th>\n",
       "      <th>Gewählt Stimmen</th>\n",
       "      <th>Absolutes Mehr</th>\n",
       "      <th>Stimmen ü aMehr</th>\n",
       "      <th>Partei</th>\n",
       "    </tr>\n",
       "  </thead>\n",
       "  <tbody>\n",
       "    <tr>\n",
       "      <th>0</th>\n",
       "      <td>63</td>\n",
       "      <td>Petitpierre, Max</td>\n",
       "      <td>NE</td>\n",
       "      <td>14.12.1944</td>\n",
       "      <td>30.06.1961</td>\n",
       "      <td>Neuchâtel+Couvet</td>\n",
       "      <td>NaN</td>\n",
       "      <td>1</td>\n",
       "      <td>122</td>\n",
       "      <td>114</td>\n",
       "      <td>8</td>\n",
       "      <td>FDP</td>\n",
       "    </tr>\n",
       "    <tr>\n",
       "      <th>1</th>\n",
       "      <td>68</td>\n",
       "      <td>Streuli, Hans</td>\n",
       "      <td>ZH</td>\n",
       "      <td>22.12.1953</td>\n",
       "      <td>31.12.1959</td>\n",
       "      <td>Wädenswil+Richterswil</td>\n",
       "      <td>NaN</td>\n",
       "      <td>2</td>\n",
       "      <td>113</td>\n",
       "      <td>109</td>\n",
       "      <td>4</td>\n",
       "      <td>FDP</td>\n",
       "    </tr>\n",
       "    <tr>\n",
       "      <th>2</th>\n",
       "      <td>69</td>\n",
       "      <td>Lepori, Giuseppe</td>\n",
       "      <td>TI</td>\n",
       "      <td>16.12.1954</td>\n",
       "      <td>31.12.1959</td>\n",
       "      <td>Lopagno</td>\n",
       "      <td>NaN</td>\n",
       "      <td>2</td>\n",
       "      <td>128</td>\n",
       "      <td>117</td>\n",
       "      <td>11</td>\n",
       "      <td>CVP</td>\n",
       "    </tr>\n",
       "    <tr>\n",
       "      <th>3</th>\n",
       "      <td>70</td>\n",
       "      <td>Holenstein, Thomas</td>\n",
       "      <td>SG</td>\n",
       "      <td>16.12.1954</td>\n",
       "      <td>31.12.1959</td>\n",
       "      <td>Bütschwil</td>\n",
       "      <td>NaN</td>\n",
       "      <td>1</td>\n",
       "      <td>182</td>\n",
       "      <td>108</td>\n",
       "      <td>74</td>\n",
       "      <td>CVP</td>\n",
       "    </tr>\n",
       "    <tr>\n",
       "      <th>4</th>\n",
       "      <td>71</td>\n",
       "      <td>Chaudet, Paul</td>\n",
       "      <td>VD</td>\n",
       "      <td>16.12.1954</td>\n",
       "      <td>31.12.1966</td>\n",
       "      <td>Corsier s. Vevey</td>\n",
       "      <td>NaN</td>\n",
       "      <td>1</td>\n",
       "      <td>135</td>\n",
       "      <td>110</td>\n",
       "      <td>25</td>\n",
       "      <td>FDP</td>\n",
       "    </tr>\n",
       "  </tbody>\n",
       "</table>\n",
       "</div>"
      ],
      "text/plain": [
       "   ID                Name Kanton Eintritt BR Austritt BR  \\\n",
       "0  63    Petitpierre, Max     NE  14.12.1944  30.06.1961   \n",
       "1  68       Streuli, Hans     ZH  22.12.1953  31.12.1959   \n",
       "2  69    Lepori, Giuseppe     TI  16.12.1954  31.12.1959   \n",
       "3  70  Holenstein, Thomas     SG  16.12.1954  31.12.1959   \n",
       "4  71       Chaudet, Paul     VD  16.12.1954  31.12.1966   \n",
       "\n",
       "               Heimatort  ID Heimatort  Gewählt Wahlgang  Gewählt Stimmen  \\\n",
       "0       Neuchâtel+Couvet           NaN                 1              122   \n",
       "1  Wädenswil+Richterswil           NaN                 2              113   \n",
       "2                Lopagno           NaN                 2              128   \n",
       "3              Bütschwil           NaN                 1              182   \n",
       "4       Corsier s. Vevey           NaN                 1              135   \n",
       "\n",
       "   Absolutes Mehr  Stimmen ü aMehr Partei  \n",
       "0             114                8    FDP  \n",
       "1             109                4    FDP  \n",
       "2             117               11    CVP  \n",
       "3             108               74    CVP  \n",
       "4             110               25    FDP  "
      ]
     },
     "execution_count": 6,
     "metadata": {},
     "output_type": "execute_result"
    }
   ],
   "source": [
    "df.head()"
   ]
  },
  {
   "cell_type": "code",
   "execution_count": 7,
   "metadata": {},
   "outputs": [
    {
     "data": {
      "text/html": [
       "<div>\n",
       "<style scoped>\n",
       "    .dataframe tbody tr th:only-of-type {\n",
       "        vertical-align: middle;\n",
       "    }\n",
       "\n",
       "    .dataframe tbody tr th {\n",
       "        vertical-align: top;\n",
       "    }\n",
       "\n",
       "    .dataframe thead th {\n",
       "        text-align: right;\n",
       "    }\n",
       "</style>\n",
       "<table border=\"1\" class=\"dataframe\">\n",
       "  <thead>\n",
       "    <tr style=\"text-align: right;\">\n",
       "      <th></th>\n",
       "      <th>ID</th>\n",
       "      <th>Name</th>\n",
       "      <th>Kanton</th>\n",
       "      <th>Eintritt BR</th>\n",
       "      <th>Austritt BR</th>\n",
       "      <th>Heimatort</th>\n",
       "      <th>ID Heimatort</th>\n",
       "      <th>Gewählt Wahlgang</th>\n",
       "      <th>Gewählt Stimmen</th>\n",
       "      <th>Absolutes Mehr</th>\n",
       "      <th>Stimmen ü aMehr</th>\n",
       "      <th>Partei</th>\n",
       "    </tr>\n",
       "  </thead>\n",
       "  <tbody>\n",
       "    <tr>\n",
       "      <th>46</th>\n",
       "      <td>113</td>\n",
       "      <td>Sommaruga, Simonetta</td>\n",
       "      <td>BE</td>\n",
       "      <td>22.09.2010</td>\n",
       "      <td>02.12.2018</td>\n",
       "      <td>Lugano, Eggiwil</td>\n",
       "      <td>NaN</td>\n",
       "      <td>4</td>\n",
       "      <td>159</td>\n",
       "      <td>121</td>\n",
       "      <td>38</td>\n",
       "      <td>SP</td>\n",
       "    </tr>\n",
       "    <tr>\n",
       "      <th>47</th>\n",
       "      <td>114</td>\n",
       "      <td>Schneider-Ammann, Johann N.</td>\n",
       "      <td>BE</td>\n",
       "      <td>22.09.2010</td>\n",
       "      <td>02.12.2018</td>\n",
       "      <td>Hasle bei Burgdorf</td>\n",
       "      <td>NaN</td>\n",
       "      <td>5</td>\n",
       "      <td>144</td>\n",
       "      <td>119</td>\n",
       "      <td>25</td>\n",
       "      <td>FDP</td>\n",
       "    </tr>\n",
       "    <tr>\n",
       "      <th>48</th>\n",
       "      <td>115</td>\n",
       "      <td>Berset, Alain</td>\n",
       "      <td>FR</td>\n",
       "      <td>14.12.2011</td>\n",
       "      <td>02.12.2018</td>\n",
       "      <td>Misery-Courtion</td>\n",
       "      <td>NaN</td>\n",
       "      <td>2</td>\n",
       "      <td>126</td>\n",
       "      <td>123</td>\n",
       "      <td>3</td>\n",
       "      <td>SP</td>\n",
       "    </tr>\n",
       "    <tr>\n",
       "      <th>49</th>\n",
       "      <td>116</td>\n",
       "      <td>Parmelin, Guy</td>\n",
       "      <td>VD</td>\n",
       "      <td>09.12.2015</td>\n",
       "      <td>02.12.2018</td>\n",
       "      <td>Bursins</td>\n",
       "      <td>NaN</td>\n",
       "      <td>3</td>\n",
       "      <td>138</td>\n",
       "      <td>119</td>\n",
       "      <td>19</td>\n",
       "      <td>SVP</td>\n",
       "    </tr>\n",
       "    <tr>\n",
       "      <th>50</th>\n",
       "      <td>117</td>\n",
       "      <td>Cassis, Ignazio</td>\n",
       "      <td>TI</td>\n",
       "      <td>20.09.2017</td>\n",
       "      <td>02.12.2018</td>\n",
       "      <td>Sessa</td>\n",
       "      <td>NaN</td>\n",
       "      <td>2</td>\n",
       "      <td>125</td>\n",
       "      <td>123</td>\n",
       "      <td>2</td>\n",
       "      <td>FDP</td>\n",
       "    </tr>\n",
       "  </tbody>\n",
       "</table>\n",
       "</div>"
      ],
      "text/plain": [
       "     ID                         Name Kanton Eintritt BR Austritt BR  \\\n",
       "46  113         Sommaruga, Simonetta     BE  22.09.2010  02.12.2018   \n",
       "47  114  Schneider-Ammann, Johann N.     BE  22.09.2010  02.12.2018   \n",
       "48  115                Berset, Alain     FR  14.12.2011  02.12.2018   \n",
       "49  116                Parmelin, Guy     VD  09.12.2015  02.12.2018   \n",
       "50  117              Cassis, Ignazio     TI  20.09.2017  02.12.2018   \n",
       "\n",
       "             Heimatort  ID Heimatort  Gewählt Wahlgang  Gewählt Stimmen  \\\n",
       "46     Lugano, Eggiwil           NaN                 4              159   \n",
       "47  Hasle bei Burgdorf           NaN                 5              144   \n",
       "48     Misery-Courtion           NaN                 2              126   \n",
       "49             Bursins           NaN                 3              138   \n",
       "50               Sessa           NaN                 2              125   \n",
       "\n",
       "    Absolutes Mehr  Stimmen ü aMehr Partei  \n",
       "46             121               38     SP  \n",
       "47             119               25    FDP  \n",
       "48             123                3     SP  \n",
       "49             119               19    SVP  \n",
       "50             123                2    FDP  "
      ]
     },
     "execution_count": 7,
     "metadata": {},
     "output_type": "execute_result"
    }
   ],
   "source": [
    "df.tail()"
   ]
  },
  {
   "cell_type": "code",
   "execution_count": 8,
   "metadata": {},
   "outputs": [
    {
     "data": {
      "text/plain": [
       "51"
      ]
     },
     "execution_count": 8,
     "metadata": {},
     "output_type": "execute_result"
    }
   ],
   "source": [
    "len(df)"
   ]
  },
  {
   "cell_type": "code",
   "execution_count": 9,
   "metadata": {},
   "outputs": [
    {
     "data": {
      "text/plain": [
       "(51, 12)"
      ]
     },
     "execution_count": 9,
     "metadata": {},
     "output_type": "execute_result"
    }
   ],
   "source": [
    "df.shape"
   ]
  },
  {
   "cell_type": "markdown",
   "metadata": {},
   "source": [
    "## Welcher Kanton hat die meisten Bundesräte"
   ]
  },
  {
   "cell_type": "code",
   "execution_count": 10,
   "metadata": {},
   "outputs": [
    {
     "data": {
      "text/plain": [
       "ZH    9\n",
       "BE    6\n",
       "NE    5\n",
       "VD    4\n",
       "TI    4\n",
       "FR    3\n",
       "GR    2\n",
       "GE    2\n",
       "AG    2\n",
       "VS    2\n",
       "LU    2\n",
       "SG    2\n",
       "AI    2\n",
       "SO    2\n",
       "AR    1\n",
       "ZG    1\n",
       "BS    1\n",
       "OW    1\n",
       "Name: Kanton, dtype: int64"
      ]
     },
     "execution_count": 10,
     "metadata": {},
     "output_type": "execute_result"
    }
   ],
   "source": [
    "df[\"Kanton\"].value_counts()"
   ]
  },
  {
   "cell_type": "code",
   "execution_count": 11,
   "metadata": {},
   "outputs": [],
   "source": [
    "liste = df[\"Kanton\"].value_counts()"
   ]
  },
  {
   "cell_type": "code",
   "execution_count": 12,
   "metadata": {},
   "outputs": [],
   "source": [
    "path = \"BR_Kanton_1959.csv\"\n",
    "\n",
    "liste.to_csv(path, index=True)"
   ]
  },
  {
   "cell_type": "code",
   "execution_count": 13,
   "metadata": {},
   "outputs": [],
   "source": [
    "my_title = (\"Anzahl Bundesräte pro Kanton seit 1959\")"
   ]
  },
  {
   "cell_type": "code",
   "execution_count": 14,
   "metadata": {},
   "outputs": [
    {
     "data": {
      "text/plain": [
       "<matplotlib.axes._subplots.AxesSubplot at 0x116e60780>"
      ]
     },
     "execution_count": 14,
     "metadata": {},
     "output_type": "execute_result"
    },
    {
     "data": {
      "image/png": "[encoded data removed]",
      "text/plain": [
       "<Figure size 576x360 with 1 Axes>"
      ]
     },
     "metadata": {},
     "output_type": "display_data"
    }
   ],
   "source": [
    "df[\"Kanton\"].value_counts().head(26).plot(kind='barh', figsize=(8,5), title=my_title)"
   ]
  },
  {
   "cell_type": "markdown",
   "metadata": {},
   "source": [
    "## Wie viele Wahlgänge werden benötigt"
   ]
  },
  {
   "cell_type": "code",
   "execution_count": 15,
   "metadata": {},
   "outputs": [
    {
     "data": {
      "text/plain": [
       "1    28\n",
       "2     8\n",
       "5     5\n",
       "3     5\n",
       "4     3\n",
       "6     2\n",
       "Name: Gewählt Wahlgang, dtype: int64"
      ]
     },
     "execution_count": 15,
     "metadata": {},
     "output_type": "execute_result"
    }
   ],
   "source": [
    "df[\"Gewählt Wahlgang\"].value_counts()"
   ]
  },
  {
   "cell_type": "code",
   "execution_count": 16,
   "metadata": {},
   "outputs": [],
   "source": [
    "liste = df[\"Gewählt Wahlgang\"].value_counts()"
   ]
  },
  {
   "cell_type": "code",
   "execution_count": 17,
   "metadata": {},
   "outputs": [],
   "source": [
    "path = \"BR_AnzWahlgang_1959.csv\"\n",
    "\n",
    "liste.to_csv(path, index=True)"
   ]
  },
  {
   "cell_type": "code",
   "execution_count": 18,
   "metadata": {},
   "outputs": [],
   "source": [
    "my_title = (\"Wie viele Wahlgänge wurden zur Wahl benötigt?\")"
   ]
  },
  {
   "cell_type": "code",
   "execution_count": 19,
   "metadata": {},
   "outputs": [
    {
     "data": {
      "text/plain": [
       "<matplotlib.axes._subplots.AxesSubplot at 0x116e4b5c0>"
      ]
     },
     "execution_count": 19,
     "metadata": {},
     "output_type": "execute_result"
    },
    {
     "data": {
      "image/png": "[encoded data removed]",
      "text/plain": [
       "<Figure size 576x360 with 1 Axes>"
      ]
     },
     "metadata": {},
     "output_type": "display_data"
    }
   ],
   "source": [
    "df[\"Gewählt Wahlgang\"].value_counts().head(10).plot(kind='barh', figsize=(8,5), title=my_title)"
   ]
  },
  {
   "cell_type": "markdown",
   "metadata": {},
   "source": [
    "## Wie viele Bundesräte pro Partei"
   ]
  },
  {
   "cell_type": "code",
   "execution_count": 20,
   "metadata": {},
   "outputs": [
    {
     "data": {
      "text/plain": [
       "FDP    17\n",
       "CVP    13\n",
       "SP     12\n",
       "SVP     7\n",
       "BDP     2\n",
       "Name: Partei, dtype: int64"
      ]
     },
     "execution_count": 20,
     "metadata": {},
     "output_type": "execute_result"
    }
   ],
   "source": [
    "df[\"Partei\"].value_counts()"
   ]
  },
  {
   "cell_type": "code",
   "execution_count": 21,
   "metadata": {},
   "outputs": [],
   "source": [
    "my_title = (\"Wie viele Bundesräte pro Partei?\")"
   ]
  },
  {
   "cell_type": "code",
   "execution_count": 22,
   "metadata": {},
   "outputs": [
    {
     "data": {
      "text/plain": [
       "<matplotlib.axes._subplots.AxesSubplot at 0x119068630>"
      ]
     },
     "execution_count": 22,
     "metadata": {},
     "output_type": "execute_result"
    },
    {
     "data": {
      "image/png": "[encoded data removed]",
      "text/plain": [
       "<Figure size 576x360 with 1 Axes>"
      ]
     },
     "metadata": {},
     "output_type": "display_data"
    }
   ],
   "source": [
    "df[\"Partei\"].value_counts().head(10).plot(kind='barh', figsize=(8,5), title=my_title)"
   ]
  },
  {
   "cell_type": "markdown",
   "metadata": {},
   "source": [
    "## Wer wurde mit Glanzresultat gewählt"
   ]
  },
  {
   "cell_type": "code",
   "execution_count": 23,
   "metadata": {},
   "outputs": [
    {
     "data": {
      "text/plain": [
       "Name\n",
       "Graber, Pierre        77\n",
       "Holenstein, Thomas    74\n",
       "Aubert, Pierre        73\n",
       "Name: Stimmen ü aMehr, dtype: int64"
      ]
     },
     "execution_count": 23,
     "metadata": {},
     "output_type": "execute_result"
    }
   ],
   "source": [
    "df.groupby(\"Name\")[\"Stimmen ü aMehr\"].sum().sort_values(ascending=False).head(3)"
   ]
  },
  {
   "cell_type": "code",
   "execution_count": 24,
   "metadata": {},
   "outputs": [],
   "source": [
    "liste = df.groupby(\"Name\")[\"Stimmen ü aMehr\"].sum().sort_values(ascending=False).head(20)"
   ]
  },
  {
   "cell_type": "code",
   "execution_count": 25,
   "metadata": {},
   "outputs": [],
   "source": [
    "path = \"BR_Stimmen_ü_aMehr_1959.csv\"\n",
    "\n",
    "liste.to_csv(path, index=True)"
   ]
  },
  {
   "cell_type": "code",
   "execution_count": null,
   "metadata": {},
   "outputs": [],
   "source": []
  },
  {
   "cell_type": "code",
   "execution_count": 26,
   "metadata": {},
   "outputs": [],
   "source": [
    "my_title = (\"Wer wurde mit Glanzresultat gewählt?\")"
   ]
  },
  {
   "cell_type": "code",
   "execution_count": 27,
   "metadata": {},
   "outputs": [
    {
     "data": {
      "text/plain": [
       "<matplotlib.axes._subplots.AxesSubplot at 0x11916e0b8>"
      ]
     },
     "execution_count": 27,
     "metadata": {},
     "output_type": "execute_result"
    },
    {
     "data": {
      "image/png": "[encoded data removed]",
      "text/plain": [
       "<Figure size 576x360 with 1 Axes>"
      ]
     },
     "metadata": {},
     "output_type": "display_data"
    }
   ],
   "source": [
    "df.groupby(\"Name\")[\"Stimmen ü aMehr\"].sum().sort_values(ascending=False).head(15).plot(kind='barh', figsize=(8,5), title=my_title)"
   ]
  },
  {
   "cell_type": "markdown",
   "metadata": {},
   "source": [
    "## Wer knapp über dem absoluten Mehr"
   ]
  },
  {
   "cell_type": "code",
   "execution_count": 28,
   "metadata": {},
   "outputs": [
    {
     "data": {
      "text/plain": [
       "Name\n",
       "Burkhalter, Didier            9\n",
       "Delamuraz, Jean-Pascal        9\n",
       "Wahlen, Friedrich Traugott    9\n",
       "Petitpierre, Max              8\n",
       "Friedrich, Rudolf             7\n",
       "Merz, Hans-Rudolf             7\n",
       "Villiger, Kaspar              6\n",
       "Streuli, Hans                 4\n",
       "Schmid, Samuel                4\n",
       "Berset, Alain                 3\n",
       "Metzler-Arnold, Ruth          3\n",
       "Widmer-Schlumpf, Eveline      3\n",
       "Kopp, Elisabeth               3\n",
       "Cassis, Ignazio               2\n",
       "Ritschard, Willi              2\n",
       "Blocher, Christoph            2\n",
       "Egli, Alphons                 2\n",
       "Stich, Otto                   1\n",
       "Maurer, Ueli                  0\n",
       "Deiss, Joseph                 0\n",
       "Name: Stimmen ü aMehr, dtype: int64"
      ]
     },
     "execution_count": 28,
     "metadata": {},
     "output_type": "execute_result"
    }
   ],
   "source": [
    "df.groupby(\"Name\")[\"Stimmen ü aMehr\"].sum().sort_values(ascending=False).tail(20)"
   ]
  },
  {
   "cell_type": "code",
   "execution_count": 29,
   "metadata": {},
   "outputs": [],
   "source": [
    "my_title = (\"Wer rutschte knapp in den Bundesrat?\")"
   ]
  },
  {
   "cell_type": "code",
   "execution_count": 30,
   "metadata": {},
   "outputs": [
    {
     "data": {
      "text/plain": [
       "<matplotlib.axes._subplots.AxesSubplot at 0x11929de10>"
      ]
     },
     "execution_count": 30,
     "metadata": {},
     "output_type": "execute_result"
    },
    {
     "data": {
      "image/png": "[encoded data removed]",
      "text/plain": [
       "<Figure size 576x360 with 1 Axes>"
      ]
     },
     "metadata": {},
     "output_type": "display_data"
    }
   ],
   "source": [
    "df.groupby(\"Name\")[\"Stimmen ü aMehr\"].sum().sort_values(ascending=False).tail(20).plot(kind='barh', figsize=(8,5), title=my_title)"
   ]
  },
  {
   "cell_type": "markdown",
   "metadata": {},
   "source": [
    "## Übersicht über Parteien und Anzahl Wahlgänge"
   ]
  },
  {
   "cell_type": "code",
   "execution_count": 31,
   "metadata": {},
   "outputs": [
    {
     "data": {
      "text/plain": [
       "Partei  Gewählt Wahlgang\n",
       "BDP     2                    1\n",
       "        6                    1\n",
       "CVP     1                    9\n",
       "        2                    1\n",
       "        4                    1\n",
       "        5                    1\n",
       "        6                    1\n",
       "FDP     1                   11\n",
       "        2                    3\n",
       "        5                    2\n",
       "        4                    1\n",
       "SP      1                    6\n",
       "        3                    2\n",
       "        5                    2\n",
       "        2                    1\n",
       "        4                    1\n",
       "SVP     3                    3\n",
       "        1                    2\n",
       "        2                    2\n",
       "Name: Gewählt Wahlgang, dtype: int64"
      ]
     },
     "execution_count": 31,
     "metadata": {},
     "output_type": "execute_result"
    }
   ],
   "source": [
    "df.groupby(\"Partei\")[\"Gewählt Wahlgang\"].value_counts(ascending= False).head(30)"
   ]
  },
  {
   "cell_type": "code",
   "execution_count": 32,
   "metadata": {},
   "outputs": [
    {
     "data": {
      "text/plain": [
       "Name\n",
       "Schmid, Samuel                 6\n",
       "Deiss, Joseph                  6\n",
       "Schneider-Ammann, Johann N.    5\n",
       "Couchepin, Pascal              5\n",
       "Calmy-Rey, Micheline           5\n",
       "Name: Gewählt Wahlgang, dtype: int64"
      ]
     },
     "execution_count": 32,
     "metadata": {},
     "output_type": "execute_result"
    }
   ],
   "source": [
    "df.groupby(\"Name\")[\"Gewählt Wahlgang\"].sum().sort_values(ascending= False).head(5)"
   ]
  },
  {
   "cell_type": "markdown",
   "metadata": {},
   "source": [
    "## Übersicht über Parteien und Stimmen über absolutem Mehr\n"
   ]
  },
  {
   "cell_type": "code",
   "execution_count": 33,
   "metadata": {},
   "outputs": [
    {
     "data": {
      "text/plain": [
       "Stimmen ü aMehr  Partei\n",
       "0                CVP       1\n",
       "                 SVP       1\n",
       "1                SP        1\n",
       "2                CVP       1\n",
       "                 FDP       1\n",
       "                 SP        1\n",
       "                 SVP       1\n",
       "3                BDP       1\n",
       "                 CVP       1\n",
       "                 FDP       1\n",
       "                 SP        1\n",
       "4                BDP       1\n",
       "                 FDP       1\n",
       "6                FDP       1\n",
       "7                FDP       2\n",
       "8                FDP       1\n",
       "9                FDP       2\n",
       "                 SVP       1\n",
       "10               CVP       1\n",
       "11               CVP       1\n",
       "                 SVP       1\n",
       "13               SP        1\n",
       "15               CVP       1\n",
       "16               FDP       1\n",
       "17               CVP       2\n",
       "18               SP        1\n",
       "19               FDP       1\n",
       "                 SVP       1\n",
       "25               FDP       2\n",
       "26               FDP       1\n",
       "28               CVP       1\n",
       "31               SP        1\n",
       "34               CVP       1\n",
       "35               SP        1\n",
       "37               SP        1\n",
       "38               SP        1\n",
       "                 SVP       1\n",
       "41               FDP       1\n",
       "43               CVP       1\n",
       "48               SP        1\n",
       "58               CVP       1\n",
       "67               FDP       1\n",
       "68               FDP       1\n",
       "                 SVP       1\n",
       "73               SP        1\n",
       "74               CVP       1\n",
       "77               SP        1\n",
       "Name: Partei, dtype: int64"
      ]
     },
     "execution_count": 33,
     "metadata": {},
     "output_type": "execute_result"
    }
   ],
   "source": [
    "df.groupby(\"Stimmen ü aMehr\")[\"Partei\"].value_counts(ascending=False).head(120)"
   ]
  },
  {
   "cell_type": "markdown",
   "metadata": {},
   "source": [
    "## Wer war am längsten Bundesrat, wer am wenigsten lang"
   ]
  },
  {
   "cell_type": "code",
   "execution_count": 34,
   "metadata": {},
   "outputs": [],
   "source": [
    "df[\"Eintritt neu\"] = pd.to_datetime(df[\"Eintritt BR\"], format=\"%d.%m.%Y\")"
   ]
  },
  {
   "cell_type": "code",
   "execution_count": 35,
   "metadata": {},
   "outputs": [],
   "source": [
    "df['Austritt neu'] = pd.to_datetime(df['Austritt BR'], format=\"%d.%m.%Y\")"
   ]
  },
  {
   "cell_type": "code",
   "execution_count": 36,
   "metadata": {},
   "outputs": [
    {
     "data": {
      "text/html": [
       "<div>\n",
       "<style scoped>\n",
       "    .dataframe tbody tr th:only-of-type {\n",
       "        vertical-align: middle;\n",
       "    }\n",
       "\n",
       "    .dataframe tbody tr th {\n",
       "        vertical-align: top;\n",
       "    }\n",
       "\n",
       "    .dataframe thead th {\n",
       "        text-align: right;\n",
       "    }\n",
       "</style>\n",
       "<table border=\"1\" class=\"dataframe\">\n",
       "  <thead>\n",
       "    <tr style=\"text-align: right;\">\n",
       "      <th></th>\n",
       "      <th>ID</th>\n",
       "      <th>Name</th>\n",
       "      <th>Kanton</th>\n",
       "      <th>Eintritt BR</th>\n",
       "      <th>Austritt BR</th>\n",
       "      <th>Heimatort</th>\n",
       "      <th>ID Heimatort</th>\n",
       "      <th>Gewählt Wahlgang</th>\n",
       "      <th>Gewählt Stimmen</th>\n",
       "      <th>Absolutes Mehr</th>\n",
       "      <th>Stimmen ü aMehr</th>\n",
       "      <th>Partei</th>\n",
       "      <th>Eintritt neu</th>\n",
       "      <th>Austritt neu</th>\n",
       "    </tr>\n",
       "  </thead>\n",
       "  <tbody>\n",
       "    <tr>\n",
       "      <th>0</th>\n",
       "      <td>63</td>\n",
       "      <td>Petitpierre, Max</td>\n",
       "      <td>NE</td>\n",
       "      <td>14.12.1944</td>\n",
       "      <td>30.06.1961</td>\n",
       "      <td>Neuchâtel+Couvet</td>\n",
       "      <td>NaN</td>\n",
       "      <td>1</td>\n",
       "      <td>122</td>\n",
       "      <td>114</td>\n",
       "      <td>8</td>\n",
       "      <td>FDP</td>\n",
       "      <td>1944-12-14</td>\n",
       "      <td>1961-06-30</td>\n",
       "    </tr>\n",
       "    <tr>\n",
       "      <th>1</th>\n",
       "      <td>68</td>\n",
       "      <td>Streuli, Hans</td>\n",
       "      <td>ZH</td>\n",
       "      <td>22.12.1953</td>\n",
       "      <td>31.12.1959</td>\n",
       "      <td>Wädenswil+Richterswil</td>\n",
       "      <td>NaN</td>\n",
       "      <td>2</td>\n",
       "      <td>113</td>\n",
       "      <td>109</td>\n",
       "      <td>4</td>\n",
       "      <td>FDP</td>\n",
       "      <td>1953-12-22</td>\n",
       "      <td>1959-12-31</td>\n",
       "    </tr>\n",
       "    <tr>\n",
       "      <th>2</th>\n",
       "      <td>69</td>\n",
       "      <td>Lepori, Giuseppe</td>\n",
       "      <td>TI</td>\n",
       "      <td>16.12.1954</td>\n",
       "      <td>31.12.1959</td>\n",
       "      <td>Lopagno</td>\n",
       "      <td>NaN</td>\n",
       "      <td>2</td>\n",
       "      <td>128</td>\n",
       "      <td>117</td>\n",
       "      <td>11</td>\n",
       "      <td>CVP</td>\n",
       "      <td>1954-12-16</td>\n",
       "      <td>1959-12-31</td>\n",
       "    </tr>\n",
       "    <tr>\n",
       "      <th>3</th>\n",
       "      <td>70</td>\n",
       "      <td>Holenstein, Thomas</td>\n",
       "      <td>SG</td>\n",
       "      <td>16.12.1954</td>\n",
       "      <td>31.12.1959</td>\n",
       "      <td>Bütschwil</td>\n",
       "      <td>NaN</td>\n",
       "      <td>1</td>\n",
       "      <td>182</td>\n",
       "      <td>108</td>\n",
       "      <td>74</td>\n",
       "      <td>CVP</td>\n",
       "      <td>1954-12-16</td>\n",
       "      <td>1959-12-31</td>\n",
       "    </tr>\n",
       "    <tr>\n",
       "      <th>4</th>\n",
       "      <td>71</td>\n",
       "      <td>Chaudet, Paul</td>\n",
       "      <td>VD</td>\n",
       "      <td>16.12.1954</td>\n",
       "      <td>31.12.1966</td>\n",
       "      <td>Corsier s. Vevey</td>\n",
       "      <td>NaN</td>\n",
       "      <td>1</td>\n",
       "      <td>135</td>\n",
       "      <td>110</td>\n",
       "      <td>25</td>\n",
       "      <td>FDP</td>\n",
       "      <td>1954-12-16</td>\n",
       "      <td>1966-12-31</td>\n",
       "    </tr>\n",
       "  </tbody>\n",
       "</table>\n",
       "</div>"
      ],
      "text/plain": [
       "   ID                Name Kanton Eintritt BR Austritt BR  \\\n",
       "0  63    Petitpierre, Max     NE  14.12.1944  30.06.1961   \n",
       "1  68       Streuli, Hans     ZH  22.12.1953  31.12.1959   \n",
       "2  69    Lepori, Giuseppe     TI  16.12.1954  31.12.1959   \n",
       "3  70  Holenstein, Thomas     SG  16.12.1954  31.12.1959   \n",
       "4  71       Chaudet, Paul     VD  16.12.1954  31.12.1966   \n",
       "\n",
       "               Heimatort  ID Heimatort  Gewählt Wahlgang  Gewählt Stimmen  \\\n",
       "0       Neuchâtel+Couvet           NaN                 1              122   \n",
       "1  Wädenswil+Richterswil           NaN                 2              113   \n",
       "2                Lopagno           NaN                 2              128   \n",
       "3              Bütschwil           NaN                 1              182   \n",
       "4       Corsier s. Vevey           NaN                 1              135   \n",
       "\n",
       "   Absolutes Mehr  Stimmen ü aMehr Partei Eintritt neu Austritt neu  \n",
       "0             114                8    FDP   1944-12-14   1961-06-30  \n",
       "1             109                4    FDP   1953-12-22   1959-12-31  \n",
       "2             117               11    CVP   1954-12-16   1959-12-31  \n",
       "3             108               74    CVP   1954-12-16   1959-12-31  \n",
       "4             110               25    FDP   1954-12-16   1966-12-31  "
      ]
     },
     "execution_count": 36,
     "metadata": {},
     "output_type": "execute_result"
    }
   ],
   "source": [
    "df.head()"
   ]
  },
  {
   "cell_type": "code",
   "execution_count": 37,
   "metadata": {},
   "outputs": [],
   "source": [
    "# df[\"Zeitspanne\"] =df[\"Eintritt neu\"]-df[\"Austritt neu\"]"
   ]
  },
  {
   "cell_type": "code",
   "execution_count": 38,
   "metadata": {},
   "outputs": [],
   "source": [
    "df[\"Zeitspanne\"] = pd.Series(delta.days for delta in (df['Austritt neu'] - df['Eintritt neu']))"
   ]
  },
  {
   "cell_type": "code",
   "execution_count": 39,
   "metadata": {},
   "outputs": [
    {
     "data": {
      "text/html": [
       "<div>\n",
       "<style scoped>\n",
       "    .dataframe tbody tr th:only-of-type {\n",
       "        vertical-align: middle;\n",
       "    }\n",
       "\n",
       "    .dataframe tbody tr th {\n",
       "        vertical-align: top;\n",
       "    }\n",
       "\n",
       "    .dataframe thead th {\n",
       "        text-align: right;\n",
       "    }\n",
       "</style>\n",
       "<table border=\"1\" class=\"dataframe\">\n",
       "  <thead>\n",
       "    <tr style=\"text-align: right;\">\n",
       "      <th></th>\n",
       "      <th>ID</th>\n",
       "      <th>Name</th>\n",
       "      <th>Kanton</th>\n",
       "      <th>Eintritt BR</th>\n",
       "      <th>Austritt BR</th>\n",
       "      <th>Heimatort</th>\n",
       "      <th>ID Heimatort</th>\n",
       "      <th>Gewählt Wahlgang</th>\n",
       "      <th>Gewählt Stimmen</th>\n",
       "      <th>Absolutes Mehr</th>\n",
       "      <th>Stimmen ü aMehr</th>\n",
       "      <th>Partei</th>\n",
       "      <th>Eintritt neu</th>\n",
       "      <th>Austritt neu</th>\n",
       "      <th>Zeitspanne</th>\n",
       "    </tr>\n",
       "  </thead>\n",
       "  <tbody>\n",
       "    <tr>\n",
       "      <th>0</th>\n",
       "      <td>63</td>\n",
       "      <td>Petitpierre, Max</td>\n",
       "      <td>NE</td>\n",
       "      <td>14.12.1944</td>\n",
       "      <td>30.06.1961</td>\n",
       "      <td>Neuchâtel+Couvet</td>\n",
       "      <td>NaN</td>\n",
       "      <td>1</td>\n",
       "      <td>122</td>\n",
       "      <td>114</td>\n",
       "      <td>8</td>\n",
       "      <td>FDP</td>\n",
       "      <td>1944-12-14</td>\n",
       "      <td>1961-06-30</td>\n",
       "      <td>6042</td>\n",
       "    </tr>\n",
       "    <tr>\n",
       "      <th>1</th>\n",
       "      <td>68</td>\n",
       "      <td>Streuli, Hans</td>\n",
       "      <td>ZH</td>\n",
       "      <td>22.12.1953</td>\n",
       "      <td>31.12.1959</td>\n",
       "      <td>Wädenswil+Richterswil</td>\n",
       "      <td>NaN</td>\n",
       "      <td>2</td>\n",
       "      <td>113</td>\n",
       "      <td>109</td>\n",
       "      <td>4</td>\n",
       "      <td>FDP</td>\n",
       "      <td>1953-12-22</td>\n",
       "      <td>1959-12-31</td>\n",
       "      <td>2200</td>\n",
       "    </tr>\n",
       "    <tr>\n",
       "      <th>2</th>\n",
       "      <td>69</td>\n",
       "      <td>Lepori, Giuseppe</td>\n",
       "      <td>TI</td>\n",
       "      <td>16.12.1954</td>\n",
       "      <td>31.12.1959</td>\n",
       "      <td>Lopagno</td>\n",
       "      <td>NaN</td>\n",
       "      <td>2</td>\n",
       "      <td>128</td>\n",
       "      <td>117</td>\n",
       "      <td>11</td>\n",
       "      <td>CVP</td>\n",
       "      <td>1954-12-16</td>\n",
       "      <td>1959-12-31</td>\n",
       "      <td>1841</td>\n",
       "    </tr>\n",
       "    <tr>\n",
       "      <th>3</th>\n",
       "      <td>70</td>\n",
       "      <td>Holenstein, Thomas</td>\n",
       "      <td>SG</td>\n",
       "      <td>16.12.1954</td>\n",
       "      <td>31.12.1959</td>\n",
       "      <td>Bütschwil</td>\n",
       "      <td>NaN</td>\n",
       "      <td>1</td>\n",
       "      <td>182</td>\n",
       "      <td>108</td>\n",
       "      <td>74</td>\n",
       "      <td>CVP</td>\n",
       "      <td>1954-12-16</td>\n",
       "      <td>1959-12-31</td>\n",
       "      <td>1841</td>\n",
       "    </tr>\n",
       "    <tr>\n",
       "      <th>4</th>\n",
       "      <td>71</td>\n",
       "      <td>Chaudet, Paul</td>\n",
       "      <td>VD</td>\n",
       "      <td>16.12.1954</td>\n",
       "      <td>31.12.1966</td>\n",
       "      <td>Corsier s. Vevey</td>\n",
       "      <td>NaN</td>\n",
       "      <td>1</td>\n",
       "      <td>135</td>\n",
       "      <td>110</td>\n",
       "      <td>25</td>\n",
       "      <td>FDP</td>\n",
       "      <td>1954-12-16</td>\n",
       "      <td>1966-12-31</td>\n",
       "      <td>4398</td>\n",
       "    </tr>\n",
       "  </tbody>\n",
       "</table>\n",
       "</div>"
      ],
      "text/plain": [
       "   ID                Name Kanton Eintritt BR Austritt BR  \\\n",
       "0  63    Petitpierre, Max     NE  14.12.1944  30.06.1961   \n",
       "1  68       Streuli, Hans     ZH  22.12.1953  31.12.1959   \n",
       "2  69    Lepori, Giuseppe     TI  16.12.1954  31.12.1959   \n",
       "3  70  Holenstein, Thomas     SG  16.12.1954  31.12.1959   \n",
       "4  71       Chaudet, Paul     VD  16.12.1954  31.12.1966   \n",
       "\n",
       "               Heimatort  ID Heimatort  Gewählt Wahlgang  Gewählt Stimmen  \\\n",
       "0       Neuchâtel+Couvet           NaN                 1              122   \n",
       "1  Wädenswil+Richterswil           NaN                 2              113   \n",
       "2                Lopagno           NaN                 2              128   \n",
       "3              Bütschwil           NaN                 1              182   \n",
       "4       Corsier s. Vevey           NaN                 1              135   \n",
       "\n",
       "   Absolutes Mehr  Stimmen ü aMehr Partei Eintritt neu Austritt neu  \\\n",
       "0             114                8    FDP   1944-12-14   1961-06-30   \n",
       "1             109                4    FDP   1953-12-22   1959-12-31   \n",
       "2             117               11    CVP   1954-12-16   1959-12-31   \n",
       "3             108               74    CVP   1954-12-16   1959-12-31   \n",
       "4             110               25    FDP   1954-12-16   1966-12-31   \n",
       "\n",
       "   Zeitspanne  \n",
       "0        6042  \n",
       "1        2200  \n",
       "2        1841  \n",
       "3        1841  \n",
       "4        4398  "
      ]
     },
     "execution_count": 39,
     "metadata": {},
     "output_type": "execute_result"
    }
   ],
   "source": [
    "df.head()"
   ]
  },
  {
   "cell_type": "code",
   "execution_count": 40,
   "metadata": {},
   "outputs": [],
   "source": [
    "versuch = df[\"Zeitspanne\"] / 365"
   ]
  },
  {
   "cell_type": "code",
   "execution_count": 41,
   "metadata": {},
   "outputs": [
    {
     "data": {
      "text/plain": [
       "Name\n",
       "Petitpierre, Max            6042\n",
       "Leuenberger, Moritz         5513\n",
       "Furgler, Kurt               5502\n",
       "Villiger, Kaspar            5446\n",
       "Delamuraz, Jean-Pascal      5228\n",
       "Gnägi, Rudolf               5136\n",
       "Tschudi, Hans-Peter         5128\n",
       "Ogi , Adolf                 4771\n",
       "Leuthard, Doris             4554\n",
       "Koller, Arnold              4524\n",
       "Cotti , Flavio              4524\n",
       "Chaudet, Paul               4398\n",
       "von Moos, Ludwig            4397\n",
       "Stich, Otto                 4346\n",
       "Couchepin, Pascal           4252\n",
       "Bonvin, Roger               4113\n",
       "Spühler, Willy              3698\n",
       "Chevallaz, Georges-André    3678\n",
       "Aubert, Pierre              3676\n",
       "Maurer, Ueli                3644\n",
       "Name: Zeitspanne, dtype: int64"
      ]
     },
     "execution_count": 41,
     "metadata": {},
     "output_type": "execute_result"
    }
   ],
   "source": [
    "df.groupby(\"Name\")[\"Zeitspanne\"].sum().sort_values(ascending=False).head(20)"
   ]
  },
  {
   "cell_type": "code",
   "execution_count": 42,
   "metadata": {},
   "outputs": [],
   "source": [
    "liste = df.groupby(\"Name\")[\"Zeitspanne\"].sum().sort_values(ascending=False).head(120)"
   ]
  },
  {
   "cell_type": "code",
   "execution_count": 43,
   "metadata": {},
   "outputs": [],
   "source": [
    "path = \"BR_am_langsten_Amt_1959.csv\"\n",
    "\n",
    "liste.to_csv(path, index=True)"
   ]
  },
  {
   "cell_type": "code",
   "execution_count": 44,
   "metadata": {},
   "outputs": [],
   "source": [
    "my_title = (\"Welcher BR war am längsten im Amt?\")"
   ]
  },
  {
   "cell_type": "code",
   "execution_count": 45,
   "metadata": {},
   "outputs": [
    {
     "data": {
      "text/plain": [
       "<matplotlib.axes._subplots.AxesSubplot at 0x11942a400>"
      ]
     },
     "execution_count": 45,
     "metadata": {},
     "output_type": "execute_result"
    },
    {
     "data": {
      "image/png": "[encoded data removed]",
      "text/plain": [
       "<Figure size 576x360 with 1 Axes>"
      ]
     },
     "metadata": {},
     "output_type": "display_data"
    }
   ],
   "source": [
    "df.groupby(\"Name\")[\"Zeitspanne\"].sum().sort_values(ascending=False).head(20).plot(kind='barh', figsize=(8,5), title=my_title)"
   ]
  },
  {
   "cell_type": "code",
   "execution_count": null,
   "metadata": {},
   "outputs": [],
   "source": []
  },
  {
   "cell_type": "code",
   "execution_count": 46,
   "metadata": {},
   "outputs": [
    {
     "data": {
      "text/plain": [
       "Name\n",
       "Dreifuss, Ruth                 3583\n",
       "Calmy-Rey, Micheline           3314\n",
       "Hürlimann, Hans                3313\n",
       "Schaffner, Hans                3121\n",
       "Schneider-Ammann, Johann N.    2993\n",
       "Sommaruga, Simonetta           2993\n",
       "Brugger, Ernst                 2974\n",
       "Graber, Pierre                 2974\n",
       "Burkhalter, Didier             2967\n",
       "Schlumpf , Leon                2948\n",
       "Schmid, Samuel                 2947\n",
       "Widmer-Schlumpf, Eveline       2941\n",
       "Deiss, Joseph                  2699\n",
       "Wahlen, Friedrich Traugott     2577\n",
       "Celio, Nello                   2574\n",
       "Berset, Alain                  2545\n",
       "Merz, Hans-Rudolf              2517\n",
       "Streuli, Hans                  2200\n",
       "Felber, René                   1939\n",
       "Honegger, Fritz                1850\n",
       "Holenstein, Thomas             1841\n",
       "Lepori, Giuseppe               1841\n",
       "Metzler-Arnold, Ruth           1756\n",
       "Kopp, Elisabeth                1563\n",
       "Egli, Alphons                  1484\n",
       "Blocher, Christoph             1482\n",
       "Parmelin, Guy                  1089\n",
       "Bourgknecht, Jean              1018\n",
       "Friedrich, Rudolf               682\n",
       "Cassis, Ignazio                 438\n",
       "Name: Zeitspanne, dtype: int64"
      ]
     },
     "execution_count": 46,
     "metadata": {},
     "output_type": "execute_result"
    }
   ],
   "source": [
    "df.groupby(\"Name\")[\"Zeitspanne\"].sum().sort_values(ascending=False).tail(30)"
   ]
  },
  {
   "cell_type": "code",
   "execution_count": 47,
   "metadata": {},
   "outputs": [],
   "source": [
    "my_title= (\"Wer verliess den BR am Schnellsten wieder?\")"
   ]
  },
  {
   "cell_type": "code",
   "execution_count": 48,
   "metadata": {},
   "outputs": [
    {
     "data": {
      "text/plain": [
       "<matplotlib.axes._subplots.AxesSubplot at 0x119577d68>"
      ]
     },
     "execution_count": 48,
     "metadata": {},
     "output_type": "execute_result"
    },
    {
     "data": {
      "image/png": "[encoded data removed]",
      "text/plain": [
       "<Figure size 576x360 with 1 Axes>"
      ]
     },
     "metadata": {},
     "output_type": "display_data"
    }
   ],
   "source": [
    "df.groupby(\"Name\")[\"Zeitspanne\"].sum().sort_values(ascending=False).tail(30).plot(kind='barh', figsize=(8,5), title=my_title)"
   ]
  },
  {
   "cell_type": "code",
   "execution_count": null,
   "metadata": {},
   "outputs": [],
   "source": []
  },
  {
   "cell_type": "code",
   "execution_count": null,
   "metadata": {},
   "outputs": [],
   "source": [
    "# Python3 code to convert given  \n",
    "# number of days in terms of  \n",
    "# Years, Weeks and Days \n",
    "  \n",
    "DAYS_IN_WEEK = 7\n",
    "  \n",
    "# Function to find  \n",
    "# year, week, days  \n",
    "def find( number_of_days ): \n",
    "  \n",
    "    # Assume that years is \n",
    "    # of 365 days \n",
    "    year = int(number_of_days / 365) \n",
    "    week = int((number_of_days % 365) / \n",
    "                DAYS_IN_WEEK) \n",
    "    days = (number_of_days % 365) % DAYS_IN_WEEK \n",
    "      \n",
    "    print(\"years = \",year, \n",
    "          \"\\nweeks = \",week, \n",
    "          \"\\ndays = \",days) \n",
    "      \n",
    "# Driver Code \n",
    "number_of_days = 200\n",
    "find(number_of_days) "
   ]
  },
  {
   "cell_type": "code",
   "execution_count": null,
   "metadata": {},
   "outputs": [],
   "source": []
  },
  {
   "cell_type": "code",
   "execution_count": null,
   "metadata": {},
   "outputs": [],
   "source": []
  },
  {
   "cell_type": "code",
   "execution_count": null,
   "metadata": {},
   "outputs": [],
   "source": []
  }
 ],
 "metadata": {
  "kernelspec": {
   "display_name": "Python 3",
   "language": "python",
   "name": "python3"
  },
  "language_info": {
   "codemirror_mode": {
    "name": "ipython",
    "version": 3
   },
   "file_extension": ".py",
   "mimetype": "text/x-python",
   "name": "python",
   "nbconvert_exporter": "python",
   "pygments_lexer": "ipython3",
   "version": "3.7.0"
  }
 },
 "nbformat": 4,
 "nbformat_minor": 2
}
