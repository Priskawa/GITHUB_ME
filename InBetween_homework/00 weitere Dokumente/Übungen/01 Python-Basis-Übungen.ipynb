{
 "cells": [
  {
   "cell_type": "markdown",
   "metadata": {},
   "source": [
    "# Python II Hausaufgaben"
   ]
  },
  {
   "cell_type": "markdown",
   "metadata": {},
   "source": [
    "1.Baue eine Funktion mit dem Namen 'double', der die Zahl 5 vedoppelt:"
   ]
  },
  {
   "cell_type": "code",
   "execution_count": 45,
   "metadata": {},
   "outputs": [],
   "source": [
    "def double(lst):\n",
    "    return [i*2 for i in lst]"
   ]
  },
  {
   "cell_type": "code",
   "execution_count": 46,
   "metadata": {},
   "outputs": [
    {
     "name": "stdout",
     "output_type": "stream",
     "text": [
      "[6, 10, 14, 20, 30]\n"
     ]
    }
   ],
   "source": [
    "n = [3, 5, 7, 10, 15]\n",
    "print(double(n))"
   ]
  },
  {
   "cell_type": "code",
   "execution_count": 1,
   "metadata": {},
   "outputs": [],
   "source": [
    "# Barnabys Lösungsvorschlag\n",
    "\n",
    "def double(number):\n",
    "    bigger = number * 2\n",
    "    return bigger"
   ]
  },
  {
   "cell_type": "code",
   "execution_count": 2,
   "metadata": {},
   "outputs": [
    {
     "data": {
      "text/plain": [
       "10"
      ]
     },
     "execution_count": 2,
     "metadata": {},
     "output_type": "execute_result"
    }
   ],
   "source": [
    "double(5)"
   ]
  },
  {
   "cell_type": "markdown",
   "metadata": {},
   "source": [
    "2.Baue einen for-loop, der durch vordefinierte Zahlen-list geht, und mithilfe der eben kreierten eigenen Funktion, alle Resultate verdoppelt ausdruckt."
   ]
  },
  {
   "cell_type": "code",
   "execution_count": 4,
   "metadata": {},
   "outputs": [],
   "source": [
    "lst = list(range(1,5))"
   ]
  },
  {
   "cell_type": "code",
   "execution_count": 48,
   "metadata": {},
   "outputs": [
    {
     "name": "stdout",
     "output_type": "stream",
     "text": [
      "1\n",
      "2\n",
      "3\n",
      "4\n"
     ]
    }
   ],
   "source": [
    "for i in lst:\n",
    "    print (i)"
   ]
  },
  {
   "cell_type": "code",
   "execution_count": 49,
   "metadata": {},
   "outputs": [
    {
     "name": "stdout",
     "output_type": "stream",
     "text": [
      "2\n",
      "4\n",
      "6\n",
      "8\n"
     ]
    }
   ],
   "source": [
    "for i in (double(lst)):\n",
    "    print (i)"
   ]
  },
  {
   "cell_type": "code",
   "execution_count": 5,
   "metadata": {},
   "outputs": [
    {
     "name": "stdout",
     "output_type": "stream",
     "text": [
      "2\n",
      "4\n",
      "6\n",
      "8\n"
     ]
    }
   ],
   "source": [
    "# Barnabys Lösungsvorschlag\n",
    "for n in lst:\n",
    "    print(double(n))"
   ]
  },
  {
   "cell_type": "markdown",
   "metadata": {},
   "source": [
    "3.Entwickle einen Code, der den Nutzer nach der Länge seinem Namen fragt, und ihm dann sagt, wieviele Zeichen sein Name hat."
   ]
  },
  {
   "cell_type": "code",
   "execution_count": 64,
   "metadata": {},
   "outputs": [
    {
     "name": "stdout",
     "output_type": "stream",
     "text": [
      "Wie ist dein Name?\n"
     ]
    }
   ],
   "source": [
    "print (\"Wie ist dein Name?\")"
   ]
  },
  {
   "cell_type": "code",
   "execution_count": 63,
   "metadata": {},
   "outputs": [],
   "source": [
    "#!/usr/bin/python"
   ]
  },
  {
   "cell_type": "code",
   "execution_count": null,
   "metadata": {},
   "outputs": [],
   "source": [
    "Name = raw_input(\"Wie ist dein Name? \")\n",
    "print \"Ihr Name ist\", Name"
   ]
  },
  {
   "cell_type": "code",
   "execution_count": 7,
   "metadata": {},
   "outputs": [
    {
     "name": "stdout",
     "output_type": "stream",
     "text": [
      "Wie heisst Du?Marie-Antoinette\n",
      "Hallo Marie-Antoinette, Dein Name hat 16 Zeichen.\n"
     ]
    }
   ],
   "source": [
    "# Barnabys Lösungsvorschlag  -- NIE im Leben wäre ich auf sowas gekommen!!!\n",
    "elem = input('Wie heisst Du?')\n",
    "length = len(elem)\n",
    "print('Hallo '+ elem+ ','+ ' Dein Name hat '+ str(length)+ ' Zeichen.')"
   ]
  },
  {
   "cell_type": "markdown",
   "metadata": {},
   "source": [
    "4.Entwickle eine Funktion mit dem Namen km_rechner, der für die untenaufgeführten automatisch die Umrechung von Meilen in km durchführt und gerundet auf eine Kommastelle anzeigt."
   ]
  },
  {
   "cell_type": "code",
   "execution_count": 84,
   "metadata": {},
   "outputs": [],
   "source": [
    "miles = 1 * 0.62137   \n",
    "kilometer = 1 / 0.62137"
   ]
  },
  {
   "cell_type": "code",
   "execution_count": 119,
   "metadata": {},
   "outputs": [
    {
     "name": "stdout",
     "output_type": "stream",
     "text": [
      "1.6093470878864444\n"
     ]
    }
   ],
   "source": [
    "miles = 1\n",
    "conversion_factor = 0.62137\n",
    "\n",
    "kilometer = miles / conversion_factor\n",
    "print (kilometer)"
   ]
  },
  {
   "cell_type": "code",
   "execution_count": 145,
   "metadata": {},
   "outputs": [],
   "source": [
    "def km_rechner(miles):\n",
    "\n",
    "    conversion_factor = 0.62137\n",
    "    kilometer = miles / conversion_factor\n",
    "    kilometer = round(kilometer, 1)\n",
    "    \n",
    "    return kilometer"
   ]
  },
  {
   "cell_type": "code",
   "execution_count": null,
   "metadata": {},
   "outputs": [],
   "source": [
    "# Barnabys Lösungsvorschlag\n",
    "def km_rechner(m):\n",
    "    m = m * 1.60934\n",
    "    return round(m, 3)"
   ]
  },
  {
   "cell_type": "code",
   "execution_count": 147,
   "metadata": {},
   "outputs": [
    {
     "name": "stdout",
     "output_type": "stream",
     "text": [
      "8.0\n",
      "197.9\n",
      "85.3\n"
     ]
    }
   ],
   "source": [
    "print (km_rechner(5))\n",
    "print (km_rechner(123))\n",
    "print (km_rechner(53))"
   ]
  },
  {
   "cell_type": "markdown",
   "metadata": {},
   "source": [
    "5.Wir haben in einem Dictionary mit Massen, die mit ganz unterschiedlichen Formaten daherkommen. Entwickle eine Funktion namens m_converter, die diese Formate berücksichtigt, und in Meter umwandelt."
   ]
  },
  {
   "cell_type": "code",
   "execution_count": 11,
   "metadata": {},
   "outputs": [],
   "source": [
    "#Unsere Formate\n",
    "var_first = { 'measurement': 3.4, 'scale': 'kilometer' }\n",
    "var_second = { 'measurement': 9.1, 'scale': 'mile' }\n",
    "var_third = { 'measurement': 2.0, 'scale': 'meter' }\n",
    "var_fourth = { 'measurement': 9.0, 'scale': 'inches' }"
   ]
  },
  {
   "cell_type": "code",
   "execution_count": 12,
   "metadata": {},
   "outputs": [],
   "source": [
    "meter = 1 \n",
    "kilometer = 1000 \n",
    "mile = 1621\n",
    "inches = 0.254"
   ]
  },
  {
   "cell_type": "code",
   "execution_count": 13,
   "metadata": {},
   "outputs": [
    {
     "name": "stdout",
     "output_type": "stream",
     "text": [
      "finito\n"
     ]
    }
   ],
   "source": [
    "def m_converter(value):\n",
    "    \n",
    "    if value [\"scale\"] == \"kilometer\":\n",
    "        return value[\"measurement\"] * 1000\n",
    "    elif value[\"scale\"] == \"mile\":\n",
    "        return value[\"measurement\"] * 1621.37 \n",
    "    elif value [\"scale\"] == \"meter\":\n",
    "        return value[\"measurement\"] * 1\n",
    "    elif value [\"scale\"] == \"inches\":\n",
    "        return value[\"measurement\"] * 0.0254\n",
    "    \n",
    "print (\"finito\")"
   ]
  },
  {
   "cell_type": "code",
   "execution_count": null,
   "metadata": {},
   "outputs": [],
   "source": [
    "# Barnabys Lösungsvorschlag:\n",
    "\n",
    "def m_converter(measurement):\n",
    "    if measurement['scale'] == 'kilometer':\n",
    "        return measurement['measurement'] * 1000\n",
    "    if measurement['scale'] == 'mile':\n",
    "        return measurement['measurement'] * 1600\n",
    "    if measurement['scale'] == 'inches':\n",
    "        return measurement['measurement'] * 0.0254\n",
    "    else:\n",
    "        return measurement['measurement']"
   ]
  },
  {
   "cell_type": "code",
   "execution_count": 14,
   "metadata": {},
   "outputs": [
    {
     "name": "stdout",
     "output_type": "stream",
     "text": [
      "3400.0\n",
      "14754.466999999999\n",
      "2.0\n",
      "0.2286\n"
     ]
    }
   ],
   "source": [
    "print(m_converter(var_first))\n",
    "print(m_converter(var_second))\n",
    "print(m_converter(var_third))\n",
    "print(m_converter(var_fourth))"
   ]
  },
  {
   "cell_type": "code",
   "execution_count": null,
   "metadata": {},
   "outputs": [],
   "source": []
  }
 ],
 "metadata": {
  "kernelspec": {
   "display_name": "Python 3",
   "language": "python",
   "name": "python3"
  },
  "language_info": {
   "codemirror_mode": {
    "name": "ipython",
    "version": 3
   },
   "file_extension": ".py",
   "mimetype": "text/x-python",
   "name": "python",
   "nbconvert_exporter": "python",
   "pygments_lexer": "ipython3",
   "version": "3.7.0"
  }
 },
 "nbformat": 4,
 "nbformat_minor": 2
}
