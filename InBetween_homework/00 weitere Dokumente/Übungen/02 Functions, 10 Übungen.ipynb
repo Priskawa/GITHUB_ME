{
 "cells": [
  {
   "cell_type": "markdown",
   "metadata": {},
   "source": [
    "# 02 Functions, 10 Übungen"
   ]
  },
  {
   "cell_type": "markdown",
   "metadata": {},
   "source": [
    "Hier nochmals zur Erinnerung, wie Funktionen geschrieben werden."
   ]
  },
  {
   "cell_type": "code",
   "execution_count": 2,
   "metadata": {
    "collapsed": true
   },
   "outputs": [],
   "source": [
    "def test(element):\n",
    "    return element * 2"
   ]
  },
  {
   "cell_type": "code",
   "execution_count": 3,
   "metadata": {
    "collapsed": true
   },
   "outputs": [],
   "source": [
    "lst = list(range(1,100))"
   ]
  },
  {
   "cell_type": "code",
   "execution_count": 4,
   "metadata": {},
   "outputs": [
    {
     "data": {
      "text/plain": [
       "18"
      ]
     },
     "execution_count": 4,
     "metadata": {},
     "output_type": "execute_result"
    }
   ],
   "source": [
    "test(9) #Hier wird die Function auf die Zahl 9 angewendet. Sie wird mit 2 multipliziert."
   ]
  },
  {
   "cell_type": "markdown",
   "metadata": {},
   "source": [
    "1.Schreibe zwei Versionen von Funktionen namens \"maxi\" auf, die aus einer Liste, die grösste Zahl herauszieht. Es ist verboten mit \"max\" zu arbeiten. :-)"
   ]
  },
  {
   "cell_type": "code",
   "execution_count": 10,
   "metadata": {},
   "outputs": [],
   "source": [
    "lst = [3,5,6,2,6,89,90]"
   ]
  },
  {
   "cell_type": "code",
   "execution_count": 11,
   "metadata": {},
   "outputs": [
    {
     "data": {
      "text/plain": [
       "90"
      ]
     },
     "execution_count": 11,
     "metadata": {},
     "output_type": "execute_result"
    }
   ],
   "source": [
    "max(lst)"
   ]
  },
  {
   "cell_type": "code",
   "execution_count": 67,
   "metadata": {},
   "outputs": [
    {
     "name": "stdout",
     "output_type": "stream",
     "text": [
      "90\n"
     ]
    }
   ],
   "source": [
    "#Deine Function 1: \n",
    "lst = [3,5,6,2,6,89,90]\n",
    "\n",
    "maxi = 0\n",
    "for i in lst:\n",
    "    if i > maxi:\n",
    "        maxi = i\n",
    "print(maxi)\n"
   ]
  },
  {
   "cell_type": "code",
   "execution_count": 11,
   "metadata": {
    "collapsed": true
   },
   "outputs": [],
   "source": [
    "#Deine Function 2:"
   ]
  },
  {
   "cell_type": "code",
   "execution_count": null,
   "metadata": {},
   "outputs": [],
   "source": [
    "lst = [3,5,6,2,6,89,90]\n",
    "\n",
    "\n",
    "\n"
   ]
  },
  {
   "cell_type": "markdown",
   "metadata": {},
   "source": [
    "2.Schreibe eine Funktion names numbers, die alle Elemente einer Liste, addiert. Es ist verboten mit \"sum\" zu arbeiten."
   ]
  },
  {
   "cell_type": "code",
   "execution_count": 17,
   "metadata": {},
   "outputs": [],
   "source": [
    "lst = [23,213, 234,234, 3323]"
   ]
  },
  {
   "cell_type": "code",
   "execution_count": 1,
   "metadata": {},
   "outputs": [
    {
     "name": "stdout",
     "output_type": "stream",
     "text": [
      "4027\n"
     ]
    }
   ],
   "source": [
    "#Deine Function:\n",
    "\n",
    "lst = [23,213, 234,234, 3323]\n",
    "lst2 = []         # neue leere Liste\n",
    "summe = lst[0]   # summe ist erstes Listenelement\n",
    "\n",
    "for i in lst[1:]:   # Schleife ab dem 2. Element\n",
    "   summe += i       # Aufsummieren\n",
    "   lst2.append(summe)  # an die neue Liste hängen\n",
    "\n",
    "print (lst2[3])"
   ]
  },
  {
   "cell_type": "code",
   "execution_count": 74,
   "metadata": {},
   "outputs": [
    {
     "name": "stdout",
     "output_type": "stream",
     "text": [
      "4027\n"
     ]
    }
   ],
   "source": [
    "lst = [23,213, 234,234, 3323]\n",
    "\n",
    "def listsum(lst):\n",
    "    ergebnis = 0\n",
    "    for i in lst:\n",
    "        ergebnis = ergebnis + i\n",
    "    return ergebnis\n",
    "\n",
    "print(listsum([23,213, 234,234, 3323]))\n",
    "\n"
   ]
  },
  {
   "cell_type": "code",
   "execution_count": 70,
   "metadata": {},
   "outputs": [
    {
     "name": "stdout",
     "output_type": "stream",
     "text": [
      "4027\n"
     ]
    }
   ],
   "source": [
    "lst = [23,213, 234,234, 3323]\n",
    "\n",
    "def listsum(lst):\n",
    "   if len(lst) == 1:\n",
    "        return lst[0]\n",
    "   else:\n",
    "        return lst[0] + listsum(lst[1:])\n",
    "\n",
    "print(listsum([23,213, 234,234, 3323]))\n"
   ]
  },
  {
   "cell_type": "markdown",
   "metadata": {},
   "source": [
    "3.Schreibe eine Funktion names \"numbers\", die alle Elemente einer Liste multipliziert."
   ]
  },
  {
   "cell_type": "code",
   "execution_count": 43,
   "metadata": {},
   "outputs": [],
   "source": [
    "lst = [23,213, 234,234, 3323]"
   ]
  },
  {
   "cell_type": "code",
   "execution_count": 77,
   "metadata": {},
   "outputs": [
    {
     "name": "stdout",
     "output_type": "stream",
     "text": [
      "891393567012\n"
     ]
    }
   ],
   "source": [
    "#Deine Function namens \"numbers\": \n",
    "\n",
    "lst = [23,213, 234,234, 3323]\n",
    "\n",
    "def numbers(lst):\n",
    "   if len(lst) == 1:\n",
    "        return lst[0]\n",
    "   else:\n",
    "        return lst[0] * numbers(lst[1:])\n",
    "\n",
    "print(numbers([23,213, 234,234, 3323]))\n",
    "\n",
    "\n"
   ]
  },
  {
   "cell_type": "code",
   "execution_count": 78,
   "metadata": {},
   "outputs": [
    {
     "data": {
      "text/plain": [
       "891393567012"
      ]
     },
     "execution_count": 78,
     "metadata": {},
     "output_type": "execute_result"
    }
   ],
   "source": [
    "numbers(lst)"
   ]
  },
  {
   "cell_type": "markdown",
   "metadata": {},
   "source": [
    "4.Schreibe eine Funktion namens \"mirrorstring\", die einen String nimmt, und spiegelt. Also \"hallo\" zu \"ollah\"."
   ]
  },
  {
   "cell_type": "code",
   "execution_count": 83,
   "metadata": {},
   "outputs": [],
   "source": [
    "hallo = 'hallo'"
   ]
  },
  {
   "cell_type": "code",
   "execution_count": 84,
   "metadata": {},
   "outputs": [
    {
     "data": {
      "text/plain": [
       "'dlrow olleh'"
      ]
     },
     "execution_count": 84,
     "metadata": {},
     "output_type": "execute_result"
    }
   ],
   "source": [
    "'hello world'[::-1]"
   ]
  },
  {
   "cell_type": "code",
   "execution_count": null,
   "metadata": {},
   "outputs": [],
   "source": [
    "hallo  =   'hallo'\n",
    "mirrorstring =   hallo[::-1]\n",
    "print (mirrorstring)"
   ]
  },
  {
   "cell_type": "code",
   "execution_count": 113,
   "metadata": {},
   "outputs": [
    {
     "name": "stdout",
     "output_type": "stream",
     "text": [
      "ehceukneppus   Finito. Das funktioniert ja wirklich!!!\n"
     ]
    }
   ],
   "source": [
    "#Deine Function namens mirrotstring\n",
    "\n",
    "hallo = \"hallo\"\n",
    "\n",
    "for char in reversed(\"suppenkueche\"):  \n",
    "    print (char, end = \"\")\n",
    "\n",
    "print (\"   Finito. Das funktioniert ja wirklich!!!\")"
   ]
  },
  {
   "cell_type": "markdown",
   "metadata": {},
   "source": [
    "5.Schreibe eine Funktion names \"isinlist\", die prüft, ob eine Zahl in einer bestimmten Zahlenfolge zu finden ist."
   ]
  },
  {
   "cell_type": "code",
   "execution_count": 114,
   "metadata": {},
   "outputs": [],
   "source": [
    "zahl = 56\n",
    "liste = [45, 34, 64,45]"
   ]
  },
  {
   "cell_type": "code",
   "execution_count": 9,
   "metadata": {},
   "outputs": [
    {
     "name": "stdout",
     "output_type": "stream",
     "text": [
      "nicht enthalten.\n",
      "Finito\n"
     ]
    }
   ],
   "source": [
    "#Deine Function isinlist:\n",
    "zahl = 56\n",
    "liste = [45, 34, 64,45]\n",
    "\n",
    "\n",
    "if zahl in liste:\n",
    "    print(\"Enthalten.\")\n",
    "else:\n",
    "    print (\"nicht enthalten.\")\n",
    "       \n",
    "        \n",
    "print (\"Finito\")"
   ]
  },
  {
   "cell_type": "code",
   "execution_count": 55,
   "metadata": {},
   "outputs": [
    {
     "data": {
      "text/plain": [
       "False"
      ]
     },
     "execution_count": 55,
     "metadata": {},
     "output_type": "execute_result"
    }
   ],
   "source": [
    "isinlist(34, liste)"
   ]
  },
  {
   "cell_type": "code",
   "execution_count": 56,
   "metadata": {
    "collapsed": true
   },
   "outputs": [],
   "source": [
    "zahleliste = [45,57,34,64]"
   ]
  },
  {
   "cell_type": "code",
   "execution_count": 61,
   "metadata": {},
   "outputs": [
    {
     "name": "stdout",
     "output_type": "stream",
     "text": [
      "True\n",
      "False\n",
      "True\n",
      "True\n"
     ]
    }
   ],
   "source": [
    "for elem in zahleliste:\n",
    "    print(isinlist(elem,liste))"
   ]
  },
  {
   "cell_type": "markdown",
   "metadata": {},
   "source": [
    "6.Lösche die mehrfach genannten Elemente aus der folgenden Liste."
   ]
  },
  {
   "cell_type": "code",
   "execution_count": 131,
   "metadata": {},
   "outputs": [],
   "source": [
    "liste = [5,5,5,5,3,2,11,5]"
   ]
  },
  {
   "cell_type": "code",
   "execution_count": 135,
   "metadata": {},
   "outputs": [
    {
     "data": {
      "text/plain": [
       "[11, 2, 3, 5]"
      ]
     },
     "execution_count": 135,
     "metadata": {},
     "output_type": "execute_result"
    }
   ],
   "source": [
    "liste = [5,5,5,5,3,2,11,5]\n",
    "list(set(liste))"
   ]
  },
  {
   "cell_type": "markdown",
   "metadata": {},
   "source": [
    "7.Drucke die geraden Zahlen aus der folgenden Liste aus:"
   ]
  },
  {
   "cell_type": "code",
   "execution_count": 10,
   "metadata": {},
   "outputs": [
    {
     "name": "stdout",
     "output_type": "stream",
     "text": [
      "[34, 22, 78]\n"
     ]
    }
   ],
   "source": [
    "lst = [34,23,22,443,45,78,23,89,23]\n",
    "\n",
    "def geradezahl(l):\n",
    "    enum = []\n",
    "    for n in l:\n",
    "        if n % 2 == 0:\n",
    "            enum.append(n)\n",
    "    return enum\n",
    "print(geradezahl([34,23,22,443,45,78,23,89,23]))"
   ]
  },
  {
   "cell_type": "code",
   "execution_count": null,
   "metadata": {
    "collapsed": true
   },
   "outputs": [],
   "source": []
  },
  {
   "cell_type": "markdown",
   "metadata": {},
   "source": [
    "8.Prüfe mit einer Funktionen, wieviele Grossbuchstaben in folgendem Satz zu finden sind."
   ]
  },
  {
   "cell_type": "code",
   "execution_count": 174,
   "metadata": {},
   "outputs": [],
   "source": [
    "satz = \"In Oesterreich zeichnet sich ein Rechtsrutsch ab. OeVP und FPOe haben stark zugelegt. Gemaess der neusten Hochrechnung ist die Partei von Sebastian Kurz mit 31,6 Prozent der Stimmen Wahlsiegerin, auf Platz zwei folgt die SPÖ (26,9 Prozent) vor der FPOe (26,0 Prozent).\""
   ]
  },
  {
   "cell_type": "code",
   "execution_count": 175,
   "metadata": {},
   "outputs": [],
   "source": [
    "def counting_caps(elem):\n",
    "    num = 0\n",
    "    for char in elem:\n",
    "        if char.isupper():\n",
    "            num += 1\n",
    "    return  num"
   ]
  },
  {
   "cell_type": "code",
   "execution_count": 176,
   "metadata": {},
   "outputs": [
    {
     "data": {
      "text/plain": [
       "26"
      ]
     },
     "execution_count": 176,
     "metadata": {},
     "output_type": "execute_result"
    }
   ],
   "source": [
    "counting_caps(satz)"
   ]
  },
  {
   "cell_type": "markdown",
   "metadata": {},
   "source": [
    "## Wieso gibts hier nur 25 Caps?????"
   ]
  },
  {
   "cell_type": "code",
   "execution_count": 158,
   "metadata": {},
   "outputs": [
    {
     "data": {
      "text/plain": [
       "25"
      ]
     },
     "execution_count": 158,
     "metadata": {},
     "output_type": "execute_result"
    }
   ],
   "source": [
    "import re\n",
    "string = \"In Oesterreich zeichnet sich ein Rechtsrutsch ab. OeVP und FPOe haben stark zugelegt. Gemaess der neusten Hochrechnung ist die Partei von Sebastian Kurz mit 31,6 Prozent der Stimmen Wahlsiegerin, auf Platz zwei folgt die SPÖ (26,9 Prozent) vor der FPOe (26,0 Prozent).\"\n",
    "len(re.findall(r'[A-Z]',string))"
   ]
  },
  {
   "cell_type": "markdown",
   "metadata": {},
   "source": [
    "9.Prüfe mit einer Funktionen, wieviele 'e's in folgendem Satz zu finden sind."
   ]
  },
  {
   "cell_type": "code",
   "execution_count": 163,
   "metadata": {},
   "outputs": [],
   "source": [
    "Satz = \"Wer von einem alten Monopolisten auf einen neuen Anbieter wechselt, kann in der Regel mehrere hundert Euro im Jahr einsparen. Selbst der Wechsel von einem Billigversorger zum nächsten wird mit lukrativen Prämien versüsst, sei es mit dreistelligen Bonuszahlungen schon nach 90 Tagen und noch einmal nach einem Jahr – oder auch mit Geschenken wie Tablets oder Fernsehern.\""
   ]
  },
  {
   "cell_type": "code",
   "execution_count": 165,
   "metadata": {},
   "outputs": [
    {
     "data": {
      "text/plain": [
       "32"
      ]
     },
     "execution_count": 165,
     "metadata": {},
     "output_type": "execute_result"
    }
   ],
   "source": [
    "import re\n",
    "\n",
    "Satz = \"Wer von einem alten Monopolisten auf einen neuen Anbieter wechselt, kann in der Regel mehrere hundert Euro im Jahr einsparen. Selbst der Wechsel von einem Billigversorger zum nächsten wird mit lukrativen Prämien versüsst, sei es mit dreistelligen Bonuszahlungen schon nach 90 Tagen und noch einmal nach einem Jahr – oder auch mit Geschenken wie Tablets oder Fernsehern.\"\n",
    "\n",
    "len(re.findall(r'[e]',string))"
   ]
  },
  {
   "cell_type": "markdown",
   "metadata": {},
   "source": [
    "10.Schreibe eine Funktion, die eine andere Funktion nutzt. "
   ]
  },
  {
   "cell_type": "code",
   "execution_count": 164,
   "metadata": {},
   "outputs": [
    {
     "name": "stdout",
     "output_type": "stream",
     "text": [
      "369\n"
     ]
    }
   ],
   "source": [
    "print(len(Satz))"
   ]
  },
  {
   "cell_type": "code",
   "execution_count": null,
   "metadata": {
    "collapsed": true
   },
   "outputs": [],
   "source": []
  }
 ],
 "metadata": {
  "kernelspec": {
   "display_name": "Python 3",
   "language": "python",
   "name": "python3"
  },
  "language_info": {
   "codemirror_mode": {
    "name": "ipython",
    "version": 3
   },
   "file_extension": ".py",
   "mimetype": "text/x-python",
   "name": "python",
   "nbconvert_exporter": "python",
   "pygments_lexer": "ipython3",
   "version": "3.7.0"
  }
 },
 "nbformat": 4,
 "nbformat_minor": 2
}
