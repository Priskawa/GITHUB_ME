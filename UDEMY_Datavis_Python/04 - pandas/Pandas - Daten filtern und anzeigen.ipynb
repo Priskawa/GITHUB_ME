{
 "cells": [
  {
   "cell_type": "code",
   "execution_count": 1,
   "metadata": {
    "collapsed": false
   },
   "outputs": [],
   "source": [
    "import pandas as pd"
   ]
  },
  {
   "cell_type": "code",
   "execution_count": 2,
   "metadata": {
    "collapsed": true
   },
   "outputs": [],
   "source": [
    "df = pd.read_excel(\"./Firmeneinnahmen.xlsx\")"
   ]
  },
  {
   "cell_type": "code",
   "execution_count": 3,
   "metadata": {
    "collapsed": false
   },
   "outputs": [
    {
     "data": {
      "text/html": [
       "<div>\n",
       "<table border=\"1\" class=\"dataframe\">\n",
       "  <thead>\n",
       "    <tr style=\"text-align: right;\">\n",
       "      <th></th>\n",
       "      <th>Jahr</th>\n",
       "      <th>Einnahmen</th>\n",
       "      <th>Ausgaben</th>\n",
       "      <th>Notiz</th>\n",
       "    </tr>\n",
       "  </thead>\n",
       "  <tbody>\n",
       "    <tr>\n",
       "      <th>0</th>\n",
       "      <td>2011</td>\n",
       "      <td>150000.0</td>\n",
       "      <td>100000.0</td>\n",
       "      <td>Ein gutes Jahr</td>\n",
       "    </tr>\n",
       "    <tr>\n",
       "      <th>1</th>\n",
       "      <td>2012</td>\n",
       "      <td>124000.0</td>\n",
       "      <td>100000.0</td>\n",
       "      <td>Ein gutes Jahr</td>\n",
       "    </tr>\n",
       "    <tr>\n",
       "      <th>2</th>\n",
       "      <td>2013</td>\n",
       "      <td>342000.0</td>\n",
       "      <td>250000.0</td>\n",
       "      <td>Ein gutes Jahr</td>\n",
       "    </tr>\n",
       "    <tr>\n",
       "      <th>3</th>\n",
       "      <td>2014</td>\n",
       "      <td>300000.0</td>\n",
       "      <td>100000.0</td>\n",
       "      <td>Ein gutes Jahr</td>\n",
       "    </tr>\n",
       "    <tr>\n",
       "      <th>4</th>\n",
       "      <td>2015</td>\n",
       "      <td>250000.0</td>\n",
       "      <td>100000.0</td>\n",
       "      <td>Ein schlechtes Jahr</td>\n",
       "    </tr>\n",
       "  </tbody>\n",
       "</table>\n",
       "</div>"
      ],
      "text/plain": [
       "   Jahr  Einnahmen  Ausgaben                Notiz\n",
       "0  2011   150000.0  100000.0       Ein gutes Jahr\n",
       "1  2012   124000.0  100000.0       Ein gutes Jahr\n",
       "2  2013   342000.0  250000.0       Ein gutes Jahr\n",
       "3  2014   300000.0  100000.0       Ein gutes Jahr\n",
       "4  2015   250000.0  100000.0  Ein schlechtes Jahr"
      ]
     },
     "execution_count": 3,
     "metadata": {},
     "output_type": "execute_result"
    }
   ],
   "source": [
    "df.head()"
   ]
  },
  {
   "cell_type": "code",
   "execution_count": 6,
   "metadata": {
    "collapsed": false
   },
   "outputs": [
    {
     "data": {
      "text/plain": [
       "0     150000.0\n",
       "1     124000.0\n",
       "2     342000.0\n",
       "3     300000.0\n",
       "4     250000.0\n",
       "5     275000.0\n",
       "6     300000.0\n",
       "7     250000.0\n",
       "8          NaN\n",
       "9    1991000.0\n",
       "Name: Einnahmen, dtype: float64"
      ]
     },
     "execution_count": 6,
     "metadata": {},
     "output_type": "execute_result"
    }
   ],
   "source": [
    "df[\"Einnahmen\"]"
   ]
  },
  {
   "cell_type": "code",
   "execution_count": 13,
   "metadata": {
    "collapsed": false
   },
   "outputs": [
    {
     "data": {
      "text/plain": [
       "0     True\n",
       "1     True\n",
       "2     True\n",
       "3     True\n",
       "4     True\n",
       "5     True\n",
       "6     True\n",
       "7     True\n",
       "8     True\n",
       "9    False\n",
       "Name: Jahr, dtype: bool"
      ]
     },
     "execution_count": 13,
     "metadata": {},
     "output_type": "execute_result"
    }
   ],
   "source": [
    "df[\"Jahr\"] != \"Gesamt:\""
   ]
  },
  {
   "cell_type": "code",
   "execution_count": 22,
   "metadata": {
    "collapsed": false
   },
   "outputs": [],
   "source": [
    "df2 = df[df[\"Jahr\"] != \"Gesamt:\"]"
   ]
  },
  {
   "cell_type": "code",
   "execution_count": 23,
   "metadata": {
    "collapsed": false
   },
   "outputs": [
    {
     "data": {
      "text/html": [
       "<div>\n",
       "<table border=\"1\" class=\"dataframe\">\n",
       "  <thead>\n",
       "    <tr style=\"text-align: right;\">\n",
       "      <th></th>\n",
       "      <th>Jahr</th>\n",
       "      <th>Einnahmen</th>\n",
       "      <th>Ausgaben</th>\n",
       "      <th>Notiz</th>\n",
       "    </tr>\n",
       "  </thead>\n",
       "  <tbody>\n",
       "    <tr>\n",
       "      <th>0</th>\n",
       "      <td>2011</td>\n",
       "      <td>150000.0</td>\n",
       "      <td>100000.0</td>\n",
       "      <td>Ein gutes Jahr</td>\n",
       "    </tr>\n",
       "    <tr>\n",
       "      <th>1</th>\n",
       "      <td>2012</td>\n",
       "      <td>124000.0</td>\n",
       "      <td>100000.0</td>\n",
       "      <td>Ein gutes Jahr</td>\n",
       "    </tr>\n",
       "    <tr>\n",
       "      <th>2</th>\n",
       "      <td>2013</td>\n",
       "      <td>342000.0</td>\n",
       "      <td>250000.0</td>\n",
       "      <td>Ein gutes Jahr</td>\n",
       "    </tr>\n",
       "    <tr>\n",
       "      <th>3</th>\n",
       "      <td>2014</td>\n",
       "      <td>300000.0</td>\n",
       "      <td>100000.0</td>\n",
       "      <td>Ein gutes Jahr</td>\n",
       "    </tr>\n",
       "    <tr>\n",
       "      <th>4</th>\n",
       "      <td>2015</td>\n",
       "      <td>250000.0</td>\n",
       "      <td>100000.0</td>\n",
       "      <td>Ein schlechtes Jahr</td>\n",
       "    </tr>\n",
       "    <tr>\n",
       "      <th>5</th>\n",
       "      <td>2016</td>\n",
       "      <td>275000.0</td>\n",
       "      <td>150000.0</td>\n",
       "      <td>Was soll das?</td>\n",
       "    </tr>\n",
       "    <tr>\n",
       "      <th>6</th>\n",
       "      <td>2017</td>\n",
       "      <td>300000.0</td>\n",
       "      <td>200000.0</td>\n",
       "      <td>Noch ein Jahr</td>\n",
       "    </tr>\n",
       "    <tr>\n",
       "      <th>7</th>\n",
       "      <td>2018</td>\n",
       "      <td>250000.0</td>\n",
       "      <td>50000.0</td>\n",
       "      <td>Das Jahr 2018!</td>\n",
       "    </tr>\n",
       "    <tr>\n",
       "      <th>8</th>\n",
       "      <td>NaN</td>\n",
       "      <td>NaN</td>\n",
       "      <td>NaN</td>\n",
       "      <td>NaN</td>\n",
       "    </tr>\n",
       "  </tbody>\n",
       "</table>\n",
       "</div>"
      ],
      "text/plain": [
       "   Jahr  Einnahmen  Ausgaben                Notiz\n",
       "0  2011   150000.0  100000.0       Ein gutes Jahr\n",
       "1  2012   124000.0  100000.0       Ein gutes Jahr\n",
       "2  2013   342000.0  250000.0       Ein gutes Jahr\n",
       "3  2014   300000.0  100000.0       Ein gutes Jahr\n",
       "4  2015   250000.0  100000.0  Ein schlechtes Jahr\n",
       "5  2016   275000.0  150000.0        Was soll das?\n",
       "6  2017   300000.0  200000.0        Noch ein Jahr\n",
       "7  2018   250000.0   50000.0       Das Jahr 2018!\n",
       "8   NaN        NaN       NaN                  NaN"
      ]
     },
     "execution_count": 23,
     "metadata": {},
     "output_type": "execute_result"
    }
   ],
   "source": [
    "df2"
   ]
  },
  {
   "cell_type": "code",
   "execution_count": 25,
   "metadata": {
    "collapsed": false
   },
   "outputs": [
    {
     "data": {
      "text/html": [
       "<div>\n",
       "<table border=\"1\" class=\"dataframe\">\n",
       "  <thead>\n",
       "    <tr style=\"text-align: right;\">\n",
       "      <th></th>\n",
       "      <th>Jahr</th>\n",
       "      <th>Einnahmen</th>\n",
       "      <th>Ausgaben</th>\n",
       "      <th>Notiz</th>\n",
       "    </tr>\n",
       "  </thead>\n",
       "  <tbody>\n",
       "    <tr>\n",
       "      <th>0</th>\n",
       "      <td>2011</td>\n",
       "      <td>150000.0</td>\n",
       "      <td>100000.0</td>\n",
       "      <td>Ein gutes Jahr</td>\n",
       "    </tr>\n",
       "    <tr>\n",
       "      <th>1</th>\n",
       "      <td>2012</td>\n",
       "      <td>124000.0</td>\n",
       "      <td>100000.0</td>\n",
       "      <td>Ein gutes Jahr</td>\n",
       "    </tr>\n",
       "    <tr>\n",
       "      <th>2</th>\n",
       "      <td>2013</td>\n",
       "      <td>342000.0</td>\n",
       "      <td>250000.0</td>\n",
       "      <td>Ein gutes Jahr</td>\n",
       "    </tr>\n",
       "    <tr>\n",
       "      <th>3</th>\n",
       "      <td>2014</td>\n",
       "      <td>300000.0</td>\n",
       "      <td>100000.0</td>\n",
       "      <td>Ein gutes Jahr</td>\n",
       "    </tr>\n",
       "    <tr>\n",
       "      <th>4</th>\n",
       "      <td>2015</td>\n",
       "      <td>250000.0</td>\n",
       "      <td>100000.0</td>\n",
       "      <td>Ein schlechtes Jahr</td>\n",
       "    </tr>\n",
       "    <tr>\n",
       "      <th>5</th>\n",
       "      <td>2016</td>\n",
       "      <td>275000.0</td>\n",
       "      <td>150000.0</td>\n",
       "      <td>Was soll das?</td>\n",
       "    </tr>\n",
       "    <tr>\n",
       "      <th>6</th>\n",
       "      <td>2017</td>\n",
       "      <td>300000.0</td>\n",
       "      <td>200000.0</td>\n",
       "      <td>Noch ein Jahr</td>\n",
       "    </tr>\n",
       "    <tr>\n",
       "      <th>7</th>\n",
       "      <td>2018</td>\n",
       "      <td>250000.0</td>\n",
       "      <td>50000.0</td>\n",
       "      <td>Das Jahr 2018!</td>\n",
       "    </tr>\n",
       "  </tbody>\n",
       "</table>\n",
       "</div>"
      ],
      "text/plain": [
       "   Jahr  Einnahmen  Ausgaben                Notiz\n",
       "0  2011   150000.0  100000.0       Ein gutes Jahr\n",
       "1  2012   124000.0  100000.0       Ein gutes Jahr\n",
       "2  2013   342000.0  250000.0       Ein gutes Jahr\n",
       "3  2014   300000.0  100000.0       Ein gutes Jahr\n",
       "4  2015   250000.0  100000.0  Ein schlechtes Jahr\n",
       "5  2016   275000.0  150000.0        Was soll das?\n",
       "6  2017   300000.0  200000.0        Noch ein Jahr\n",
       "7  2018   250000.0   50000.0       Das Jahr 2018!"
      ]
     },
     "execution_count": 25,
     "metadata": {},
     "output_type": "execute_result"
    }
   ],
   "source": [
    "df2.drop(8)"
   ]
  },
  {
   "cell_type": "code",
   "execution_count": 27,
   "metadata": {
    "collapsed": false
   },
   "outputs": [],
   "source": [
    "df3 = df2[df2[\"Jahr\"].notnull()]"
   ]
  },
  {
   "cell_type": "code",
   "execution_count": 28,
   "metadata": {
    "collapsed": false
   },
   "outputs": [
    {
     "data": {
      "text/plain": [
       "0    2011\n",
       "1    2012\n",
       "2    2013\n",
       "3    2014\n",
       "4    2015\n",
       "5    2016\n",
       "6    2017\n",
       "7    2018\n",
       "Name: Jahr, dtype: object"
      ]
     },
     "execution_count": 28,
     "metadata": {},
     "output_type": "execute_result"
    }
   ],
   "source": [
    "df3[\"Jahr\"]"
   ]
  },
  {
   "cell_type": "code",
   "execution_count": 34,
   "metadata": {
    "collapsed": false
   },
   "outputs": [
    {
     "name": "stdout",
     "output_type": "stream",
     "text": [
      "0    150000.0\n",
      "1    124000.0\n",
      "2    342000.0\n",
      "3    300000.0\n",
      "4    250000.0\n",
      "5    275000.0\n",
      "6    300000.0\n",
      "7    250000.0\n",
      "Name: Einnahmen, dtype: float64\n",
      "[1, 2, 3, 4]\n"
     ]
    }
   ],
   "source": [
    "df3[\"Einnahmen\"]"
   ]
  },
  {
   "cell_type": "code",
   "execution_count": 38,
   "metadata": {
    "collapsed": false
   },
   "outputs": [
    {
     "data": {
      "image/png": "[encoded data removed]",
      "text/plain": [
       "<matplotlib.figure.Figure at 0x126e5b358>"
      ]
     },
     "metadata": {},
     "output_type": "display_data"
    }
   ],
   "source": [
    "%matplotlib inline\n",
    "\n",
    "import matplotlib.pyplot as plt\n",
    "import seaborn as sns\n",
    "\n",
    "fig, ax = plt.subplots()\n",
    "\n",
    "fig.dpi = 80\n",
    "\n",
    "ax.plot(df3[\"Jahr\"], df3[\"Einnahmen\"])\n",
    "ax.plot(df3[\"Jahr\"], df3[\"Ausgaben\"])\n",
    "\n",
    "ax.legend()\n",
    "\n",
    "plt.show()"
   ]
  },
  {
   "cell_type": "code",
   "execution_count": null,
   "metadata": {
    "collapsed": true
   },
   "outputs": [],
   "source": []
  }
 ],
 "metadata": {
  "kernelspec": {
   "display_name": "Python 3",
   "language": "python",
   "name": "python3"
  },
  "language_info": {
   "codemirror_mode": {
    "name": "ipython",
    "version": 3
   },
   "file_extension": ".py",
   "mimetype": "text/x-python",
   "name": "python",
   "nbconvert_exporter": "python",
   "pygments_lexer": "ipython3",
   "version": "3.6.0"
  }
 },
 "nbformat": 4,
 "nbformat_minor": 2
}
