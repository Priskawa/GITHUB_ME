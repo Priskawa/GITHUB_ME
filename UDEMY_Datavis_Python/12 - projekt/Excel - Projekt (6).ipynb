{
 "cells": [
  {
   "cell_type": "markdown",
   "metadata": {},
   "source": [
    "## Schritt 1: Alle Excel-Dateien in Ordner öffnen"
   ]
  },
  {
   "cell_type": "code",
   "execution_count": 7,
   "metadata": {
    "collapsed": true
   },
   "outputs": [],
   "source": [
    "import os\n",
    "import pandas as pd"
   ]
  },
  {
   "cell_type": "code",
   "execution_count": 8,
   "metadata": {
    "collapsed": true
   },
   "outputs": [],
   "source": [
    "files = os.listdir(\"../data/excel-projekt\")\n",
    "excel_files = [file for file in files if file[-5:] == \".xlsx\"]"
   ]
  },
  {
   "cell_type": "code",
   "execution_count": 9,
   "metadata": {
    "collapsed": false
   },
   "outputs": [],
   "source": [
    "dfs = {}\n",
    "\n",
    "for file in excel_files:\n",
    "    dfs[file] = pd.read_excel(\"../data/excel-projekt/\" + file)"
   ]
  },
  {
   "cell_type": "code",
   "execution_count": 10,
   "metadata": {
    "collapsed": false
   },
   "outputs": [
    {
     "data": {
      "text/html": [
       "<div>\n",
       "<table border=\"1\" class=\"dataframe\">\n",
       "  <thead>\n",
       "    <tr style=\"text-align: right;\">\n",
       "      <th></th>\n",
       "      <th>Datum</th>\n",
       "      <th>Anzahl an Anrufen</th>\n",
       "      <th>Anzahl an Verkäufen</th>\n",
       "    </tr>\n",
       "  </thead>\n",
       "  <tbody>\n",
       "    <tr>\n",
       "      <th>0</th>\n",
       "      <td>2018-04-05</td>\n",
       "      <td>40</td>\n",
       "      <td>15</td>\n",
       "    </tr>\n",
       "    <tr>\n",
       "      <th>1</th>\n",
       "      <td>2018-04-06</td>\n",
       "      <td>49</td>\n",
       "      <td>14</td>\n",
       "    </tr>\n",
       "    <tr>\n",
       "      <th>2</th>\n",
       "      <td>2018-04-09</td>\n",
       "      <td>38</td>\n",
       "      <td>17</td>\n",
       "    </tr>\n",
       "    <tr>\n",
       "      <th>3</th>\n",
       "      <td>2018-04-10</td>\n",
       "      <td>49</td>\n",
       "      <td>10</td>\n",
       "    </tr>\n",
       "    <tr>\n",
       "      <th>4</th>\n",
       "      <td>2018-04-12</td>\n",
       "      <td>40</td>\n",
       "      <td>15</td>\n",
       "    </tr>\n",
       "    <tr>\n",
       "      <th>5</th>\n",
       "      <td>2018-04-13</td>\n",
       "      <td>60</td>\n",
       "      <td>30</td>\n",
       "    </tr>\n",
       "  </tbody>\n",
       "</table>\n",
       "</div>"
      ],
      "text/plain": [
       "       Datum  Anzahl an Anrufen  Anzahl an Verkäufen\n",
       "0 2018-04-05                 40                   15\n",
       "1 2018-04-06                 49                   14\n",
       "2 2018-04-09                 38                   17\n",
       "3 2018-04-10                 49                   10\n",
       "4 2018-04-12                 40                   15\n",
       "5 2018-04-13                 60                   30"
      ]
     },
     "execution_count": 10,
     "metadata": {},
     "output_type": "execute_result"
    }
   ],
   "source": [
    "dfs[\"Marie.xlsx\"]"
   ]
  },
  {
   "cell_type": "code",
   "execution_count": 11,
   "metadata": {
    "collapsed": false
   },
   "outputs": [
    {
     "data": {
      "text/html": [
       "<div>\n",
       "<table border=\"1\" class=\"dataframe\">\n",
       "  <thead>\n",
       "    <tr style=\"text-align: right;\">\n",
       "      <th></th>\n",
       "      <th>Datum</th>\n",
       "      <th>Anzahl an Anrufen</th>\n",
       "      <th>Anzahl an Verkäufen</th>\n",
       "    </tr>\n",
       "  </thead>\n",
       "  <tbody>\n",
       "    <tr>\n",
       "      <th>0</th>\n",
       "      <td>2018-04-05</td>\n",
       "      <td>41</td>\n",
       "      <td>15</td>\n",
       "    </tr>\n",
       "    <tr>\n",
       "      <th>1</th>\n",
       "      <td>2018-04-06</td>\n",
       "      <td>49</td>\n",
       "      <td>14</td>\n",
       "    </tr>\n",
       "    <tr>\n",
       "      <th>2</th>\n",
       "      <td>2018-04-09</td>\n",
       "      <td>42</td>\n",
       "      <td>18</td>\n",
       "    </tr>\n",
       "    <tr>\n",
       "      <th>3</th>\n",
       "      <td>2018-04-10</td>\n",
       "      <td>38</td>\n",
       "      <td>13</td>\n",
       "    </tr>\n",
       "    <tr>\n",
       "      <th>4</th>\n",
       "      <td>2018-04-11</td>\n",
       "      <td>55</td>\n",
       "      <td>12</td>\n",
       "    </tr>\n",
       "    <tr>\n",
       "      <th>5</th>\n",
       "      <td>2018-04-12</td>\n",
       "      <td>49</td>\n",
       "      <td>12</td>\n",
       "    </tr>\n",
       "    <tr>\n",
       "      <th>6</th>\n",
       "      <td>2018-04-13</td>\n",
       "      <td>45</td>\n",
       "      <td>14</td>\n",
       "    </tr>\n",
       "  </tbody>\n",
       "</table>\n",
       "</div>"
      ],
      "text/plain": [
       "       Datum  Anzahl an Anrufen  Anzahl an Verkäufen\n",
       "0 2018-04-05                 41                   15\n",
       "1 2018-04-06                 49                   14\n",
       "2 2018-04-09                 42                   18\n",
       "3 2018-04-10                 38                   13\n",
       "4 2018-04-11                 55                   12\n",
       "5 2018-04-12                 49                   12\n",
       "6 2018-04-13                 45                   14"
      ]
     },
     "execution_count": 11,
     "metadata": {},
     "output_type": "execute_result"
    }
   ],
   "source": [
    "dfs[\"Tobias.xlsx\"]"
   ]
  },
  {
   "cell_type": "markdown",
   "metadata": {},
   "source": [
    "### Schritt 2: Alle Dateien in ein gemeinsames Dictionary zusammenführen"
   ]
  },
  {
   "cell_type": "code",
   "execution_count": 12,
   "metadata": {
    "collapsed": true
   },
   "outputs": [],
   "source": [
    "d = {}"
   ]
  },
  {
   "cell_type": "code",
   "execution_count": 13,
   "metadata": {
    "collapsed": true
   },
   "outputs": [],
   "source": [
    "df = dfs[\"Tobias.xlsx\"]"
   ]
  },
  {
   "cell_type": "code",
   "execution_count": 14,
   "metadata": {
    "collapsed": false
   },
   "outputs": [
    {
     "name": "stdout",
     "output_type": "stream",
     "text": [
      "{datetime.date(2018, 4, 5): {'Tobias.xlsx': {'calls': 41, 'sales': 15}}, datetime.date(2018, 4, 6): {'Tobias.xlsx': {'calls': 49, 'sales': 14}}, datetime.date(2018, 4, 9): {'Tobias.xlsx': {'calls': 42, 'sales': 18}}, datetime.date(2018, 4, 10): {'Tobias.xlsx': {'calls': 38, 'sales': 13}}, datetime.date(2018, 4, 11): {'Tobias.xlsx': {'calls': 55, 'sales': 12}}, datetime.date(2018, 4, 12): {'Tobias.xlsx': {'calls': 49, 'sales': 12}}, datetime.date(2018, 4, 13): {'Tobias.xlsx': {'calls': 45, 'sales': 14}}}\n"
     ]
    }
   ],
   "source": [
    "for index, row in df.iterrows():\n",
    "    date_col = row[\"Datum\"].date()\n",
    "    d[date_col] = {}\n",
    "    d[date_col][\"Tobias.xlsx\"] = {\n",
    "        \"calls\": row[\"Anzahl an Anrufen\"],\n",
    "        \"sales\": row[\"Anzahl an Verkäufen\"]\n",
    "    }\n",
    "    \n",
    "print(d)"
   ]
  },
  {
   "cell_type": "code",
   "execution_count": 15,
   "metadata": {
    "collapsed": false
   },
   "outputs": [
    {
     "name": "stdout",
     "output_type": "stream",
     "text": [
      "{datetime.date(2018, 4, 5): {'Eva.xlsx': {'calls': 49, 'sales': 12}, 'Jan.xlsx': {'calls': 40, 'sales': 10}, 'Marie.xlsx': {'calls': 40, 'sales': 15}, 'Tobias.xlsx': {'calls': 41, 'sales': 15}}, datetime.date(2018, 4, 6): {'Eva.xlsx': {'calls': 48, 'sales': 14}, 'Jan.xlsx': {'calls': 43, 'sales': 15}, 'Marie.xlsx': {'calls': 49, 'sales': 14}, 'Tobias.xlsx': {'calls': 49, 'sales': 14}}, datetime.date(2018, 4, 9): {'Eva.xlsx': {'calls': 43, 'sales': 15}, 'Jan.xlsx': {'calls': 33, 'sales': 12}, 'Marie.xlsx': {'calls': 38, 'sales': 17}, 'Tobias.xlsx': {'calls': 42, 'sales': 18}}, datetime.date(2018, 4, 10): {'Eva.xlsx': {'calls': 47, 'sales': 18}, 'Jan.xlsx': {'calls': 43, 'sales': 10}, 'Marie.xlsx': {'calls': 49, 'sales': 10}, 'Tobias.xlsx': {'calls': 38, 'sales': 13}}, datetime.date(2018, 4, 11): {'Eva.xlsx': {'calls': 48, 'sales': 30}, 'Jan.xlsx': {'calls': 23, 'sales': 20}, 'Tobias.xlsx': {'calls': 55, 'sales': 12}}, datetime.date(2018, 4, 12): {'Eva.xlsx': {'calls': 59, 'sales': 15}, 'Jan.xlsx': {'calls': 44, 'sales': 12}, 'Marie.xlsx': {'calls': 40, 'sales': 15}, 'Tobias.xlsx': {'calls': 49, 'sales': 12}}, datetime.date(2018, 4, 13): {'Eva.xlsx': {'calls': 49, 'sales': 19}, 'Jan.xlsx': {'calls': 56, 'sales': 20}, 'Marie.xlsx': {'calls': 60, 'sales': 30}, 'Tobias.xlsx': {'calls': 45, 'sales': 14}}}\n"
     ]
    }
   ],
   "source": [
    "from datetime import date\n",
    "\n",
    "d = {}\n",
    "for filename, df in dfs.items():\n",
    "    for index, row in df.iterrows():\n",
    "        date_col = row[\"Datum\"].date()\n",
    "        if not date_col in d:\n",
    "            d[date_col] = {}\n",
    "        \n",
    "        d[date_col][filename] = {\n",
    "            \"calls\": row[\"Anzahl an Anrufen\"],\n",
    "            \"sales\": row[\"Anzahl an Verkäufen\"]\n",
    "        }\n",
    "    #print(d[date(year=2018, month=4, day=5)])\n",
    "    \n",
    "print(d)"
   ]
  },
  {
   "cell_type": "code",
   "execution_count": null,
   "metadata": {
    "collapsed": false
   },
   "outputs": [],
   "source": []
  },
  {
   "cell_type": "code",
   "execution_count": 16,
   "metadata": {
    "collapsed": false
   },
   "outputs": [
    {
     "data": {
      "image/png": "[encoded data removed]",
      "text/plain": [
       "<matplotlib.figure.Figure at 0x10c82b780>"
      ]
     },
     "metadata": {},
     "output_type": "display_data"
    }
   ],
   "source": [
    "%matplotlib inline\n",
    "\n",
    "import matplotlib.pyplot as plt\n",
    "import seaborn as sns\n",
    "\n",
    "fig, ax = plt.subplots()\n",
    "fig.dpi = 90\n",
    "\n",
    "x = [excel_date for excel_date, values in sorted(d.items())]\n",
    "#x = []\n",
    "#for excel_date, values in sorted(d.items()):\n",
    "#    x.append(excel_date)\n",
    "\n",
    "filenames = [\"Tobias.xlsx\", \"Marie.xlsx\"]\n",
    "for filename in filenames:\n",
    "    y = []\n",
    "    for excel_date, values in sorted(d.items()):\n",
    "        calls = 0\n",
    "        if filename in values:\n",
    "            calls = values[filename]['calls']\n",
    "        y.append(calls)\n",
    "\n",
    "    ax.plot(x, y, label=filename)\n",
    "\n",
    "ax.legend()\n",
    "ax.set_xticks(x)\n",
    "ax.set_xticklabels(x, rotation=45)\n",
    "\n",
    "plt.show()"
   ]
  },
  {
   "cell_type": "code",
   "execution_count": 26,
   "metadata": {
    "collapsed": false
   },
   "outputs": [
    {
     "data": {
      "image/png": "[encoded data removed]",
      "text/plain": [
       "<matplotlib.figure.Figure at 0x1126b7f98>"
      ]
     },
     "metadata": {},
     "output_type": "display_data"
    }
   ],
   "source": [
    "%matplotlib inline\n",
    "\n",
    "import matplotlib.pyplot as plt\n",
    "import seaborn as sns\n",
    "\n",
    "import ipywidgets as widgets\n",
    "from IPython.display import display, clear_output\n",
    "\n",
    "cbs = {}\n",
    "for filename, df in dfs.items():\n",
    "    cb = widgets.Checkbox(\n",
    "        value=True,\n",
    "        description=filename[:-5]\n",
    "    )\n",
    "    cbs[filename] = cb\n",
    "\n",
    "    display(cb)\n",
    "    \n",
    "type_selector = widgets.RadioButtons(\n",
    "    options={\n",
    "        \"Anruf-Statistiken\": \"calls\",\n",
    "        \"Verkaufs-Statistiken\": \"sales\"\n",
    "    },\n",
    "    value=\"calls\",\n",
    "    description=\"Typ\"\n",
    ")\n",
    "display(type_selector)\n",
    "    \n",
    "button = widgets.Button(description=\"Aktualisieren\")\n",
    "display(button)\n",
    "\n",
    "def run_plot(filenames, t):\n",
    "    fig, ax = plt.subplots()\n",
    "    fig.dpi = 90\n",
    "\n",
    "    x = [excel_date for excel_date, values in sorted(d.items())]\n",
    "\n",
    "    for filename in filenames:\n",
    "        y = []\n",
    "        for excel_date, values in sorted(d.items()):\n",
    "            calls = 0\n",
    "            if filename in values:\n",
    "                calls = values[filename][t]\n",
    "            y.append(calls)\n",
    "\n",
    "        ax.plot(x, y, label=filename[:-5])\n",
    "\n",
    "    ax.legend()\n",
    "    ax.set_xticks(x)\n",
    "    ax.set_xticklabels(x, rotation=45)\n",
    "\n",
    "    plt.show()\n",
    "    \n",
    "\n",
    "\n",
    "def on_button_click(s):\n",
    "    clear_output()\n",
    "        \n",
    "    filenames = []\n",
    "    for filename, df in dfs.items():\n",
    "        if cbs[filename].value:\n",
    "            filenames.append(filename)\n",
    "    \n",
    "    run_plot(filenames, type_selector.value)\n",
    "    \n",
    "button.on_click(on_button_click)\n",
    "#\n",
    "\n",
    "\n",
    "\n",
    "\n",
    "\n",
    "\n",
    "\n",
    "\n",
    "\n",
    "\n",
    "\n",
    "\n",
    "#"
   ]
  },
  {
   "cell_type": "code",
   "execution_count": null,
   "metadata": {
    "collapsed": false
   },
   "outputs": [],
   "source": []
  },
  {
   "cell_type": "code",
   "execution_count": null,
   "metadata": {
    "collapsed": true
   },
   "outputs": [],
   "source": []
  }
 ],
 "metadata": {
  "kernelspec": {
   "display_name": "Python 3",
   "language": "python",
   "name": "python3"
  },
  "language_info": {
   "codemirror_mode": {
    "name": "ipython",
    "version": 3
   },
   "file_extension": ".py",
   "mimetype": "text/x-python",
   "name": "python",
   "nbconvert_exporter": "python",
   "pygments_lexer": "ipython3",
   "version": "3.6.0"
  },
  "widgets": {
   "state": {
    "06ab31e181a248c5aa90da130efef38a": {
     "views": [
      {
       "cell_index": 13
      }
     ]
    },
    "1246d0481d8d4ef68dfc4632327a0fab": {
     "views": [
      {
       "cell_index": 13
      }
     ]
    },
    "1917384ce049476f9fcd6880650813ee": {
     "views": [
      {
       "cell_index": 13
      }
     ]
    },
    "1fdc3aba1d4b47f9984a419b55226397": {
     "views": [
      {
       "cell_index": 13
      }
     ]
    },
    "2804af6d8fc64d84820431b1cb0c896f": {
     "views": [
      {
       "cell_index": 13
      }
     ]
    },
    "292ea5c1f45b4f6f821d077a10420164": {
     "views": [
      {
       "cell_index": 13
      }
     ]
    },
    "408a83a3b62749bb88c7359079e0fbe3": {
     "views": [
      {
       "cell_index": 13
      }
     ]
    },
    "52c0e5178ccc458aa375dda7c30202b2": {
     "views": [
      {
       "cell_index": 13
      }
     ]
    },
    "57eec753f2f54fa883e5ee7e72dd168f": {
     "views": [
      {
       "cell_index": 13
      }
     ]
    },
    "581dc9985da948c0bc764fc82d0505e3": {
     "views": [
      {
       "cell_index": 13
      }
     ]
    },
    "62d04b108e324a868507fa0641948a5d": {
     "views": [
      {
       "cell_index": 13
      }
     ]
    },
    "6837b9887dd94dfdaea8c0ddc435bc2d": {
     "views": [
      {
       "cell_index": 13
      }
     ]
    },
    "7120e4082a9843af9e9d4b25a1ac8954": {
     "views": [
      {
       "cell_index": 13
      }
     ]
    },
    "718cc05d9633465681d31e0e4af9076e": {
     "views": [
      {
       "cell_index": 13
      }
     ]
    },
    "8fb118754b2e4ae2a6ede42dc9590e51": {
     "views": [
      {
       "cell_index": 13
      }
     ]
    },
    "996e28db94d8476cbf5107d118921582": {
     "views": [
      {
       "cell_index": 13
      }
     ]
    },
    "9a1dd117ab13485f806afcc6bfbc67ff": {
     "views": [
      {
       "cell_index": 13
      }
     ]
    },
    "9b3744754f4c4ce1bdac57584d0ad8e6": {
     "views": [
      {
       "cell_index": 13
      }
     ]
    },
    "a467529a47604fe0a8c5d3c0158da820": {
     "views": [
      {
       "cell_index": 13
      }
     ]
    },
    "a51b454654494252ab5cb090739abb84": {
     "views": [
      {
       "cell_index": 13
      }
     ]
    },
    "aacb4262caa84347a0c1072f6b3b4d77": {
     "views": [
      {
       "cell_index": 13
      }
     ]
    },
    "acc61c9ac47d4bd8bea45c1c0ad350f8": {
     "views": [
      {
       "cell_index": 13
      }
     ]
    },
    "b08be2c5183547ea8a867f39b6cbebfc": {
     "views": [
      {
       "cell_index": 13
      }
     ]
    },
    "b863477aeb944081992d4148d63ac1bd": {
     "views": [
      {
       "cell_index": 13
      }
     ]
    },
    "dbc4777bda4d4cf28c39004e17c2ce72": {
     "views": [
      {
       "cell_index": 13
      }
     ]
    },
    "dc2b5e2a31c5494382922981897a3a4c": {
     "views": [
      {
       "cell_index": 13
      }
     ]
    },
    "dff2ad03b6dd4e5fa538c5848972fb69": {
     "views": [
      {
       "cell_index": 13
      }
     ]
    },
    "ea5213cbdfc0491b950397e3211b698f": {
     "views": [
      {
       "cell_index": 13
      }
     ]
    },
    "f59cd3697f8a4b7caa8f4e2bacc95417": {
     "views": [
      {
       "cell_index": 13
      }
     ]
    }
   },
   "version": "1.2.0"
  }
 },
 "nbformat": 4,
 "nbformat_minor": 2
}
