{
 "cells": [
  {
   "cell_type": "markdown",
   "metadata": {},
   "source": [
    "## Ein Dictionary ist eine Zuordnung von einem Schlüssel zu einem Wert"
   ]
  },
  {
   "cell_type": "code",
   "execution_count": 1,
   "metadata": {
    "collapsed": true
   },
   "outputs": [],
   "source": [
    "d = {\"Paris\": 100000}"
   ]
  },
  {
   "cell_type": "code",
   "execution_count": 2,
   "metadata": {
    "collapsed": false
   },
   "outputs": [
    {
     "data": {
      "text/plain": [
       "100000"
      ]
     },
     "execution_count": 2,
     "metadata": {},
     "output_type": "execute_result"
    }
   ],
   "source": [
    "d[\"Paris\"]"
   ]
  },
  {
   "cell_type": "markdown",
   "metadata": {},
   "source": [
    "### Diese Zuordnung funktioniert aber auch, wenn der Schlüssel ein Datumsobjekt ist!"
   ]
  },
  {
   "cell_type": "code",
   "execution_count": 3,
   "metadata": {
    "collapsed": true
   },
   "outputs": [],
   "source": [
    "from datetime import date"
   ]
  },
  {
   "cell_type": "code",
   "execution_count": 4,
   "metadata": {
    "collapsed": false
   },
   "outputs": [
    {
     "data": {
      "text/plain": [
       "datetime.date(2017, 8, 20)"
      ]
     },
     "execution_count": 4,
     "metadata": {},
     "output_type": "execute_result"
    }
   ],
   "source": [
    "date(year=2017, month=8, day=20)"
   ]
  },
  {
   "cell_type": "code",
   "execution_count": 5,
   "metadata": {
    "collapsed": true
   },
   "outputs": [],
   "source": [
    "d = {\n",
    "    date(year=2017, month=8, day=20): \"Nationalfeiertag in Ungarn\"\n",
    "}"
   ]
  },
  {
   "cell_type": "code",
   "execution_count": 6,
   "metadata": {
    "collapsed": false
   },
   "outputs": [
    {
     "name": "stdout",
     "output_type": "stream",
     "text": [
      "{datetime.date(2017, 8, 20): 'Nationalfeiertag in Ungarn'}\n"
     ]
    }
   ],
   "source": [
    "print(d)"
   ]
  },
  {
   "cell_type": "code",
   "execution_count": 7,
   "metadata": {
    "collapsed": false
   },
   "outputs": [
    {
     "data": {
      "text/plain": [
       "'Nationalfeiertag in Ungarn'"
      ]
     },
     "execution_count": 7,
     "metadata": {},
     "output_type": "execute_result"
    }
   ],
   "source": [
    "d[date(year=2017, month=8, day=20)]"
   ]
  },
  {
   "cell_type": "markdown",
   "metadata": {},
   "source": [
    "### Problem: Nach Schlüssel sortieren"
   ]
  },
  {
   "cell_type": "code",
   "execution_count": 10,
   "metadata": {
    "collapsed": true
   },
   "outputs": [],
   "source": [
    "p = {}\n",
    "p[date(year=2017, month=8, day=20)] = \"Nationalfeiertag in Ungarn\"\n",
    "p[date(year=2017, month=4, day=1)] = \"Das ist der erste April\"\n",
    "p[date(year=2018, month=1, day=1)] = \"Neujahr\""
   ]
  },
  {
   "cell_type": "code",
   "execution_count": 11,
   "metadata": {
    "collapsed": false
   },
   "outputs": [
    {
     "name": "stdout",
     "output_type": "stream",
     "text": [
      "{datetime.date(2017, 8, 20): 'Nationalfeiertag in Ungarn', datetime.date(2017, 4, 1): 'Das ist der erste April', datetime.date(2018, 1, 1): 'Neujahr'}\n"
     ]
    }
   ],
   "source": [
    "print(p)"
   ]
  },
  {
   "cell_type": "code",
   "execution_count": 15,
   "metadata": {
    "collapsed": false
   },
   "outputs": [
    {
     "name": "stdout",
     "output_type": "stream",
     "text": [
      "dict_items([(datetime.date(2017, 8, 20), 'Nationalfeiertag in Ungarn'), (datetime.date(2017, 4, 1), 'Das ist der erste April'), (datetime.date(2018, 1, 1), 'Neujahr')])\n",
      "[(datetime.date(2017, 4, 1), 'Das ist der erste April'), (datetime.date(2017, 8, 20), 'Nationalfeiertag in Ungarn'), (datetime.date(2018, 1, 1), 'Neujahr')]\n"
     ]
    }
   ],
   "source": [
    "print(p.items())\n",
    "print(sorted(p.items()))"
   ]
  },
  {
   "cell_type": "code",
   "execution_count": 17,
   "metadata": {
    "collapsed": false
   },
   "outputs": [
    {
     "name": "stdout",
     "output_type": "stream",
     "text": [
      "Das ist der erste April\n",
      "Nationalfeiertag in Ungarn\n",
      "Neujahr\n"
     ]
    }
   ],
   "source": [
    "for key, value in sorted(p.items()):\n",
    "    print(value)"
   ]
  },
  {
   "cell_type": "markdown",
   "metadata": {},
   "source": [
    "### Verschachtelte Dictionaries"
   ]
  },
  {
   "cell_type": "code",
   "execution_count": 19,
   "metadata": {
    "collapsed": true
   },
   "outputs": [],
   "source": [
    "hungary = {\n",
    "    date(year=2017, month=5, day=1): \"Tag der Arbeit (Ungarn)\",\n",
    "    date(year=2017, month=8, day=20): \"Nationalfeiertag (Ungarn)\"\n",
    "}\n",
    "germany = {\n",
    "    date(year=2017, month=5, day=1): \"Tag der Arbeit (Deutschland)\",\n",
    "    date(year=2017, month=10, day=3): \"Tag der Deutschen Einheit (Deutschland)\"\n",
    "}"
   ]
  },
  {
   "cell_type": "code",
   "execution_count": 20,
   "metadata": {
    "collapsed": true
   },
   "outputs": [],
   "source": [
    "# 1.5.2017: \n",
    "#   - Tag der Arbeit (Ungarn)\n",
    "#   - Tag der Arbeit (Deutschland)\n",
    "# 20.8.2017:\n",
    "#   - Nationalfeiertag (Ungarn)\n",
    "# 3.10.2017:\n",
    "#   - Tag der Deutschen Einheit (Deutschland)"
   ]
  },
  {
   "cell_type": "code",
   "execution_count": 31,
   "metadata": {
    "collapsed": false
   },
   "outputs": [
    {
     "name": "stdout",
     "output_type": "stream",
     "text": [
      "{datetime.date(2017, 5, 1): {'hungary': 'Tag der Arbeit (Ungarn)', 'germany': 'Tag der Arbeit (Deutschland)'}, datetime.date(2017, 8, 20): {'hungary': 'Nationalfeiertag (Ungarn)'}, datetime.date(2017, 10, 3): {'germany': 'Tag der Deutschen Einheit (Deutschland)'}}\n"
     ]
    }
   ],
   "source": [
    "result = {}\n",
    "for key, value in hungary.items(): \n",
    "    result[key] = {}\n",
    "    result[key][\"hungary\"] = value\n",
    "    \n",
    "for key, value in germany.items():\n",
    "    if not key in result:\n",
    "        result[key] = {}\n",
    "    result[key][\"germany\"] = value\n",
    "    \n",
    "print(result)"
   ]
  },
  {
   "cell_type": "code",
   "execution_count": 38,
   "metadata": {
    "collapsed": false,
    "scrolled": true
   },
   "outputs": [
    {
     "name": "stdout",
     "output_type": "stream",
     "text": [
      "01.05.2017:\n",
      "  - Tag der Arbeit (Ungarn)\n",
      "  - Tag der Arbeit (Deutschland)\n",
      "20.08.2017:\n",
      "  - Nationalfeiertag (Ungarn)\n",
      "03.10.2017:\n",
      "  - Tag der Deutschen Einheit (Deutschland)\n"
     ]
    }
   ],
   "source": [
    "for key, value in sorted(result.items()):\n",
    "    print(key.strftime(\"%d.%m.%Y\") + \":\")\n",
    "    for k, v in value.items():\n",
    "        print(\"  - \" + v)"
   ]
  },
  {
   "cell_type": "code",
   "execution_count": null,
   "metadata": {
    "collapsed": true
   },
   "outputs": [],
   "source": []
  }
 ],
 "metadata": {
  "kernelspec": {
   "display_name": "Python 3",
   "language": "python",
   "name": "python3"
  },
  "language_info": {
   "codemirror_mode": {
    "name": "ipython",
    "version": 3
   },
   "file_extension": ".py",
   "mimetype": "text/x-python",
   "name": "python",
   "nbconvert_exporter": "python",
   "pygments_lexer": "ipython3",
   "version": "3.6.0"
  }
 },
 "nbformat": 4,
 "nbformat_minor": 2
}
