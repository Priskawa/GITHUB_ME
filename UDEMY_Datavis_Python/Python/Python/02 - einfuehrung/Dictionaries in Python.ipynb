{
 "cells": [
  {
   "cell_type": "markdown",
   "metadata": {},
   "source": [
    "# Dictionaries in Python"
   ]
  },
  {
   "cell_type": "code",
   "execution_count": 1,
   "metadata": {
    "collapsed": true
   },
   "outputs": [],
   "source": [
    "staedte = {\"München\": 150000, \"Berlin\": 3000000}"
   ]
  },
  {
   "cell_type": "code",
   "execution_count": 3,
   "metadata": {
    "collapsed": false
   },
   "outputs": [
    {
     "name": "stdout",
     "output_type": "stream",
     "text": [
      "{'München': 150000, 'Berlin': 3000000}\n"
     ]
    }
   ],
   "source": [
    "print(staedte)"
   ]
  },
  {
   "cell_type": "code",
   "execution_count": 4,
   "metadata": {
    "collapsed": false
   },
   "outputs": [
    {
     "name": "stdout",
     "output_type": "stream",
     "text": [
      "150000\n"
     ]
    }
   ],
   "source": [
    "print(staedte[\"München\"])"
   ]
  },
  {
   "cell_type": "code",
   "execution_count": 5,
   "metadata": {
    "collapsed": false
   },
   "outputs": [
    {
     "name": "stdout",
     "output_type": "stream",
     "text": [
      "3000000\n"
     ]
    }
   ],
   "source": [
    "print(staedte[\"Berlin\"])"
   ]
  },
  {
   "cell_type": "markdown",
   "metadata": {},
   "source": [
    "## Neues Element hinzufügen"
   ]
  },
  {
   "cell_type": "code",
   "execution_count": 6,
   "metadata": {
    "collapsed": true
   },
   "outputs": [],
   "source": [
    "staedte[\"Köln\"] = 2000000"
   ]
  },
  {
   "cell_type": "code",
   "execution_count": 7,
   "metadata": {
    "collapsed": false
   },
   "outputs": [
    {
     "name": "stdout",
     "output_type": "stream",
     "text": [
      "{'München': 150000, 'Berlin': 3000000, 'Köln': 2000000}\n"
     ]
    }
   ],
   "source": [
    "print(staedte)"
   ]
  },
  {
   "cell_type": "markdown",
   "metadata": {},
   "source": [
    "## Abfragen: Ist ein Element in einem Dictionary enthalten?"
   ]
  },
  {
   "cell_type": "code",
   "execution_count": 9,
   "metadata": {
    "collapsed": false
   },
   "outputs": [],
   "source": [
    "if \"Hamburg\" in staedte:\n",
    "    print(\"Ein Wert für Hamburg ist definiert\")"
   ]
  },
  {
   "cell_type": "code",
   "execution_count": 10,
   "metadata": {
    "collapsed": false
   },
   "outputs": [
    {
     "name": "stdout",
     "output_type": "stream",
     "text": [
      "Ein Wert für Hamburg ist definiert\n"
     ]
    }
   ],
   "source": [
    "staedte[\"Hamburg\"] = 1750000\n",
    "if \"Hamburg\" in staedte:\n",
    "    print(\"Ein Wert für Hamburg ist definiert\")"
   ]
  },
  {
   "cell_type": "code",
   "execution_count": 11,
   "metadata": {
    "collapsed": false
   },
   "outputs": [
    {
     "name": "stdout",
     "output_type": "stream",
     "text": [
      "{'München': 150000, 'Berlin': 3000000, 'Köln': 2000000, 'Hamburg': 1750000}\n"
     ]
    }
   ],
   "source": [
    "print(staedte)"
   ]
  },
  {
   "cell_type": "markdown",
   "metadata": {},
   "source": [
    "## Ein Dictionary in einer for - Schleife durchgehen\n",
    "\n",
    "### 1.: Nur die Schlüssel durchgehen:"
   ]
  },
  {
   "cell_type": "code",
   "execution_count": 21,
   "metadata": {
    "collapsed": false
   },
   "outputs": [
    {
     "name": "stdout",
     "output_type": "stream",
     "text": [
      "München\n",
      "Berlin\n",
      "Köln\n",
      "Hamburg\n"
     ]
    }
   ],
   "source": [
    "for stadt in staedte:\n",
    "    print(stadt)"
   ]
  },
  {
   "cell_type": "markdown",
   "metadata": {},
   "source": [
    "### 2.: Sowohl die Schlüssel, als auch die Werte durchgehen. Dafür benötigen wir \".items()\":"
   ]
  },
  {
   "cell_type": "code",
   "execution_count": 20,
   "metadata": {
    "collapsed": false
   },
   "outputs": [
    {
     "name": "stdout",
     "output_type": "stream",
     "text": [
      "München: 150000\n",
      "Berlin: 3000000\n",
      "Köln: 2000000\n",
      "Hamburg: 1750000\n"
     ]
    }
   ],
   "source": [
    "for stadt, einwohner in staedte.items():\n",
    "    print(stadt + \": \" + str(einwohner))"
   ]
  },
  {
   "cell_type": "code",
   "execution_count": null,
   "metadata": {
    "collapsed": true
   },
   "outputs": [],
   "source": []
  }
 ],
 "metadata": {
  "kernelspec": {
   "display_name": "Python 3",
   "language": "python",
   "name": "python3"
  },
  "language_info": {
   "codemirror_mode": {
    "name": "ipython",
    "version": 3
   },
   "file_extension": ".py",
   "mimetype": "text/x-python",
   "name": "python",
   "nbconvert_exporter": "python",
   "pygments_lexer": "ipython3",
   "version": "3.6.0"
  }
 },
 "nbformat": 4,
 "nbformat_minor": 2
}
