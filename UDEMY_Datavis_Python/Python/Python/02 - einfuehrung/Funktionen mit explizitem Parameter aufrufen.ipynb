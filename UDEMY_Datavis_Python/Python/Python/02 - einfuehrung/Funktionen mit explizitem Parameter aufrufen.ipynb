{
 "cells": [
  {
   "cell_type": "code",
   "execution_count": 2,
   "metadata": {
    "collapsed": false
   },
   "outputs": [
    {
     "name": "stdout",
     "output_type": "stream",
     "text": [
      "text: Hallo Mars, color=red, width=2px\n"
     ]
    }
   ],
   "source": [
    "def f(text = \"Hallo Welt\", color = \"red\", width = \"2px\"):\n",
    "    print(\"text: \" + str(text) + \", color=\" + str(color) + \", width=\" + str(width))\n",
    "    \n",
    "\n",
    "f(\"Hallo Mars\")\n",
    "    "
   ]
  },
  {
   "cell_type": "code",
   "execution_count": 5,
   "metadata": {
    "collapsed": false
   },
   "outputs": [
    {
     "name": "stdout",
     "output_type": "stream",
     "text": [
      "text: Hallo Mars, color=green, width=2px\n"
     ]
    }
   ],
   "source": [
    "f(color = \"green\", text = \"Hallo Mars\")"
   ]
  },
  {
   "cell_type": "code",
   "execution_count": null,
   "metadata": {
    "collapsed": true
   },
   "outputs": [],
   "source": []
  }
 ],
 "metadata": {
  "kernelspec": {
   "display_name": "Python 3",
   "language": "python",
   "name": "python3"
  },
  "language_info": {
   "codemirror_mode": {
    "name": "ipython",
    "version": 3
   },
   "file_extension": ".py",
   "mimetype": "text/x-python",
   "name": "python",
   "nbconvert_exporter": "python",
   "pygments_lexer": "ipython3",
   "version": "3.6.0"
  }
 },
 "nbformat": 4,
 "nbformat_minor": 2
}
