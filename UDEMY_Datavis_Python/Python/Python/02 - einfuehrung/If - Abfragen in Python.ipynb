{
 "cells": [
  {
   "cell_type": "markdown",
   "metadata": {},
   "source": [
    "# if - Abfragen in Python\n",
    "\n",
    "Mit einer if-Abfrage kannst du entscheiden, ob ein Codeblock ausgeführt werden soll, oder nicht:"
   ]
  },
  {
   "cell_type": "code",
   "execution_count": 6,
   "metadata": {
    "collapsed": false
   },
   "outputs": [
    {
     "name": "stdout",
     "output_type": "stream",
     "text": [
      "C\n"
     ]
    }
   ],
   "source": [
    "if 4 > 10:\n",
    "    print(\"A\")\n",
    "    print(\"B\")\n",
    "    \n",
    "print(\"C\")"
   ]
  },
  {
   "cell_type": "markdown",
   "metadata": {},
   "source": [
    "Natürlich kann dein Programm auch aus mehreren if-Abfragen bestehen. Mit dem \"==\" - Operator überprüfst du, ob der rechte und der linke Wert identisch sind."
   ]
  },
  {
   "cell_type": "code",
   "execution_count": 9,
   "metadata": {
    "collapsed": false
   },
   "outputs": [
    {
     "name": "stdout",
     "output_type": "stream",
     "text": [
      "Österreich\n"
     ]
    }
   ],
   "source": [
    "country = \"AT\"\n",
    "\n",
    "if country == \"DE\":\n",
    "    print(\"Deutschland\")\n",
    "if country == \"AT\":\n",
    "    print(\"Österreich\")"
   ]
  },
  {
   "cell_type": "markdown",
   "metadata": {},
   "source": [
    "Mit dem \"!=\" - Operator kannst du überprüfen, ob ein Wert verschieden ist. Also hier in dem Fall, `country != \"FR\"` bedeutet, dass \"Nicht Frankreich\" nur dann ausgegeben wird, wenn die Variable `country` nicht den Wert `\"FR\"` enthält."
   ]
  },
  {
   "cell_type": "code",
   "execution_count": 11,
   "metadata": {
    "collapsed": false
   },
   "outputs": [
    {
     "name": "stdout",
     "output_type": "stream",
     "text": [
      "Nicht Frankreich\n"
     ]
    }
   ],
   "source": [
    "country = \"AT\"\n",
    "\n",
    "if country == \"FR\":\n",
    "    print(\"Frankreich\")\n",
    "    \n",
    "if country != \"FR\":\n",
    "    print(\"Nicht Frankreich\")"
   ]
  },
  {
   "cell_type": "markdown",
   "metadata": {},
   "source": [
    "Das `else` bedeutet nichts anderes, als dass wenn die Bedingung der if-Abfrage nicht erfüllt werden konnte, dass dann was anderes gemacht werden soll. Zu deutsch:\n",
    "\n",
    "- if: Wenn Bedingung, dann:\n",
    "- else: Sonst..."
   ]
  },
  {
   "cell_type": "code",
   "execution_count": 12,
   "metadata": {
    "collapsed": false
   },
   "outputs": [
    {
     "name": "stdout",
     "output_type": "stream",
     "text": [
      "Nicht Frankreich\n"
     ]
    }
   ],
   "source": [
    "country = \"AT\"\n",
    "\n",
    "if country == \"FR\":\n",
    "    print(\"Frankreich\")\n",
    "else:\n",
    "    print(\"Nicht Frankreich\")"
   ]
  },
  {
   "cell_type": "markdown",
   "metadata": {},
   "source": [
    "Mit `and` bzw. `or` kannst du verschiedene Bedingungen miteinander verknüpfen. Das Keyword `and` bedeutet, dass sowohl die Bedingung rechts als auch die links davon erfüllt sein muss (also es muss gelten `zahl > 4` *und* `zahl < 6`)."
   ]
  },
  {
   "cell_type": "code",
   "execution_count": 14,
   "metadata": {
    "collapsed": false
   },
   "outputs": [
    {
     "name": "stdout",
     "output_type": "stream",
     "text": [
      "TEST\n"
     ]
    }
   ],
   "source": [
    "zahl = 5\n",
    "\n",
    "if zahl > 4 and zahl < 6:\n",
    "    print(\"TEST\")"
   ]
  },
  {
   "cell_type": "code",
   "execution_count": 15,
   "metadata": {
    "collapsed": false
   },
   "outputs": [
    {
     "name": "stdout",
     "output_type": "stream",
     "text": [
      "TEST\n"
     ]
    }
   ],
   "source": [
    "zahl = 5\n",
    "\n",
    "if zahl > 4 or zahl < 6:\n",
    "    print(\"TEST\")"
   ]
  },
  {
   "cell_type": "code",
   "execution_count": null,
   "metadata": {
    "collapsed": true
   },
   "outputs": [],
   "source": []
  }
 ],
 "metadata": {
  "kernelspec": {
   "display_name": "Python 3",
   "language": "python",
   "name": "python3"
  },
  "language_info": {
   "codemirror_mode": {
    "name": "ipython",
    "version": 3
   },
   "file_extension": ".py",
   "mimetype": "text/x-python",
   "name": "python",
   "nbconvert_exporter": "python",
   "pygments_lexer": "ipython3",
   "version": "3.6.0"
  }
 },
 "nbformat": 4,
 "nbformat_minor": 2
}
