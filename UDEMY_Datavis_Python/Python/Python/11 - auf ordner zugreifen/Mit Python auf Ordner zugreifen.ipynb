{
 "cells": [
  {
   "cell_type": "markdown",
   "metadata": {},
   "source": [
    "## Auf Ordner zugreifen"
   ]
  },
  {
   "cell_type": "code",
   "execution_count": 1,
   "metadata": {
    "collapsed": true
   },
   "outputs": [],
   "source": [
    "import os"
   ]
  },
  {
   "cell_type": "code",
   "execution_count": 3,
   "metadata": {
    "collapsed": false
   },
   "outputs": [
    {
     "data": {
      "text/plain": [
       "['datei-1.xlsx',\n",
       " 'datei-2.xlsx',\n",
       " 'datei-3.xlsx',\n",
       " 'datei-4.xlsx',\n",
       " 'Textdatei.txt']"
      ]
     },
     "execution_count": 3,
     "metadata": {},
     "output_type": "execute_result"
    }
   ],
   "source": [
    "os.listdir(\"../data/ordner\")"
   ]
  },
  {
   "cell_type": "code",
   "execution_count": 12,
   "metadata": {
    "collapsed": false
   },
   "outputs": [
    {
     "name": "stdout",
     "output_type": "stream",
     "text": [
      "['datei-1.xlsx', 'datei-2.xlsx', 'datei-3.xlsx', 'datei-4.xlsx']\n"
     ]
    }
   ],
   "source": [
    "files = os.listdir(\"../data/ordner\")\n",
    "\n",
    "#excel_files = []\n",
    "#for file in files:\n",
    "#    if file[-5:] == \".xlsx\":\n",
    "#        excel_files.append(file)\n",
    "\n",
    "excel_files = [file for file in files if file[-5:] == \".xlsx\"]\n",
    "\n",
    "print(excel_files)"
   ]
  },
  {
   "cell_type": "code",
   "execution_count": null,
   "metadata": {
    "collapsed": true
   },
   "outputs": [],
   "source": []
  }
 ],
 "metadata": {
  "kernelspec": {
   "display_name": "Python 3",
   "language": "python",
   "name": "python3"
  },
  "language_info": {
   "codemirror_mode": {
    "name": "ipython",
    "version": 3
   },
   "file_extension": ".py",
   "mimetype": "text/x-python",
   "name": "python",
   "nbconvert_exporter": "python",
   "pygments_lexer": "ipython3",
   "version": "3.6.0"
  }
 },
 "nbformat": 4,
 "nbformat_minor": 2
}
