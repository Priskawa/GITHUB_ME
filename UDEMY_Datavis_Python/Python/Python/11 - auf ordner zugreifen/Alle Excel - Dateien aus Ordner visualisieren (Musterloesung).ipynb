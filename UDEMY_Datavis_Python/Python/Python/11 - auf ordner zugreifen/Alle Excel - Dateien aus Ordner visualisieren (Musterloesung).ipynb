{
 "cells": [
  {
   "cell_type": "markdown",
   "metadata": {},
   "source": [
    "## Alle Excel - Dateien aus Ordner visualisieren"
   ]
  },
  {
   "cell_type": "code",
   "execution_count": 1,
   "metadata": {
    "collapsed": true
   },
   "outputs": [],
   "source": [
    "import os\n",
    "import pandas as pd"
   ]
  },
  {
   "cell_type": "code",
   "execution_count": 2,
   "metadata": {
    "collapsed": false
   },
   "outputs": [],
   "source": [
    "files = os.listdir(\"../data/ordner\")\n",
    "excel_files = [file for file in files if file[-5:] == \".xlsx\"]"
   ]
  },
  {
   "cell_type": "code",
   "execution_count": 3,
   "metadata": {
    "collapsed": false
   },
   "outputs": [],
   "source": [
    "dfs = {}\n",
    "for file in excel_files:\n",
    "    dfs[file] = pd.read_excel(\"../data/ordner/\" + file)"
   ]
  },
  {
   "cell_type": "code",
   "execution_count": 4,
   "metadata": {
    "collapsed": false
   },
   "outputs": [
    {
     "name": "stdout",
     "output_type": "stream",
     "text": [
      "datei-1.xlsx: 2\n",
      "datei-2.xlsx: 5\n",
      "datei-3.xlsx: 1\n",
      "datei-4.xlsx: 6\n"
     ]
    }
   ],
   "source": [
    "for filename, df in dfs.items():\n",
    "    print(filename + \": \" + str(len(df)))"
   ]
  },
  {
   "cell_type": "code",
   "execution_count": 14,
   "metadata": {
    "collapsed": false,
    "scrolled": true
   },
   "outputs": [
    {
     "name": "stdout",
     "output_type": "stream",
     "text": [
      "[1, 2, 3, 4]\n",
      "['datei-1.xlsx', 'datei-2.xlsx', 'datei-3.xlsx', 'datei-4.xlsx']\n",
      "[2, 5, 1, 6]\n"
     ]
    }
   ],
   "source": [
    "filenames = []\n",
    "number_of_lines = []\n",
    "x = []\n",
    "\n",
    "counter = 1\n",
    "for filename, df in dfs.items():\n",
    "    x.append(counter)\n",
    "    counter = counter + 1\n",
    "    filenames.append(filename)\n",
    "    number_of_lines.append(len(df))\n",
    "\n",
    "print(x)\n",
    "print(filenames)\n",
    "print(number_of_lines)\n",
    "    "
   ]
  },
  {
   "cell_type": "code",
   "execution_count": 15,
   "metadata": {
    "collapsed": false
   },
   "outputs": [
    {
     "data": {
      "image/png": "[encoded data removed]",
      "text/plain": [
       "<matplotlib.figure.Figure at 0x11e948f28>"
      ]
     },
     "metadata": {},
     "output_type": "display_data"
    }
   ],
   "source": [
    "%matplotlib inline\n",
    "\n",
    "import matplotlib.pyplot as plt\n",
    "import seaborn as sns\n",
    "\n",
    "fig, ax = plt.subplots()\n",
    "\n",
    "fig.dpi = 100\n",
    "\n",
    "ax.bar(x, number_of_lines, tick_label=filenames)\n",
    "\n",
    "plt.show()"
   ]
  },
  {
   "cell_type": "code",
   "execution_count": null,
   "metadata": {
    "collapsed": true
   },
   "outputs": [],
   "source": []
  }
 ],
 "metadata": {
  "kernelspec": {
   "display_name": "Python 3",
   "language": "python",
   "name": "python3"
  },
  "language_info": {
   "codemirror_mode": {
    "name": "ipython",
    "version": 3
   },
   "file_extension": ".py",
   "mimetype": "text/x-python",
   "name": "python",
   "nbconvert_exporter": "python",
   "pygments_lexer": "ipython3",
   "version": "3.6.0"
  }
 },
 "nbformat": 4,
 "nbformat_minor": 2
}
