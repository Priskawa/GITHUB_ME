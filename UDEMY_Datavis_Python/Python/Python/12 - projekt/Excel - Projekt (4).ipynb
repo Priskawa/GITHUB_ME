{
 "cells": [
  {
   "cell_type": "markdown",
   "metadata": {},
   "source": [
    "## Schritt 1: Alle Excel-Dateien in Ordner öffnen"
   ]
  },
  {
   "cell_type": "code",
   "execution_count": 1,
   "metadata": {
    "collapsed": true
   },
   "outputs": [],
   "source": [
    "import os\n",
    "import pandas as pd"
   ]
  },
  {
   "cell_type": "code",
   "execution_count": 2,
   "metadata": {
    "collapsed": true
   },
   "outputs": [],
   "source": [
    "files = os.listdir(\"../data/excel-projekt\")\n",
    "excel_files = [file for file in files if file[-5:] == \".xlsx\"]"
   ]
  },
  {
   "cell_type": "code",
   "execution_count": 3,
   "metadata": {
    "collapsed": false
   },
   "outputs": [],
   "source": [
    "dfs = {}\n",
    "\n",
    "for file in excel_files:\n",
    "    dfs[file] = pd.read_excel(\"../data/excel-projekt/\" + file)"
   ]
  },
  {
   "cell_type": "code",
   "execution_count": 4,
   "metadata": {
    "collapsed": false
   },
   "outputs": [
    {
     "data": {
      "text/html": [
       "<div>\n",
       "<table border=\"1\" class=\"dataframe\">\n",
       "  <thead>\n",
       "    <tr style=\"text-align: right;\">\n",
       "      <th></th>\n",
       "      <th>Datum</th>\n",
       "      <th>Anzahl an Anrufen</th>\n",
       "      <th>Anzahl an Verkäufen</th>\n",
       "    </tr>\n",
       "  </thead>\n",
       "  <tbody>\n",
       "    <tr>\n",
       "      <th>0</th>\n",
       "      <td>2018-04-05</td>\n",
       "      <td>40</td>\n",
       "      <td>15</td>\n",
       "    </tr>\n",
       "    <tr>\n",
       "      <th>1</th>\n",
       "      <td>2018-04-06</td>\n",
       "      <td>49</td>\n",
       "      <td>14</td>\n",
       "    </tr>\n",
       "    <tr>\n",
       "      <th>2</th>\n",
       "      <td>2018-04-09</td>\n",
       "      <td>38</td>\n",
       "      <td>17</td>\n",
       "    </tr>\n",
       "    <tr>\n",
       "      <th>3</th>\n",
       "      <td>2018-04-10</td>\n",
       "      <td>49</td>\n",
       "      <td>10</td>\n",
       "    </tr>\n",
       "    <tr>\n",
       "      <th>4</th>\n",
       "      <td>2018-04-12</td>\n",
       "      <td>40</td>\n",
       "      <td>15</td>\n",
       "    </tr>\n",
       "    <tr>\n",
       "      <th>5</th>\n",
       "      <td>2018-04-13</td>\n",
       "      <td>60</td>\n",
       "      <td>30</td>\n",
       "    </tr>\n",
       "  </tbody>\n",
       "</table>\n",
       "</div>"
      ],
      "text/plain": [
       "       Datum  Anzahl an Anrufen  Anzahl an Verkäufen\n",
       "0 2018-04-05                 40                   15\n",
       "1 2018-04-06                 49                   14\n",
       "2 2018-04-09                 38                   17\n",
       "3 2018-04-10                 49                   10\n",
       "4 2018-04-12                 40                   15\n",
       "5 2018-04-13                 60                   30"
      ]
     },
     "execution_count": 4,
     "metadata": {},
     "output_type": "execute_result"
    }
   ],
   "source": [
    "dfs[\"Marie.xlsx\"]"
   ]
  },
  {
   "cell_type": "code",
   "execution_count": 5,
   "metadata": {
    "collapsed": false
   },
   "outputs": [
    {
     "data": {
      "text/html": [
       "<div>\n",
       "<table border=\"1\" class=\"dataframe\">\n",
       "  <thead>\n",
       "    <tr style=\"text-align: right;\">\n",
       "      <th></th>\n",
       "      <th>Datum</th>\n",
       "      <th>Anzahl an Anrufen</th>\n",
       "      <th>Anzahl an Verkäufen</th>\n",
       "    </tr>\n",
       "  </thead>\n",
       "  <tbody>\n",
       "    <tr>\n",
       "      <th>0</th>\n",
       "      <td>2018-04-05</td>\n",
       "      <td>41</td>\n",
       "      <td>15</td>\n",
       "    </tr>\n",
       "    <tr>\n",
       "      <th>1</th>\n",
       "      <td>2018-04-06</td>\n",
       "      <td>49</td>\n",
       "      <td>14</td>\n",
       "    </tr>\n",
       "    <tr>\n",
       "      <th>2</th>\n",
       "      <td>2018-04-09</td>\n",
       "      <td>42</td>\n",
       "      <td>18</td>\n",
       "    </tr>\n",
       "    <tr>\n",
       "      <th>3</th>\n",
       "      <td>2018-04-10</td>\n",
       "      <td>38</td>\n",
       "      <td>13</td>\n",
       "    </tr>\n",
       "    <tr>\n",
       "      <th>4</th>\n",
       "      <td>2018-04-11</td>\n",
       "      <td>55</td>\n",
       "      <td>12</td>\n",
       "    </tr>\n",
       "    <tr>\n",
       "      <th>5</th>\n",
       "      <td>2018-04-12</td>\n",
       "      <td>49</td>\n",
       "      <td>12</td>\n",
       "    </tr>\n",
       "    <tr>\n",
       "      <th>6</th>\n",
       "      <td>2018-04-13</td>\n",
       "      <td>45</td>\n",
       "      <td>14</td>\n",
       "    </tr>\n",
       "  </tbody>\n",
       "</table>\n",
       "</div>"
      ],
      "text/plain": [
       "       Datum  Anzahl an Anrufen  Anzahl an Verkäufen\n",
       "0 2018-04-05                 41                   15\n",
       "1 2018-04-06                 49                   14\n",
       "2 2018-04-09                 42                   18\n",
       "3 2018-04-10                 38                   13\n",
       "4 2018-04-11                 55                   12\n",
       "5 2018-04-12                 49                   12\n",
       "6 2018-04-13                 45                   14"
      ]
     },
     "execution_count": 5,
     "metadata": {},
     "output_type": "execute_result"
    }
   ],
   "source": [
    "dfs[\"Tobias.xlsx\"]"
   ]
  },
  {
   "cell_type": "markdown",
   "metadata": {},
   "source": [
    "### Schritt 2: Alle Dateien in ein gemeinsames Dictionary zusammenführen"
   ]
  },
  {
   "cell_type": "code",
   "execution_count": 6,
   "metadata": {
    "collapsed": true
   },
   "outputs": [],
   "source": [
    "d = {}"
   ]
  },
  {
   "cell_type": "code",
   "execution_count": 7,
   "metadata": {
    "collapsed": true
   },
   "outputs": [],
   "source": [
    "df = dfs[\"Tobias.xlsx\"]"
   ]
  },
  {
   "cell_type": "code",
   "execution_count": 8,
   "metadata": {
    "collapsed": false
   },
   "outputs": [
    {
     "name": "stdout",
     "output_type": "stream",
     "text": [
      "{datetime.date(2018, 4, 5): {'Tobias.xlsx': {'calls': 41, 'sales': 15}}, datetime.date(2018, 4, 6): {'Tobias.xlsx': {'calls': 49, 'sales': 14}}, datetime.date(2018, 4, 9): {'Tobias.xlsx': {'calls': 42, 'sales': 18}}, datetime.date(2018, 4, 10): {'Tobias.xlsx': {'calls': 38, 'sales': 13}}, datetime.date(2018, 4, 11): {'Tobias.xlsx': {'calls': 55, 'sales': 12}}, datetime.date(2018, 4, 12): {'Tobias.xlsx': {'calls': 49, 'sales': 12}}, datetime.date(2018, 4, 13): {'Tobias.xlsx': {'calls': 45, 'sales': 14}}}\n"
     ]
    }
   ],
   "source": [
    "for index, row in df.iterrows():\n",
    "    date_col = row[\"Datum\"].date()\n",
    "    d[date_col] = {}\n",
    "    d[date_col][\"Tobias.xlsx\"] = {\n",
    "        \"calls\": row[\"Anzahl an Anrufen\"],\n",
    "        \"sales\": row[\"Anzahl an Verkäufen\"]\n",
    "    }\n",
    "    \n",
    "print(d)"
   ]
  },
  {
   "cell_type": "code",
   "execution_count": 9,
   "metadata": {
    "collapsed": false
   },
   "outputs": [
    {
     "name": "stdout",
     "output_type": "stream",
     "text": [
      "{datetime.date(2018, 4, 5): {'Eva.xlsx': {'calls': 49, 'sales': 12}, 'Jan.xlsx': {'calls': 40, 'sales': 10}, 'Marie.xlsx': {'calls': 40, 'sales': 15}, 'Tobias.xlsx': {'calls': 41, 'sales': 15}}, datetime.date(2018, 4, 6): {'Eva.xlsx': {'calls': 48, 'sales': 14}, 'Jan.xlsx': {'calls': 43, 'sales': 15}, 'Marie.xlsx': {'calls': 49, 'sales': 14}, 'Tobias.xlsx': {'calls': 49, 'sales': 14}}, datetime.date(2018, 4, 9): {'Eva.xlsx': {'calls': 43, 'sales': 15}, 'Jan.xlsx': {'calls': 33, 'sales': 12}, 'Marie.xlsx': {'calls': 38, 'sales': 17}, 'Tobias.xlsx': {'calls': 42, 'sales': 18}}, datetime.date(2018, 4, 10): {'Eva.xlsx': {'calls': 47, 'sales': 18}, 'Jan.xlsx': {'calls': 43, 'sales': 10}, 'Marie.xlsx': {'calls': 49, 'sales': 10}, 'Tobias.xlsx': {'calls': 38, 'sales': 13}}, datetime.date(2018, 4, 11): {'Eva.xlsx': {'calls': 48, 'sales': 30}, 'Jan.xlsx': {'calls': 23, 'sales': 20}, 'Tobias.xlsx': {'calls': 55, 'sales': 12}}, datetime.date(2018, 4, 12): {'Eva.xlsx': {'calls': 59, 'sales': 15}, 'Jan.xlsx': {'calls': 44, 'sales': 12}, 'Marie.xlsx': {'calls': 40, 'sales': 15}, 'Tobias.xlsx': {'calls': 49, 'sales': 12}}, datetime.date(2018, 4, 13): {'Eva.xlsx': {'calls': 49, 'sales': 19}, 'Jan.xlsx': {'calls': 56, 'sales': 20}, 'Marie.xlsx': {'calls': 60, 'sales': 30}, 'Tobias.xlsx': {'calls': 45, 'sales': 14}}}\n"
     ]
    }
   ],
   "source": [
    "from datetime import date\n",
    "\n",
    "d = {}\n",
    "for filename, df in dfs.items():\n",
    "    for index, row in df.iterrows():\n",
    "        date_col = row[\"Datum\"].date()\n",
    "        if not date_col in d:\n",
    "            d[date_col] = {}\n",
    "        \n",
    "        d[date_col][filename] = {\n",
    "            \"calls\": row[\"Anzahl an Anrufen\"],\n",
    "            \"sales\": row[\"Anzahl an Verkäufen\"]\n",
    "        }\n",
    "    #print(d[date(year=2018, month=4, day=5)])\n",
    "    \n",
    "print(d)"
   ]
  },
  {
   "cell_type": "code",
   "execution_count": null,
   "metadata": {
    "collapsed": false
   },
   "outputs": [],
   "source": []
  },
  {
   "cell_type": "code",
   "execution_count": 25,
   "metadata": {
    "collapsed": false
   },
   "outputs": [
    {
     "data": {
      "image/png": "[encoded data removed]",
      "text/plain": [
       "<matplotlib.figure.Figure at 0x11707b550>"
      ]
     },
     "metadata": {},
     "output_type": "display_data"
    }
   ],
   "source": [
    "%matplotlib inline\n",
    "\n",
    "import matplotlib.pyplot as plt\n",
    "import seaborn as sns\n",
    "\n",
    "fig, ax = plt.subplots()\n",
    "fig.dpi = 90\n",
    "\n",
    "x = [excel_date for excel_date, values in sorted(d.items())]\n",
    "#x = []\n",
    "#for excel_date, values in sorted(d.items()):\n",
    "#    x.append(excel_date)\n",
    "\n",
    "filenames = [\"Tobias.xlsx\", \"Marie.xlsx\"]\n",
    "for filename in filenames:\n",
    "    y = []\n",
    "    for excel_date, values in sorted(d.items()):\n",
    "        calls = 0\n",
    "        if filename in values:\n",
    "            calls = values[filename]['calls']\n",
    "        y.append(calls)\n",
    "\n",
    "    ax.plot(x, y, label=filename)\n",
    "\n",
    "ax.legend()\n",
    "ax.set_xticks(x)\n",
    "ax.set_xticklabels(x, rotation=45)\n",
    "\n",
    "plt.show()"
   ]
  },
  {
   "cell_type": "code",
   "execution_count": null,
   "metadata": {
    "collapsed": true
   },
   "outputs": [],
   "source": []
  }
 ],
 "metadata": {
  "kernelspec": {
   "display_name": "Python 3",
   "language": "python",
   "name": "python3"
  },
  "language_info": {
   "codemirror_mode": {
    "name": "ipython",
    "version": 3
   },
   "file_extension": ".py",
   "mimetype": "text/x-python",
   "name": "python",
   "nbconvert_exporter": "python",
   "pygments_lexer": "ipython3",
   "version": "3.6.0"
  }
 },
 "nbformat": 4,
 "nbformat_minor": 2
}
