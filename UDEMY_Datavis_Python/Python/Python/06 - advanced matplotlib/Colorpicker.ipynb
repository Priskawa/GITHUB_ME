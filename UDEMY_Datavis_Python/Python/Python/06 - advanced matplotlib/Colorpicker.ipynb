{
 "cells": [
  {
   "cell_type": "code",
   "execution_count": 4,
   "metadata": {
    "collapsed": false
   },
   "outputs": [],
   "source": [
    "from ipywidgets import *"
   ]
  },
  {
   "cell_type": "code",
   "execution_count": 6,
   "metadata": {
    "collapsed": false
   },
   "outputs": [],
   "source": [
    "r_slider = IntSlider(min=0, max=255, description=\"Rot\")\n",
    "g_slider = IntSlider(min=0, max=255, description=\"Grün\")\n",
    "b_slider = IntSlider(min=0, max=255, description=\"Blau\")\n",
    "\n",
    "def on_value_change(change):\n",
    "    r = r_slider.value\n",
    "    g = g_slider.value\n",
    "    b = b_slider.value\n",
    "    \n",
    "    r_slider.slider_color = '#%02x%02x%02x' % (r, g, b)\n",
    "    g_slider.slider_color = '#%02x%02x%02x' % (r, g, b)\n",
    "    b_slider.slider_color = '#%02x%02x%02x' % (r, g, b)\n",
    "    \n",
    "\n",
    "r_slider.observe(on_value_change, names=\"value\")\n",
    "g_slider.observe(on_value_change, names=\"value\")\n",
    "b_slider.observe(on_value_change, names=\"value\")\n",
    "\n",
    "widgets.VBox([r_slider, g_slider, b_slider])"
   ]
  },
  {
   "cell_type": "code",
   "execution_count": null,
   "metadata": {
    "collapsed": true
   },
   "outputs": [],
   "source": []
  }
 ],
 "metadata": {
  "kernelspec": {
   "display_name": "Python 3",
   "language": "python",
   "name": "python3"
  },
  "language_info": {
   "codemirror_mode": {
    "name": "ipython",
    "version": 3
   },
   "file_extension": ".py",
   "mimetype": "text/x-python",
   "name": "python",
   "nbconvert_exporter": "python",
   "pygments_lexer": "ipython3",
   "version": "3.6.0"
  },
  "widgets": {
   "state": {
    "386d28924fb2442baee52dd205140fec": {
     "views": [
      {
       "cell_index": 1
      }
     ]
    }
   },
   "version": "1.2.0"
  }
 },
 "nbformat": 4,
 "nbformat_minor": 2
}
