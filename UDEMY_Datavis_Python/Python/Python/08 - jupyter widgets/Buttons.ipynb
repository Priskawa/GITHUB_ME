{
 "cells": [
  {
   "cell_type": "markdown",
   "metadata": {},
   "source": [
    "## Buttons"
   ]
  },
  {
   "cell_type": "code",
   "execution_count": 2,
   "metadata": {
    "collapsed": true
   },
   "outputs": [],
   "source": [
    "%matplotlib inline\n",
    "\n",
    "import matplotlib.pyplot as plt\n",
    "import seaborn as sns\n",
    "\n",
    "import ipywidgets as widgets\n",
    "from IPython.display import display, clear_output"
   ]
  },
  {
   "cell_type": "code",
   "execution_count": 17,
   "metadata": {
    "collapsed": false
   },
   "outputs": [],
   "source": [
    "slider = widgets.IntSlider(\n",
    "    value=7,\n",
    "    min=0,\n",
    "    max=10,\n",
    "    # step=1,\n",
    "    description='1. Wert:',\n",
    "    orientation='horizontal',\n",
    "    slider_color='white'\n",
    ")\n",
    "slider2 = widgets.IntSlider(\n",
    "    value=7,\n",
    "    min=0,\n",
    "    max=10,\n",
    "    # step=1,\n",
    "    description='2. Wert:',\n",
    "    orientation='horizontal',\n",
    "    slider_color='white'\n",
    ")\n",
    "button = widgets.Button(\n",
    "    description=\"Grafik aktualisieren\"\n",
    ")\n",
    "\n",
    "def on_button_click(b):\n",
    "    clear_output()\n",
    "    fig, ax = plt.subplots()\n",
    "    x = [1, 2, 3]\n",
    "    y = [slider.value, slider2.value, 2]\n",
    "    ax.plot(x, y)\n",
    "    plt.show()\n",
    "    \n",
    "button.on_click(on_button_click)\n",
    "    \n",
    "display(slider)\n",
    "display(slider2)\n",
    "display(button)"
   ]
  },
  {
   "cell_type": "code",
   "execution_count": null,
   "metadata": {
    "collapsed": false
   },
   "outputs": [],
   "source": []
  },
  {
   "cell_type": "code",
   "execution_count": null,
   "metadata": {
    "collapsed": true
   },
   "outputs": [],
   "source": []
  }
 ],
 "metadata": {
  "kernelspec": {
   "display_name": "Python 3",
   "language": "python",
   "name": "python3"
  },
  "language_info": {
   "codemirror_mode": {
    "name": "ipython",
    "version": 3
   },
   "file_extension": ".py",
   "mimetype": "text/x-python",
   "name": "python",
   "nbconvert_exporter": "python",
   "pygments_lexer": "ipython3",
   "version": "3.6.0"
  },
  "widgets": {
   "state": {
    "02ef96db21e74275aa722e3ab228b2c2": {
     "views": [
      {
       "cell_index": 2
      }
     ]
    },
    "3d65213e508b4c81bec11e369d65c22b": {
     "views": [
      {
       "cell_index": 2
      }
     ]
    },
    "54274e4165bc42a8b8f30c34e0b92435": {
     "views": [
      {
       "cell_index": 2
      }
     ]
    },
    "5896bc6a22fa4f999fa0452d841642e7": {
     "views": [
      {
       "cell_index": 2
      }
     ]
    },
    "5da6f54f81a84cdd911c47496dbf7345": {
     "views": [
      {
       "cell_index": 2
      }
     ]
    },
    "a4baed0b3eee4153a023c736d30d6163": {
     "views": [
      {
       "cell_index": 2
      }
     ]
    },
    "b6878f7c79e84493ac5b5ea597a39d0a": {
     "views": [
      {
       "cell_index": 2
      }
     ]
    },
    "fcee68108edc4f37bb75112256592706": {
     "views": [
      {
       "cell_index": 2
      }
     ]
    },
    "feaed241a6a048e899bb3584f2de8edc": {
     "views": [
      {
       "cell_index": 2
      }
     ]
    }
   },
   "version": "1.2.0"
  }
 },
 "nbformat": 4,
 "nbformat_minor": 2
}
