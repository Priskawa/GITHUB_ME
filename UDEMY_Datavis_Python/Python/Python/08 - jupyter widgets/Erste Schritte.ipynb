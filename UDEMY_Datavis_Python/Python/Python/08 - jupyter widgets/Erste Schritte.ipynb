{
 "cells": [
  {
   "cell_type": "markdown",
   "metadata": {},
   "source": [
    "## Jupyter Widgets\n",
    "\n",
    "Jupyter Widgets erlauben dir, interaktive Notebooks zu erstellen. Richtig cool, weil man dann einfach mit Parametern rumspielen kann :)\n",
    "\n",
    "Btw, die Dokumentation findest du hier: http://ipywidgets.readthedocs.io/en/latest/examples/Widget%20List.html"
   ]
  },
  {
   "cell_type": "code",
   "execution_count": 2,
   "metadata": {
    "collapsed": true
   },
   "outputs": [],
   "source": [
    "import ipywidgets as widgets"
   ]
  },
  {
   "cell_type": "markdown",
   "metadata": {},
   "source": [
    "# Beispiel: IntSlider"
   ]
  },
  {
   "cell_type": "code",
   "execution_count": 3,
   "metadata": {
    "collapsed": false
   },
   "outputs": [],
   "source": [
    "widgets.IntSlider(\n",
    "    value=7,\n",
    "    min=0,\n",
    "    max=100,\n",
    "    # step=1,\n",
    "    description='X-Wert:',\n",
    "    orientation='horizontal',\n",
    "    slider_color='white'\n",
    ")"
   ]
  },
  {
   "cell_type": "code",
   "execution_count": 4,
   "metadata": {
    "collapsed": false
   },
   "outputs": [],
   "source": [
    "widgets.IntSlider(\n",
    "    value=7,\n",
    "    min=0,\n",
    "    max=100,\n",
    "    # step=1,\n",
    "    description='X-Wert:',\n",
    "    orientation='vertical',\n",
    "    slider_color='white'\n",
    ")"
   ]
  },
  {
   "cell_type": "markdown",
   "metadata": {},
   "source": [
    "## Beispiel: FloatSlider"
   ]
  },
  {
   "cell_type": "code",
   "execution_count": 5,
   "metadata": {
    "collapsed": true
   },
   "outputs": [],
   "source": [
    "widgets.FloatSlider(\n",
    "    value=7,\n",
    "    min=0,\n",
    "    max=100,\n",
    "    step=0.1,\n",
    "    description='X-Wert:',\n",
    "    orientation='horizontal',\n",
    "    slider_color='white'\n",
    ")"
   ]
  },
  {
   "cell_type": "markdown",
   "metadata": {},
   "source": [
    "## Beispiel: IntRangeSlider"
   ]
  },
  {
   "cell_type": "code",
   "execution_count": 6,
   "metadata": {
    "collapsed": false
   },
   "outputs": [],
   "source": [
    "widgets.IntRangeSlider(\n",
    "    value=[3, 10],\n",
    "    min=0,\n",
    "    max=100,\n",
    "    description='X-Wert:',\n",
    "    orientation='horizontal',\n",
    "    slider_color='white'\n",
    ")"
   ]
  },
  {
   "cell_type": "markdown",
   "metadata": {},
   "source": [
    "## Beispiel: Checkbox"
   ]
  },
  {
   "cell_type": "code",
   "execution_count": 7,
   "metadata": {
    "collapsed": true
   },
   "outputs": [],
   "source": [
    "widgets.Checkbox(\n",
    "    value=True,\n",
    "    description=\"Sicher?\"\n",
    ")"
   ]
  },
  {
   "cell_type": "markdown",
   "metadata": {},
   "source": [
    "## Beispiel: Dropdown"
   ]
  },
  {
   "cell_type": "code",
   "execution_count": 8,
   "metadata": {
    "collapsed": false
   },
   "outputs": [],
   "source": [
    "widgets.Dropdown(\n",
    "    options=[\"MUC\", \"CGN\", \"HEL\", \"BUD\", \"SGX\"],\n",
    "    value=\"MUC\",\n",
    "    description=\"Flughafen\"\n",
    ")"
   ]
  },
  {
   "cell_type": "markdown",
   "metadata": {},
   "source": [
    "## Beispiel: RadioButtons"
   ]
  },
  {
   "cell_type": "code",
   "execution_count": 9,
   "metadata": {
    "collapsed": true
   },
   "outputs": [],
   "source": [
    "widgets.RadioButtons(\n",
    "    options=[\"MUC\", \"CGN\", \"HEL\", \"BUD\", \"SGX\"],\n",
    "    value=\"MUC\",\n",
    "    description=\"Flughafen\"\n",
    ")"
   ]
  },
  {
   "cell_type": "markdown",
   "metadata": {},
   "source": [
    "## Beispiel: Text / Textarea"
   ]
  },
  {
   "cell_type": "code",
   "execution_count": 27,
   "metadata": {
    "collapsed": false
   },
   "outputs": [],
   "source": [
    "widgets.Text(\n",
    "    description=\"Name:\",\n",
    "    value=\"Hallo Welt\"\n",
    ")"
   ]
  },
  {
   "cell_type": "code",
   "execution_count": 28,
   "metadata": {
    "collapsed": true
   },
   "outputs": [],
   "source": [
    "widgets.Textarea(\n",
    "    description=\"Name:\",\n",
    "    value=\"Hallo Welt\"\n",
    ")"
   ]
  },
  {
   "cell_type": "code",
   "execution_count": null,
   "metadata": {
    "collapsed": true
   },
   "outputs": [],
   "source": []
  }
 ],
 "metadata": {
  "kernelspec": {
   "display_name": "Python 3",
   "language": "python",
   "name": "python3"
  },
  "language_info": {
   "codemirror_mode": {
    "name": "ipython",
    "version": 3
   },
   "file_extension": ".py",
   "mimetype": "text/x-python",
   "name": "python",
   "nbconvert_exporter": "python",
   "pygments_lexer": "ipython3",
   "version": "3.6.0"
  },
  "widgets": {
   "state": {
    "14bf4701b1c448739728753d8975a4a0": {
     "views": [
      {
       "cell_index": 8
      }
     ]
    },
    "30ad5b62d9c34726adcd15f8a8c3f80c": {
     "views": [
      {
       "cell_index": 10
      }
     ]
    },
    "7186ef1237b247048fbb354ae79653f6": {
     "views": [
      {
       "cell_index": 12
      }
     ]
    },
    "7f3e69fcecf648eba5f75f978c9fd6a9": {
     "views": [
      {
       "cell_index": 3
      }
     ]
    },
    "805b4eddfee6496da2f917dabab22fd0": {
     "views": [
      {
       "cell_index": 6
      }
     ]
    },
    "9ff1eb2780254d5e9e7b1f7df664ae27": {
     "views": [
      {
       "cell_index": 4
      }
     ]
    },
    "be54d8f43750464da4fd5ee334c0877b": {
     "views": [
      {
       "cell_index": 14
      }
     ]
    }
   },
   "version": "1.2.0"
  }
 },
 "nbformat": 4,
 "nbformat_minor": 2
}
