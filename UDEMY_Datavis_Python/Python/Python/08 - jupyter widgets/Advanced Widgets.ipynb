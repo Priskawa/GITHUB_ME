{
 "cells": [
  {
   "cell_type": "markdown",
   "metadata": {},
   "source": [
    "## Widgets kombinieren"
   ]
  },
  {
   "cell_type": "code",
   "execution_count": 1,
   "metadata": {
    "collapsed": true
   },
   "outputs": [],
   "source": [
    "import ipywidgets as widgets"
   ]
  },
  {
   "cell_type": "code",
   "execution_count": 2,
   "metadata": {
    "collapsed": true
   },
   "outputs": [],
   "source": [
    "year_company1 = widgets.IntSlider(min=2010, max=2020, value=2015, description=\"Jahr\")\n",
    "name_company1 = widgets.Text(description=\"Name\")\n",
    "\n",
    "year_company2 = widgets.IntSlider(min=2010, max=2020, value=2015, description=\"Jahr\")\n",
    "name_company2 = widgets.Text(description=\"Name\")"
   ]
  },
  {
   "cell_type": "code",
   "execution_count": 3,
   "metadata": {
    "collapsed": true
   },
   "outputs": [],
   "source": [
    "widgets.HBox([name_company1, year_company1])"
   ]
  },
  {
   "cell_type": "code",
   "execution_count": 4,
   "metadata": {
    "collapsed": true
   },
   "outputs": [],
   "source": [
    "controls_company1 = widgets.VBox([name_company1, year_company1])\n",
    "controls_company2 = widgets.VBox([name_company2, year_company2])"
   ]
  },
  {
   "cell_type": "code",
   "execution_count": 5,
   "metadata": {
    "collapsed": true
   },
   "outputs": [],
   "source": [
    "tabs = widgets.Tab([controls_company1, controls_company2])\n",
    "tabs.set_title(0, \"Firma 1\")\n",
    "tabs.set_title(1, \"Firma 2\")\n",
    "\n",
    "tabs"
   ]
  },
  {
   "cell_type": "code",
   "execution_count": null,
   "metadata": {
    "collapsed": true
   },
   "outputs": [],
   "source": []
  }
 ],
 "metadata": {
  "kernelspec": {
   "display_name": "Python 3",
   "language": "python",
   "name": "python3"
  },
  "language_info": {
   "codemirror_mode": {
    "name": "ipython",
    "version": 3
   },
   "file_extension": ".py",
   "mimetype": "text/x-python",
   "name": "python",
   "nbconvert_exporter": "python",
   "pygments_lexer": "ipython3",
   "version": "3.6.0"
  },
  "widgets": {
   "state": {
    "94101891d7a0420094dbe1fa3f960173": {
     "views": [
      {
       "cell_index": 3
      }
     ]
    },
    "9e1739e084724237bece78a3d733d209": {
     "views": [
      {
       "cell_index": 5
      }
     ]
    }
   },
   "version": "1.2.0"
  }
 },
 "nbformat": 4,
 "nbformat_minor": 2
}
