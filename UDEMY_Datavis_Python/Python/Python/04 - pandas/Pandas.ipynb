{
 "cells": [
  {
   "cell_type": "code",
   "execution_count": 9,
   "metadata": {
    "collapsed": false
   },
   "outputs": [],
   "source": [
    "import pandas as pd"
   ]
  },
  {
   "cell_type": "code",
   "execution_count": 20,
   "metadata": {
    "collapsed": true
   },
   "outputs": [],
   "source": [
    "df = pd.read_excel(\"./Firmeneinnahmen.xlsx\")"
   ]
  },
  {
   "cell_type": "code",
   "execution_count": 21,
   "metadata": {
    "collapsed": false
   },
   "outputs": [
    {
     "data": {
      "text/html": [
       "<div>\n",
       "<table border=\"1\" class=\"dataframe\">\n",
       "  <thead>\n",
       "    <tr style=\"text-align: right;\">\n",
       "      <th></th>\n",
       "      <th>Jahr</th>\n",
       "      <th>Einnahmen</th>\n",
       "      <th>Ausgaben</th>\n",
       "      <th>Notiz</th>\n",
       "    </tr>\n",
       "  </thead>\n",
       "  <tbody>\n",
       "    <tr>\n",
       "      <th>0</th>\n",
       "      <td>2011</td>\n",
       "      <td>150000.0</td>\n",
       "      <td>100000.0</td>\n",
       "      <td>Ein gutes Jahr</td>\n",
       "    </tr>\n",
       "    <tr>\n",
       "      <th>1</th>\n",
       "      <td>2012</td>\n",
       "      <td>124000.0</td>\n",
       "      <td>100000.0</td>\n",
       "      <td>Ein gutes Jahr</td>\n",
       "    </tr>\n",
       "    <tr>\n",
       "      <th>2</th>\n",
       "      <td>2013</td>\n",
       "      <td>342000.0</td>\n",
       "      <td>250000.0</td>\n",
       "      <td>Ein gutes Jahr</td>\n",
       "    </tr>\n",
       "    <tr>\n",
       "      <th>3</th>\n",
       "      <td>2014</td>\n",
       "      <td>300000.0</td>\n",
       "      <td>100000.0</td>\n",
       "      <td>Ein gutes Jahr</td>\n",
       "    </tr>\n",
       "    <tr>\n",
       "      <th>4</th>\n",
       "      <td>2015</td>\n",
       "      <td>250000.0</td>\n",
       "      <td>100000.0</td>\n",
       "      <td>Ein schlechtes Jahr</td>\n",
       "    </tr>\n",
       "  </tbody>\n",
       "</table>\n",
       "</div>"
      ],
      "text/plain": [
       "   Jahr  Einnahmen  Ausgaben                Notiz\n",
       "0  2011   150000.0  100000.0       Ein gutes Jahr\n",
       "1  2012   124000.0  100000.0       Ein gutes Jahr\n",
       "2  2013   342000.0  250000.0       Ein gutes Jahr\n",
       "3  2014   300000.0  100000.0       Ein gutes Jahr\n",
       "4  2015   250000.0  100000.0  Ein schlechtes Jahr"
      ]
     },
     "execution_count": 21,
     "metadata": {},
     "output_type": "execute_result"
    }
   ],
   "source": [
    "df.head()"
   ]
  },
  {
   "cell_type": "code",
   "execution_count": 22,
   "metadata": {
    "collapsed": false
   },
   "outputs": [
    {
     "data": {
      "text/html": [
       "<div>\n",
       "<table border=\"1\" class=\"dataframe\">\n",
       "  <thead>\n",
       "    <tr style=\"text-align: right;\">\n",
       "      <th></th>\n",
       "      <th>Jahr</th>\n",
       "      <th>Einnahmen</th>\n",
       "      <th>Ausgaben</th>\n",
       "      <th>Notiz</th>\n",
       "    </tr>\n",
       "  </thead>\n",
       "  <tbody>\n",
       "    <tr>\n",
       "      <th>0</th>\n",
       "      <td>2011</td>\n",
       "      <td>150000.0</td>\n",
       "      <td>100000.0</td>\n",
       "      <td>Ein gutes Jahr</td>\n",
       "    </tr>\n",
       "    <tr>\n",
       "      <th>1</th>\n",
       "      <td>2012</td>\n",
       "      <td>124000.0</td>\n",
       "      <td>100000.0</td>\n",
       "      <td>Ein gutes Jahr</td>\n",
       "    </tr>\n",
       "    <tr>\n",
       "      <th>2</th>\n",
       "      <td>2013</td>\n",
       "      <td>342000.0</td>\n",
       "      <td>250000.0</td>\n",
       "      <td>Ein gutes Jahr</td>\n",
       "    </tr>\n",
       "    <tr>\n",
       "      <th>3</th>\n",
       "      <td>2014</td>\n",
       "      <td>300000.0</td>\n",
       "      <td>100000.0</td>\n",
       "      <td>Ein gutes Jahr</td>\n",
       "    </tr>\n",
       "    <tr>\n",
       "      <th>4</th>\n",
       "      <td>2015</td>\n",
       "      <td>250000.0</td>\n",
       "      <td>100000.0</td>\n",
       "      <td>Ein schlechtes Jahr</td>\n",
       "    </tr>\n",
       "    <tr>\n",
       "      <th>5</th>\n",
       "      <td>2016</td>\n",
       "      <td>275000.0</td>\n",
       "      <td>150000.0</td>\n",
       "      <td>Was soll das?</td>\n",
       "    </tr>\n",
       "    <tr>\n",
       "      <th>6</th>\n",
       "      <td>2017</td>\n",
       "      <td>300000.0</td>\n",
       "      <td>200000.0</td>\n",
       "      <td>Noch ein Jahr</td>\n",
       "    </tr>\n",
       "    <tr>\n",
       "      <th>7</th>\n",
       "      <td>2018</td>\n",
       "      <td>250000.0</td>\n",
       "      <td>50000.0</td>\n",
       "      <td>Das Jahr 2018!</td>\n",
       "    </tr>\n",
       "    <tr>\n",
       "      <th>8</th>\n",
       "      <td>NaN</td>\n",
       "      <td>NaN</td>\n",
       "      <td>NaN</td>\n",
       "      <td>NaN</td>\n",
       "    </tr>\n",
       "    <tr>\n",
       "      <th>9</th>\n",
       "      <td>Gesamt:</td>\n",
       "      <td>1991000.0</td>\n",
       "      <td>1050000.0</td>\n",
       "      <td>NaN</td>\n",
       "    </tr>\n",
       "  </tbody>\n",
       "</table>\n",
       "</div>"
      ],
      "text/plain": [
       "      Jahr  Einnahmen   Ausgaben                Notiz\n",
       "0     2011   150000.0   100000.0       Ein gutes Jahr\n",
       "1     2012   124000.0   100000.0       Ein gutes Jahr\n",
       "2     2013   342000.0   250000.0       Ein gutes Jahr\n",
       "3     2014   300000.0   100000.0       Ein gutes Jahr\n",
       "4     2015   250000.0   100000.0  Ein schlechtes Jahr\n",
       "5     2016   275000.0   150000.0        Was soll das?\n",
       "6     2017   300000.0   200000.0        Noch ein Jahr\n",
       "7     2018   250000.0    50000.0       Das Jahr 2018!\n",
       "8      NaN        NaN        NaN                  NaN\n",
       "9  Gesamt:  1991000.0  1050000.0                  NaN"
      ]
     },
     "execution_count": 22,
     "metadata": {},
     "output_type": "execute_result"
    }
   ],
   "source": [
    "df"
   ]
  },
  {
   "cell_type": "code",
   "execution_count": 23,
   "metadata": {
    "collapsed": false
   },
   "outputs": [
    {
     "name": "stdout",
     "output_type": "stream",
     "text": [
      "<class 'pandas.core.frame.DataFrame'>\n",
      "RangeIndex: 10 entries, 0 to 9\n",
      "Data columns (total 4 columns):\n",
      "Jahr         9 non-null object\n",
      "Einnahmen    9 non-null float64\n",
      "Ausgaben     9 non-null float64\n",
      "Notiz        8 non-null object\n",
      "dtypes: float64(2), object(2)\n",
      "memory usage: 400.0+ bytes\n"
     ]
    }
   ],
   "source": [
    "df.info()"
   ]
  },
  {
   "cell_type": "code",
   "execution_count": null,
   "metadata": {
    "collapsed": false
   },
   "outputs": [],
   "source": []
  },
  {
   "cell_type": "code",
   "execution_count": null,
   "metadata": {
    "collapsed": true
   },
   "outputs": [],
   "source": []
  }
 ],
 "metadata": {
  "kernelspec": {
   "display_name": "Python 3",
   "language": "python",
   "name": "python3"
  },
  "language_info": {
   "codemirror_mode": {
    "name": "ipython",
    "version": 3
   },
   "file_extension": ".py",
   "mimetype": "text/x-python",
   "name": "python",
   "nbconvert_exporter": "python",
   "pygments_lexer": "ipython3",
   "version": "3.6.0"
  }
 },
 "nbformat": 4,
 "nbformat_minor": 2
}
