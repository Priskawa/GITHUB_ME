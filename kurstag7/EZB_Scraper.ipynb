{
 "cells": [
  {
   "cell_type": "code",
   "execution_count": 1,
   "metadata": {},
   "outputs": [],
   "source": [
    "import requests\n",
    "import pandas as pd\n",
    "from bs4 import BeautifulSoup"
   ]
  },
  {
   "cell_type": "code",
   "execution_count": 4,
   "metadata": {},
   "outputs": [],
   "source": [
    "r = requests.get(\"https://www.ecb.europa.eu/home/html/index.en.html\")\n",
    "soup = BeautifulSoup(r.text, \"html.parser\")\n"
   ]
  },
  {
   "cell_type": "code",
   "execution_count": 9,
   "metadata": {},
   "outputs": [],
   "source": [
    "percentage = soup.find_all(\"td\", {\"class\":\"stats-table-percentage\"})"
   ]
  },
  {
   "cell_type": "code",
   "execution_count": 14,
   "metadata": {},
   "outputs": [],
   "source": [
    "title = soup.find_all(\"td\", {\"class\":\"stats-table-figure\"})\n"
   ]
  },
  {
   "cell_type": "code",
   "execution_count": 15,
   "metadata": {},
   "outputs": [
    {
     "data": {
      "text/plain": [
       "'0.25%'"
      ]
     },
     "execution_count": 15,
     "metadata": {},
     "output_type": "execute_result"
    }
   ],
   "source": [
    "percentage[0].text.replace(\"\\xa0\",\"\")"
   ]
  },
  {
   "cell_type": "code",
   "execution_count": 16,
   "metadata": {},
   "outputs": [
    {
     "data": {
      "text/plain": [
       "'Marginal lending facility'"
      ]
     },
     "execution_count": 16,
     "metadata": {},
     "output_type": "execute_result"
    }
   ],
   "source": [
    "title[0].text"
   ]
  },
  {
   "cell_type": "code",
   "execution_count": 23,
   "metadata": {},
   "outputs": [],
   "source": [
    "percentagelist = []\n",
    "#hier beginnt der For-Loop\n",
    "\n",
    "for e, t in zip(percentage, title):\n",
    "    #1 hier lese ich aus beiden Liste die Elemente heraus\n",
    "    #2 Das e element aus der Percentage Liste berücksichtigt nur den Text\n",
    "    #und ersetzt die die Zeichenfolge xa0 mit nichts\n",
    "    #3 Das t Element zieht nur den Text aus dem html-tag.\n",
    "    #Daraus wird das minicict...\n",
    "    minidict = {\"Title\":t.text, \"Percentage\":e.text.replace(\"\\xa0\",\"\")}\n",
    "    \n",
    "    \n",
    "    #hier wird die erstellte minidict der percentagelist angehängt.\n",
    "    #Daraus entsteht eine Liste von Dictionaries.\n",
    " \n",
    "    percentagelist.append(minidict)"
   ]
  },
  {
   "cell_type": "code",
   "execution_count": 22,
   "metadata": {},
   "outputs": [],
   "source": [
    "#Die Liste wird in ein CSV abgespeichert\n",
    "\n",
    "pd.DataFrame(percentagelist).to_csv(\"percentage.csv\")"
   ]
  },
  {
   "cell_type": "code",
   "execution_count": null,
   "metadata": {},
   "outputs": [],
   "source": []
  },
  {
   "cell_type": "code",
   "execution_count": null,
   "metadata": {},
   "outputs": [],
   "source": []
  },
  {
   "cell_type": "code",
   "execution_count": null,
   "metadata": {},
   "outputs": [],
   "source": []
  },
  {
   "cell_type": "code",
   "execution_count": null,
   "metadata": {},
   "outputs": [],
   "source": []
  }
 ],
 "metadata": {
  "kernelspec": {
   "display_name": "Python 3",
   "language": "python",
   "name": "python3"
  },
  "language_info": {
   "codemirror_mode": {
    "name": "ipython",
    "version": 3
   },
   "file_extension": ".py",
   "mimetype": "text/x-python",
   "name": "python",
   "nbconvert_exporter": "python",
   "pygments_lexer": "ipython3",
   "version": "3.7.0"
  }
 },
 "nbformat": 4,
 "nbformat_minor": 2
}
