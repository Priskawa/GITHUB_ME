{
 "cells": [
  {
   "cell_type": "code",
   "execution_count": 1,
   "metadata": {},
   "outputs": [],
   "source": [
    "import requests\n",
    "import pandas as pd\n",
    "from bs4 import BeautifulSoup"
   ]
  },
  {
   "cell_type": "markdown",
   "metadata": {},
   "source": [
    "# Geöffnete Skilifte absaugen¶\n",
    "Teil 1: Liste mit allen Live-Skigebieten finden"
   ]
  },
  {
   "cell_type": "code",
   "execution_count": 2,
   "metadata": {},
   "outputs": [],
   "source": [
    "startseite = requests.get(\"https://www.bergfex.ch/schweiz/\").text\n",
    "soup_startseite = BeautifulSoup(startseite, \"html.parser\")"
   ]
  },
  {
   "cell_type": "markdown",
   "metadata": {},
   "source": [
    "Die Links heraussuchen\n"
   ]
  },
  {
   "cell_type": "code",
   "execution_count": null,
   "metadata": {},
   "outputs": [],
   "source": [
    "liveskigebiete = soup_startseite.find_all('li', {'style':'font-weight: bold;'})\n",
    "linkliste = []\n",
    "\n",
    "for gebiet in liveskigebiete:\n",
    "    link = gebiet.find('a')['href']\n",
    "    linkliste.append(link)"
   ]
  },
  {
   "cell_type": "code",
   "execution_count": null,
   "metadata": {},
   "outputs": [],
   "source": [
    "pd.DataFrame(linkliste).to_csv('skigebiete_linkliste.csv')\n"
   ]
  },
  {
   "cell_type": "code",
   "execution_count": null,
   "metadata": {},
   "outputs": [],
   "source": []
  },
  {
   "cell_type": "markdown",
   "metadata": {},
   "source": [
    "# Teil 2: Öffnungszeiten auslesen\n",
    "Leere Liste starten"
   ]
  },
  {
   "cell_type": "code",
   "execution_count": null,
   "metadata": {},
   "outputs": [],
   "source": [
    "skigebiete = []"
   ]
  },
  {
   "cell_type": "markdown",
   "metadata": {},
   "source": [
    "Seiten absaugen & souppieren"
   ]
  },
  {
   "cell_type": "code",
   "execution_count": 3,
   "metadata": {},
   "outputs": [],
   "source": [
    "#website = requests.get(\"https://www.bergfex.ch/ybrig/\").text\n",
    "website = requests.get(\"https://www.bergfex.ch/engelberg/\").text"
   ]
  },
  {
   "cell_type": "code",
   "execution_count": 4,
   "metadata": {},
   "outputs": [],
   "source": [
    "soup = BeautifulSoup(website, \"html.parser\")"
   ]
  },
  {
   "cell_type": "code",
   "execution_count": null,
   "metadata": {},
   "outputs": [],
   "source": [
    "# Titel des Skigebiets\n",
    "titel = soup.find('h1', {\"class\": \"has-sup\"})\n",
    "titel = (titel.text.replace(\"Skigebiet \", \"\"))\n",
    "# Offene Skilifte auslesen\n",
    "for skigebiet in soup.find_all('table', class_=\"schneewerte\"):\n",
    "    offenelifte = (skigebiet.find_all('td')[3].text).split(\" von \") # Auslesen im Format \"12 von 24\"\n",
    "    total = offenelifte[1].strip()\n",
    "    offen = offenelifte[0].strip()\n",
    "    skigebiete.append({\"titel\": titel, \"totallifte\": total, \"offen\": offen}) # In die finale Liste laden\n",
    "    \n",
    "    \n",
    "skigebiete"
   ]
  },
  {
   "cell_type": "code",
   "execution_count": null,
   "metadata": {},
   "outputs": [],
   "source": []
  },
  {
   "cell_type": "code",
   "execution_count": null,
   "metadata": {},
   "outputs": [],
   "source": []
  }
 ],
 "metadata": {
  "kernelspec": {
   "display_name": "Python 3",
   "language": "python",
   "name": "python3"
  },
  "language_info": {
   "codemirror_mode": {
    "name": "ipython",
    "version": 3
   },
   "file_extension": ".py",
   "mimetype": "text/x-python",
   "name": "python",
   "nbconvert_exporter": "python",
   "pygments_lexer": "ipython3",
   "version": "3.7.0"
  }
 },
 "nbformat": 4,
 "nbformat_minor": 2
}
