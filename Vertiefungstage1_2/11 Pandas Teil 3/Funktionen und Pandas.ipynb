{
 "cells": [
  {
   "cell_type": "markdown",
   "metadata": {},
   "source": [
    "# Funktionen und Pandas"
   ]
  },
  {
   "cell_type": "markdown",
   "metadata": {},
   "source": [
    "**Inhalt:** Komplexere Zellen- und Spalten-Operationen\n",
    "\n",
    "**Nötige Skills:** Einführung in Pandas\n",
    "\n",
    "**Lernziele:**\n",
    "- Mehrere Codezeilen zu Funktionen zusammenfassen\n",
    "- Funktionen auf bestimmte Bestandteile von Dataframes ausführen (apply, lambda)"
   ]
  },
  {
   "cell_type": "markdown",
   "metadata": {},
   "source": [
    "## Vorbereitung"
   ]
  },
  {
   "cell_type": "code",
   "execution_count": 1,
   "metadata": {},
   "outputs": [],
   "source": [
    "import pandas as pd"
   ]
  },
  {
   "cell_type": "code",
   "execution_count": 2,
   "metadata": {},
   "outputs": [],
   "source": [
    "# Platz für weitere Libraries, die Sie brauchen möchten...\n",
    "import requests"
   ]
  },
  {
   "cell_type": "code",
   "execution_count": 3,
   "metadata": {},
   "outputs": [],
   "source": [
    "from bs4 import BeautifulSoup"
   ]
  },
  {
   "cell_type": "markdown",
   "metadata": {},
   "source": [
    "## Review: eine einfache Funktion schreiben"
   ]
  },
  {
   "cell_type": "markdown",
   "metadata": {},
   "source": [
    "Zum Start kreieren wir uns eine Reihe von Funktionen, die wir später anwenden wollen. Be creative!"
   ]
  },
  {
   "cell_type": "markdown",
   "metadata": {},
   "source": [
    "Zum Beispiel:\n",
    "- eine Zalhlenoperation, die nicht auf einer Zeile platz hat (wenn, dann, etc.)\n",
    "- einen Input nehmen, eine API damit befragen\n",
    "- einen String durchsuchen und/oder modifizieren\n",
    "- Zahlen und Text nach einem bestimmten Muster formatieren\n",
    "\n",
    "Wichtig: Die Funktion muss irgendwas zurückgeben!!"
   ]
  },
  {
   "cell_type": "markdown",
   "metadata": {},
   "source": [
    "**To Do:** Schreiben und beschreiben Sie eine Funktion (eine auswählen, Code testen und in Slack!)"
   ]
  },
  {
   "cell_type": "markdown",
   "metadata": {},
   "source": [
    "**Eine Funktion, die etwas mit einer Zahl macht**"
   ]
  },
  {
   "cell_type": "code",
   "execution_count": null,
   "metadata": {
    "collapsed": true
   },
   "outputs": [],
   "source": [
    "# Hier Beschreibung einfügen\n",
    "def mach_was_mit_zahl(zahl):\n",
    "\n",
    "\n",
    "   \n",
    "    return ..."
   ]
  },
  {
   "cell_type": "code",
   "execution_count": 18,
   "metadata": {},
   "outputs": [],
   "source": [
    "# This function returns the number in reverse order\n",
    "#\n",
    "#\n",
    "def mach_was_mit_zahl(zahl):\n",
    "    \n",
    "    length = len(str(zahl))\n",
    "    #print(length)\n",
    "    zahl_in = str(zahl)\n",
    "    zahl_out = \"\"\n",
    "    x=0\n",
    "    \n",
    "    # Iterate through the length of the number\n",
    "    #\n",
    "    while x<length:        \n",
    "        character = zahl_in[length-1-x]\n",
    "        #print(character)\n",
    "        zahl_out = zahl_out + character\n",
    "        x = x + 1\n",
    "    \n",
    "    # return integer version\n",
    "    #\n",
    "    return int(zahl_out)"
   ]
  },
  {
   "cell_type": "markdown",
   "metadata": {},
   "source": [
    "Zum Testen:"
   ]
  },
  {
   "cell_type": "code",
   "execution_count": 19,
   "metadata": {},
   "outputs": [
    {
     "data": {
      "text/plain": [
       "563"
      ]
     },
     "execution_count": 19,
     "metadata": {},
     "output_type": "execute_result"
    }
   ],
   "source": [
    "mach_was_mit_zahl(365000)"
   ]
  },
  {
   "cell_type": "code",
   "execution_count": null,
   "metadata": {
    "collapsed": true
   },
   "outputs": [],
   "source": []
  },
  {
   "cell_type": "markdown",
   "metadata": {},
   "source": [
    "**Eine Funktion, die etwas mit einem Wort macht**"
   ]
  },
  {
   "cell_type": "code",
   "execution_count": 14,
   "metadata": {},
   "outputs": [],
   "source": [
    "# Hier Beschreibung einfügen\n",
    "\n",
    "    \n",
    "import random\n",
    "\n",
    "def wandle_in_geheimsprache_um(wort):\n",
    "    \n",
    "    vokale_klein = [\"a\", \"e\", \"i\", \"o\", \"u\"]\n",
    "    for vok in vokale_klein:\n",
    "        wort = wort.replace(vok, random.choice(vokale_klein))\n",
    "       \n",
    "    return wort\n",
    "\n",
    "    wandle_in_geheimsprache_um(\"Hallo Yannik, das Codewort heisst: Cordon-Bleu: Apfel\")\n",
    "    \n",
    "    \n",
    "    return "
   ]
  },
  {
   "cell_type": "markdown",
   "metadata": {},
   "source": [
    "Zum Testen:"
   ]
  },
  {
   "cell_type": "code",
   "execution_count": 15,
   "metadata": {},
   "outputs": [
    {
     "data": {
      "text/plain": [
       "'Schnaadar-Ammann'"
      ]
     },
     "execution_count": 15,
     "metadata": {},
     "output_type": "execute_result"
    }
   ],
   "source": [
    "wandle_in_geheimsprache_um(\"Schneider-Ammann\")"
   ]
  },
  {
   "cell_type": "code",
   "execution_count": null,
   "metadata": {
    "collapsed": true
   },
   "outputs": [],
   "source": []
  },
  {
   "cell_type": "markdown",
   "metadata": {},
   "source": [
    "**Eine Funktion, die etwas mit einem längeren Text macht**"
   ]
  },
  {
   "cell_type": "markdown",
   "metadata": {},
   "source": [
    "Zum Beispiel mit diesem hier:"
   ]
  },
  {
   "cell_type": "code",
   "execution_count": null,
   "metadata": {
    "collapsed": true
   },
   "outputs": [],
   "source": [
    "my_text = open('dataprojects/Songtexte/Züri West - I schänke dir mis Härz.txt', 'r').read()"
   ]
  },
  {
   "cell_type": "markdown",
   "metadata": {},
   "source": [
    "Für Ideen, hier eine Liste von Python's String-Funktionen: https://www.w3schools.com/python/python_ref_string.asp"
   ]
  },
  {
   "cell_type": "code",
   "execution_count": 16,
   "metadata": {},
   "outputs": [],
   "source": [
    "# Hier Beschreibung einfügen\n",
    "my_text = open('dataprojects/Songtexte/Züri West - I schänke dir mis Härz.txt', 'r').read()\n",
    "\n",
    "# Hier Beschreibung einfügen\n",
    "def mach_was_mit_text(text):\n",
    "        new_text = text.replace('Härz', 'Smartphone')\n",
    "        return new_text"
   ]
  },
  {
   "cell_type": "markdown",
   "metadata": {},
   "source": [
    "Zum Testen:"
   ]
  },
  {
   "cell_type": "code",
   "execution_count": 17,
   "metadata": {},
   "outputs": [
    {
     "data": {
      "text/plain": [
       "'I schänke dir mis Smartphone\\nMeh han i nid\\nDu chasch es ha, we dä wosch\\nEs isch es guets\\nU es git no mängi, wos würd näh,\\nAber dir würdis gäh\\nD szene isch ä chlini Bar\\nIrgenwo i dere Stadt\\nUnd i bsteue ä Whisky\\nHocke irgendwo ab\\nWos ke Platz u luege so chli ume\\nWär so umänang hocket\\nAber kenne tuä-ni niemer hie inne\\nÜberall hocke Lüt\\nhinger de Schampus-Chüble\\nGeng ä Frou u ne Typ\\nU nippe amne Flûte u hange angenang a\\nu rede öppis über nüt\\nU nume ig bi allei hie\\nu da wächslet ds\\'Liecht\\nHie u da verschwinde wider zwöi irgendwo\\nU irgendeinisch geit hinde\\nÄ dunkublaue Vorhang uuf\\nHinger em Vorhang hets ä Bühni\\nUf dr Bühni steit ä Frou\\nWo i dä Ungerhose irgendsone Show zeigt\\nI luege so chli zue\\nU i hocke so chli da\\nU gspüre plötzlech\\nDass i irgendsone Hang ufem Chnöi ha\\nU dräie mi um\\nU näbe mir hocket eini\\nWoni nie voher ha gseh\\nU fragt, ob ig alleini sig\\nU sie sig ou allei\\nI söu nid überlege\\nI gfaui re no so\\nu si wöu eifach chli rede\\nViellech sött i hie no säge\\nSie gseht schön us\\nSie isch ä schöni mit schöne, länge Haar\\nU klar bin i närvös worde\\nKlar han i drunke\\nU mit jedem Schlunk het sie mi no chli schöner afa dünke\\nU nach jedem Glas Champagner\\nHet sie gäng no eis wöue\\nI ha zaut u zaut\\nBis i eifach nüm ha chönne\\nU ha gseit:\"Hey,\\nWei mer nid zu mir oder so?\"\\nU sie het gseit:\\n\"I chönnt di so verwöhne.\\nSo ire haub Stung chönnti cho -\\nu jitz säg mer eifach numeno wiviu\\nSäg wiviu,\\nWiviu gisch mer, wenn i chume?\"\\nI schänke dir mis Smartphone meh han i nid\\nDu chasch es ha, we de wosch\\nes isch es guets und es git\\nno mängi, wos würd näh\\nAber dir würd is gä\\n'"
      ]
     },
     "execution_count": 17,
     "metadata": {},
     "output_type": "execute_result"
    }
   ],
   "source": [
    "mach_was_mit_text(my_text)"
   ]
  },
  {
   "cell_type": "code",
   "execution_count": null,
   "metadata": {
    "collapsed": true
   },
   "outputs": [],
   "source": []
  },
  {
   "cell_type": "code",
   "execution_count": null,
   "metadata": {
    "collapsed": true
   },
   "outputs": [],
   "source": []
  },
  {
   "cell_type": "markdown",
   "metadata": {},
   "source": [
    "**Eine Funktion, die etwas mit einem Dictionary macht**"
   ]
  },
  {
   "cell_type": "markdown",
   "metadata": {},
   "source": [
    "Zum Beispiel mit diesem hier:"
   ]
  },
  {
   "cell_type": "code",
   "execution_count": 8,
   "metadata": {},
   "outputs": [],
   "source": [
    "my_dictionary = {\n",
    "    'Rang': 20,\n",
    "    'Artist': 'Baschi',\n",
    "    'Titel': 'Bring en hei',\n",
    "    'Eintritt': '28.05.2006',\n",
    "    'Wochen': 100,\n",
    "    'Peak': 1,\n",
    "    'Punkte': 5356,\n",
    "    'Link': '/song/Baschi/Bring-en-hei-193080'\n",
    "}"
   ]
  },
  {
   "cell_type": "code",
   "execution_count": 9,
   "metadata": {},
   "outputs": [],
   "source": [
    "# Hier Beschreibung einfügen\n",
    "def mach_was_mit_dictionary(dic):\n",
    "    \n",
    "    endtext = \"Der Song \" + dic[\"Titel\"] + \" von \" + dic[\"Artist\"] + \" war \" + str(dic[\"Wochen\"]) + \"in den Charts.\"\n",
    "    endtext += \" Er war eine zeitlang auf dem \" + str(dic[\"Peak\"]) + \". Platz klassiert.\"\n",
    "      \n",
    "    return endtext\n",
    "      "
   ]
  },
  {
   "cell_type": "code",
   "execution_count": 10,
   "metadata": {},
   "outputs": [
    {
     "data": {
      "text/plain": [
       "'Der Song Bring en hei von Baschi war 100in den Charts. Er war eine zeitlang auf dem 1. Platz klassiert.'"
      ]
     },
     "execution_count": 10,
     "metadata": {},
     "output_type": "execute_result"
    }
   ],
   "source": [
    "mach_was_mit_dictionary(my_dictionary)"
   ]
  },
  {
   "cell_type": "code",
   "execution_count": null,
   "metadata": {
    "collapsed": true
   },
   "outputs": [],
   "source": []
  },
  {
   "cell_type": "markdown",
   "metadata": {},
   "source": [
    "## Funktion ausführen 1: List Comprehension"
   ]
  },
  {
   "cell_type": "markdown",
   "metadata": {},
   "source": [
    "Das kennen wir bereits: Wir wollen dieselbe Funktion auf alle Elemente in einer Liste anwenden!"
   ]
  },
  {
   "cell_type": "markdown",
   "metadata": {},
   "source": [
    "Zum Beispiel auf eine von diesen Listen: **Zahlen**"
   ]
  },
  {
   "cell_type": "code",
   "execution_count": 24,
   "metadata": {},
   "outputs": [],
   "source": [
    "zahlen = [10, 957, 4, 333888, 2]"
   ]
  },
  {
   "cell_type": "code",
   "execution_count": 25,
   "metadata": {},
   "outputs": [
    {
     "data": {
      "text/plain": [
       "[1, 759, 4, 888333, 2]"
      ]
     },
     "execution_count": 25,
     "metadata": {},
     "output_type": "execute_result"
    }
   ],
   "source": [
    "[mach_was_mit_zahl(zahl) for zahl in zahlen]"
   ]
  },
  {
   "cell_type": "markdown",
   "metadata": {},
   "source": [
    "**Wörter:**"
   ]
  },
  {
   "cell_type": "code",
   "execution_count": 26,
   "metadata": {},
   "outputs": [],
   "source": [
    "woerter = [\"Meier\", \"Schmidt\", \"orange\", \"Wauwau\", \"Milchstrasse\", \"Schneider-Ammann\"]"
   ]
  },
  {
   "cell_type": "code",
   "execution_count": 28,
   "metadata": {},
   "outputs": [
    {
     "data": {
      "text/plain": [
       "['Maaar', 'Schmedt', 'irungu', 'Wiiwii', 'Milchstrissi', 'Schneider-Amminn']"
      ]
     },
     "execution_count": 28,
     "metadata": {},
     "output_type": "execute_result"
    }
   ],
   "source": [
    "[wandle_in_geheimsprache_um(wort) for wort in woerter]"
   ]
  },
  {
   "cell_type": "markdown",
   "metadata": {},
   "source": [
    "**Texte:**"
   ]
  },
  {
   "cell_type": "code",
   "execution_count": 29,
   "metadata": {},
   "outputs": [],
   "source": [
    "files = [\n",
    "    'Züri West - I schänke dir mis Härz.txt',\n",
    "    'Patent Ochsner - Venus vo Bümpliz.txt',\n",
    "    'DJ Bobo - Chihuahua.txt'\n",
    "]"
   ]
  },
  {
   "cell_type": "code",
   "execution_count": 30,
   "metadata": {},
   "outputs": [],
   "source": [
    "texts = [open('dataprojects/Songtexte/' + file, \"r\").read() for file in files]"
   ]
  },
  {
   "cell_type": "code",
   "execution_count": 31,
   "metadata": {},
   "outputs": [
    {
     "data": {
      "text/plain": [
       "'I schänke dir mis Härz\\nMeh han i nid\\nDu chasch es ha, we dä wosch\\nEs isch es guets\\nU es git no mängi, wos würd näh,\\nAber dir würdis gäh\\nD szene isch ä chlini Bar\\nIrgenwo i dere Stadt\\nUnd i bsteue ä Whisky\\nHocke irgendwo ab\\nWos ke Platz u luege so chli ume\\nWär so umänang hocket\\nAber kenne tuä-ni niemer hie inne\\nÜberall hocke Lüt\\nhinger de Schampus-Chüble\\nGeng ä Frou u ne Typ\\nU nippe amne Flûte u hange angenang a\\nu rede öppis über nüt\\nU nume ig bi allei hie\\nu da wächslet ds\\'Liecht\\nHie u da verschwinde wider zwöi irgendwo\\nU irgendeinisch geit hinde\\nÄ dunkublaue Vorhang uuf\\nHinger em Vorhang hets ä Bühni\\nUf dr Bühni steit ä Frou\\nWo i dä Ungerhose irgendsone Show zeigt\\nI luege so chli zue\\nU i hocke so chli da\\nU gspüre plötzlech\\nDass i irgendsone Hang ufem Chnöi ha\\nU dräie mi um\\nU näbe mir hocket eini\\nWoni nie voher ha gseh\\nU fragt, ob ig alleini sig\\nU sie sig ou allei\\nI söu nid überlege\\nI gfaui re no so\\nu si wöu eifach chli rede\\nViellech sött i hie no säge\\nSie gseht schön us\\nSie isch ä schöni mit schöne, länge Haar\\nU klar bin i närvös worde\\nKlar han i drunke\\nU mit jedem Schlunk het sie mi no chli schöner afa dünke\\nU nach jedem Glas Champagner\\nHet sie gäng no eis wöue\\nI ha zaut u zaut\\nBis i eifach nüm ha chönne\\nU ha gseit:\"Hey,\\nWei mer nid zu mir oder so?\"\\nU sie het gseit:\\n\"I chönnt di so verwöhne.\\nSo ire haub Stung chönnti cho -\\nu jitz säg mer eifach numeno wiviu\\nSäg wiviu,\\nWiviu gisch mer, wenn i chume?\"\\nI schänke dir mis Härz meh han i nid\\nDu chasch es ha, we de wosch\\nes isch es guets und es git\\nno mängi, wos würd näh\\nAber dir würd is gä\\n'"
      ]
     },
     "execution_count": 31,
     "metadata": {},
     "output_type": "execute_result"
    }
   ],
   "source": [
    "texts[0]"
   ]
  },
  {
   "cell_type": "code",
   "execution_count": 34,
   "metadata": {},
   "outputs": [
    {
     "data": {
      "text/plain": [
       "['I schänke dir mis Smartphone\\nMeh han i nid\\nDu chasch es ha, we dä wosch\\nEs isch es guets\\nU es git no mängi, wos würd näh,\\nAber dir würdis gäh\\nD szene isch ä chlini Bar\\nIrgenwo i dere Stadt\\nUnd i bsteue ä Whisky\\nHocke irgendwo ab\\nWos ke Platz u luege so chli ume\\nWär so umänang hocket\\nAber kenne tuä-ni niemer hie inne\\nÜberall hocke Lüt\\nhinger de Schampus-Chüble\\nGeng ä Frou u ne Typ\\nU nippe amne Flûte u hange angenang a\\nu rede öppis über nüt\\nU nume ig bi allei hie\\nu da wächslet ds\\'Liecht\\nHie u da verschwinde wider zwöi irgendwo\\nU irgendeinisch geit hinde\\nÄ dunkublaue Vorhang uuf\\nHinger em Vorhang hets ä Bühni\\nUf dr Bühni steit ä Frou\\nWo i dä Ungerhose irgendsone Show zeigt\\nI luege so chli zue\\nU i hocke so chli da\\nU gspüre plötzlech\\nDass i irgendsone Hang ufem Chnöi ha\\nU dräie mi um\\nU näbe mir hocket eini\\nWoni nie voher ha gseh\\nU fragt, ob ig alleini sig\\nU sie sig ou allei\\nI söu nid überlege\\nI gfaui re no so\\nu si wöu eifach chli rede\\nViellech sött i hie no säge\\nSie gseht schön us\\nSie isch ä schöni mit schöne, länge Haar\\nU klar bin i närvös worde\\nKlar han i drunke\\nU mit jedem Schlunk het sie mi no chli schöner afa dünke\\nU nach jedem Glas Champagner\\nHet sie gäng no eis wöue\\nI ha zaut u zaut\\nBis i eifach nüm ha chönne\\nU ha gseit:\"Hey,\\nWei mer nid zu mir oder so?\"\\nU sie het gseit:\\n\"I chönnt di so verwöhne.\\nSo ire haub Stung chönnti cho -\\nu jitz säg mer eifach numeno wiviu\\nSäg wiviu,\\nWiviu gisch mer, wenn i chume?\"\\nI schänke dir mis Smartphone meh han i nid\\nDu chasch es ha, we de wosch\\nes isch es guets und es git\\nno mängi, wos würd näh\\nAber dir würd is gä\\n',\n",
       " \"D'w. Nuss vo Bümpliz geit dür d'Strass\\nliecht u flüchtig, wie nes ¨Gas\\nso unerreichbar höch\\n\\nBockstössigi Himbeerbuebe\\nschüüch u brav wie Schaf\\nschön föhnfrisiert\\nchöme tubetänzig nöch\\n\\nU d'Spargle wachse i bluetjung Morge\\nd'Sunne chunnt 's wird langsam warm\\n\\nSie het meh als hundert ching\\nu jede Früehlig git 's es nöis\\nhet d'Chiuchefänschterouge off\\nu macht se zue bi jedem Kuss\\nu we sie lachet wärde Bärge zu schtoub\\nu jedes zäihe Läderhärz wird weich\\n\\nD'w. Nuss vo Bümpliz\\nisch schön win es Füür i dr Nacht\\nwin e Rose im Schnee\\nwe se gseh duss in Bümpliz\\nde schlat mir mis Smartphone hert i Hals\\nu i gseh win i ungergah\\n\\nSi wohnt im ne Huus us Glas\\nhinger Türe ohni Schloss\\ngseht dür jedi Muur\\ndänkt wi nes Füürwärch\\nwin e Zuckerstock\\nläbt win e Wasserfau\\nfür si git's nüt, wo's nid git\\nu aus wo's git, git's nid für ging\\nsi nimmt's wi's chunnt u lat's la gah\\n\\nD'w. Nuss vo Bümpliz\\nisch schön win es Füür i dr Nacht\\nwin e Rose im Schnee\\nwe se gseh duss in Bümpliz\\nde schlat mir mis Smartphone hert i Hals\\nu i gseh win i ungergah\\n\",\n",
       " \"Chihuahua! x4\\n\\nOh, chihuahua!\\n\\nI'm walking in the street\\nAnd the moon shines bright\\nA little melody keeps feeling on my mind tonight\\nI gotcha!\\nIt's the song about Chihuahua\\nYeah, that's cool alright\\n\\nIt was fun\\nAnd a life without sorrow\\nFeels young\\nAnd when you think about tomorrow\\nSay YO!\\nWhen you're about to freak out\\nJust go and then shout it out loud\\n\\nChihuahua here\\nChihuahua there\\nEverybody wants it everywhere\\nSing it loud\\nAnd life can be so easy\\n\\nWhat can make you move, Chihuahua\\nCan you feel the groove Chihuahua\\nWhat can make you dance\\nOh Chihuahua!\\nWhat can make you sing Chihuahua\\nTake it and you win Chihuahua\\nWhat can bring you joy\\nOh Chihuahua!\\n\\nI'm driving in my car\\nLooking for a parking space\\nThere it is my place someone else wins the race\\nNO, I give up\\nToday is not my day\\nBut then I take a deep breathe and say:\\n\\nCalm down\\nWhen you're about to go crazy\\nTurn around\\nAnd feel as fresh as a daisy\\nJust run\\nBecause it's time to go\\nHave fun and let the whole world know\\n\\nChihuahua here\\nChihuahua there\\nEverybody wants it everywhere\\nSing it loud\\nAnd life can be so easy Chihuahua\\n\\nWhat can make you move Chihuahua\\nCan you feel the groove Chihuahua\\nWhat can make you dance\\nOh Chihuahua!\\nWhat can make you sing Chihuahua\\nTake it and you win Chihuahua\\nWhat can bring you joy\\nOh Chihuahua!\\n\\nChihuahua (8x)\\nOh Chihuahua!\\n\\nWhat can make you move Chihuahua\\nCan you feel the groove Chihuahua\\nWhat can make you dance\\nOh Chihuahua!\\nWhat can make you shout Chihuahua\\nWhat it's all about Chihuahua\\nWhat can bring you love\\nOh Chihuahua!\\n\"]"
      ]
     },
     "execution_count": 34,
     "metadata": {},
     "output_type": "execute_result"
    }
   ],
   "source": [
    "[mach_was_mit_text(text) for text in texts]"
   ]
  },
  {
   "cell_type": "code",
   "execution_count": null,
   "metadata": {
    "collapsed": true
   },
   "outputs": [],
   "source": []
  },
  {
   "cell_type": "code",
   "execution_count": null,
   "metadata": {
    "collapsed": true
   },
   "outputs": [],
   "source": []
  },
  {
   "cell_type": "markdown",
   "metadata": {},
   "source": [
    "## Funktion ausführen 2: Apply"
   ]
  },
  {
   "cell_type": "markdown",
   "metadata": {},
   "source": [
    "Apply ist ein ähnliches Prinzip wie List Comprehension - aber in Pandas.\n",
    "\n",
    "Um es auszuprobieren, stellen wir uns eine kleine Datenbank der besten alltime-Singles aus der Schweizer Hitparade zusammen und scrapen die Songtexte dazu.\n",
    "\n",
    "Quelle: https://hitparade.ch/charts/best/singles\n",
    "\n",
    "Quelle: https://www.songtexte.com/"
   ]
  },
  {
   "cell_type": "markdown",
   "metadata": {},
   "source": [
    "Das Scrape-File dazu findet sich hier: `dataprojects/Songtexte/scraper.ipynb`\n",
    "\n",
    "Das Daten-File hier: `dataprojects/Songtexte/charts_mit_texten.csv`"
   ]
  },
  {
   "cell_type": "code",
   "execution_count": 35,
   "metadata": {},
   "outputs": [],
   "source": [
    "df = pd.read_csv('dataprojects/Songtexte/charts_mit_texten.csv')"
   ]
  },
  {
   "cell_type": "code",
   "execution_count": 36,
   "metadata": {},
   "outputs": [
    {
     "data": {
      "text/html": [
       "<div>\n",
       "<style scoped>\n",
       "    .dataframe tbody tr th:only-of-type {\n",
       "        vertical-align: middle;\n",
       "    }\n",
       "\n",
       "    .dataframe tbody tr th {\n",
       "        vertical-align: top;\n",
       "    }\n",
       "\n",
       "    .dataframe thead th {\n",
       "        text-align: right;\n",
       "    }\n",
       "</style>\n",
       "<table border=\"1\" class=\"dataframe\">\n",
       "  <thead>\n",
       "    <tr style=\"text-align: right;\">\n",
       "      <th></th>\n",
       "      <th>Rang</th>\n",
       "      <th>Artist</th>\n",
       "      <th>Titel</th>\n",
       "      <th>Eintritt</th>\n",
       "      <th>Wochen</th>\n",
       "      <th>Peak</th>\n",
       "      <th>Punkte</th>\n",
       "      <th>Link</th>\n",
       "      <th>Songtext</th>\n",
       "    </tr>\n",
       "  </thead>\n",
       "  <tbody>\n",
       "    <tr>\n",
       "      <th>0</th>\n",
       "      <td>1</td>\n",
       "      <td>DJ Ötzi &amp; Nik P.</td>\n",
       "      <td>Ein Stern (... der deinen Namen trägt)</td>\n",
       "      <td>18.02.2007</td>\n",
       "      <td>118</td>\n",
       "      <td>2</td>\n",
       "      <td>8109</td>\n",
       "      <td>/song/DJ-Oetzi-&amp;-Nik-P./Ein-Stern-(...-der-dei...</td>\n",
       "      <td>Einen Stern, der deinen Namen trägt\\nHoch am H...</td>\n",
       "    </tr>\n",
       "    <tr>\n",
       "      <th>1</th>\n",
       "      <td>2</td>\n",
       "      <td>Ed Sheeran</td>\n",
       "      <td>Shape Of You</td>\n",
       "      <td>15.01.2017</td>\n",
       "      <td>93</td>\n",
       "      <td>1</td>\n",
       "      <td>7196</td>\n",
       "      <td>/song/Ed-Sheeran/Shape-Of-You-1622943</td>\n",
       "      <td>The club isn't the best place to find a lover\\...</td>\n",
       "    </tr>\n",
       "    <tr>\n",
       "      <th>2</th>\n",
       "      <td>3</td>\n",
       "      <td>Luis Fonsi feat. Daddy Yankee</td>\n",
       "      <td>Despacito</td>\n",
       "      <td>22.01.2017</td>\n",
       "      <td>90</td>\n",
       "      <td>1</td>\n",
       "      <td>6854</td>\n",
       "      <td>/song/Luis-Fonsi-feat.-Daddy-Yankee/Despacito-...</td>\n",
       "      <td>Ay\\nFonsi, DY\\nOh, oh no, oh no (ey)\\nHey, yea...</td>\n",
       "    </tr>\n",
       "    <tr>\n",
       "      <th>3</th>\n",
       "      <td>4</td>\n",
       "      <td>DJ Antoine feat. The Beat Shakers</td>\n",
       "      <td>\"Ma chérie\"</td>\n",
       "      <td>06.06.2010</td>\n",
       "      <td>99</td>\n",
       "      <td>2</td>\n",
       "      <td>6745</td>\n",
       "      <td>/song/DJ-Antoine-feat.-The-Beat-Shakers/Ma-che...</td>\n",
       "      <td>When I look into your eyes\\nI see rainbows in ...</td>\n",
       "    </tr>\n",
       "    <tr>\n",
       "      <th>4</th>\n",
       "      <td>5</td>\n",
       "      <td>Adele</td>\n",
       "      <td>Rolling In The Deep</td>\n",
       "      <td>30.01.2011</td>\n",
       "      <td>93</td>\n",
       "      <td>1</td>\n",
       "      <td>6588</td>\n",
       "      <td>/song/Adele/Rolling-In-The-Deep-767937</td>\n",
       "      <td>There's a fire starting in my heart\\nReaching ...</td>\n",
       "    </tr>\n",
       "  </tbody>\n",
       "</table>\n",
       "</div>"
      ],
      "text/plain": [
       "   Rang                             Artist  \\\n",
       "0     1                   DJ Ötzi & Nik P.   \n",
       "1     2                         Ed Sheeran   \n",
       "2     3      Luis Fonsi feat. Daddy Yankee   \n",
       "3     4  DJ Antoine feat. The Beat Shakers   \n",
       "4     5                              Adele   \n",
       "\n",
       "                                    Titel    Eintritt  Wochen  Peak  Punkte  \\\n",
       "0  Ein Stern (... der deinen Namen trägt)  18.02.2007     118     2    8109   \n",
       "1                            Shape Of You  15.01.2017      93     1    7196   \n",
       "2                               Despacito  22.01.2017      90     1    6854   \n",
       "3                             \"Ma chérie\"  06.06.2010      99     2    6745   \n",
       "4                     Rolling In The Deep  30.01.2011      93     1    6588   \n",
       "\n",
       "                                                Link  \\\n",
       "0  /song/DJ-Oetzi-&-Nik-P./Ein-Stern-(...-der-dei...   \n",
       "1              /song/Ed-Sheeran/Shape-Of-You-1622943   \n",
       "2  /song/Luis-Fonsi-feat.-Daddy-Yankee/Despacito-...   \n",
       "3  /song/DJ-Antoine-feat.-The-Beat-Shakers/Ma-che...   \n",
       "4             /song/Adele/Rolling-In-The-Deep-767937   \n",
       "\n",
       "                                            Songtext  \n",
       "0  Einen Stern, der deinen Namen trägt\\nHoch am H...  \n",
       "1  The club isn't the best place to find a lover\\...  \n",
       "2  Ay\\nFonsi, DY\\nOh, oh no, oh no (ey)\\nHey, yea...  \n",
       "3  When I look into your eyes\\nI see rainbows in ...  \n",
       "4  There's a fire starting in my heart\\nReaching ...  "
      ]
     },
     "execution_count": 36,
     "metadata": {},
     "output_type": "execute_result"
    }
   ],
   "source": [
    "df.head()"
   ]
  },
  {
   "cell_type": "markdown",
   "metadata": {},
   "source": [
    "### Apply mit einzelnen Einträgen"
   ]
  },
  {
   "cell_type": "markdown",
   "metadata": {},
   "source": [
    "Wir probieren jetz an diesem Datenset unsere obigen Funktionen aus.\n",
    "\n",
    "Das Prinzip: Wir nehmen eine Spalte, und wenden auf jeden einzelnen Eitrag darin eine Funktion an.\n",
    "\n",
    "Zum Beispiel auf alle Einträge in der Spalte \"Punkte\":"
   ]
  },
  {
   "cell_type": "code",
   "execution_count": 37,
   "metadata": {},
   "outputs": [
    {
     "data": {
      "text/plain": [
       "0     9018\n",
       "1     6917\n",
       "2     4586\n",
       "3     5476\n",
       "4     8856\n",
       "5     7456\n",
       "6     5216\n",
       "7     5806\n",
       "8     4006\n",
       "9     1006\n",
       "10    3985\n",
       "11    2485\n",
       "12    4775\n",
       "13    3665\n",
       "14    7265\n",
       "15    2655\n",
       "16    6355\n",
       "17    5945\n",
       "18    5635\n",
       "19    6535\n",
       "20    6825\n",
       "21    3125\n",
       "22    8515\n",
       "23    6515\n",
       "24    4115\n",
       "25    7505\n",
       "26    9694\n",
       "27    5594\n",
       "28    4984\n",
       "29    8584\n",
       "      ... \n",
       "70    6614\n",
       "71    8514\n",
       "72    8514\n",
       "73    2514\n",
       "74     514\n",
       "75    1314\n",
       "76    1214\n",
       "77    3114\n",
       "78    8804\n",
       "79    5504\n",
       "80    4404\n",
       "81    8204\n",
       "82    7104\n",
       "83    3104\n",
       "84    8993\n",
       "85    3993\n",
       "86    2993\n",
       "87    3893\n",
       "88    9793\n",
       "89    9693\n",
       "90    5593\n",
       "91    9393\n",
       "92    4393\n",
       "93     393\n",
       "94    2293\n",
       "95    2093\n",
       "96    9983\n",
       "97    4983\n",
       "98    7783\n",
       "99    3783\n",
       "Name: Punkte, Length: 100, dtype: int64"
      ]
     },
     "execution_count": 37,
     "metadata": {},
     "output_type": "execute_result"
    }
   ],
   "source": [
    "df['Punkte'].apply(mach_was_mit_zahl)\n",
    "\n",
    "# .apply wendet eine Funktion an, hier auf \"Punkte\""
   ]
  },
  {
   "cell_type": "markdown",
   "metadata": {},
   "source": [
    "Warum funktioniert das hier nicht?"
   ]
  },
  {
   "cell_type": "code",
   "execution_count": 38,
   "metadata": {},
   "outputs": [
    {
     "ename": "ValueError",
     "evalue": "invalid literal for int() with base 10: '46tni :epytd ,001 :htgneL ,etknuP :emaN\\n3783    99\\n7783    89\\n4983    79\\n9983    69\\n2093    59\\n2293    49\\n0393    39\\n4393    29\\n9393    19\\n5593    09\\n9693    98\\n9793    88\\n3893    78\\n29",
     "output_type": "error",
     "traceback": [
      "\u001b[0;31m---------------------------------------------------------------------------\u001b[0m",
      "\u001b[0;31mValueError\u001b[0m                                Traceback (most recent call last)",
      "\u001b[0;32m<ipython-input-38-1240be5e8334>\u001b[0m in \u001b[0;36m<module>\u001b[0;34m()\u001b[0m\n\u001b[0;32m----> 1\u001b[0;31m \u001b[0mmach_was_mit_zahl\u001b[0m\u001b[0;34m(\u001b[0m\u001b[0mdf\u001b[0m\u001b[0;34m[\u001b[0m\u001b[0;34m'Punkte'\u001b[0m\u001b[0;34m]\u001b[0m\u001b[0;34m)\u001b[0m\u001b[0;34m\u001b[0m\u001b[0m\n\u001b[0m",
      "\u001b[0;32m<ipython-input-18-9b7684c4a486>\u001b[0m in \u001b[0;36mmach_was_mit_zahl\u001b[0;34m(zahl)\u001b[0m\n\u001b[1;32m     20\u001b[0m     \u001b[0;31m# return integer version\u001b[0m\u001b[0;34m\u001b[0m\u001b[0;34m\u001b[0m\u001b[0m\n\u001b[1;32m     21\u001b[0m     \u001b[0;31m#\u001b[0m\u001b[0;34m\u001b[0m\u001b[0;34m\u001b[0m\u001b[0m\n\u001b[0;32m---> 22\u001b[0;31m     \u001b[0;32mreturn\u001b[0m \u001b[0mint\u001b[0m\u001b[0;34m(\u001b[0m\u001b[0mzahl_out\u001b[0m\u001b[0;34m)\u001b[0m\u001b[0;34m\u001b[0m\u001b[0m\n\u001b[0m",
      "\u001b[0;31mValueError\u001b[0m: invalid literal for int() with base 10: '46tni :epytd ,001 :htgneL ,etknuP :emaN\\n3783    99\\n7783    89\\n4983    79\\n9983    69\\n2093    59\\n2293    49\\n0393    39\\n4393    29\\n9393    19\\n5593    09\\n9693    98\\n9793    88\\n3893    78\\n29"
     ]
    }
   ],
   "source": [
    "mach_was_mit_zahl(df['Punkte'])"
   ]
  },
  {
   "cell_type": "markdown",
   "metadata": {},
   "source": [
    "Wenn die Funktion `apply()` auf eine Serie angewendet wird, generiert sie - eine Serie. Wir können diese Serie als Spalte an die Tabelle anfügen.\n",
    "\n",
    "Zum Beispiel mit unserer Zahlen-Funktion:"
   ]
  },
  {
   "cell_type": "code",
   "execution_count": 39,
   "metadata": {},
   "outputs": [],
   "source": [
    "df['Punkte_Formatiert'] = df['Punkte'].apply(mach_was_mit_zahl)"
   ]
  },
  {
   "cell_type": "code",
   "execution_count": 40,
   "metadata": {},
   "outputs": [
    {
     "data": {
      "text/html": [
       "<div>\n",
       "<style scoped>\n",
       "    .dataframe tbody tr th:only-of-type {\n",
       "        vertical-align: middle;\n",
       "    }\n",
       "\n",
       "    .dataframe tbody tr th {\n",
       "        vertical-align: top;\n",
       "    }\n",
       "\n",
       "    .dataframe thead th {\n",
       "        text-align: right;\n",
       "    }\n",
       "</style>\n",
       "<table border=\"1\" class=\"dataframe\">\n",
       "  <thead>\n",
       "    <tr style=\"text-align: right;\">\n",
       "      <th></th>\n",
       "      <th>Rang</th>\n",
       "      <th>Artist</th>\n",
       "      <th>Titel</th>\n",
       "      <th>Eintritt</th>\n",
       "      <th>Wochen</th>\n",
       "      <th>Peak</th>\n",
       "      <th>Punkte</th>\n",
       "      <th>Link</th>\n",
       "      <th>Songtext</th>\n",
       "      <th>Punkte_Formatiert</th>\n",
       "    </tr>\n",
       "  </thead>\n",
       "  <tbody>\n",
       "    <tr>\n",
       "      <th>0</th>\n",
       "      <td>1</td>\n",
       "      <td>DJ Ötzi &amp; Nik P.</td>\n",
       "      <td>Ein Stern (... der deinen Namen trägt)</td>\n",
       "      <td>18.02.2007</td>\n",
       "      <td>118</td>\n",
       "      <td>2</td>\n",
       "      <td>8109</td>\n",
       "      <td>/song/DJ-Oetzi-&amp;-Nik-P./Ein-Stern-(...-der-dei...</td>\n",
       "      <td>Einen Stern, der deinen Namen trägt\\nHoch am H...</td>\n",
       "      <td>9018</td>\n",
       "    </tr>\n",
       "    <tr>\n",
       "      <th>1</th>\n",
       "      <td>2</td>\n",
       "      <td>Ed Sheeran</td>\n",
       "      <td>Shape Of You</td>\n",
       "      <td>15.01.2017</td>\n",
       "      <td>93</td>\n",
       "      <td>1</td>\n",
       "      <td>7196</td>\n",
       "      <td>/song/Ed-Sheeran/Shape-Of-You-1622943</td>\n",
       "      <td>The club isn't the best place to find a lover\\...</td>\n",
       "      <td>6917</td>\n",
       "    </tr>\n",
       "    <tr>\n",
       "      <th>2</th>\n",
       "      <td>3</td>\n",
       "      <td>Luis Fonsi feat. Daddy Yankee</td>\n",
       "      <td>Despacito</td>\n",
       "      <td>22.01.2017</td>\n",
       "      <td>90</td>\n",
       "      <td>1</td>\n",
       "      <td>6854</td>\n",
       "      <td>/song/Luis-Fonsi-feat.-Daddy-Yankee/Despacito-...</td>\n",
       "      <td>Ay\\nFonsi, DY\\nOh, oh no, oh no (ey)\\nHey, yea...</td>\n",
       "      <td>4586</td>\n",
       "    </tr>\n",
       "    <tr>\n",
       "      <th>3</th>\n",
       "      <td>4</td>\n",
       "      <td>DJ Antoine feat. The Beat Shakers</td>\n",
       "      <td>\"Ma chérie\"</td>\n",
       "      <td>06.06.2010</td>\n",
       "      <td>99</td>\n",
       "      <td>2</td>\n",
       "      <td>6745</td>\n",
       "      <td>/song/DJ-Antoine-feat.-The-Beat-Shakers/Ma-che...</td>\n",
       "      <td>When I look into your eyes\\nI see rainbows in ...</td>\n",
       "      <td>5476</td>\n",
       "    </tr>\n",
       "    <tr>\n",
       "      <th>4</th>\n",
       "      <td>5</td>\n",
       "      <td>Adele</td>\n",
       "      <td>Rolling In The Deep</td>\n",
       "      <td>30.01.2011</td>\n",
       "      <td>93</td>\n",
       "      <td>1</td>\n",
       "      <td>6588</td>\n",
       "      <td>/song/Adele/Rolling-In-The-Deep-767937</td>\n",
       "      <td>There's a fire starting in my heart\\nReaching ...</td>\n",
       "      <td>8856</td>\n",
       "    </tr>\n",
       "  </tbody>\n",
       "</table>\n",
       "</div>"
      ],
      "text/plain": [
       "   Rang                             Artist  \\\n",
       "0     1                   DJ Ötzi & Nik P.   \n",
       "1     2                         Ed Sheeran   \n",
       "2     3      Luis Fonsi feat. Daddy Yankee   \n",
       "3     4  DJ Antoine feat. The Beat Shakers   \n",
       "4     5                              Adele   \n",
       "\n",
       "                                    Titel    Eintritt  Wochen  Peak  Punkte  \\\n",
       "0  Ein Stern (... der deinen Namen trägt)  18.02.2007     118     2    8109   \n",
       "1                            Shape Of You  15.01.2017      93     1    7196   \n",
       "2                               Despacito  22.01.2017      90     1    6854   \n",
       "3                             \"Ma chérie\"  06.06.2010      99     2    6745   \n",
       "4                     Rolling In The Deep  30.01.2011      93     1    6588   \n",
       "\n",
       "                                                Link  \\\n",
       "0  /song/DJ-Oetzi-&-Nik-P./Ein-Stern-(...-der-dei...   \n",
       "1              /song/Ed-Sheeran/Shape-Of-You-1622943   \n",
       "2  /song/Luis-Fonsi-feat.-Daddy-Yankee/Despacito-...   \n",
       "3  /song/DJ-Antoine-feat.-The-Beat-Shakers/Ma-che...   \n",
       "4             /song/Adele/Rolling-In-The-Deep-767937   \n",
       "\n",
       "                                            Songtext  Punkte_Formatiert  \n",
       "0  Einen Stern, der deinen Namen trägt\\nHoch am H...               9018  \n",
       "1  The club isn't the best place to find a lover\\...               6917  \n",
       "2  Ay\\nFonsi, DY\\nOh, oh no, oh no (ey)\\nHey, yea...               4586  \n",
       "3  When I look into your eyes\\nI see rainbows in ...               5476  \n",
       "4  There's a fire starting in my heart\\nReaching ...               8856  "
      ]
     },
     "execution_count": 40,
     "metadata": {},
     "output_type": "execute_result"
    }
   ],
   "source": [
    "df.head()"
   ]
  },
  {
   "cell_type": "markdown",
   "metadata": {},
   "source": [
    "Oder mit der Wort-Funktion:"
   ]
  },
  {
   "cell_type": "code",
   "execution_count": 42,
   "metadata": {},
   "outputs": [],
   "source": [
    "#Testen Sie hier Ihre Wort-Funktion\n",
    "df['Anzahl Telefonbucheinträge'] = df['Artist'].apply(wandle_in_geheimsprache_um)"
   ]
  },
  {
   "cell_type": "code",
   "execution_count": 43,
   "metadata": {},
   "outputs": [
    {
     "data": {
      "text/html": [
       "<div>\n",
       "<style scoped>\n",
       "    .dataframe tbody tr th:only-of-type {\n",
       "        vertical-align: middle;\n",
       "    }\n",
       "\n",
       "    .dataframe tbody tr th {\n",
       "        vertical-align: top;\n",
       "    }\n",
       "\n",
       "    .dataframe thead th {\n",
       "        text-align: right;\n",
       "    }\n",
       "</style>\n",
       "<table border=\"1\" class=\"dataframe\">\n",
       "  <thead>\n",
       "    <tr style=\"text-align: right;\">\n",
       "      <th></th>\n",
       "      <th>Rang</th>\n",
       "      <th>Artist</th>\n",
       "      <th>Titel</th>\n",
       "      <th>Eintritt</th>\n",
       "      <th>Wochen</th>\n",
       "      <th>Peak</th>\n",
       "      <th>Punkte</th>\n",
       "      <th>Link</th>\n",
       "      <th>Songtext</th>\n",
       "      <th>Punkte_Formatiert</th>\n",
       "      <th>Anzahl Telefonbucheinträge</th>\n",
       "    </tr>\n",
       "  </thead>\n",
       "  <tbody>\n",
       "    <tr>\n",
       "      <th>87</th>\n",
       "      <td>88</td>\n",
       "      <td>Yves Larock</td>\n",
       "      <td>Rise Up</td>\n",
       "      <td>07.10.2007</td>\n",
       "      <td>88</td>\n",
       "      <td>16</td>\n",
       "      <td>3983</td>\n",
       "      <td>/song/Yves-Larock/Rise-Up-335302</td>\n",
       "      <td>Eh!\\n\\nRise up\\n\\nDon't you fall down again\\nR...</td>\n",
       "      <td>3893</td>\n",
       "      <td>Yvas Larick</td>\n",
       "    </tr>\n",
       "    <tr>\n",
       "      <th>39</th>\n",
       "      <td>40</td>\n",
       "      <td>Wham!</td>\n",
       "      <td>Last Christmas</td>\n",
       "      <td>13.01.1985</td>\n",
       "      <td>78</td>\n",
       "      <td>4</td>\n",
       "      <td>4669</td>\n",
       "      <td>/song/Wham!/Last-Christmas-1203</td>\n",
       "      <td>Last Christmas I gave you my heart\\nBut the ve...</td>\n",
       "      <td>9664</td>\n",
       "      <td>Wham!</td>\n",
       "    </tr>\n",
       "    <tr>\n",
       "      <th>36</th>\n",
       "      <td>37</td>\n",
       "      <td>Unheilig</td>\n",
       "      <td>Geboren um zu leben</td>\n",
       "      <td>28.02.2010</td>\n",
       "      <td>84</td>\n",
       "      <td>13</td>\n",
       "      <td>4678</td>\n",
       "      <td>/song/Unheilig/Geboren-um-zu-leben-665166</td>\n",
       "      <td>Es fällt mir schwer\\nohne Dich zu leben\\nJeden...</td>\n",
       "      <td>8764</td>\n",
       "      <td>Unhoolog</td>\n",
       "    </tr>\n",
       "    <tr>\n",
       "      <th>16</th>\n",
       "      <td>17</td>\n",
       "      <td>Timbaland Presents OneRepublic</td>\n",
       "      <td>Apologize</td>\n",
       "      <td>04.11.2007</td>\n",
       "      <td>89</td>\n",
       "      <td>1</td>\n",
       "      <td>5536</td>\n",
       "      <td>/song/Timbaland-Presents-OneRepublic/Apologize...</td>\n",
       "      <td>I'm holding on your rope\\nGot me ten feet off ...</td>\n",
       "      <td>6355</td>\n",
       "      <td>Timbilind Presents OneRepeblic</td>\n",
       "    </tr>\n",
       "    <tr>\n",
       "      <th>7</th>\n",
       "      <td>8</td>\n",
       "      <td>The Black Eyed Peas</td>\n",
       "      <td>I Gotta Feeling</td>\n",
       "      <td>19.07.2009</td>\n",
       "      <td>87</td>\n",
       "      <td>1</td>\n",
       "      <td>6085</td>\n",
       "      <td>/song/The-Black-Eyed-Peas/I-Gotta-Feeling-584715</td>\n",
       "      <td>I gotta feeling\\nThat tonight's gonna be a goo...</td>\n",
       "      <td>5806</td>\n",
       "      <td>Tha Black Eyad Paas</td>\n",
       "    </tr>\n",
       "    <tr>\n",
       "      <th>65</th>\n",
       "      <td>66</td>\n",
       "      <td>Tom Odell</td>\n",
       "      <td>Another Love</td>\n",
       "      <td>17.02.2013</td>\n",
       "      <td>85</td>\n",
       "      <td>23</td>\n",
       "      <td>4239</td>\n",
       "      <td>/song/Tom-Odell/Another-Love-1084143</td>\n",
       "      <td>I wanna take you somewhere so you know I care\\...</td>\n",
       "      <td>9324</td>\n",
       "      <td>Tem Odell</td>\n",
       "    </tr>\n",
       "    <tr>\n",
       "      <th>62</th>\n",
       "      <td>63</td>\n",
       "      <td>Tiziano Ferro</td>\n",
       "      <td>Xdono</td>\n",
       "      <td>30.09.2001</td>\n",
       "      <td>61</td>\n",
       "      <td>4</td>\n",
       "      <td>4290</td>\n",
       "      <td>/song/Tiziano-Ferro/Xdono-4883</td>\n",
       "      <td>NaN</td>\n",
       "      <td>924</td>\n",
       "      <td>Tazaono Farro</td>\n",
       "    </tr>\n",
       "    <tr>\n",
       "      <th>33</th>\n",
       "      <td>34</td>\n",
       "      <td>Stromae</td>\n",
       "      <td>Alors on danse</td>\n",
       "      <td>21.02.2010</td>\n",
       "      <td>69</td>\n",
       "      <td>1</td>\n",
       "      <td>4709</td>\n",
       "      <td>/song/Stromae/Alors-on-danse-604548</td>\n",
       "      <td>NaN</td>\n",
       "      <td>9074</td>\n",
       "      <td>Stromoo</td>\n",
       "    </tr>\n",
       "    <tr>\n",
       "      <th>66</th>\n",
       "      <td>67</td>\n",
       "      <td>Stromae</td>\n",
       "      <td>Papaoutai</td>\n",
       "      <td>23.06.2013</td>\n",
       "      <td>58</td>\n",
       "      <td>4</td>\n",
       "      <td>4218</td>\n",
       "      <td>/song/Stromae/Papaoutai-1142159</td>\n",
       "      <td>NaN</td>\n",
       "      <td>8124</td>\n",
       "      <td>Stremae</td>\n",
       "    </tr>\n",
       "    <tr>\n",
       "      <th>72</th>\n",
       "      <td>73</td>\n",
       "      <td>Snow Patrol</td>\n",
       "      <td>Chasing Cars</td>\n",
       "      <td>26.11.2006</td>\n",
       "      <td>106</td>\n",
       "      <td>4</td>\n",
       "      <td>4158</td>\n",
       "      <td>/song/Snow-Patrol/Chasing-Cars-207283</td>\n",
       "      <td>We'll do it all\\nEverything\\nOn our own\\nWe do...</td>\n",
       "      <td>8514</td>\n",
       "      <td>Snaw Patral</td>\n",
       "    </tr>\n",
       "  </tbody>\n",
       "</table>\n",
       "</div>"
      ],
      "text/plain": [
       "    Rang                          Artist                Titel    Eintritt  \\\n",
       "87    88                     Yves Larock              Rise Up  07.10.2007   \n",
       "39    40                           Wham!       Last Christmas  13.01.1985   \n",
       "36    37                        Unheilig  Geboren um zu leben  28.02.2010   \n",
       "16    17  Timbaland Presents OneRepublic            Apologize  04.11.2007   \n",
       "7      8             The Black Eyed Peas      I Gotta Feeling  19.07.2009   \n",
       "65    66                       Tom Odell         Another Love  17.02.2013   \n",
       "62    63                   Tiziano Ferro                Xdono  30.09.2001   \n",
       "33    34                         Stromae       Alors on danse  21.02.2010   \n",
       "66    67                         Stromae            Papaoutai  23.06.2013   \n",
       "72    73                     Snow Patrol         Chasing Cars  26.11.2006   \n",
       "\n",
       "    Wochen  Peak  Punkte                                               Link  \\\n",
       "87      88    16    3983                   /song/Yves-Larock/Rise-Up-335302   \n",
       "39      78     4    4669                    /song/Wham!/Last-Christmas-1203   \n",
       "36      84    13    4678          /song/Unheilig/Geboren-um-zu-leben-665166   \n",
       "16      89     1    5536  /song/Timbaland-Presents-OneRepublic/Apologize...   \n",
       "7       87     1    6085   /song/The-Black-Eyed-Peas/I-Gotta-Feeling-584715   \n",
       "65      85    23    4239               /song/Tom-Odell/Another-Love-1084143   \n",
       "62      61     4    4290                     /song/Tiziano-Ferro/Xdono-4883   \n",
       "33      69     1    4709                /song/Stromae/Alors-on-danse-604548   \n",
       "66      58     4    4218                    /song/Stromae/Papaoutai-1142159   \n",
       "72     106     4    4158              /song/Snow-Patrol/Chasing-Cars-207283   \n",
       "\n",
       "                                             Songtext  Punkte_Formatiert  \\\n",
       "87  Eh!\\n\\nRise up\\n\\nDon't you fall down again\\nR...               3893   \n",
       "39  Last Christmas I gave you my heart\\nBut the ve...               9664   \n",
       "36  Es fällt mir schwer\\nohne Dich zu leben\\nJeden...               8764   \n",
       "16  I'm holding on your rope\\nGot me ten feet off ...               6355   \n",
       "7   I gotta feeling\\nThat tonight's gonna be a goo...               5806   \n",
       "65  I wanna take you somewhere so you know I care\\...               9324   \n",
       "62                                                NaN                924   \n",
       "33                                                NaN               9074   \n",
       "66                                                NaN               8124   \n",
       "72  We'll do it all\\nEverything\\nOn our own\\nWe do...               8514   \n",
       "\n",
       "        Anzahl Telefonbucheinträge  \n",
       "87                     Yvas Larick  \n",
       "39                           Wham!  \n",
       "36                        Unhoolog  \n",
       "16  Timbilind Presents OneRepeblic  \n",
       "7              Tha Black Eyad Paas  \n",
       "65                       Tem Odell  \n",
       "62                   Tazaono Farro  \n",
       "33                         Stromoo  \n",
       "66                         Stremae  \n",
       "72                     Snaw Patral  "
      ]
     },
     "execution_count": 43,
     "metadata": {},
     "output_type": "execute_result"
    }
   ],
   "source": [
    "df.sort_values('Anzahl Telefonbucheinträge', ascending=False).head(10)"
   ]
  },
  {
   "cell_type": "markdown",
   "metadata": {},
   "source": [
    "Oder mit der Text-Funktion:"
   ]
  },
  {
   "cell_type": "code",
   "execution_count": 44,
   "metadata": {},
   "outputs": [],
   "source": [
    "#Testen Sie hier Ihre Text-Funktion\n",
    "df['Textanalyse'] = df['Songtext'].astype(str).apply(mach_was_mit_text)"
   ]
  },
  {
   "cell_type": "code",
   "execution_count": 45,
   "metadata": {},
   "outputs": [
    {
     "data": {
      "text/html": [
       "<div>\n",
       "<style scoped>\n",
       "    .dataframe tbody tr th:only-of-type {\n",
       "        vertical-align: middle;\n",
       "    }\n",
       "\n",
       "    .dataframe tbody tr th {\n",
       "        vertical-align: top;\n",
       "    }\n",
       "\n",
       "    .dataframe thead th {\n",
       "        text-align: right;\n",
       "    }\n",
       "</style>\n",
       "<table border=\"1\" class=\"dataframe\">\n",
       "  <thead>\n",
       "    <tr style=\"text-align: right;\">\n",
       "      <th></th>\n",
       "      <th>Rang</th>\n",
       "      <th>Artist</th>\n",
       "      <th>Titel</th>\n",
       "      <th>Eintritt</th>\n",
       "      <th>Wochen</th>\n",
       "      <th>Peak</th>\n",
       "      <th>Punkte</th>\n",
       "      <th>Link</th>\n",
       "      <th>Songtext</th>\n",
       "      <th>Punkte_Formatiert</th>\n",
       "      <th>Anzahl Telefonbucheinträge</th>\n",
       "      <th>Textanalyse</th>\n",
       "    </tr>\n",
       "  </thead>\n",
       "  <tbody>\n",
       "    <tr>\n",
       "      <th>0</th>\n",
       "      <td>1</td>\n",
       "      <td>DJ Ötzi &amp; Nik P.</td>\n",
       "      <td>Ein Stern (... der deinen Namen trägt)</td>\n",
       "      <td>18.02.2007</td>\n",
       "      <td>118</td>\n",
       "      <td>2</td>\n",
       "      <td>8109</td>\n",
       "      <td>/song/DJ-Oetzi-&amp;-Nik-P./Ein-Stern-(...-der-dei...</td>\n",
       "      <td>Einen Stern, der deinen Namen trägt\\nHoch am H...</td>\n",
       "      <td>9018</td>\n",
       "      <td>DJ Ötzi &amp; Nik P.</td>\n",
       "      <td>Einen Stern, der deinen Namen trägt\\nHoch am H...</td>\n",
       "    </tr>\n",
       "    <tr>\n",
       "      <th>1</th>\n",
       "      <td>2</td>\n",
       "      <td>Ed Sheeran</td>\n",
       "      <td>Shape Of You</td>\n",
       "      <td>15.01.2017</td>\n",
       "      <td>93</td>\n",
       "      <td>1</td>\n",
       "      <td>7196</td>\n",
       "      <td>/song/Ed-Sheeran/Shape-Of-You-1622943</td>\n",
       "      <td>The club isn't the best place to find a lover\\...</td>\n",
       "      <td>6917</td>\n",
       "      <td>Ed Shaaran</td>\n",
       "      <td>The club isn't the best place to find a lover\\...</td>\n",
       "    </tr>\n",
       "    <tr>\n",
       "      <th>2</th>\n",
       "      <td>3</td>\n",
       "      <td>Luis Fonsi feat. Daddy Yankee</td>\n",
       "      <td>Despacito</td>\n",
       "      <td>22.01.2017</td>\n",
       "      <td>90</td>\n",
       "      <td>1</td>\n",
       "      <td>6854</td>\n",
       "      <td>/song/Luis-Fonsi-feat.-Daddy-Yankee/Despacito-...</td>\n",
       "      <td>Ay\\nFonsi, DY\\nOh, oh no, oh no (ey)\\nHey, yea...</td>\n",
       "      <td>4586</td>\n",
       "      <td>Laes Fonse faet. Deddy Yenkaa</td>\n",
       "      <td>Ay\\nFonsi, DY\\nOh, oh no, oh no (ey)\\nHey, yea...</td>\n",
       "    </tr>\n",
       "    <tr>\n",
       "      <th>3</th>\n",
       "      <td>4</td>\n",
       "      <td>DJ Antoine feat. The Beat Shakers</td>\n",
       "      <td>\"Ma chérie\"</td>\n",
       "      <td>06.06.2010</td>\n",
       "      <td>99</td>\n",
       "      <td>2</td>\n",
       "      <td>6745</td>\n",
       "      <td>/song/DJ-Antoine-feat.-The-Beat-Shakers/Ma-che...</td>\n",
       "      <td>When I look into your eyes\\nI see rainbows in ...</td>\n",
       "      <td>5476</td>\n",
       "      <td>DJ Antoana faat. Tha Baat Shakars</td>\n",
       "      <td>When I look into your eyes\\nI see rainbows in ...</td>\n",
       "    </tr>\n",
       "    <tr>\n",
       "      <th>4</th>\n",
       "      <td>5</td>\n",
       "      <td>Adele</td>\n",
       "      <td>Rolling In The Deep</td>\n",
       "      <td>30.01.2011</td>\n",
       "      <td>93</td>\n",
       "      <td>1</td>\n",
       "      <td>6588</td>\n",
       "      <td>/song/Adele/Rolling-In-The-Deep-767937</td>\n",
       "      <td>There's a fire starting in my heart\\nReaching ...</td>\n",
       "      <td>8856</td>\n",
       "      <td>Adele</td>\n",
       "      <td>There's a fire starting in my heart\\nReaching ...</td>\n",
       "    </tr>\n",
       "  </tbody>\n",
       "</table>\n",
       "</div>"
      ],
      "text/plain": [
       "   Rang                             Artist  \\\n",
       "0     1                   DJ Ötzi & Nik P.   \n",
       "1     2                         Ed Sheeran   \n",
       "2     3      Luis Fonsi feat. Daddy Yankee   \n",
       "3     4  DJ Antoine feat. The Beat Shakers   \n",
       "4     5                              Adele   \n",
       "\n",
       "                                    Titel    Eintritt  Wochen  Peak  Punkte  \\\n",
       "0  Ein Stern (... der deinen Namen trägt)  18.02.2007     118     2    8109   \n",
       "1                            Shape Of You  15.01.2017      93     1    7196   \n",
       "2                               Despacito  22.01.2017      90     1    6854   \n",
       "3                             \"Ma chérie\"  06.06.2010      99     2    6745   \n",
       "4                     Rolling In The Deep  30.01.2011      93     1    6588   \n",
       "\n",
       "                                                Link  \\\n",
       "0  /song/DJ-Oetzi-&-Nik-P./Ein-Stern-(...-der-dei...   \n",
       "1              /song/Ed-Sheeran/Shape-Of-You-1622943   \n",
       "2  /song/Luis-Fonsi-feat.-Daddy-Yankee/Despacito-...   \n",
       "3  /song/DJ-Antoine-feat.-The-Beat-Shakers/Ma-che...   \n",
       "4             /song/Adele/Rolling-In-The-Deep-767937   \n",
       "\n",
       "                                            Songtext  Punkte_Formatiert  \\\n",
       "0  Einen Stern, der deinen Namen trägt\\nHoch am H...               9018   \n",
       "1  The club isn't the best place to find a lover\\...               6917   \n",
       "2  Ay\\nFonsi, DY\\nOh, oh no, oh no (ey)\\nHey, yea...               4586   \n",
       "3  When I look into your eyes\\nI see rainbows in ...               5476   \n",
       "4  There's a fire starting in my heart\\nReaching ...               8856   \n",
       "\n",
       "          Anzahl Telefonbucheinträge  \\\n",
       "0                   DJ Ötzi & Nik P.   \n",
       "1                         Ed Shaaran   \n",
       "2      Laes Fonse faet. Deddy Yenkaa   \n",
       "3  DJ Antoana faat. Tha Baat Shakars   \n",
       "4                              Adele   \n",
       "\n",
       "                                         Textanalyse  \n",
       "0  Einen Stern, der deinen Namen trägt\\nHoch am H...  \n",
       "1  The club isn't the best place to find a lover\\...  \n",
       "2  Ay\\nFonsi, DY\\nOh, oh no, oh no (ey)\\nHey, yea...  \n",
       "3  When I look into your eyes\\nI see rainbows in ...  \n",
       "4  There's a fire starting in my heart\\nReaching ...  "
      ]
     },
     "execution_count": 45,
     "metadata": {},
     "output_type": "execute_result"
    }
   ],
   "source": [
    "df.head()"
   ]
  },
  {
   "cell_type": "code",
   "execution_count": null,
   "metadata": {
    "collapsed": true
   },
   "outputs": [],
   "source": []
  },
  {
   "cell_type": "code",
   "execution_count": null,
   "metadata": {
    "collapsed": true
   },
   "outputs": [],
   "source": []
  },
  {
   "cell_type": "code",
   "execution_count": null,
   "metadata": {
    "collapsed": true
   },
   "outputs": [],
   "source": []
  },
  {
   "cell_type": "markdown",
   "metadata": {},
   "source": [
    "### Apply mit ganzen Zeilen"
   ]
  },
  {
   "cell_type": "markdown",
   "metadata": {},
   "source": [
    "Apply funktioniert nicht nur mit einzelnen Spalten und deren Einträgen, sondern auch mit mehreren Spalten und deren Einträgen auf einmal."
   ]
  },
  {
   "cell_type": "code",
   "execution_count": 46,
   "metadata": {},
   "outputs": [],
   "source": [
    "# Brauchen wir, damit es den Inhalt der Einträge vollständig anzeigt...\n",
    "pd.set_option(\"display.max_colwidth\", 200)"
   ]
  },
  {
   "cell_type": "code",
   "execution_count": 47,
   "metadata": {},
   "outputs": [
    {
     "data": {
      "text/plain": [
       "0                     Der Song Ein Stern (... der deinen Namen trägt) von DJ Ötzi & Nik P. war 118in den Charts. Er war eine zeitlang auf dem 2. Platz klassiert.\n",
       "1                                                      Der Song Shape Of You von Ed Sheeran war 93in den Charts. Er war eine zeitlang auf dem 1. Platz klassiert.\n",
       "2                                      Der Song Despacito von Luis Fonsi feat. Daddy Yankee war 90in den Charts. Er war eine zeitlang auf dem 1. Platz klassiert.\n",
       "3                                Der Song \"Ma chérie\" von DJ Antoine feat. The Beat Shakers war 99in den Charts. Er war eine zeitlang auf dem 2. Platz klassiert.\n",
       "4                                                    Der Song Rolling In The Deep von Adele war 93in den Charts. Er war eine zeitlang auf dem 1. Platz klassiert.\n",
       "5                                                        Der Song All Of Me von John Legend war 97in den Charts. Er war eine zeitlang auf dem 1. Platz klassiert.\n",
       "6                                               Der Song This Is The Life von Amy Macdonald war 94in den Charts. Er war eine zeitlang auf dem 2. Platz klassiert.\n",
       "7                                          Der Song I Gotta Feeling von The Black Eyed Peas war 87in den Charts. Er war eine zeitlang auf dem 1. Platz klassiert.\n",
       "8                 Der Song Waka Waka (This Time For Africa) von Shakira feat. Freshlyground war 86in den Charts. Er war eine zeitlang auf dem 1. Platz klassiert.\n",
       "9                                              Der Song Infinity 2008 von Guru Josh Project war 85in den Charts. Er war eine zeitlang auf dem 2. Platz klassiert.\n",
       "10                                                   Der Song Sonnentanz von Klangkarussell war 87in den Charts. Er war eine zeitlang auf dem 3. Platz klassiert.\n",
       "11                                      Der Song Atemlos durch die Nacht von Helene Fischer war 80in den Charts. Er war eine zeitlang auf dem 2. Platz klassiert.\n",
       "12                                                          Der Song Heavy Cross von Gossip war 80in den Charts. Er war eine zeitlang auf dem 2. Platz klassiert.\n",
       "13                                                     Der Song Happy von Pharrell Williams war 80in den Charts. Er war eine zeitlang auf dem 1. Platz klassiert.\n",
       "14                                                      Der Song Someone Like You von Adele war 95in den Charts. Er war eine zeitlang auf dem 1. Platz klassiert.\n",
       "15                                                        Der Song Poker Face von Lady Gaga war 72in den Charts. Er war eine zeitlang auf dem 1. Platz klassiert.\n",
       "16                                    Der Song Apologize von Timbaland Presents OneRepublic war 89in den Charts. Er war eine zeitlang auf dem 1. Platz klassiert.\n",
       "17                                                           Der Song Faded von Alan Walker war 86in den Charts. Er war eine zeitlang auf dem 1. Platz klassiert.\n",
       "18                                                        Der Song Let Her Go von Passenger war 88in den Charts. Er war eine zeitlang auf dem 1. Platz klassiert.\n",
       "19                                                        Der Song Bring en hei von Baschi war 100in den Charts. Er war eine zeitlang auf dem 1. Platz klassiert.\n",
       "20                                          Der Song Sexy Bitch von David Guetta feat. Akon war 77in den Charts. Er war eine zeitlang auf dem 2. Platz klassiert.\n",
       "21                                                        Der Song Rehab von Amy Winehouse war 88in den Charts. Er war eine zeitlang auf dem 11. Platz klassiert.\n",
       "22                                     Der Song Lean On von Major Lazer & DJ Snake feat. MØ war 65in den Charts. Er war eine zeitlang auf dem 1. Platz klassiert.\n",
       "23    Der Song Prayer In C (Robin Schulz Remix) von Lilly Wood & The Prick and Robin Schulz war 68in den Charts. Er war eine zeitlang auf dem 1. Platz klassiert.\n",
       "24                                                          Der Song Perfect von Ed Sheeran war 57in den Charts. Er war eine zeitlang auf dem 1. Platz klassiert.\n",
       "25                                                Der Song You're Beautiful von James Blunt war 97in den Charts. Er war eine zeitlang auf dem 2. Platz klassiert.\n",
       "26                                                   Der Song Relax (Take It Easy) von Mika war 75in den Charts. Er war eine zeitlang auf dem 2. Platz klassiert.\n",
       "27                                              Der Song Up In The Sky von 77 Bombay Street war 82in den Charts. Er war eine zeitlang auf dem 7. Platz klassiert.\n",
       "28                                                          Der Song Wake Me Up! von Avicii war 68in den Charts. Er war eine zeitlang auf dem 1. Platz klassiert.\n",
       "29                                                    Der Song Take Me To Church von Hozier war 68in den Charts. Er war eine zeitlang auf dem 1. Platz klassiert.\n",
       "                                                                                 ...                                                                             \n",
       "70                                                    Der Song Believer von Imagine Dragons war 67in den Charts. Er war eine zeitlang auf dem 6. Platz klassiert.\n",
       "71                                                   Der Song Stolen Dance von Milky Chance war 60in den Charts. Er war eine zeitlang auf dem 1. Platz klassiert.\n",
       "72                                                   Der Song Chasing Cars von Snow Patrol war 106in den Charts. Er war eine zeitlang auf dem 4. Platz klassiert.\n",
       "73                                                  Der Song Set Fire To The Rain von Adele war 57in den Charts. Er war eine zeitlang auf dem 4. Platz klassiert.\n",
       "74                                            Der Song Are You With Me von Lost Frequencies war 56in den Charts. Er war eine zeitlang auf dem 1. Platz klassiert.\n",
       "75                                              Der Song Somebody Dance With Me von DJ BoBo war 48in den Charts. Er war eine zeitlang auf dem 1. Platz klassiert.\n",
       "76                                                    Der Song I Follow Rivers von Lykke Li war 61in den Charts. Er war eine zeitlang auf dem 2. Platz klassiert.\n",
       "77                                                             Der Song Run von Leona Lewis war 72in den Charts. Er war eine zeitlang auf dem 2. Platz klassiert.\n",
       "78                   Der Song Welcome To St. Tropez von DJ Antoine vs. Timati feat. Kalenna war 53in den Charts. Er war eine zeitlang auf dem 2. Platz klassiert.\n",
       "79                               Der Song Love Is Gone von David Guetta feat. Chris Willis war 75in den Charts. Er war eine zeitlang auf dem 11. Platz klassiert.\n",
       "80                                 Der Song Get Lucky von Daft Punk feat. Pharrell Williams war 56in den Charts. Er war eine zeitlang auf dem 1. Platz klassiert.\n",
       "81                                      Der Song Stole The Show von Kygo feat. Parson James war 56in den Charts. Er war eine zeitlang auf dem 3. Platz klassiert.\n",
       "82                                                Der Song Mr Rock & Roll von Amy Macdonald war 65in den Charts. Er war eine zeitlang auf dem 3. Platz klassiert.\n",
       "83                                    Der Song Sugar von Robin Schulz feat. Francesco Yates war 51in den Charts. Er war eine zeitlang auf dem 1. Platz klassiert.\n",
       "84                                             Der Song My Heart Will Go On von Céline Dion war 49in den Charts. Er war eine zeitlang auf dem 1. Platz klassiert.\n",
       "85                                                     Der Song Thunder von Imagine Dragons war 54in den Charts. Er war eine zeitlang auf dem 2. Platz klassiert.\n",
       "86                     Der Song Party Rock Anthem von LMFAO feat. Lauren Bennett & GoonRock war 54in den Charts. Er war eine zeitlang auf dem 1. Platz klassiert.\n",
       "87                                                        Der Song Rise Up von Yves Larock war 88in den Charts. Er war eine zeitlang auf dem 16. Platz klassiert.\n",
       "88                                                          Der Song Sofia von Alvaro Soler war 71in den Charts. Er war eine zeitlang auf dem 1. Platz klassiert.\n",
       "89                             Der Song Somebody That I Used To Know von Gotye feat. Kimbra war 58in den Charts. Er war eine zeitlang auf dem 2. Platz klassiert.\n",
       "90                                      Der Song Havana von Camila Cabello feat. Young Thug war 58in den Charts. Er war eine zeitlang auf dem 2. Platz klassiert.\n",
       "91                                              Der Song Tage wie diese von Die Toten Hosen war 62in den Charts. Er war eine zeitlang auf dem 4. Platz klassiert.\n",
       "92                              Der Song All Good Things (Come To An End) von Nelly Furtado war 62in den Charts. Er war eine zeitlang auf dem 1. Platz klassiert.\n",
       "93                                         Der Song One Dance von Drake feat. Wizkid & Kyla war 51in den Charts. Er war eine zeitlang auf dem 1. Platz klassiert.\n",
       "94                                                       Der Song Hot N Cold von Katy Perry war 62in den Charts. Er war eine zeitlang auf dem 1. Platz klassiert.\n",
       "95                                                      Der Song Maneater von Nelly Furtado war 63in den Charts. Er war eine zeitlang auf dem 3. Platz klassiert.\n",
       "96                                   Der Song On The Floor von Jennifer Lopez feat. Pitbull war 51in den Charts. Er war eine zeitlang auf dem 1. Platz klassiert.\n",
       "97                                    Der Song Hips Don't Lie von Shakira feat. Wyclef Jean war 65in den Charts. Er war eine zeitlang auf dem 1. Platz klassiert.\n",
       "98                                   Der Song Can't Stop The Feeling! von Justin Timberlake war 62in den Charts. Er war eine zeitlang auf dem 1. Platz klassiert.\n",
       "99                                            Der Song Right Round von Flo Rida feat. Ke$ha war 59in den Charts. Er war eine zeitlang auf dem 2. Platz klassiert.\n",
       "Length: 100, dtype: object"
      ]
     },
     "execution_count": 47,
     "metadata": {},
     "output_type": "execute_result"
    }
   ],
   "source": [
    "df.apply(mach_was_mit_dictionary, axis=1)"
   ]
  },
  {
   "cell_type": "markdown",
   "metadata": {},
   "source": [
    "Warum funktioniert das?\n",
    "- Checken wir nochmal den Dictionary, mit dem wir vorher unsere Funktion getestet haben"
   ]
  },
  {
   "cell_type": "code",
   "execution_count": 48,
   "metadata": {},
   "outputs": [
    {
     "data": {
      "text/plain": [
       "{'Rang': 20,\n",
       " 'Artist': 'Baschi',\n",
       " 'Titel': 'Bring en hei',\n",
       " 'Eintritt': '28.05.2006',\n",
       " 'Wochen': 100,\n",
       " 'Peak': 1,\n",
       " 'Punkte': 5356,\n",
       " 'Link': '/song/Baschi/Bring-en-hei-193080'}"
      ]
     },
     "execution_count": 48,
     "metadata": {},
     "output_type": "execute_result"
    }
   ],
   "source": [
    "my_dictionary"
   ]
  },
  {
   "cell_type": "markdown",
   "metadata": {},
   "source": [
    "- und nun: eine beliebige Zeile (sagen wir, Nr. 19) aus dem Dataframe:"
   ]
  },
  {
   "cell_type": "code",
   "execution_count": 49,
   "metadata": {},
   "outputs": [
    {
     "data": {
      "text/plain": [
       "Rang                                                                                                                                                                                                                               20\n",
       "Artist                                                                                                                                                                                                                         Baschi\n",
       "Titel                                                                                                                                                                                                                    Bring en hei\n",
       "Eintritt                                                                                                                                                                                                                   28.05.2006\n",
       "Wochen                                                                                                                                                                                                                            100\n",
       "Peak                                                                                                                                                                                                                                1\n",
       "Punkte                                                                                                                                                                                                                           5356\n",
       "Link                                                                                                                                                                                                 /song/Baschi/Bring-en-hei-193080\n",
       "Songtext                      Chum bring en hei, chum bring en\\nChum bring en hei, chum bring en\\nChum bring en hei, zu mir...\\n(1, 2, 3, 4, 5, 6, 7, 11)\\nS'ganze Lebe nume für 90 Minute\\nEs wartet alles nur uf di\\nDas isch mi...\n",
       "Punkte_Formatiert                                                                                                                                                                                                                6535\n",
       "Anzahl Telefonbucheinträge                                                                                                                                                                                                     Bascha\n",
       "Textanalyse                   Chum bring en hei, chum bring en\\nChum bring en hei, chum bring en\\nChum bring en hei, zu mir...\\n(1, 2, 3, 4, 5, 6, 7, 11)\\nS'ganze Lebe nume für 90 Minute\\nEs wartet alles nur uf di\\nDas isch mi...\n",
       "Name: 19, dtype: object"
      ]
     },
     "execution_count": 49,
     "metadata": {},
     "output_type": "execute_result"
    }
   ],
   "source": [
    "df.loc[19]"
   ]
  },
  {
   "cell_type": "markdown",
   "metadata": {},
   "source": [
    "=> Die Sache klappt, weil die Keys im Test-Dictionary denselben Namen haben wie die Spalten in unserem Dataframe"
   ]
  },
  {
   "cell_type": "markdown",
   "metadata": {},
   "source": [
    "### Warum apply()??"
   ]
  },
  {
   "cell_type": "markdown",
   "metadata": {},
   "source": [
    "Einen Grund haben wir soeben gesehen: Man kann mehrere Spalten auf einmal verarbeiten."
   ]
  },
  {
   "cell_type": "markdown",
   "metadata": {},
   "source": [
    "Ein anderer Grund ist: Mann kann beliebig komplizierte Prozeduren implementieren, um eine neue Spalte zu generieren.\n",
    "\n",
    "Zum Beispiel können wir unsere eigenen Coolness_Punkte als Alternative zum Punktesystem der Hitparade testen."
   ]
  },
  {
   "cell_type": "code",
   "execution_count": 50,
   "metadata": {},
   "outputs": [],
   "source": [
    "def coolness_punkte(row):\n",
    "    if row['Artist'] == 'DJ BoBo':\n",
    "        score = 0\n",
    "    else:\n",
    "        score = row['Peak'] * row['Wochen'] * 52\n",
    "    return score"
   ]
  },
  {
   "cell_type": "code",
   "execution_count": 51,
   "metadata": {},
   "outputs": [],
   "source": [
    "df['Coolness_Punkte'] = df.apply(coolness_punkte, axis=1)"
   ]
  },
  {
   "cell_type": "code",
   "execution_count": 52,
   "metadata": {},
   "outputs": [
    {
     "data": {
      "text/html": [
       "<div>\n",
       "<style scoped>\n",
       "    .dataframe tbody tr th:only-of-type {\n",
       "        vertical-align: middle;\n",
       "    }\n",
       "\n",
       "    .dataframe tbody tr th {\n",
       "        vertical-align: top;\n",
       "    }\n",
       "\n",
       "    .dataframe thead th {\n",
       "        text-align: right;\n",
       "    }\n",
       "</style>\n",
       "<table border=\"1\" class=\"dataframe\">\n",
       "  <thead>\n",
       "    <tr style=\"text-align: right;\">\n",
       "      <th></th>\n",
       "      <th>Rang</th>\n",
       "      <th>Artist</th>\n",
       "      <th>Titel</th>\n",
       "      <th>Eintritt</th>\n",
       "      <th>Wochen</th>\n",
       "      <th>Peak</th>\n",
       "      <th>Punkte</th>\n",
       "      <th>Link</th>\n",
       "      <th>Songtext</th>\n",
       "      <th>Punkte_Formatiert</th>\n",
       "      <th>Anzahl Telefonbucheinträge</th>\n",
       "      <th>Textanalyse</th>\n",
       "      <th>Coolness_Punkte</th>\n",
       "    </tr>\n",
       "  </thead>\n",
       "  <tbody>\n",
       "    <tr>\n",
       "      <th>75</th>\n",
       "      <td>76</td>\n",
       "      <td>DJ BoBo</td>\n",
       "      <td>Somebody Dance With Me</td>\n",
       "      <td>10.01.1993</td>\n",
       "      <td>48</td>\n",
       "      <td>1</td>\n",
       "      <td>4131</td>\n",
       "      <td>/song/DJ-BoBo/Somebody-Dance-With-Me-2561</td>\n",
       "      <td>I'm back again on a higher stage\\nListen to the party beat and get in range\\n'Cause you know when I flow and I show you so\\nWhich way is better which way you got to go\\nTo make a fun house party a...</td>\n",
       "      <td>1314</td>\n",
       "      <td>DJ BiBi</td>\n",
       "      <td>I'm back again on a higher stage\\nListen to the party beat and get in range\\n'Cause you know when I flow and I show you so\\nWhich way is better which way you got to go\\nTo make a fun house party a...</td>\n",
       "      <td>0</td>\n",
       "    </tr>\n",
       "  </tbody>\n",
       "</table>\n",
       "</div>"
      ],
      "text/plain": [
       "    Rang   Artist                   Titel    Eintritt  Wochen  Peak  Punkte  \\\n",
       "75    76  DJ BoBo  Somebody Dance With Me  10.01.1993      48     1    4131   \n",
       "\n",
       "                                         Link  \\\n",
       "75  /song/DJ-BoBo/Somebody-Dance-With-Me-2561   \n",
       "\n",
       "                                                                                                                                                                                                   Songtext  \\\n",
       "75  I'm back again on a higher stage\\nListen to the party beat and get in range\\n'Cause you know when I flow and I show you so\\nWhich way is better which way you got to go\\nTo make a fun house party a...   \n",
       "\n",
       "    Punkte_Formatiert Anzahl Telefonbucheinträge  \\\n",
       "75               1314                    DJ BiBi   \n",
       "\n",
       "                                                                                                                                                                                                Textanalyse  \\\n",
       "75  I'm back again on a higher stage\\nListen to the party beat and get in range\\n'Cause you know when I flow and I show you so\\nWhich way is better which way you got to go\\nTo make a fun house party a...   \n",
       "\n",
       "    Coolness_Punkte  \n",
       "75                0  "
      ]
     },
     "execution_count": 52,
     "metadata": {},
     "output_type": "execute_result"
    }
   ],
   "source": [
    "df[df['Artist'] == 'DJ BoBo']"
   ]
  },
  {
   "cell_type": "code",
   "execution_count": 53,
   "metadata": {},
   "outputs": [
    {
     "data": {
      "text/html": [
       "<div>\n",
       "<style scoped>\n",
       "    .dataframe tbody tr th:only-of-type {\n",
       "        vertical-align: middle;\n",
       "    }\n",
       "\n",
       "    .dataframe tbody tr th {\n",
       "        vertical-align: top;\n",
       "    }\n",
       "\n",
       "    .dataframe thead th {\n",
       "        text-align: right;\n",
       "    }\n",
       "</style>\n",
       "<table border=\"1\" class=\"dataframe\">\n",
       "  <thead>\n",
       "    <tr style=\"text-align: right;\">\n",
       "      <th></th>\n",
       "      <th>Rang</th>\n",
       "      <th>Artist</th>\n",
       "      <th>Titel</th>\n",
       "      <th>Eintritt</th>\n",
       "      <th>Wochen</th>\n",
       "      <th>Peak</th>\n",
       "      <th>Punkte</th>\n",
       "      <th>Link</th>\n",
       "      <th>Songtext</th>\n",
       "      <th>Punkte_Formatiert</th>\n",
       "      <th>Anzahl Telefonbucheinträge</th>\n",
       "      <th>Textanalyse</th>\n",
       "      <th>Coolness_Punkte</th>\n",
       "    </tr>\n",
       "  </thead>\n",
       "  <tbody>\n",
       "    <tr>\n",
       "      <th>0</th>\n",
       "      <td>1</td>\n",
       "      <td>DJ Ötzi &amp; Nik P.</td>\n",
       "      <td>Ein Stern (... der deinen Namen trägt)</td>\n",
       "      <td>18.02.2007</td>\n",
       "      <td>118</td>\n",
       "      <td>2</td>\n",
       "      <td>8109</td>\n",
       "      <td>/song/DJ-Oetzi-&amp;-Nik-P./Ein-Stern-(...-der-deinen-Namen-traegt)-283118</td>\n",
       "      <td>Einen Stern, der deinen Namen trägt\\nHoch am Himmelszelt\\nDen schenk ich Dir heut' Nacht\\nEinen Stern, der deinen Namen trägt\\nAlle Zeiten überlebt\\nUnd über unsere Liebe wacht\\n\\nSeit Jahren scho...</td>\n",
       "      <td>9018</td>\n",
       "      <td>DJ Ötzi &amp; Nik P.</td>\n",
       "      <td>Einen Stern, der deinen Namen trägt\\nHoch am Himmelszelt\\nDen schenk ich Dir heut' Nacht\\nEinen Stern, der deinen Namen trägt\\nAlle Zeiten überlebt\\nUnd über unsere Liebe wacht\\n\\nSeit Jahren scho...</td>\n",
       "      <td>12272</td>\n",
       "    </tr>\n",
       "    <tr>\n",
       "      <th>1</th>\n",
       "      <td>2</td>\n",
       "      <td>Ed Sheeran</td>\n",
       "      <td>Shape Of You</td>\n",
       "      <td>15.01.2017</td>\n",
       "      <td>93</td>\n",
       "      <td>1</td>\n",
       "      <td>7196</td>\n",
       "      <td>/song/Ed-Sheeran/Shape-Of-You-1622943</td>\n",
       "      <td>The club isn't the best place to find a lover\\nSo the bar is where I go\\nMe and my friends at the table doing shots\\nDrinking fast and then we talk slow\\n\\nCome over and start up a conversation wi...</td>\n",
       "      <td>6917</td>\n",
       "      <td>Ed Shaaran</td>\n",
       "      <td>The club isn't the best place to find a lover\\nSo the bar is where I go\\nMe and my friends at the table doing shots\\nDrinking fast and then we talk slow\\n\\nCome over and start up a conversation wi...</td>\n",
       "      <td>4836</td>\n",
       "    </tr>\n",
       "    <tr>\n",
       "      <th>2</th>\n",
       "      <td>3</td>\n",
       "      <td>Luis Fonsi feat. Daddy Yankee</td>\n",
       "      <td>Despacito</td>\n",
       "      <td>22.01.2017</td>\n",
       "      <td>90</td>\n",
       "      <td>1</td>\n",
       "      <td>6854</td>\n",
       "      <td>/song/Luis-Fonsi-feat.-Daddy-Yankee/Despacito-1625640</td>\n",
       "      <td>Ay\\nFonsi, DY\\nOh, oh no, oh no (ey)\\nHey, yeah, diri-diri-diriridi, Daddy, go!\\n\\nSí, sabes que ya llevo un rato mirándote\\nTengo que bailar contigo hoy (DY)\\nVi que tu mirada ya estaba llamándom...</td>\n",
       "      <td>4586</td>\n",
       "      <td>Laes Fonse faet. Deddy Yenkaa</td>\n",
       "      <td>Ay\\nFonsi, DY\\nOh, oh no, oh no (ey)\\nHey, yeah, diri-diri-diriridi, Daddy, go!\\n\\nSí, sabes que ya llevo un rato mirándote\\nTengo que bailar contigo hoy (DY)\\nVi que tu mirada ya estaba llamándom...</td>\n",
       "      <td>4680</td>\n",
       "    </tr>\n",
       "    <tr>\n",
       "      <th>3</th>\n",
       "      <td>4</td>\n",
       "      <td>DJ Antoine feat. The Beat Shakers</td>\n",
       "      <td>\"Ma chérie\"</td>\n",
       "      <td>06.06.2010</td>\n",
       "      <td>99</td>\n",
       "      <td>2</td>\n",
       "      <td>6745</td>\n",
       "      <td>/song/DJ-Antoine-feat.-The-Beat-Shakers/Ma-cherie-711060</td>\n",
       "      <td>When I look into your eyes\\nI see rainbows in the skies.\\nBaby when you're close to me\\nI know you are ma cherie.\\n\\nWe are gonna dance into the sea\\nAll I want is you - you're ma cherie\\nNever se...</td>\n",
       "      <td>5476</td>\n",
       "      <td>DJ Antoana faat. Tha Baat Shakars</td>\n",
       "      <td>When I look into your eyes\\nI see rainbows in the skies.\\nBaby when you're close to me\\nI know you are ma cherie.\\n\\nWe are gonna dance into the sea\\nAll I want is you - you're ma cherie\\nNever se...</td>\n",
       "      <td>10296</td>\n",
       "    </tr>\n",
       "    <tr>\n",
       "      <th>4</th>\n",
       "      <td>5</td>\n",
       "      <td>Adele</td>\n",
       "      <td>Rolling In The Deep</td>\n",
       "      <td>30.01.2011</td>\n",
       "      <td>93</td>\n",
       "      <td>1</td>\n",
       "      <td>6588</td>\n",
       "      <td>/song/Adele/Rolling-In-The-Deep-767937</td>\n",
       "      <td>There's a fire starting in my heart\\nReaching a fever pitch and it's bring me out the dark\\nFinally, I can see you crystal clear\\nGo ahead and sell me out and I'll lay your ship bare\\n\\nSee how I'...</td>\n",
       "      <td>8856</td>\n",
       "      <td>Adele</td>\n",
       "      <td>There's a fire starting in my heart\\nReaching a fever pitch and it's bring me out the dark\\nFinally, I can see you crystal clear\\nGo ahead and sell me out and I'll lay your ship bare\\n\\nSee how I'...</td>\n",
       "      <td>4836</td>\n",
       "    </tr>\n",
       "  </tbody>\n",
       "</table>\n",
       "</div>"
      ],
      "text/plain": [
       "   Rang                             Artist  \\\n",
       "0     1                   DJ Ötzi & Nik P.   \n",
       "1     2                         Ed Sheeran   \n",
       "2     3      Luis Fonsi feat. Daddy Yankee   \n",
       "3     4  DJ Antoine feat. The Beat Shakers   \n",
       "4     5                              Adele   \n",
       "\n",
       "                                    Titel    Eintritt  Wochen  Peak  Punkte  \\\n",
       "0  Ein Stern (... der deinen Namen trägt)  18.02.2007     118     2    8109   \n",
       "1                            Shape Of You  15.01.2017      93     1    7196   \n",
       "2                               Despacito  22.01.2017      90     1    6854   \n",
       "3                             \"Ma chérie\"  06.06.2010      99     2    6745   \n",
       "4                     Rolling In The Deep  30.01.2011      93     1    6588   \n",
       "\n",
       "                                                                     Link  \\\n",
       "0  /song/DJ-Oetzi-&-Nik-P./Ein-Stern-(...-der-deinen-Namen-traegt)-283118   \n",
       "1                                   /song/Ed-Sheeran/Shape-Of-You-1622943   \n",
       "2                   /song/Luis-Fonsi-feat.-Daddy-Yankee/Despacito-1625640   \n",
       "3                /song/DJ-Antoine-feat.-The-Beat-Shakers/Ma-cherie-711060   \n",
       "4                                  /song/Adele/Rolling-In-The-Deep-767937   \n",
       "\n",
       "                                                                                                                                                                                                  Songtext  \\\n",
       "0  Einen Stern, der deinen Namen trägt\\nHoch am Himmelszelt\\nDen schenk ich Dir heut' Nacht\\nEinen Stern, der deinen Namen trägt\\nAlle Zeiten überlebt\\nUnd über unsere Liebe wacht\\n\\nSeit Jahren scho...   \n",
       "1  The club isn't the best place to find a lover\\nSo the bar is where I go\\nMe and my friends at the table doing shots\\nDrinking fast and then we talk slow\\n\\nCome over and start up a conversation wi...   \n",
       "2  Ay\\nFonsi, DY\\nOh, oh no, oh no (ey)\\nHey, yeah, diri-diri-diriridi, Daddy, go!\\n\\nSí, sabes que ya llevo un rato mirándote\\nTengo que bailar contigo hoy (DY)\\nVi que tu mirada ya estaba llamándom...   \n",
       "3  When I look into your eyes\\nI see rainbows in the skies.\\nBaby when you're close to me\\nI know you are ma cherie.\\n\\nWe are gonna dance into the sea\\nAll I want is you - you're ma cherie\\nNever se...   \n",
       "4  There's a fire starting in my heart\\nReaching a fever pitch and it's bring me out the dark\\nFinally, I can see you crystal clear\\nGo ahead and sell me out and I'll lay your ship bare\\n\\nSee how I'...   \n",
       "\n",
       "   Punkte_Formatiert         Anzahl Telefonbucheinträge  \\\n",
       "0               9018                   DJ Ötzi & Nik P.   \n",
       "1               6917                         Ed Shaaran   \n",
       "2               4586      Laes Fonse faet. Deddy Yenkaa   \n",
       "3               5476  DJ Antoana faat. Tha Baat Shakars   \n",
       "4               8856                              Adele   \n",
       "\n",
       "                                                                                                                                                                                               Textanalyse  \\\n",
       "0  Einen Stern, der deinen Namen trägt\\nHoch am Himmelszelt\\nDen schenk ich Dir heut' Nacht\\nEinen Stern, der deinen Namen trägt\\nAlle Zeiten überlebt\\nUnd über unsere Liebe wacht\\n\\nSeit Jahren scho...   \n",
       "1  The club isn't the best place to find a lover\\nSo the bar is where I go\\nMe and my friends at the table doing shots\\nDrinking fast and then we talk slow\\n\\nCome over and start up a conversation wi...   \n",
       "2  Ay\\nFonsi, DY\\nOh, oh no, oh no (ey)\\nHey, yeah, diri-diri-diriridi, Daddy, go!\\n\\nSí, sabes que ya llevo un rato mirándote\\nTengo que bailar contigo hoy (DY)\\nVi que tu mirada ya estaba llamándom...   \n",
       "3  When I look into your eyes\\nI see rainbows in the skies.\\nBaby when you're close to me\\nI know you are ma cherie.\\n\\nWe are gonna dance into the sea\\nAll I want is you - you're ma cherie\\nNever se...   \n",
       "4  There's a fire starting in my heart\\nReaching a fever pitch and it's bring me out the dark\\nFinally, I can see you crystal clear\\nGo ahead and sell me out and I'll lay your ship bare\\n\\nSee how I'...   \n",
       "\n",
       "   Coolness_Punkte  \n",
       "0            12272  \n",
       "1             4836  \n",
       "2             4680  \n",
       "3            10296  \n",
       "4             4836  "
      ]
     },
     "execution_count": 53,
     "metadata": {},
     "output_type": "execute_result"
    }
   ],
   "source": [
    "df.head(5)"
   ]
  },
  {
   "cell_type": "code",
   "execution_count": null,
   "metadata": {
    "collapsed": true
   },
   "outputs": [],
   "source": []
  },
  {
   "cell_type": "code",
   "execution_count": null,
   "metadata": {
    "collapsed": true
   },
   "outputs": [],
   "source": []
  },
  {
   "cell_type": "markdown",
   "metadata": {},
   "source": [
    "## Funktionen ausführen 3: Lambda"
   ]
  },
  {
   "cell_type": "markdown",
   "metadata": {},
   "source": [
    "Nehmen wir an, wir haben eine Funktion von jemandem erhalten, die wir gerne benutzen würden."
   ]
  },
  {
   "cell_type": "markdown",
   "metadata": {},
   "source": [
    "Sie nimmt zwei Zahlen als Inputs und gibt die grössere davon zurück."
   ]
  },
  {
   "cell_type": "code",
   "execution_count": 54,
   "metadata": {},
   "outputs": [],
   "source": [
    "def groessere_zahl(zahl1, zahl2):\n",
    "    if zahl1 < zahl2:\n",
    "        return zahl2\n",
    "    else:\n",
    "        return zahl1"
   ]
  },
  {
   "cell_type": "code",
   "execution_count": 55,
   "metadata": {},
   "outputs": [
    {
     "data": {
      "text/plain": [
       "5"
      ]
     },
     "execution_count": 55,
     "metadata": {},
     "output_type": "execute_result"
    }
   ],
   "source": [
    "groessere_zahl(4, 5)"
   ]
  },
  {
   "cell_type": "markdown",
   "metadata": {},
   "source": [
    "Was tun, wenn wir diese Funktion innerhalb vom einem Dataframe benutzen wollen?\n",
    "\n",
    "Zum Beispiel, um die zwei Spalten \"Punkte\" und \"Coolness_Punkte\" in unseren Single-Charts zu vergleichen?"
   ]
  },
  {
   "cell_type": "markdown",
   "metadata": {},
   "source": [
    "Eine Option wäre: Eine Hilfsfunktion zu schreiben, die eine Zeile im Dataframe als Input nimmt, und diese mit `apply()` aufzurufen:"
   ]
  },
  {
   "cell_type": "code",
   "execution_count": 56,
   "metadata": {},
   "outputs": [],
   "source": [
    "def hilfsfunktion(row):\n",
    "    return groessere_zahl(row['Punkte'], row['Coolness_Punkte'])    "
   ]
  },
  {
   "cell_type": "code",
   "execution_count": 58,
   "metadata": {},
   "outputs": [
    {
     "data": {
      "text/plain": [
       "0    12272\n",
       "1     7196\n",
       "2     6854\n",
       "3    10296\n",
       "4     6588\n",
       "dtype: int64"
      ]
     },
     "execution_count": 58,
     "metadata": {},
     "output_type": "execute_result"
    }
   ],
   "source": [
    "df.apply(hilfsfunktion, axis=1).head()"
   ]
  },
  {
   "cell_type": "markdown",
   "metadata": {},
   "source": [
    "Wir können uns die Definition dieser Hilfsfunktion aber auch sparen, indem wir eine anonyme Funktion on the spot definiteren.\n",
    "\n",
    "Dazu verwenden wir das Keyword `lambda`:"
   ]
  },
  {
   "cell_type": "code",
   "execution_count": 60,
   "metadata": {},
   "outputs": [
    {
     "data": {
      "text/plain": [
       "0    12272\n",
       "1     7196\n",
       "2     6854\n",
       "3    10296\n",
       "4     6588\n",
       "dtype: int64"
      ]
     },
     "execution_count": 60,
     "metadata": {},
     "output_type": "execute_result"
    }
   ],
   "source": [
    "df.apply(lambda row: groessere_zahl(row['Punkte'], row['Coolness_Punkte']), axis=1).head()"
   ]
  },
  {
   "cell_type": "markdown",
   "metadata": {},
   "source": [
    "### Im Detail... was hat es genau mit diesem Lambda auf sich?"
   ]
  },
  {
   "cell_type": "markdown",
   "metadata": {},
   "source": [
    " https://www.programiz.com/python-programming/anonymous-function"
   ]
  },
  {
   "cell_type": "markdown",
   "metadata": {},
   "source": [
    "=> Eine Funktion, die keinen Namen trägt! (würde DJ Ötzi sagen)"
   ]
  },
  {
   "cell_type": "code",
   "execution_count": 61,
   "metadata": {},
   "outputs": [
    {
     "data": {
      "text/plain": [
       "7"
      ]
     },
     "execution_count": 61,
     "metadata": {},
     "output_type": "execute_result"
    }
   ],
   "source": [
    "(lambda x: x + 5)(2)\n",
    "\n",
    "#normales Vorgehen: def mach_was(x):\n",
    "#                       return x+ 5\n",
    "#\n",
    "# lambda Funktionen können Sinn machen für Funktionen, die gleich anwendbar sein sollen. \n",
    "# ZB Umrechnung von Millionen in Milliarden"
   ]
  },
  {
   "cell_type": "markdown",
   "metadata": {},
   "source": [
    "Der Gag an Lambda-Funktionen ist, dass man Sie im selben Moment definieren und benutzen kann. Den Variablennamen nach dem Lambda können wir frei wählen. noch ein Beispiel für eine Lambda-Funktion, die eine Liste verarbeitet:"
   ]
  },
  {
   "cell_type": "code",
   "execution_count": 62,
   "metadata": {},
   "outputs": [],
   "source": [
    "my_list = [2, 3]"
   ]
  },
  {
   "cell_type": "code",
   "execution_count": 63,
   "metadata": {},
   "outputs": [
    {
     "data": {
      "text/plain": [
       "5"
      ]
     },
     "execution_count": 63,
     "metadata": {},
     "output_type": "execute_result"
    }
   ],
   "source": [
    "(lambda liste: liste[0] + liste[1])(my_list)"
   ]
  },
  {
   "cell_type": "markdown",
   "metadata": {},
   "source": [
    "Wir brauchen diese anonymen Funktionen bei Pandas eigentlich nur im Zusammenspiel mit `apply()` - und zwar genau dann, wenn wir auf alle Elemente in einer Tablle eine bestimmte Funktion anwenden wollen, die mehr als ein Argument braucht."
   ]
  },
  {
   "cell_type": "code",
   "execution_count": 64,
   "metadata": {},
   "outputs": [],
   "source": [
    "df['Groessere Punktzahl'] = df.apply(lambda row: groessere_zahl(row['Punkte'], row['Coolness_Punkte']), axis=1)"
   ]
  },
  {
   "cell_type": "code",
   "execution_count": 65,
   "metadata": {},
   "outputs": [
    {
     "data": {
      "text/html": [
       "<div>\n",
       "<style scoped>\n",
       "    .dataframe tbody tr th:only-of-type {\n",
       "        vertical-align: middle;\n",
       "    }\n",
       "\n",
       "    .dataframe tbody tr th {\n",
       "        vertical-align: top;\n",
       "    }\n",
       "\n",
       "    .dataframe thead th {\n",
       "        text-align: right;\n",
       "    }\n",
       "</style>\n",
       "<table border=\"1\" class=\"dataframe\">\n",
       "  <thead>\n",
       "    <tr style=\"text-align: right;\">\n",
       "      <th></th>\n",
       "      <th>Rang</th>\n",
       "      <th>Artist</th>\n",
       "      <th>Titel</th>\n",
       "      <th>Eintritt</th>\n",
       "      <th>Wochen</th>\n",
       "      <th>Peak</th>\n",
       "      <th>Punkte</th>\n",
       "      <th>Link</th>\n",
       "      <th>Songtext</th>\n",
       "      <th>Punkte_Formatiert</th>\n",
       "      <th>Anzahl Telefonbucheinträge</th>\n",
       "      <th>Textanalyse</th>\n",
       "      <th>Coolness_Punkte</th>\n",
       "      <th>Groessere Punktzahl</th>\n",
       "    </tr>\n",
       "  </thead>\n",
       "  <tbody>\n",
       "    <tr>\n",
       "      <th>0</th>\n",
       "      <td>1</td>\n",
       "      <td>DJ Ötzi &amp; Nik P.</td>\n",
       "      <td>Ein Stern (... der deinen Namen trägt)</td>\n",
       "      <td>18.02.2007</td>\n",
       "      <td>118</td>\n",
       "      <td>2</td>\n",
       "      <td>8109</td>\n",
       "      <td>/song/DJ-Oetzi-&amp;-Nik-P./Ein-Stern-(...-der-deinen-Namen-traegt)-283118</td>\n",
       "      <td>Einen Stern, der deinen Namen trägt\\nHoch am Himmelszelt\\nDen schenk ich Dir heut' Nacht\\nEinen Stern, der deinen Namen trägt\\nAlle Zeiten überlebt\\nUnd über unsere Liebe wacht\\n\\nSeit Jahren scho...</td>\n",
       "      <td>9018</td>\n",
       "      <td>DJ Ötzi &amp; Nik P.</td>\n",
       "      <td>Einen Stern, der deinen Namen trägt\\nHoch am Himmelszelt\\nDen schenk ich Dir heut' Nacht\\nEinen Stern, der deinen Namen trägt\\nAlle Zeiten überlebt\\nUnd über unsere Liebe wacht\\n\\nSeit Jahren scho...</td>\n",
       "      <td>12272</td>\n",
       "      <td>12272</td>\n",
       "    </tr>\n",
       "    <tr>\n",
       "      <th>1</th>\n",
       "      <td>2</td>\n",
       "      <td>Ed Sheeran</td>\n",
       "      <td>Shape Of You</td>\n",
       "      <td>15.01.2017</td>\n",
       "      <td>93</td>\n",
       "      <td>1</td>\n",
       "      <td>7196</td>\n",
       "      <td>/song/Ed-Sheeran/Shape-Of-You-1622943</td>\n",
       "      <td>The club isn't the best place to find a lover\\nSo the bar is where I go\\nMe and my friends at the table doing shots\\nDrinking fast and then we talk slow\\n\\nCome over and start up a conversation wi...</td>\n",
       "      <td>6917</td>\n",
       "      <td>Ed Shaaran</td>\n",
       "      <td>The club isn't the best place to find a lover\\nSo the bar is where I go\\nMe and my friends at the table doing shots\\nDrinking fast and then we talk slow\\n\\nCome over and start up a conversation wi...</td>\n",
       "      <td>4836</td>\n",
       "      <td>7196</td>\n",
       "    </tr>\n",
       "    <tr>\n",
       "      <th>2</th>\n",
       "      <td>3</td>\n",
       "      <td>Luis Fonsi feat. Daddy Yankee</td>\n",
       "      <td>Despacito</td>\n",
       "      <td>22.01.2017</td>\n",
       "      <td>90</td>\n",
       "      <td>1</td>\n",
       "      <td>6854</td>\n",
       "      <td>/song/Luis-Fonsi-feat.-Daddy-Yankee/Despacito-1625640</td>\n",
       "      <td>Ay\\nFonsi, DY\\nOh, oh no, oh no (ey)\\nHey, yeah, diri-diri-diriridi, Daddy, go!\\n\\nSí, sabes que ya llevo un rato mirándote\\nTengo que bailar contigo hoy (DY)\\nVi que tu mirada ya estaba llamándom...</td>\n",
       "      <td>4586</td>\n",
       "      <td>Laes Fonse faet. Deddy Yenkaa</td>\n",
       "      <td>Ay\\nFonsi, DY\\nOh, oh no, oh no (ey)\\nHey, yeah, diri-diri-diriridi, Daddy, go!\\n\\nSí, sabes que ya llevo un rato mirándote\\nTengo que bailar contigo hoy (DY)\\nVi que tu mirada ya estaba llamándom...</td>\n",
       "      <td>4680</td>\n",
       "      <td>6854</td>\n",
       "    </tr>\n",
       "    <tr>\n",
       "      <th>3</th>\n",
       "      <td>4</td>\n",
       "      <td>DJ Antoine feat. The Beat Shakers</td>\n",
       "      <td>\"Ma chérie\"</td>\n",
       "      <td>06.06.2010</td>\n",
       "      <td>99</td>\n",
       "      <td>2</td>\n",
       "      <td>6745</td>\n",
       "      <td>/song/DJ-Antoine-feat.-The-Beat-Shakers/Ma-cherie-711060</td>\n",
       "      <td>When I look into your eyes\\nI see rainbows in the skies.\\nBaby when you're close to me\\nI know you are ma cherie.\\n\\nWe are gonna dance into the sea\\nAll I want is you - you're ma cherie\\nNever se...</td>\n",
       "      <td>5476</td>\n",
       "      <td>DJ Antoana faat. Tha Baat Shakars</td>\n",
       "      <td>When I look into your eyes\\nI see rainbows in the skies.\\nBaby when you're close to me\\nI know you are ma cherie.\\n\\nWe are gonna dance into the sea\\nAll I want is you - you're ma cherie\\nNever se...</td>\n",
       "      <td>10296</td>\n",
       "      <td>10296</td>\n",
       "    </tr>\n",
       "    <tr>\n",
       "      <th>4</th>\n",
       "      <td>5</td>\n",
       "      <td>Adele</td>\n",
       "      <td>Rolling In The Deep</td>\n",
       "      <td>30.01.2011</td>\n",
       "      <td>93</td>\n",
       "      <td>1</td>\n",
       "      <td>6588</td>\n",
       "      <td>/song/Adele/Rolling-In-The-Deep-767937</td>\n",
       "      <td>There's a fire starting in my heart\\nReaching a fever pitch and it's bring me out the dark\\nFinally, I can see you crystal clear\\nGo ahead and sell me out and I'll lay your ship bare\\n\\nSee how I'...</td>\n",
       "      <td>8856</td>\n",
       "      <td>Adele</td>\n",
       "      <td>There's a fire starting in my heart\\nReaching a fever pitch and it's bring me out the dark\\nFinally, I can see you crystal clear\\nGo ahead and sell me out and I'll lay your ship bare\\n\\nSee how I'...</td>\n",
       "      <td>4836</td>\n",
       "      <td>6588</td>\n",
       "    </tr>\n",
       "    <tr>\n",
       "      <th>5</th>\n",
       "      <td>6</td>\n",
       "      <td>John Legend</td>\n",
       "      <td>All Of Me</td>\n",
       "      <td>02.02.2014</td>\n",
       "      <td>97</td>\n",
       "      <td>1</td>\n",
       "      <td>6547</td>\n",
       "      <td>/song/John-Legend/All-Of-Me-1183051</td>\n",
       "      <td>What would I do without your smart mouth?\\nDrawing me in, and you kicking me out\\nYou've got my head spinning, no kidding, I can't pin you down\\nWhat's going on in that beautiful mind\\nI'm on your...</td>\n",
       "      <td>7456</td>\n",
       "      <td>Jehn Legend</td>\n",
       "      <td>What would I do without your smart mouth?\\nDrawing me in, and you kicking me out\\nYou've got my head spinning, no kidding, I can't pin you down\\nWhat's going on in that beautiful mind\\nI'm on your...</td>\n",
       "      <td>5044</td>\n",
       "      <td>6547</td>\n",
       "    </tr>\n",
       "    <tr>\n",
       "      <th>6</th>\n",
       "      <td>7</td>\n",
       "      <td>Amy Macdonald</td>\n",
       "      <td>This Is The Life</td>\n",
       "      <td>23.03.2008</td>\n",
       "      <td>94</td>\n",
       "      <td>2</td>\n",
       "      <td>6125</td>\n",
       "      <td>/song/Amy-Macdonald/This-Is-The-Life-349688</td>\n",
       "      <td>Oh the wind whistles down\\nThe cold dark street tonight\\nAnd the people they were dancing to the music vibe\\nAnd the boys chase the girls with the curls in their hair\\n\\nWhile the shy tormented yo...</td>\n",
       "      <td>5216</td>\n",
       "      <td>Amy Macdonald</td>\n",
       "      <td>Oh the wind whistles down\\nThe cold dark street tonight\\nAnd the people they were dancing to the music vibe\\nAnd the boys chase the girls with the curls in their hair\\n\\nWhile the shy tormented yo...</td>\n",
       "      <td>9776</td>\n",
       "      <td>9776</td>\n",
       "    </tr>\n",
       "    <tr>\n",
       "      <th>7</th>\n",
       "      <td>8</td>\n",
       "      <td>The Black Eyed Peas</td>\n",
       "      <td>I Gotta Feeling</td>\n",
       "      <td>19.07.2009</td>\n",
       "      <td>87</td>\n",
       "      <td>1</td>\n",
       "      <td>6085</td>\n",
       "      <td>/song/The-Black-Eyed-Peas/I-Gotta-Feeling-584715</td>\n",
       "      <td>I gotta feeling\\nThat tonight's gonna be a good night\\nThat tonight's gonna be a good night\\nThat tonight's gonna be a good, good night\\n\\nA feeling\\nThat tonight's gonna be a good night\\nThat ton...</td>\n",
       "      <td>5806</td>\n",
       "      <td>Tha Black Eyad Paas</td>\n",
       "      <td>I gotta feeling\\nThat tonight's gonna be a good night\\nThat tonight's gonna be a good night\\nThat tonight's gonna be a good, good night\\n\\nA feeling\\nThat tonight's gonna be a good night\\nThat ton...</td>\n",
       "      <td>4524</td>\n",
       "      <td>6085</td>\n",
       "    </tr>\n",
       "    <tr>\n",
       "      <th>8</th>\n",
       "      <td>9</td>\n",
       "      <td>Shakira feat. Freshlyground</td>\n",
       "      <td>Waka Waka (This Time For Africa)</td>\n",
       "      <td>23.05.2010</td>\n",
       "      <td>86</td>\n",
       "      <td>1</td>\n",
       "      <td>6004</td>\n",
       "      <td>/song/Shakira-feat.-Freshlyground/Waka-Waka-(This-Time-For-Africa)-700659</td>\n",
       "      <td>You're a good soldier\\nChoosing your battles\\nPick yourself up\\nDust yourself off\\nAnd get back in the saddle\\n\\nYou're on the front line\\nEveryone's watching\\nYou know it's serious\\nWe are gettin...</td>\n",
       "      <td>4006</td>\n",
       "      <td>Shakira faat. Frashlygraind</td>\n",
       "      <td>You're a good soldier\\nChoosing your battles\\nPick yourself up\\nDust yourself off\\nAnd get back in the saddle\\n\\nYou're on the front line\\nEveryone's watching\\nYou know it's serious\\nWe are gettin...</td>\n",
       "      <td>4472</td>\n",
       "      <td>6004</td>\n",
       "    </tr>\n",
       "    <tr>\n",
       "      <th>9</th>\n",
       "      <td>10</td>\n",
       "      <td>Guru Josh Project</td>\n",
       "      <td>Infinity 2008</td>\n",
       "      <td>28.09.2008</td>\n",
       "      <td>85</td>\n",
       "      <td>2</td>\n",
       "      <td>6001</td>\n",
       "      <td>/song/Guru-Josh-Project/Infinity-2008-484499</td>\n",
       "      <td>Here's my key\\nPhilosophy\\nA freak like me\\nJust needs infinity\\n\\nRelax\\nTake your time\\n\\nAnd take your time\\nTo trust in me\\nAnd you will find\\nInfinity, infinity\\n\\nAnd take your time\\nTo trus...</td>\n",
       "      <td>1006</td>\n",
       "      <td>Guru Jish Priject</td>\n",
       "      <td>Here's my key\\nPhilosophy\\nA freak like me\\nJust needs infinity\\n\\nRelax\\nTake your time\\n\\nAnd take your time\\nTo trust in me\\nAnd you will find\\nInfinity, infinity\\n\\nAnd take your time\\nTo trus...</td>\n",
       "      <td>8840</td>\n",
       "      <td>8840</td>\n",
       "    </tr>\n",
       "  </tbody>\n",
       "</table>\n",
       "</div>"
      ],
      "text/plain": [
       "   Rang                             Artist  \\\n",
       "0     1                   DJ Ötzi & Nik P.   \n",
       "1     2                         Ed Sheeran   \n",
       "2     3      Luis Fonsi feat. Daddy Yankee   \n",
       "3     4  DJ Antoine feat. The Beat Shakers   \n",
       "4     5                              Adele   \n",
       "5     6                        John Legend   \n",
       "6     7                      Amy Macdonald   \n",
       "7     8                The Black Eyed Peas   \n",
       "8     9        Shakira feat. Freshlyground   \n",
       "9    10                  Guru Josh Project   \n",
       "\n",
       "                                    Titel    Eintritt  Wochen  Peak  Punkte  \\\n",
       "0  Ein Stern (... der deinen Namen trägt)  18.02.2007     118     2    8109   \n",
       "1                            Shape Of You  15.01.2017      93     1    7196   \n",
       "2                               Despacito  22.01.2017      90     1    6854   \n",
       "3                             \"Ma chérie\"  06.06.2010      99     2    6745   \n",
       "4                     Rolling In The Deep  30.01.2011      93     1    6588   \n",
       "5                               All Of Me  02.02.2014      97     1    6547   \n",
       "6                        This Is The Life  23.03.2008      94     2    6125   \n",
       "7                         I Gotta Feeling  19.07.2009      87     1    6085   \n",
       "8        Waka Waka (This Time For Africa)  23.05.2010      86     1    6004   \n",
       "9                           Infinity 2008  28.09.2008      85     2    6001   \n",
       "\n",
       "                                                                        Link  \\\n",
       "0     /song/DJ-Oetzi-&-Nik-P./Ein-Stern-(...-der-deinen-Namen-traegt)-283118   \n",
       "1                                      /song/Ed-Sheeran/Shape-Of-You-1622943   \n",
       "2                      /song/Luis-Fonsi-feat.-Daddy-Yankee/Despacito-1625640   \n",
       "3                   /song/DJ-Antoine-feat.-The-Beat-Shakers/Ma-cherie-711060   \n",
       "4                                     /song/Adele/Rolling-In-The-Deep-767937   \n",
       "5                                        /song/John-Legend/All-Of-Me-1183051   \n",
       "6                                /song/Amy-Macdonald/This-Is-The-Life-349688   \n",
       "7                           /song/The-Black-Eyed-Peas/I-Gotta-Feeling-584715   \n",
       "8  /song/Shakira-feat.-Freshlyground/Waka-Waka-(This-Time-For-Africa)-700659   \n",
       "9                               /song/Guru-Josh-Project/Infinity-2008-484499   \n",
       "\n",
       "                                                                                                                                                                                                  Songtext  \\\n",
       "0  Einen Stern, der deinen Namen trägt\\nHoch am Himmelszelt\\nDen schenk ich Dir heut' Nacht\\nEinen Stern, der deinen Namen trägt\\nAlle Zeiten überlebt\\nUnd über unsere Liebe wacht\\n\\nSeit Jahren scho...   \n",
       "1  The club isn't the best place to find a lover\\nSo the bar is where I go\\nMe and my friends at the table doing shots\\nDrinking fast and then we talk slow\\n\\nCome over and start up a conversation wi...   \n",
       "2  Ay\\nFonsi, DY\\nOh, oh no, oh no (ey)\\nHey, yeah, diri-diri-diriridi, Daddy, go!\\n\\nSí, sabes que ya llevo un rato mirándote\\nTengo que bailar contigo hoy (DY)\\nVi que tu mirada ya estaba llamándom...   \n",
       "3  When I look into your eyes\\nI see rainbows in the skies.\\nBaby when you're close to me\\nI know you are ma cherie.\\n\\nWe are gonna dance into the sea\\nAll I want is you - you're ma cherie\\nNever se...   \n",
       "4  There's a fire starting in my heart\\nReaching a fever pitch and it's bring me out the dark\\nFinally, I can see you crystal clear\\nGo ahead and sell me out and I'll lay your ship bare\\n\\nSee how I'...   \n",
       "5  What would I do without your smart mouth?\\nDrawing me in, and you kicking me out\\nYou've got my head spinning, no kidding, I can't pin you down\\nWhat's going on in that beautiful mind\\nI'm on your...   \n",
       "6  Oh the wind whistles down\\nThe cold dark street tonight\\nAnd the people they were dancing to the music vibe\\nAnd the boys chase the girls with the curls in their hair\\n\\nWhile the shy tormented yo...   \n",
       "7  I gotta feeling\\nThat tonight's gonna be a good night\\nThat tonight's gonna be a good night\\nThat tonight's gonna be a good, good night\\n\\nA feeling\\nThat tonight's gonna be a good night\\nThat ton...   \n",
       "8  You're a good soldier\\nChoosing your battles\\nPick yourself up\\nDust yourself off\\nAnd get back in the saddle\\n\\nYou're on the front line\\nEveryone's watching\\nYou know it's serious\\nWe are gettin...   \n",
       "9  Here's my key\\nPhilosophy\\nA freak like me\\nJust needs infinity\\n\\nRelax\\nTake your time\\n\\nAnd take your time\\nTo trust in me\\nAnd you will find\\nInfinity, infinity\\n\\nAnd take your time\\nTo trus...   \n",
       "\n",
       "   Punkte_Formatiert         Anzahl Telefonbucheinträge  \\\n",
       "0               9018                   DJ Ötzi & Nik P.   \n",
       "1               6917                         Ed Shaaran   \n",
       "2               4586      Laes Fonse faet. Deddy Yenkaa   \n",
       "3               5476  DJ Antoana faat. Tha Baat Shakars   \n",
       "4               8856                              Adele   \n",
       "5               7456                        Jehn Legend   \n",
       "6               5216                      Amy Macdonald   \n",
       "7               5806                Tha Black Eyad Paas   \n",
       "8               4006        Shakira faat. Frashlygraind   \n",
       "9               1006                  Guru Jish Priject   \n",
       "\n",
       "                                                                                                                                                                                               Textanalyse  \\\n",
       "0  Einen Stern, der deinen Namen trägt\\nHoch am Himmelszelt\\nDen schenk ich Dir heut' Nacht\\nEinen Stern, der deinen Namen trägt\\nAlle Zeiten überlebt\\nUnd über unsere Liebe wacht\\n\\nSeit Jahren scho...   \n",
       "1  The club isn't the best place to find a lover\\nSo the bar is where I go\\nMe and my friends at the table doing shots\\nDrinking fast and then we talk slow\\n\\nCome over and start up a conversation wi...   \n",
       "2  Ay\\nFonsi, DY\\nOh, oh no, oh no (ey)\\nHey, yeah, diri-diri-diriridi, Daddy, go!\\n\\nSí, sabes que ya llevo un rato mirándote\\nTengo que bailar contigo hoy (DY)\\nVi que tu mirada ya estaba llamándom...   \n",
       "3  When I look into your eyes\\nI see rainbows in the skies.\\nBaby when you're close to me\\nI know you are ma cherie.\\n\\nWe are gonna dance into the sea\\nAll I want is you - you're ma cherie\\nNever se...   \n",
       "4  There's a fire starting in my heart\\nReaching a fever pitch and it's bring me out the dark\\nFinally, I can see you crystal clear\\nGo ahead and sell me out and I'll lay your ship bare\\n\\nSee how I'...   \n",
       "5  What would I do without your smart mouth?\\nDrawing me in, and you kicking me out\\nYou've got my head spinning, no kidding, I can't pin you down\\nWhat's going on in that beautiful mind\\nI'm on your...   \n",
       "6  Oh the wind whistles down\\nThe cold dark street tonight\\nAnd the people they were dancing to the music vibe\\nAnd the boys chase the girls with the curls in their hair\\n\\nWhile the shy tormented yo...   \n",
       "7  I gotta feeling\\nThat tonight's gonna be a good night\\nThat tonight's gonna be a good night\\nThat tonight's gonna be a good, good night\\n\\nA feeling\\nThat tonight's gonna be a good night\\nThat ton...   \n",
       "8  You're a good soldier\\nChoosing your battles\\nPick yourself up\\nDust yourself off\\nAnd get back in the saddle\\n\\nYou're on the front line\\nEveryone's watching\\nYou know it's serious\\nWe are gettin...   \n",
       "9  Here's my key\\nPhilosophy\\nA freak like me\\nJust needs infinity\\n\\nRelax\\nTake your time\\n\\nAnd take your time\\nTo trust in me\\nAnd you will find\\nInfinity, infinity\\n\\nAnd take your time\\nTo trus...   \n",
       "\n",
       "   Coolness_Punkte  Groessere Punktzahl  \n",
       "0            12272                12272  \n",
       "1             4836                 7196  \n",
       "2             4680                 6854  \n",
       "3            10296                10296  \n",
       "4             4836                 6588  \n",
       "5             5044                 6547  \n",
       "6             9776                 9776  \n",
       "7             4524                 6085  \n",
       "8             4472                 6004  \n",
       "9             8840                 8840  "
      ]
     },
     "execution_count": 65,
     "metadata": {},
     "output_type": "execute_result"
    }
   ],
   "source": [
    "df.head(10)"
   ]
  },
  {
   "cell_type": "code",
   "execution_count": null,
   "metadata": {
    "collapsed": true
   },
   "outputs": [],
   "source": []
  }
 ],
 "metadata": {
  "kernelspec": {
   "display_name": "Python 3",
   "language": "python",
   "name": "python3"
  },
  "language_info": {
   "codemirror_mode": {
    "name": "ipython",
    "version": 3
   },
   "file_extension": ".py",
   "mimetype": "text/x-python",
   "name": "python",
   "nbconvert_exporter": "python",
   "pygments_lexer": "ipython3",
   "version": "3.7.0"
  }
 },
 "nbformat": 4,
 "nbformat_minor": 2
}
