{
 "cells": [
  {
   "cell_type": "markdown",
   "metadata": {},
   "source": [
    "# Named Entities Recognition with NLTK\n",
    "- Named entities sind Orte, Firmen, Organisationen, Länder, etc.. alles Eigennamen. \n",
    "- Oft sind diese Eigennamen relativ wichtig im Text. "
   ]
  },
  {
   "cell_type": "code",
   "execution_count": 10,
   "metadata": {},
   "outputs": [
    {
     "name": "stderr",
     "output_type": "stream",
     "text": [
      "[nltk_data] Downloading package averaged_perceptron_tagger to\n",
      "[nltk_data]     /Users/priskawa/nltk_data...\n",
      "[nltk_data]   Package averaged_perceptron_tagger is already up-to-\n",
      "[nltk_data]       date!\n",
      "[nltk_data] Downloading package maxent_ne_chunker to\n",
      "[nltk_data]     /Users/priskawa/nltk_data...\n",
      "[nltk_data]   Unzipping chunkers/maxent_ne_chunker.zip.\n",
      "[nltk_data] Downloading package words to /Users/priskawa/nltk_data...\n",
      "[nltk_data]   Unzipping corpora/words.zip.\n"
     ]
    },
    {
     "name": "stdout",
     "output_type": "stream",
     "text": [
      "(S\n",
      "  (PERSON John/NNP)\n",
      "  (PERSON Smith/NNP)\n",
      "  is/VBZ\n",
      "  from/IN\n",
      "  the/DT\n",
      "  (GPE United/NNP States/NNPS)\n",
      "  of/IN\n",
      "  (GPE America/NNP)\n",
      "  and/CC\n",
      "  works/VBZ\n",
      "  at/IN\n",
      "  (ORGANIZATION Microsoft/NNP Research/NNP Labs/NNP))\n"
     ]
    }
   ],
   "source": [
    "import nltk\n",
    "nltk.download('averaged_perceptron_tagger')\n",
    "nltk.download('maxent_ne_chunker')\n",
    "nltk.download('words')\n",
    "print(nltk.ne_chunk(nltk.pos_tag(nltk.word_tokenize(\"John Smith is from the United States of America and works at Microsoft Research Labs\"))))"
   ]
  },
  {
   "cell_type": "code",
   "execution_count": 11,
   "metadata": {},
   "outputs": [
    {
     "name": "stdout",
     "output_type": "stream",
     "text": [
      "(S\n",
      "  (PERSON Johan/NNP)\n",
      "  (PERSON Meier/NNP)\n",
      "  kommt/NNP\n",
      "  aus/NN\n",
      "  (GPE Deutschland/NNP)\n",
      "  und/NN\n",
      "  arbeitet/NN\n",
      "  bei/NN\n",
      "  der/NN\n",
      "  (ORGANIZATION Forschungsabteilung/NNP)\n",
      "  von/NNP\n",
      "  Microsoft/NNP)\n"
     ]
    }
   ],
   "source": [
    "print(nltk.ne_chunk(nltk.pos_tag(nltk.word_tokenize(\"Johan Meier kommt aus Deutschland und arbeitet bei der Forschungsabteilung von Microsoft\"))))"
   ]
  },
  {
   "cell_type": "markdown",
   "metadata": {},
   "source": [
    "# Named Entities Recognition as a Service\n",
    "- Extrahieren von wichtigen sog. Named entities (cities, persons, etc..)\n",
    "- http://www.opencalais.com/opencalais-api/\n",
    "- http://www.opencalais.com/wp-content/uploads/folder/ThomsonReutersOpenCalaisAPIUserGuideR12_1.pdf\n",
    "- Super praktisch wenn man sehr viele Dokumente hat und aggregiert sehen möchte worüber gesprochen wird...."
   ]
  },
  {
   "cell_type": "markdown",
   "metadata": {},
   "source": [
    "### Aufgabe\n",
    "Holt euch den text von http://www.spiegel.de/politik/ausland/brexit-das-endspiel-hat-begonnen-a-1238299.html mit dem readability tool."
   ]
  },
  {
   "cell_type": "code",
   "execution_count": 12,
   "metadata": {},
   "outputs": [],
   "source": [
    "text = '''Brexit: Das Endspiel hat begonnen\n",
    "By Von Peter Müller und Jörg Schindler, Brüssel und London|Nov. 14th, 2018\n",
    "\n",
    "Send to Kindle\n",
    "Mittwoch, 14.11.2018   10:36 Uhr\n",
    "\n",
    "\n",
    "Bei den Brexit-Verhandlungen ist offenbar ein entscheidendes Zwischenziel erreicht worden. Nachdem die britische Regierung am Dienstag verkündete, es gebe eine Einigung mit Brüssel, mehrten sich auch in der EU-Hauptstadt die Anzeichen, dass die Unterhändler von EU und Großbritannien auf technischer Ebene ein belastbares Papier erarbeitet haben.\n",
    "\n",
    "Am Mittwoch will die Premierministerin Theresa May nun ihr Kabinett auf die Brüsseler Übereinkunft einschwören.\n",
    "\n",
    "Der Fraktionschef der Europäischen Volkspartei, Manfred Weber, sagte in den ARD-\"Tagesthemen\", es gebe \"positive Signale\", dass es zu einer Einigung komme: \"Ja, der weiße Rauch steigt auf.\" Eine offizielle Bestätigung für einen Deal gab es von den Unterhändlern aus Brüssel zunächst nicht. Allerdings wollen die Botschafter der 27 restlichen EU-Länder am Mittwoch über einen Zeitplan bis zu einem möglichen Sondergipfel am Ende des Monats beraten, ein Vorhaben, das sinnlos wäre, wenn es keinen Grund für vorsichtigen Optimismus gäbe.\n",
    "\n",
    "Mittwoch Gespräche im Kabinett, bei Erfolg: Sondergipfel am 25. November\n",
    "\n",
    "Zuletzt waren die Gespräche bis tief in die Nacht im sogenannten Tunnel geführt worden, unter maximaler Geheimhaltung und mit der gegenseitigen Zusicherung, dass nichts davon vorzeitig nach außen dringt. Dann, am frühen Dienstagabend, bestätigte ein Sprecher Mays, dass tatsächlich ein Vertragsentwurf vorliege.\n",
    "\n",
    "Die Premierministerin habe ihr Kabinett für Mittwoch, 14 Uhr Ortszeit, zu einer außerordentlichen Sitzung einbestellt. Ihr Ziel ist, möglichst noch am Mittwoch verkünden zu können, dass ihre Regierung weitgehend geschlossen hinter der mit Brüssel getroffenen Vereinbarung steht. Danach würde umgehend ein EU-Sondergipfel, vermutlich für den 25. November, einberufen.\n",
    "\n",
    "Wird May das Ergebnis der Unterhändler diesmal zu Hause durchsetzen?\n",
    "\n",
    "In Brüssel ist man hingegen vorsichtig mit dem Wort Einigung. Es gebe einen Text, auf den sich die Unterhändler geeinigt hätten, politisch sei der aber noch nicht abgesegnet, sagen mit der Angelegenheit vertraute EU-Diplomaten. Nun liege der Ball, mal wieder, in London. Eine ähnliche Situation hatte es bereits vor rund vier Wochen gegeben, als die Unterhändler in Brüssel ebenfalls weit gekommen waren, 10 Downing Street aber in letzter Sekunde den Stecker zog, weil May das Ergebnis in London nicht durchsetzen konnte.\n",
    "\n",
    "Trotzdem bereitet auch die EU nun die Grundlagen für einen Sondergipfel vor, auf dem May für das Publikum auf der Insel ausreichend Verhandlungsdramatik inszenieren könnte. Die Sitzung der Botschafter der 27 verbleibenden EU-Länder am Mittwochnachmittag wurde um den Tagesordnungspunkt \"State of Play\" erweitert, es geht also um den Stand der Brexit-Verhandlungen.\n",
    "\n",
    "Ursprünglich wollte man lediglich über die Vorbereitungen für den Fall beraten, dass es zu keiner Einigung kommt. Geht die Besprechung positiv aus, könnte bereits Anfang kommender Woche ein sogenannter Allgemeiner Rat der Europaminister einberufen werden, der den Sondergipfel der Staats- und Regierungschefs vorbereitet. Noch sind diese Planungen im Konjunktiv.\n",
    "\n",
    "Umweltminister Michael Gove\n",
    "REUTERS\n",
    "\n",
    "Umweltminister Michael Gove\n",
    "\n",
    "400-Seiten-Lektüre der Minister in 10 Downing Street\n",
    "\n",
    "Alles hängt nun von den Signalen aus London ab. Ob es May gelingt, ihr Kabinett hinter dem Brüsseler Papier zu versammeln, ist offen. Sämtliche Minister wurden am Dienstag nacheinander in 10 Downing Street einbestellt, um den etwa 400 Seiten umfassenden Vertragsentwurf studieren zu können. Darunter auch jene politischen Schwergewichte, von deren Urteil das weitere Schicksal des Brexits - und Mays - abhängt, allen voran Innenminister Sajid Javid, Außenminister Jeremy Hunt und Umweltminister Michael Gove. Allen drei werden Ambitionen nachgesagt, May eher früher als später auf dem Londoner Chefsessel abzulösen.\n",
    "\n",
    "Die Kernfrage, um die sich alles dreht, ist, ob es May gelungen ist, der EU ein weiteres entscheidendes Zugeständnis im Problemfall Irland abzuringen. Um nach dem Brexit sichtbare Waren- und Zollkontrollen an der irisch-nordirischen Grenze zu verhindern, hatten sich London und Brüssel schon vor Wochen darauf geeinigt, dass das Vereinigte Königreich bis zum Abschluss eines Freihandelsvertrags in der Zollunion mit der EU verbleiben kann.\n",
    "\n",
    "Für May diente dies auch dazu, eine Sonderregel für Nordirland zu verschleiern, den sogenannten Backstop. Sprachlich ist die EU May dabei offenbar weit entgegengekommen, in der Sache aber weniger. Die EU besteht weiter auf diese Notfallregel, nach der Nordirland in Zollunion im Binnenmarkt bleiben soll, und die dann in Kraft treten soll, wenn bei den Verhandlungen über die künftigen Beziehungen keine bessere Lösung gefunden werden kann.\n",
    "\n",
    "Entscheidende Feuerprobe: Die Abstimmung im britischen Parlament\n",
    "\n",
    "London drängte jedoch stets darauf, dass es diese Auffangregeln einseitig beenden kann. Brüssel bestand umgekehrt darauf, dass dies nur mit seiner Zustimmung geschehen könne und dass das letzte Wort der bei Brexiteers so verhasste Europäische Gerichtshof haben müsse. Am Ende zäher Verhandlungen waren dies die letzten verbliebenen Streitpunkte. Mehrere EU-Länder zeigten sich bei den vergangenen Botschaftertreffen auch besorgt darüber, dass sich das Vereinigte Königreich in einer Zollunion Sonderrechte herausnehmen und EU-Standards etwa beim Umweltschutz oder der Sozialpolitik unterbieten könnte.\n",
    "\n",
    "Dazu kommt: Selbst wenn es May mit der nun getroffenen Vereinbarung gelingen sollte, ihr Kabinett ohne weitere nennenswerte Rücktritte hinter sich zu vereinen und selbst wenn ein EU-Sondergipfel Ende November den Deal absegnen sollte, steht die entscheidende Feuerprobe noch aus.\n",
    "\n",
    "\"May hat keine Chance, irgendetwas durchs Parlament zu bekommen\"\n",
    "\n",
    "Voraussichtlich Mitte Dezember würde May die Vereinbarung dem britischen Parlament zur Abstimmung vorlegen müssen. 320 Stimmen wird sie dort brauchen. Ihre eigene Partei kommt jedoch nur auf 318 Abgeordnete, die Premierministerin ist daher auf zehn Stimmen der ultranationalistischen nordirischen DUP angewiesen. Diese hat bereits erkennen lassen, dass sie keinem Deal zustimmen wird, der Nordirland nach dem Brexit einen Sonderstatus innerhalb des Königreichs zuweise.\n",
    "\n",
    "Zudem wird May in ihrer eigenen Partei von beiden Seiten massiv unter Druck gesetzt: Sture EU-Feinde lehnen im Prinzip jeden Kompromiss mit der EU ab, passionierte EU-Freunde hoffen, den Brexit noch komplett verhindern zu können. Dass ausreichend viele Abgeordnete der Opposition May notfalls zur Seite springen könnten, gilt als wenig wahrscheinlich.\n",
    "\n",
    "Am Dienstag gab sich einer der erbittertsten Brexit-Ultras, der konservative Ex-Staatsminister Steve Baker, denn auch siegesgewiss. Dem SPIEGEL sagte er: \"Die Premierministerin hat keine Chance, irgendetwas durchs Parlament zu bekommen.\"\n",
    "\n",
    "\n",
    "'''"
   ]
  },
  {
   "cell_type": "code",
   "execution_count": 14,
   "metadata": {},
   "outputs": [
    {
     "name": "stdout",
     "output_type": "stream",
     "text": [
      "Collecting httplib2\n",
      "\u001b[?25l  Downloading https://files.pythonhosted.org/packages/ce/ed/803905d670b52fa0edfdd135337e545b4496c2ab3a222f1449b7256eb99f/httplib2-0.12.0.tar.gz (218kB)\n",
      "\u001b[K    100% |████████████████████████████████| 225kB 564kB/s ta 0:00:01\n",
      "\u001b[?25hBuilding wheels for collected packages: httplib2\n",
      "  Running setup.py bdist_wheel for httplib2 ... \u001b[?25ldone\n",
      "\u001b[?25h  Stored in directory: /Users/priskawa/Library/Caches/pip/wheels/6d/41/4b/2b369d6e2b7eaebcdd423516d3fb659c7658c16a2be8fd04ec\n",
      "Successfully built httplib2\n",
      "Installing collected packages: httplib2\n",
      "Successfully installed httplib2-0.12.0\n"
     ]
    }
   ],
   "source": [
    "! pip install httplib2"
   ]
  },
  {
   "cell_type": "code",
   "execution_count": 15,
   "metadata": {},
   "outputs": [],
   "source": [
    "import httplib2\n",
    "import json\n",
    "LOCAL_API_KEY = 's8kVFJoL3LFkMtPfBJKrJAF8BgJ7g85E' # Aquire this by registering at the Calais site\n",
    "CALAIS_TAG_API = 'https://api.thomsonreuters.com/permid/calais'\n",
    "headers = {\n",
    "    'X-AG-Access-Token': LOCAL_API_KEY,\n",
    "    'content-type': 'text/raw',\n",
    "    'outputformat': 'application/json'\n",
    "}\n",
    "http = httplib2.Http()\n",
    "response, content = http.request(CALAIS_TAG_API, 'POST', headers=headers, body=text)\n",
    "jcontent = json.loads(content.decode()) # Parse the json return into a python dict"
   ]
  },
  {
   "cell_type": "code",
   "execution_count": 16,
   "metadata": {},
   "outputs": [
    {
     "data": {
      "text/plain": [
       "{'contentType': 'text/raw',\n",
       " 'processingVer': 'AllMetadata',\n",
       " 'serverVersion': 'OneCalais_12.1-RELEASE:26',\n",
       " 'submissionDate': '2018-11-20 10:17:46.090',\n",
       " 'truncatedTextLength': '6935',\n",
       " 'submitterCode': '0ca6a864-5659-789d-5f32-f365f695e757',\n",
       " 'signature': 'digestalg-1|VmeRHlAbfabtEhoV/MWHE3KmpDE=|LV2tYS44qnHf1qe0D1/T6ABOr1YxBZNqqnKOe/ZaYoMptRECSS4nrQ==',\n",
       " 'language': 'German'}"
      ]
     },
     "execution_count": 16,
     "metadata": {},
     "output_type": "execute_result"
    }
   ],
   "source": [
    "jcontent[\"doc\"][\"meta\"]"
   ]
  },
  {
   "cell_type": "code",
   "execution_count": 21,
   "metadata": {},
   "outputs": [
    {
     "data": {
      "text/plain": [
       "{u'_type': u'Company',\n",
       " u'_typeGroup': u'entities',\n",
       " u'_typeReference': u'http://s.opencalais.com/1/type/em/e/Company',\n",
       " u'confidence': {u'aggregate': u'0.725',\n",
       "  u'dblookup': u'0.0',\n",
       "  u'resolution': u'0.030060718',\n",
       "  u'statisticalfeature': u'0.887'},\n",
       " u'confidencelevel': u'0.725',\n",
       " u'forenduserdisplay': u'false',\n",
       " u'instances': [{u'detection': u'[also asked police to investigate whether ]Nordea Bank[, with 11 million customers, had complied with]',\n",
       "   u'exact': u'Nordea Bank',\n",
       "   u'length': 11,\n",
       "   u'offset': 2927,\n",
       "   u'prefix': u'also asked police to investigate whether ',\n",
       "   u'suffix': u', with 11 million customers, had complied with'}],\n",
       " u'name': u'Nordea Bank',\n",
       " u'nationality': u'N/A',\n",
       " u'recognizedas': u'name',\n",
       " u'relevance': 0.2,\n",
       " u'resolutions': [{u'commonname': u'Nordea Bank',\n",
       "   u'id': u'https://permid.org/1-4297060884',\n",
       "   u'ispublic': u'false',\n",
       "   u'name': u'Nordea Bank',\n",
       "   u'permid': u'4297060884',\n",
       "   u'score': 0.030060718}]}"
      ]
     },
     "execution_count": 21,
     "metadata": {},
     "output_type": "execute_result"
    }
   ],
   "source": [
    "jcontent[\"http://d.opencalais.com/comphash-1/559b47bc-c90a-3a9e-9ef1-6f71b9e4447a\"]"
   ]
  },
  {
   "cell_type": "code",
   "execution_count": 19,
   "metadata": {},
   "outputs": [
    {
     "name": "stdout",
     "output_type": "stream",
     "text": [
      "No name present for entity doc\n",
      "No name present for entity http://d.opencalais.com/dochash-1/42943175-ece2-3e5d-8007-0a681622cd55/lid/DefaultLangId\n",
      "No name present for entity http://d.opencalais.com/dochash-1/42943175-ece2-3e5d-8007-0a681622cd55/ComponentVersions\n",
      "Key: http://d.opencalais.com/comphash-1/b5836a8d-785f-3341-aa64-96e9e518127e Type: Schindler Holding AG Name: Company\n"
     ]
    }
   ],
   "source": [
    "for (k,v) in jcontent.items():\n",
    "    try:\n",
    "        print(\"Key: %s Type: %s Name: %s\" % (k,v[\"name\"],v[\"_type\"]))\n",
    "    except:\n",
    "        print(\"No name present for entity %s\" % k)"
   ]
  },
  {
   "cell_type": "markdown",
   "metadata": {},
   "source": [
    "## Aufgabe\n",
    "- Von welchen Ländern und Unternehmen wird vor allem gesprochen?"
   ]
  },
  {
   "cell_type": "code",
   "execution_count": null,
   "metadata": {},
   "outputs": [],
   "source": []
  }
 ],
 "metadata": {
  "kernelspec": {
   "display_name": "Python 3",
   "language": "python",
   "name": "python3"
  },
  "language_info": {
   "codemirror_mode": {
    "name": "ipython",
    "version": 3
   },
   "file_extension": ".py",
   "mimetype": "text/x-python",
   "name": "python",
   "nbconvert_exporter": "python",
   "pygments_lexer": "ipython3",
   "version": "3.7.0"
  }
 },
 "nbformat": 4,
 "nbformat_minor": 2
}
